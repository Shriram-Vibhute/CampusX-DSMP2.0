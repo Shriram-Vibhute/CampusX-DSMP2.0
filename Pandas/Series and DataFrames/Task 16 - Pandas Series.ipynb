{
  "cells": [
    {
      "cell_type": "markdown",
      "metadata": {
        "id": "MetYTZJpYfdz"
      },
      "source": [
        "#### `Q-1:` Write a program to create an empty series."
      ]
    },
    {
      "cell_type": "code",
      "execution_count": 5,
      "metadata": {
        "id": "KUcgT935YgC5"
      },
      "outputs": [
        {
          "data": {
            "text/plain": [
              "Series([], Name: empty_series, dtype: int32)"
            ]
          },
          "execution_count": 5,
          "metadata": {},
          "output_type": "execute_result"
        }
      ],
      "source": [
        "import numpy as np\n",
        "import pandas as pd\n",
        "\n",
        "pd.Series([], dtype = 'int', name = \"empty_series\", index = [])"
      ]
    },
    {
      "cell_type": "markdown",
      "metadata": {
        "id": "jw5ybzU6YhOo"
      },
      "source": [
        "#### `Q-2:` Write a Pandas program to add, subtract, multiple and divide two Pandas Series."
      ]
    },
    {
      "cell_type": "code",
      "execution_count": 6,
      "metadata": {
        "id": "EF3GgVFjYjwG"
      },
      "outputs": [
        {
          "name": "stdout",
          "output_type": "stream",
          "text": [
            "0     2\n",
            "1     4\n",
            "2     6\n",
            "3     8\n",
            "4    10\n",
            "dtype: int64\n",
            "0    0\n",
            "1    0\n",
            "2    0\n",
            "3    0\n",
            "4    0\n",
            "dtype: int64\n",
            "0     1\n",
            "1     4\n",
            "2     9\n",
            "3    16\n",
            "4    25\n",
            "dtype: int64\n",
            "0    1.0\n",
            "1    1.0\n",
            "2    1.0\n",
            "3    1.0\n",
            "4    1.0\n",
            "dtype: float64\n"
          ]
        }
      ],
      "source": [
        "s1 = pd.Series([1,2,3,4,5])\n",
        "s2 = pd.Series([1,2,3,4,5])\n",
        "\n",
        "print(s1 + s2)\n",
        "print(s1 - s2)\n",
        "print(s1 * s2)\n",
        "print(s1 / s2)"
      ]
    },
    {
      "cell_type": "markdown",
      "metadata": {
        "id": "TZDp25jeYlB6"
      },
      "source": [
        "#### `Q-3` Write a Pandas program to compare the elements of the two Pandas Series.\n",
        "Sample Series: [2, 4, 6, 8, 10], [1, 3, 5, 7, 10]"
      ]
    },
    {
      "cell_type": "code",
      "execution_count": 7,
      "metadata": {
        "id": "gFNil8ruYp1y"
      },
      "outputs": [
        {
          "name": "stdout",
          "output_type": "stream",
          "text": [
            "0    False\n",
            "1    False\n",
            "2    False\n",
            "3    False\n",
            "4     True\n",
            "dtype: bool\n",
            "0    False\n",
            "1    False\n",
            "2    False\n",
            "3    False\n",
            "4    False\n",
            "dtype: bool\n",
            "0     True\n",
            "1     True\n",
            "2     True\n",
            "3     True\n",
            "4    False\n",
            "dtype: bool\n"
          ]
        }
      ],
      "source": [
        "s1 = pd.Series([2,4,6,8,10])\n",
        "s2 = pd.Series([1,3,5,7,10])\n",
        "\n",
        "# Comparison\n",
        "print(s1 == s2)\n",
        "print(s1 < s2)\n",
        "print(s1 > s2)"
      ]
    },
    {
      "cell_type": "markdown",
      "metadata": {
        "id": "HlOBn_N6YrZz"
      },
      "source": [
        "#### `Q-5.`Write a function to change the data type of given a column or a Series. Function takes series and data type as input, returns the converted series.\n",
        "```Python\n",
        "series = pd.Series([1,2,'Python', 2.0, True, 100])\n",
        "change to float type data\n",
        "```\n",
        "Note: Read about pd.to_numeric()"
      ]
    },
    {
      "cell_type": "code",
      "execution_count": 9,
      "metadata": {
        "id": "_SWQJCUJYwXm"
      },
      "outputs": [
        {
          "data": {
            "text/plain": [
              "0       1\n",
              "1       2\n",
              "2     NaN\n",
              "3     2.0\n",
              "4    True\n",
              "5     100\n",
              "dtype: object"
            ]
          },
          "execution_count": 9,
          "metadata": {},
          "output_type": "execute_result"
        }
      ],
      "source": [
        "s = pd.Series([1,2,'Python', 2.0, True, 100])\n",
        "s.apply(lambda x: pd.to_numeric(x, errors = 'coerce'))"
      ]
    },
    {
      "cell_type": "markdown",
      "metadata": {
        "id": "PGp3OqRIY0Va"
      },
      "source": [
        "### Below questions are based on this data."
      ]
    },
    {
      "cell_type": "markdown",
      "metadata": {
        "id": "TxFkp-L4Y23d"
      },
      "source": [
        "#### `Q-6` Find top 10 most run getter from the series."
      ]
    },
    {
      "cell_type": "code",
      "execution_count": 15,
      "metadata": {
        "id": "muBgocA6Y2Bg"
      },
      "outputs": [
        {
          "data": {
            "text/html": [
              "<div>\n",
              "<style scoped>\n",
              "    .dataframe tbody tr th:only-of-type {\n",
              "        vertical-align: middle;\n",
              "    }\n",
              "\n",
              "    .dataframe tbody tr th {\n",
              "        vertical-align: top;\n",
              "    }\n",
              "\n",
              "    .dataframe thead th {\n",
              "        text-align: right;\n",
              "    }\n",
              "</style>\n",
              "<table border=\"1\" class=\"dataframe\">\n",
              "  <thead>\n",
              "    <tr style=\"text-align: right;\">\n",
              "      <th></th>\n",
              "      <th>batsman_run</th>\n",
              "    </tr>\n",
              "    <tr>\n",
              "      <th>batter</th>\n",
              "      <th></th>\n",
              "    </tr>\n",
              "  </thead>\n",
              "  <tbody>\n",
              "    <tr>\n",
              "      <th>A Ashish Reddy</th>\n",
              "      <td>280</td>\n",
              "    </tr>\n",
              "    <tr>\n",
              "      <th>A Badoni</th>\n",
              "      <td>161</td>\n",
              "    </tr>\n",
              "    <tr>\n",
              "      <th>A Chandila</th>\n",
              "      <td>4</td>\n",
              "    </tr>\n",
              "    <tr>\n",
              "      <th>A Chopra</th>\n",
              "      <td>53</td>\n",
              "    </tr>\n",
              "    <tr>\n",
              "      <th>A Choudhary</th>\n",
              "      <td>25</td>\n",
              "    </tr>\n",
              "  </tbody>\n",
              "</table>\n",
              "</div>"
            ],
            "text/plain": [
              "                batsman_run\n",
              "batter                     \n",
              "A Ashish Reddy          280\n",
              "A Badoni                161\n",
              "A Chandila                4\n",
              "A Chopra                 53\n",
              "A Choudhary              25"
            ]
          },
          "execution_count": 15,
          "metadata": {},
          "output_type": "execute_result"
        }
      ],
      "source": [
        "df = pd.read_csv('data.csv')\n",
        "df.set_index('batter', inplace = True)\n",
        "df.head()"
      ]
    },
    {
      "cell_type": "code",
      "execution_count": 16,
      "metadata": {},
      "outputs": [
        {
          "data": {
            "text/html": [
              "<div>\n",
              "<style scoped>\n",
              "    .dataframe tbody tr th:only-of-type {\n",
              "        vertical-align: middle;\n",
              "    }\n",
              "\n",
              "    .dataframe tbody tr th {\n",
              "        vertical-align: top;\n",
              "    }\n",
              "\n",
              "    .dataframe thead th {\n",
              "        text-align: right;\n",
              "    }\n",
              "</style>\n",
              "<table border=\"1\" class=\"dataframe\">\n",
              "  <thead>\n",
              "    <tr style=\"text-align: right;\">\n",
              "      <th></th>\n",
              "      <th>batsman_run</th>\n",
              "    </tr>\n",
              "    <tr>\n",
              "      <th>batter</th>\n",
              "      <th></th>\n",
              "    </tr>\n",
              "  </thead>\n",
              "  <tbody>\n",
              "    <tr>\n",
              "      <th>V Kohli</th>\n",
              "      <td>6634</td>\n",
              "    </tr>\n",
              "    <tr>\n",
              "      <th>S Dhawan</th>\n",
              "      <td>6244</td>\n",
              "    </tr>\n",
              "    <tr>\n",
              "      <th>DA Warner</th>\n",
              "      <td>5883</td>\n",
              "    </tr>\n",
              "    <tr>\n",
              "      <th>RG Sharma</th>\n",
              "      <td>5881</td>\n",
              "    </tr>\n",
              "    <tr>\n",
              "      <th>SK Raina</th>\n",
              "      <td>5536</td>\n",
              "    </tr>\n",
              "    <tr>\n",
              "      <th>AB de Villiers</th>\n",
              "      <td>5181</td>\n",
              "    </tr>\n",
              "    <tr>\n",
              "      <th>CH Gayle</th>\n",
              "      <td>4997</td>\n",
              "    </tr>\n",
              "    <tr>\n",
              "      <th>MS Dhoni</th>\n",
              "      <td>4978</td>\n",
              "    </tr>\n",
              "    <tr>\n",
              "      <th>RV Uthappa</th>\n",
              "      <td>4954</td>\n",
              "    </tr>\n",
              "    <tr>\n",
              "      <th>KD Karthik</th>\n",
              "      <td>4377</td>\n",
              "    </tr>\n",
              "  </tbody>\n",
              "</table>\n",
              "</div>"
            ],
            "text/plain": [
              "                batsman_run\n",
              "batter                     \n",
              "V Kohli                6634\n",
              "S Dhawan               6244\n",
              "DA Warner              5883\n",
              "RG Sharma              5881\n",
              "SK Raina               5536\n",
              "AB de Villiers         5181\n",
              "CH Gayle               4997\n",
              "MS Dhoni               4978\n",
              "RV Uthappa             4954\n",
              "KD Karthik             4377"
            ]
          },
          "execution_count": 16,
          "metadata": {},
          "output_type": "execute_result"
        }
      ],
      "source": [
        "df.sort_values(by = 'batsman_run', ascending = False, ignore_index = False, na_position = 'last', inplace = True)\n",
        "df.head(10)"
      ]
    },
    {
      "cell_type": "markdown",
      "metadata": {
        "id": "GzlCFBM_Y83g"
      },
      "source": [
        "#### `Q-7` No of players having runs above 3000"
      ]
    },
    {
      "cell_type": "code",
      "execution_count": 19,
      "metadata": {
        "id": "JdNchHRWY1B-"
      },
      "outputs": [
        {
          "data": {
            "text/plain": [
              "20"
            ]
          },
          "execution_count": 19,
          "metadata": {},
          "output_type": "execute_result"
        }
      ],
      "source": [
        "(df['batsman_run'] > 3000).sum(axis = 0)"
      ]
    },
    {
      "cell_type": "markdown",
      "metadata": {
        "id": "pMBEoCL1Y-vh"
      },
      "source": [
        "#### `Q-8` No of players having runs above mean value?"
      ]
    },
    {
      "cell_type": "code",
      "execution_count": 20,
      "metadata": {
        "id": "LgtViVFZZBIu"
      },
      "outputs": [
        {
          "data": {
            "text/plain": [
              "128"
            ]
          },
          "execution_count": 20,
          "metadata": {},
          "output_type": "execute_result"
        }
      ],
      "source": [
        "(df['batsman_run'] > df['batsman_run'].mean(axis = 0)).sum(axis = 0)"
      ]
    },
    {
      "cell_type": "markdown",
      "metadata": {},
      "source": [
        "### Below questions are based on this items."
      ]
    },
    {
      "cell_type": "code",
      "execution_count": 38,
      "metadata": {},
      "outputs": [
        {
          "data": {
            "text/html": [
              "<div>\n",
              "<style scoped>\n",
              "    .dataframe tbody tr th:only-of-type {\n",
              "        vertical-align: middle;\n",
              "    }\n",
              "\n",
              "    .dataframe tbody tr th {\n",
              "        vertical-align: top;\n",
              "    }\n",
              "\n",
              "    .dataframe thead th {\n",
              "        text-align: right;\n",
              "    }\n",
              "</style>\n",
              "<table border=\"1\" class=\"dataframe\">\n",
              "  <thead>\n",
              "    <tr style=\"text-align: right;\">\n",
              "      <th></th>\n",
              "      <th>item_price</th>\n",
              "    </tr>\n",
              "    <tr>\n",
              "      <th>item_name</th>\n",
              "      <th></th>\n",
              "    </tr>\n",
              "  </thead>\n",
              "  <tbody>\n",
              "    <tr>\n",
              "      <th>Chips and Fresh Tomato Salsa</th>\n",
              "      <td>$2.39</td>\n",
              "    </tr>\n",
              "    <tr>\n",
              "      <th>Izze</th>\n",
              "      <td>$3.39</td>\n",
              "    </tr>\n",
              "    <tr>\n",
              "      <th>Nantucket Nectar</th>\n",
              "      <td>$3.39</td>\n",
              "    </tr>\n",
              "    <tr>\n",
              "      <th>Chips and Tomatillo-Green Chili Salsa</th>\n",
              "      <td>$2.39</td>\n",
              "    </tr>\n",
              "    <tr>\n",
              "      <th>Chicken Bowl</th>\n",
              "      <td>$16.98</td>\n",
              "    </tr>\n",
              "  </tbody>\n",
              "</table>\n",
              "</div>"
            ],
            "text/plain": [
              "                                      item_price\n",
              "item_name                                       \n",
              "Chips and Fresh Tomato Salsa              $2.39 \n",
              "Izze                                      $3.39 \n",
              "Nantucket Nectar                          $3.39 \n",
              "Chips and Tomatillo-Green Chili Salsa     $2.39 \n",
              "Chicken Bowl                             $16.98 "
            ]
          },
          "execution_count": 38,
          "metadata": {},
          "output_type": "execute_result"
        }
      ],
      "source": [
        "df = pd.read_csv('items.csv')\n",
        "df.set_index('item_name', inplace = True)\n",
        "df.head()"
      ]
    },
    {
      "cell_type": "code",
      "execution_count": 39,
      "metadata": {},
      "outputs": [
        {
          "data": {
            "text/plain": [
              "50"
            ]
          },
          "execution_count": 39,
          "metadata": {},
          "output_type": "execute_result"
        }
      ],
      "source": [
        "# Show no of nan values\n",
        "df['item_price'].isnull().sum()"
      ]
    },
    {
      "cell_type": "code",
      "execution_count": 41,
      "metadata": {},
      "outputs": [
        {
          "data": {
            "text/html": [
              "<div>\n",
              "<style scoped>\n",
              "    .dataframe tbody tr th:only-of-type {\n",
              "        vertical-align: middle;\n",
              "    }\n",
              "\n",
              "    .dataframe tbody tr th {\n",
              "        vertical-align: top;\n",
              "    }\n",
              "\n",
              "    .dataframe thead th {\n",
              "        text-align: right;\n",
              "    }\n",
              "</style>\n",
              "<table border=\"1\" class=\"dataframe\">\n",
              "  <thead>\n",
              "    <tr style=\"text-align: right;\">\n",
              "      <th></th>\n",
              "      <th>item_price</th>\n",
              "    </tr>\n",
              "    <tr>\n",
              "      <th>item_name</th>\n",
              "      <th></th>\n",
              "    </tr>\n",
              "  </thead>\n",
              "  <tbody>\n",
              "    <tr>\n",
              "      <th>Chips and Fresh Tomato Salsa</th>\n",
              "      <td>219.88</td>\n",
              "    </tr>\n",
              "    <tr>\n",
              "      <th>Izze</th>\n",
              "      <td>311.88</td>\n",
              "    </tr>\n",
              "    <tr>\n",
              "      <th>Nantucket Nectar</th>\n",
              "      <td>311.88</td>\n",
              "    </tr>\n",
              "    <tr>\n",
              "      <th>Chips and Tomatillo-Green Chili Salsa</th>\n",
              "      <td>219.88</td>\n",
              "    </tr>\n",
              "    <tr>\n",
              "      <th>Chicken Bowl</th>\n",
              "      <td>1562.16</td>\n",
              "    </tr>\n",
              "  </tbody>\n",
              "</table>\n",
              "</div>"
            ],
            "text/plain": [
              "                                      item_price\n",
              "item_name                                       \n",
              "Chips and Fresh Tomato Salsa              219.88\n",
              "Izze                                      311.88\n",
              "Nantucket Nectar                          311.88\n",
              "Chips and Tomatillo-Green Chili Salsa     219.88\n",
              "Chicken Bowl                             1562.16"
            ]
          },
          "execution_count": 41,
          "metadata": {},
          "output_type": "execute_result"
        }
      ],
      "source": [
        "# Removing nan values\n",
        "new_df = df.dropna()\n",
        "\n",
        "# Item price is given in $, so convert it to rupees without currency symbol.\n",
        "new_df.loc[:, 'item_price'] = new_df.loc[:, 'item_price'].apply(lambda x: float(x[1:].strip()) * 92)\n",
        "new_df.head()"
      ]
    },
    {
      "cell_type": "code",
      "execution_count": 42,
      "metadata": {},
      "outputs": [],
      "source": [
        "# Fill nan with mean of the series\n",
        "df.fillna(value = new_df['item_price'].mean(), inplace = True)"
      ]
    },
    {
      "cell_type": "code",
      "execution_count": 43,
      "metadata": {},
      "outputs": [
        {
          "data": {
            "text/plain": [
              "<Axes: >"
            ]
          },
          "execution_count": 43,
          "metadata": {},
          "output_type": "execute_result"
        },
        {
          "data": {
            "image/png": "[encoded data removed]",
            "text/plain": [
              "<Figure size 640x480 with 1 Axes>"
            ]
          },
          "metadata": {},
          "output_type": "display_data"
        }
      ],
      "source": [
        "# Plot Histogram on price with bin size 50\n",
        "new_df['item_price'].hist(bins = 10)"
      ]
    },
    {
      "cell_type": "code",
      "execution_count": null,
      "metadata": {},
      "outputs": [
        {
          "data": {
            "text/plain": [
              "item_price    115.0\n",
              "Name: 0.06, dtype: object"
            ]
          },
          "execution_count": 45,
          "metadata": {},
          "output_type": "execute_result"
        }
      ],
      "source": [
        "# Find 30th and 6th percentile value\n",
        "new_df.quantile(q=0.3)\n",
        "new_df.quantile(q=0.06)"
      ]
    },
    {
      "cell_type": "code",
      "execution_count": null,
      "metadata": {},
      "outputs": [
        {
          "data": {
            "text/html": [
              "<div>\n",
              "<style scoped>\n",
              "    .dataframe tbody tr th:only-of-type {\n",
              "        vertical-align: middle;\n",
              "    }\n",
              "\n",
              "    .dataframe tbody tr th {\n",
              "        vertical-align: top;\n",
              "    }\n",
              "\n",
              "    .dataframe thead th {\n",
              "        text-align: right;\n",
              "    }\n",
              "</style>\n",
              "<table border=\"1\" class=\"dataframe\">\n",
              "  <thead>\n",
              "    <tr style=\"text-align: right;\">\n",
              "      <th></th>\n",
              "      <th>item_price</th>\n",
              "    </tr>\n",
              "    <tr>\n",
              "      <th>item_name</th>\n",
              "      <th></th>\n",
              "    </tr>\n",
              "  </thead>\n",
              "  <tbody>\n",
              "    <tr>\n",
              "      <th>Chips and Fresh Tomato Salsa</th>\n",
              "      <td>NaN</td>\n",
              "    </tr>\n",
              "    <tr>\n",
              "      <th>Izze</th>\n",
              "      <td>NaN</td>\n",
              "    </tr>\n",
              "    <tr>\n",
              "      <th>Nantucket Nectar</th>\n",
              "      <td>NaN</td>\n",
              "    </tr>\n",
              "    <tr>\n",
              "      <th>Chips and Tomatillo-Green Chili Salsa</th>\n",
              "      <td>NaN</td>\n",
              "    </tr>\n",
              "    <tr>\n",
              "      <th>Chicken Bowl</th>\n",
              "      <td>1562.16</td>\n",
              "    </tr>\n",
              "    <tr>\n",
              "      <th>...</th>\n",
              "      <td>...</td>\n",
              "    </tr>\n",
              "    <tr>\n",
              "      <th>Steak Burrito</th>\n",
              "      <td>1081.0</td>\n",
              "    </tr>\n",
              "    <tr>\n",
              "      <th>Steak Burrito</th>\n",
              "      <td>1081.0</td>\n",
              "    </tr>\n",
              "    <tr>\n",
              "      <th>Chicken Salad Bowl</th>\n",
              "      <td>1035.0</td>\n",
              "    </tr>\n",
              "    <tr>\n",
              "      <th>Chicken Salad Bowl</th>\n",
              "      <td>NaN</td>\n",
              "    </tr>\n",
              "    <tr>\n",
              "      <th>Chicken Salad Bowl</th>\n",
              "      <td>NaN</td>\n",
              "    </tr>\n",
              "  </tbody>\n",
              "</table>\n",
              "<p>4572 rows × 1 columns</p>\n",
              "</div>"
            ],
            "text/plain": [
              "                                      item_price\n",
              "item_name                                       \n",
              "Chips and Fresh Tomato Salsa                 NaN\n",
              "Izze                                         NaN\n",
              "Nantucket Nectar                             NaN\n",
              "Chips and Tomatillo-Green Chili Salsa        NaN\n",
              "Chicken Bowl                             1562.16\n",
              "...                                          ...\n",
              "Steak Burrito                             1081.0\n",
              "Steak Burrito                             1081.0\n",
              "Chicken Salad Bowl                        1035.0\n",
              "Chicken Salad Bowl                           NaN\n",
              "Chicken Salad Bowl                           NaN\n",
              "\n",
              "[4572 rows x 1 columns]"
            ]
          },
          "execution_count": 47,
          "metadata": {},
          "output_type": "execute_result"
        }
      ],
      "source": [
        "# No of items price lies between [1000 to 2000]\n",
        "new_df[(new_df>1000) & (new_df<2000)]"
      ]
    }
  ],
  "metadata": {
    "colab": {
      "provenance": []
    },
    "kernelspec": {
      "display_name": "Python 3",
      "name": "python3"
    },
    "language_info": {
      "codemirror_mode": {
        "name": "ipython",
        "version": 3
      },
      "file_extension": ".py",
      "mimetype": "text/x-python",
      "name": "python",
      "nbconvert_exporter": "python",
      "pygments_lexer": "ipython3",
      "version": "3.12.2"
    }
  },
  "nbformat": 4,
  "nbformat_minor": 0
}
