{
  "cells": [
    {
      "cell_type": "markdown",
      "metadata": {
        "id": "0lF_KwWXpnQU"
      },
      "source": [
        "<h2>Linear Algebra Tasks</h2>\n",
        "\n",
        "<h3>Task 1: Element-Wise Product</h3>\n",
        "<p>Given the vectors A = [1, 2, 3] and B = [4, 5, 6], calculate the element-wise product of the two vectors.</p>\n",
        "\n",
        "<h3>Task 2: Magnitude of a Vector</h3>\n",
        "<p>Find the magnitude of the vector C = [2, -3, 1].</p>\n",
        "\n",
        "<h3>Task 3: Cosine of the Angle Between Two Vectors</h3>\n",
        "<p>Given the vectors D = [1, 2, 3] and E = [4, 5, 6], calculate the cosine of the angle between them.</p>\n",
        "\n",
        "<h3>Task 4: Cross Product of Two Vectors</h3>\n",
        "<p>Given the vectors F = [1, 2, 3] and G = [4, 5, 6], calculate the cross product of the two vectors.</p>\n",
        "\n",
        "<h3>Task 5: Shift a Vector</h3>\n",
        "<p>Given the vector H = [2, 4, 6], shift the vector +1 unit in each dimension.</p>\n",
        "\n",
        "<h3>Task 6: Projection of a Vector</h3>\n",
        "<p>Given the vectors I = [1, 2, 3] and J = [4, 5, 6], calculate the projection of vector I onto vector J.</p>\n",
        "\n",
        "<h3>Task 7: 2D Position Vectors</h3>\n",
        "<p>Consider the 2D - position vector a = (1, 3). If b is the point (5, 4), find the vector `ab` and the vector sum `a + ab`. Provide a sketch plot.</p>\n",
        "<p>Note: Search for quiver, to plot an arrow.</p>\n",
        "\n",
        "<h3>Task 8: Dot Product, Angle, and Projection of Two Vectors</h3>\n",
        "<p>Given two 2D vectors `u` and `v` where `u = [-1, 4]` and `v = [3, -2]`, find the dot product `u . v`, the angle between `u` and `v`, and the projection of `u` onto `v`.</p>\n",
        "\n",
        "<h3>Task 9: Hyperplane</h3>\n",
        "<p>Given a hyperplane defined by the equation 3x - 2y + z = 1, find two different points that lie on this hyperplane.</p>\n",
        "\n",
        "<h3>Task 10: Nearest Point</h3>\n",
        "<p>Find a nearest point from a given array of points to a point P1, where P1 - (3,9,3).</p>"
      ]
    },
    {
      "cell_type": "code",
      "execution_count": 12,
      "metadata": {
        "id": "P3c-q56rV2Z0"
      },
      "outputs": [],
      "source": [
        "import numpy as np"
      ]
    },
    {
      "cell_type": "code",
      "execution_count": 13,
      "metadata": {
        "colab": {
          "base_uri": "https://localhost:8080/"
        },
        "id": "3RtkFjyXp93H",
        "outputId": "12cbf584-2a66-4017-f9f4-63725ddc23a3"
      },
      "outputs": [
        {
          "data": {
            "text/plain": [
              "array([ 4, 10, 18])"
            ]
          },
          "execution_count": 13,
          "metadata": {},
          "output_type": "execute_result"
        }
      ],
      "source": [
        "# Q1. Given the vectors A = [1, 2, 3] and B = [4, 5, 6], calculate the element-wise product of the two vectors.\n",
        "A = np.array([1,2,3])\n",
        "B = np.array([4,5,6])\n",
        "\n",
        "A * B"
      ]
    },
    {
      "cell_type": "code",
      "execution_count": 14,
      "metadata": {
        "colab": {
          "base_uri": "https://localhost:8080/"
        },
        "id": "EcTTV4eSVr7o",
        "outputId": "6be053aa-3322-4374-c30e-ebebfa26e21f"
      },
      "outputs": [
        {
          "data": {
            "text/plain": [
              "array([[ 4, 10, 18],\n",
              "       [28, 40, 54]])"
            ]
          },
          "execution_count": 14,
          "metadata": {},
          "output_type": "execute_result"
        }
      ],
      "source": [
        "A = np.array([[1,2,3], [4,5,6]])\n",
        "B = np.array([[4,5,6], [7,8,9]])\n",
        "\n",
        "A * B"
      ]
    },
    {
      "cell_type": "code",
      "execution_count": 15,
      "metadata": {
        "colab": {
          "base_uri": "https://localhost:8080/"
        },
        "id": "ne-sJrNZWHqn",
        "outputId": "55cc5952-f010-4048-c568-86aea61321f8"
      },
      "outputs": [
        {
          "data": {
            "text/plain": [
              "np.float64(3.7416573867739413)"
            ]
          },
          "execution_count": 15,
          "metadata": {},
          "output_type": "execute_result"
        }
      ],
      "source": [
        "# Q2. Find the magnitude(Euclidean Distance) of the vector C = [2, -3, 1].\n",
        "C = np.array([2, -3, 1])\n",
        "np.linalg.norm(C)"
      ]
    },
    {
      "cell_type": "code",
      "execution_count": 16,
      "metadata": {
        "colab": {
          "base_uri": "https://localhost:8080/"
        },
        "id": "zXCfwezZW8-w",
        "outputId": "feba4f70-7149-4cd3-ee4d-2bbb598e77b6"
      },
      "outputs": [
        {
          "data": {
            "text/plain": [
              "np.float64(0.9746318461970762)"
            ]
          },
          "execution_count": 16,
          "metadata": {},
          "output_type": "execute_result"
        }
      ],
      "source": [
        "# Q3. Given the vectors D = [1, 2, 3] and E = [4, 5, 6], calculate the cosine of the angle between them.\n",
        "A = np.array([1,2,3])\n",
        "B = np.array([4,5,6])\n",
        "\n",
        "# Calculating the dop product\n",
        "dot_product = np.dot(A, B)\n",
        "\n",
        "# Calculating the Magnitude of each vector\n",
        "mag_a = np.linalg.norm(A)\n",
        "mag_b = np.linalg.norm(B)\n",
        "\n",
        "# Calculating cosine angle\n",
        "cosine = dot_product / (mag_a * mag_b)\n",
        "cosine"
      ]
    },
    {
      "cell_type": "code",
      "execution_count": 17,
      "metadata": {
        "colab": {
          "base_uri": "https://localhost:8080/"
        },
        "id": "hNZhEiJra2jB",
        "outputId": "281ad440-0bd7-4fb0-c0ac-36787d70f2bd"
      },
      "outputs": [
        {
          "data": {
            "text/plain": [
              "array([-3,  6, -3])"
            ]
          },
          "execution_count": 17,
          "metadata": {},
          "output_type": "execute_result"
        }
      ],
      "source": [
        "# Q4. Given the vectors F = [1, 2, 3] and G = [4, 5, 6], calculate the cross product of the two vectors.\n",
        "A = np.array([1,2,3])\n",
        "B = np.array([4,5,6])\n",
        "\n",
        "np.cross(A, B)"
      ]
    },
    {
      "cell_type": "code",
      "execution_count": 18,
      "metadata": {
        "colab": {
          "base_uri": "https://localhost:8080/"
        },
        "id": "e7WCA7ffbAm2",
        "outputId": "fb3d0a0e-b1b7-40b9-e41b-34848bab1af6"
      },
      "outputs": [
        {
          "data": {
            "text/plain": [
              "array([3, 5, 7])"
            ]
          },
          "execution_count": 18,
          "metadata": {},
          "output_type": "execute_result"
        }
      ],
      "source": [
        "# Q5. Given the vector H = [2, 4, 6], shift the vector +1 unit in each dimension\n",
        "H = np.array([2, 4, 6])\n",
        "H = H + 1\n",
        "H"
      ]
    },
    {
      "cell_type": "code",
      "execution_count": 19,
      "metadata": {
        "colab": {
          "base_uri": "https://localhost:8080/"
        },
        "id": "MC0S4vnZcAiv",
        "outputId": "1c0f8a5e-cac4-4632-ff80-1a5ed0d74019"
      },
      "outputs": [
        {
          "data": {
            "text/plain": [
              "array([1.66233766, 2.07792208, 2.49350649])"
            ]
          },
          "execution_count": 19,
          "metadata": {},
          "output_type": "execute_result"
        }
      ],
      "source": [
        "# Q6. Given the vectors I = [1, 2, 3] and J = [4, 5, 6], calculate the projection of vector I onto vector J.\n",
        "def vector_projection(a, b):\n",
        "  \"\"\"\n",
        "  Calculates the projection of vector a onto vector b.\n",
        "\n",
        "  Args:\n",
        "    a: NumPy array representing vector a.\n",
        "    b: NumPy array representing vector b.\n",
        "\n",
        "  Returns:\n",
        "    NumPy array representing the projection of a onto b.\n",
        "  \"\"\"\n",
        "  a = np.array(a)\n",
        "  b = np.array(b)\n",
        "\n",
        "  if np.all(b == 0):\n",
        "    raise ValueError(\"Vector b cannot be a zero vector.\")\n",
        "\n",
        "  projection = (np.dot(a, b) / np.dot(b, b)) * b\n",
        "  return projection\n",
        "\n",
        "# Example usage:\n",
        "I = np.array([1, 2, 3])\n",
        "J = np.array([4, 5, 6])\n",
        "\n",
        "vector_projection(I, J)"
      ]
    },
    {
      "cell_type": "code",
      "execution_count": 20,
      "metadata": {
        "id": "I4g_Zy6HcRvf"
      },
      "outputs": [
        {
          "data": {
            "image/png": "[encoded data removed]",
            "text/plain": [
              "<Figure size 640x480 with 1 Axes>"
            ]
          },
          "metadata": {},
          "output_type": "display_data"
        }
      ],
      "source": [
        "# Q7. Consider the 2D - position vector a = (1, 3). If b is the point (5, 4), find the vector ab and the vector sum a + ab. Provide a sketch plot.\n",
        "\n",
        "import numpy as np\n",
        "import matplotlib.pyplot as plt\n",
        "\n",
        "a = np.array([1, 3])\n",
        "b = np.array([5, 4])\n",
        "ab = b - a\n",
        "a_plus_ab = a + ab\n",
        "\n",
        "plt.plot([a[0], ab[0]], [a[1], ab[1]], 'ro-')\n",
        "plt.plot([a[0], a_plus_ab[0]], [a[1], a_plus_ab[1]], 'bo-')\n",
        "plt.show()"
      ]
    },
    {
      "cell_type": "code",
      "execution_count": 21,
      "metadata": {},
      "outputs": [
        {
          "name": "stdout",
          "output_type": "stream",
          "text": [
            "Point 1: [0 0 1]\n",
            "[ 2  5 -3]\n"
          ]
        }
      ],
      "source": [
        "### Q9. Given a hyperplane defined by the equation 3x - 2y + z = 1, find two different points that lie on this hyperplane.\n",
        "\n",
        "# Let x = 0, y = 0\n",
        "z = 1\n",
        "p1 = np.array([0, 0, z])\n",
        "print(\"Point 1:\", p1)\n",
        "\n",
        "# Let x = 2, y = 5\n",
        "x = 2\n",
        "y = 5\n",
        "z = 3*x - 2*y + 1\n",
        "p2 = np.array([x, y, z])\n",
        "print(p2)"
      ]
    },
    {
      "cell_type": "code",
      "execution_count": 26,
      "metadata": {},
      "outputs": [
        {
          "name": "stdout",
          "output_type": "stream",
          "text": [
            "Nearest point: 0\n",
            "Smallest distance: 3.0\n"
          ]
        }
      ],
      "source": [
        "### Q10. Find a nearest point from a given array of points to a point P1.\n",
        "P1 = np.array([3, 9, 3])\n",
        "arr = np.array([[1, 8, 5],\n",
        "[8, 8, 2],\n",
        "[7, 9, 1],\n",
        "[5, 6, 3],\n",
        "[9, 1, 2],\n",
        "[6, 5, 9],\n",
        "[5, 8, 6],\n",
        "[3, 4, 8],\n",
        "[6, 8, 4],\n",
        "[7, 2, 7]])\n",
        "\n",
        "distances = np.linalg.norm(arr - P1, axis=1)\n",
        "nearest_point = np.argmin(distances)\n",
        "smallest_dist = distances[nearest_point]\n",
        "\n",
        "print(\"Nearest point:\", nearest_point)\n",
        "print(\"Smallest distance:\", smallest_dist)"
      ]
    }
  ],
  "metadata": {
    "colab": {
      "provenance": []
    },
    "kernelspec": {
      "display_name": "Python 3",
      "name": "python3"
    },
    "language_info": {
      "codemirror_mode": {
        "name": "ipython",
        "version": 3
      },
      "file_extension": ".py",
      "mimetype": "text/x-python",
      "name": "python",
      "nbconvert_exporter": "python",
      "pygments_lexer": "ipython3",
      "version": "3.13.3"
    }
  },
  "nbformat": 4,
  "nbformat_minor": 0
}
