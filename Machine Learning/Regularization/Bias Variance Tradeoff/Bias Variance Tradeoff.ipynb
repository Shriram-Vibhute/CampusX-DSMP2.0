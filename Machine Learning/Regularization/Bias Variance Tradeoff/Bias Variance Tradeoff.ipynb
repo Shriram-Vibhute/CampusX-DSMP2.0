{
  "nbformat": 4,
  "nbformat_minor": 0,
  "metadata": {
    "colab": {
      "provenance": []
    },
    "kernelspec": {
      "name": "python3",
      "display_name": "Python 3"
    },
    "language_info": {
      "name": "python"
    }
  },
  "cells": [
    {
      "cell_type": "code",
      "execution_count": 1,
      "metadata": {
        "colab": {
          "base_uri": "https://localhost:8080/"
        },
        "id": "kcwh5rKDizEf",
        "outputId": "54fb034a-32f2-4665-c69e-84cac4efd2f4"
      },
      "outputs": [
        {
          "output_type": "execute_result",
          "data": {
            "text/plain": [
              "np.float64(3.499096)"
            ]
          },
          "metadata": {},
          "execution_count": 1
        }
      ],
      "source": [
        "import random\n",
        "import numpy as np\n",
        "\n",
        "outcome = []\n",
        "for i in range(1000000):\n",
        "  outcome.append(random.randint(1,6))\n",
        "\n",
        "np.array(outcome).mean() # Expected Value Tutorial"
      ]
    },
    {
      "cell_type": "code",
      "source": [
        "from mlxtend.evaluate import bias_variance_decomp\n",
        "from sklearn.tree import DecisionTreeRegressor\n",
        "from sklearn.linear_model import LinearRegression\n",
        "from mlxtend.data import boston_housing_data\n",
        "from sklearn.model_selection import train_test_split\n",
        "\n",
        "\n",
        "X, y = boston_housing_data()\n",
        "X_train, X_test, y_train, y_test = train_test_split(X, y, test_size=0.3, random_state=123, shuffle=True)"
      ],
      "metadata": {
        "id": "-HyVk7zss5Ee"
      },
      "execution_count": 2,
      "outputs": []
    },
    {
      "cell_type": "code",
      "source": [
        "# High Bias Low Variance Model\n",
        "lr = LinearRegression()\n",
        "\n",
        "avg_expected_loss, avg_bias, avg_var = bias_variance_decomp(\n",
        "        lr, X_train, y_train, X_test, y_test,\n",
        "        loss='mse',\n",
        "        random_seed=123)\n",
        "\n",
        "print('Average expected loss: %.3f' % avg_expected_loss)\n",
        "print('Average bias: %.3f' % avg_bias) # This bias is actually bias^2 value\n",
        "print('Average variance: %.3f' % avg_var)"
      ],
      "metadata": {
        "colab": {
          "base_uri": "https://localhost:8080/"
        },
        "id": "jL1sQEjBiCXP",
        "outputId": "11f45a60-ae0d-426e-e942-45199c084d2b"
      },
      "execution_count": 3,
      "outputs": [
        {
          "output_type": "stream",
          "name": "stdout",
          "text": [
            "Average expected loss: 29.891\n",
            "Average bias: 28.609\n",
            "Average variance: 1.282\n"
          ]
        }
      ]
    },
    {
      "cell_type": "code",
      "source": [
        "# Low Bias High Variance Model\n",
        "dt = DecisionTreeRegressor(random_state=123)\n",
        "\n",
        "avg_expected_loss, avg_bias, avg_var = bias_variance_decomp(\n",
        "        dt, X_train, y_train, X_test, y_test,\n",
        "        loss='mse',\n",
        "        random_seed=123)\n",
        "\n",
        "print('Average expected loss: %.3f' % avg_expected_loss)\n",
        "print('Average bias: %.3f' % avg_bias)\n",
        "print('Average variance: %.3f' % avg_var)"
      ],
      "metadata": {
        "colab": {
          "base_uri": "https://localhost:8080/"
        },
        "id": "cFEeR2rfiF1L",
        "outputId": "dbcd34e5-4893-4102-c5ac-450f72af01c4"
      },
      "execution_count": 4,
      "outputs": [
        {
          "output_type": "stream",
          "name": "stdout",
          "text": [
            "Average expected loss: 31.536\n",
            "Average bias: 14.096\n",
            "Average variance: 17.440\n"
          ]
        }
      ]
    },
    {
      "cell_type": "markdown",
      "source": [
        "*If you add bias abd variance the value is not perfectly error because there is some `irreducable error` in the population data*"
      ],
      "metadata": {
        "id": "tU9svvpofBGR"
      }
    }
  ]
}