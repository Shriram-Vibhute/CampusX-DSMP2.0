{
 "cells": [
  {
   "cell_type": "markdown",
   "id": "a3b6139f",
   "metadata": {},
   "source": [
    "# **Probability Sampling**\n",
    "In probability sampling, every element in the population has a known, non-zero chance of being selected. This method is the foundation of inferential statistics, as it allows for the estimation of sampling error and the generalization of findings to the entire population."
   ]
  },
  {
   "cell_type": "code",
   "execution_count": 1,
   "id": "8990bdae",
   "metadata": {},
   "outputs": [
    {
     "name": "stdout",
     "output_type": "stream",
     "text": [
      "--- Sample Population ---\n",
      "   ID  Age Category       Value\n",
      "0   1   50        C  -39.532689\n",
      "1   2   37        B  114.108606\n",
      "2   3   45        A  149.961259\n",
      "3   4   35        B  105.532590\n",
      "4   5   49        C -119.618822\n",
      "\n",
      "Population size: 100\n",
      "\n",
      "Population category distribution:\n",
      "Category\n",
      "A    41\n",
      "C    25\n",
      "B    22\n",
      "D    12\n",
      "Name: count, dtype: int64\n"
     ]
    }
   ],
   "source": [
    "import pandas as pd\n",
    "import numpy as np\n",
    "\n",
    "# Create a sample population DataFrame\n",
    "data = {\n",
    "    'ID': range(1, 101),\n",
    "    'Age': np.random.randint(18, 65, size=100),\n",
    "    'Category': np.random.choice(['A', 'B', 'C', 'D'], size=100, p=[0.4, 0.3, 0.2, 0.1]),\n",
    "    'Value': np.random.randn(100) * 100\n",
    "}\n",
    "population_df = pd.DataFrame(data)\n",
    "\n",
    "print(\"--- Sample Population ---\")\n",
    "print(population_df.head())\n",
    "print(f\"\\nPopulation size: {len(population_df)}\")\n",
    "print(\"\\nPopulation category distribution:\")\n",
    "print(population_df['Category'].value_counts())"
   ]
  },
  {
   "cell_type": "markdown",
   "id": "aa51311b",
   "metadata": {},
   "source": [
    "### 1. `Simple Random Sampling`\n",
    "This is the most basic form of probability sampling, where each individual in the population has an equal chance of being chosen. It is akin to a lottery system. For example, if you want to select 100 employees from a company of 1000, you could assign a number to each employee and then use a random number generator to pick 100 numbers."
   ]
  },
  {
   "cell_type": "code",
   "execution_count": 3,
   "id": "46d77c0f",
   "metadata": {},
   "outputs": [
    {
     "name": "stdout",
     "output_type": "stream",
     "text": [
      "--- Simple Random Sample (n=10) ---\n",
      "    ID  Age Category       Value\n",
      "83  84   53        A  212.888389\n",
      "53  54   51        A   72.524583\n",
      "70  71   44        B   91.393785\n",
      "45  46   23        A   24.642528\n",
      "44  45   34        B  -40.969078\n",
      "39  40   64        A   20.937574\n",
      "22  23   22        B   76.534670\n",
      "80  81   51        A   19.316612\n",
      "10  11   31        C   43.224254\n",
      "0    1   50        C  -39.532689\n"
     ]
    }
   ],
   "source": [
    "# Set the sample size\n",
    "sample_size = 10\n",
    "\n",
    "# Perform simple random sampling\n",
    "simple_random_sample = population_df.sample(n=sample_size, random_state=42)\n",
    "\n",
    "print(f\"--- Simple Random Sample (n={sample_size}) ---\")\n",
    "print(simple_random_sample)"
   ]
  },
  {
   "cell_type": "markdown",
   "id": "cd7ce4ad",
   "metadata": {},
   "source": [
    "### 2. `Systematic Sampling`\n",
    "In this technique, the first individual is selected randomly, and then subsequent individuals are selected at regular intervals (e.g., every 10th person). This method is more straightforward and less time-consuming than simple random sampling but can be biased if there is an underlying pattern in the population that aligns with the sampling interval."
   ]
  },
  {
   "cell_type": "code",
   "execution_count": 5,
   "id": "5bb83136",
   "metadata": {},
   "outputs": [
    {
     "name": "stdout",
     "output_type": "stream",
     "text": [
      "--- Systematic Sample (every 10th element) ---\n",
      "    ID  Age Category       Value\n",
      "4    5   49        C -119.618822\n",
      "14  15   18        A   47.827824\n",
      "24  25   48        A    4.407001\n",
      "34  35   53        B   -4.896002\n",
      "44  45   34        B  -40.969078\n",
      "54  55   46        A  -65.519102\n",
      "64  65   39        C  238.245337\n",
      "74  75   45        A  219.857297\n",
      "84  85   25        A  -63.019948\n",
      "94  95   26        A  107.558366\n"
     ]
    }
   ],
   "source": [
    "# Set the step size (k)\n",
    "k = 10\n",
    "sample_size = len(population_df) // k\n",
    "\n",
    "# Choose a random starting point\n",
    "start_index = np.random.randint(0, k)\n",
    "\n",
    "# Get systematic sample indices\n",
    "systematic_indices = np.arange(start_index, len(population_df), step=k)\n",
    "\n",
    "# Extract the sample\n",
    "systematic_sample = population_df.iloc[systematic_indices]\n",
    "\n",
    "print(f\"--- Systematic Sample (every {k}th element) ---\")\n",
    "print(systematic_sample)"
   ]
  },
  {
   "cell_type": "markdown",
   "id": "286b120b",
   "metadata": {},
   "source": [
    "### 3. `Stratified Sampling`\n",
    "This method involves dividing the population into subgroups, or \"strata,\" based on shared characteristics such as age, gender, or income level. A random sample is then drawn from each stratum. This ensures that the sample is representative of the population's diversity. For instance, a political pollster might stratify voters by geographic region to ensure the sample accurately reflects the national distribution."
   ]
  },
  {
   "cell_type": "code",
   "execution_count": 14,
   "id": "4eada4ee",
   "metadata": {},
   "outputs": [
    {
     "name": "stdout",
     "output_type": "stream",
     "text": [
      "--- Stratified Sample (30% of population) ---\n",
      "     ID  Age Category       Value\n",
      "67   68   23        B   86.686896\n",
      "75   76   42        A   84.080934\n",
      "77   78   53        A  -61.063433\n",
      "36   37   37        D   31.366740\n",
      "63   64   30        B   49.350007\n",
      "34   35   53        B   -4.896002\n",
      "61   62   44        C  -51.196622\n",
      "94   95   26        A  107.558366\n",
      "18   19   19        D  233.733627\n",
      "43   44   33        C   18.895459\n",
      "56   57   57        C    4.049253\n",
      "44   45   34        B  -40.969078\n",
      "68   69   20        B    8.842671\n",
      "10   11   31        C   43.224254\n",
      "64   65   39        C  238.245337\n",
      "39   40   64        A   20.937574\n",
      "35   36   54        A  -30.269111\n",
      "40   41   27        D  -98.258153\n",
      "0     1   50        C  -39.532689\n",
      "99  100   33        C  112.590136\n",
      "80   81   51        A   19.316612\n",
      "53   54   51        A   72.524583\n",
      "20   21   40        A   90.519168\n",
      "14   15   18        A   47.827824\n",
      "74   75   45        A  219.857297\n",
      "12   13   30        D   60.125635\n",
      "24   25   48        A    4.407001\n",
      "79   80   22        A -227.215856\n",
      "85   86   46        B   59.145258\n",
      "1     2   37        B  114.108606\n"
     ]
    }
   ],
   "source": [
    "from sklearn.model_selection import train_test_split\n",
    "\n",
    "# We want to stratify by the 'Category' column\n",
    "# Let's take a 30% stratified sample\n",
    "stratified_test_sample, stratified_train_sample = train_test_split(\n",
    "    population_df,\n",
    "    test_size=0.70, # Keep 30% for our sample\n",
    "    stratify=population_df['Category'],\n",
    "    random_state=42\n",
    ")\n",
    "\n",
    "print(\"--- Stratified Sample (30% of population) ---\")\n",
    "print(stratified_test_sample)"
   ]
  },
  {
   "cell_type": "code",
   "execution_count": 17,
   "id": "ce256505",
   "metadata": {},
   "outputs": [
    {
     "name": "stdout",
     "output_type": "stream",
     "text": [
      "--- Stratified Sample (70% of population) ---\n",
      "    ID  Age Category       Value\n",
      "17  18   34        C  -62.576204\n",
      "27  28   61        C   -0.086912\n",
      "37  38   23        C   28.605998\n",
      "97  98   21        C -130.258137\n",
      "98  99   48        A   20.874755\n",
      "..  ..  ...      ...         ...\n",
      "21  22   38        A   42.453540\n",
      "81  82   29        A -196.810130\n",
      "46  47   47        A  -85.180248\n",
      "47  48   46        A   88.915672\n",
      "45  46   23        A   24.642528\n",
      "\n",
      "[70 rows x 4 columns]\n"
     ]
    }
   ],
   "source": [
    "print(\"--- Stratified Sample (70% of population) ---\")\n",
    "print(stratified_train_sample)"
   ]
  },
  {
   "cell_type": "code",
   "execution_count": null,
   "id": "343bc58d",
   "metadata": {},
   "outputs": [
    {
     "name": "stdout",
     "output_type": "stream",
     "text": [
      "\n",
      "Original population category distribution:\n",
      "Category\n",
      "A    0.41\n",
      "C    0.25\n",
      "B    0.22\n",
      "D    0.12\n",
      "Name: proportion, dtype: float64\n",
      "\n",
      "Stratified sample category distribution:\n",
      "Category\n",
      "A    0.414286\n",
      "C    0.257143\n",
      "B    0.214286\n",
      "D    0.114286\n",
      "Name: proportion, dtype: float64\n",
      "\n",
      "Stratified sample category distribution:\n",
      "Category\n",
      "A    0.400000\n",
      "B    0.233333\n",
      "C    0.233333\n",
      "D    0.133333\n",
      "Name: proportion, dtype: float64\n"
     ]
    }
   ],
   "source": [
    "print(\"\\nOriginal population category distribution:\")\n",
    "print(population_df['Category'].value_counts(normalize=True))\n",
    "\n",
    "print(\"\\nStratified test sample category distribution:\")\n",
    "print(stratified_train_sample['Category'].value_counts(normalize=True))\n",
    "\n",
    "print(\"\\nStratified train sample category distribution:\")\n",
    "print(stratified_test_sample['Category'].value_counts(normalize=True))"
   ]
  },
  {
   "cell_type": "markdown",
   "id": "cd06e76d",
   "metadata": {},
   "source": [
    "### 4. `Cluster Sampling`\n",
    "Here, the population is divided into clusters, typically based on geographical location. A random sample of these clusters is then selected, and all individuals within the chosen clusters are included in the sample. This is particularly useful when the population is large and geographically dispersed, making other methods impractical. For example, a researcher studying the academic performance of high school students in a state might randomly select a few school districts (clusters) and then survey all the students within those districts."
   ]
  },
  {
   "cell_type": "code",
   "execution_count": 18,
   "id": "7c2a594e",
   "metadata": {},
   "outputs": [
    {
     "name": "stdout",
     "output_type": "stream",
     "text": [
      "--- Cluster Sample (from clusters: ['Nashik' 'Nagpur']) ---\n",
      "    ID  Age Category       Value    City\n",
      "1    2   37        B  114.108606  Nagpur\n",
      "3    4   35        B  105.532590  Nashik\n",
      "4    5   49        C -119.618822  Nashik\n",
      "5    6   29        A   93.883822  Nagpur\n",
      "6    7   27        A   42.859535  Nagpur\n",
      "9   10   49        B -158.172535  Nagpur\n",
      "10  11   31        C   43.224254  Nashik\n",
      "12  13   30        D   60.125635  Nashik\n",
      "15  16   36        C  -50.120332  Nagpur\n",
      "18  19   19        D  233.733627  Nagpur\n",
      "23  24   46        C  -85.036123  Nashik\n",
      "24  25   48        A    4.407001  Nashik\n",
      "25  26   42        A   91.858444  Nashik\n",
      "31  32   24        B  -79.617470  Nagpur\n",
      "33  34   48        C  -34.086026  Nagpur\n",
      "36  37   37        D   31.366740  Nashik\n",
      "37  38   23        C   28.605998  Nashik\n",
      "38  39   27        C   86.819331  Nagpur\n",
      "39  40   64        A   20.937574  Nagpur\n",
      "40  41   27        D  -98.258153  Nagpur\n",
      "41  42   58        A  -35.389775  Nagpur\n",
      "42  43   29        B  -38.369644  Nashik\n",
      "45  46   23        A   24.642528  Nagpur\n",
      "46  47   47        A  -85.180248  Nagpur\n",
      "47  48   46        A   88.915672  Nagpur\n",
      "48  49   32        D -156.640967  Nashik\n",
      "50  51   23        A   77.743376  Nashik\n",
      "51  52   22        B  -97.770070  Nagpur\n",
      "54  55   46        A  -65.519102  Nagpur\n",
      "59  60   28        C   58.616964  Nashik\n",
      "61  62   44        C  -51.196622  Nashik\n",
      "64  65   39        C  238.245337  Nagpur\n",
      "68  69   20        B    8.842671  Nagpur\n",
      "70  71   44        B   91.393785  Nagpur\n",
      "72  73   25        B  144.020570  Nashik\n",
      "74  75   45        A  219.857297  Nagpur\n",
      "75  76   42        A   84.080934  Nashik\n",
      "76  77   49        D  299.670919  Nashik\n",
      "78  79   28        A   75.049370  Nagpur\n",
      "81  82   29        A -196.810130  Nashik\n",
      "82  83   19        A   36.092585  Nashik\n",
      "84  85   25        A  -63.019948  Nashik\n",
      "86  87   43        C    9.960073  Nagpur\n",
      "87  88   32        A  153.119707  Nashik\n",
      "91  92   24        B  -84.023201  Nashik\n",
      "92  93   54        D -185.865481  Nashik\n",
      "98  99   48        A   20.874755  Nagpur\n",
      "\n",
      "Total sample size: 47\n"
     ]
    }
   ],
   "source": [
    "# Add a 'City' column to act as our cluster\n",
    "population_df['City'] = np.random.choice(['Pune', 'Mumbai', 'Nagpur', 'Nashik'], size=100)\n",
    "\n",
    "# Identify unique clusters\n",
    "all_clusters = population_df['City'].unique()\n",
    "\n",
    "# Randomly select a number of clusters to sample\n",
    "num_clusters_to_sample = 2\n",
    "chosen_clusters = np.random.choice(all_clusters, size=num_clusters_to_sample, replace=False)\n",
    "\n",
    "# Select all rows belonging to the chosen clusters\n",
    "cluster_sample = population_df[population_df['City'].isin(chosen_clusters)]\n",
    "\n",
    "print(f\"--- Cluster Sample (from clusters: {chosen_clusters}) ---\")\n",
    "print(cluster_sample)\n",
    "print(f\"\\nTotal sample size: {len(cluster_sample)}\")"
   ]
  },
  {
   "cell_type": "markdown",
   "id": "3d924f88",
   "metadata": {},
   "source": [
    "---"
   ]
  },
  {
   "cell_type": "markdown",
   "id": "18d8bb29",
   "metadata": {},
   "source": [
    "# **Non-Probability Sampling**\n",
    "Non-probability sampling methods do not provide every individual with an equal chance of being selected. The selection is often based on the researcher's judgment, convenience, or other non-random criteria. While these methods are often more convenient and less expensive, they carry a higher risk of sampling bias and the findings may not be generalizable to the broader population."
   ]
  },
  {
   "cell_type": "markdown",
   "id": "2beeaa26",
   "metadata": {},
   "source": [
    "### 1. `Convenience Sampling`\n",
    "As the name suggests, this technique involves selecting individuals who are easiest to reach. Examples include conducting a survey at a mall or interviewing people on a busy street. While simple and quick, it is highly susceptible to bias."
   ]
  },
  {
   "cell_type": "code",
   "execution_count": 19,
   "id": "cf07cf94",
   "metadata": {},
   "outputs": [
    {
     "name": "stdout",
     "output_type": "stream",
     "text": [
      "--- Convenience Sample (first 15 rows) ---\n",
      "    ID  Age Category       Value    City\n",
      "0    1   50        C  -39.532689  Mumbai\n",
      "1    2   37        B  114.108606  Nagpur\n",
      "2    3   45        A  149.961259    Pune\n",
      "3    4   35        B  105.532590  Nashik\n",
      "4    5   49        C -119.618822  Nashik\n",
      "5    6   29        A   93.883822  Nagpur\n",
      "6    7   27        A   42.859535  Nagpur\n",
      "7    8   45        B  166.882345  Mumbai\n",
      "8    9   43        D   -5.536272    Pune\n",
      "9   10   49        B -158.172535  Nagpur\n",
      "10  11   31        C   43.224254  Nashik\n",
      "11  12   19        B  -11.367709  Mumbai\n",
      "12  13   30        D   60.125635  Nashik\n",
      "13  14   19        A  -23.898549  Mumbai\n",
      "14  15   18        A   47.827824  Mumbai\n"
     ]
    }
   ],
   "source": [
    "# Convenience sampling is taking what's easiest.\n",
    "# In a dataframe, this is often the first N rows.\n",
    "sample_size = 15\n",
    "convenience_sample = population_df.head(sample_size)\n",
    "\n",
    "print(\"--- Convenience Sample (first 15 rows) ---\")\n",
    "print(convenience_sample)"
   ]
  },
  {
   "cell_type": "markdown",
   "id": "703bbb97",
   "metadata": {},
   "source": [
    "### 2. `Purposive or Judgmental Sampling`\n",
    "In this method, the researcher uses their expertise to select individuals who are most relevant to the study's objectives. This is often used in qualitative research where the focus is on gaining in-depth knowledge from a specific group. For example, a study on the experiences of startup founders would specifically seek out and select individuals who have started their own companies."
   ]
  },
  {
   "cell_type": "code",
   "execution_count": 20,
   "id": "ef60058c",
   "metadata": {},
   "outputs": [
    {
     "name": "stdout",
     "output_type": "stream",
     "text": [
      "--- Purposive Sample (10 samples from Category A) ---\n",
      "    ID  Age Category       Value    City\n",
      "71  72   56        A   -4.524437  Mumbai\n",
      "39  40   64        A   20.937574  Nagpur\n",
      "24  25   48        A    4.407001  Nashik\n",
      "74  75   45        A  219.857297  Nagpur\n",
      "14  15   18        A   47.827824  Mumbai\n",
      "98  99   48        A   20.874755  Nagpur\n",
      "53  54   51        A   72.524583    Pune\n",
      "94  95   26        A  107.558366    Pune\n",
      "79  80   22        A -227.215856  Mumbai\n",
      "20  21   40        A   90.519168    Pune\n"
     ]
    }
   ],
   "source": [
    "# The researcher decides to only sample from 'Category A' for a specific study.\n",
    "purposive_sample = population_df[population_df['Category'] == 'A'].sample(n=10, random_state=42)\n",
    "\n",
    "print(\"--- Purposive Sample (10 samples from Category A) ---\")\n",
    "print(purposive_sample)"
   ]
  },
  {
   "cell_type": "markdown",
   "id": "2e56c2d1",
   "metadata": {},
   "source": [
    "### 3. `Quota Sampling`\n",
    "Similar to stratified sampling, quota sampling involves dividing the population into subgroups. However, the selection from each subgroup is non-random and is done until a predefined number (quota) for each group is met. For example, a researcher might aim to interview 50 men and 50 women, selecting them based on convenience until the quotas are filled."
   ]
  },
  {
   "cell_type": "markdown",
   "id": "f18f8fc0",
   "metadata": {},
   "source": [
    "### 4. `Snowball Sampling`\n",
    "This technique is used when the target population is hard to find or access. The researcher starts with a few known individuals and then asks them to refer others who meet the study's criteria. This is common in studies of hidden populations, such as homeless individuals or people with rare diseases."
   ]
  }
 ],
 "metadata": {
  "kernelspec": {
   "display_name": "Python 3",
   "language": "python",
   "name": "python3"
  },
  "language_info": {
   "codemirror_mode": {
    "name": "ipython",
    "version": 3
   },
   "file_extension": ".py",
   "mimetype": "text/x-python",
   "name": "python",
   "nbconvert_exporter": "python",
   "pygments_lexer": "ipython3",
   "version": "3.13.5"
  }
 },
 "nbformat": 4,
 "nbformat_minor": 5
}
