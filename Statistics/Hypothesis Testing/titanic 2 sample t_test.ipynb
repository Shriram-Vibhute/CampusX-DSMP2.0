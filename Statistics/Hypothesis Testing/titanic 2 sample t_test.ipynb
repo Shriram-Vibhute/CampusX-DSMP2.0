{
 "cells": [
  {
   "cell_type": "code",
   "execution_count": 16,
   "metadata": {},
   "outputs": [
    {
     "data": {
      "text/html": [
       "<div>\n",
       "<style scoped>\n",
       "    .dataframe tbody tr th:only-of-type {\n",
       "        vertical-align: middle;\n",
       "    }\n",
       "\n",
       "    .dataframe tbody tr th {\n",
       "        vertical-align: top;\n",
       "    }\n",
       "\n",
       "    .dataframe thead th {\n",
       "        text-align: right;\n",
       "    }\n",
       "</style>\n",
       "<table border=\"1\" class=\"dataframe\">\n",
       "  <thead>\n",
       "    <tr style=\"text-align: right;\">\n",
       "      <th></th>\n",
       "      <th>survived</th>\n",
       "      <th>pclass</th>\n",
       "      <th>sex</th>\n",
       "      <th>age</th>\n",
       "      <th>sibsp</th>\n",
       "      <th>parch</th>\n",
       "      <th>fare</th>\n",
       "      <th>embarked</th>\n",
       "      <th>class</th>\n",
       "      <th>who</th>\n",
       "      <th>adult_male</th>\n",
       "      <th>deck</th>\n",
       "      <th>embark_town</th>\n",
       "      <th>alive</th>\n",
       "      <th>alone</th>\n",
       "    </tr>\n",
       "  </thead>\n",
       "  <tbody>\n",
       "    <tr>\n",
       "      <th>0</th>\n",
       "      <td>0</td>\n",
       "      <td>3</td>\n",
       "      <td>male</td>\n",
       "      <td>22.0</td>\n",
       "      <td>1</td>\n",
       "      <td>0</td>\n",
       "      <td>7.2500</td>\n",
       "      <td>S</td>\n",
       "      <td>Third</td>\n",
       "      <td>man</td>\n",
       "      <td>True</td>\n",
       "      <td>NaN</td>\n",
       "      <td>Southampton</td>\n",
       "      <td>no</td>\n",
       "      <td>False</td>\n",
       "    </tr>\n",
       "    <tr>\n",
       "      <th>1</th>\n",
       "      <td>1</td>\n",
       "      <td>1</td>\n",
       "      <td>female</td>\n",
       "      <td>38.0</td>\n",
       "      <td>1</td>\n",
       "      <td>0</td>\n",
       "      <td>71.2833</td>\n",
       "      <td>C</td>\n",
       "      <td>First</td>\n",
       "      <td>woman</td>\n",
       "      <td>False</td>\n",
       "      <td>C</td>\n",
       "      <td>Cherbourg</td>\n",
       "      <td>yes</td>\n",
       "      <td>False</td>\n",
       "    </tr>\n",
       "    <tr>\n",
       "      <th>2</th>\n",
       "      <td>1</td>\n",
       "      <td>3</td>\n",
       "      <td>female</td>\n",
       "      <td>26.0</td>\n",
       "      <td>0</td>\n",
       "      <td>0</td>\n",
       "      <td>7.9250</td>\n",
       "      <td>S</td>\n",
       "      <td>Third</td>\n",
       "      <td>woman</td>\n",
       "      <td>False</td>\n",
       "      <td>NaN</td>\n",
       "      <td>Southampton</td>\n",
       "      <td>yes</td>\n",
       "      <td>True</td>\n",
       "    </tr>\n",
       "    <tr>\n",
       "      <th>3</th>\n",
       "      <td>1</td>\n",
       "      <td>1</td>\n",
       "      <td>female</td>\n",
       "      <td>35.0</td>\n",
       "      <td>1</td>\n",
       "      <td>0</td>\n",
       "      <td>53.1000</td>\n",
       "      <td>S</td>\n",
       "      <td>First</td>\n",
       "      <td>woman</td>\n",
       "      <td>False</td>\n",
       "      <td>C</td>\n",
       "      <td>Southampton</td>\n",
       "      <td>yes</td>\n",
       "      <td>False</td>\n",
       "    </tr>\n",
       "    <tr>\n",
       "      <th>4</th>\n",
       "      <td>0</td>\n",
       "      <td>3</td>\n",
       "      <td>male</td>\n",
       "      <td>35.0</td>\n",
       "      <td>0</td>\n",
       "      <td>0</td>\n",
       "      <td>8.0500</td>\n",
       "      <td>S</td>\n",
       "      <td>Third</td>\n",
       "      <td>man</td>\n",
       "      <td>True</td>\n",
       "      <td>NaN</td>\n",
       "      <td>Southampton</td>\n",
       "      <td>no</td>\n",
       "      <td>True</td>\n",
       "    </tr>\n",
       "  </tbody>\n",
       "</table>\n",
       "</div>"
      ],
      "text/plain": [
       "   survived  pclass     sex   age  sibsp  parch     fare embarked  class  \\\n",
       "0         0       3    male  22.0      1      0   7.2500        S  Third   \n",
       "1         1       1  female  38.0      1      0  71.2833        C  First   \n",
       "2         1       3  female  26.0      0      0   7.9250        S  Third   \n",
       "3         1       1  female  35.0      1      0  53.1000        S  First   \n",
       "4         0       3    male  35.0      0      0   8.0500        S  Third   \n",
       "\n",
       "     who  adult_male deck  embark_town alive  alone  \n",
       "0    man        True  NaN  Southampton    no  False  \n",
       "1  woman       False    C    Cherbourg   yes  False  \n",
       "2  woman       False  NaN  Southampton   yes   True  \n",
       "3  woman       False    C  Southampton   yes  False  \n",
       "4    man        True  NaN  Southampton    no   True  "
      ]
     },
     "execution_count": 16,
     "metadata": {},
     "output_type": "execute_result"
    }
   ],
   "source": [
    "import numpy as np\n",
    "import pandas as pd\n",
    "\n",
    "import seaborn as sns\n",
    "\n",
    "# Load the titanic dataset\n",
    "final_df = sns.load_dataset('titanic')\n",
    "final_df.head()"
   ]
  },
  {
   "cell_type": "code",
   "execution_count": 17,
   "metadata": {
    "execution": {
     "iopub.execute_input": "2023-04-06T16:14:35.648373Z",
     "iopub.status.busy": "2023-04-06T16:14:35.647539Z",
     "iopub.status.idle": "2023-04-06T16:14:35.661169Z",
     "shell.execute_reply": "2023-04-06T16:14:35.659371Z",
     "shell.execute_reply.started": "2023-04-06T16:14:35.648324Z"
    },
    "trusted": true
   },
   "outputs": [],
   "source": [
    "pop_male = final_df[final_df['sex'] == 'male']['age'].dropna()\n",
    "pop_female = final_df[final_df['sex'] == 'female']['age'].dropna()"
   ]
  },
  {
   "cell_type": "code",
   "execution_count": 18,
   "metadata": {
    "execution": {
     "iopub.execute_input": "2023-04-06T12:55:04.997999Z",
     "iopub.status.busy": "2023-04-06T12:55:04.997595Z",
     "iopub.status.idle": "2023-04-06T12:55:05.004651Z",
     "shell.execute_reply": "2023-04-06T12:55:05.003433Z",
     "shell.execute_reply.started": "2023-04-06T12:55:04.997965Z"
    },
    "trusted": true
   },
   "outputs": [],
   "source": [
    "# Drawing random samples from each group\n",
    "sample_male = pop_male.sample(25)\n",
    "sample_female = pop_female.sample(25)\n",
    "\n",
    "alpha = 0.05"
   ]
  },
  {
   "cell_type": "code",
   "execution_count": 19,
   "metadata": {
    "execution": {
     "iopub.execute_input": "2023-04-06T12:55:08.865629Z",
     "iopub.status.busy": "2023-04-06T12:55:08.865213Z",
     "iopub.status.idle": "2023-04-06T12:55:08.871018Z",
     "shell.execute_reply": "2023-04-06T12:55:08.869218Z",
     "shell.execute_reply.started": "2023-04-06T12:55:08.865590Z"
    },
    "trusted": true
   },
   "outputs": [],
   "source": [
    "# H0 - Mean age of male and female are similar\n",
    "# H1 - Mean age of male is higher than female"
   ]
  },
  {
   "cell_type": "code",
   "execution_count": 20,
   "metadata": {
    "execution": {
     "iopub.execute_input": "2023-04-06T16:17:47.797034Z",
     "iopub.status.busy": "2023-04-06T16:17:47.796592Z",
     "iopub.status.idle": "2023-04-06T16:17:47.805594Z",
     "shell.execute_reply": "2023-04-06T16:17:47.804355Z",
     "shell.execute_reply.started": "2023-04-06T16:17:47.796994Z"
    },
    "trusted": true
   },
   "outputs": [
    {
     "name": "stdout",
     "output_type": "stream",
     "text": [
      "30.72664459161148 27.915708812260537\n"
     ]
    }
   ],
   "source": [
    "print(pop_male.mean(), pop_female.mean())"
   ]
  },
  {
   "cell_type": "markdown",
   "metadata": {},
   "source": [
    "*Normality Test*"
   ]
  },
  {
   "cell_type": "code",
   "execution_count": 21,
   "metadata": {
    "execution": {
     "iopub.execute_input": "2023-04-06T12:56:36.642791Z",
     "iopub.status.busy": "2023-04-06T12:56:36.641993Z",
     "iopub.status.idle": "2023-04-06T12:56:36.914629Z",
     "shell.execute_reply": "2023-04-06T12:56:36.912078Z",
     "shell.execute_reply.started": "2023-04-06T12:56:36.642745Z"
    },
    "trusted": true
   },
   "outputs": [
    {
     "name": "stdout",
     "output_type": "stream",
     "text": [
      "Shapiro-Wilk test for desktop users: ShapiroResult(statistic=np.float64(0.9402726753386341), pvalue=np.float64(0.15019299769899003))\n",
      "Shapiro-Wilk test for mobile users: ShapiroResult(statistic=np.float64(0.9659108965320355), pvalue=np.float64(0.5441242139909652))\n"
     ]
    }
   ],
   "source": [
    "from scipy.stats import shapiro\n",
    "\n",
    "# Perform the Shapiro-Wilk test for both desktop and mobile users\n",
    "shapiro_male = shapiro(sample_male)\n",
    "shapiro_female = shapiro(sample_female)\n",
    "\n",
    "print(\"Shapiro-Wilk test for desktop users:\", shapiro_male)\n",
    "print(\"Shapiro-Wilk test for mobile users:\", shapiro_female)"
   ]
  },
  {
   "cell_type": "markdown",
   "metadata": {},
   "source": [
    "*Equal Variance Test*"
   ]
  },
  {
   "cell_type": "code",
   "execution_count": 22,
   "metadata": {
    "execution": {
     "iopub.execute_input": "2023-04-06T12:57:07.136792Z",
     "iopub.status.busy": "2023-04-06T12:57:07.136275Z",
     "iopub.status.idle": "2023-04-06T12:57:07.152134Z",
     "shell.execute_reply": "2023-04-06T12:57:07.150723Z",
     "shell.execute_reply.started": "2023-04-06T12:57:07.136750Z"
    },
    "trusted": true
   },
   "outputs": [
    {
     "name": "stdout",
     "output_type": "stream",
     "text": [
      "LeveneResult(statistic=np.float64(0.16480686695278995), pvalue=np.float64(0.6865731052220116))\n"
     ]
    }
   ],
   "source": [
    "from scipy.stats import levene\n",
    "\n",
    "# Perform Levene's test\n",
    "levene_test = levene(sample_male, sample_female)\n",
    "print(levene_test)"
   ]
  },
  {
   "cell_type": "code",
   "execution_count": 23,
   "metadata": {
    "execution": {
     "iopub.execute_input": "2023-04-06T13:04:27.509960Z",
     "iopub.status.busy": "2023-04-06T13:04:27.509491Z",
     "iopub.status.idle": "2023-04-06T13:04:27.519132Z",
     "shell.execute_reply": "2023-04-06T13:04:27.517326Z",
     "shell.execute_reply.started": "2023-04-06T13:04:27.509920Z"
    },
    "trusted": true
   },
   "outputs": [
    {
     "name": "stdout",
     "output_type": "stream",
     "text": [
      "t-statistic: 0.4372975735716563\n",
      "p-value: 0.3319284021550161\n"
     ]
    }
   ],
   "source": [
    "import scipy.stats as stats\n",
    "\n",
    "t_statistic, p_value = stats.ttest_ind(sample_male, sample_female)\n",
    "# ttest_ind -> Independent 2 sample T-Test\n",
    "\n",
    "print(\"t-statistic:\", t_statistic)\n",
    "print(\"p-value:\", p_value / 2)"
   ]
  },
  {
   "cell_type": "code",
   "execution_count": 24,
   "metadata": {
    "execution": {
     "iopub.execute_input": "2023-04-06T13:00:15.908621Z",
     "iopub.status.busy": "2023-04-06T13:00:15.906762Z",
     "iopub.status.idle": "2023-04-06T13:00:15.915892Z",
     "shell.execute_reply": "2023-04-06T13:00:15.914524Z",
     "shell.execute_reply.started": "2023-04-06T13:00:15.908561Z"
    },
    "trusted": true
   },
   "outputs": [
    {
     "name": "stdout",
     "output_type": "stream",
     "text": [
      "Fail to reject the null hypothesis.\n"
     ]
    }
   ],
   "source": [
    "alpha = 0.05\n",
    "\n",
    "if p_value < alpha:\n",
    "    print(\"Reject the null hypothesis.\")\n",
    "else:\n",
    "    print(\"Fail to reject the null hypothesis.\")"
   ]
  }
 ],
 "metadata": {
  "kernelspec": {
   "display_name": "Python 3",
   "language": "python",
   "name": "python3"
  },
  "language_info": {
   "codemirror_mode": {
    "name": "ipython",
    "version": 3
   },
   "file_extension": ".py",
   "mimetype": "text/x-python",
   "name": "python",
   "nbconvert_exporter": "python",
   "pygments_lexer": "ipython3",
   "version": "3.13.3"
  }
 },
 "nbformat": 4,
 "nbformat_minor": 4
}
