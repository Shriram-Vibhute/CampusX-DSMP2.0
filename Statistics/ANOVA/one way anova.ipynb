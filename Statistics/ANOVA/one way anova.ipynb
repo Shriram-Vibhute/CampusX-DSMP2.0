{
  "cells": [
    {
      "cell_type": "code",
      "execution_count": 35,
      "metadata": {
        "colab": {
          "base_uri": "https://localhost:8080/"
        },
        "id": "ZxG6fbY1mgFg",
        "outputId": "5cfc0d03-0205-4056-8d1d-2f00b4551747"
      },
      "outputs": [
        {
          "name": "stdout",
          "output_type": "stream",
          "text": [
            "P-value: 0.31696093163035305\n"
          ]
        }
      ],
      "source": [
        "import scipy.stats as stats\n",
        "\n",
        "f_statistic = 1.4  # The F-statistic value you've calculated\n",
        "df1 = 2            # Degrees of freedom for the numerator (between groups)\n",
        "df2 = 6            # Degrees of freedom for the denominator (within groups)\n",
        "\n",
        "p_value = stats.f.sf(f_statistic, df1, df2)\n",
        "print(\"P-value:\", p_value)"
      ]
    },
    {
      "cell_type": "code",
      "execution_count": 36,
      "metadata": {
        "colab": {
          "base_uri": "https://localhost:8080/",
          "height": 285
        },
        "id": "3mooIKIDNbuq",
        "outputId": "bd96b8d4-333c-470a-b873-e783fc563ca3"
      },
      "outputs": [
        {
          "data": {
            "text/html": [
              "<div>\n",
              "<style scoped>\n",
              "    .dataframe tbody tr th:only-of-type {\n",
              "        vertical-align: middle;\n",
              "    }\n",
              "\n",
              "    .dataframe tbody tr th {\n",
              "        vertical-align: top;\n",
              "    }\n",
              "\n",
              "    .dataframe thead th {\n",
              "        text-align: right;\n",
              "    }\n",
              "</style>\n",
              "<table border=\"1\" class=\"dataframe\">\n",
              "  <thead>\n",
              "    <tr style=\"text-align: right;\">\n",
              "      <th></th>\n",
              "      <th>PassengerId</th>\n",
              "      <th>Survived</th>\n",
              "      <th>Pclass</th>\n",
              "      <th>Name</th>\n",
              "      <th>Sex</th>\n",
              "      <th>Age</th>\n",
              "      <th>SibSp</th>\n",
              "      <th>Parch</th>\n",
              "      <th>Ticket</th>\n",
              "      <th>Fare</th>\n",
              "      <th>Cabin</th>\n",
              "      <th>Embarked</th>\n",
              "    </tr>\n",
              "  </thead>\n",
              "  <tbody>\n",
              "    <tr>\n",
              "      <th>0</th>\n",
              "      <td>1</td>\n",
              "      <td>0</td>\n",
              "      <td>3</td>\n",
              "      <td>Braund, Mr. Owen Harris</td>\n",
              "      <td>male</td>\n",
              "      <td>22.0</td>\n",
              "      <td>1</td>\n",
              "      <td>0</td>\n",
              "      <td>A/5 21171</td>\n",
              "      <td>7.2500</td>\n",
              "      <td>NaN</td>\n",
              "      <td>S</td>\n",
              "    </tr>\n",
              "    <tr>\n",
              "      <th>1</th>\n",
              "      <td>2</td>\n",
              "      <td>1</td>\n",
              "      <td>1</td>\n",
              "      <td>Cumings, Mrs. John Bradley (Florence Briggs Th...</td>\n",
              "      <td>female</td>\n",
              "      <td>38.0</td>\n",
              "      <td>1</td>\n",
              "      <td>0</td>\n",
              "      <td>PC 17599</td>\n",
              "      <td>71.2833</td>\n",
              "      <td>C85</td>\n",
              "      <td>C</td>\n",
              "    </tr>\n",
              "    <tr>\n",
              "      <th>2</th>\n",
              "      <td>3</td>\n",
              "      <td>1</td>\n",
              "      <td>3</td>\n",
              "      <td>Heikkinen, Miss. Laina</td>\n",
              "      <td>female</td>\n",
              "      <td>26.0</td>\n",
              "      <td>0</td>\n",
              "      <td>0</td>\n",
              "      <td>STON/O2. 3101282</td>\n",
              "      <td>7.9250</td>\n",
              "      <td>NaN</td>\n",
              "      <td>S</td>\n",
              "    </tr>\n",
              "    <tr>\n",
              "      <th>3</th>\n",
              "      <td>4</td>\n",
              "      <td>1</td>\n",
              "      <td>1</td>\n",
              "      <td>Futrelle, Mrs. Jacques Heath (Lily May Peel)</td>\n",
              "      <td>female</td>\n",
              "      <td>35.0</td>\n",
              "      <td>1</td>\n",
              "      <td>0</td>\n",
              "      <td>113803</td>\n",
              "      <td>53.1000</td>\n",
              "      <td>C123</td>\n",
              "      <td>S</td>\n",
              "    </tr>\n",
              "    <tr>\n",
              "      <th>4</th>\n",
              "      <td>5</td>\n",
              "      <td>0</td>\n",
              "      <td>3</td>\n",
              "      <td>Allen, Mr. William Henry</td>\n",
              "      <td>male</td>\n",
              "      <td>35.0</td>\n",
              "      <td>0</td>\n",
              "      <td>0</td>\n",
              "      <td>373450</td>\n",
              "      <td>8.0500</td>\n",
              "      <td>NaN</td>\n",
              "      <td>S</td>\n",
              "    </tr>\n",
              "  </tbody>\n",
              "</table>\n",
              "</div>"
            ],
            "text/plain": [
              "   PassengerId  Survived  Pclass  \\\n",
              "0            1         0       3   \n",
              "1            2         1       1   \n",
              "2            3         1       3   \n",
              "3            4         1       1   \n",
              "4            5         0       3   \n",
              "\n",
              "                                                Name     Sex   Age  SibSp  \\\n",
              "0                            Braund, Mr. Owen Harris    male  22.0      1   \n",
              "1  Cumings, Mrs. John Bradley (Florence Briggs Th...  female  38.0      1   \n",
              "2                             Heikkinen, Miss. Laina  female  26.0      0   \n",
              "3       Futrelle, Mrs. Jacques Heath (Lily May Peel)  female  35.0      1   \n",
              "4                           Allen, Mr. William Henry    male  35.0      0   \n",
              "\n",
              "   Parch            Ticket     Fare Cabin Embarked  \n",
              "0      0         A/5 21171   7.2500   NaN        S  \n",
              "1      0          PC 17599  71.2833   C85        C  \n",
              "2      0  STON/O2. 3101282   7.9250   NaN        S  \n",
              "3      0            113803  53.1000  C123        S  \n",
              "4      0            373450   8.0500   NaN        S  "
            ]
          },
          "execution_count": 36,
          "metadata": {},
          "output_type": "execute_result"
        }
      ],
      "source": [
        "import pandas as pd\n",
        "\n",
        "# Load the Titanic dataset\n",
        "url = \"https://raw.githubusercontent.com/datasciencedojo/datasets/master/titanic.csv\"\n",
        "df = pd.read_csv(url).dropna(subset=['Age'])\n",
        "\n",
        "df.head()"
      ]
    },
    {
      "cell_type": "code",
      "execution_count": 37,
      "metadata": {
        "colab": {
          "base_uri": "https://localhost:8080/"
        },
        "id": "X_IMbtOVlEO5",
        "outputId": "db48e02d-671c-45ee-dc07-69a0e43274f6"
      },
      "outputs": [
        {
          "data": {
            "text/plain": [
              "np.float64(25.14061971830986)"
            ]
          },
          "execution_count": 37,
          "metadata": {},
          "output_type": "execute_result"
        }
      ],
      "source": [
        "df[df['Pclass'] == 3]['Age'].mean()"
      ]
    },
    {
      "cell_type": "code",
      "execution_count": 38,
      "metadata": {
        "colab": {
          "base_uri": "https://localhost:8080/"
        },
        "id": "wT5IyvGPoJ7e",
        "outputId": "3637b79f-9844-4ba4-b92e-990687436302"
      },
      "outputs": [
        {
          "data": {
            "text/html": [
              "<div>\n",
              "<style scoped>\n",
              "    .dataframe tbody tr th:only-of-type {\n",
              "        vertical-align: middle;\n",
              "    }\n",
              "\n",
              "    .dataframe tbody tr th {\n",
              "        vertical-align: top;\n",
              "    }\n",
              "\n",
              "    .dataframe thead th {\n",
              "        text-align: right;\n",
              "    }\n",
              "</style>\n",
              "<table border=\"1\" class=\"dataframe\">\n",
              "  <thead>\n",
              "    <tr style=\"text-align: right;\">\n",
              "      <th></th>\n",
              "      <th>sum_sq</th>\n",
              "      <th>df</th>\n",
              "      <th>F</th>\n",
              "      <th>PR(&gt;F)</th>\n",
              "    </tr>\n",
              "  </thead>\n",
              "  <tbody>\n",
              "    <tr>\n",
              "      <th>Pclass</th>\n",
              "      <td>20511.429755</td>\n",
              "      <td>1.0</td>\n",
              "      <td>112.386893</td>\n",
              "      <td>1.756699e-24</td>\n",
              "    </tr>\n",
              "    <tr>\n",
              "      <th>Residual</th>\n",
              "      <td>129945.206190</td>\n",
              "      <td>712.0</td>\n",
              "      <td>NaN</td>\n",
              "      <td>NaN</td>\n",
              "    </tr>\n",
              "  </tbody>\n",
              "</table>\n",
              "</div>"
            ],
            "text/plain": [
              "                 sum_sq     df           F        PR(>F)\n",
              "Pclass     20511.429755    1.0  112.386893  1.756699e-24\n",
              "Residual  129945.206190  712.0         NaN           NaN"
            ]
          },
          "execution_count": 38,
          "metadata": {},
          "output_type": "execute_result"
        }
      ],
      "source": [
        "import statsmodels.api as sm\n",
        "from statsmodels.formula.api import ols # This is an OLS approach used in Linear Regression.\n",
        "\n",
        "model = ols('Age ~ Pclass', data = df).fit() # This line fits a linear regression model using the formula 'Age ~ Pclass', where Age is the dependent variable and Pclass (likely representing passenger class in the Titanic dataset) is the independent variable. The data parameter specifies the DataFrame df containing the data.\n",
        "\n",
        "anova_result = sm.stats.anova_lm(model, typ=2) # Here, the anova_lm function is called to perform the ANOVA test on the fitted model. The typ=2 argument specifies that a type II ANOVA should be performed, which is appropriate when there are no interactions in the model.\n",
        "\n",
        "anova_result"
      ]
    },
    {
      "cell_type": "code",
      "execution_count": 39,
      "metadata": {
        "colab": {
          "base_uri": "https://localhost:8080/"
        },
        "id": "X9e6kGHXodDB",
        "outputId": "d1888f81-a971-4772-e111-4b67de04aef0"
      },
      "outputs": [
        {
          "name": "stdout",
          "output_type": "stream",
          "text": [
            "1 2\n",
            "TtestResult(statistic=np.float64(5.485187676773201), pvalue=np.float64(7.835568991415144e-08), df=np.float64(357.0))\n",
            "2 3\n",
            "TtestResult(statistic=np.float64(3.927800191020872), pvalue=np.float64(9.715078600777851e-05), df=np.float64(526.0))\n",
            "3 1\n",
            "TtestResult(statistic=np.float64(-10.849122601201033), pvalue=np.float64(6.134470007830625e-25), df=np.float64(539.0))\n"
          ]
        }
      ],
      "source": [
        "import scipy.stats as stats\n",
        "\n",
        "for class1,class2 in [(1,2),(2,3),(3,1)]:\n",
        "  print(class1,class2)\n",
        "  print(stats.ttest_ind(df[df['Pclass'] == class1]['Age'], df[df['Pclass'] == class2]['Age']))"
      ]
    },
    {
      "cell_type": "markdown",
      "metadata": {},
      "source": [
        "*The mean of each class (1, 2, and 3) is significantly different from the others.\n",
        "All three groups have unique, statistically distinct means.*"
      ]
    },
    {
      "cell_type": "code",
      "execution_count": 40,
      "metadata": {
        "colab": {
          "base_uri": "https://localhost:8080/",
          "height": 702
        },
        "id": "9VYbgCYUuwTu",
        "outputId": "3d64df2b-13d7-4d1f-d071-a263c9b109e9"
      },
      "outputs": [
        {
          "data": {
            "text/html": [
              "<div>\n",
              "<style scoped>\n",
              "    .dataframe tbody tr th:only-of-type {\n",
              "        vertical-align: middle;\n",
              "    }\n",
              "\n",
              "    .dataframe tbody tr th {\n",
              "        vertical-align: top;\n",
              "    }\n",
              "\n",
              "    .dataframe thead th {\n",
              "        text-align: right;\n",
              "    }\n",
              "</style>\n",
              "<table border=\"1\" class=\"dataframe\">\n",
              "  <thead>\n",
              "    <tr style=\"text-align: right;\">\n",
              "      <th></th>\n",
              "      <th>0</th>\n",
              "      <th>1</th>\n",
              "      <th>2</th>\n",
              "      <th>3</th>\n",
              "      <th>4</th>\n",
              "      <th>5</th>\n",
              "      <th>6</th>\n",
              "    </tr>\n",
              "  </thead>\n",
              "  <tbody>\n",
              "    <tr>\n",
              "      <th>0</th>\n",
              "      <td>group1</td>\n",
              "      <td>group2</td>\n",
              "      <td>meandiff</td>\n",
              "      <td>p-adj</td>\n",
              "      <td>lower</td>\n",
              "      <td>upper</td>\n",
              "      <td>reject</td>\n",
              "    </tr>\n",
              "    <tr>\n",
              "      <th>1</th>\n",
              "      <td>1</td>\n",
              "      <td>2</td>\n",
              "      <td>-8.3558</td>\n",
              "      <td>0.0</td>\n",
              "      <td>-11.7041</td>\n",
              "      <td>-5.0075</td>\n",
              "      <td>True</td>\n",
              "    </tr>\n",
              "    <tr>\n",
              "      <th>2</th>\n",
              "      <td>1</td>\n",
              "      <td>3</td>\n",
              "      <td>-13.0928</td>\n",
              "      <td>0.0</td>\n",
              "      <td>-15.9622</td>\n",
              "      <td>-10.2234</td>\n",
              "      <td>True</td>\n",
              "    </tr>\n",
              "    <tr>\n",
              "      <th>3</th>\n",
              "      <td>2</td>\n",
              "      <td>3</td>\n",
              "      <td>-4.737</td>\n",
              "      <td>0.0005</td>\n",
              "      <td>-7.6763</td>\n",
              "      <td>-1.7977</td>\n",
              "      <td>True</td>\n",
              "    </tr>\n",
              "  </tbody>\n",
              "</table>\n",
              "</div>"
            ],
            "text/plain": [
              "        0       1         2       3         4         5       6\n",
              "0  group1  group2  meandiff   p-adj     lower     upper  reject\n",
              "1       1       2   -8.3558     0.0  -11.7041   -5.0075    True\n",
              "2       1       3  -13.0928     0.0  -15.9622  -10.2234    True\n",
              "3       2       3    -4.737  0.0005   -7.6763   -1.7977    True"
            ]
          },
          "execution_count": 40,
          "metadata": {},
          "output_type": "execute_result"
        },
        {
          "data": {
            "image/png": "[encoded data removed]",
            "text/plain": [
              "<Figure size 1000x600 with 1 Axes>"
            ]
          },
          "metadata": {},
          "output_type": "display_data"
        }
      ],
      "source": [
        "from statsmodels.stats.multicomp import pairwise_tukeyhsd\n",
        "import matplotlib.pyplot as plt\n",
        "\n",
        "tukey = pairwise_tukeyhsd(endog=df['Age'], groups=df['Pclass'], alpha=0.05) # This line performs Tukey's HSD test on the Age data grouped by Pclass. The endog parameter specifies the dependent variable (age), and groups specifies the independent variable (passenger class). The alpha parameter sets the significance level at 0.05.\n",
        "\n",
        "tukey.plot_simultaneous() # This line creates a simultaneous comparison plot for the Tukey HSD test results. The plot_simultaneous method visualizes the pairwise comparisons between the groups, showing the confidence intervals for each comparison.\n",
        "\n",
        "plt.vlines(x=49.57,ymin=-0.5,ymax=4.5, color=\"red\") # This line adds a vertical line to the plot at x=49.57, which is the mean age of passengers in the third class. The ymin and ymax parameters specify the vertical range of the line, and the color parameter sets the line color to red.\n",
        "\n",
        "pd.DataFrame(tukey.summary()) # This line converts the summary of the Tukey HSD test results into a Pandas DataFrame for easier viewing and interpretation. The summary includes information about the pairwise comparisons, including mean differences, confidence intervals, and significance levels."
      ]
    },
    {
      "cell_type": "markdown",
      "metadata": {},
      "source": [
        "<img src=\"https://r2cdn.perplexity.ai/pplx-full-logo-primary-dark%402x.png\" class=\"logo\" width=\"120\"/>\n",
        "\n",
        "### **Sample ANOVA Interview Questions**\n",
        "\n",
        "- **When would you use an ANOVA test instead of a t-test?**\n",
        "*Expected answer:* ANOVA is preferred when you need to compare the means of three or more groups, whereas a t-test is used for comparing the means of two groups.\n",
        "- **What is the null hypothesis in ANOVA?**\n",
        "*Expected answer:* The null hypothesis in ANOVA states that all group means are equal.\n",
        "- **After finding a significant result with ANOVA, what would you do next?**\n",
        "*Expected answer:* Perform a post hoc test (such as Tukey’s HSD) to determine which specific groups’ means are significantly different from each other.\n",
        "- **What assumptions must be met for ANOVA to be valid?**\n",
        "*Expected answer:* The main assumptions are independence of observations, normality of the residuals, and homogeneity of variances across groups.\n",
        "- **Can you use ANOVA for feature selection? How?**\n",
        "*Expected answer:* Yes, ANOVA can be used to select features by checking if the means of a feature differ significantly across target groups; features with significant differences are considered important.\n",
        "\n",
        "---"
      ]
    },
    {
      "cell_type": "code",
      "execution_count": 41,
      "metadata": {},
      "outputs": [
        {
          "name": "stdout",
          "output_type": "stream",
          "text": [
            "Shapiro-Wilk test for normality of Fare column: ShapiroResult(statistic=np.float64(0.5280936621231834), pvalue=np.float64(7.461943489525117e-40))\n"
          ]
        }
      ],
      "source": [
        "# Checking the Normality\n",
        "from scipy.stats import shapiro\n",
        "\n",
        "# Applying the Shapiro-Wilk test to check the normality of 'Fare' column\n",
        "shapiro_test = shapiro(df['Fare'])\n",
        "print('Shapiro-Wilk test for normality of Fare column:', shapiro_test)\n",
        "# Since the P-value is very small the distribution is not normal"
      ]
    },
    {
      "cell_type": "code",
      "execution_count": 42,
      "metadata": {},
      "outputs": [
        {
          "name": "stdout",
          "output_type": "stream",
          "text": [
            "Levene's test statistic:  98.44114799983404\n",
            "p-value:  1.820283344370833e-38\n"
          ]
        }
      ],
      "source": [
        "from scipy.stats import levene\n",
        "\n",
        "p_class_levene = levene(df[df['Pclass'] == 1]['Fare'], df[df['Pclass'] == 2]['Fare'], df[df['Pclass'] == 3]['Fare'])\n",
        "print(\"Levene's test statistic: \", p_class_levene.statistic)\n",
        "print(\"p-value: \", p_class_levene.pvalue)\n",
        "# Since the P-value < 0.05, there is no equal variance across the categories"
      ]
    },
    {
      "cell_type": "markdown",
      "metadata": {},
      "source": [
        "*The assumption require to apply ANOVA is failed. Still for practice we are applying the test*"
      ]
    },
    {
      "cell_type": "code",
      "execution_count": 43,
      "metadata": {},
      "outputs": [
        {
          "data": {
            "text/html": [
              "<div>\n",
              "<style scoped>\n",
              "    .dataframe tbody tr th:only-of-type {\n",
              "        vertical-align: middle;\n",
              "    }\n",
              "\n",
              "    .dataframe tbody tr th {\n",
              "        vertical-align: top;\n",
              "    }\n",
              "\n",
              "    .dataframe thead th {\n",
              "        text-align: right;\n",
              "    }\n",
              "</style>\n",
              "<table border=\"1\" class=\"dataframe\">\n",
              "  <thead>\n",
              "    <tr style=\"text-align: right;\">\n",
              "      <th></th>\n",
              "      <th>Fare</th>\n",
              "      <th>Pclass</th>\n",
              "    </tr>\n",
              "  </thead>\n",
              "  <tbody>\n",
              "    <tr>\n",
              "      <th>0</th>\n",
              "      <td>7.2500</td>\n",
              "      <td>3</td>\n",
              "    </tr>\n",
              "    <tr>\n",
              "      <th>1</th>\n",
              "      <td>71.2833</td>\n",
              "      <td>1</td>\n",
              "    </tr>\n",
              "    <tr>\n",
              "      <th>2</th>\n",
              "      <td>7.9250</td>\n",
              "      <td>3</td>\n",
              "    </tr>\n",
              "    <tr>\n",
              "      <th>3</th>\n",
              "      <td>53.1000</td>\n",
              "      <td>1</td>\n",
              "    </tr>\n",
              "    <tr>\n",
              "      <th>4</th>\n",
              "      <td>8.0500</td>\n",
              "      <td>3</td>\n",
              "    </tr>\n",
              "  </tbody>\n",
              "</table>\n",
              "</div>"
            ],
            "text/plain": [
              "      Fare  Pclass\n",
              "0   7.2500       3\n",
              "1  71.2833       1\n",
              "2   7.9250       3\n",
              "3  53.1000       1\n",
              "4   8.0500       3"
            ]
          },
          "execution_count": 43,
          "metadata": {},
          "output_type": "execute_result"
        }
      ],
      "source": [
        "df = df[['Fare','Pclass']]\n",
        "df.head()"
      ]
    },
    {
      "cell_type": "markdown",
      "metadata": {},
      "source": [
        "*H0 - mean(Pclass1) = mean(Pclass2) = mean(Pclass3)<br>\n",
        "HA - Either any one or all are not equal*"
      ]
    },
    {
      "cell_type": "code",
      "execution_count": 44,
      "metadata": {},
      "outputs": [],
      "source": [
        "# Required Values\n",
        "n = len(df) \n",
        "k = 3\n",
        "alpha = 0.05"
      ]
    },
    {
      "cell_type": "code",
      "execution_count": 45,
      "metadata": {},
      "outputs": [
        {
          "data": {
            "text/plain": [
              "np.float64(34.694514005602244)"
            ]
          },
          "execution_count": 45,
          "metadata": {},
          "output_type": "execute_result"
        }
      ],
      "source": [
        "# Calculating Groud Mean\n",
        "ground_mean = df['Fare'].mean()\n",
        "ground_mean"
      ]
    },
    {
      "cell_type": "code",
      "execution_count": 46,
      "metadata": {},
      "outputs": [
        {
          "name": "stdout",
          "output_type": "stream",
          "text": [
            "Within Group Sum of Squares:  1275127.1804995076\n",
            "Between Group Sum of Squares:  721567.3595831523\n"
          ]
        }
      ],
      "source": [
        "import numpy as np\n",
        "# Calculating Within group and Between group sum of squares\n",
        "Pclass1_df = df[df['Pclass'] == 1]\n",
        "Pclass2_df = df[df['Pclass'] == 2]\n",
        "Pclass3_df = df[df['Pclass'] == 3]\n",
        "\n",
        "# Within Group Sum of Squares\n",
        "WSS = np.sum((Pclass1_df['Fare'] - np.mean(Pclass1_df['Fare']))**2) + np.sum((Pclass2_df['Fare'] - np.mean(Pclass2_df['Fare']))**2) + np.sum((Pclass3_df['Fare'] - np.mean(Pclass3_df['Fare']))**2)\n",
        "print(\"Within Group Sum of Squares: \", WSS)\n",
        "\n",
        "# Between Group Sum of Squares\n",
        "BSS = np.sum(\n",
        "    (Pclass1_df.shape[0] * (Pclass1_df['Fare'].mean() - df['Fare'].mean()) ** 2) +\n",
        "    (Pclass2_df.shape[0] * (Pclass2_df['Fare'].mean() - df['Fare'].mean()) ** 2) + \n",
        "    (Pclass3_df.shape[0] * (Pclass3_df['Fare'].mean() - df['Fare'].mean()) ** 2)\n",
        ")\n",
        "print(\"Between Group Sum of Squares: \", BSS)"
      ]
    },
    {
      "cell_type": "code",
      "execution_count": 47,
      "metadata": {},
      "outputs": [
        {
          "name": "stdout",
          "output_type": "stream",
          "text": [
            "Sum of Squares Total:  1996694.54008266\n"
          ]
        }
      ],
      "source": [
        "# Calaulating Sum of Squares Total\n",
        "TSS = np.sum((df['Fare'] - df['Fare'].mean()) ** 2)\n",
        "print(\"Sum of Squares Total: \", TSS)"
      ]
    },
    {
      "cell_type": "code",
      "execution_count": 48,
      "metadata": {},
      "outputs": [
        {
          "name": "stdout",
          "output_type": "stream",
          "text": [
            "711 2\n"
          ]
        }
      ],
      "source": [
        "# Calculating Degree of Freedom\n",
        "dof_ssb = k - 1\n",
        "dof_ssw = n - k\n",
        "print(dof_ssw, dof_ssb)"
      ]
    },
    {
      "cell_type": "code",
      "execution_count": 49,
      "metadata": {},
      "outputs": [
        {
          "name": "stdout",
          "output_type": "stream",
          "text": [
            "360783.67979157617 1793.427820674413\n"
          ]
        }
      ],
      "source": [
        "# Calculating Mean Squared Between and Mean Squared Within\n",
        "MSB = BSS / dof_ssb\n",
        "MSW = WSS / dof_ssw\n",
        "print(MSB, MSW)"
      ]
    },
    {
      "cell_type": "code",
      "execution_count": 50,
      "metadata": {},
      "outputs": [
        {
          "name": "stdout",
          "output_type": "stream",
          "text": [
            "201.16989132905533\n"
          ]
        }
      ],
      "source": [
        "# Calculating F-Statistic\n",
        "f_statistic = MSB / MSW\n",
        "print(f_statistic)"
      ]
    },
    {
      "cell_type": "code",
      "execution_count": 51,
      "metadata": {},
      "outputs": [
        {
          "name": "stdout",
          "output_type": "stream",
          "text": [
            "5.80077208465038e-70\n"
          ]
        }
      ],
      "source": [
        "# Calculating the p-value\n",
        "import scipy.stats as stats\n",
        "p_value = stats.f.sf(f_statistic, dof_ssb, dof_ssw)\n",
        "print(p_value)"
      ]
    },
    {
      "cell_type": "markdown",
      "metadata": {},
      "source": [
        "*The ANOVA test reveals that there is a statistically significant difference in the means of the three groups (p-value < 0.05).*"
      ]
    }
  ],
  "metadata": {
    "colab": {
      "provenance": []
    },
    "kernelspec": {
      "display_name": "Python 3",
      "name": "python3"
    },
    "language_info": {
      "codemirror_mode": {
        "name": "ipython",
        "version": 3
      },
      "file_extension": ".py",
      "mimetype": "text/x-python",
      "name": "python",
      "nbconvert_exporter": "python",
      "pygments_lexer": "ipython3",
      "version": "3.13.3"
    }
  },
  "nbformat": 4,
  "nbformat_minor": 0
}
