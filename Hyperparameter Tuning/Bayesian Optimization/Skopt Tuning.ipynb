{
  "cells": [
    {
      "cell_type": "code",
      "execution_count": null,
      "metadata": {
        "id": "srcBptrg-qsy"
      },
      "outputs": [],
      "source": [
        "# Import Libraries\n",
        "import pandas as pd\n",
        "import numpy as np\n",
        "from sklearn.ensemble import RandomForestClassifier\n",
        "from sklearn.model_selection import train_test_split, cross_val_score\n",
        "from sklearn.preprocessing import StandardScaler\n",
        "from skopt import gp_minimize\n",
        "from skopt.space import Integer, Categorical\n",
        "from skopt.utils import use_named_args\n",
        "from sklearn.metrics import accuracy_score, classification_report, confusion_matrix"
      ]
    },
    {
      "cell_type": "code",
      "execution_count": 4,
      "metadata": {
        "colab": {
          "base_uri": "https://localhost:8080/",
          "height": 206
        },
        "id": "ESZeAMS9-04r",
        "outputId": "c46eece9-4d1b-436f-8570-c5583dec7dfa"
      },
      "outputs": [
        {
          "data": {
            "text/html": [
              "<div>\n",
              "<style scoped>\n",
              "    .dataframe tbody tr th:only-of-type {\n",
              "        vertical-align: middle;\n",
              "    }\n",
              "\n",
              "    .dataframe tbody tr th {\n",
              "        vertical-align: top;\n",
              "    }\n",
              "\n",
              "    .dataframe thead th {\n",
              "        text-align: right;\n",
              "    }\n",
              "</style>\n",
              "<table border=\"1\" class=\"dataframe\">\n",
              "  <thead>\n",
              "    <tr style=\"text-align: right;\">\n",
              "      <th></th>\n",
              "      <th>Pregnancies</th>\n",
              "      <th>Glucose</th>\n",
              "      <th>BloodPressure</th>\n",
              "      <th>SkinThickness</th>\n",
              "      <th>Insulin</th>\n",
              "      <th>BMI</th>\n",
              "      <th>DiabetesPedigreeFunction</th>\n",
              "      <th>Age</th>\n",
              "      <th>Outcome</th>\n",
              "    </tr>\n",
              "  </thead>\n",
              "  <tbody>\n",
              "    <tr>\n",
              "      <th>0</th>\n",
              "      <td>6</td>\n",
              "      <td>148</td>\n",
              "      <td>72</td>\n",
              "      <td>35</td>\n",
              "      <td>0</td>\n",
              "      <td>33.6</td>\n",
              "      <td>0.627</td>\n",
              "      <td>50</td>\n",
              "      <td>1</td>\n",
              "    </tr>\n",
              "    <tr>\n",
              "      <th>1</th>\n",
              "      <td>1</td>\n",
              "      <td>85</td>\n",
              "      <td>66</td>\n",
              "      <td>29</td>\n",
              "      <td>0</td>\n",
              "      <td>26.6</td>\n",
              "      <td>0.351</td>\n",
              "      <td>31</td>\n",
              "      <td>0</td>\n",
              "    </tr>\n",
              "    <tr>\n",
              "      <th>2</th>\n",
              "      <td>8</td>\n",
              "      <td>183</td>\n",
              "      <td>64</td>\n",
              "      <td>0</td>\n",
              "      <td>0</td>\n",
              "      <td>23.3</td>\n",
              "      <td>0.672</td>\n",
              "      <td>32</td>\n",
              "      <td>1</td>\n",
              "    </tr>\n",
              "    <tr>\n",
              "      <th>3</th>\n",
              "      <td>1</td>\n",
              "      <td>89</td>\n",
              "      <td>66</td>\n",
              "      <td>23</td>\n",
              "      <td>94</td>\n",
              "      <td>28.1</td>\n",
              "      <td>0.167</td>\n",
              "      <td>21</td>\n",
              "      <td>0</td>\n",
              "    </tr>\n",
              "    <tr>\n",
              "      <th>4</th>\n",
              "      <td>0</td>\n",
              "      <td>137</td>\n",
              "      <td>40</td>\n",
              "      <td>35</td>\n",
              "      <td>168</td>\n",
              "      <td>43.1</td>\n",
              "      <td>2.288</td>\n",
              "      <td>33</td>\n",
              "      <td>1</td>\n",
              "    </tr>\n",
              "  </tbody>\n",
              "</table>\n",
              "</div>"
            ],
            "text/plain": [
              "   Pregnancies  Glucose  BloodPressure  SkinThickness  Insulin   BMI  \\\n",
              "0            6      148             72             35        0  33.6   \n",
              "1            1       85             66             29        0  26.6   \n",
              "2            8      183             64              0        0  23.3   \n",
              "3            1       89             66             23       94  28.1   \n",
              "4            0      137             40             35      168  43.1   \n",
              "\n",
              "   DiabetesPedigreeFunction  Age  Outcome  \n",
              "0                     0.627   50        1  \n",
              "1                     0.351   31        0  \n",
              "2                     0.672   32        1  \n",
              "3                     0.167   21        0  \n",
              "4                     2.288   33        1  "
            ]
          },
          "execution_count": 4,
          "metadata": {},
          "output_type": "execute_result"
        }
      ],
      "source": [
        "# Load the dataset\n",
        "url = \"https://raw.githubusercontent.com/jbrownlee/Datasets/master/pima-indians-diabetes.data.csv\"\n",
        "columns = [\n",
        "    'Pregnancies', 'Glucose', 'BloodPressure', 'SkinThickness',\n",
        "    'Insulin', 'BMI', 'DiabetesPedigreeFunction', 'Age', 'Outcome'\n",
        "]\n",
        "df = pd.read_csv(url, header=None, names=columns)\n",
        "df.head()"
      ]
    },
    {
      "cell_type": "code",
      "execution_count": 6,
      "metadata": {
        "colab": {
          "base_uri": "https://localhost:8080/",
          "height": 423
        },
        "id": "2gH0ZpR0-7gr",
        "outputId": "322e872d-3196-46ce-a534-a3cc7373a4d1"
      },
      "outputs": [
        {
          "data": {
            "text/html": [
              "<div>\n",
              "<style scoped>\n",
              "    .dataframe tbody tr th:only-of-type {\n",
              "        vertical-align: middle;\n",
              "    }\n",
              "\n",
              "    .dataframe tbody tr th {\n",
              "        vertical-align: top;\n",
              "    }\n",
              "\n",
              "    .dataframe thead th {\n",
              "        text-align: right;\n",
              "    }\n",
              "</style>\n",
              "<table border=\"1\" class=\"dataframe\">\n",
              "  <thead>\n",
              "    <tr style=\"text-align: right;\">\n",
              "      <th></th>\n",
              "      <th>Pregnancies</th>\n",
              "      <th>Glucose</th>\n",
              "      <th>BloodPressure</th>\n",
              "      <th>SkinThickness</th>\n",
              "      <th>Insulin</th>\n",
              "      <th>BMI</th>\n",
              "      <th>DiabetesPedigreeFunction</th>\n",
              "      <th>Age</th>\n",
              "      <th>Outcome</th>\n",
              "    </tr>\n",
              "  </thead>\n",
              "  <tbody>\n",
              "    <tr>\n",
              "      <th>610</th>\n",
              "      <td>3</td>\n",
              "      <td>106.0</td>\n",
              "      <td>54.0</td>\n",
              "      <td>21.0</td>\n",
              "      <td>158.0</td>\n",
              "      <td>30.9</td>\n",
              "      <td>0.292</td>\n",
              "      <td>24</td>\n",
              "      <td>0</td>\n",
              "    </tr>\n",
              "    <tr>\n",
              "      <th>328</th>\n",
              "      <td>2</td>\n",
              "      <td>102.0</td>\n",
              "      <td>86.0</td>\n",
              "      <td>36.0</td>\n",
              "      <td>120.0</td>\n",
              "      <td>45.5</td>\n",
              "      <td>0.127</td>\n",
              "      <td>23</td>\n",
              "      <td>1</td>\n",
              "    </tr>\n",
              "    <tr>\n",
              "      <th>418</th>\n",
              "      <td>1</td>\n",
              "      <td>83.0</td>\n",
              "      <td>68.0</td>\n",
              "      <td>NaN</td>\n",
              "      <td>NaN</td>\n",
              "      <td>18.2</td>\n",
              "      <td>0.624</td>\n",
              "      <td>27</td>\n",
              "      <td>0</td>\n",
              "    </tr>\n",
              "    <tr>\n",
              "      <th>133</th>\n",
              "      <td>8</td>\n",
              "      <td>84.0</td>\n",
              "      <td>74.0</td>\n",
              "      <td>31.0</td>\n",
              "      <td>NaN</td>\n",
              "      <td>38.3</td>\n",
              "      <td>0.457</td>\n",
              "      <td>39</td>\n",
              "      <td>0</td>\n",
              "    </tr>\n",
              "    <tr>\n",
              "      <th>374</th>\n",
              "      <td>2</td>\n",
              "      <td>122.0</td>\n",
              "      <td>52.0</td>\n",
              "      <td>43.0</td>\n",
              "      <td>158.0</td>\n",
              "      <td>36.2</td>\n",
              "      <td>0.816</td>\n",
              "      <td>28</td>\n",
              "      <td>0</td>\n",
              "    </tr>\n",
              "  </tbody>\n",
              "</table>\n",
              "</div>"
            ],
            "text/plain": [
              "     Pregnancies  Glucose  BloodPressure  SkinThickness  Insulin   BMI  \\\n",
              "610            3    106.0           54.0           21.0    158.0  30.9   \n",
              "328            2    102.0           86.0           36.0    120.0  45.5   \n",
              "418            1     83.0           68.0            NaN      NaN  18.2   \n",
              "133            8     84.0           74.0           31.0      NaN  38.3   \n",
              "374            2    122.0           52.0           43.0    158.0  36.2   \n",
              "\n",
              "     DiabetesPedigreeFunction  Age  Outcome  \n",
              "610                     0.292   24        0  \n",
              "328                     0.127   23        1  \n",
              "418                     0.624   27        0  \n",
              "133                     0.457   39        0  \n",
              "374                     0.816   28        0  "
            ]
          },
          "execution_count": 6,
          "metadata": {},
          "output_type": "execute_result"
        }
      ],
      "source": [
        "# Data Preprocessing\n",
        "missing_columns = ['Glucose', 'BloodPressure', 'SkinThickness', 'Insulin', 'BMI']\n",
        "for column in missing_columns:\n",
        "    df[column] = df[column].replace(0, np.nan)\n",
        "df.sample(5)"
      ]
    },
    {
      "cell_type": "code",
      "execution_count": 8,
      "metadata": {
        "colab": {
          "base_uri": "https://localhost:8080/",
          "height": 423
        },
        "id": "KVCkqKiK46ex",
        "outputId": "059439ba-51d7-4094-a2ad-55c4da6206b4"
      },
      "outputs": [],
      "source": [
        "df.fillna(df.median(), inplace=True)\n",
        "X = df.drop('Outcome', axis=1)\n",
        "y = df['Outcome']"
      ]
    },
    {
      "cell_type": "code",
      "execution_count": 9,
      "metadata": {
        "id": "ke5aND9l_BgW"
      },
      "outputs": [],
      "source": [
        "scaler = StandardScaler()\n",
        "X_scaled = scaler.fit_transform(X)\n",
        "X_train_full, X_test, y_train_full, y_test = train_test_split(\n",
        "    X_scaled, y, test_size=0.2, random_state=42, stratify=y\n",
        ")"
      ]
    },
    {
      "cell_type": "code",
      "execution_count": 10,
      "metadata": {
        "id": "3Xk0kImK_FxA"
      },
      "outputs": [],
      "source": [
        "# Define hyperparameter space\n",
        "param_space = [\n",
        "    Integer(50, 300, name='n_estimators'), # from 50 to 300 inclusive\n",
        "    Integer(2, 20, name='max_depth'),\n",
        "    Integer(2, 20, name='min_samples_split'),\n",
        "    Integer(1, 20, name='min_samples_leaf'),\n",
        "    Categorical(['sqrt', 'log2', None], name='max_features'),\n",
        "    Categorical([True, False], name='bootstrap') # Boolean also considered into categorical\n",
        "]"
      ]
    },
    {
      "cell_type": "code",
      "execution_count": 11,
      "metadata": {
        "id": "IJm3Y0jM_JTT"
      },
      "outputs": [],
      "source": [
        "# Define the objective function\n",
        "@use_named_args(param_space)\n",
        "def objective(**params):\n",
        "    model = RandomForestClassifier(\n",
        "        random_state=42,\n",
        "        n_jobs=-1,\n",
        "        **params\n",
        "    )\n",
        "    cv_scores = cross_val_score(\n",
        "        model, X_train_full, y_train_full, cv=5, scoring='accuracy', n_jobs=-1\n",
        "    )\n",
        "    score = -np.mean(cv_scores)\n",
        "    return score"
      ]
    },
    {
      "cell_type": "code",
      "execution_count": 12,
      "metadata": {
        "colab": {
          "base_uri": "https://localhost:8080/"
        },
        "id": "MROa7n4-_MSj",
        "outputId": "f8b9744a-9d0c-4113-c7ae-c2e633639c3a"
      },
      "outputs": [
        {
          "name": "stdout",
          "output_type": "stream",
          "text": [
            "Iteration No: 1 started. Evaluating function at random point.\n",
            "Iteration No: 1 ended. Evaluation done at random point.\n",
            "Time taken: 4.2715\n",
            "Function value obtained: -0.7589\n",
            "Current minimum: -0.7589\n",
            "Iteration No: 2 started. Evaluating function at random point.\n",
            "Iteration No: 2 ended. Evaluation done at random point.\n",
            "Time taken: 2.6360\n",
            "Function value obtained: -0.7655\n",
            "Current minimum: -0.7655\n",
            "Iteration No: 3 started. Evaluating function at random point.\n",
            "Iteration No: 3 ended. Evaluation done at random point.\n",
            "Time taken: 0.5533\n",
            "Function value obtained: -0.7801\n",
            "Current minimum: -0.7801\n",
            "Iteration No: 4 started. Evaluating function at random point.\n",
            "Iteration No: 4 ended. Evaluation done at random point.\n",
            "Time taken: 0.2357\n",
            "Function value obtained: -0.7687\n",
            "Current minimum: -0.7801\n",
            "Iteration No: 5 started. Evaluating function at random point.\n",
            "Iteration No: 5 ended. Evaluation done at random point.\n",
            "Time taken: 0.8055\n",
            "Function value obtained: -0.7704\n",
            "Current minimum: -0.7801\n",
            "Iteration No: 6 started. Evaluating function at random point.\n",
            "Iteration No: 6 ended. Evaluation done at random point.\n",
            "Time taken: 0.4798\n",
            "Function value obtained: -0.7525\n",
            "Current minimum: -0.7801\n",
            "Iteration No: 7 started. Evaluating function at random point.\n",
            "Iteration No: 7 ended. Evaluation done at random point.\n",
            "Time taken: 0.8401\n",
            "Function value obtained: -0.7606\n",
            "Current minimum: -0.7801\n",
            "Iteration No: 8 started. Evaluating function at random point.\n",
            "Iteration No: 8 ended. Evaluation done at random point.\n",
            "Time taken: 1.1302\n",
            "Function value obtained: -0.7687\n",
            "Current minimum: -0.7801\n",
            "Iteration No: 9 started. Evaluating function at random point.\n",
            "Iteration No: 9 ended. Evaluation done at random point.\n",
            "Time taken: 0.4833\n",
            "Function value obtained: -0.7736\n",
            "Current minimum: -0.7801\n",
            "Iteration No: 10 started. Evaluating function at random point.\n",
            "Iteration No: 10 ended. Evaluation done at random point.\n",
            "Time taken: 1.0908\n",
            "Function value obtained: -0.7720\n",
            "Current minimum: -0.7801\n"
          ]
        }
      ],
      "source": [
        "# Run the optimizer\n",
        "res = gp_minimize(\n",
        "    func=objective,\n",
        "    dimensions=param_space,\n",
        "    n_calls=10, # Loop of acquization and surrogate function\n",
        "    verbose=True\n",
        ")"
      ]
    },
    {
      "cell_type": "code",
      "execution_count": 13,
      "metadata": {
        "colab": {
          "base_uri": "https://localhost:8080/"
        },
        "id": "vPLcEBAeHDxh",
        "outputId": "314de2c1-5679-42e1-8400-292483fc7b3b"
      },
      "outputs": [
        {
          "data": {
            "text/plain": [
              "          fun: -0.7801012928162068\n",
              "            x: [np.int64(171), np.int64(20), np.int64(15), np.int64(14), 'sqrt', True]\n",
              "    func_vals: [-7.589e-01 -7.655e-01 -7.801e-01 -7.687e-01 -7.704e-01\n",
              "                -7.525e-01 -7.606e-01 -7.687e-01 -7.736e-01 -7.720e-01]\n",
              "      x_iters: [[np.int64(241), np.int64(7), np.int64(13), np.int64(10), 'sqrt', False], [np.int64(264), np.int64(13), np.int64(8), np.int64(6), 'log2', False], [np.int64(171), np.int64(20), np.int64(15), np.int64(14), 'sqrt', True], [np.int64(62), np.int64(8), np.int64(8), np.int64(3), 'sqrt', True], [np.int64(235), np.int64(14), np.int64(5), np.int64(6), 'sqrt', True], [np.int64(166), np.int64(3), np.int64(3), np.int64(12), 'log2', False], [np.int64(259), np.int64(18), np.int64(15), np.int64(15), 'log2', True], [np.int64(264), np.int64(15), np.int64(16), np.int64(17), 'sqrt', True], [np.int64(96), np.int64(11), np.int64(15), np.int64(4), 'log2', True], [np.int64(135), np.int64(8), np.int64(7), np.int64(6), 'sqrt', True]]\n",
              "       models: [GaussianProcessRegressor(kernel=1**2 * Matern(length_scale=[1, 1, 1, 1, 1, 1, 1, 1], nu=2.5) + WhiteKernel(noise_level=1),\n",
              "                                        n_restarts_optimizer=2, noise='gaussian',\n",
              "                                        normalize_y=True, random_state=758689265)]\n",
              "        space: Space([Integer(low=50, high=300, prior='uniform', transform='normalize'),\n",
              "                      Integer(low=2, high=20, prior='uniform', transform='normalize'),\n",
              "                      Integer(low=2, high=20, prior='uniform', transform='normalize'),\n",
              "                      Integer(low=1, high=20, prior='uniform', transform='normalize'),\n",
              "                      Categorical(categories=('sqrt', 'log2', None), prior=None),\n",
              "                      Categorical(categories=(True, False), prior=None)])\n",
              " random_state: RandomState(MT19937)\n",
              "        specs:     args:                    func: <function objective at 0x0000020814776520>\n",
              "                                      dimensions: Space([Integer(low=50, high=300, prior='uniform', transform='normalize'),\n",
              "                                                         Integer(low=2, high=20, prior='uniform', transform='normalize'),\n",
              "                                                         Integer(low=2, high=20, prior='uniform', transform='normalize'),\n",
              "                                                         Integer(low=1, high=20, prior='uniform', transform='normalize'),\n",
              "                                                         Categorical(categories=('sqrt', 'log2', None), prior=None),\n",
              "                                                         Categorical(categories=(True, False), prior=None)])\n",
              "                                  base_estimator: GaussianProcessRegressor(kernel=1**2 * Matern(length_scale=[1, 1, 1, 1, 1, 1, 1, 1], nu=2.5),\n",
              "                                                                           n_restarts_optimizer=2, noise='gaussian',\n",
              "                                                                           normalize_y=True, random_state=758689265)\n",
              "                                         n_calls: 10\n",
              "                                 n_random_starts: None\n",
              "                                n_initial_points: 10\n",
              "                         initial_point_generator: random\n",
              "                                        acq_func: gp_hedge\n",
              "                                   acq_optimizer: auto\n",
              "                                              x0: None\n",
              "                                              y0: None\n",
              "                                    random_state: RandomState(MT19937)\n",
              "                                         verbose: True\n",
              "                                        callback: None\n",
              "                                        n_points: 10000\n",
              "                            n_restarts_optimizer: 5\n",
              "                                              xi: 0.01\n",
              "                                           kappa: 1.96\n",
              "                                          n_jobs: 1\n",
              "                                model_queue_size: None\n",
              "                                space_constraint: None\n",
              "               function: base_minimize"
            ]
          },
          "execution_count": 13,
          "metadata": {},
          "output_type": "execute_result"
        }
      ],
      "source": [
        "res"
      ]
    },
    {
      "cell_type": "code",
      "execution_count": 14,
      "metadata": {
        "colab": {
          "base_uri": "https://localhost:8080/"
        },
        "id": "KTog5U2-_PPA",
        "outputId": "1775a581-030c-4051-d8d4-99b4db7d70a3"
      },
      "outputs": [
        {
          "name": "stdout",
          "output_type": "stream",
          "text": [
            "Best Hyperparameters:\n",
            "n_estimators: 171\n",
            "max_depth: 20\n",
            "min_samples_split: 15\n",
            "min_samples_leaf: 14\n",
            "max_features: sqrt\n",
            "bootstrap: True\n"
          ]
        }
      ],
      "source": [
        "# Get the best hyperparameters\n",
        "best_params = {\n",
        "    'n_estimators': res.x[0],\n",
        "    'max_depth': res.x[1],\n",
        "    'min_samples_split': res.x[2],\n",
        "    'min_samples_leaf': res.x[3],\n",
        "    'max_features': res.x[4],\n",
        "    'bootstrap': res.x[5]\n",
        "}\n",
        "\n",
        "print(\"Best Hyperparameters:\")\n",
        "for param, value in best_params.items():\n",
        "    print(f\"{param}: {value}\")"
      ]
    },
    {
      "cell_type": "code",
      "execution_count": 15,
      "metadata": {
        "colab": {
          "base_uri": "https://localhost:8080/"
        },
        "id": "M6ejQ4QKApFD",
        "outputId": "3754a572-67e0-4d8a-8351-a40b90a1ea55"
      },
      "outputs": [
        {
          "name": "stdout",
          "output_type": "stream",
          "text": [
            "\n",
            "Test Accuracy: 0.7403\n",
            "\n",
            "Classification Report:\n",
            "              precision    recall  f1-score   support\n",
            "\n",
            "           0       0.76      0.87      0.81       100\n",
            "           1       0.68      0.50      0.57        54\n",
            "\n",
            "    accuracy                           0.74       154\n",
            "   macro avg       0.72      0.69      0.69       154\n",
            "weighted avg       0.73      0.74      0.73       154\n",
            "\n",
            "Confusion Matrix:\n",
            "[[87 13]\n",
            " [27 27]]\n"
          ]
        }
      ],
      "source": [
        "# Evaluate the tuned model\n",
        "best_model = RandomForestClassifier(\n",
        "    random_state=42,\n",
        "    n_jobs=-1,\n",
        "    **best_params\n",
        ")\n",
        "best_model.fit(X_train_full, y_train_full)\n",
        "y_pred = best_model.predict(X_test)\n",
        "acc = accuracy_score(y_test, y_pred)\n",
        "print(f\"\\nTest Accuracy: {acc:.4f}\")\n",
        "print(\"\\nClassification Report:\")\n",
        "print(classification_report(y_test, y_pred))\n",
        "print(\"Confusion Matrix:\")\n",
        "print(confusion_matrix(y_test, y_pred))"
      ]
    }
  ],
  "metadata": {
    "colab": {
      "provenance": []
    },
    "kernelspec": {
      "display_name": "myenv",
      "language": "python",
      "name": "python3"
    },
    "language_info": {
      "codemirror_mode": {
        "name": "ipython",
        "version": 3
      },
      "file_extension": ".py",
      "mimetype": "text/x-python",
      "name": "python",
      "nbconvert_exporter": "python",
      "pygments_lexer": "ipython3",
      "version": "3.13.3"
    }
  },
  "nbformat": 4,
  "nbformat_minor": 0
}
