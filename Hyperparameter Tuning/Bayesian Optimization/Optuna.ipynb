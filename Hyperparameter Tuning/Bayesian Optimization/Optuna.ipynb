{
  "cells": [
    {
      "cell_type": "code",
      "execution_count": 1,
      "metadata": {
        "colab": {
          "base_uri": "https://localhost:8080/",
          "height": 206
        },
        "id": "fT-y3-gHShSh",
        "outputId": "b51b52cd-e4fb-4099-c6ae-398cde2453b2"
      },
      "outputs": [
        {
          "name": "stderr",
          "output_type": "stream",
          "text": [
            "d:\\Programming\\DSMP 2.0\\myenv\\Lib\\site-packages\\tqdm\\auto.py:21: TqdmWarning: IProgress not found. Please update jupyter and ipywidgets. See https://ipywidgets.readthedocs.io/en/stable/user_install.html\n",
            "  from .autonotebook import tqdm as notebook_tqdm\n"
          ]
        },
        {
          "data": {
            "text/html": [
              "<div>\n",
              "<style scoped>\n",
              "    .dataframe tbody tr th:only-of-type {\n",
              "        vertical-align: middle;\n",
              "    }\n",
              "\n",
              "    .dataframe tbody tr th {\n",
              "        vertical-align: top;\n",
              "    }\n",
              "\n",
              "    .dataframe thead th {\n",
              "        text-align: right;\n",
              "    }\n",
              "</style>\n",
              "<table border=\"1\" class=\"dataframe\">\n",
              "  <thead>\n",
              "    <tr style=\"text-align: right;\">\n",
              "      <th></th>\n",
              "      <th>Pregnancies</th>\n",
              "      <th>Glucose</th>\n",
              "      <th>BloodPressure</th>\n",
              "      <th>SkinThickness</th>\n",
              "      <th>Insulin</th>\n",
              "      <th>BMI</th>\n",
              "      <th>DiabetesPedigreeFunction</th>\n",
              "      <th>Age</th>\n",
              "      <th>Outcome</th>\n",
              "    </tr>\n",
              "  </thead>\n",
              "  <tbody>\n",
              "    <tr>\n",
              "      <th>0</th>\n",
              "      <td>6</td>\n",
              "      <td>148</td>\n",
              "      <td>72</td>\n",
              "      <td>35</td>\n",
              "      <td>0</td>\n",
              "      <td>33.6</td>\n",
              "      <td>0.627</td>\n",
              "      <td>50</td>\n",
              "      <td>1</td>\n",
              "    </tr>\n",
              "    <tr>\n",
              "      <th>1</th>\n",
              "      <td>1</td>\n",
              "      <td>85</td>\n",
              "      <td>66</td>\n",
              "      <td>29</td>\n",
              "      <td>0</td>\n",
              "      <td>26.6</td>\n",
              "      <td>0.351</td>\n",
              "      <td>31</td>\n",
              "      <td>0</td>\n",
              "    </tr>\n",
              "    <tr>\n",
              "      <th>2</th>\n",
              "      <td>8</td>\n",
              "      <td>183</td>\n",
              "      <td>64</td>\n",
              "      <td>0</td>\n",
              "      <td>0</td>\n",
              "      <td>23.3</td>\n",
              "      <td>0.672</td>\n",
              "      <td>32</td>\n",
              "      <td>1</td>\n",
              "    </tr>\n",
              "    <tr>\n",
              "      <th>3</th>\n",
              "      <td>1</td>\n",
              "      <td>89</td>\n",
              "      <td>66</td>\n",
              "      <td>23</td>\n",
              "      <td>94</td>\n",
              "      <td>28.1</td>\n",
              "      <td>0.167</td>\n",
              "      <td>21</td>\n",
              "      <td>0</td>\n",
              "    </tr>\n",
              "    <tr>\n",
              "      <th>4</th>\n",
              "      <td>0</td>\n",
              "      <td>137</td>\n",
              "      <td>40</td>\n",
              "      <td>35</td>\n",
              "      <td>168</td>\n",
              "      <td>43.1</td>\n",
              "      <td>2.288</td>\n",
              "      <td>33</td>\n",
              "      <td>1</td>\n",
              "    </tr>\n",
              "  </tbody>\n",
              "</table>\n",
              "</div>"
            ],
            "text/plain": [
              "   Pregnancies  Glucose  BloodPressure  SkinThickness  Insulin   BMI  \\\n",
              "0            6      148             72             35        0  33.6   \n",
              "1            1       85             66             29        0  26.6   \n",
              "2            8      183             64              0        0  23.3   \n",
              "3            1       89             66             23       94  28.1   \n",
              "4            0      137             40             35      168  43.1   \n",
              "\n",
              "   DiabetesPedigreeFunction  Age  Outcome  \n",
              "0                     0.627   50        1  \n",
              "1                     0.351   31        0  \n",
              "2                     0.672   32        1  \n",
              "3                     0.167   21        0  \n",
              "4                     2.288   33        1  "
            ]
          },
          "execution_count": 1,
          "metadata": {},
          "output_type": "execute_result"
        }
      ],
      "source": [
        "# Import necessary libraries\n",
        "import optuna\n",
        "from sklearn.datasets import load_diabetes\n",
        "from sklearn.model_selection import train_test_split\n",
        "from sklearn.preprocessing import StandardScaler\n",
        "\n",
        "# Load the Pima Indian Diabetes dataset from sklearn\n",
        "# Note: Scikit-learn's built-in 'load_diabetes' is a regression dataset.\n",
        "# We will load the actual diabetes dataset from an external source\n",
        "import pandas as pd\n",
        "\n",
        "# Load the Pima Indian Diabetes dataset (from UCI repository)\n",
        "url = \"https://raw.githubusercontent.com/jbrownlee/Datasets/master/pima-indians-diabetes.data.csv\"\n",
        "columns = ['Pregnancies', 'Glucose', 'BloodPressure', 'SkinThickness', 'Insulin', 'BMI',\n",
        "           'DiabetesPedigreeFunction', 'Age', 'Outcome']\n",
        "\n",
        "# Load the dataset\n",
        "df = pd.read_csv(url, names=columns)\n",
        "\n",
        "df.head()"
      ]
    },
    {
      "cell_type": "code",
      "execution_count": 2,
      "metadata": {
        "colab": {
          "base_uri": "https://localhost:8080/"
        },
        "id": "tZ_ggrcuTcgI",
        "outputId": "1c682478-a40e-4d32-b29d-bd5865c758ff"
      },
      "outputs": [
        {
          "name": "stdout",
          "output_type": "stream",
          "text": [
            "Pregnancies                 0\n",
            "Glucose                     0\n",
            "BloodPressure               0\n",
            "SkinThickness               0\n",
            "Insulin                     0\n",
            "BMI                         0\n",
            "DiabetesPedigreeFunction    0\n",
            "Age                         0\n",
            "Outcome                     0\n",
            "dtype: int64\n"
          ]
        }
      ],
      "source": [
        "import numpy as np\n",
        "\n",
        "# Replace zero values with NaN in columns where zero is not a valid value\n",
        "cols_with_missing_vals = ['Glucose', 'BloodPressure', 'SkinThickness', 'Insulin', 'BMI']\n",
        "df[cols_with_missing_vals] = df[cols_with_missing_vals].replace(0, np.nan)\n",
        "\n",
        "# Impute the missing values with the mean of the respective column\n",
        "df.fillna(df.mean(), inplace=True)\n",
        "\n",
        "# Check if there are any remaining missing values\n",
        "print(df.isnull().sum())"
      ]
    },
    {
      "cell_type": "code",
      "execution_count": 3,
      "metadata": {
        "colab": {
          "base_uri": "https://localhost:8080/"
        },
        "id": "3arW9ktITIHB",
        "outputId": "a98db5ea-d14b-47e8-8438-515a8c5c4fc9"
      },
      "outputs": [
        {
          "name": "stdout",
          "output_type": "stream",
          "text": [
            "Training set shape: (537, 8)\n",
            "Test set shape: (231, 8)\n"
          ]
        }
      ],
      "source": [
        "# Split into features (X) and target (y)\n",
        "X = df.drop('Outcome', axis=1)\n",
        "y = df['Outcome']\n",
        "\n",
        "# Split data into training and test sets (70% train, 30% test)\n",
        "X_train, X_test, y_train, y_test = train_test_split(X, y, test_size=0.3, random_state=42)\n",
        "\n",
        "# Optional: Scale the data for better model performance\n",
        "scaler = StandardScaler()\n",
        "X_train = scaler.fit_transform(X_train)\n",
        "X_test = scaler.transform(X_test)\n",
        "\n",
        "# Check the shape of the data\n",
        "print(f'Training set shape: {X_train.shape}')\n",
        "print(f'Test set shape: {X_test.shape}')\n"
      ]
    },
    {
      "cell_type": "code",
      "execution_count": 4,
      "metadata": {
        "id": "vAbA51fJTrb-"
      },
      "outputs": [],
      "source": [
        "from sklearn.ensemble import RandomForestClassifier\n",
        "from sklearn.model_selection import cross_val_score\n",
        "\n",
        "# Define the objective function\n",
        "def objective(trial):\n",
        "    # Suggest values for the hyperparameters - You have to mention the search space inside your optimization function\n",
        "    n_estimators = trial.suggest_int('n_estimators', 50, 200) # This siggest_int function communating the sampler function and that sampler function giving me the next value for trying\n",
        "    max_depth = trial.suggest_int('max_depth', 3, 20)\n",
        "\n",
        "    # Create the RandomForestClassifier with suggested hyperparameters\n",
        "    model = RandomForestClassifier(\n",
        "        n_estimators=n_estimators,\n",
        "        max_depth=max_depth,\n",
        "        random_state=42\n",
        "    )\n",
        "\n",
        "    # Perform 3-fold cross-validation and calculate accuracy\n",
        "    score = cross_val_score(model, X_train, y_train, cv=3, scoring='accuracy').mean()\n",
        "\n",
        "    return score  # Return the accuracy score for Optuna to maximize"
      ]
    },
    {
      "cell_type": "code",
      "execution_count": null,
      "metadata": {
        "colab": {
          "base_uri": "https://localhost:8080/"
        },
        "id": "xN9Zi4k4UbBF",
        "outputId": "79e8809a-a2da-4ad7-f8dd-e0b1c896959e"
      },
      "outputs": [
        {
          "name": "stderr",
          "output_type": "stream",
          "text": [
            "[I 2025-06-01 17:10:09,153] A new study created in memory with name: no-name-b5b08dc8-75cc-40d1-9c83-c3a3703e19cc\n",
            "[I 2025-06-01 17:10:09,582] Trial 0 finished with value: 0.7541899441340781 and parameters: {'n_estimators': 100, 'max_depth': 9}. Best is trial 0 with value: 0.7541899441340781.\n",
            "[I 2025-06-01 17:10:10,229] Trial 1 finished with value: 0.7728119180633147 and parameters: {'n_estimators': 182, 'max_depth': 13}. Best is trial 1 with value: 0.7728119180633147.\n",
            "[I 2025-06-01 17:10:10,455] Trial 2 finished with value: 0.7746741154562384 and parameters: {'n_estimators': 69, 'max_depth': 5}. Best is trial 2 with value: 0.7746741154562384.\n",
            "[I 2025-06-01 17:10:10,709] Trial 3 finished with value: 0.7728119180633147 and parameters: {'n_estimators': 65, 'max_depth': 8}. Best is trial 2 with value: 0.7746741154562384.\n",
            "[I 2025-06-01 17:10:11,157] Trial 4 finished with value: 0.7858472998137803 and parameters: {'n_estimators': 121, 'max_depth': 15}. Best is trial 4 with value: 0.7858472998137803.\n",
            "[I 2025-06-01 17:10:11,830] Trial 5 finished with value: 0.7709497206703911 and parameters: {'n_estimators': 188, 'max_depth': 11}. Best is trial 4 with value: 0.7858472998137803.\n",
            "[I 2025-06-01 17:10:12,158] Trial 6 finished with value: 0.7597765363128491 and parameters: {'n_estimators': 91, 'max_depth': 6}. Best is trial 4 with value: 0.7858472998137803.\n",
            "[I 2025-06-01 17:10:12,549] Trial 7 finished with value: 0.7616387337057727 and parameters: {'n_estimators': 106, 'max_depth': 10}. Best is trial 4 with value: 0.7858472998137803.\n",
            "[I 2025-06-01 17:10:13,123] Trial 8 finished with value: 0.7709497206703911 and parameters: {'n_estimators': 163, 'max_depth': 14}. Best is trial 4 with value: 0.7858472998137803.\n",
            "[I 2025-06-01 17:10:13,533] Trial 9 finished with value: 0.7672253258845437 and parameters: {'n_estimators': 119, 'max_depth': 10}. Best is trial 4 with value: 0.7858472998137803.\n",
            "[I 2025-06-01 17:10:14,050] Trial 10 finished with value: 0.7709497206703911 and parameters: {'n_estimators': 144, 'max_depth': 19}. Best is trial 4 with value: 0.7858472998137803.\n",
            "[I 2025-06-01 17:10:14,216] Trial 11 finished with value: 0.7541899441340782 and parameters: {'n_estimators': 51, 'max_depth': 3}. Best is trial 4 with value: 0.7858472998137803.\n",
            "[I 2025-06-01 17:10:14,492] Trial 12 finished with value: 0.7746741154562384 and parameters: {'n_estimators': 77, 'max_depth': 17}. Best is trial 4 with value: 0.7858472998137803.\n",
            "[I 2025-06-01 17:10:14,963] Trial 13 finished with value: 0.7746741154562384 and parameters: {'n_estimators': 137, 'max_depth': 16}. Best is trial 4 with value: 0.7858472998137803.\n",
            "[I 2025-06-01 17:10:15,218] Trial 14 finished with value: 0.7523277467411545 and parameters: {'n_estimators': 82, 'max_depth': 3}. Best is trial 4 with value: 0.7858472998137803.\n",
            "[I 2025-06-01 17:10:15,619] Trial 15 finished with value: 0.7653631284916201 and parameters: {'n_estimators': 121, 'max_depth': 6}. Best is trial 4 with value: 0.7858472998137803.\n",
            "[I 2025-06-01 17:10:16,186] Trial 16 finished with value: 0.7746741154562384 and parameters: {'n_estimators': 154, 'max_depth': 20}. Best is trial 4 with value: 0.7858472998137803.\n",
            "[I 2025-06-01 17:10:16,414] Trial 17 finished with value: 0.7635009310986964 and parameters: {'n_estimators': 60, 'max_depth': 14}. Best is trial 4 with value: 0.7858472998137803.\n",
            "[I 2025-06-01 17:10:16,809] Trial 18 finished with value: 0.7709497206703911 and parameters: {'n_estimators': 112, 'max_depth': 17}. Best is trial 4 with value: 0.7858472998137803.\n",
            "[I 2025-06-01 17:10:17,251] Trial 19 finished with value: 0.7672253258845437 and parameters: {'n_estimators': 135, 'max_depth': 6}. Best is trial 4 with value: 0.7858472998137803.\n",
            "[I 2025-06-01 17:10:17,838] Trial 20 finished with value: 0.7746741154562384 and parameters: {'n_estimators': 171, 'max_depth': 12}. Best is trial 4 with value: 0.7858472998137803.\n",
            "[I 2025-06-01 17:10:18,149] Trial 21 finished with value: 0.7616387337057727 and parameters: {'n_estimators': 84, 'max_depth': 17}. Best is trial 4 with value: 0.7858472998137803.\n",
            "[I 2025-06-01 17:10:18,431] Trial 22 finished with value: 0.7653631284916201 and parameters: {'n_estimators': 77, 'max_depth': 15}. Best is trial 4 with value: 0.7858472998137803.\n",
            "[I 2025-06-01 17:10:18,704] Trial 23 finished with value: 0.7783985102420856 and parameters: {'n_estimators': 72, 'max_depth': 17}. Best is trial 4 with value: 0.7858472998137803.\n",
            "[I 2025-06-01 17:10:18,941] Trial 24 finished with value: 0.7783985102420857 and parameters: {'n_estimators': 65, 'max_depth': 19}. Best is trial 4 with value: 0.7858472998137803.\n",
            "[I 2025-06-01 17:10:19,281] Trial 25 finished with value: 0.7746741154562384 and parameters: {'n_estimators': 97, 'max_depth': 19}. Best is trial 4 with value: 0.7858472998137803.\n",
            "[I 2025-06-01 17:10:19,477] Trial 26 finished with value: 0.7746741154562384 and parameters: {'n_estimators': 53, 'max_depth': 19}. Best is trial 4 with value: 0.7858472998137803.\n",
            "[I 2025-06-01 17:10:19,716] Trial 27 finished with value: 0.7709497206703911 and parameters: {'n_estimators': 66, 'max_depth': 18}. Best is trial 4 with value: 0.7858472998137803.\n",
            "[I 2025-06-01 17:10:20,040] Trial 28 finished with value: 0.7690875232774674 and parameters: {'n_estimators': 91, 'max_depth': 15}. Best is trial 4 with value: 0.7858472998137803.\n",
            "[I 2025-06-01 17:10:20,426] Trial 29 finished with value: 0.7746741154562384 and parameters: {'n_estimators': 110, 'max_depth': 20}. Best is trial 4 with value: 0.7858472998137803.\n",
            "[I 2025-06-01 17:10:20,801] Trial 30 finished with value: 0.7690875232774674 and parameters: {'n_estimators': 98, 'max_depth': 16}. Best is trial 4 with value: 0.7858472998137803.\n",
            "[I 2025-06-01 17:10:21,049] Trial 31 finished with value: 0.7728119180633147 and parameters: {'n_estimators': 68, 'max_depth': 8}. Best is trial 4 with value: 0.7858472998137803.\n",
            "[I 2025-06-01 17:10:21,310] Trial 32 finished with value: 0.7802607076350094 and parameters: {'n_estimators': 71, 'max_depth': 18}. Best is trial 4 with value: 0.7858472998137803.\n",
            "[I 2025-06-01 17:10:21,587] Trial 33 finished with value: 0.7765363128491621 and parameters: {'n_estimators': 76, 'max_depth': 18}. Best is trial 4 with value: 0.7858472998137803.\n",
            "[I 2025-06-01 17:10:22,270] Trial 34 finished with value: 0.7709497206703911 and parameters: {'n_estimators': 198, 'max_depth': 13}. Best is trial 4 with value: 0.7858472998137803.\n",
            "[I 2025-06-01 17:10:22,489] Trial 35 finished with value: 0.7653631284916201 and parameters: {'n_estimators': 60, 'max_depth': 18}. Best is trial 4 with value: 0.7858472998137803.\n",
            "[I 2025-06-01 17:10:22,804] Trial 36 finished with value: 0.7635009310986964 and parameters: {'n_estimators': 86, 'max_depth': 16}. Best is trial 4 with value: 0.7858472998137803.\n",
            "[I 2025-06-01 17:10:23,063] Trial 37 finished with value: 0.7783985102420857 and parameters: {'n_estimators': 72, 'max_depth': 20}. Best is trial 4 with value: 0.7858472998137803.\n",
            "[I 2025-06-01 17:10:23,278] Trial 38 finished with value: 0.7709497206703911 and parameters: {'n_estimators': 59, 'max_depth': 20}. Best is trial 4 with value: 0.7858472998137803.\n",
            "[I 2025-06-01 17:10:23,654] Trial 39 finished with value: 0.7728119180633147 and parameters: {'n_estimators': 105, 'max_depth': 19}. Best is trial 4 with value: 0.7858472998137803.\n",
            "[I 2025-06-01 17:10:23,980] Trial 40 finished with value: 0.7728119180633147 and parameters: {'n_estimators': 92, 'max_depth': 18}. Best is trial 4 with value: 0.7858472998137803.\n",
            "[I 2025-06-01 17:10:24,242] Trial 41 finished with value: 0.7783985102420856 and parameters: {'n_estimators': 72, 'max_depth': 17}. Best is trial 4 with value: 0.7858472998137803.\n",
            "[I 2025-06-01 17:10:24,502] Trial 42 finished with value: 0.7783985102420857 and parameters: {'n_estimators': 71, 'max_depth': 20}. Best is trial 4 with value: 0.7858472998137803.\n",
            "[I 2025-06-01 17:10:24,690] Trial 43 finished with value: 0.7672253258845437 and parameters: {'n_estimators': 51, 'max_depth': 20}. Best is trial 4 with value: 0.7858472998137803.\n",
            "[I 2025-06-01 17:10:24,930] Trial 44 finished with value: 0.7728119180633147 and parameters: {'n_estimators': 64, 'max_depth': 19}. Best is trial 4 with value: 0.7858472998137803.\n",
            "[I 2025-06-01 17:10:25,373] Trial 45 finished with value: 0.7765363128491621 and parameters: {'n_estimators': 128, 'max_depth': 20}. Best is trial 4 with value: 0.7858472998137803.\n",
            "[I 2025-06-01 17:10:25,671] Trial 46 finished with value: 0.7709497206703911 and parameters: {'n_estimators': 83, 'max_depth': 15}. Best is trial 4 with value: 0.7858472998137803.\n",
            "[I 2025-06-01 17:10:25,961] Trial 47 finished with value: 0.7746741154562384 and parameters: {'n_estimators': 77, 'max_depth': 18}. Best is trial 4 with value: 0.7858472998137803.\n",
            "[I 2025-06-01 17:10:26,178] Trial 48 finished with value: 0.7690875232774674 and parameters: {'n_estimators': 58, 'max_depth': 19}. Best is trial 4 with value: 0.7858472998137803.\n",
            "[I 2025-06-01 17:10:26,696] Trial 49 finished with value: 0.7616387337057727 and parameters: {'n_estimators': 149, 'max_depth': 14}. Best is trial 4 with value: 0.7858472998137803.\n"
          ]
        }
      ],
      "source": [
        "# Create a study object and optimize the objective function\n",
        "study = optuna.create_study(direction='maximize', sampler=optuna.samplers.TPESampler())  # We aim to maximize accuracy | Default sampler = TPE sampler\n",
        "study.optimize(objective, n_trials=50)  # Run 50 trials to find the best hyperparameters\n",
        "\n",
        "# By calling the optimize function from study we got trial object - which is passed in the objective function"
      ]
    },
    {
      "cell_type": "code",
      "execution_count": 6,
      "metadata": {
        "colab": {
          "base_uri": "https://localhost:8080/"
        },
        "id": "7UAUdw33fCgH",
        "outputId": "99aca7cd-207a-4774-db8f-8eef021acff5"
      },
      "outputs": [
        {
          "name": "stdout",
          "output_type": "stream",
          "text": [
            "Best trial accuracy: 0.7858472998137803\n",
            "Best hyperparameters: {'n_estimators': 121, 'max_depth': 15}\n"
          ]
        }
      ],
      "source": [
        "# Print the best result\n",
        "print(f'Best trial accuracy: {study.best_trial.value}')\n",
        "print(f'Best hyperparameters: {study.best_trial.params}')"
      ]
    },
    {
      "cell_type": "code",
      "execution_count": 7,
      "metadata": {
        "colab": {
          "base_uri": "https://localhost:8080/"
        },
        "id": "tb1zm_lAUtnC",
        "outputId": "6b4a23ac-315a-40af-b159-c788ae4d894d"
      },
      "outputs": [
        {
          "name": "stdout",
          "output_type": "stream",
          "text": [
            "Test Accuracy with best hyperparameters: 0.76\n"
          ]
        }
      ],
      "source": [
        "from sklearn.metrics import accuracy_score\n",
        "\n",
        "# Train a RandomForestClassifier using the best hyperparameters from Optuna\n",
        "best_model = RandomForestClassifier(**study.best_trial.params, random_state=42)\n",
        "\n",
        "# Fit the model to the training data\n",
        "best_model.fit(X_train, y_train)\n",
        "\n",
        "# Make predictions on the test set\n",
        "y_pred = best_model.predict(X_test)\n",
        "\n",
        "# Calculate the accuracy on the test set\n",
        "test_accuracy = accuracy_score(y_test, y_pred)\n",
        "\n",
        "# Print the test accuracy\n",
        "print(f'Test Accuracy with best hyperparameters: {test_accuracy:.2f}')"
      ]
    },
    {
      "cell_type": "markdown",
      "metadata": {
        "id": "o2xS9eSIuInj"
      },
      "source": [
        "## Samplers in Optuna"
      ]
    },
    {
      "cell_type": "code",
      "execution_count": 8,
      "metadata": {
        "id": "HV7qYl2LzwnJ"
      },
      "outputs": [],
      "source": [
        "from sklearn.ensemble import RandomForestClassifier\n",
        "from sklearn.model_selection import cross_val_score\n",
        "\n",
        "# Define the objective function\n",
        "def objective(trial):\n",
        "    # Suggest values for the hyperparameters\n",
        "    n_estimators = trial.suggest_int('n_estimators', 50, 200)\n",
        "    max_depth = trial.suggest_int('max_depth', 3, 20)\n",
        "\n",
        "    # Create the RandomForestClassifier with suggested hyperparameters\n",
        "    model = RandomForestClassifier(\n",
        "        n_estimators=n_estimators,\n",
        "        max_depth=max_depth,\n",
        "        random_state=42\n",
        "    )\n",
        "\n",
        "    # Perform 3-fold cross-validation and calculate accuracy\n",
        "    score = cross_val_score(model, X_train, y_train, cv=3, scoring='accuracy').mean()\n",
        "\n",
        "    return score  # Return the accuracy score for Optuna to maximize"
      ]
    },
    {
      "cell_type": "code",
      "execution_count": 9,
      "metadata": {
        "colab": {
          "base_uri": "https://localhost:8080/"
        },
        "id": "69ySFwlocrsv",
        "outputId": "b2c7591f-fb34-4d76-afc9-171cd86b8121"
      },
      "outputs": [
        {
          "name": "stderr",
          "output_type": "stream",
          "text": [
            "[I 2025-06-01 17:19:47,227] A new study created in memory with name: no-name-d3b0628a-1d89-4c20-abaf-32fa3d05d7fc\n",
            "[I 2025-06-01 17:19:47,459] Trial 0 finished with value: 0.7728119180633147 and parameters: {'n_estimators': 57, 'max_depth': 13}. Best is trial 0 with value: 0.7728119180633147.\n",
            "[I 2025-06-01 17:19:47,667] Trial 1 finished with value: 0.7597765363128491 and parameters: {'n_estimators': 63, 'max_depth': 4}. Best is trial 0 with value: 0.7728119180633147.\n",
            "[I 2025-06-01 17:19:48,207] Trial 2 finished with value: 0.7690875232774674 and parameters: {'n_estimators': 147, 'max_depth': 19}. Best is trial 0 with value: 0.7728119180633147.\n",
            "[I 2025-06-01 17:19:48,834] Trial 3 finished with value: 0.7672253258845437 and parameters: {'n_estimators': 187, 'max_depth': 7}. Best is trial 0 with value: 0.7728119180633147.\n",
            "[I 2025-06-01 17:19:49,423] Trial 4 finished with value: 0.7728119180633147 and parameters: {'n_estimators': 162, 'max_depth': 19}. Best is trial 0 with value: 0.7728119180633147.\n",
            "[I 2025-06-01 17:19:49,786] Trial 5 finished with value: 0.7597765363128491 and parameters: {'n_estimators': 89, 'max_depth': 9}. Best is trial 0 with value: 0.7728119180633147.\n",
            "[I 2025-06-01 17:19:50,169] Trial 6 finished with value: 0.7616387337057727 and parameters: {'n_estimators': 103, 'max_depth': 6}. Best is trial 0 with value: 0.7728119180633147.\n",
            "[I 2025-06-01 17:19:50,403] Trial 7 finished with value: 0.7597765363128491 and parameters: {'n_estimators': 63, 'max_depth': 4}. Best is trial 0 with value: 0.7728119180633147.\n",
            "[I 2025-06-01 17:19:50,630] Trial 8 finished with value: 0.7728119180633147 and parameters: {'n_estimators': 62, 'max_depth': 19}. Best is trial 0 with value: 0.7728119180633147.\n",
            "[I 2025-06-01 17:19:51,183] Trial 9 finished with value: 0.7709497206703911 and parameters: {'n_estimators': 146, 'max_depth': 20}. Best is trial 0 with value: 0.7728119180633147.\n",
            "[I 2025-06-01 17:19:51,779] Trial 10 finished with value: 0.7709497206703911 and parameters: {'n_estimators': 164, 'max_depth': 13}. Best is trial 0 with value: 0.7728119180633147.\n",
            "[I 2025-06-01 17:19:52,405] Trial 11 finished with value: 0.7728119180633147 and parameters: {'n_estimators': 172, 'max_depth': 14}. Best is trial 0 with value: 0.7728119180633147.\n",
            "[I 2025-06-01 17:19:52,970] Trial 12 finished with value: 0.756052141527002 and parameters: {'n_estimators': 189, 'max_depth': 3}. Best is trial 0 with value: 0.7728119180633147.\n",
            "[I 2025-06-01 17:19:53,647] Trial 13 finished with value: 0.7616387337057727 and parameters: {'n_estimators': 198, 'max_depth': 9}. Best is trial 0 with value: 0.7728119180633147.\n",
            "[I 2025-06-01 17:19:53,843] Trial 14 finished with value: 0.7672253258845437 and parameters: {'n_estimators': 55, 'max_depth': 9}. Best is trial 0 with value: 0.7728119180633147.\n",
            "[I 2025-06-01 17:19:54,403] Trial 15 finished with value: 0.7672253258845437 and parameters: {'n_estimators': 167, 'max_depth': 5}. Best is trial 0 with value: 0.7728119180633147.\n",
            "[I 2025-06-01 17:19:54,912] Trial 16 finished with value: 0.7672253258845437 and parameters: {'n_estimators': 142, 'max_depth': 14}. Best is trial 0 with value: 0.7728119180633147.\n",
            "[I 2025-06-01 17:19:55,575] Trial 17 finished with value: 0.7690875232774674 and parameters: {'n_estimators': 187, 'max_depth': 15}. Best is trial 0 with value: 0.7728119180633147.\n",
            "[I 2025-06-01 17:19:55,809] Trial 18 finished with value: 0.7728119180633147 and parameters: {'n_estimators': 62, 'max_depth': 19}. Best is trial 0 with value: 0.7728119180633147.\n",
            "[I 2025-06-01 17:19:56,491] Trial 19 finished with value: 0.7709497206703911 and parameters: {'n_estimators': 187, 'max_depth': 12}. Best is trial 0 with value: 0.7728119180633147.\n",
            "[I 2025-06-01 17:19:57,092] Trial 20 finished with value: 0.7709497206703911 and parameters: {'n_estimators': 164, 'max_depth': 19}. Best is trial 0 with value: 0.7728119180633147.\n",
            "[I 2025-06-01 17:19:57,748] Trial 21 finished with value: 0.7709497206703911 and parameters: {'n_estimators': 189, 'max_depth': 13}. Best is trial 0 with value: 0.7728119180633147.\n",
            "[I 2025-06-01 17:19:58,273] Trial 22 finished with value: 0.7709497206703911 and parameters: {'n_estimators': 137, 'max_depth': 11}. Best is trial 0 with value: 0.7728119180633147.\n",
            "[I 2025-06-01 17:19:58,549] Trial 23 finished with value: 0.7728119180633147 and parameters: {'n_estimators': 80, 'max_depth': 20}. Best is trial 0 with value: 0.7728119180633147.\n",
            "[I 2025-06-01 17:19:59,148] Trial 24 finished with value: 0.7690875232774674 and parameters: {'n_estimators': 175, 'max_depth': 15}. Best is trial 0 with value: 0.7728119180633147.\n",
            "[I 2025-06-01 17:19:59,666] Trial 25 finished with value: 0.7616387337057727 and parameters: {'n_estimators': 153, 'max_depth': 9}. Best is trial 0 with value: 0.7728119180633147.\n",
            "[I 2025-06-01 17:20:00,121] Trial 26 finished with value: 0.7616387337057727 and parameters: {'n_estimators': 142, 'max_depth': 4}. Best is trial 0 with value: 0.7728119180633147.\n",
            "[I 2025-06-01 17:20:00,801] Trial 27 finished with value: 0.7672253258845437 and parameters: {'n_estimators': 185, 'max_depth': 7}. Best is trial 0 with value: 0.7728119180633147.\n",
            "[I 2025-06-01 17:20:01,314] Trial 28 finished with value: 0.7709497206703911 and parameters: {'n_estimators': 141, 'max_depth': 19}. Best is trial 0 with value: 0.7728119180633147.\n",
            "[I 2025-06-01 17:20:01,940] Trial 29 finished with value: 0.7579143389199254 and parameters: {'n_estimators': 195, 'max_depth': 3}. Best is trial 0 with value: 0.7728119180633147.\n",
            "[I 2025-06-01 17:20:02,303] Trial 30 finished with value: 0.7728119180633147 and parameters: {'n_estimators': 104, 'max_depth': 17}. Best is trial 0 with value: 0.7728119180633147.\n",
            "[I 2025-06-01 17:20:02,768] Trial 31 finished with value: 0.7653631284916201 and parameters: {'n_estimators': 146, 'max_depth': 5}. Best is trial 0 with value: 0.7728119180633147.\n",
            "[I 2025-06-01 17:20:03,452] Trial 32 finished with value: 0.7746741154562384 and parameters: {'n_estimators': 195, 'max_depth': 18}. Best is trial 32 with value: 0.7746741154562384.\n",
            "[I 2025-06-01 17:20:03,782] Trial 33 finished with value: 0.7709497206703911 and parameters: {'n_estimators': 95, 'max_depth': 19}. Best is trial 32 with value: 0.7746741154562384.\n",
            "[I 2025-06-01 17:20:04,143] Trial 34 finished with value: 0.7597765363128491 and parameters: {'n_estimators': 119, 'max_depth': 4}. Best is trial 32 with value: 0.7746741154562384.\n",
            "[I 2025-06-01 17:20:04,624] Trial 35 finished with value: 0.7709497206703911 and parameters: {'n_estimators': 143, 'max_depth': 11}. Best is trial 32 with value: 0.7746741154562384.\n",
            "[I 2025-06-01 17:20:05,202] Trial 36 finished with value: 0.7690875232774674 and parameters: {'n_estimators': 164, 'max_depth': 18}. Best is trial 32 with value: 0.7746741154562384.\n",
            "[I 2025-06-01 17:20:05,616] Trial 37 finished with value: 0.7635009310986964 and parameters: {'n_estimators': 111, 'max_depth': 6}. Best is trial 32 with value: 0.7746741154562384.\n",
            "[I 2025-06-01 17:20:06,457] Trial 38 finished with value: 0.7728119180633147 and parameters: {'n_estimators': 156, 'max_depth': 19}. Best is trial 32 with value: 0.7746741154562384.\n",
            "[I 2025-06-01 17:20:07,377] Trial 39 finished with value: 0.7746741154562383 and parameters: {'n_estimators': 137, 'max_depth': 15}. Best is trial 32 with value: 0.7746741154562384.\n",
            "[I 2025-06-01 17:20:08,841] Trial 40 finished with value: 0.7616387337057727 and parameters: {'n_estimators': 190, 'max_depth': 8}. Best is trial 32 with value: 0.7746741154562384.\n",
            "[I 2025-06-01 17:20:09,663] Trial 41 finished with value: 0.7672253258845437 and parameters: {'n_estimators': 154, 'max_depth': 10}. Best is trial 32 with value: 0.7746741154562384.\n",
            "[I 2025-06-01 17:20:09,977] Trial 42 finished with value: 0.7690875232774674 and parameters: {'n_estimators': 56, 'max_depth': 20}. Best is trial 32 with value: 0.7746741154562384.\n",
            "[I 2025-06-01 17:20:10,659] Trial 43 finished with value: 0.7690875232774674 and parameters: {'n_estimators': 118, 'max_depth': 5}. Best is trial 32 with value: 0.7746741154562384.\n",
            "[I 2025-06-01 17:20:11,578] Trial 44 finished with value: 0.7746741154562384 and parameters: {'n_estimators': 173, 'max_depth': 14}. Best is trial 32 with value: 0.7746741154562384.\n",
            "[I 2025-06-01 17:20:12,587] Trial 45 finished with value: 0.7616387337057727 and parameters: {'n_estimators': 170, 'max_depth': 9}. Best is trial 32 with value: 0.7746741154562384.\n",
            "[I 2025-06-01 17:20:13,261] Trial 46 finished with value: 0.7616387337057727 and parameters: {'n_estimators': 128, 'max_depth': 4}. Best is trial 32 with value: 0.7746741154562384.\n",
            "[I 2025-06-01 17:20:13,664] Trial 47 finished with value: 0.7616387337057727 and parameters: {'n_estimators': 68, 'max_depth': 12}. Best is trial 32 with value: 0.7746741154562384.\n",
            "[I 2025-06-01 17:20:14,616] Trial 48 finished with value: 0.7635009310986964 and parameters: {'n_estimators': 164, 'max_depth': 6}. Best is trial 32 with value: 0.7746741154562384.\n",
            "[I 2025-06-01 17:20:15,430] Trial 49 finished with value: 0.7728119180633147 and parameters: {'n_estimators': 151, 'max_depth': 20}. Best is trial 32 with value: 0.7746741154562384.\n"
          ]
        }
      ],
      "source": [
        "# Random Sampler - Select the next parameter value randomly\n",
        "study = optuna.create_study(direction='maximize', sampler=optuna.samplers.RandomSampler())  # We aim to maximize accuracy\n",
        "study.optimize(objective, n_trials=50)  # Run 50 trials to find the best hyperparameters"
      ]
    },
    {
      "cell_type": "code",
      "execution_count": 10,
      "metadata": {
        "colab": {
          "base_uri": "https://localhost:8080/"
        },
        "id": "xsHAu8b1uxK1",
        "outputId": "c9a6014d-5661-40b1-9ab6-11b85b17907b"
      },
      "outputs": [
        {
          "name": "stdout",
          "output_type": "stream",
          "text": [
            "Best trial accuracy: 0.7746741154562384\n",
            "Best hyperparameters: {'n_estimators': 195, 'max_depth': 18}\n"
          ]
        }
      ],
      "source": [
        "# Print the best result\n",
        "print(f'Best trial accuracy: {study.best_trial.value}')\n",
        "print(f'Best hyperparameters: {study.best_trial.params}')"
      ]
    },
    {
      "cell_type": "code",
      "execution_count": 11,
      "metadata": {
        "colab": {
          "base_uri": "https://localhost:8080/"
        },
        "id": "KFdBA3pyvAII",
        "outputId": "f66d0b58-ba82-488b-ad9d-adb07c3ee001"
      },
      "outputs": [
        {
          "name": "stdout",
          "output_type": "stream",
          "text": [
            "Test Accuracy with best hyperparameters: 0.75\n"
          ]
        }
      ],
      "source": [
        "from sklearn.metrics import accuracy_score\n",
        "\n",
        "# Train a RandomForestClassifier using the best hyperparameters from Optuna\n",
        "best_model = RandomForestClassifier(**study.best_trial.params, random_state=42)\n",
        "\n",
        "# Fit the model to the training data\n",
        "best_model.fit(X_train, y_train)\n",
        "\n",
        "# Make predictions on the test set\n",
        "y_pred = best_model.predict(X_test)\n",
        "\n",
        "# Calculate the accuracy on the test set\n",
        "test_accuracy = accuracy_score(y_test, y_pred)\n",
        "\n",
        "# Print the test accuracy\n",
        "print(f'Test Accuracy with best hyperparameters: {test_accuracy:.2f}')\n"
      ]
    },
    {
      "cell_type": "code",
      "execution_count": 13,
      "metadata": {
        "id": "lcdVExqJvOLC"
      },
      "outputs": [],
      "source": [
        "# If you want to use \"Grid Search Sampler\" you have mention your search outside the objective function and have to pass in the sampler (Below code)\n",
        "search_space = {\n",
        "    'n_estimators': [50, 100, 150, 200],\n",
        "    'max_depth': [5, 10, 15, 20]\n",
        "}"
      ]
    },
    {
      "cell_type": "code",
      "execution_count": null,
      "metadata": {
        "colab": {
          "base_uri": "https://localhost:8080/"
        },
        "id": "4QKZcma6vYVT",
        "outputId": "1d336045-2ba0-4af8-cb1c-ec69232791cf"
      },
      "outputs": [
        {
          "name": "stderr",
          "output_type": "stream",
          "text": [
            "[I 2025-06-01 17:22:32,524] A new study created in memory with name: no-name-2b347405-6496-41db-b02f-07d1ea625c2f\n",
            "[I 2025-06-01 17:22:32,890] Trial 0 finished with value: 0.7690875232774674 and parameters: {'n_estimators': 100, 'max_depth': 5}. Best is trial 0 with value: 0.7690875232774674.\n",
            "[I 2025-06-01 17:22:33,371] Trial 1 finished with value: 0.7672253258845437 and parameters: {'n_estimators': 150, 'max_depth': 10}. Best is trial 0 with value: 0.7690875232774674.\n",
            "[I 2025-06-01 17:22:33,552] Trial 2 finished with value: 0.7728119180633147 and parameters: {'n_estimators': 50, 'max_depth': 15}. Best is trial 2 with value: 0.7728119180633147.\n",
            "[I 2025-06-01 17:22:33,887] Trial 3 finished with value: 0.7653631284916201 and parameters: {'n_estimators': 100, 'max_depth': 15}. Best is trial 2 with value: 0.7728119180633147.\n",
            "[I 2025-06-01 17:22:34,208] Trial 4 finished with value: 0.7690875232774674 and parameters: {'n_estimators': 100, 'max_depth': 20}. Best is trial 2 with value: 0.7728119180633147.\n",
            "[I 2025-06-01 17:22:34,374] Trial 5 finished with value: 0.7579143389199254 and parameters: {'n_estimators': 50, 'max_depth': 10}. Best is trial 2 with value: 0.7728119180633147.\n",
            "[I 2025-06-01 17:22:34,836] Trial 6 finished with value: 0.7653631284916201 and parameters: {'n_estimators': 150, 'max_depth': 5}. Best is trial 2 with value: 0.7728119180633147.\n",
            "[I 2025-06-01 17:22:35,348] Trial 7 finished with value: 0.7728119180633147 and parameters: {'n_estimators': 150, 'max_depth': 20}. Best is trial 2 with value: 0.7728119180633147.\n",
            "[I 2025-06-01 17:22:35,871] Trial 8 finished with value: 0.7728119180633147 and parameters: {'n_estimators': 150, 'max_depth': 15}. Best is trial 2 with value: 0.7728119180633147.\n",
            "[I 2025-06-01 17:22:36,500] Trial 9 finished with value: 0.7709497206703911 and parameters: {'n_estimators': 200, 'max_depth': 10}. Best is trial 2 with value: 0.7728119180633147.\n",
            "[I 2025-06-01 17:22:37,155] Trial 10 finished with value: 0.7728119180633147 and parameters: {'n_estimators': 200, 'max_depth': 20}. Best is trial 2 with value: 0.7728119180633147.\n",
            "[I 2025-06-01 17:22:37,851] Trial 11 finished with value: 0.7728119180633147 and parameters: {'n_estimators': 200, 'max_depth': 15}. Best is trial 2 with value: 0.7728119180633147.\n",
            "[I 2025-06-01 17:22:38,464] Trial 12 finished with value: 0.7690875232774674 and parameters: {'n_estimators': 200, 'max_depth': 5}. Best is trial 2 with value: 0.7728119180633147.\n",
            "[I 2025-06-01 17:22:38,625] Trial 13 finished with value: 0.7746741154562384 and parameters: {'n_estimators': 50, 'max_depth': 5}. Best is trial 13 with value: 0.7746741154562384.\n",
            "[I 2025-06-01 17:22:38,962] Trial 14 finished with value: 0.7616387337057727 and parameters: {'n_estimators': 100, 'max_depth': 10}. Best is trial 13 with value: 0.7746741154562384.\n",
            "[I 2025-06-01 17:22:39,140] Trial 15 finished with value: 0.7709497206703911 and parameters: {'n_estimators': 50, 'max_depth': 20}. Best is trial 13 with value: 0.7746741154562384.\n"
          ]
        }
      ],
      "source": [
        "# Create a study and optimize it using GridSampler\n",
        "study = optuna.create_study(direction='maximize', sampler=optuna.samplers.GridSampler(search_space))\n",
        "study.optimize(objective) # Here you dont pass number to trials because it will try every single combination of hyperparameters in your search space"
      ]
    },
    {
      "cell_type": "code",
      "execution_count": 15,
      "metadata": {
        "colab": {
          "base_uri": "https://localhost:8080/"
        },
        "id": "UVQrXK77vojx",
        "outputId": "2ce9b4fc-38b1-418b-82c9-a441c58ee7be"
      },
      "outputs": [
        {
          "name": "stdout",
          "output_type": "stream",
          "text": [
            "Best trial accuracy: 0.7746741154562384\n",
            "Best hyperparameters: {'n_estimators': 50, 'max_depth': 5}\n"
          ]
        }
      ],
      "source": [
        "# Print the best result\n",
        "print(f'Best trial accuracy: {study.best_trial.value}')\n",
        "print(f'Best hyperparameters: {study.best_trial.params}')"
      ]
    },
    {
      "cell_type": "code",
      "execution_count": 16,
      "metadata": {
        "colab": {
          "base_uri": "https://localhost:8080/"
        },
        "id": "oIZKJsSVwaYj",
        "outputId": "a562e64a-6f9d-44b6-847d-e72618874ba3"
      },
      "outputs": [
        {
          "name": "stdout",
          "output_type": "stream",
          "text": [
            "Test Accuracy with best hyperparameters: 0.74\n"
          ]
        }
      ],
      "source": [
        "from sklearn.metrics import accuracy_score\n",
        "\n",
        "# Train a RandomForestClassifier using the best hyperparameters from Optuna\n",
        "best_model = RandomForestClassifier(**study.best_trial.params, random_state=42)\n",
        "\n",
        "# Fit the model to the training data\n",
        "best_model.fit(X_train, y_train)\n",
        "\n",
        "# Make predictions on the test set\n",
        "y_pred = best_model.predict(X_test)\n",
        "\n",
        "# Calculate the accuracy on the test set\n",
        "test_accuracy = accuracy_score(y_test, y_pred)\n",
        "\n",
        "# Print the test accuracy\n",
        "print(f'Test Accuracy with best hyperparameters: {test_accuracy:.2f}')"
      ]
    },
    {
      "cell_type": "code",
      "execution_count": 5,
      "metadata": {
        "colab": {
          "base_uri": "https://localhost:8080/"
        },
        "id": "6vRD4EnhwdBH",
        "outputId": "14f1ef11-5ccb-4a29-fc6f-9a15733ef692"
      },
      "outputs": [
        {
          "name": "stderr",
          "output_type": "stream",
          "text": [
            "[I 2025-06-01 17:47:52,764] A new study created in memory with name: no-name-8b82da43-45f7-452b-9678-6c6165c93d2b\n",
            "[I 2025-06-01 17:47:53,138] Trial 0 finished with value: 0.7597765363128491 and parameters: {'n_estimators': 108, 'max_depth': 10}. Best is trial 0 with value: 0.7597765363128491.\n",
            "[I 2025-06-01 17:47:53,541] Trial 1 finished with value: 0.7728119180633146 and parameters: {'n_estimators': 122, 'max_depth': 12}. Best is trial 1 with value: 0.7728119180633146.\n",
            "[I 2025-06-01 17:47:53,888] Trial 2 finished with value: 0.7616387337057727 and parameters: {'n_estimators': 105, 'max_depth': 9}. Best is trial 1 with value: 0.7728119180633146.\n",
            "[I 2025-06-01 17:47:54,298] Trial 3 finished with value: 0.7765363128491621 and parameters: {'n_estimators': 118, 'max_depth': 18}. Best is trial 3 with value: 0.7765363128491621.\n",
            "[I 2025-06-01 17:47:54,644] Trial 4 finished with value: 0.7635009310986964 and parameters: {'n_estimators': 102, 'max_depth': 14}. Best is trial 3 with value: 0.7765363128491621.\n",
            "[I 2025-06-01 17:47:55,032] Trial 5 finished with value: 0.7635009310986964 and parameters: {'n_estimators': 105, 'max_depth': 10}. Best is trial 3 with value: 0.7765363128491621.\n",
            "[I 2025-06-01 17:47:55,287] Trial 6 finished with value: 0.7672253258845437 and parameters: {'n_estimators': 82, 'max_depth': 7}. Best is trial 3 with value: 0.7765363128491621.\n",
            "[I 2025-06-01 17:47:55,722] Trial 7 finished with value: 0.7672253258845437 and parameters: {'n_estimators': 133, 'max_depth': 14}. Best is trial 3 with value: 0.7765363128491621.\n",
            "[I 2025-06-01 17:47:56,040] Trial 8 finished with value: 0.7653631284916201 and parameters: {'n_estimators': 98, 'max_depth': 11}. Best is trial 3 with value: 0.7765363128491621.\n",
            "[I 2025-06-01 17:47:56,410] Trial 9 finished with value: 0.7783985102420856 and parameters: {'n_estimators': 113, 'max_depth': 17}. Best is trial 9 with value: 0.7783985102420856.\n",
            "[I 2025-06-01 17:47:56,883] Trial 10 finished with value: 0.7746741154562383 and parameters: {'n_estimators': 137, 'max_depth': 20}. Best is trial 9 with value: 0.7783985102420856.\n",
            "[I 2025-06-01 17:47:57,335] Trial 11 finished with value: 0.7746741154562383 and parameters: {'n_estimators': 137, 'max_depth': 13}. Best is trial 9 with value: 0.7783985102420856.\n",
            "[I 2025-06-01 17:47:57,904] Trial 12 finished with value: 0.7765363128491621 and parameters: {'n_estimators': 153, 'max_depth': 16}. Best is trial 9 with value: 0.7783985102420856.\n",
            "[I 2025-06-01 17:47:58,287] Trial 13 finished with value: 0.7746741154562384 and parameters: {'n_estimators': 112, 'max_depth': 18}. Best is trial 9 with value: 0.7783985102420856.\n",
            "[I 2025-06-01 17:47:58,623] Trial 14 finished with value: 0.7783985102420856 and parameters: {'n_estimators': 103, 'max_depth': 12}. Best is trial 9 with value: 0.7783985102420856.\n",
            "[I 2025-06-01 17:47:59,046] Trial 15 finished with value: 0.7690875232774674 and parameters: {'n_estimators': 121, 'max_depth': 14}. Best is trial 9 with value: 0.7783985102420856.\n",
            "[I 2025-06-01 17:47:59,397] Trial 16 finished with value: 0.7746741154562384 and parameters: {'n_estimators': 107, 'max_depth': 20}. Best is trial 9 with value: 0.7783985102420856.\n",
            "[I 2025-06-01 17:47:59,885] Trial 17 finished with value: 0.7709497206703911 and parameters: {'n_estimators': 147, 'max_depth': 15}. Best is trial 9 with value: 0.7783985102420856.\n",
            "[I 2025-06-01 17:48:00,333] Trial 18 finished with value: 0.7616387337057727 and parameters: {'n_estimators': 122, 'max_depth': 13}. Best is trial 9 with value: 0.7783985102420856.\n",
            "[I 2025-06-01 17:48:00,603] Trial 19 finished with value: 0.7709497206703911 and parameters: {'n_estimators': 75, 'max_depth': 11}. Best is trial 9 with value: 0.7783985102420856.\n",
            "[I 2025-06-01 17:48:00,908] Trial 20 finished with value: 0.7709497206703911 and parameters: {'n_estimators': 89, 'max_depth': 12}. Best is trial 9 with value: 0.7783985102420856.\n",
            "[I 2025-06-01 17:48:01,409] Trial 21 finished with value: 0.7635009310986964 and parameters: {'n_estimators': 123, 'max_depth': 11}. Best is trial 9 with value: 0.7783985102420856.\n",
            "[I 2025-06-01 17:48:01,841] Trial 22 finished with value: 0.7672253258845437 and parameters: {'n_estimators': 102, 'max_depth': 15}. Best is trial 9 with value: 0.7783985102420856.\n",
            "[I 2025-06-01 17:48:02,344] Trial 23 finished with value: 0.7783985102420857 and parameters: {'n_estimators': 119, 'max_depth': 16}. Best is trial 23 with value: 0.7783985102420857.\n",
            "[I 2025-06-01 17:48:02,839] Trial 24 finished with value: 0.7783985102420856 and parameters: {'n_estimators': 124, 'max_depth': 16}. Best is trial 23 with value: 0.7783985102420857.\n",
            "[I 2025-06-01 17:48:03,210] Trial 25 finished with value: 0.7690875232774674 and parameters: {'n_estimators': 94, 'max_depth': 16}. Best is trial 23 with value: 0.7783985102420857.\n",
            "[I 2025-06-01 17:48:03,531] Trial 26 finished with value: 0.7597765363128491 and parameters: {'n_estimators': 94, 'max_depth': 9}. Best is trial 23 with value: 0.7783985102420857.\n",
            "[I 2025-06-01 17:48:04,048] Trial 27 finished with value: 0.7690875232774674 and parameters: {'n_estimators': 141, 'max_depth': 13}. Best is trial 23 with value: 0.7783985102420857.\n",
            "[I 2025-06-01 17:48:04,492] Trial 28 finished with value: 0.7821229050279329 and parameters: {'n_estimators': 104, 'max_depth': 12}. Best is trial 28 with value: 0.7821229050279329.\n",
            "[I 2025-06-01 17:48:04,865] Trial 29 finished with value: 0.7616387337057727 and parameters: {'n_estimators': 83, 'max_depth': 16}. Best is trial 28 with value: 0.7821229050279329.\n",
            "[I 2025-06-01 17:48:05,483] Trial 30 finished with value: 0.7783985102420857 and parameters: {'n_estimators': 119, 'max_depth': 16}. Best is trial 28 with value: 0.7821229050279329.\n",
            "[I 2025-06-01 17:48:06,206] Trial 31 finished with value: 0.7783985102420856 and parameters: {'n_estimators': 131, 'max_depth': 18}. Best is trial 28 with value: 0.7821229050279329.\n",
            "[I 2025-06-01 17:48:06,996] Trial 32 finished with value: 0.7616387337057727 and parameters: {'n_estimators': 129, 'max_depth': 9}. Best is trial 28 with value: 0.7821229050279329.\n",
            "[I 2025-06-01 17:48:07,509] Trial 33 finished with value: 0.7635009310986964 and parameters: {'n_estimators': 93, 'max_depth': 12}. Best is trial 28 with value: 0.7821229050279329.\n",
            "[I 2025-06-01 17:48:07,819] Trial 34 finished with value: 0.7616387337057727 and parameters: {'n_estimators': 68, 'max_depth': 12}. Best is trial 28 with value: 0.7821229050279329.\n",
            "[I 2025-06-01 17:48:08,261] Trial 35 finished with value: 0.7783985102420857 and parameters: {'n_estimators': 106, 'max_depth': 15}. Best is trial 28 with value: 0.7821229050279329.\n",
            "[I 2025-06-01 17:48:08,590] Trial 36 finished with value: 0.7635009310986964 and parameters: {'n_estimators': 81, 'max_depth': 11}. Best is trial 28 with value: 0.7821229050279329.\n",
            "[I 2025-06-01 17:48:09,036] Trial 37 finished with value: 0.7728119180633147 and parameters: {'n_estimators': 108, 'max_depth': 16}. Best is trial 28 with value: 0.7821229050279329.\n",
            "[I 2025-06-01 17:48:09,535] Trial 38 finished with value: 0.7783985102420856 and parameters: {'n_estimators': 121, 'max_depth': 17}. Best is trial 28 with value: 0.7821229050279329.\n",
            "[I 2025-06-01 17:48:10,002] Trial 39 finished with value: 0.7783985102420856 and parameters: {'n_estimators': 117, 'max_depth': 17}. Best is trial 28 with value: 0.7821229050279329.\n",
            "[I 2025-06-01 17:48:10,507] Trial 40 finished with value: 0.7690875232774674 and parameters: {'n_estimators': 121, 'max_depth': 14}. Best is trial 28 with value: 0.7821229050279329.\n",
            "[I 2025-06-01 17:48:11,193] Trial 41 finished with value: 0.7783985102420856 and parameters: {'n_estimators': 127, 'max_depth': 18}. Best is trial 28 with value: 0.7821229050279329.\n",
            "[I 2025-06-01 17:48:11,691] Trial 42 finished with value: 0.7783985102420856 and parameters: {'n_estimators': 124, 'max_depth': 16}. Best is trial 28 with value: 0.7821229050279329.\n",
            "[I 2025-06-01 17:48:12,172] Trial 43 finished with value: 0.7746741154562384 and parameters: {'n_estimators': 120, 'max_depth': 16}. Best is trial 28 with value: 0.7821229050279329.\n",
            "[I 2025-06-01 17:48:12,664] Trial 44 finished with value: 0.7802607076350093 and parameters: {'n_estimators': 125, 'max_depth': 16}. Best is trial 28 with value: 0.7821229050279329.\n",
            "[I 2025-06-01 17:48:13,023] Trial 45 finished with value: 0.7709497206703911 and parameters: {'n_estimators': 88, 'max_depth': 12}. Best is trial 28 with value: 0.7821229050279329.\n",
            "[I 2025-06-01 17:48:13,490] Trial 46 finished with value: 0.7728119180633147 and parameters: {'n_estimators': 108, 'max_depth': 15}. Best is trial 28 with value: 0.7821229050279329.\n",
            "[I 2025-06-01 17:48:13,943] Trial 47 finished with value: 0.7709497206703911 and parameters: {'n_estimators': 104, 'max_depth': 18}. Best is trial 28 with value: 0.7821229050279329.\n",
            "[I 2025-06-01 17:48:14,469] Trial 48 finished with value: 0.7783985102420856 and parameters: {'n_estimators': 130, 'max_depth': 18}. Best is trial 28 with value: 0.7821229050279329.\n",
            "[I 2025-06-01 17:48:14,994] Trial 49 finished with value: 0.7802607076350093 and parameters: {'n_estimators': 127, 'max_depth': 16}. Best is trial 28 with value: 0.7821229050279329.\n"
          ]
        }
      ],
      "source": [
        "# Create a study and optimize it using CmaEsSampler - !pip install cmaes\n",
        "study = optuna.create_study(direction='maximize', sampler=optuna.samplers.CmaEsSampler())\n",
        "study.optimize(objective, n_trials=50)"
      ]
    },
    {
      "cell_type": "code",
      "execution_count": 6,
      "metadata": {
        "colab": {
          "base_uri": "https://localhost:8080/"
        },
        "id": "pst2kgImwpEJ",
        "outputId": "81473c3e-5f41-4191-cfed-5e1b98c2285d"
      },
      "outputs": [
        {
          "name": "stdout",
          "output_type": "stream",
          "text": [
            "Best trial accuracy: 0.7821229050279329\n",
            "Best hyperparameters: {'n_estimators': 104, 'max_depth': 12}\n"
          ]
        }
      ],
      "source": [
        "# Print the best result\n",
        "print(f'Best trial accuracy: {study.best_trial.value}')\n",
        "print(f'Best hyperparameters: {study.best_trial.params}')"
      ]
    },
    {
      "cell_type": "code",
      "execution_count": 7,
      "metadata": {
        "colab": {
          "base_uri": "https://localhost:8080/"
        },
        "id": "0dh-NYfixiFT",
        "outputId": "831a0530-661f-4285-ca73-ba57d1c9a4c7"
      },
      "outputs": [
        {
          "name": "stdout",
          "output_type": "stream",
          "text": [
            "Test Accuracy with best hyperparameters: 0.76\n"
          ]
        }
      ],
      "source": [
        "from sklearn.metrics import accuracy_score\n",
        "\n",
        "# Train a RandomForestClassifier using the best hyperparameters from Optuna\n",
        "best_model = RandomForestClassifier(**study.best_trial.params, random_state=42)\n",
        "\n",
        "# Fit the model to the training data\n",
        "best_model.fit(X_train, y_train)\n",
        "\n",
        "# Make predictions on the test set\n",
        "y_pred = best_model.predict(X_test)\n",
        "\n",
        "# Calculate the accuracy on the test set\n",
        "test_accuracy = accuracy_score(y_test, y_pred)\n",
        "\n",
        "# Print the test accuracy\n",
        "print(f'Test Accuracy with best hyperparameters: {test_accuracy:.2f}')"
      ]
    },
    {
      "cell_type": "code",
      "execution_count": 8,
      "metadata": {
        "colab": {
          "base_uri": "https://localhost:8080/",
          "height": 1000
        },
        "id": "tGgq6GHaxkkA",
        "outputId": "665d9cc9-2281-4dc2-90ba-a8d8889e0b3f"
      },
      "outputs": [
        {
          "data": {
            "text/html": [
              "<div>\n",
              "<style scoped>\n",
              "    .dataframe tbody tr th:only-of-type {\n",
              "        vertical-align: middle;\n",
              "    }\n",
              "\n",
              "    .dataframe tbody tr th {\n",
              "        vertical-align: top;\n",
              "    }\n",
              "\n",
              "    .dataframe thead th {\n",
              "        text-align: right;\n",
              "    }\n",
              "</style>\n",
              "<table border=\"1\" class=\"dataframe\">\n",
              "  <thead>\n",
              "    <tr style=\"text-align: right;\">\n",
              "      <th></th>\n",
              "      <th>number</th>\n",
              "      <th>value</th>\n",
              "      <th>datetime_start</th>\n",
              "      <th>datetime_complete</th>\n",
              "      <th>duration</th>\n",
              "      <th>params_max_depth</th>\n",
              "      <th>params_n_estimators</th>\n",
              "      <th>system_attrs_cma:generation</th>\n",
              "      <th>system_attrs_cma:large_n_eval</th>\n",
              "      <th>system_attrs_cma:n_restarts</th>\n",
              "      <th>system_attrs_cma:n_restarts_with_large</th>\n",
              "      <th>system_attrs_cma:optimizer:0</th>\n",
              "      <th>system_attrs_cma:optimizer:1</th>\n",
              "      <th>system_attrs_cma:popsize</th>\n",
              "      <th>system_attrs_cma:poptype</th>\n",
              "      <th>system_attrs_cma:small_n_eval</th>\n",
              "      <th>state</th>\n",
              "    </tr>\n",
              "  </thead>\n",
              "  <tbody>\n",
              "    <tr>\n",
              "      <th>0</th>\n",
              "      <td>0</td>\n",
              "      <td>0.759777</td>\n",
              "      <td>2025-06-01 17:47:52.765276</td>\n",
              "      <td>2025-06-01 17:47:53.138253</td>\n",
              "      <td>0 days 00:00:00.372977</td>\n",
              "      <td>10</td>\n",
              "      <td>108</td>\n",
              "      <td>NaN</td>\n",
              "      <td>NaN</td>\n",
              "      <td>NaN</td>\n",
              "      <td>NaN</td>\n",
              "      <td>NaN</td>\n",
              "      <td>NaN</td>\n",
              "      <td>NaN</td>\n",
              "      <td>NaN</td>\n",
              "      <td>NaN</td>\n",
              "      <td>COMPLETE</td>\n",
              "    </tr>\n",
              "    <tr>\n",
              "      <th>1</th>\n",
              "      <td>1</td>\n",
              "      <td>0.772812</td>\n",
              "      <td>2025-06-01 17:47:53.139061</td>\n",
              "      <td>2025-06-01 17:47:53.541833</td>\n",
              "      <td>0 days 00:00:00.402772</td>\n",
              "      <td>12</td>\n",
              "      <td>122</td>\n",
              "      <td>0.0</td>\n",
              "      <td>0.0</td>\n",
              "      <td>0.0</td>\n",
              "      <td>0.0</td>\n",
              "      <td>NaN</td>\n",
              "      <td>NaN</td>\n",
              "      <td>6.0</td>\n",
              "      <td>small</td>\n",
              "      <td>0.0</td>\n",
              "      <td>COMPLETE</td>\n",
              "    </tr>\n",
              "    <tr>\n",
              "      <th>2</th>\n",
              "      <td>2</td>\n",
              "      <td>0.761639</td>\n",
              "      <td>2025-06-01 17:47:53.542619</td>\n",
              "      <td>2025-06-01 17:47:53.888252</td>\n",
              "      <td>0 days 00:00:00.345633</td>\n",
              "      <td>9</td>\n",
              "      <td>105</td>\n",
              "      <td>0.0</td>\n",
              "      <td>0.0</td>\n",
              "      <td>0.0</td>\n",
              "      <td>0.0</td>\n",
              "      <td>NaN</td>\n",
              "      <td>NaN</td>\n",
              "      <td>6.0</td>\n",
              "      <td>small</td>\n",
              "      <td>0.0</td>\n",
              "      <td>COMPLETE</td>\n",
              "    </tr>\n",
              "    <tr>\n",
              "      <th>3</th>\n",
              "      <td>3</td>\n",
              "      <td>0.776536</td>\n",
              "      <td>2025-06-01 17:47:53.889057</td>\n",
              "      <td>2025-06-01 17:47:54.298194</td>\n",
              "      <td>0 days 00:00:00.409137</td>\n",
              "      <td>18</td>\n",
              "      <td>118</td>\n",
              "      <td>0.0</td>\n",
              "      <td>0.0</td>\n",
              "      <td>0.0</td>\n",
              "      <td>0.0</td>\n",
              "      <td>NaN</td>\n",
              "      <td>NaN</td>\n",
              "      <td>6.0</td>\n",
              "      <td>small</td>\n",
              "      <td>0.0</td>\n",
              "      <td>COMPLETE</td>\n",
              "    </tr>\n",
              "    <tr>\n",
              "      <th>4</th>\n",
              "      <td>4</td>\n",
              "      <td>0.763501</td>\n",
              "      <td>2025-06-01 17:47:54.299021</td>\n",
              "      <td>2025-06-01 17:47:54.644789</td>\n",
              "      <td>0 days 00:00:00.345768</td>\n",
              "      <td>14</td>\n",
              "      <td>102</td>\n",
              "      <td>0.0</td>\n",
              "      <td>0.0</td>\n",
              "      <td>0.0</td>\n",
              "      <td>0.0</td>\n",
              "      <td>NaN</td>\n",
              "      <td>NaN</td>\n",
              "      <td>6.0</td>\n",
              "      <td>small</td>\n",
              "      <td>0.0</td>\n",
              "      <td>COMPLETE</td>\n",
              "    </tr>\n",
              "    <tr>\n",
              "      <th>5</th>\n",
              "      <td>5</td>\n",
              "      <td>0.763501</td>\n",
              "      <td>2025-06-01 17:47:54.645607</td>\n",
              "      <td>2025-06-01 17:47:55.032142</td>\n",
              "      <td>0 days 00:00:00.386535</td>\n",
              "      <td>10</td>\n",
              "      <td>105</td>\n",
              "      <td>0.0</td>\n",
              "      <td>0.0</td>\n",
              "      <td>0.0</td>\n",
              "      <td>0.0</td>\n",
              "      <td>NaN</td>\n",
              "      <td>NaN</td>\n",
              "      <td>6.0</td>\n",
              "      <td>small</td>\n",
              "      <td>0.0</td>\n",
              "      <td>COMPLETE</td>\n",
              "    </tr>\n",
              "    <tr>\n",
              "      <th>6</th>\n",
              "      <td>6</td>\n",
              "      <td>0.767225</td>\n",
              "      <td>2025-06-01 17:47:55.033001</td>\n",
              "      <td>2025-06-01 17:47:55.287762</td>\n",
              "      <td>0 days 00:00:00.254761</td>\n",
              "      <td>7</td>\n",
              "      <td>82</td>\n",
              "      <td>0.0</td>\n",
              "      <td>0.0</td>\n",
              "      <td>0.0</td>\n",
              "      <td>0.0</td>\n",
              "      <td>NaN</td>\n",
              "      <td>NaN</td>\n",
              "      <td>6.0</td>\n",
              "      <td>small</td>\n",
              "      <td>0.0</td>\n",
              "      <td>COMPLETE</td>\n",
              "    </tr>\n",
              "    <tr>\n",
              "      <th>7</th>\n",
              "      <td>7</td>\n",
              "      <td>0.767225</td>\n",
              "      <td>2025-06-01 17:47:55.288526</td>\n",
              "      <td>2025-06-01 17:47:55.722536</td>\n",
              "      <td>0 days 00:00:00.434010</td>\n",
              "      <td>14</td>\n",
              "      <td>133</td>\n",
              "      <td>1.0</td>\n",
              "      <td>0.0</td>\n",
              "      <td>0.0</td>\n",
              "      <td>0.0</td>\n",
              "      <td>8004954e060000000000008c0a636d6165732e5f636d61...</td>\n",
              "      <td>3200000000000000000000000000000000000000000000...</td>\n",
              "      <td>6.0</td>\n",
              "      <td>small</td>\n",
              "      <td>0.0</td>\n",
              "      <td>COMPLETE</td>\n",
              "    </tr>\n",
              "    <tr>\n",
              "      <th>8</th>\n",
              "      <td>8</td>\n",
              "      <td>0.765363</td>\n",
              "      <td>2025-06-01 17:47:55.723318</td>\n",
              "      <td>2025-06-01 17:47:56.040564</td>\n",
              "      <td>0 days 00:00:00.317246</td>\n",
              "      <td>11</td>\n",
              "      <td>98</td>\n",
              "      <td>1.0</td>\n",
              "      <td>0.0</td>\n",
              "      <td>0.0</td>\n",
              "      <td>0.0</td>\n",
              "      <td>NaN</td>\n",
              "      <td>NaN</td>\n",
              "      <td>6.0</td>\n",
              "      <td>small</td>\n",
              "      <td>0.0</td>\n",
              "      <td>COMPLETE</td>\n",
              "    </tr>\n",
              "    <tr>\n",
              "      <th>9</th>\n",
              "      <td>9</td>\n",
              "      <td>0.778399</td>\n",
              "      <td>2025-06-01 17:47:56.041367</td>\n",
              "      <td>2025-06-01 17:47:56.410510</td>\n",
              "      <td>0 days 00:00:00.369143</td>\n",
              "      <td>17</td>\n",
              "      <td>113</td>\n",
              "      <td>1.0</td>\n",
              "      <td>0.0</td>\n",
              "      <td>0.0</td>\n",
              "      <td>0.0</td>\n",
              "      <td>NaN</td>\n",
              "      <td>NaN</td>\n",
              "      <td>6.0</td>\n",
              "      <td>small</td>\n",
              "      <td>0.0</td>\n",
              "      <td>COMPLETE</td>\n",
              "    </tr>\n",
              "    <tr>\n",
              "      <th>10</th>\n",
              "      <td>10</td>\n",
              "      <td>0.774674</td>\n",
              "      <td>2025-06-01 17:47:56.411908</td>\n",
              "      <td>2025-06-01 17:47:56.883627</td>\n",
              "      <td>0 days 00:00:00.471719</td>\n",
              "      <td>20</td>\n",
              "      <td>137</td>\n",
              "      <td>1.0</td>\n",
              "      <td>0.0</td>\n",
              "      <td>0.0</td>\n",
              "      <td>0.0</td>\n",
              "      <td>NaN</td>\n",
              "      <td>NaN</td>\n",
              "      <td>6.0</td>\n",
              "      <td>small</td>\n",
              "      <td>0.0</td>\n",
              "      <td>COMPLETE</td>\n",
              "    </tr>\n",
              "    <tr>\n",
              "      <th>11</th>\n",
              "      <td>11</td>\n",
              "      <td>0.774674</td>\n",
              "      <td>2025-06-01 17:47:56.884458</td>\n",
              "      <td>2025-06-01 17:47:57.335405</td>\n",
              "      <td>0 days 00:00:00.450947</td>\n",
              "      <td>13</td>\n",
              "      <td>137</td>\n",
              "      <td>1.0</td>\n",
              "      <td>0.0</td>\n",
              "      <td>0.0</td>\n",
              "      <td>0.0</td>\n",
              "      <td>NaN</td>\n",
              "      <td>NaN</td>\n",
              "      <td>6.0</td>\n",
              "      <td>small</td>\n",
              "      <td>0.0</td>\n",
              "      <td>COMPLETE</td>\n",
              "    </tr>\n",
              "    <tr>\n",
              "      <th>12</th>\n",
              "      <td>12</td>\n",
              "      <td>0.776536</td>\n",
              "      <td>2025-06-01 17:47:57.336197</td>\n",
              "      <td>2025-06-01 17:47:57.904028</td>\n",
              "      <td>0 days 00:00:00.567831</td>\n",
              "      <td>16</td>\n",
              "      <td>153</td>\n",
              "      <td>1.0</td>\n",
              "      <td>0.0</td>\n",
              "      <td>0.0</td>\n",
              "      <td>0.0</td>\n",
              "      <td>NaN</td>\n",
              "      <td>NaN</td>\n",
              "      <td>6.0</td>\n",
              "      <td>small</td>\n",
              "      <td>0.0</td>\n",
              "      <td>COMPLETE</td>\n",
              "    </tr>\n",
              "    <tr>\n",
              "      <th>13</th>\n",
              "      <td>13</td>\n",
              "      <td>0.774674</td>\n",
              "      <td>2025-06-01 17:47:57.904809</td>\n",
              "      <td>2025-06-01 17:47:58.287235</td>\n",
              "      <td>0 days 00:00:00.382426</td>\n",
              "      <td>18</td>\n",
              "      <td>112</td>\n",
              "      <td>2.0</td>\n",
              "      <td>0.0</td>\n",
              "      <td>0.0</td>\n",
              "      <td>0.0</td>\n",
              "      <td>80049570060000000000008c0a636d6165732e5f636d61...</td>\n",
              "      <td>00000000000947494628c065f566d65616e94470000000...</td>\n",
              "      <td>6.0</td>\n",
              "      <td>small</td>\n",
              "      <td>0.0</td>\n",
              "      <td>COMPLETE</td>\n",
              "    </tr>\n",
              "    <tr>\n",
              "      <th>14</th>\n",
              "      <td>14</td>\n",
              "      <td>0.778399</td>\n",
              "      <td>2025-06-01 17:47:58.288056</td>\n",
              "      <td>2025-06-01 17:47:58.623641</td>\n",
              "      <td>0 days 00:00:00.335585</td>\n",
              "      <td>12</td>\n",
              "      <td>103</td>\n",
              "      <td>2.0</td>\n",
              "      <td>0.0</td>\n",
              "      <td>0.0</td>\n",
              "      <td>0.0</td>\n",
              "      <td>NaN</td>\n",
              "      <td>NaN</td>\n",
              "      <td>6.0</td>\n",
              "      <td>small</td>\n",
              "      <td>0.0</td>\n",
              "      <td>COMPLETE</td>\n",
              "    </tr>\n",
              "    <tr>\n",
              "      <th>15</th>\n",
              "      <td>15</td>\n",
              "      <td>0.769088</td>\n",
              "      <td>2025-06-01 17:47:58.624398</td>\n",
              "      <td>2025-06-01 17:47:59.046409</td>\n",
              "      <td>0 days 00:00:00.422011</td>\n",
              "      <td>14</td>\n",
              "      <td>121</td>\n",
              "      <td>2.0</td>\n",
              "      <td>0.0</td>\n",
              "      <td>0.0</td>\n",
              "      <td>0.0</td>\n",
              "      <td>NaN</td>\n",
              "      <td>NaN</td>\n",
              "      <td>6.0</td>\n",
              "      <td>small</td>\n",
              "      <td>0.0</td>\n",
              "      <td>COMPLETE</td>\n",
              "    </tr>\n",
              "    <tr>\n",
              "      <th>16</th>\n",
              "      <td>16</td>\n",
              "      <td>0.774674</td>\n",
              "      <td>2025-06-01 17:47:59.047706</td>\n",
              "      <td>2025-06-01 17:47:59.397390</td>\n",
              "      <td>0 days 00:00:00.349684</td>\n",
              "      <td>20</td>\n",
              "      <td>107</td>\n",
              "      <td>2.0</td>\n",
              "      <td>0.0</td>\n",
              "      <td>0.0</td>\n",
              "      <td>0.0</td>\n",
              "      <td>NaN</td>\n",
              "      <td>NaN</td>\n",
              "      <td>6.0</td>\n",
              "      <td>small</td>\n",
              "      <td>0.0</td>\n",
              "      <td>COMPLETE</td>\n",
              "    </tr>\n",
              "    <tr>\n",
              "      <th>17</th>\n",
              "      <td>17</td>\n",
              "      <td>0.770950</td>\n",
              "      <td>2025-06-01 17:47:59.398380</td>\n",
              "      <td>2025-06-01 17:47:59.885125</td>\n",
              "      <td>0 days 00:00:00.486745</td>\n",
              "      <td>15</td>\n",
              "      <td>147</td>\n",
              "      <td>2.0</td>\n",
              "      <td>0.0</td>\n",
              "      <td>0.0</td>\n",
              "      <td>0.0</td>\n",
              "      <td>NaN</td>\n",
              "      <td>NaN</td>\n",
              "      <td>6.0</td>\n",
              "      <td>small</td>\n",
              "      <td>0.0</td>\n",
              "      <td>COMPLETE</td>\n",
              "    </tr>\n",
              "    <tr>\n",
              "      <th>18</th>\n",
              "      <td>18</td>\n",
              "      <td>0.761639</td>\n",
              "      <td>2025-06-01 17:47:59.885987</td>\n",
              "      <td>2025-06-01 17:48:00.333615</td>\n",
              "      <td>0 days 00:00:00.447628</td>\n",
              "      <td>13</td>\n",
              "      <td>122</td>\n",
              "      <td>2.0</td>\n",
              "      <td>0.0</td>\n",
              "      <td>0.0</td>\n",
              "      <td>0.0</td>\n",
              "      <td>NaN</td>\n",
              "      <td>NaN</td>\n",
              "      <td>6.0</td>\n",
              "      <td>small</td>\n",
              "      <td>0.0</td>\n",
              "      <td>COMPLETE</td>\n",
              "    </tr>\n",
              "    <tr>\n",
              "      <th>19</th>\n",
              "      <td>19</td>\n",
              "      <td>0.770950</td>\n",
              "      <td>2025-06-01 17:48:00.334393</td>\n",
              "      <td>2025-06-01 17:48:00.603096</td>\n",
              "      <td>0 days 00:00:00.268703</td>\n",
              "      <td>11</td>\n",
              "      <td>75</td>\n",
              "      <td>3.0</td>\n",
              "      <td>0.0</td>\n",
              "      <td>0.0</td>\n",
              "      <td>0.0</td>\n",
              "      <td>80049570060000000000008c0a636d6165732e5f636d61...</td>\n",
              "      <td>00000000000947494628c065f566d65616e94470000000...</td>\n",
              "      <td>6.0</td>\n",
              "      <td>small</td>\n",
              "      <td>0.0</td>\n",
              "      <td>COMPLETE</td>\n",
              "    </tr>\n",
              "    <tr>\n",
              "      <th>20</th>\n",
              "      <td>20</td>\n",
              "      <td>0.770950</td>\n",
              "      <td>2025-06-01 17:48:00.603884</td>\n",
              "      <td>2025-06-01 17:48:00.907999</td>\n",
              "      <td>0 days 00:00:00.304115</td>\n",
              "      <td>12</td>\n",
              "      <td>89</td>\n",
              "      <td>3.0</td>\n",
              "      <td>0.0</td>\n",
              "      <td>0.0</td>\n",
              "      <td>0.0</td>\n",
              "      <td>NaN</td>\n",
              "      <td>NaN</td>\n",
              "      <td>6.0</td>\n",
              "      <td>small</td>\n",
              "      <td>0.0</td>\n",
              "      <td>COMPLETE</td>\n",
              "    </tr>\n",
              "    <tr>\n",
              "      <th>21</th>\n",
              "      <td>21</td>\n",
              "      <td>0.763501</td>\n",
              "      <td>2025-06-01 17:48:00.908777</td>\n",
              "      <td>2025-06-01 17:48:01.409756</td>\n",
              "      <td>0 days 00:00:00.500979</td>\n",
              "      <td>11</td>\n",
              "      <td>123</td>\n",
              "      <td>3.0</td>\n",
              "      <td>0.0</td>\n",
              "      <td>0.0</td>\n",
              "      <td>0.0</td>\n",
              "      <td>NaN</td>\n",
              "      <td>NaN</td>\n",
              "      <td>6.0</td>\n",
              "      <td>small</td>\n",
              "      <td>0.0</td>\n",
              "      <td>COMPLETE</td>\n",
              "    </tr>\n",
              "    <tr>\n",
              "      <th>22</th>\n",
              "      <td>22</td>\n",
              "      <td>0.767225</td>\n",
              "      <td>2025-06-01 17:48:01.410923</td>\n",
              "      <td>2025-06-01 17:48:01.840871</td>\n",
              "      <td>0 days 00:00:00.429948</td>\n",
              "      <td>15</td>\n",
              "      <td>102</td>\n",
              "      <td>3.0</td>\n",
              "      <td>0.0</td>\n",
              "      <td>0.0</td>\n",
              "      <td>0.0</td>\n",
              "      <td>NaN</td>\n",
              "      <td>NaN</td>\n",
              "      <td>6.0</td>\n",
              "      <td>small</td>\n",
              "      <td>0.0</td>\n",
              "      <td>COMPLETE</td>\n",
              "    </tr>\n",
              "    <tr>\n",
              "      <th>23</th>\n",
              "      <td>23</td>\n",
              "      <td>0.778399</td>\n",
              "      <td>2025-06-01 17:48:01.842120</td>\n",
              "      <td>2025-06-01 17:48:02.344442</td>\n",
              "      <td>0 days 00:00:00.502322</td>\n",
              "      <td>16</td>\n",
              "      <td>119</td>\n",
              "      <td>3.0</td>\n",
              "      <td>0.0</td>\n",
              "      <td>0.0</td>\n",
              "      <td>0.0</td>\n",
              "      <td>NaN</td>\n",
              "      <td>NaN</td>\n",
              "      <td>6.0</td>\n",
              "      <td>small</td>\n",
              "      <td>0.0</td>\n",
              "      <td>COMPLETE</td>\n",
              "    </tr>\n",
              "    <tr>\n",
              "      <th>24</th>\n",
              "      <td>24</td>\n",
              "      <td>0.778399</td>\n",
              "      <td>2025-06-01 17:48:02.345409</td>\n",
              "      <td>2025-06-01 17:48:02.839542</td>\n",
              "      <td>0 days 00:00:00.494133</td>\n",
              "      <td>16</td>\n",
              "      <td>124</td>\n",
              "      <td>3.0</td>\n",
              "      <td>0.0</td>\n",
              "      <td>0.0</td>\n",
              "      <td>0.0</td>\n",
              "      <td>NaN</td>\n",
              "      <td>NaN</td>\n",
              "      <td>6.0</td>\n",
              "      <td>small</td>\n",
              "      <td>0.0</td>\n",
              "      <td>COMPLETE</td>\n",
              "    </tr>\n",
              "    <tr>\n",
              "      <th>25</th>\n",
              "      <td>25</td>\n",
              "      <td>0.769088</td>\n",
              "      <td>2025-06-01 17:48:02.840274</td>\n",
              "      <td>2025-06-01 17:48:03.210398</td>\n",
              "      <td>0 days 00:00:00.370124</td>\n",
              "      <td>16</td>\n",
              "      <td>94</td>\n",
              "      <td>4.0</td>\n",
              "      <td>0.0</td>\n",
              "      <td>0.0</td>\n",
              "      <td>0.0</td>\n",
              "      <td>80049570060000000000008c0a636d6165732e5f636d61...</td>\n",
              "      <td>00000000000947494628c065f566d65616e94470000000...</td>\n",
              "      <td>6.0</td>\n",
              "      <td>small</td>\n",
              "      <td>0.0</td>\n",
              "      <td>COMPLETE</td>\n",
              "    </tr>\n",
              "    <tr>\n",
              "      <th>26</th>\n",
              "      <td>26</td>\n",
              "      <td>0.759777</td>\n",
              "      <td>2025-06-01 17:48:03.211143</td>\n",
              "      <td>2025-06-01 17:48:03.530904</td>\n",
              "      <td>0 days 00:00:00.319761</td>\n",
              "      <td>9</td>\n",
              "      <td>94</td>\n",
              "      <td>4.0</td>\n",
              "      <td>0.0</td>\n",
              "      <td>0.0</td>\n",
              "      <td>0.0</td>\n",
              "      <td>NaN</td>\n",
              "      <td>NaN</td>\n",
              "      <td>6.0</td>\n",
              "      <td>small</td>\n",
              "      <td>0.0</td>\n",
              "      <td>COMPLETE</td>\n",
              "    </tr>\n",
              "    <tr>\n",
              "      <th>27</th>\n",
              "      <td>27</td>\n",
              "      <td>0.769088</td>\n",
              "      <td>2025-06-01 17:48:03.532461</td>\n",
              "      <td>2025-06-01 17:48:04.048645</td>\n",
              "      <td>0 days 00:00:00.516184</td>\n",
              "      <td>13</td>\n",
              "      <td>141</td>\n",
              "      <td>4.0</td>\n",
              "      <td>0.0</td>\n",
              "      <td>0.0</td>\n",
              "      <td>0.0</td>\n",
              "      <td>NaN</td>\n",
              "      <td>NaN</td>\n",
              "      <td>6.0</td>\n",
              "      <td>small</td>\n",
              "      <td>0.0</td>\n",
              "      <td>COMPLETE</td>\n",
              "    </tr>\n",
              "    <tr>\n",
              "      <th>28</th>\n",
              "      <td>28</td>\n",
              "      <td>0.782123</td>\n",
              "      <td>2025-06-01 17:48:04.049520</td>\n",
              "      <td>2025-06-01 17:48:04.492853</td>\n",
              "      <td>0 days 00:00:00.443333</td>\n",
              "      <td>12</td>\n",
              "      <td>104</td>\n",
              "      <td>4.0</td>\n",
              "      <td>0.0</td>\n",
              "      <td>0.0</td>\n",
              "      <td>0.0</td>\n",
              "      <td>NaN</td>\n",
              "      <td>NaN</td>\n",
              "      <td>6.0</td>\n",
              "      <td>small</td>\n",
              "      <td>0.0</td>\n",
              "      <td>COMPLETE</td>\n",
              "    </tr>\n",
              "    <tr>\n",
              "      <th>29</th>\n",
              "      <td>29</td>\n",
              "      <td>0.761639</td>\n",
              "      <td>2025-06-01 17:48:04.493985</td>\n",
              "      <td>2025-06-01 17:48:04.865667</td>\n",
              "      <td>0 days 00:00:00.371682</td>\n",
              "      <td>16</td>\n",
              "      <td>83</td>\n",
              "      <td>4.0</td>\n",
              "      <td>0.0</td>\n",
              "      <td>0.0</td>\n",
              "      <td>0.0</td>\n",
              "      <td>NaN</td>\n",
              "      <td>NaN</td>\n",
              "      <td>6.0</td>\n",
              "      <td>small</td>\n",
              "      <td>0.0</td>\n",
              "      <td>COMPLETE</td>\n",
              "    </tr>\n",
              "    <tr>\n",
              "      <th>30</th>\n",
              "      <td>30</td>\n",
              "      <td>0.778399</td>\n",
              "      <td>2025-06-01 17:48:04.866482</td>\n",
              "      <td>2025-06-01 17:48:05.482948</td>\n",
              "      <td>0 days 00:00:00.616466</td>\n",
              "      <td>16</td>\n",
              "      <td>119</td>\n",
              "      <td>4.0</td>\n",
              "      <td>0.0</td>\n",
              "      <td>0.0</td>\n",
              "      <td>0.0</td>\n",
              "      <td>NaN</td>\n",
              "      <td>NaN</td>\n",
              "      <td>6.0</td>\n",
              "      <td>small</td>\n",
              "      <td>0.0</td>\n",
              "      <td>COMPLETE</td>\n",
              "    </tr>\n",
              "    <tr>\n",
              "      <th>31</th>\n",
              "      <td>31</td>\n",
              "      <td>0.778399</td>\n",
              "      <td>2025-06-01 17:48:05.483692</td>\n",
              "      <td>2025-06-01 17:48:06.206444</td>\n",
              "      <td>0 days 00:00:00.722752</td>\n",
              "      <td>18</td>\n",
              "      <td>131</td>\n",
              "      <td>5.0</td>\n",
              "      <td>0.0</td>\n",
              "      <td>0.0</td>\n",
              "      <td>0.0</td>\n",
              "      <td>80049570060000000000008c0a636d6165732e5f636d61...</td>\n",
              "      <td>00000000000947494628c065f566d65616e94470000000...</td>\n",
              "      <td>6.0</td>\n",
              "      <td>small</td>\n",
              "      <td>0.0</td>\n",
              "      <td>COMPLETE</td>\n",
              "    </tr>\n",
              "    <tr>\n",
              "      <th>32</th>\n",
              "      <td>32</td>\n",
              "      <td>0.761639</td>\n",
              "      <td>2025-06-01 17:48:06.207812</td>\n",
              "      <td>2025-06-01 17:48:06.995984</td>\n",
              "      <td>0 days 00:00:00.788172</td>\n",
              "      <td>9</td>\n",
              "      <td>129</td>\n",
              "      <td>5.0</td>\n",
              "      <td>0.0</td>\n",
              "      <td>0.0</td>\n",
              "      <td>0.0</td>\n",
              "      <td>NaN</td>\n",
              "      <td>NaN</td>\n",
              "      <td>6.0</td>\n",
              "      <td>small</td>\n",
              "      <td>0.0</td>\n",
              "      <td>COMPLETE</td>\n",
              "    </tr>\n",
              "    <tr>\n",
              "      <th>33</th>\n",
              "      <td>33</td>\n",
              "      <td>0.763501</td>\n",
              "      <td>2025-06-01 17:48:06.996666</td>\n",
              "      <td>2025-06-01 17:48:07.509304</td>\n",
              "      <td>0 days 00:00:00.512638</td>\n",
              "      <td>12</td>\n",
              "      <td>93</td>\n",
              "      <td>5.0</td>\n",
              "      <td>0.0</td>\n",
              "      <td>0.0</td>\n",
              "      <td>0.0</td>\n",
              "      <td>NaN</td>\n",
              "      <td>NaN</td>\n",
              "      <td>6.0</td>\n",
              "      <td>small</td>\n",
              "      <td>0.0</td>\n",
              "      <td>COMPLETE</td>\n",
              "    </tr>\n",
              "    <tr>\n",
              "      <th>34</th>\n",
              "      <td>34</td>\n",
              "      <td>0.761639</td>\n",
              "      <td>2025-06-01 17:48:07.510659</td>\n",
              "      <td>2025-06-01 17:48:07.819834</td>\n",
              "      <td>0 days 00:00:00.309175</td>\n",
              "      <td>12</td>\n",
              "      <td>68</td>\n",
              "      <td>5.0</td>\n",
              "      <td>0.0</td>\n",
              "      <td>0.0</td>\n",
              "      <td>0.0</td>\n",
              "      <td>NaN</td>\n",
              "      <td>NaN</td>\n",
              "      <td>6.0</td>\n",
              "      <td>small</td>\n",
              "      <td>0.0</td>\n",
              "      <td>COMPLETE</td>\n",
              "    </tr>\n",
              "    <tr>\n",
              "      <th>35</th>\n",
              "      <td>35</td>\n",
              "      <td>0.778399</td>\n",
              "      <td>2025-06-01 17:48:07.820535</td>\n",
              "      <td>2025-06-01 17:48:08.261817</td>\n",
              "      <td>0 days 00:00:00.441282</td>\n",
              "      <td>15</td>\n",
              "      <td>106</td>\n",
              "      <td>5.0</td>\n",
              "      <td>0.0</td>\n",
              "      <td>0.0</td>\n",
              "      <td>0.0</td>\n",
              "      <td>NaN</td>\n",
              "      <td>NaN</td>\n",
              "      <td>6.0</td>\n",
              "      <td>small</td>\n",
              "      <td>0.0</td>\n",
              "      <td>COMPLETE</td>\n",
              "    </tr>\n",
              "    <tr>\n",
              "      <th>36</th>\n",
              "      <td>36</td>\n",
              "      <td>0.763501</td>\n",
              "      <td>2025-06-01 17:48:08.262852</td>\n",
              "      <td>2025-06-01 17:48:08.590595</td>\n",
              "      <td>0 days 00:00:00.327743</td>\n",
              "      <td>11</td>\n",
              "      <td>81</td>\n",
              "      <td>5.0</td>\n",
              "      <td>0.0</td>\n",
              "      <td>0.0</td>\n",
              "      <td>0.0</td>\n",
              "      <td>NaN</td>\n",
              "      <td>NaN</td>\n",
              "      <td>6.0</td>\n",
              "      <td>small</td>\n",
              "      <td>0.0</td>\n",
              "      <td>COMPLETE</td>\n",
              "    </tr>\n",
              "    <tr>\n",
              "      <th>37</th>\n",
              "      <td>37</td>\n",
              "      <td>0.772812</td>\n",
              "      <td>2025-06-01 17:48:08.591896</td>\n",
              "      <td>2025-06-01 17:48:09.036796</td>\n",
              "      <td>0 days 00:00:00.444900</td>\n",
              "      <td>16</td>\n",
              "      <td>108</td>\n",
              "      <td>6.0</td>\n",
              "      <td>0.0</td>\n",
              "      <td>0.0</td>\n",
              "      <td>0.0</td>\n",
              "      <td>80049570060000000000008c0a636d6165732e5f636d61...</td>\n",
              "      <td>00000000000947494628c065f566d65616e94470000000...</td>\n",
              "      <td>6.0</td>\n",
              "      <td>small</td>\n",
              "      <td>0.0</td>\n",
              "      <td>COMPLETE</td>\n",
              "    </tr>\n",
              "    <tr>\n",
              "      <th>38</th>\n",
              "      <td>38</td>\n",
              "      <td>0.778399</td>\n",
              "      <td>2025-06-01 17:48:09.037459</td>\n",
              "      <td>2025-06-01 17:48:09.535341</td>\n",
              "      <td>0 days 00:00:00.497882</td>\n",
              "      <td>17</td>\n",
              "      <td>121</td>\n",
              "      <td>6.0</td>\n",
              "      <td>0.0</td>\n",
              "      <td>0.0</td>\n",
              "      <td>0.0</td>\n",
              "      <td>NaN</td>\n",
              "      <td>NaN</td>\n",
              "      <td>6.0</td>\n",
              "      <td>small</td>\n",
              "      <td>0.0</td>\n",
              "      <td>COMPLETE</td>\n",
              "    </tr>\n",
              "    <tr>\n",
              "      <th>39</th>\n",
              "      <td>39</td>\n",
              "      <td>0.778399</td>\n",
              "      <td>2025-06-01 17:48:09.536000</td>\n",
              "      <td>2025-06-01 17:48:10.001928</td>\n",
              "      <td>0 days 00:00:00.465928</td>\n",
              "      <td>17</td>\n",
              "      <td>117</td>\n",
              "      <td>6.0</td>\n",
              "      <td>0.0</td>\n",
              "      <td>0.0</td>\n",
              "      <td>0.0</td>\n",
              "      <td>NaN</td>\n",
              "      <td>NaN</td>\n",
              "      <td>6.0</td>\n",
              "      <td>small</td>\n",
              "      <td>0.0</td>\n",
              "      <td>COMPLETE</td>\n",
              "    </tr>\n",
              "    <tr>\n",
              "      <th>40</th>\n",
              "      <td>40</td>\n",
              "      <td>0.769088</td>\n",
              "      <td>2025-06-01 17:48:10.002815</td>\n",
              "      <td>2025-06-01 17:48:10.507470</td>\n",
              "      <td>0 days 00:00:00.504655</td>\n",
              "      <td>14</td>\n",
              "      <td>121</td>\n",
              "      <td>6.0</td>\n",
              "      <td>0.0</td>\n",
              "      <td>0.0</td>\n",
              "      <td>0.0</td>\n",
              "      <td>NaN</td>\n",
              "      <td>NaN</td>\n",
              "      <td>6.0</td>\n",
              "      <td>small</td>\n",
              "      <td>0.0</td>\n",
              "      <td>COMPLETE</td>\n",
              "    </tr>\n",
              "    <tr>\n",
              "      <th>41</th>\n",
              "      <td>41</td>\n",
              "      <td>0.778399</td>\n",
              "      <td>2025-06-01 17:48:10.508404</td>\n",
              "      <td>2025-06-01 17:48:11.193671</td>\n",
              "      <td>0 days 00:00:00.685267</td>\n",
              "      <td>18</td>\n",
              "      <td>127</td>\n",
              "      <td>6.0</td>\n",
              "      <td>0.0</td>\n",
              "      <td>0.0</td>\n",
              "      <td>0.0</td>\n",
              "      <td>NaN</td>\n",
              "      <td>NaN</td>\n",
              "      <td>6.0</td>\n",
              "      <td>small</td>\n",
              "      <td>0.0</td>\n",
              "      <td>COMPLETE</td>\n",
              "    </tr>\n",
              "    <tr>\n",
              "      <th>42</th>\n",
              "      <td>42</td>\n",
              "      <td>0.778399</td>\n",
              "      <td>2025-06-01 17:48:11.194357</td>\n",
              "      <td>2025-06-01 17:48:11.691178</td>\n",
              "      <td>0 days 00:00:00.496821</td>\n",
              "      <td>16</td>\n",
              "      <td>124</td>\n",
              "      <td>6.0</td>\n",
              "      <td>0.0</td>\n",
              "      <td>0.0</td>\n",
              "      <td>0.0</td>\n",
              "      <td>NaN</td>\n",
              "      <td>NaN</td>\n",
              "      <td>6.0</td>\n",
              "      <td>small</td>\n",
              "      <td>0.0</td>\n",
              "      <td>COMPLETE</td>\n",
              "    </tr>\n",
              "    <tr>\n",
              "      <th>43</th>\n",
              "      <td>43</td>\n",
              "      <td>0.774674</td>\n",
              "      <td>2025-06-01 17:48:11.692343</td>\n",
              "      <td>2025-06-01 17:48:12.172562</td>\n",
              "      <td>0 days 00:00:00.480219</td>\n",
              "      <td>16</td>\n",
              "      <td>120</td>\n",
              "      <td>7.0</td>\n",
              "      <td>0.0</td>\n",
              "      <td>0.0</td>\n",
              "      <td>0.0</td>\n",
              "      <td>80049570060000000000008c0a636d6165732e5f636d61...</td>\n",
              "      <td>00000000000947494628c065f566d65616e94470000000...</td>\n",
              "      <td>6.0</td>\n",
              "      <td>small</td>\n",
              "      <td>0.0</td>\n",
              "      <td>COMPLETE</td>\n",
              "    </tr>\n",
              "    <tr>\n",
              "      <th>44</th>\n",
              "      <td>44</td>\n",
              "      <td>0.780261</td>\n",
              "      <td>2025-06-01 17:48:12.173257</td>\n",
              "      <td>2025-06-01 17:48:12.664686</td>\n",
              "      <td>0 days 00:00:00.491429</td>\n",
              "      <td>16</td>\n",
              "      <td>125</td>\n",
              "      <td>7.0</td>\n",
              "      <td>0.0</td>\n",
              "      <td>0.0</td>\n",
              "      <td>0.0</td>\n",
              "      <td>NaN</td>\n",
              "      <td>NaN</td>\n",
              "      <td>6.0</td>\n",
              "      <td>small</td>\n",
              "      <td>0.0</td>\n",
              "      <td>COMPLETE</td>\n",
              "    </tr>\n",
              "    <tr>\n",
              "      <th>45</th>\n",
              "      <td>45</td>\n",
              "      <td>0.770950</td>\n",
              "      <td>2025-06-01 17:48:12.665407</td>\n",
              "      <td>2025-06-01 17:48:13.023805</td>\n",
              "      <td>0 days 00:00:00.358398</td>\n",
              "      <td>12</td>\n",
              "      <td>88</td>\n",
              "      <td>7.0</td>\n",
              "      <td>0.0</td>\n",
              "      <td>0.0</td>\n",
              "      <td>0.0</td>\n",
              "      <td>NaN</td>\n",
              "      <td>NaN</td>\n",
              "      <td>6.0</td>\n",
              "      <td>small</td>\n",
              "      <td>0.0</td>\n",
              "      <td>COMPLETE</td>\n",
              "    </tr>\n",
              "    <tr>\n",
              "      <th>46</th>\n",
              "      <td>46</td>\n",
              "      <td>0.772812</td>\n",
              "      <td>2025-06-01 17:48:13.024753</td>\n",
              "      <td>2025-06-01 17:48:13.489800</td>\n",
              "      <td>0 days 00:00:00.465047</td>\n",
              "      <td>15</td>\n",
              "      <td>108</td>\n",
              "      <td>7.0</td>\n",
              "      <td>0.0</td>\n",
              "      <td>0.0</td>\n",
              "      <td>0.0</td>\n",
              "      <td>NaN</td>\n",
              "      <td>NaN</td>\n",
              "      <td>6.0</td>\n",
              "      <td>small</td>\n",
              "      <td>0.0</td>\n",
              "      <td>COMPLETE</td>\n",
              "    </tr>\n",
              "    <tr>\n",
              "      <th>47</th>\n",
              "      <td>47</td>\n",
              "      <td>0.770950</td>\n",
              "      <td>2025-06-01 17:48:13.490922</td>\n",
              "      <td>2025-06-01 17:48:13.943312</td>\n",
              "      <td>0 days 00:00:00.452390</td>\n",
              "      <td>18</td>\n",
              "      <td>104</td>\n",
              "      <td>7.0</td>\n",
              "      <td>0.0</td>\n",
              "      <td>0.0</td>\n",
              "      <td>0.0</td>\n",
              "      <td>NaN</td>\n",
              "      <td>NaN</td>\n",
              "      <td>6.0</td>\n",
              "      <td>small</td>\n",
              "      <td>0.0</td>\n",
              "      <td>COMPLETE</td>\n",
              "    </tr>\n",
              "    <tr>\n",
              "      <th>48</th>\n",
              "      <td>48</td>\n",
              "      <td>0.778399</td>\n",
              "      <td>2025-06-01 17:48:13.944282</td>\n",
              "      <td>2025-06-01 17:48:14.469707</td>\n",
              "      <td>0 days 00:00:00.525425</td>\n",
              "      <td>18</td>\n",
              "      <td>130</td>\n",
              "      <td>7.0</td>\n",
              "      <td>0.0</td>\n",
              "      <td>0.0</td>\n",
              "      <td>0.0</td>\n",
              "      <td>NaN</td>\n",
              "      <td>NaN</td>\n",
              "      <td>6.0</td>\n",
              "      <td>small</td>\n",
              "      <td>0.0</td>\n",
              "      <td>COMPLETE</td>\n",
              "    </tr>\n",
              "    <tr>\n",
              "      <th>49</th>\n",
              "      <td>49</td>\n",
              "      <td>0.780261</td>\n",
              "      <td>2025-06-01 17:48:14.470806</td>\n",
              "      <td>2025-06-01 17:48:14.994223</td>\n",
              "      <td>0 days 00:00:00.523417</td>\n",
              "      <td>16</td>\n",
              "      <td>127</td>\n",
              "      <td>8.0</td>\n",
              "      <td>0.0</td>\n",
              "      <td>0.0</td>\n",
              "      <td>0.0</td>\n",
              "      <td>80049570060000000000008c0a636d6165732e5f636d61...</td>\n",
              "      <td>00000000000947494628c065f566d65616e94470000000...</td>\n",
              "      <td>6.0</td>\n",
              "      <td>small</td>\n",
              "      <td>0.0</td>\n",
              "      <td>COMPLETE</td>\n",
              "    </tr>\n",
              "  </tbody>\n",
              "</table>\n",
              "</div>"
            ],
            "text/plain": [
              "    number     value             datetime_start          datetime_complete  \\\n",
              "0        0  0.759777 2025-06-01 17:47:52.765276 2025-06-01 17:47:53.138253   \n",
              "1        1  0.772812 2025-06-01 17:47:53.139061 2025-06-01 17:47:53.541833   \n",
              "2        2  0.761639 2025-06-01 17:47:53.542619 2025-06-01 17:47:53.888252   \n",
              "3        3  0.776536 2025-06-01 17:47:53.889057 2025-06-01 17:47:54.298194   \n",
              "4        4  0.763501 2025-06-01 17:47:54.299021 2025-06-01 17:47:54.644789   \n",
              "5        5  0.763501 2025-06-01 17:47:54.645607 2025-06-01 17:47:55.032142   \n",
              "6        6  0.767225 2025-06-01 17:47:55.033001 2025-06-01 17:47:55.287762   \n",
              "7        7  0.767225 2025-06-01 17:47:55.288526 2025-06-01 17:47:55.722536   \n",
              "8        8  0.765363 2025-06-01 17:47:55.723318 2025-06-01 17:47:56.040564   \n",
              "9        9  0.778399 2025-06-01 17:47:56.041367 2025-06-01 17:47:56.410510   \n",
              "10      10  0.774674 2025-06-01 17:47:56.411908 2025-06-01 17:47:56.883627   \n",
              "11      11  0.774674 2025-06-01 17:47:56.884458 2025-06-01 17:47:57.335405   \n",
              "12      12  0.776536 2025-06-01 17:47:57.336197 2025-06-01 17:47:57.904028   \n",
              "13      13  0.774674 2025-06-01 17:47:57.904809 2025-06-01 17:47:58.287235   \n",
              "14      14  0.778399 2025-06-01 17:47:58.288056 2025-06-01 17:47:58.623641   \n",
              "15      15  0.769088 2025-06-01 17:47:58.624398 2025-06-01 17:47:59.046409   \n",
              "16      16  0.774674 2025-06-01 17:47:59.047706 2025-06-01 17:47:59.397390   \n",
              "17      17  0.770950 2025-06-01 17:47:59.398380 2025-06-01 17:47:59.885125   \n",
              "18      18  0.761639 2025-06-01 17:47:59.885987 2025-06-01 17:48:00.333615   \n",
              "19      19  0.770950 2025-06-01 17:48:00.334393 2025-06-01 17:48:00.603096   \n",
              "20      20  0.770950 2025-06-01 17:48:00.603884 2025-06-01 17:48:00.907999   \n",
              "21      21  0.763501 2025-06-01 17:48:00.908777 2025-06-01 17:48:01.409756   \n",
              "22      22  0.767225 2025-06-01 17:48:01.410923 2025-06-01 17:48:01.840871   \n",
              "23      23  0.778399 2025-06-01 17:48:01.842120 2025-06-01 17:48:02.344442   \n",
              "24      24  0.778399 2025-06-01 17:48:02.345409 2025-06-01 17:48:02.839542   \n",
              "25      25  0.769088 2025-06-01 17:48:02.840274 2025-06-01 17:48:03.210398   \n",
              "26      26  0.759777 2025-06-01 17:48:03.211143 2025-06-01 17:48:03.530904   \n",
              "27      27  0.769088 2025-06-01 17:48:03.532461 2025-06-01 17:48:04.048645   \n",
              "28      28  0.782123 2025-06-01 17:48:04.049520 2025-06-01 17:48:04.492853   \n",
              "29      29  0.761639 2025-06-01 17:48:04.493985 2025-06-01 17:48:04.865667   \n",
              "30      30  0.778399 2025-06-01 17:48:04.866482 2025-06-01 17:48:05.482948   \n",
              "31      31  0.778399 2025-06-01 17:48:05.483692 2025-06-01 17:48:06.206444   \n",
              "32      32  0.761639 2025-06-01 17:48:06.207812 2025-06-01 17:48:06.995984   \n",
              "33      33  0.763501 2025-06-01 17:48:06.996666 2025-06-01 17:48:07.509304   \n",
              "34      34  0.761639 2025-06-01 17:48:07.510659 2025-06-01 17:48:07.819834   \n",
              "35      35  0.778399 2025-06-01 17:48:07.820535 2025-06-01 17:48:08.261817   \n",
              "36      36  0.763501 2025-06-01 17:48:08.262852 2025-06-01 17:48:08.590595   \n",
              "37      37  0.772812 2025-06-01 17:48:08.591896 2025-06-01 17:48:09.036796   \n",
              "38      38  0.778399 2025-06-01 17:48:09.037459 2025-06-01 17:48:09.535341   \n",
              "39      39  0.778399 2025-06-01 17:48:09.536000 2025-06-01 17:48:10.001928   \n",
              "40      40  0.769088 2025-06-01 17:48:10.002815 2025-06-01 17:48:10.507470   \n",
              "41      41  0.778399 2025-06-01 17:48:10.508404 2025-06-01 17:48:11.193671   \n",
              "42      42  0.778399 2025-06-01 17:48:11.194357 2025-06-01 17:48:11.691178   \n",
              "43      43  0.774674 2025-06-01 17:48:11.692343 2025-06-01 17:48:12.172562   \n",
              "44      44  0.780261 2025-06-01 17:48:12.173257 2025-06-01 17:48:12.664686   \n",
              "45      45  0.770950 2025-06-01 17:48:12.665407 2025-06-01 17:48:13.023805   \n",
              "46      46  0.772812 2025-06-01 17:48:13.024753 2025-06-01 17:48:13.489800   \n",
              "47      47  0.770950 2025-06-01 17:48:13.490922 2025-06-01 17:48:13.943312   \n",
              "48      48  0.778399 2025-06-01 17:48:13.944282 2025-06-01 17:48:14.469707   \n",
              "49      49  0.780261 2025-06-01 17:48:14.470806 2025-06-01 17:48:14.994223   \n",
              "\n",
              "                 duration  params_max_depth  params_n_estimators  \\\n",
              "0  0 days 00:00:00.372977                10                  108   \n",
              "1  0 days 00:00:00.402772                12                  122   \n",
              "2  0 days 00:00:00.345633                 9                  105   \n",
              "3  0 days 00:00:00.409137                18                  118   \n",
              "4  0 days 00:00:00.345768                14                  102   \n",
              "5  0 days 00:00:00.386535                10                  105   \n",
              "6  0 days 00:00:00.254761                 7                   82   \n",
              "7  0 days 00:00:00.434010                14                  133   \n",
              "8  0 days 00:00:00.317246                11                   98   \n",
              "9  0 days 00:00:00.369143                17                  113   \n",
              "10 0 days 00:00:00.471719                20                  137   \n",
              "11 0 days 00:00:00.450947                13                  137   \n",
              "12 0 days 00:00:00.567831                16                  153   \n",
              "13 0 days 00:00:00.382426                18                  112   \n",
              "14 0 days 00:00:00.335585                12                  103   \n",
              "15 0 days 00:00:00.422011                14                  121   \n",
              "16 0 days 00:00:00.349684                20                  107   \n",
              "17 0 days 00:00:00.486745                15                  147   \n",
              "18 0 days 00:00:00.447628                13                  122   \n",
              "19 0 days 00:00:00.268703                11                   75   \n",
              "20 0 days 00:00:00.304115                12                   89   \n",
              "21 0 days 00:00:00.500979                11                  123   \n",
              "22 0 days 00:00:00.429948                15                  102   \n",
              "23 0 days 00:00:00.502322                16                  119   \n",
              "24 0 days 00:00:00.494133                16                  124   \n",
              "25 0 days 00:00:00.370124                16                   94   \n",
              "26 0 days 00:00:00.319761                 9                   94   \n",
              "27 0 days 00:00:00.516184                13                  141   \n",
              "28 0 days 00:00:00.443333                12                  104   \n",
              "29 0 days 00:00:00.371682                16                   83   \n",
              "30 0 days 00:00:00.616466                16                  119   \n",
              "31 0 days 00:00:00.722752                18                  131   \n",
              "32 0 days 00:00:00.788172                 9                  129   \n",
              "33 0 days 00:00:00.512638                12                   93   \n",
              "34 0 days 00:00:00.309175                12                   68   \n",
              "35 0 days 00:00:00.441282                15                  106   \n",
              "36 0 days 00:00:00.327743                11                   81   \n",
              "37 0 days 00:00:00.444900                16                  108   \n",
              "38 0 days 00:00:00.497882                17                  121   \n",
              "39 0 days 00:00:00.465928                17                  117   \n",
              "40 0 days 00:00:00.504655                14                  121   \n",
              "41 0 days 00:00:00.685267                18                  127   \n",
              "42 0 days 00:00:00.496821                16                  124   \n",
              "43 0 days 00:00:00.480219                16                  120   \n",
              "44 0 days 00:00:00.491429                16                  125   \n",
              "45 0 days 00:00:00.358398                12                   88   \n",
              "46 0 days 00:00:00.465047                15                  108   \n",
              "47 0 days 00:00:00.452390                18                  104   \n",
              "48 0 days 00:00:00.525425                18                  130   \n",
              "49 0 days 00:00:00.523417                16                  127   \n",
              "\n",
              "    system_attrs_cma:generation  system_attrs_cma:large_n_eval  \\\n",
              "0                           NaN                            NaN   \n",
              "1                           0.0                            0.0   \n",
              "2                           0.0                            0.0   \n",
              "3                           0.0                            0.0   \n",
              "4                           0.0                            0.0   \n",
              "5                           0.0                            0.0   \n",
              "6                           0.0                            0.0   \n",
              "7                           1.0                            0.0   \n",
              "8                           1.0                            0.0   \n",
              "9                           1.0                            0.0   \n",
              "10                          1.0                            0.0   \n",
              "11                          1.0                            0.0   \n",
              "12                          1.0                            0.0   \n",
              "13                          2.0                            0.0   \n",
              "14                          2.0                            0.0   \n",
              "15                          2.0                            0.0   \n",
              "16                          2.0                            0.0   \n",
              "17                          2.0                            0.0   \n",
              "18                          2.0                            0.0   \n",
              "19                          3.0                            0.0   \n",
              "20                          3.0                            0.0   \n",
              "21                          3.0                            0.0   \n",
              "22                          3.0                            0.0   \n",
              "23                          3.0                            0.0   \n",
              "24                          3.0                            0.0   \n",
              "25                          4.0                            0.0   \n",
              "26                          4.0                            0.0   \n",
              "27                          4.0                            0.0   \n",
              "28                          4.0                            0.0   \n",
              "29                          4.0                            0.0   \n",
              "30                          4.0                            0.0   \n",
              "31                          5.0                            0.0   \n",
              "32                          5.0                            0.0   \n",
              "33                          5.0                            0.0   \n",
              "34                          5.0                            0.0   \n",
              "35                          5.0                            0.0   \n",
              "36                          5.0                            0.0   \n",
              "37                          6.0                            0.0   \n",
              "38                          6.0                            0.0   \n",
              "39                          6.0                            0.0   \n",
              "40                          6.0                            0.0   \n",
              "41                          6.0                            0.0   \n",
              "42                          6.0                            0.0   \n",
              "43                          7.0                            0.0   \n",
              "44                          7.0                            0.0   \n",
              "45                          7.0                            0.0   \n",
              "46                          7.0                            0.0   \n",
              "47                          7.0                            0.0   \n",
              "48                          7.0                            0.0   \n",
              "49                          8.0                            0.0   \n",
              "\n",
              "    system_attrs_cma:n_restarts  system_attrs_cma:n_restarts_with_large  \\\n",
              "0                           NaN                                     NaN   \n",
              "1                           0.0                                     0.0   \n",
              "2                           0.0                                     0.0   \n",
              "3                           0.0                                     0.0   \n",
              "4                           0.0                                     0.0   \n",
              "5                           0.0                                     0.0   \n",
              "6                           0.0                                     0.0   \n",
              "7                           0.0                                     0.0   \n",
              "8                           0.0                                     0.0   \n",
              "9                           0.0                                     0.0   \n",
              "10                          0.0                                     0.0   \n",
              "11                          0.0                                     0.0   \n",
              "12                          0.0                                     0.0   \n",
              "13                          0.0                                     0.0   \n",
              "14                          0.0                                     0.0   \n",
              "15                          0.0                                     0.0   \n",
              "16                          0.0                                     0.0   \n",
              "17                          0.0                                     0.0   \n",
              "18                          0.0                                     0.0   \n",
              "19                          0.0                                     0.0   \n",
              "20                          0.0                                     0.0   \n",
              "21                          0.0                                     0.0   \n",
              "22                          0.0                                     0.0   \n",
              "23                          0.0                                     0.0   \n",
              "24                          0.0                                     0.0   \n",
              "25                          0.0                                     0.0   \n",
              "26                          0.0                                     0.0   \n",
              "27                          0.0                                     0.0   \n",
              "28                          0.0                                     0.0   \n",
              "29                          0.0                                     0.0   \n",
              "30                          0.0                                     0.0   \n",
              "31                          0.0                                     0.0   \n",
              "32                          0.0                                     0.0   \n",
              "33                          0.0                                     0.0   \n",
              "34                          0.0                                     0.0   \n",
              "35                          0.0                                     0.0   \n",
              "36                          0.0                                     0.0   \n",
              "37                          0.0                                     0.0   \n",
              "38                          0.0                                     0.0   \n",
              "39                          0.0                                     0.0   \n",
              "40                          0.0                                     0.0   \n",
              "41                          0.0                                     0.0   \n",
              "42                          0.0                                     0.0   \n",
              "43                          0.0                                     0.0   \n",
              "44                          0.0                                     0.0   \n",
              "45                          0.0                                     0.0   \n",
              "46                          0.0                                     0.0   \n",
              "47                          0.0                                     0.0   \n",
              "48                          0.0                                     0.0   \n",
              "49                          0.0                                     0.0   \n",
              "\n",
              "                         system_attrs_cma:optimizer:0  \\\n",
              "0                                                 NaN   \n",
              "1                                                 NaN   \n",
              "2                                                 NaN   \n",
              "3                                                 NaN   \n",
              "4                                                 NaN   \n",
              "5                                                 NaN   \n",
              "6                                                 NaN   \n",
              "7   8004954e060000000000008c0a636d6165732e5f636d61...   \n",
              "8                                                 NaN   \n",
              "9                                                 NaN   \n",
              "10                                                NaN   \n",
              "11                                                NaN   \n",
              "12                                                NaN   \n",
              "13  80049570060000000000008c0a636d6165732e5f636d61...   \n",
              "14                                                NaN   \n",
              "15                                                NaN   \n",
              "16                                                NaN   \n",
              "17                                                NaN   \n",
              "18                                                NaN   \n",
              "19  80049570060000000000008c0a636d6165732e5f636d61...   \n",
              "20                                                NaN   \n",
              "21                                                NaN   \n",
              "22                                                NaN   \n",
              "23                                                NaN   \n",
              "24                                                NaN   \n",
              "25  80049570060000000000008c0a636d6165732e5f636d61...   \n",
              "26                                                NaN   \n",
              "27                                                NaN   \n",
              "28                                                NaN   \n",
              "29                                                NaN   \n",
              "30                                                NaN   \n",
              "31  80049570060000000000008c0a636d6165732e5f636d61...   \n",
              "32                                                NaN   \n",
              "33                                                NaN   \n",
              "34                                                NaN   \n",
              "35                                                NaN   \n",
              "36                                                NaN   \n",
              "37  80049570060000000000008c0a636d6165732e5f636d61...   \n",
              "38                                                NaN   \n",
              "39                                                NaN   \n",
              "40                                                NaN   \n",
              "41                                                NaN   \n",
              "42                                                NaN   \n",
              "43  80049570060000000000008c0a636d6165732e5f636d61...   \n",
              "44                                                NaN   \n",
              "45                                                NaN   \n",
              "46                                                NaN   \n",
              "47                                                NaN   \n",
              "48                                                NaN   \n",
              "49  80049570060000000000008c0a636d6165732e5f636d61...   \n",
              "\n",
              "                         system_attrs_cma:optimizer:1  \\\n",
              "0                                                 NaN   \n",
              "1                                                 NaN   \n",
              "2                                                 NaN   \n",
              "3                                                 NaN   \n",
              "4                                                 NaN   \n",
              "5                                                 NaN   \n",
              "6                                                 NaN   \n",
              "7   3200000000000000000000000000000000000000000000...   \n",
              "8                                                 NaN   \n",
              "9                                                 NaN   \n",
              "10                                                NaN   \n",
              "11                                                NaN   \n",
              "12                                                NaN   \n",
              "13  00000000000947494628c065f566d65616e94470000000...   \n",
              "14                                                NaN   \n",
              "15                                                NaN   \n",
              "16                                                NaN   \n",
              "17                                                NaN   \n",
              "18                                                NaN   \n",
              "19  00000000000947494628c065f566d65616e94470000000...   \n",
              "20                                                NaN   \n",
              "21                                                NaN   \n",
              "22                                                NaN   \n",
              "23                                                NaN   \n",
              "24                                                NaN   \n",
              "25  00000000000947494628c065f566d65616e94470000000...   \n",
              "26                                                NaN   \n",
              "27                                                NaN   \n",
              "28                                                NaN   \n",
              "29                                                NaN   \n",
              "30                                                NaN   \n",
              "31  00000000000947494628c065f566d65616e94470000000...   \n",
              "32                                                NaN   \n",
              "33                                                NaN   \n",
              "34                                                NaN   \n",
              "35                                                NaN   \n",
              "36                                                NaN   \n",
              "37  00000000000947494628c065f566d65616e94470000000...   \n",
              "38                                                NaN   \n",
              "39                                                NaN   \n",
              "40                                                NaN   \n",
              "41                                                NaN   \n",
              "42                                                NaN   \n",
              "43  00000000000947494628c065f566d65616e94470000000...   \n",
              "44                                                NaN   \n",
              "45                                                NaN   \n",
              "46                                                NaN   \n",
              "47                                                NaN   \n",
              "48                                                NaN   \n",
              "49  00000000000947494628c065f566d65616e94470000000...   \n",
              "\n",
              "    system_attrs_cma:popsize system_attrs_cma:poptype  \\\n",
              "0                        NaN                      NaN   \n",
              "1                        6.0                    small   \n",
              "2                        6.0                    small   \n",
              "3                        6.0                    small   \n",
              "4                        6.0                    small   \n",
              "5                        6.0                    small   \n",
              "6                        6.0                    small   \n",
              "7                        6.0                    small   \n",
              "8                        6.0                    small   \n",
              "9                        6.0                    small   \n",
              "10                       6.0                    small   \n",
              "11                       6.0                    small   \n",
              "12                       6.0                    small   \n",
              "13                       6.0                    small   \n",
              "14                       6.0                    small   \n",
              "15                       6.0                    small   \n",
              "16                       6.0                    small   \n",
              "17                       6.0                    small   \n",
              "18                       6.0                    small   \n",
              "19                       6.0                    small   \n",
              "20                       6.0                    small   \n",
              "21                       6.0                    small   \n",
              "22                       6.0                    small   \n",
              "23                       6.0                    small   \n",
              "24                       6.0                    small   \n",
              "25                       6.0                    small   \n",
              "26                       6.0                    small   \n",
              "27                       6.0                    small   \n",
              "28                       6.0                    small   \n",
              "29                       6.0                    small   \n",
              "30                       6.0                    small   \n",
              "31                       6.0                    small   \n",
              "32                       6.0                    small   \n",
              "33                       6.0                    small   \n",
              "34                       6.0                    small   \n",
              "35                       6.0                    small   \n",
              "36                       6.0                    small   \n",
              "37                       6.0                    small   \n",
              "38                       6.0                    small   \n",
              "39                       6.0                    small   \n",
              "40                       6.0                    small   \n",
              "41                       6.0                    small   \n",
              "42                       6.0                    small   \n",
              "43                       6.0                    small   \n",
              "44                       6.0                    small   \n",
              "45                       6.0                    small   \n",
              "46                       6.0                    small   \n",
              "47                       6.0                    small   \n",
              "48                       6.0                    small   \n",
              "49                       6.0                    small   \n",
              "\n",
              "    system_attrs_cma:small_n_eval     state  \n",
              "0                             NaN  COMPLETE  \n",
              "1                             0.0  COMPLETE  \n",
              "2                             0.0  COMPLETE  \n",
              "3                             0.0  COMPLETE  \n",
              "4                             0.0  COMPLETE  \n",
              "5                             0.0  COMPLETE  \n",
              "6                             0.0  COMPLETE  \n",
              "7                             0.0  COMPLETE  \n",
              "8                             0.0  COMPLETE  \n",
              "9                             0.0  COMPLETE  \n",
              "10                            0.0  COMPLETE  \n",
              "11                            0.0  COMPLETE  \n",
              "12                            0.0  COMPLETE  \n",
              "13                            0.0  COMPLETE  \n",
              "14                            0.0  COMPLETE  \n",
              "15                            0.0  COMPLETE  \n",
              "16                            0.0  COMPLETE  \n",
              "17                            0.0  COMPLETE  \n",
              "18                            0.0  COMPLETE  \n",
              "19                            0.0  COMPLETE  \n",
              "20                            0.0  COMPLETE  \n",
              "21                            0.0  COMPLETE  \n",
              "22                            0.0  COMPLETE  \n",
              "23                            0.0  COMPLETE  \n",
              "24                            0.0  COMPLETE  \n",
              "25                            0.0  COMPLETE  \n",
              "26                            0.0  COMPLETE  \n",
              "27                            0.0  COMPLETE  \n",
              "28                            0.0  COMPLETE  \n",
              "29                            0.0  COMPLETE  \n",
              "30                            0.0  COMPLETE  \n",
              "31                            0.0  COMPLETE  \n",
              "32                            0.0  COMPLETE  \n",
              "33                            0.0  COMPLETE  \n",
              "34                            0.0  COMPLETE  \n",
              "35                            0.0  COMPLETE  \n",
              "36                            0.0  COMPLETE  \n",
              "37                            0.0  COMPLETE  \n",
              "38                            0.0  COMPLETE  \n",
              "39                            0.0  COMPLETE  \n",
              "40                            0.0  COMPLETE  \n",
              "41                            0.0  COMPLETE  \n",
              "42                            0.0  COMPLETE  \n",
              "43                            0.0  COMPLETE  \n",
              "44                            0.0  COMPLETE  \n",
              "45                            0.0  COMPLETE  \n",
              "46                            0.0  COMPLETE  \n",
              "47                            0.0  COMPLETE  \n",
              "48                            0.0  COMPLETE  \n",
              "49                            0.0  COMPLETE  "
            ]
          },
          "execution_count": 8,
          "metadata": {},
          "output_type": "execute_result"
        }
      ],
      "source": [
        "study.trials_dataframe()"
      ]
    },
    {
      "cell_type": "code",
      "execution_count": 9,
      "metadata": {
        "colab": {
          "base_uri": "https://localhost:8080/"
        },
        "id": "DvjNuONbxxTc",
        "outputId": "b54e4608-7d52-4a84-f44d-abe73603b6a8"
      },
      "outputs": [
        {
          "data": {
            "text/plain": [
              "<optuna.samplers._cmaes.CmaEsSampler at 0x2669ad48d70>"
            ]
          },
          "execution_count": 9,
          "metadata": {},
          "output_type": "execute_result"
        }
      ],
      "source": [
        "study.sampler"
      ]
    },
    {
      "cell_type": "markdown",
      "metadata": {
        "id": "K4LmndX54oSU"
      },
      "source": [
        "## Optuna Visualizations"
      ]
    },
    {
      "cell_type": "code",
      "execution_count": 10,
      "metadata": {
        "id": "RxNsmlcR4nZi"
      },
      "outputs": [],
      "source": [
        "# For visualizations\n",
        "import plotly.express as px\n",
        "from optuna.visualization import plot_optimization_history, plot_parallel_coordinate, plot_slice, plot_contour, plot_param_importances"
      ]
    },
    {
      "cell_type": "code",
      "execution_count": 11,
      "metadata": {
        "colab": {
          "base_uri": "https://localhost:8080/",
          "height": 542
        },
        "id": "tL5Gc3uxymq8",
        "outputId": "10a70dde-b75b-48f6-da70-bfebfc12c43f"
      },
      "outputs": [
        {
          "data": {
            "application/vnd.plotly.v1+json": {
              "config": {
                "plotlyServerURL": "https://plot.ly"
              },
              "data": [
                {
                  "mode": "markers",
                  "name": "Objective Value",
                  "type": "scatter",
                  "x": [
                    0,
                    1,
                    2,
                    3,
                    4,
                    5,
                    6,
                    7,
                    8,
                    9,
                    10,
                    11,
                    12,
                    13,
                    14,
                    15,
                    16,
                    17,
                    18,
                    19,
                    20,
                    21,
                    22,
                    23,
                    24,
                    25,
                    26,
                    27,
                    28,
                    29,
                    30,
                    31,
                    32,
                    33,
                    34,
                    35,
                    36,
                    37,
                    38,
                    39,
                    40,
                    41,
                    42,
                    43,
                    44,
                    45,
                    46,
                    47,
                    48,
                    49
                  ],
                  "y": [
                    0.7597765363128491,
                    0.7728119180633146,
                    0.7616387337057727,
                    0.7765363128491621,
                    0.7635009310986964,
                    0.7635009310986964,
                    0.7672253258845437,
                    0.7672253258845437,
                    0.7653631284916201,
                    0.7783985102420856,
                    0.7746741154562383,
                    0.7746741154562383,
                    0.7765363128491621,
                    0.7746741154562384,
                    0.7783985102420856,
                    0.7690875232774674,
                    0.7746741154562384,
                    0.7709497206703911,
                    0.7616387337057727,
                    0.7709497206703911,
                    0.7709497206703911,
                    0.7635009310986964,
                    0.7672253258845437,
                    0.7783985102420857,
                    0.7783985102420856,
                    0.7690875232774674,
                    0.7597765363128491,
                    0.7690875232774674,
                    0.7821229050279329,
                    0.7616387337057727,
                    0.7783985102420857,
                    0.7783985102420856,
                    0.7616387337057727,
                    0.7635009310986964,
                    0.7616387337057727,
                    0.7783985102420857,
                    0.7635009310986964,
                    0.7728119180633147,
                    0.7783985102420856,
                    0.7783985102420856,
                    0.7690875232774674,
                    0.7783985102420856,
                    0.7783985102420856,
                    0.7746741154562384,
                    0.7802607076350093,
                    0.7709497206703911,
                    0.7728119180633147,
                    0.7709497206703911,
                    0.7783985102420856,
                    0.7802607076350093
                  ]
                },
                {
                  "mode": "lines",
                  "name": "Best Value",
                  "type": "scatter",
                  "x": [
                    0,
                    1,
                    2,
                    3,
                    4,
                    5,
                    6,
                    7,
                    8,
                    9,
                    10,
                    11,
                    12,
                    13,
                    14,
                    15,
                    16,
                    17,
                    18,
                    19,
                    20,
                    21,
                    22,
                    23,
                    24,
                    25,
                    26,
                    27,
                    28,
                    29,
                    30,
                    31,
                    32,
                    33,
                    34,
                    35,
                    36,
                    37,
                    38,
                    39,
                    40,
                    41,
                    42,
                    43,
                    44,
                    45,
                    46,
                    47,
                    48,
                    49
                  ],
                  "y": [
                    0.7597765363128491,
                    0.7728119180633146,
                    0.7728119180633146,
                    0.7765363128491621,
                    0.7765363128491621,
                    0.7765363128491621,
                    0.7765363128491621,
                    0.7765363128491621,
                    0.7765363128491621,
                    0.7783985102420856,
                    0.7783985102420856,
                    0.7783985102420856,
                    0.7783985102420856,
                    0.7783985102420856,
                    0.7783985102420856,
                    0.7783985102420856,
                    0.7783985102420856,
                    0.7783985102420856,
                    0.7783985102420856,
                    0.7783985102420856,
                    0.7783985102420856,
                    0.7783985102420856,
                    0.7783985102420856,
                    0.7783985102420857,
                    0.7783985102420857,
                    0.7783985102420857,
                    0.7783985102420857,
                    0.7783985102420857,
                    0.7821229050279329,
                    0.7821229050279329,
                    0.7821229050279329,
                    0.7821229050279329,
                    0.7821229050279329,
                    0.7821229050279329,
                    0.7821229050279329,
                    0.7821229050279329,
                    0.7821229050279329,
                    0.7821229050279329,
                    0.7821229050279329,
                    0.7821229050279329,
                    0.7821229050279329,
                    0.7821229050279329,
                    0.7821229050279329,
                    0.7821229050279329,
                    0.7821229050279329,
                    0.7821229050279329,
                    0.7821229050279329,
                    0.7821229050279329,
                    0.7821229050279329,
                    0.7821229050279329
                  ]
                },
                {
                  "marker": {
                    "color": "#cccccc"
                  },
                  "mode": "markers",
                  "name": "Infeasible Trial",
                  "showlegend": false,
                  "type": "scatter",
                  "x": [],
                  "y": []
                }
              ],
              "layout": {
                "template": {
                  "data": {
                    "bar": [
                      {
                        "error_x": {
                          "color": "#2a3f5f"
                        },
                        "error_y": {
                          "color": "#2a3f5f"
                        },
                        "marker": {
                          "line": {
                            "color": "#E5ECF6",
                            "width": 0.5
                          },
                          "pattern": {
                            "fillmode": "overlay",
                            "size": 10,
                            "solidity": 0.2
                          }
                        },
                        "type": "bar"
                      }
                    ],
                    "barpolar": [
                      {
                        "marker": {
                          "line": {
                            "color": "#E5ECF6",
                            "width": 0.5
                          },
                          "pattern": {
                            "fillmode": "overlay",
                            "size": 10,
                            "solidity": 0.2
                          }
                        },
                        "type": "barpolar"
                      }
                    ],
                    "carpet": [
                      {
                        "aaxis": {
                          "endlinecolor": "#2a3f5f",
                          "gridcolor": "white",
                          "linecolor": "white",
                          "minorgridcolor": "white",
                          "startlinecolor": "#2a3f5f"
                        },
                        "baxis": {
                          "endlinecolor": "#2a3f5f",
                          "gridcolor": "white",
                          "linecolor": "white",
                          "minorgridcolor": "white",
                          "startlinecolor": "#2a3f5f"
                        },
                        "type": "carpet"
                      }
                    ],
                    "choropleth": [
                      {
                        "colorbar": {
                          "outlinewidth": 0,
                          "ticks": ""
                        },
                        "type": "choropleth"
                      }
                    ],
                    "contour": [
                      {
                        "colorbar": {
                          "outlinewidth": 0,
                          "ticks": ""
                        },
                        "colorscale": [
                          [
                            0,
                            "#0d0887"
                          ],
                          [
                            0.1111111111111111,
                            "#46039f"
                          ],
                          [
                            0.2222222222222222,
                            "#7201a8"
                          ],
                          [
                            0.3333333333333333,
                            "#9c179e"
                          ],
                          [
                            0.4444444444444444,
                            "#bd3786"
                          ],
                          [
                            0.5555555555555556,
                            "#d8576b"
                          ],
                          [
                            0.6666666666666666,
                            "#ed7953"
                          ],
                          [
                            0.7777777777777778,
                            "#fb9f3a"
                          ],
                          [
                            0.8888888888888888,
                            "#fdca26"
                          ],
                          [
                            1,
                            "#f0f921"
                          ]
                        ],
                        "type": "contour"
                      }
                    ],
                    "contourcarpet": [
                      {
                        "colorbar": {
                          "outlinewidth": 0,
                          "ticks": ""
                        },
                        "type": "contourcarpet"
                      }
                    ],
                    "heatmap": [
                      {
                        "colorbar": {
                          "outlinewidth": 0,
                          "ticks": ""
                        },
                        "colorscale": [
                          [
                            0,
                            "#0d0887"
                          ],
                          [
                            0.1111111111111111,
                            "#46039f"
                          ],
                          [
                            0.2222222222222222,
                            "#7201a8"
                          ],
                          [
                            0.3333333333333333,
                            "#9c179e"
                          ],
                          [
                            0.4444444444444444,
                            "#bd3786"
                          ],
                          [
                            0.5555555555555556,
                            "#d8576b"
                          ],
                          [
                            0.6666666666666666,
                            "#ed7953"
                          ],
                          [
                            0.7777777777777778,
                            "#fb9f3a"
                          ],
                          [
                            0.8888888888888888,
                            "#fdca26"
                          ],
                          [
                            1,
                            "#f0f921"
                          ]
                        ],
                        "type": "heatmap"
                      }
                    ],
                    "histogram": [
                      {
                        "marker": {
                          "pattern": {
                            "fillmode": "overlay",
                            "size": 10,
                            "solidity": 0.2
                          }
                        },
                        "type": "histogram"
                      }
                    ],
                    "histogram2d": [
                      {
                        "colorbar": {
                          "outlinewidth": 0,
                          "ticks": ""
                        },
                        "colorscale": [
                          [
                            0,
                            "#0d0887"
                          ],
                          [
                            0.1111111111111111,
                            "#46039f"
                          ],
                          [
                            0.2222222222222222,
                            "#7201a8"
                          ],
                          [
                            0.3333333333333333,
                            "#9c179e"
                          ],
                          [
                            0.4444444444444444,
                            "#bd3786"
                          ],
                          [
                            0.5555555555555556,
                            "#d8576b"
                          ],
                          [
                            0.6666666666666666,
                            "#ed7953"
                          ],
                          [
                            0.7777777777777778,
                            "#fb9f3a"
                          ],
                          [
                            0.8888888888888888,
                            "#fdca26"
                          ],
                          [
                            1,
                            "#f0f921"
                          ]
                        ],
                        "type": "histogram2d"
                      }
                    ],
                    "histogram2dcontour": [
                      {
                        "colorbar": {
                          "outlinewidth": 0,
                          "ticks": ""
                        },
                        "colorscale": [
                          [
                            0,
                            "#0d0887"
                          ],
                          [
                            0.1111111111111111,
                            "#46039f"
                          ],
                          [
                            0.2222222222222222,
                            "#7201a8"
                          ],
                          [
                            0.3333333333333333,
                            "#9c179e"
                          ],
                          [
                            0.4444444444444444,
                            "#bd3786"
                          ],
                          [
                            0.5555555555555556,
                            "#d8576b"
                          ],
                          [
                            0.6666666666666666,
                            "#ed7953"
                          ],
                          [
                            0.7777777777777778,
                            "#fb9f3a"
                          ],
                          [
                            0.8888888888888888,
                            "#fdca26"
                          ],
                          [
                            1,
                            "#f0f921"
                          ]
                        ],
                        "type": "histogram2dcontour"
                      }
                    ],
                    "mesh3d": [
                      {
                        "colorbar": {
                          "outlinewidth": 0,
                          "ticks": ""
                        },
                        "type": "mesh3d"
                      }
                    ],
                    "parcoords": [
                      {
                        "line": {
                          "colorbar": {
                            "outlinewidth": 0,
                            "ticks": ""
                          }
                        },
                        "type": "parcoords"
                      }
                    ],
                    "pie": [
                      {
                        "automargin": true,
                        "type": "pie"
                      }
                    ],
                    "scatter": [
                      {
                        "fillpattern": {
                          "fillmode": "overlay",
                          "size": 10,
                          "solidity": 0.2
                        },
                        "type": "scatter"
                      }
                    ],
                    "scatter3d": [
                      {
                        "line": {
                          "colorbar": {
                            "outlinewidth": 0,
                            "ticks": ""
                          }
                        },
                        "marker": {
                          "colorbar": {
                            "outlinewidth": 0,
                            "ticks": ""
                          }
                        },
                        "type": "scatter3d"
                      }
                    ],
                    "scattercarpet": [
                      {
                        "marker": {
                          "colorbar": {
                            "outlinewidth": 0,
                            "ticks": ""
                          }
                        },
                        "type": "scattercarpet"
                      }
                    ],
                    "scattergeo": [
                      {
                        "marker": {
                          "colorbar": {
                            "outlinewidth": 0,
                            "ticks": ""
                          }
                        },
                        "type": "scattergeo"
                      }
                    ],
                    "scattergl": [
                      {
                        "marker": {
                          "colorbar": {
                            "outlinewidth": 0,
                            "ticks": ""
                          }
                        },
                        "type": "scattergl"
                      }
                    ],
                    "scattermap": [
                      {
                        "marker": {
                          "colorbar": {
                            "outlinewidth": 0,
                            "ticks": ""
                          }
                        },
                        "type": "scattermap"
                      }
                    ],
                    "scattermapbox": [
                      {
                        "marker": {
                          "colorbar": {
                            "outlinewidth": 0,
                            "ticks": ""
                          }
                        },
                        "type": "scattermapbox"
                      }
                    ],
                    "scatterpolar": [
                      {
                        "marker": {
                          "colorbar": {
                            "outlinewidth": 0,
                            "ticks": ""
                          }
                        },
                        "type": "scatterpolar"
                      }
                    ],
                    "scatterpolargl": [
                      {
                        "marker": {
                          "colorbar": {
                            "outlinewidth": 0,
                            "ticks": ""
                          }
                        },
                        "type": "scatterpolargl"
                      }
                    ],
                    "scatterternary": [
                      {
                        "marker": {
                          "colorbar": {
                            "outlinewidth": 0,
                            "ticks": ""
                          }
                        },
                        "type": "scatterternary"
                      }
                    ],
                    "surface": [
                      {
                        "colorbar": {
                          "outlinewidth": 0,
                          "ticks": ""
                        },
                        "colorscale": [
                          [
                            0,
                            "#0d0887"
                          ],
                          [
                            0.1111111111111111,
                            "#46039f"
                          ],
                          [
                            0.2222222222222222,
                            "#7201a8"
                          ],
                          [
                            0.3333333333333333,
                            "#9c179e"
                          ],
                          [
                            0.4444444444444444,
                            "#bd3786"
                          ],
                          [
                            0.5555555555555556,
                            "#d8576b"
                          ],
                          [
                            0.6666666666666666,
                            "#ed7953"
                          ],
                          [
                            0.7777777777777778,
                            "#fb9f3a"
                          ],
                          [
                            0.8888888888888888,
                            "#fdca26"
                          ],
                          [
                            1,
                            "#f0f921"
                          ]
                        ],
                        "type": "surface"
                      }
                    ],
                    "table": [
                      {
                        "cells": {
                          "fill": {
                            "color": "#EBF0F8"
                          },
                          "line": {
                            "color": "white"
                          }
                        },
                        "header": {
                          "fill": {
                            "color": "#C8D4E3"
                          },
                          "line": {
                            "color": "white"
                          }
                        },
                        "type": "table"
                      }
                    ]
                  },
                  "layout": {
                    "annotationdefaults": {
                      "arrowcolor": "#2a3f5f",
                      "arrowhead": 0,
                      "arrowwidth": 1
                    },
                    "autotypenumbers": "strict",
                    "coloraxis": {
                      "colorbar": {
                        "outlinewidth": 0,
                        "ticks": ""
                      }
                    },
                    "colorscale": {
                      "diverging": [
                        [
                          0,
                          "#8e0152"
                        ],
                        [
                          0.1,
                          "#c51b7d"
                        ],
                        [
                          0.2,
                          "#de77ae"
                        ],
                        [
                          0.3,
                          "#f1b6da"
                        ],
                        [
                          0.4,
                          "#fde0ef"
                        ],
                        [
                          0.5,
                          "#f7f7f7"
                        ],
                        [
                          0.6,
                          "#e6f5d0"
                        ],
                        [
                          0.7,
                          "#b8e186"
                        ],
                        [
                          0.8,
                          "#7fbc41"
                        ],
                        [
                          0.9,
                          "#4d9221"
                        ],
                        [
                          1,
                          "#276419"
                        ]
                      ],
                      "sequential": [
                        [
                          0,
                          "#0d0887"
                        ],
                        [
                          0.1111111111111111,
                          "#46039f"
                        ],
                        [
                          0.2222222222222222,
                          "#7201a8"
                        ],
                        [
                          0.3333333333333333,
                          "#9c179e"
                        ],
                        [
                          0.4444444444444444,
                          "#bd3786"
                        ],
                        [
                          0.5555555555555556,
                          "#d8576b"
                        ],
                        [
                          0.6666666666666666,
                          "#ed7953"
                        ],
                        [
                          0.7777777777777778,
                          "#fb9f3a"
                        ],
                        [
                          0.8888888888888888,
                          "#fdca26"
                        ],
                        [
                          1,
                          "#f0f921"
                        ]
                      ],
                      "sequentialminus": [
                        [
                          0,
                          "#0d0887"
                        ],
                        [
                          0.1111111111111111,
                          "#46039f"
                        ],
                        [
                          0.2222222222222222,
                          "#7201a8"
                        ],
                        [
                          0.3333333333333333,
                          "#9c179e"
                        ],
                        [
                          0.4444444444444444,
                          "#bd3786"
                        ],
                        [
                          0.5555555555555556,
                          "#d8576b"
                        ],
                        [
                          0.6666666666666666,
                          "#ed7953"
                        ],
                        [
                          0.7777777777777778,
                          "#fb9f3a"
                        ],
                        [
                          0.8888888888888888,
                          "#fdca26"
                        ],
                        [
                          1,
                          "#f0f921"
                        ]
                      ]
                    },
                    "colorway": [
                      "#636efa",
                      "#EF553B",
                      "#00cc96",
                      "#ab63fa",
                      "#FFA15A",
                      "#19d3f3",
                      "#FF6692",
                      "#B6E880",
                      "#FF97FF",
                      "#FECB52"
                    ],
                    "font": {
                      "color": "#2a3f5f"
                    },
                    "geo": {
                      "bgcolor": "white",
                      "lakecolor": "white",
                      "landcolor": "#E5ECF6",
                      "showlakes": true,
                      "showland": true,
                      "subunitcolor": "white"
                    },
                    "hoverlabel": {
                      "align": "left"
                    },
                    "hovermode": "closest",
                    "mapbox": {
                      "style": "light"
                    },
                    "paper_bgcolor": "white",
                    "plot_bgcolor": "#E5ECF6",
                    "polar": {
                      "angularaxis": {
                        "gridcolor": "white",
                        "linecolor": "white",
                        "ticks": ""
                      },
                      "bgcolor": "#E5ECF6",
                      "radialaxis": {
                        "gridcolor": "white",
                        "linecolor": "white",
                        "ticks": ""
                      }
                    },
                    "scene": {
                      "xaxis": {
                        "backgroundcolor": "#E5ECF6",
                        "gridcolor": "white",
                        "gridwidth": 2,
                        "linecolor": "white",
                        "showbackground": true,
                        "ticks": "",
                        "zerolinecolor": "white"
                      },
                      "yaxis": {
                        "backgroundcolor": "#E5ECF6",
                        "gridcolor": "white",
                        "gridwidth": 2,
                        "linecolor": "white",
                        "showbackground": true,
                        "ticks": "",
                        "zerolinecolor": "white"
                      },
                      "zaxis": {
                        "backgroundcolor": "#E5ECF6",
                        "gridcolor": "white",
                        "gridwidth": 2,
                        "linecolor": "white",
                        "showbackground": true,
                        "ticks": "",
                        "zerolinecolor": "white"
                      }
                    },
                    "shapedefaults": {
                      "line": {
                        "color": "#2a3f5f"
                      }
                    },
                    "ternary": {
                      "aaxis": {
                        "gridcolor": "white",
                        "linecolor": "white",
                        "ticks": ""
                      },
                      "baxis": {
                        "gridcolor": "white",
                        "linecolor": "white",
                        "ticks": ""
                      },
                      "bgcolor": "#E5ECF6",
                      "caxis": {
                        "gridcolor": "white",
                        "linecolor": "white",
                        "ticks": ""
                      }
                    },
                    "title": {
                      "x": 0.05
                    },
                    "xaxis": {
                      "automargin": true,
                      "gridcolor": "white",
                      "linecolor": "white",
                      "ticks": "",
                      "title": {
                        "standoff": 15
                      },
                      "zerolinecolor": "white",
                      "zerolinewidth": 2
                    },
                    "yaxis": {
                      "automargin": true,
                      "gridcolor": "white",
                      "linecolor": "white",
                      "ticks": "",
                      "title": {
                        "standoff": 15
                      },
                      "zerolinecolor": "white",
                      "zerolinewidth": 2
                    }
                  }
                },
                "title": {
                  "text": "Optimization History Plot"
                },
                "xaxis": {
                  "title": {
                    "text": "Trial"
                  }
                },
                "yaxis": {
                  "title": {
                    "text": "Objective Value"
                  }
                }
              }
            }
          },
          "metadata": {},
          "output_type": "display_data"
        }
      ],
      "source": [
        "# 1. Optimization History\n",
        "plot_optimization_history(study).show()"
      ]
    },
    {
      "cell_type": "code",
      "execution_count": 12,
      "metadata": {
        "colab": {
          "base_uri": "https://localhost:8080/",
          "height": 542
        },
        "id": "0VPz89RB4yQ7",
        "outputId": "c58b14a8-e57a-4466-c186-0b0ac6361728"
      },
      "outputs": [
        {
          "data": {
            "application/vnd.plotly.v1+json": {
              "config": {
                "plotlyServerURL": "https://plot.ly"
              },
              "data": [
                {
                  "dimensions": [
                    {
                      "label": "Objective Value",
                      "range": [
                        0.7597765363128491,
                        0.7821229050279329
                      ],
                      "values": [
                        0.7597765363128491,
                        0.7728119180633146,
                        0.7616387337057727,
                        0.7765363128491621,
                        0.7635009310986964,
                        0.7635009310986964,
                        0.7672253258845437,
                        0.7672253258845437,
                        0.7653631284916201,
                        0.7783985102420856,
                        0.7746741154562383,
                        0.7746741154562383,
                        0.7765363128491621,
                        0.7746741154562384,
                        0.7783985102420856,
                        0.7690875232774674,
                        0.7746741154562384,
                        0.7709497206703911,
                        0.7616387337057727,
                        0.7709497206703911,
                        0.7709497206703911,
                        0.7635009310986964,
                        0.7672253258845437,
                        0.7783985102420857,
                        0.7783985102420856,
                        0.7690875232774674,
                        0.7597765363128491,
                        0.7690875232774674,
                        0.7821229050279329,
                        0.7616387337057727,
                        0.7783985102420857,
                        0.7783985102420856,
                        0.7616387337057727,
                        0.7635009310986964,
                        0.7616387337057727,
                        0.7783985102420857,
                        0.7635009310986964,
                        0.7728119180633147,
                        0.7783985102420856,
                        0.7783985102420856,
                        0.7690875232774674,
                        0.7783985102420856,
                        0.7783985102420856,
                        0.7746741154562384,
                        0.7802607076350093,
                        0.7709497206703911,
                        0.7728119180633147,
                        0.7709497206703911,
                        0.7783985102420856,
                        0.7802607076350093
                      ]
                    },
                    {
                      "label": "max_depth",
                      "range": [
                        7,
                        20
                      ],
                      "values": [
                        10,
                        12,
                        9,
                        18,
                        14,
                        10,
                        7,
                        14,
                        11,
                        17,
                        20,
                        13,
                        16,
                        18,
                        12,
                        14,
                        20,
                        15,
                        13,
                        11,
                        12,
                        11,
                        15,
                        16,
                        16,
                        16,
                        9,
                        13,
                        12,
                        16,
                        16,
                        18,
                        9,
                        12,
                        12,
                        15,
                        11,
                        16,
                        17,
                        17,
                        14,
                        18,
                        16,
                        16,
                        16,
                        12,
                        15,
                        18,
                        18,
                        16
                      ]
                    },
                    {
                      "label": "n_estimators",
                      "range": [
                        68,
                        153
                      ],
                      "values": [
                        108,
                        122,
                        105,
                        118,
                        102,
                        105,
                        82,
                        133,
                        98,
                        113,
                        137,
                        137,
                        153,
                        112,
                        103,
                        121,
                        107,
                        147,
                        122,
                        75,
                        89,
                        123,
                        102,
                        119,
                        124,
                        94,
                        94,
                        141,
                        104,
                        83,
                        119,
                        131,
                        129,
                        93,
                        68,
                        106,
                        81,
                        108,
                        121,
                        117,
                        121,
                        127,
                        124,
                        120,
                        125,
                        88,
                        108,
                        104,
                        130,
                        127
                      ]
                    }
                  ],
                  "labelangle": 30,
                  "labelside": "bottom",
                  "line": {
                    "color": [
                      0.7597765363128491,
                      0.7728119180633146,
                      0.7616387337057727,
                      0.7765363128491621,
                      0.7635009310986964,
                      0.7635009310986964,
                      0.7672253258845437,
                      0.7672253258845437,
                      0.7653631284916201,
                      0.7783985102420856,
                      0.7746741154562383,
                      0.7746741154562383,
                      0.7765363128491621,
                      0.7746741154562384,
                      0.7783985102420856,
                      0.7690875232774674,
                      0.7746741154562384,
                      0.7709497206703911,
                      0.7616387337057727,
                      0.7709497206703911,
                      0.7709497206703911,
                      0.7635009310986964,
                      0.7672253258845437,
                      0.7783985102420857,
                      0.7783985102420856,
                      0.7690875232774674,
                      0.7597765363128491,
                      0.7690875232774674,
                      0.7821229050279329,
                      0.7616387337057727,
                      0.7783985102420857,
                      0.7783985102420856,
                      0.7616387337057727,
                      0.7635009310986964,
                      0.7616387337057727,
                      0.7783985102420857,
                      0.7635009310986964,
                      0.7728119180633147,
                      0.7783985102420856,
                      0.7783985102420856,
                      0.7690875232774674,
                      0.7783985102420856,
                      0.7783985102420856,
                      0.7746741154562384,
                      0.7802607076350093,
                      0.7709497206703911,
                      0.7728119180633147,
                      0.7709497206703911,
                      0.7783985102420856,
                      0.7802607076350093
                    ],
                    "colorbar": {
                      "title": {
                        "text": "Objective Value"
                      }
                    },
                    "colorscale": [
                      [
                        0,
                        "rgb(247,251,255)"
                      ],
                      [
                        0.125,
                        "rgb(222,235,247)"
                      ],
                      [
                        0.25,
                        "rgb(198,219,239)"
                      ],
                      [
                        0.375,
                        "rgb(158,202,225)"
                      ],
                      [
                        0.5,
                        "rgb(107,174,214)"
                      ],
                      [
                        0.625,
                        "rgb(66,146,198)"
                      ],
                      [
                        0.75,
                        "rgb(33,113,181)"
                      ],
                      [
                        0.875,
                        "rgb(8,81,156)"
                      ],
                      [
                        1,
                        "rgb(8,48,107)"
                      ]
                    ],
                    "reversescale": false,
                    "showscale": true
                  },
                  "type": "parcoords"
                }
              ],
              "layout": {
                "template": {
                  "data": {
                    "bar": [
                      {
                        "error_x": {
                          "color": "#2a3f5f"
                        },
                        "error_y": {
                          "color": "#2a3f5f"
                        },
                        "marker": {
                          "line": {
                            "color": "#E5ECF6",
                            "width": 0.5
                          },
                          "pattern": {
                            "fillmode": "overlay",
                            "size": 10,
                            "solidity": 0.2
                          }
                        },
                        "type": "bar"
                      }
                    ],
                    "barpolar": [
                      {
                        "marker": {
                          "line": {
                            "color": "#E5ECF6",
                            "width": 0.5
                          },
                          "pattern": {
                            "fillmode": "overlay",
                            "size": 10,
                            "solidity": 0.2
                          }
                        },
                        "type": "barpolar"
                      }
                    ],
                    "carpet": [
                      {
                        "aaxis": {
                          "endlinecolor": "#2a3f5f",
                          "gridcolor": "white",
                          "linecolor": "white",
                          "minorgridcolor": "white",
                          "startlinecolor": "#2a3f5f"
                        },
                        "baxis": {
                          "endlinecolor": "#2a3f5f",
                          "gridcolor": "white",
                          "linecolor": "white",
                          "minorgridcolor": "white",
                          "startlinecolor": "#2a3f5f"
                        },
                        "type": "carpet"
                      }
                    ],
                    "choropleth": [
                      {
                        "colorbar": {
                          "outlinewidth": 0,
                          "ticks": ""
                        },
                        "type": "choropleth"
                      }
                    ],
                    "contour": [
                      {
                        "colorbar": {
                          "outlinewidth": 0,
                          "ticks": ""
                        },
                        "colorscale": [
                          [
                            0,
                            "#0d0887"
                          ],
                          [
                            0.1111111111111111,
                            "#46039f"
                          ],
                          [
                            0.2222222222222222,
                            "#7201a8"
                          ],
                          [
                            0.3333333333333333,
                            "#9c179e"
                          ],
                          [
                            0.4444444444444444,
                            "#bd3786"
                          ],
                          [
                            0.5555555555555556,
                            "#d8576b"
                          ],
                          [
                            0.6666666666666666,
                            "#ed7953"
                          ],
                          [
                            0.7777777777777778,
                            "#fb9f3a"
                          ],
                          [
                            0.8888888888888888,
                            "#fdca26"
                          ],
                          [
                            1,
                            "#f0f921"
                          ]
                        ],
                        "type": "contour"
                      }
                    ],
                    "contourcarpet": [
                      {
                        "colorbar": {
                          "outlinewidth": 0,
                          "ticks": ""
                        },
                        "type": "contourcarpet"
                      }
                    ],
                    "heatmap": [
                      {
                        "colorbar": {
                          "outlinewidth": 0,
                          "ticks": ""
                        },
                        "colorscale": [
                          [
                            0,
                            "#0d0887"
                          ],
                          [
                            0.1111111111111111,
                            "#46039f"
                          ],
                          [
                            0.2222222222222222,
                            "#7201a8"
                          ],
                          [
                            0.3333333333333333,
                            "#9c179e"
                          ],
                          [
                            0.4444444444444444,
                            "#bd3786"
                          ],
                          [
                            0.5555555555555556,
                            "#d8576b"
                          ],
                          [
                            0.6666666666666666,
                            "#ed7953"
                          ],
                          [
                            0.7777777777777778,
                            "#fb9f3a"
                          ],
                          [
                            0.8888888888888888,
                            "#fdca26"
                          ],
                          [
                            1,
                            "#f0f921"
                          ]
                        ],
                        "type": "heatmap"
                      }
                    ],
                    "histogram": [
                      {
                        "marker": {
                          "pattern": {
                            "fillmode": "overlay",
                            "size": 10,
                            "solidity": 0.2
                          }
                        },
                        "type": "histogram"
                      }
                    ],
                    "histogram2d": [
                      {
                        "colorbar": {
                          "outlinewidth": 0,
                          "ticks": ""
                        },
                        "colorscale": [
                          [
                            0,
                            "#0d0887"
                          ],
                          [
                            0.1111111111111111,
                            "#46039f"
                          ],
                          [
                            0.2222222222222222,
                            "#7201a8"
                          ],
                          [
                            0.3333333333333333,
                            "#9c179e"
                          ],
                          [
                            0.4444444444444444,
                            "#bd3786"
                          ],
                          [
                            0.5555555555555556,
                            "#d8576b"
                          ],
                          [
                            0.6666666666666666,
                            "#ed7953"
                          ],
                          [
                            0.7777777777777778,
                            "#fb9f3a"
                          ],
                          [
                            0.8888888888888888,
                            "#fdca26"
                          ],
                          [
                            1,
                            "#f0f921"
                          ]
                        ],
                        "type": "histogram2d"
                      }
                    ],
                    "histogram2dcontour": [
                      {
                        "colorbar": {
                          "outlinewidth": 0,
                          "ticks": ""
                        },
                        "colorscale": [
                          [
                            0,
                            "#0d0887"
                          ],
                          [
                            0.1111111111111111,
                            "#46039f"
                          ],
                          [
                            0.2222222222222222,
                            "#7201a8"
                          ],
                          [
                            0.3333333333333333,
                            "#9c179e"
                          ],
                          [
                            0.4444444444444444,
                            "#bd3786"
                          ],
                          [
                            0.5555555555555556,
                            "#d8576b"
                          ],
                          [
                            0.6666666666666666,
                            "#ed7953"
                          ],
                          [
                            0.7777777777777778,
                            "#fb9f3a"
                          ],
                          [
                            0.8888888888888888,
                            "#fdca26"
                          ],
                          [
                            1,
                            "#f0f921"
                          ]
                        ],
                        "type": "histogram2dcontour"
                      }
                    ],
                    "mesh3d": [
                      {
                        "colorbar": {
                          "outlinewidth": 0,
                          "ticks": ""
                        },
                        "type": "mesh3d"
                      }
                    ],
                    "parcoords": [
                      {
                        "line": {
                          "colorbar": {
                            "outlinewidth": 0,
                            "ticks": ""
                          }
                        },
                        "type": "parcoords"
                      }
                    ],
                    "pie": [
                      {
                        "automargin": true,
                        "type": "pie"
                      }
                    ],
                    "scatter": [
                      {
                        "fillpattern": {
                          "fillmode": "overlay",
                          "size": 10,
                          "solidity": 0.2
                        },
                        "type": "scatter"
                      }
                    ],
                    "scatter3d": [
                      {
                        "line": {
                          "colorbar": {
                            "outlinewidth": 0,
                            "ticks": ""
                          }
                        },
                        "marker": {
                          "colorbar": {
                            "outlinewidth": 0,
                            "ticks": ""
                          }
                        },
                        "type": "scatter3d"
                      }
                    ],
                    "scattercarpet": [
                      {
                        "marker": {
                          "colorbar": {
                            "outlinewidth": 0,
                            "ticks": ""
                          }
                        },
                        "type": "scattercarpet"
                      }
                    ],
                    "scattergeo": [
                      {
                        "marker": {
                          "colorbar": {
                            "outlinewidth": 0,
                            "ticks": ""
                          }
                        },
                        "type": "scattergeo"
                      }
                    ],
                    "scattergl": [
                      {
                        "marker": {
                          "colorbar": {
                            "outlinewidth": 0,
                            "ticks": ""
                          }
                        },
                        "type": "scattergl"
                      }
                    ],
                    "scattermap": [
                      {
                        "marker": {
                          "colorbar": {
                            "outlinewidth": 0,
                            "ticks": ""
                          }
                        },
                        "type": "scattermap"
                      }
                    ],
                    "scattermapbox": [
                      {
                        "marker": {
                          "colorbar": {
                            "outlinewidth": 0,
                            "ticks": ""
                          }
                        },
                        "type": "scattermapbox"
                      }
                    ],
                    "scatterpolar": [
                      {
                        "marker": {
                          "colorbar": {
                            "outlinewidth": 0,
                            "ticks": ""
                          }
                        },
                        "type": "scatterpolar"
                      }
                    ],
                    "scatterpolargl": [
                      {
                        "marker": {
                          "colorbar": {
                            "outlinewidth": 0,
                            "ticks": ""
                          }
                        },
                        "type": "scatterpolargl"
                      }
                    ],
                    "scatterternary": [
                      {
                        "marker": {
                          "colorbar": {
                            "outlinewidth": 0,
                            "ticks": ""
                          }
                        },
                        "type": "scatterternary"
                      }
                    ],
                    "surface": [
                      {
                        "colorbar": {
                          "outlinewidth": 0,
                          "ticks": ""
                        },
                        "colorscale": [
                          [
                            0,
                            "#0d0887"
                          ],
                          [
                            0.1111111111111111,
                            "#46039f"
                          ],
                          [
                            0.2222222222222222,
                            "#7201a8"
                          ],
                          [
                            0.3333333333333333,
                            "#9c179e"
                          ],
                          [
                            0.4444444444444444,
                            "#bd3786"
                          ],
                          [
                            0.5555555555555556,
                            "#d8576b"
                          ],
                          [
                            0.6666666666666666,
                            "#ed7953"
                          ],
                          [
                            0.7777777777777778,
                            "#fb9f3a"
                          ],
                          [
                            0.8888888888888888,
                            "#fdca26"
                          ],
                          [
                            1,
                            "#f0f921"
                          ]
                        ],
                        "type": "surface"
                      }
                    ],
                    "table": [
                      {
                        "cells": {
                          "fill": {
                            "color": "#EBF0F8"
                          },
                          "line": {
                            "color": "white"
                          }
                        },
                        "header": {
                          "fill": {
                            "color": "#C8D4E3"
                          },
                          "line": {
                            "color": "white"
                          }
                        },
                        "type": "table"
                      }
                    ]
                  },
                  "layout": {
                    "annotationdefaults": {
                      "arrowcolor": "#2a3f5f",
                      "arrowhead": 0,
                      "arrowwidth": 1
                    },
                    "autotypenumbers": "strict",
                    "coloraxis": {
                      "colorbar": {
                        "outlinewidth": 0,
                        "ticks": ""
                      }
                    },
                    "colorscale": {
                      "diverging": [
                        [
                          0,
                          "#8e0152"
                        ],
                        [
                          0.1,
                          "#c51b7d"
                        ],
                        [
                          0.2,
                          "#de77ae"
                        ],
                        [
                          0.3,
                          "#f1b6da"
                        ],
                        [
                          0.4,
                          "#fde0ef"
                        ],
                        [
                          0.5,
                          "#f7f7f7"
                        ],
                        [
                          0.6,
                          "#e6f5d0"
                        ],
                        [
                          0.7,
                          "#b8e186"
                        ],
                        [
                          0.8,
                          "#7fbc41"
                        ],
                        [
                          0.9,
                          "#4d9221"
                        ],
                        [
                          1,
                          "#276419"
                        ]
                      ],
                      "sequential": [
                        [
                          0,
                          "#0d0887"
                        ],
                        [
                          0.1111111111111111,
                          "#46039f"
                        ],
                        [
                          0.2222222222222222,
                          "#7201a8"
                        ],
                        [
                          0.3333333333333333,
                          "#9c179e"
                        ],
                        [
                          0.4444444444444444,
                          "#bd3786"
                        ],
                        [
                          0.5555555555555556,
                          "#d8576b"
                        ],
                        [
                          0.6666666666666666,
                          "#ed7953"
                        ],
                        [
                          0.7777777777777778,
                          "#fb9f3a"
                        ],
                        [
                          0.8888888888888888,
                          "#fdca26"
                        ],
                        [
                          1,
                          "#f0f921"
                        ]
                      ],
                      "sequentialminus": [
                        [
                          0,
                          "#0d0887"
                        ],
                        [
                          0.1111111111111111,
                          "#46039f"
                        ],
                        [
                          0.2222222222222222,
                          "#7201a8"
                        ],
                        [
                          0.3333333333333333,
                          "#9c179e"
                        ],
                        [
                          0.4444444444444444,
                          "#bd3786"
                        ],
                        [
                          0.5555555555555556,
                          "#d8576b"
                        ],
                        [
                          0.6666666666666666,
                          "#ed7953"
                        ],
                        [
                          0.7777777777777778,
                          "#fb9f3a"
                        ],
                        [
                          0.8888888888888888,
                          "#fdca26"
                        ],
                        [
                          1,
                          "#f0f921"
                        ]
                      ]
                    },
                    "colorway": [
                      "#636efa",
                      "#EF553B",
                      "#00cc96",
                      "#ab63fa",
                      "#FFA15A",
                      "#19d3f3",
                      "#FF6692",
                      "#B6E880",
                      "#FF97FF",
                      "#FECB52"
                    ],
                    "font": {
                      "color": "#2a3f5f"
                    },
                    "geo": {
                      "bgcolor": "white",
                      "lakecolor": "white",
                      "landcolor": "#E5ECF6",
                      "showlakes": true,
                      "showland": true,
                      "subunitcolor": "white"
                    },
                    "hoverlabel": {
                      "align": "left"
                    },
                    "hovermode": "closest",
                    "mapbox": {
                      "style": "light"
                    },
                    "paper_bgcolor": "white",
                    "plot_bgcolor": "#E5ECF6",
                    "polar": {
                      "angularaxis": {
                        "gridcolor": "white",
                        "linecolor": "white",
                        "ticks": ""
                      },
                      "bgcolor": "#E5ECF6",
                      "radialaxis": {
                        "gridcolor": "white",
                        "linecolor": "white",
                        "ticks": ""
                      }
                    },
                    "scene": {
                      "xaxis": {
                        "backgroundcolor": "#E5ECF6",
                        "gridcolor": "white",
                        "gridwidth": 2,
                        "linecolor": "white",
                        "showbackground": true,
                        "ticks": "",
                        "zerolinecolor": "white"
                      },
                      "yaxis": {
                        "backgroundcolor": "#E5ECF6",
                        "gridcolor": "white",
                        "gridwidth": 2,
                        "linecolor": "white",
                        "showbackground": true,
                        "ticks": "",
                        "zerolinecolor": "white"
                      },
                      "zaxis": {
                        "backgroundcolor": "#E5ECF6",
                        "gridcolor": "white",
                        "gridwidth": 2,
                        "linecolor": "white",
                        "showbackground": true,
                        "ticks": "",
                        "zerolinecolor": "white"
                      }
                    },
                    "shapedefaults": {
                      "line": {
                        "color": "#2a3f5f"
                      }
                    },
                    "ternary": {
                      "aaxis": {
                        "gridcolor": "white",
                        "linecolor": "white",
                        "ticks": ""
                      },
                      "baxis": {
                        "gridcolor": "white",
                        "linecolor": "white",
                        "ticks": ""
                      },
                      "bgcolor": "#E5ECF6",
                      "caxis": {
                        "gridcolor": "white",
                        "linecolor": "white",
                        "ticks": ""
                      }
                    },
                    "title": {
                      "x": 0.05
                    },
                    "xaxis": {
                      "automargin": true,
                      "gridcolor": "white",
                      "linecolor": "white",
                      "ticks": "",
                      "title": {
                        "standoff": 15
                      },
                      "zerolinecolor": "white",
                      "zerolinewidth": 2
                    },
                    "yaxis": {
                      "automargin": true,
                      "gridcolor": "white",
                      "linecolor": "white",
                      "ticks": "",
                      "title": {
                        "standoff": 15
                      },
                      "zerolinecolor": "white",
                      "zerolinewidth": 2
                    }
                  }
                },
                "title": {
                  "text": "Parallel Coordinate Plot"
                }
              }
            }
          },
          "metadata": {},
          "output_type": "display_data"
        }
      ],
      "source": [
        "# 2. Parallel Coordinates Plot\n",
        "plot_parallel_coordinate(study).show()"
      ]
    },
    {
      "cell_type": "code",
      "execution_count": 13,
      "metadata": {
        "colab": {
          "base_uri": "https://localhost:8080/",
          "height": 542
        },
        "id": "JO1GGlRv43tJ",
        "outputId": "db4cf6d0-b816-4628-f093-aeb7974b4054"
      },
      "outputs": [
        {
          "data": {
            "application/vnd.plotly.v1+json": {
              "config": {
                "plotlyServerURL": "https://plot.ly"
              },
              "data": [
                {
                  "marker": {
                    "color": [
                      0,
                      1,
                      2,
                      3,
                      4,
                      5,
                      6,
                      7,
                      8,
                      9,
                      10,
                      11,
                      12,
                      13,
                      14,
                      15,
                      16,
                      17,
                      18,
                      19,
                      20,
                      21,
                      22,
                      23,
                      24,
                      25,
                      26,
                      27,
                      28,
                      29,
                      30,
                      31,
                      32,
                      33,
                      34,
                      35,
                      36,
                      37,
                      38,
                      39,
                      40,
                      41,
                      42,
                      43,
                      44,
                      45,
                      46,
                      47,
                      48,
                      49
                    ],
                    "colorbar": {
                      "title": {
                        "text": "Trial"
                      },
                      "x": 1,
                      "xpad": 40
                    },
                    "colorscale": [
                      [
                        0,
                        "rgb(247,251,255)"
                      ],
                      [
                        0.125,
                        "rgb(222,235,247)"
                      ],
                      [
                        0.25,
                        "rgb(198,219,239)"
                      ],
                      [
                        0.375,
                        "rgb(158,202,225)"
                      ],
                      [
                        0.5,
                        "rgb(107,174,214)"
                      ],
                      [
                        0.625,
                        "rgb(66,146,198)"
                      ],
                      [
                        0.75,
                        "rgb(33,113,181)"
                      ],
                      [
                        0.875,
                        "rgb(8,81,156)"
                      ],
                      [
                        1,
                        "rgb(8,48,107)"
                      ]
                    ],
                    "line": {
                      "color": "Grey",
                      "width": 0.5
                    },
                    "showscale": true
                  },
                  "mode": "markers",
                  "name": "Feasible Trial",
                  "showlegend": false,
                  "type": "scatter",
                  "x": [
                    10,
                    12,
                    9,
                    18,
                    14,
                    10,
                    7,
                    14,
                    11,
                    17,
                    20,
                    13,
                    16,
                    18,
                    12,
                    14,
                    20,
                    15,
                    13,
                    11,
                    12,
                    11,
                    15,
                    16,
                    16,
                    16,
                    9,
                    13,
                    12,
                    16,
                    16,
                    18,
                    9,
                    12,
                    12,
                    15,
                    11,
                    16,
                    17,
                    17,
                    14,
                    18,
                    16,
                    16,
                    16,
                    12,
                    15,
                    18,
                    18,
                    16
                  ],
                  "xaxis": "x",
                  "y": [
                    0.7597765363128491,
                    0.7728119180633146,
                    0.7616387337057727,
                    0.7765363128491621,
                    0.7635009310986964,
                    0.7635009310986964,
                    0.7672253258845437,
                    0.7672253258845437,
                    0.7653631284916201,
                    0.7783985102420856,
                    0.7746741154562383,
                    0.7746741154562383,
                    0.7765363128491621,
                    0.7746741154562384,
                    0.7783985102420856,
                    0.7690875232774674,
                    0.7746741154562384,
                    0.7709497206703911,
                    0.7616387337057727,
                    0.7709497206703911,
                    0.7709497206703911,
                    0.7635009310986964,
                    0.7672253258845437,
                    0.7783985102420857,
                    0.7783985102420856,
                    0.7690875232774674,
                    0.7597765363128491,
                    0.7690875232774674,
                    0.7821229050279329,
                    0.7616387337057727,
                    0.7783985102420857,
                    0.7783985102420856,
                    0.7616387337057727,
                    0.7635009310986964,
                    0.7616387337057727,
                    0.7783985102420857,
                    0.7635009310986964,
                    0.7728119180633147,
                    0.7783985102420856,
                    0.7783985102420856,
                    0.7690875232774674,
                    0.7783985102420856,
                    0.7783985102420856,
                    0.7746741154562384,
                    0.7802607076350093,
                    0.7709497206703911,
                    0.7728119180633147,
                    0.7709497206703911,
                    0.7783985102420856,
                    0.7802607076350093
                  ],
                  "yaxis": "y"
                },
                {
                  "marker": {
                    "color": [
                      0,
                      1,
                      2,
                      3,
                      4,
                      5,
                      6,
                      7,
                      8,
                      9,
                      10,
                      11,
                      12,
                      13,
                      14,
                      15,
                      16,
                      17,
                      18,
                      19,
                      20,
                      21,
                      22,
                      23,
                      24,
                      25,
                      26,
                      27,
                      28,
                      29,
                      30,
                      31,
                      32,
                      33,
                      34,
                      35,
                      36,
                      37,
                      38,
                      39,
                      40,
                      41,
                      42,
                      43,
                      44,
                      45,
                      46,
                      47,
                      48,
                      49
                    ],
                    "colorbar": {
                      "title": {
                        "text": "Trial"
                      },
                      "x": 1,
                      "xpad": 40
                    },
                    "colorscale": [
                      [
                        0,
                        "rgb(247,251,255)"
                      ],
                      [
                        0.125,
                        "rgb(222,235,247)"
                      ],
                      [
                        0.25,
                        "rgb(198,219,239)"
                      ],
                      [
                        0.375,
                        "rgb(158,202,225)"
                      ],
                      [
                        0.5,
                        "rgb(107,174,214)"
                      ],
                      [
                        0.625,
                        "rgb(66,146,198)"
                      ],
                      [
                        0.75,
                        "rgb(33,113,181)"
                      ],
                      [
                        0.875,
                        "rgb(8,81,156)"
                      ],
                      [
                        1,
                        "rgb(8,48,107)"
                      ]
                    ],
                    "line": {
                      "color": "Grey",
                      "width": 0.5
                    },
                    "showscale": false
                  },
                  "mode": "markers",
                  "name": "Feasible Trial",
                  "showlegend": false,
                  "type": "scatter",
                  "x": [
                    108,
                    122,
                    105,
                    118,
                    102,
                    105,
                    82,
                    133,
                    98,
                    113,
                    137,
                    137,
                    153,
                    112,
                    103,
                    121,
                    107,
                    147,
                    122,
                    75,
                    89,
                    123,
                    102,
                    119,
                    124,
                    94,
                    94,
                    141,
                    104,
                    83,
                    119,
                    131,
                    129,
                    93,
                    68,
                    106,
                    81,
                    108,
                    121,
                    117,
                    121,
                    127,
                    124,
                    120,
                    125,
                    88,
                    108,
                    104,
                    130,
                    127
                  ],
                  "xaxis": "x2",
                  "y": [
                    0.7597765363128491,
                    0.7728119180633146,
                    0.7616387337057727,
                    0.7765363128491621,
                    0.7635009310986964,
                    0.7635009310986964,
                    0.7672253258845437,
                    0.7672253258845437,
                    0.7653631284916201,
                    0.7783985102420856,
                    0.7746741154562383,
                    0.7746741154562383,
                    0.7765363128491621,
                    0.7746741154562384,
                    0.7783985102420856,
                    0.7690875232774674,
                    0.7746741154562384,
                    0.7709497206703911,
                    0.7616387337057727,
                    0.7709497206703911,
                    0.7709497206703911,
                    0.7635009310986964,
                    0.7672253258845437,
                    0.7783985102420857,
                    0.7783985102420856,
                    0.7690875232774674,
                    0.7597765363128491,
                    0.7690875232774674,
                    0.7821229050279329,
                    0.7616387337057727,
                    0.7783985102420857,
                    0.7783985102420856,
                    0.7616387337057727,
                    0.7635009310986964,
                    0.7616387337057727,
                    0.7783985102420857,
                    0.7635009310986964,
                    0.7728119180633147,
                    0.7783985102420856,
                    0.7783985102420856,
                    0.7690875232774674,
                    0.7783985102420856,
                    0.7783985102420856,
                    0.7746741154562384,
                    0.7802607076350093,
                    0.7709497206703911,
                    0.7728119180633147,
                    0.7709497206703911,
                    0.7783985102420856,
                    0.7802607076350093
                  ],
                  "yaxis": "y2"
                }
              ],
              "layout": {
                "template": {
                  "data": {
                    "bar": [
                      {
                        "error_x": {
                          "color": "#2a3f5f"
                        },
                        "error_y": {
                          "color": "#2a3f5f"
                        },
                        "marker": {
                          "line": {
                            "color": "#E5ECF6",
                            "width": 0.5
                          },
                          "pattern": {
                            "fillmode": "overlay",
                            "size": 10,
                            "solidity": 0.2
                          }
                        },
                        "type": "bar"
                      }
                    ],
                    "barpolar": [
                      {
                        "marker": {
                          "line": {
                            "color": "#E5ECF6",
                            "width": 0.5
                          },
                          "pattern": {
                            "fillmode": "overlay",
                            "size": 10,
                            "solidity": 0.2
                          }
                        },
                        "type": "barpolar"
                      }
                    ],
                    "carpet": [
                      {
                        "aaxis": {
                          "endlinecolor": "#2a3f5f",
                          "gridcolor": "white",
                          "linecolor": "white",
                          "minorgridcolor": "white",
                          "startlinecolor": "#2a3f5f"
                        },
                        "baxis": {
                          "endlinecolor": "#2a3f5f",
                          "gridcolor": "white",
                          "linecolor": "white",
                          "minorgridcolor": "white",
                          "startlinecolor": "#2a3f5f"
                        },
                        "type": "carpet"
                      }
                    ],
                    "choropleth": [
                      {
                        "colorbar": {
                          "outlinewidth": 0,
                          "ticks": ""
                        },
                        "type": "choropleth"
                      }
                    ],
                    "contour": [
                      {
                        "colorbar": {
                          "outlinewidth": 0,
                          "ticks": ""
                        },
                        "colorscale": [
                          [
                            0,
                            "#0d0887"
                          ],
                          [
                            0.1111111111111111,
                            "#46039f"
                          ],
                          [
                            0.2222222222222222,
                            "#7201a8"
                          ],
                          [
                            0.3333333333333333,
                            "#9c179e"
                          ],
                          [
                            0.4444444444444444,
                            "#bd3786"
                          ],
                          [
                            0.5555555555555556,
                            "#d8576b"
                          ],
                          [
                            0.6666666666666666,
                            "#ed7953"
                          ],
                          [
                            0.7777777777777778,
                            "#fb9f3a"
                          ],
                          [
                            0.8888888888888888,
                            "#fdca26"
                          ],
                          [
                            1,
                            "#f0f921"
                          ]
                        ],
                        "type": "contour"
                      }
                    ],
                    "contourcarpet": [
                      {
                        "colorbar": {
                          "outlinewidth": 0,
                          "ticks": ""
                        },
                        "type": "contourcarpet"
                      }
                    ],
                    "heatmap": [
                      {
                        "colorbar": {
                          "outlinewidth": 0,
                          "ticks": ""
                        },
                        "colorscale": [
                          [
                            0,
                            "#0d0887"
                          ],
                          [
                            0.1111111111111111,
                            "#46039f"
                          ],
                          [
                            0.2222222222222222,
                            "#7201a8"
                          ],
                          [
                            0.3333333333333333,
                            "#9c179e"
                          ],
                          [
                            0.4444444444444444,
                            "#bd3786"
                          ],
                          [
                            0.5555555555555556,
                            "#d8576b"
                          ],
                          [
                            0.6666666666666666,
                            "#ed7953"
                          ],
                          [
                            0.7777777777777778,
                            "#fb9f3a"
                          ],
                          [
                            0.8888888888888888,
                            "#fdca26"
                          ],
                          [
                            1,
                            "#f0f921"
                          ]
                        ],
                        "type": "heatmap"
                      }
                    ],
                    "histogram": [
                      {
                        "marker": {
                          "pattern": {
                            "fillmode": "overlay",
                            "size": 10,
                            "solidity": 0.2
                          }
                        },
                        "type": "histogram"
                      }
                    ],
                    "histogram2d": [
                      {
                        "colorbar": {
                          "outlinewidth": 0,
                          "ticks": ""
                        },
                        "colorscale": [
                          [
                            0,
                            "#0d0887"
                          ],
                          [
                            0.1111111111111111,
                            "#46039f"
                          ],
                          [
                            0.2222222222222222,
                            "#7201a8"
                          ],
                          [
                            0.3333333333333333,
                            "#9c179e"
                          ],
                          [
                            0.4444444444444444,
                            "#bd3786"
                          ],
                          [
                            0.5555555555555556,
                            "#d8576b"
                          ],
                          [
                            0.6666666666666666,
                            "#ed7953"
                          ],
                          [
                            0.7777777777777778,
                            "#fb9f3a"
                          ],
                          [
                            0.8888888888888888,
                            "#fdca26"
                          ],
                          [
                            1,
                            "#f0f921"
                          ]
                        ],
                        "type": "histogram2d"
                      }
                    ],
                    "histogram2dcontour": [
                      {
                        "colorbar": {
                          "outlinewidth": 0,
                          "ticks": ""
                        },
                        "colorscale": [
                          [
                            0,
                            "#0d0887"
                          ],
                          [
                            0.1111111111111111,
                            "#46039f"
                          ],
                          [
                            0.2222222222222222,
                            "#7201a8"
                          ],
                          [
                            0.3333333333333333,
                            "#9c179e"
                          ],
                          [
                            0.4444444444444444,
                            "#bd3786"
                          ],
                          [
                            0.5555555555555556,
                            "#d8576b"
                          ],
                          [
                            0.6666666666666666,
                            "#ed7953"
                          ],
                          [
                            0.7777777777777778,
                            "#fb9f3a"
                          ],
                          [
                            0.8888888888888888,
                            "#fdca26"
                          ],
                          [
                            1,
                            "#f0f921"
                          ]
                        ],
                        "type": "histogram2dcontour"
                      }
                    ],
                    "mesh3d": [
                      {
                        "colorbar": {
                          "outlinewidth": 0,
                          "ticks": ""
                        },
                        "type": "mesh3d"
                      }
                    ],
                    "parcoords": [
                      {
                        "line": {
                          "colorbar": {
                            "outlinewidth": 0,
                            "ticks": ""
                          }
                        },
                        "type": "parcoords"
                      }
                    ],
                    "pie": [
                      {
                        "automargin": true,
                        "type": "pie"
                      }
                    ],
                    "scatter": [
                      {
                        "fillpattern": {
                          "fillmode": "overlay",
                          "size": 10,
                          "solidity": 0.2
                        },
                        "type": "scatter"
                      }
                    ],
                    "scatter3d": [
                      {
                        "line": {
                          "colorbar": {
                            "outlinewidth": 0,
                            "ticks": ""
                          }
                        },
                        "marker": {
                          "colorbar": {
                            "outlinewidth": 0,
                            "ticks": ""
                          }
                        },
                        "type": "scatter3d"
                      }
                    ],
                    "scattercarpet": [
                      {
                        "marker": {
                          "colorbar": {
                            "outlinewidth": 0,
                            "ticks": ""
                          }
                        },
                        "type": "scattercarpet"
                      }
                    ],
                    "scattergeo": [
                      {
                        "marker": {
                          "colorbar": {
                            "outlinewidth": 0,
                            "ticks": ""
                          }
                        },
                        "type": "scattergeo"
                      }
                    ],
                    "scattergl": [
                      {
                        "marker": {
                          "colorbar": {
                            "outlinewidth": 0,
                            "ticks": ""
                          }
                        },
                        "type": "scattergl"
                      }
                    ],
                    "scattermap": [
                      {
                        "marker": {
                          "colorbar": {
                            "outlinewidth": 0,
                            "ticks": ""
                          }
                        },
                        "type": "scattermap"
                      }
                    ],
                    "scattermapbox": [
                      {
                        "marker": {
                          "colorbar": {
                            "outlinewidth": 0,
                            "ticks": ""
                          }
                        },
                        "type": "scattermapbox"
                      }
                    ],
                    "scatterpolar": [
                      {
                        "marker": {
                          "colorbar": {
                            "outlinewidth": 0,
                            "ticks": ""
                          }
                        },
                        "type": "scatterpolar"
                      }
                    ],
                    "scatterpolargl": [
                      {
                        "marker": {
                          "colorbar": {
                            "outlinewidth": 0,
                            "ticks": ""
                          }
                        },
                        "type": "scatterpolargl"
                      }
                    ],
                    "scatterternary": [
                      {
                        "marker": {
                          "colorbar": {
                            "outlinewidth": 0,
                            "ticks": ""
                          }
                        },
                        "type": "scatterternary"
                      }
                    ],
                    "surface": [
                      {
                        "colorbar": {
                          "outlinewidth": 0,
                          "ticks": ""
                        },
                        "colorscale": [
                          [
                            0,
                            "#0d0887"
                          ],
                          [
                            0.1111111111111111,
                            "#46039f"
                          ],
                          [
                            0.2222222222222222,
                            "#7201a8"
                          ],
                          [
                            0.3333333333333333,
                            "#9c179e"
                          ],
                          [
                            0.4444444444444444,
                            "#bd3786"
                          ],
                          [
                            0.5555555555555556,
                            "#d8576b"
                          ],
                          [
                            0.6666666666666666,
                            "#ed7953"
                          ],
                          [
                            0.7777777777777778,
                            "#fb9f3a"
                          ],
                          [
                            0.8888888888888888,
                            "#fdca26"
                          ],
                          [
                            1,
                            "#f0f921"
                          ]
                        ],
                        "type": "surface"
                      }
                    ],
                    "table": [
                      {
                        "cells": {
                          "fill": {
                            "color": "#EBF0F8"
                          },
                          "line": {
                            "color": "white"
                          }
                        },
                        "header": {
                          "fill": {
                            "color": "#C8D4E3"
                          },
                          "line": {
                            "color": "white"
                          }
                        },
                        "type": "table"
                      }
                    ]
                  },
                  "layout": {
                    "annotationdefaults": {
                      "arrowcolor": "#2a3f5f",
                      "arrowhead": 0,
                      "arrowwidth": 1
                    },
                    "autotypenumbers": "strict",
                    "coloraxis": {
                      "colorbar": {
                        "outlinewidth": 0,
                        "ticks": ""
                      }
                    },
                    "colorscale": {
                      "diverging": [
                        [
                          0,
                          "#8e0152"
                        ],
                        [
                          0.1,
                          "#c51b7d"
                        ],
                        [
                          0.2,
                          "#de77ae"
                        ],
                        [
                          0.3,
                          "#f1b6da"
                        ],
                        [
                          0.4,
                          "#fde0ef"
                        ],
                        [
                          0.5,
                          "#f7f7f7"
                        ],
                        [
                          0.6,
                          "#e6f5d0"
                        ],
                        [
                          0.7,
                          "#b8e186"
                        ],
                        [
                          0.8,
                          "#7fbc41"
                        ],
                        [
                          0.9,
                          "#4d9221"
                        ],
                        [
                          1,
                          "#276419"
                        ]
                      ],
                      "sequential": [
                        [
                          0,
                          "#0d0887"
                        ],
                        [
                          0.1111111111111111,
                          "#46039f"
                        ],
                        [
                          0.2222222222222222,
                          "#7201a8"
                        ],
                        [
                          0.3333333333333333,
                          "#9c179e"
                        ],
                        [
                          0.4444444444444444,
                          "#bd3786"
                        ],
                        [
                          0.5555555555555556,
                          "#d8576b"
                        ],
                        [
                          0.6666666666666666,
                          "#ed7953"
                        ],
                        [
                          0.7777777777777778,
                          "#fb9f3a"
                        ],
                        [
                          0.8888888888888888,
                          "#fdca26"
                        ],
                        [
                          1,
                          "#f0f921"
                        ]
                      ],
                      "sequentialminus": [
                        [
                          0,
                          "#0d0887"
                        ],
                        [
                          0.1111111111111111,
                          "#46039f"
                        ],
                        [
                          0.2222222222222222,
                          "#7201a8"
                        ],
                        [
                          0.3333333333333333,
                          "#9c179e"
                        ],
                        [
                          0.4444444444444444,
                          "#bd3786"
                        ],
                        [
                          0.5555555555555556,
                          "#d8576b"
                        ],
                        [
                          0.6666666666666666,
                          "#ed7953"
                        ],
                        [
                          0.7777777777777778,
                          "#fb9f3a"
                        ],
                        [
                          0.8888888888888888,
                          "#fdca26"
                        ],
                        [
                          1,
                          "#f0f921"
                        ]
                      ]
                    },
                    "colorway": [
                      "#636efa",
                      "#EF553B",
                      "#00cc96",
                      "#ab63fa",
                      "#FFA15A",
                      "#19d3f3",
                      "#FF6692",
                      "#B6E880",
                      "#FF97FF",
                      "#FECB52"
                    ],
                    "font": {
                      "color": "#2a3f5f"
                    },
                    "geo": {
                      "bgcolor": "white",
                      "lakecolor": "white",
                      "landcolor": "#E5ECF6",
                      "showlakes": true,
                      "showland": true,
                      "subunitcolor": "white"
                    },
                    "hoverlabel": {
                      "align": "left"
                    },
                    "hovermode": "closest",
                    "mapbox": {
                      "style": "light"
                    },
                    "paper_bgcolor": "white",
                    "plot_bgcolor": "#E5ECF6",
                    "polar": {
                      "angularaxis": {
                        "gridcolor": "white",
                        "linecolor": "white",
                        "ticks": ""
                      },
                      "bgcolor": "#E5ECF6",
                      "radialaxis": {
                        "gridcolor": "white",
                        "linecolor": "white",
                        "ticks": ""
                      }
                    },
                    "scene": {
                      "xaxis": {
                        "backgroundcolor": "#E5ECF6",
                        "gridcolor": "white",
                        "gridwidth": 2,
                        "linecolor": "white",
                        "showbackground": true,
                        "ticks": "",
                        "zerolinecolor": "white"
                      },
                      "yaxis": {
                        "backgroundcolor": "#E5ECF6",
                        "gridcolor": "white",
                        "gridwidth": 2,
                        "linecolor": "white",
                        "showbackground": true,
                        "ticks": "",
                        "zerolinecolor": "white"
                      },
                      "zaxis": {
                        "backgroundcolor": "#E5ECF6",
                        "gridcolor": "white",
                        "gridwidth": 2,
                        "linecolor": "white",
                        "showbackground": true,
                        "ticks": "",
                        "zerolinecolor": "white"
                      }
                    },
                    "shapedefaults": {
                      "line": {
                        "color": "#2a3f5f"
                      }
                    },
                    "ternary": {
                      "aaxis": {
                        "gridcolor": "white",
                        "linecolor": "white",
                        "ticks": ""
                      },
                      "baxis": {
                        "gridcolor": "white",
                        "linecolor": "white",
                        "ticks": ""
                      },
                      "bgcolor": "#E5ECF6",
                      "caxis": {
                        "gridcolor": "white",
                        "linecolor": "white",
                        "ticks": ""
                      }
                    },
                    "title": {
                      "x": 0.05
                    },
                    "xaxis": {
                      "automargin": true,
                      "gridcolor": "white",
                      "linecolor": "white",
                      "ticks": "",
                      "title": {
                        "standoff": 15
                      },
                      "zerolinecolor": "white",
                      "zerolinewidth": 2
                    },
                    "yaxis": {
                      "automargin": true,
                      "gridcolor": "white",
                      "linecolor": "white",
                      "ticks": "",
                      "title": {
                        "standoff": 15
                      },
                      "zerolinecolor": "white",
                      "zerolinewidth": 2
                    }
                  }
                },
                "title": {
                  "text": "Slice Plot"
                },
                "xaxis": {
                  "anchor": "y",
                  "domain": [
                    0,
                    0.45
                  ],
                  "title": {
                    "text": "max_depth"
                  }
                },
                "xaxis2": {
                  "anchor": "y2",
                  "domain": [
                    0.55,
                    1
                  ],
                  "title": {
                    "text": "n_estimators"
                  }
                },
                "yaxis": {
                  "anchor": "x",
                  "domain": [
                    0,
                    1
                  ],
                  "title": {
                    "text": "Objective Value"
                  }
                },
                "yaxis2": {
                  "anchor": "x2",
                  "domain": [
                    0,
                    1
                  ],
                  "matches": "y",
                  "showticklabels": false
                }
              }
            }
          },
          "metadata": {},
          "output_type": "display_data"
        }
      ],
      "source": [
        "# 3. Slice Plot\n",
        "plot_slice(study).show()"
      ]
    },
    {
      "cell_type": "code",
      "execution_count": 14,
      "metadata": {
        "colab": {
          "base_uri": "https://localhost:8080/",
          "height": 542
        },
        "id": "b3u7VrCi5DPB",
        "outputId": "b6f0a29e-1a13-4bcd-8171-d32c18b4e614"
      },
      "outputs": [
        {
          "data": {
            "application/vnd.plotly.v1+json": {
              "config": {
                "plotlyServerURL": "https://plot.ly"
              },
              "data": [
                {
                  "colorbar": {
                    "title": {
                      "text": "Objective Value"
                    }
                  },
                  "colorscale": [
                    [
                      0,
                      "rgb(247,251,255)"
                    ],
                    [
                      0.125,
                      "rgb(222,235,247)"
                    ],
                    [
                      0.25,
                      "rgb(198,219,239)"
                    ],
                    [
                      0.375,
                      "rgb(158,202,225)"
                    ],
                    [
                      0.5,
                      "rgb(107,174,214)"
                    ],
                    [
                      0.625,
                      "rgb(66,146,198)"
                    ],
                    [
                      0.75,
                      "rgb(33,113,181)"
                    ],
                    [
                      0.875,
                      "rgb(8,81,156)"
                    ],
                    [
                      1,
                      "rgb(8,48,107)"
                    ]
                  ],
                  "connectgaps": true,
                  "contours": {
                    "coloring": "heatmap"
                  },
                  "hoverinfo": "none",
                  "line": {
                    "smoothing": 1.3
                  },
                  "reversescale": false,
                  "type": "contour",
                  "x": [
                    6.35,
                    7,
                    9,
                    10,
                    11,
                    12,
                    13,
                    14,
                    15,
                    16,
                    17,
                    18,
                    20,
                    20.65
                  ],
                  "y": [
                    63.75,
                    68,
                    75,
                    81,
                    82,
                    83,
                    88,
                    89,
                    93,
                    94,
                    98,
                    102,
                    103,
                    104,
                    105,
                    106,
                    107,
                    108,
                    112,
                    113,
                    117,
                    118,
                    119,
                    120,
                    121,
                    122,
                    123,
                    124,
                    125,
                    127,
                    129,
                    130,
                    131,
                    133,
                    137,
                    141,
                    147,
                    153,
                    157.25
                  ],
                  "z": {
                    "bdata": "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",
                    "dtype": "f8",
                    "shape": "39, 14"
                  }
                },
                {
                  "marker": {
                    "color": "black",
                    "line": {
                      "color": "Gray",
                      "width": 2
                    }
                  },
                  "mode": "markers",
                  "name": "Feasible Trial",
                  "showlegend": false,
                  "type": "scatter",
                  "x": [
                    10,
                    12,
                    9,
                    18,
                    14,
                    10,
                    7,
                    14,
                    11,
                    17,
                    20,
                    13,
                    16,
                    18,
                    12,
                    14,
                    20,
                    15,
                    13,
                    11,
                    12,
                    11,
                    15,
                    16,
                    16,
                    16,
                    9,
                    13,
                    12,
                    16,
                    16,
                    18,
                    9,
                    12,
                    12,
                    15,
                    11,
                    16,
                    17,
                    17,
                    14,
                    18,
                    16,
                    16,
                    16,
                    12,
                    15,
                    18,
                    18,
                    16
                  ],
                  "y": [
                    108,
                    122,
                    105,
                    118,
                    102,
                    105,
                    82,
                    133,
                    98,
                    113,
                    137,
                    137,
                    153,
                    112,
                    103,
                    121,
                    107,
                    147,
                    122,
                    75,
                    89,
                    123,
                    102,
                    119,
                    124,
                    94,
                    94,
                    141,
                    104,
                    83,
                    119,
                    131,
                    129,
                    93,
                    68,
                    106,
                    81,
                    108,
                    121,
                    117,
                    121,
                    127,
                    124,
                    120,
                    125,
                    88,
                    108,
                    104,
                    130,
                    127
                  ]
                },
                {
                  "marker": {
                    "color": "#cccccc",
                    "line": {
                      "color": "Gray",
                      "width": 2
                    }
                  },
                  "mode": "markers",
                  "name": "Infeasible Trial",
                  "showlegend": false,
                  "type": "scatter",
                  "x": [],
                  "y": []
                }
              ],
              "layout": {
                "template": {
                  "data": {
                    "bar": [
                      {
                        "error_x": {
                          "color": "#2a3f5f"
                        },
                        "error_y": {
                          "color": "#2a3f5f"
                        },
                        "marker": {
                          "line": {
                            "color": "#E5ECF6",
                            "width": 0.5
                          },
                          "pattern": {
                            "fillmode": "overlay",
                            "size": 10,
                            "solidity": 0.2
                          }
                        },
                        "type": "bar"
                      }
                    ],
                    "barpolar": [
                      {
                        "marker": {
                          "line": {
                            "color": "#E5ECF6",
                            "width": 0.5
                          },
                          "pattern": {
                            "fillmode": "overlay",
                            "size": 10,
                            "solidity": 0.2
                          }
                        },
                        "type": "barpolar"
                      }
                    ],
                    "carpet": [
                      {
                        "aaxis": {
                          "endlinecolor": "#2a3f5f",
                          "gridcolor": "white",
                          "linecolor": "white",
                          "minorgridcolor": "white",
                          "startlinecolor": "#2a3f5f"
                        },
                        "baxis": {
                          "endlinecolor": "#2a3f5f",
                          "gridcolor": "white",
                          "linecolor": "white",
                          "minorgridcolor": "white",
                          "startlinecolor": "#2a3f5f"
                        },
                        "type": "carpet"
                      }
                    ],
                    "choropleth": [
                      {
                        "colorbar": {
                          "outlinewidth": 0,
                          "ticks": ""
                        },
                        "type": "choropleth"
                      }
                    ],
                    "contour": [
                      {
                        "colorbar": {
                          "outlinewidth": 0,
                          "ticks": ""
                        },
                        "colorscale": [
                          [
                            0,
                            "#0d0887"
                          ],
                          [
                            0.1111111111111111,
                            "#46039f"
                          ],
                          [
                            0.2222222222222222,
                            "#7201a8"
                          ],
                          [
                            0.3333333333333333,
                            "#9c179e"
                          ],
                          [
                            0.4444444444444444,
                            "#bd3786"
                          ],
                          [
                            0.5555555555555556,
                            "#d8576b"
                          ],
                          [
                            0.6666666666666666,
                            "#ed7953"
                          ],
                          [
                            0.7777777777777778,
                            "#fb9f3a"
                          ],
                          [
                            0.8888888888888888,
                            "#fdca26"
                          ],
                          [
                            1,
                            "#f0f921"
                          ]
                        ],
                        "type": "contour"
                      }
                    ],
                    "contourcarpet": [
                      {
                        "colorbar": {
                          "outlinewidth": 0,
                          "ticks": ""
                        },
                        "type": "contourcarpet"
                      }
                    ],
                    "heatmap": [
                      {
                        "colorbar": {
                          "outlinewidth": 0,
                          "ticks": ""
                        },
                        "colorscale": [
                          [
                            0,
                            "#0d0887"
                          ],
                          [
                            0.1111111111111111,
                            "#46039f"
                          ],
                          [
                            0.2222222222222222,
                            "#7201a8"
                          ],
                          [
                            0.3333333333333333,
                            "#9c179e"
                          ],
                          [
                            0.4444444444444444,
                            "#bd3786"
                          ],
                          [
                            0.5555555555555556,
                            "#d8576b"
                          ],
                          [
                            0.6666666666666666,
                            "#ed7953"
                          ],
                          [
                            0.7777777777777778,
                            "#fb9f3a"
                          ],
                          [
                            0.8888888888888888,
                            "#fdca26"
                          ],
                          [
                            1,
                            "#f0f921"
                          ]
                        ],
                        "type": "heatmap"
                      }
                    ],
                    "histogram": [
                      {
                        "marker": {
                          "pattern": {
                            "fillmode": "overlay",
                            "size": 10,
                            "solidity": 0.2
                          }
                        },
                        "type": "histogram"
                      }
                    ],
                    "histogram2d": [
                      {
                        "colorbar": {
                          "outlinewidth": 0,
                          "ticks": ""
                        },
                        "colorscale": [
                          [
                            0,
                            "#0d0887"
                          ],
                          [
                            0.1111111111111111,
                            "#46039f"
                          ],
                          [
                            0.2222222222222222,
                            "#7201a8"
                          ],
                          [
                            0.3333333333333333,
                            "#9c179e"
                          ],
                          [
                            0.4444444444444444,
                            "#bd3786"
                          ],
                          [
                            0.5555555555555556,
                            "#d8576b"
                          ],
                          [
                            0.6666666666666666,
                            "#ed7953"
                          ],
                          [
                            0.7777777777777778,
                            "#fb9f3a"
                          ],
                          [
                            0.8888888888888888,
                            "#fdca26"
                          ],
                          [
                            1,
                            "#f0f921"
                          ]
                        ],
                        "type": "histogram2d"
                      }
                    ],
                    "histogram2dcontour": [
                      {
                        "colorbar": {
                          "outlinewidth": 0,
                          "ticks": ""
                        },
                        "colorscale": [
                          [
                            0,
                            "#0d0887"
                          ],
                          [
                            0.1111111111111111,
                            "#46039f"
                          ],
                          [
                            0.2222222222222222,
                            "#7201a8"
                          ],
                          [
                            0.3333333333333333,
                            "#9c179e"
                          ],
                          [
                            0.4444444444444444,
                            "#bd3786"
                          ],
                          [
                            0.5555555555555556,
                            "#d8576b"
                          ],
                          [
                            0.6666666666666666,
                            "#ed7953"
                          ],
                          [
                            0.7777777777777778,
                            "#fb9f3a"
                          ],
                          [
                            0.8888888888888888,
                            "#fdca26"
                          ],
                          [
                            1,
                            "#f0f921"
                          ]
                        ],
                        "type": "histogram2dcontour"
                      }
                    ],
                    "mesh3d": [
                      {
                        "colorbar": {
                          "outlinewidth": 0,
                          "ticks": ""
                        },
                        "type": "mesh3d"
                      }
                    ],
                    "parcoords": [
                      {
                        "line": {
                          "colorbar": {
                            "outlinewidth": 0,
                            "ticks": ""
                          }
                        },
                        "type": "parcoords"
                      }
                    ],
                    "pie": [
                      {
                        "automargin": true,
                        "type": "pie"
                      }
                    ],
                    "scatter": [
                      {
                        "fillpattern": {
                          "fillmode": "overlay",
                          "size": 10,
                          "solidity": 0.2
                        },
                        "type": "scatter"
                      }
                    ],
                    "scatter3d": [
                      {
                        "line": {
                          "colorbar": {
                            "outlinewidth": 0,
                            "ticks": ""
                          }
                        },
                        "marker": {
                          "colorbar": {
                            "outlinewidth": 0,
                            "ticks": ""
                          }
                        },
                        "type": "scatter3d"
                      }
                    ],
                    "scattercarpet": [
                      {
                        "marker": {
                          "colorbar": {
                            "outlinewidth": 0,
                            "ticks": ""
                          }
                        },
                        "type": "scattercarpet"
                      }
                    ],
                    "scattergeo": [
                      {
                        "marker": {
                          "colorbar": {
                            "outlinewidth": 0,
                            "ticks": ""
                          }
                        },
                        "type": "scattergeo"
                      }
                    ],
                    "scattergl": [
                      {
                        "marker": {
                          "colorbar": {
                            "outlinewidth": 0,
                            "ticks": ""
                          }
                        },
                        "type": "scattergl"
                      }
                    ],
                    "scattermap": [
                      {
                        "marker": {
                          "colorbar": {
                            "outlinewidth": 0,
                            "ticks": ""
                          }
                        },
                        "type": "scattermap"
                      }
                    ],
                    "scattermapbox": [
                      {
                        "marker": {
                          "colorbar": {
                            "outlinewidth": 0,
                            "ticks": ""
                          }
                        },
                        "type": "scattermapbox"
                      }
                    ],
                    "scatterpolar": [
                      {
                        "marker": {
                          "colorbar": {
                            "outlinewidth": 0,
                            "ticks": ""
                          }
                        },
                        "type": "scatterpolar"
                      }
                    ],
                    "scatterpolargl": [
                      {
                        "marker": {
                          "colorbar": {
                            "outlinewidth": 0,
                            "ticks": ""
                          }
                        },
                        "type": "scatterpolargl"
                      }
                    ],
                    "scatterternary": [
                      {
                        "marker": {
                          "colorbar": {
                            "outlinewidth": 0,
                            "ticks": ""
                          }
                        },
                        "type": "scatterternary"
                      }
                    ],
                    "surface": [
                      {
                        "colorbar": {
                          "outlinewidth": 0,
                          "ticks": ""
                        },
                        "colorscale": [
                          [
                            0,
                            "#0d0887"
                          ],
                          [
                            0.1111111111111111,
                            "#46039f"
                          ],
                          [
                            0.2222222222222222,
                            "#7201a8"
                          ],
                          [
                            0.3333333333333333,
                            "#9c179e"
                          ],
                          [
                            0.4444444444444444,
                            "#bd3786"
                          ],
                          [
                            0.5555555555555556,
                            "#d8576b"
                          ],
                          [
                            0.6666666666666666,
                            "#ed7953"
                          ],
                          [
                            0.7777777777777778,
                            "#fb9f3a"
                          ],
                          [
                            0.8888888888888888,
                            "#fdca26"
                          ],
                          [
                            1,
                            "#f0f921"
                          ]
                        ],
                        "type": "surface"
                      }
                    ],
                    "table": [
                      {
                        "cells": {
                          "fill": {
                            "color": "#EBF0F8"
                          },
                          "line": {
                            "color": "white"
                          }
                        },
                        "header": {
                          "fill": {
                            "color": "#C8D4E3"
                          },
                          "line": {
                            "color": "white"
                          }
                        },
                        "type": "table"
                      }
                    ]
                  },
                  "layout": {
                    "annotationdefaults": {
                      "arrowcolor": "#2a3f5f",
                      "arrowhead": 0,
                      "arrowwidth": 1
                    },
                    "autotypenumbers": "strict",
                    "coloraxis": {
                      "colorbar": {
                        "outlinewidth": 0,
                        "ticks": ""
                      }
                    },
                    "colorscale": {
                      "diverging": [
                        [
                          0,
                          "#8e0152"
                        ],
                        [
                          0.1,
                          "#c51b7d"
                        ],
                        [
                          0.2,
                          "#de77ae"
                        ],
                        [
                          0.3,
                          "#f1b6da"
                        ],
                        [
                          0.4,
                          "#fde0ef"
                        ],
                        [
                          0.5,
                          "#f7f7f7"
                        ],
                        [
                          0.6,
                          "#e6f5d0"
                        ],
                        [
                          0.7,
                          "#b8e186"
                        ],
                        [
                          0.8,
                          "#7fbc41"
                        ],
                        [
                          0.9,
                          "#4d9221"
                        ],
                        [
                          1,
                          "#276419"
                        ]
                      ],
                      "sequential": [
                        [
                          0,
                          "#0d0887"
                        ],
                        [
                          0.1111111111111111,
                          "#46039f"
                        ],
                        [
                          0.2222222222222222,
                          "#7201a8"
                        ],
                        [
                          0.3333333333333333,
                          "#9c179e"
                        ],
                        [
                          0.4444444444444444,
                          "#bd3786"
                        ],
                        [
                          0.5555555555555556,
                          "#d8576b"
                        ],
                        [
                          0.6666666666666666,
                          "#ed7953"
                        ],
                        [
                          0.7777777777777778,
                          "#fb9f3a"
                        ],
                        [
                          0.8888888888888888,
                          "#fdca26"
                        ],
                        [
                          1,
                          "#f0f921"
                        ]
                      ],
                      "sequentialminus": [
                        [
                          0,
                          "#0d0887"
                        ],
                        [
                          0.1111111111111111,
                          "#46039f"
                        ],
                        [
                          0.2222222222222222,
                          "#7201a8"
                        ],
                        [
                          0.3333333333333333,
                          "#9c179e"
                        ],
                        [
                          0.4444444444444444,
                          "#bd3786"
                        ],
                        [
                          0.5555555555555556,
                          "#d8576b"
                        ],
                        [
                          0.6666666666666666,
                          "#ed7953"
                        ],
                        [
                          0.7777777777777778,
                          "#fb9f3a"
                        ],
                        [
                          0.8888888888888888,
                          "#fdca26"
                        ],
                        [
                          1,
                          "#f0f921"
                        ]
                      ]
                    },
                    "colorway": [
                      "#636efa",
                      "#EF553B",
                      "#00cc96",
                      "#ab63fa",
                      "#FFA15A",
                      "#19d3f3",
                      "#FF6692",
                      "#B6E880",
                      "#FF97FF",
                      "#FECB52"
                    ],
                    "font": {
                      "color": "#2a3f5f"
                    },
                    "geo": {
                      "bgcolor": "white",
                      "lakecolor": "white",
                      "landcolor": "#E5ECF6",
                      "showlakes": true,
                      "showland": true,
                      "subunitcolor": "white"
                    },
                    "hoverlabel": {
                      "align": "left"
                    },
                    "hovermode": "closest",
                    "mapbox": {
                      "style": "light"
                    },
                    "paper_bgcolor": "white",
                    "plot_bgcolor": "#E5ECF6",
                    "polar": {
                      "angularaxis": {
                        "gridcolor": "white",
                        "linecolor": "white",
                        "ticks": ""
                      },
                      "bgcolor": "#E5ECF6",
                      "radialaxis": {
                        "gridcolor": "white",
                        "linecolor": "white",
                        "ticks": ""
                      }
                    },
                    "scene": {
                      "xaxis": {
                        "backgroundcolor": "#E5ECF6",
                        "gridcolor": "white",
                        "gridwidth": 2,
                        "linecolor": "white",
                        "showbackground": true,
                        "ticks": "",
                        "zerolinecolor": "white"
                      },
                      "yaxis": {
                        "backgroundcolor": "#E5ECF6",
                        "gridcolor": "white",
                        "gridwidth": 2,
                        "linecolor": "white",
                        "showbackground": true,
                        "ticks": "",
                        "zerolinecolor": "white"
                      },
                      "zaxis": {
                        "backgroundcolor": "#E5ECF6",
                        "gridcolor": "white",
                        "gridwidth": 2,
                        "linecolor": "white",
                        "showbackground": true,
                        "ticks": "",
                        "zerolinecolor": "white"
                      }
                    },
                    "shapedefaults": {
                      "line": {
                        "color": "#2a3f5f"
                      }
                    },
                    "ternary": {
                      "aaxis": {
                        "gridcolor": "white",
                        "linecolor": "white",
                        "ticks": ""
                      },
                      "baxis": {
                        "gridcolor": "white",
                        "linecolor": "white",
                        "ticks": ""
                      },
                      "bgcolor": "#E5ECF6",
                      "caxis": {
                        "gridcolor": "white",
                        "linecolor": "white",
                        "ticks": ""
                      }
                    },
                    "title": {
                      "x": 0.05
                    },
                    "xaxis": {
                      "automargin": true,
                      "gridcolor": "white",
                      "linecolor": "white",
                      "ticks": "",
                      "title": {
                        "standoff": 15
                      },
                      "zerolinecolor": "white",
                      "zerolinewidth": 2
                    },
                    "yaxis": {
                      "automargin": true,
                      "gridcolor": "white",
                      "linecolor": "white",
                      "ticks": "",
                      "title": {
                        "standoff": 15
                      },
                      "zerolinecolor": "white",
                      "zerolinewidth": 2
                    }
                  }
                },
                "title": {
                  "text": "Contour Plot"
                },
                "xaxis": {
                  "range": [
                    6.35,
                    20.65
                  ],
                  "title": {
                    "text": "max_depth"
                  }
                },
                "yaxis": {
                  "range": [
                    63.75,
                    157.25
                  ],
                  "title": {
                    "text": "n_estimators"
                  }
                }
              }
            }
          },
          "metadata": {},
          "output_type": "display_data"
        }
      ],
      "source": [
        "# 4. Contour Plot\n",
        "plot_contour(study).show()"
      ]
    },
    {
      "cell_type": "code",
      "execution_count": 15,
      "metadata": {
        "colab": {
          "base_uri": "https://localhost:8080/",
          "height": 542
        },
        "id": "Iw7pTZf_5JPp",
        "outputId": "7bf821d2-0357-47a8-f547-29ec31ccb49e"
      },
      "outputs": [
        {
          "data": {
            "application/vnd.plotly.v1+json": {
              "config": {
                "plotlyServerURL": "https://plot.ly"
              },
              "data": [
                {
                  "cliponaxis": false,
                  "hovertemplate": [
                    "n_estimators (IntDistribution): 0.2588036092154892<extra></extra>",
                    "max_depth (IntDistribution): 0.7411963907845107<extra></extra>"
                  ],
                  "name": "Objective Value",
                  "orientation": "h",
                  "text": [
                    "0.26",
                    "0.74"
                  ],
                  "textposition": "outside",
                  "type": "bar",
                  "x": [
                    0.2588036092154892,
                    0.7411963907845107
                  ],
                  "y": [
                    "n_estimators",
                    "max_depth"
                  ]
                }
              ],
              "layout": {
                "template": {
                  "data": {
                    "bar": [
                      {
                        "error_x": {
                          "color": "#2a3f5f"
                        },
                        "error_y": {
                          "color": "#2a3f5f"
                        },
                        "marker": {
                          "line": {
                            "color": "#E5ECF6",
                            "width": 0.5
                          },
                          "pattern": {
                            "fillmode": "overlay",
                            "size": 10,
                            "solidity": 0.2
                          }
                        },
                        "type": "bar"
                      }
                    ],
                    "barpolar": [
                      {
                        "marker": {
                          "line": {
                            "color": "#E5ECF6",
                            "width": 0.5
                          },
                          "pattern": {
                            "fillmode": "overlay",
                            "size": 10,
                            "solidity": 0.2
                          }
                        },
                        "type": "barpolar"
                      }
                    ],
                    "carpet": [
                      {
                        "aaxis": {
                          "endlinecolor": "#2a3f5f",
                          "gridcolor": "white",
                          "linecolor": "white",
                          "minorgridcolor": "white",
                          "startlinecolor": "#2a3f5f"
                        },
                        "baxis": {
                          "endlinecolor": "#2a3f5f",
                          "gridcolor": "white",
                          "linecolor": "white",
                          "minorgridcolor": "white",
                          "startlinecolor": "#2a3f5f"
                        },
                        "type": "carpet"
                      }
                    ],
                    "choropleth": [
                      {
                        "colorbar": {
                          "outlinewidth": 0,
                          "ticks": ""
                        },
                        "type": "choropleth"
                      }
                    ],
                    "contour": [
                      {
                        "colorbar": {
                          "outlinewidth": 0,
                          "ticks": ""
                        },
                        "colorscale": [
                          [
                            0,
                            "#0d0887"
                          ],
                          [
                            0.1111111111111111,
                            "#46039f"
                          ],
                          [
                            0.2222222222222222,
                            "#7201a8"
                          ],
                          [
                            0.3333333333333333,
                            "#9c179e"
                          ],
                          [
                            0.4444444444444444,
                            "#bd3786"
                          ],
                          [
                            0.5555555555555556,
                            "#d8576b"
                          ],
                          [
                            0.6666666666666666,
                            "#ed7953"
                          ],
                          [
                            0.7777777777777778,
                            "#fb9f3a"
                          ],
                          [
                            0.8888888888888888,
                            "#fdca26"
                          ],
                          [
                            1,
                            "#f0f921"
                          ]
                        ],
                        "type": "contour"
                      }
                    ],
                    "contourcarpet": [
                      {
                        "colorbar": {
                          "outlinewidth": 0,
                          "ticks": ""
                        },
                        "type": "contourcarpet"
                      }
                    ],
                    "heatmap": [
                      {
                        "colorbar": {
                          "outlinewidth": 0,
                          "ticks": ""
                        },
                        "colorscale": [
                          [
                            0,
                            "#0d0887"
                          ],
                          [
                            0.1111111111111111,
                            "#46039f"
                          ],
                          [
                            0.2222222222222222,
                            "#7201a8"
                          ],
                          [
                            0.3333333333333333,
                            "#9c179e"
                          ],
                          [
                            0.4444444444444444,
                            "#bd3786"
                          ],
                          [
                            0.5555555555555556,
                            "#d8576b"
                          ],
                          [
                            0.6666666666666666,
                            "#ed7953"
                          ],
                          [
                            0.7777777777777778,
                            "#fb9f3a"
                          ],
                          [
                            0.8888888888888888,
                            "#fdca26"
                          ],
                          [
                            1,
                            "#f0f921"
                          ]
                        ],
                        "type": "heatmap"
                      }
                    ],
                    "histogram": [
                      {
                        "marker": {
                          "pattern": {
                            "fillmode": "overlay",
                            "size": 10,
                            "solidity": 0.2
                          }
                        },
                        "type": "histogram"
                      }
                    ],
                    "histogram2d": [
                      {
                        "colorbar": {
                          "outlinewidth": 0,
                          "ticks": ""
                        },
                        "colorscale": [
                          [
                            0,
                            "#0d0887"
                          ],
                          [
                            0.1111111111111111,
                            "#46039f"
                          ],
                          [
                            0.2222222222222222,
                            "#7201a8"
                          ],
                          [
                            0.3333333333333333,
                            "#9c179e"
                          ],
                          [
                            0.4444444444444444,
                            "#bd3786"
                          ],
                          [
                            0.5555555555555556,
                            "#d8576b"
                          ],
                          [
                            0.6666666666666666,
                            "#ed7953"
                          ],
                          [
                            0.7777777777777778,
                            "#fb9f3a"
                          ],
                          [
                            0.8888888888888888,
                            "#fdca26"
                          ],
                          [
                            1,
                            "#f0f921"
                          ]
                        ],
                        "type": "histogram2d"
                      }
                    ],
                    "histogram2dcontour": [
                      {
                        "colorbar": {
                          "outlinewidth": 0,
                          "ticks": ""
                        },
                        "colorscale": [
                          [
                            0,
                            "#0d0887"
                          ],
                          [
                            0.1111111111111111,
                            "#46039f"
                          ],
                          [
                            0.2222222222222222,
                            "#7201a8"
                          ],
                          [
                            0.3333333333333333,
                            "#9c179e"
                          ],
                          [
                            0.4444444444444444,
                            "#bd3786"
                          ],
                          [
                            0.5555555555555556,
                            "#d8576b"
                          ],
                          [
                            0.6666666666666666,
                            "#ed7953"
                          ],
                          [
                            0.7777777777777778,
                            "#fb9f3a"
                          ],
                          [
                            0.8888888888888888,
                            "#fdca26"
                          ],
                          [
                            1,
                            "#f0f921"
                          ]
                        ],
                        "type": "histogram2dcontour"
                      }
                    ],
                    "mesh3d": [
                      {
                        "colorbar": {
                          "outlinewidth": 0,
                          "ticks": ""
                        },
                        "type": "mesh3d"
                      }
                    ],
                    "parcoords": [
                      {
                        "line": {
                          "colorbar": {
                            "outlinewidth": 0,
                            "ticks": ""
                          }
                        },
                        "type": "parcoords"
                      }
                    ],
                    "pie": [
                      {
                        "automargin": true,
                        "type": "pie"
                      }
                    ],
                    "scatter": [
                      {
                        "fillpattern": {
                          "fillmode": "overlay",
                          "size": 10,
                          "solidity": 0.2
                        },
                        "type": "scatter"
                      }
                    ],
                    "scatter3d": [
                      {
                        "line": {
                          "colorbar": {
                            "outlinewidth": 0,
                            "ticks": ""
                          }
                        },
                        "marker": {
                          "colorbar": {
                            "outlinewidth": 0,
                            "ticks": ""
                          }
                        },
                        "type": "scatter3d"
                      }
                    ],
                    "scattercarpet": [
                      {
                        "marker": {
                          "colorbar": {
                            "outlinewidth": 0,
                            "ticks": ""
                          }
                        },
                        "type": "scattercarpet"
                      }
                    ],
                    "scattergeo": [
                      {
                        "marker": {
                          "colorbar": {
                            "outlinewidth": 0,
                            "ticks": ""
                          }
                        },
                        "type": "scattergeo"
                      }
                    ],
                    "scattergl": [
                      {
                        "marker": {
                          "colorbar": {
                            "outlinewidth": 0,
                            "ticks": ""
                          }
                        },
                        "type": "scattergl"
                      }
                    ],
                    "scattermap": [
                      {
                        "marker": {
                          "colorbar": {
                            "outlinewidth": 0,
                            "ticks": ""
                          }
                        },
                        "type": "scattermap"
                      }
                    ],
                    "scattermapbox": [
                      {
                        "marker": {
                          "colorbar": {
                            "outlinewidth": 0,
                            "ticks": ""
                          }
                        },
                        "type": "scattermapbox"
                      }
                    ],
                    "scatterpolar": [
                      {
                        "marker": {
                          "colorbar": {
                            "outlinewidth": 0,
                            "ticks": ""
                          }
                        },
                        "type": "scatterpolar"
                      }
                    ],
                    "scatterpolargl": [
                      {
                        "marker": {
                          "colorbar": {
                            "outlinewidth": 0,
                            "ticks": ""
                          }
                        },
                        "type": "scatterpolargl"
                      }
                    ],
                    "scatterternary": [
                      {
                        "marker": {
                          "colorbar": {
                            "outlinewidth": 0,
                            "ticks": ""
                          }
                        },
                        "type": "scatterternary"
                      }
                    ],
                    "surface": [
                      {
                        "colorbar": {
                          "outlinewidth": 0,
                          "ticks": ""
                        },
                        "colorscale": [
                          [
                            0,
                            "#0d0887"
                          ],
                          [
                            0.1111111111111111,
                            "#46039f"
                          ],
                          [
                            0.2222222222222222,
                            "#7201a8"
                          ],
                          [
                            0.3333333333333333,
                            "#9c179e"
                          ],
                          [
                            0.4444444444444444,
                            "#bd3786"
                          ],
                          [
                            0.5555555555555556,
                            "#d8576b"
                          ],
                          [
                            0.6666666666666666,
                            "#ed7953"
                          ],
                          [
                            0.7777777777777778,
                            "#fb9f3a"
                          ],
                          [
                            0.8888888888888888,
                            "#fdca26"
                          ],
                          [
                            1,
                            "#f0f921"
                          ]
                        ],
                        "type": "surface"
                      }
                    ],
                    "table": [
                      {
                        "cells": {
                          "fill": {
                            "color": "#EBF0F8"
                          },
                          "line": {
                            "color": "white"
                          }
                        },
                        "header": {
                          "fill": {
                            "color": "#C8D4E3"
                          },
                          "line": {
                            "color": "white"
                          }
                        },
                        "type": "table"
                      }
                    ]
                  },
                  "layout": {
                    "annotationdefaults": {
                      "arrowcolor": "#2a3f5f",
                      "arrowhead": 0,
                      "arrowwidth": 1
                    },
                    "autotypenumbers": "strict",
                    "coloraxis": {
                      "colorbar": {
                        "outlinewidth": 0,
                        "ticks": ""
                      }
                    },
                    "colorscale": {
                      "diverging": [
                        [
                          0,
                          "#8e0152"
                        ],
                        [
                          0.1,
                          "#c51b7d"
                        ],
                        [
                          0.2,
                          "#de77ae"
                        ],
                        [
                          0.3,
                          "#f1b6da"
                        ],
                        [
                          0.4,
                          "#fde0ef"
                        ],
                        [
                          0.5,
                          "#f7f7f7"
                        ],
                        [
                          0.6,
                          "#e6f5d0"
                        ],
                        [
                          0.7,
                          "#b8e186"
                        ],
                        [
                          0.8,
                          "#7fbc41"
                        ],
                        [
                          0.9,
                          "#4d9221"
                        ],
                        [
                          1,
                          "#276419"
                        ]
                      ],
                      "sequential": [
                        [
                          0,
                          "#0d0887"
                        ],
                        [
                          0.1111111111111111,
                          "#46039f"
                        ],
                        [
                          0.2222222222222222,
                          "#7201a8"
                        ],
                        [
                          0.3333333333333333,
                          "#9c179e"
                        ],
                        [
                          0.4444444444444444,
                          "#bd3786"
                        ],
                        [
                          0.5555555555555556,
                          "#d8576b"
                        ],
                        [
                          0.6666666666666666,
                          "#ed7953"
                        ],
                        [
                          0.7777777777777778,
                          "#fb9f3a"
                        ],
                        [
                          0.8888888888888888,
                          "#fdca26"
                        ],
                        [
                          1,
                          "#f0f921"
                        ]
                      ],
                      "sequentialminus": [
                        [
                          0,
                          "#0d0887"
                        ],
                        [
                          0.1111111111111111,
                          "#46039f"
                        ],
                        [
                          0.2222222222222222,
                          "#7201a8"
                        ],
                        [
                          0.3333333333333333,
                          "#9c179e"
                        ],
                        [
                          0.4444444444444444,
                          "#bd3786"
                        ],
                        [
                          0.5555555555555556,
                          "#d8576b"
                        ],
                        [
                          0.6666666666666666,
                          "#ed7953"
                        ],
                        [
                          0.7777777777777778,
                          "#fb9f3a"
                        ],
                        [
                          0.8888888888888888,
                          "#fdca26"
                        ],
                        [
                          1,
                          "#f0f921"
                        ]
                      ]
                    },
                    "colorway": [
                      "#636efa",
                      "#EF553B",
                      "#00cc96",
                      "#ab63fa",
                      "#FFA15A",
                      "#19d3f3",
                      "#FF6692",
                      "#B6E880",
                      "#FF97FF",
                      "#FECB52"
                    ],
                    "font": {
                      "color": "#2a3f5f"
                    },
                    "geo": {
                      "bgcolor": "white",
                      "lakecolor": "white",
                      "landcolor": "#E5ECF6",
                      "showlakes": true,
                      "showland": true,
                      "subunitcolor": "white"
                    },
                    "hoverlabel": {
                      "align": "left"
                    },
                    "hovermode": "closest",
                    "mapbox": {
                      "style": "light"
                    },
                    "paper_bgcolor": "white",
                    "plot_bgcolor": "#E5ECF6",
                    "polar": {
                      "angularaxis": {
                        "gridcolor": "white",
                        "linecolor": "white",
                        "ticks": ""
                      },
                      "bgcolor": "#E5ECF6",
                      "radialaxis": {
                        "gridcolor": "white",
                        "linecolor": "white",
                        "ticks": ""
                      }
                    },
                    "scene": {
                      "xaxis": {
                        "backgroundcolor": "#E5ECF6",
                        "gridcolor": "white",
                        "gridwidth": 2,
                        "linecolor": "white",
                        "showbackground": true,
                        "ticks": "",
                        "zerolinecolor": "white"
                      },
                      "yaxis": {
                        "backgroundcolor": "#E5ECF6",
                        "gridcolor": "white",
                        "gridwidth": 2,
                        "linecolor": "white",
                        "showbackground": true,
                        "ticks": "",
                        "zerolinecolor": "white"
                      },
                      "zaxis": {
                        "backgroundcolor": "#E5ECF6",
                        "gridcolor": "white",
                        "gridwidth": 2,
                        "linecolor": "white",
                        "showbackground": true,
                        "ticks": "",
                        "zerolinecolor": "white"
                      }
                    },
                    "shapedefaults": {
                      "line": {
                        "color": "#2a3f5f"
                      }
                    },
                    "ternary": {
                      "aaxis": {
                        "gridcolor": "white",
                        "linecolor": "white",
                        "ticks": ""
                      },
                      "baxis": {
                        "gridcolor": "white",
                        "linecolor": "white",
                        "ticks": ""
                      },
                      "bgcolor": "#E5ECF6",
                      "caxis": {
                        "gridcolor": "white",
                        "linecolor": "white",
                        "ticks": ""
                      }
                    },
                    "title": {
                      "x": 0.05
                    },
                    "xaxis": {
                      "automargin": true,
                      "gridcolor": "white",
                      "linecolor": "white",
                      "ticks": "",
                      "title": {
                        "standoff": 15
                      },
                      "zerolinecolor": "white",
                      "zerolinewidth": 2
                    },
                    "yaxis": {
                      "automargin": true,
                      "gridcolor": "white",
                      "linecolor": "white",
                      "ticks": "",
                      "title": {
                        "standoff": 15
                      },
                      "zerolinecolor": "white",
                      "zerolinewidth": 2
                    }
                  }
                },
                "title": {
                  "text": "Hyperparameter Importances"
                },
                "xaxis": {
                  "title": {
                    "text": "Hyperparameter Importance"
                  }
                },
                "yaxis": {
                  "title": {
                    "text": "Hyperparameter"
                  }
                }
              }
            }
          },
          "metadata": {},
          "output_type": "display_data"
        }
      ],
      "source": [
        "# 5. Hyperparameter Importance\n",
        "plot_param_importances(study).show()"
      ]
    },
    {
      "cell_type": "markdown",
      "metadata": {
        "id": "m-zjVci7BYvh"
      },
      "source": [
        "## Optimizing Multiple ML Models"
      ]
    },
    {
      "cell_type": "code",
      "execution_count": 17,
      "metadata": {
        "id": "HJ81Ws4uBrD3"
      },
      "outputs": [],
      "source": [
        "# Importing the required libraries\n",
        "from sklearn.ensemble import RandomForestClassifier, GradientBoostingClassifier\n",
        "from sklearn.svm import SVC"
      ]
    },
    {
      "cell_type": "code",
      "execution_count": 16,
      "metadata": {
        "id": "bbHIIH8s5O8Z"
      },
      "outputs": [],
      "source": [
        "# Define the objective function for Optuna\n",
        "def objective(trial):\n",
        "    # Choose the algorithm to tune\n",
        "    classifier_name = trial.suggest_categorical('classifier', ['SVM', 'RandomForest', 'GradientBoosting'])\n",
        "\n",
        "    if classifier_name == 'SVM':\n",
        "        # SVM hyperparameters\n",
        "        c = trial.suggest_float('C', 0.1, 100, log=True)\n",
        "        kernel = trial.suggest_categorical('kernel', ['linear', 'rbf', 'poly', 'sigmoid'])\n",
        "        gamma = trial.suggest_categorical('gamma', ['scale', 'auto'])\n",
        "\n",
        "        model = SVC(C=c, kernel=kernel, gamma=gamma, random_state=42)\n",
        "\n",
        "    elif classifier_name == 'RandomForest':\n",
        "        # Random Forest hyperparameters\n",
        "        n_estimators = trial.suggest_int('n_estimators', 50, 300)\n",
        "        max_depth = trial.suggest_int('max_depth', 3, 20)\n",
        "        min_samples_split = trial.suggest_int('min_samples_split', 2, 10)\n",
        "        min_samples_leaf = trial.suggest_int('min_samples_leaf', 1, 10)\n",
        "        bootstrap = trial.suggest_categorical('bootstrap', [True, False])\n",
        "\n",
        "        model = RandomForestClassifier(\n",
        "            n_estimators=n_estimators,\n",
        "            max_depth=max_depth,\n",
        "            min_samples_split=min_samples_split,\n",
        "            min_samples_leaf=min_samples_leaf,\n",
        "            bootstrap=bootstrap,\n",
        "            random_state=42\n",
        "        )\n",
        "\n",
        "    elif classifier_name == 'GradientBoosting':\n",
        "        # Gradient Boosting hyperparameters\n",
        "        n_estimators = trial.suggest_int('n_estimators', 50, 300)\n",
        "        learning_rate = trial.suggest_float('learning_rate', 0.01, 0.3, log=True)\n",
        "        max_depth = trial.suggest_int('max_depth', 3, 20)\n",
        "        min_samples_split = trial.suggest_int('min_samples_split', 2, 10)\n",
        "        min_samples_leaf = trial.suggest_int('min_samples_leaf', 1, 10)\n",
        "\n",
        "        model = GradientBoostingClassifier(\n",
        "            n_estimators=n_estimators,\n",
        "            learning_rate=learning_rate,\n",
        "            max_depth=max_depth,\n",
        "            min_samples_split=min_samples_split,\n",
        "            min_samples_leaf=min_samples_leaf,\n",
        "            random_state=42\n",
        "        )\n",
        "\n",
        "    # Perform cross-validation and return the mean accuracy\n",
        "    score = cross_val_score(model, X_train, y_train, cv=3, scoring='accuracy').mean()\n",
        "    return score"
      ]
    },
    {
      "cell_type": "code",
      "execution_count": 18,
      "metadata": {
        "colab": {
          "base_uri": "https://localhost:8080/"
        },
        "id": "lP_GVCWxBf60",
        "outputId": "8d93f5e2-d8b9-44a0-fcf6-61dd2e3de7b6"
      },
      "outputs": [
        {
          "name": "stderr",
          "output_type": "stream",
          "text": [
            "[I 2025-06-01 17:55:28,059] A new study created in memory with name: no-name-c24d9c0f-0ca8-41ad-8d2f-fdf9223dc7c7\n",
            "[I 2025-06-01 17:55:29,409] Trial 0 finished with value: 0.7486033519553073 and parameters: {'classifier': 'GradientBoosting', 'n_estimators': 177, 'learning_rate': 0.016720016656443928, 'max_depth': 6, 'min_samples_split': 6, 'min_samples_leaf': 3}. Best is trial 0 with value: 0.7486033519553073.\n",
            "[I 2025-06-01 17:55:30,353] Trial 1 finished with value: 0.7635009310986964 and parameters: {'classifier': 'RandomForest', 'n_estimators': 282, 'max_depth': 9, 'min_samples_split': 2, 'min_samples_leaf': 4, 'bootstrap': True}. Best is trial 1 with value: 0.7635009310986964.\n",
            "[I 2025-06-01 17:55:30,523] Trial 2 finished with value: 0.7709497206703911 and parameters: {'classifier': 'RandomForest', 'n_estimators': 60, 'max_depth': 13, 'min_samples_split': 9, 'min_samples_leaf': 8, 'bootstrap': False}. Best is trial 2 with value: 0.7709497206703911.\n",
            "[I 2025-06-01 17:55:30,705] Trial 3 finished with value: 0.7653631284916201 and parameters: {'classifier': 'RandomForest', 'n_estimators': 62, 'max_depth': 11, 'min_samples_split': 4, 'min_samples_leaf': 6, 'bootstrap': False}. Best is trial 2 with value: 0.7709497206703911.\n",
            "[I 2025-06-01 17:55:32,877] Trial 4 finished with value: 0.7281191806331471 and parameters: {'classifier': 'GradientBoosting', 'n_estimators': 187, 'learning_rate': 0.04223901002620864, 'max_depth': 18, 'min_samples_split': 9, 'min_samples_leaf': 3}. Best is trial 2 with value: 0.7709497206703911.\n",
            "[I 2025-06-01 17:55:32,912] Trial 5 finished with value: 0.7709497206703911 and parameters: {'classifier': 'SVM', 'C': 0.1545958576608457, 'kernel': 'sigmoid', 'gamma': 'scale'}. Best is trial 2 with value: 0.7709497206703911.\n",
            "[I 2025-06-01 17:55:34,637] Trial 6 finished with value: 0.7579143389199255 and parameters: {'classifier': 'GradientBoosting', 'n_estimators': 239, 'learning_rate': 0.013497085483932136, 'max_depth': 9, 'min_samples_split': 2, 'min_samples_leaf': 8}. Best is trial 2 with value: 0.7709497206703911.\n",
            "[I 2025-06-01 17:55:35,247] Trial 7 finished with value: 0.7560521415270017 and parameters: {'classifier': 'RandomForest', 'n_estimators': 200, 'max_depth': 10, 'min_samples_split': 3, 'min_samples_leaf': 10, 'bootstrap': True}. Best is trial 2 with value: 0.7709497206703911.\n",
            "[I 2025-06-01 17:55:35,764] Trial 8 finished with value: 0.756052141527002 and parameters: {'classifier': 'GradientBoosting', 'n_estimators': 155, 'learning_rate': 0.1278003421238721, 'max_depth': 3, 'min_samples_split': 7, 'min_samples_leaf': 7}. Best is trial 2 with value: 0.7709497206703911.\n",
            "[I 2025-06-01 17:55:35,793] Trial 9 finished with value: 0.7523277467411545 and parameters: {'classifier': 'SVM', 'C': 0.1382292907411894, 'kernel': 'rbf', 'gamma': 'auto'}. Best is trial 2 with value: 0.7709497206703911.\n",
            "[I 2025-06-01 17:55:35,952] Trial 10 finished with value: 0.7765363128491619 and parameters: {'classifier': 'RandomForest', 'n_estimators': 51, 'max_depth': 17, 'min_samples_split': 10, 'min_samples_leaf': 10, 'bootstrap': False}. Best is trial 10 with value: 0.7765363128491619.\n",
            "[I 2025-06-01 17:55:36,129] Trial 11 finished with value: 0.7765363128491619 and parameters: {'classifier': 'RandomForest', 'n_estimators': 55, 'max_depth': 17, 'min_samples_split': 10, 'min_samples_leaf': 10, 'bootstrap': False}. Best is trial 10 with value: 0.7765363128491619.\n",
            "[I 2025-06-01 17:55:36,440] Trial 12 finished with value: 0.7821229050279329 and parameters: {'classifier': 'RandomForest', 'n_estimators': 108, 'max_depth': 20, 'min_samples_split': 10, 'min_samples_leaf': 10, 'bootstrap': False}. Best is trial 12 with value: 0.7821229050279329.\n",
            "[I 2025-06-01 17:55:36,781] Trial 13 finished with value: 0.7802607076350093 and parameters: {'classifier': 'RandomForest', 'n_estimators': 116, 'max_depth': 20, 'min_samples_split': 10, 'min_samples_leaf': 10, 'bootstrap': False}. Best is trial 12 with value: 0.7821229050279329.\n",
            "[I 2025-06-01 17:55:37,135] Trial 14 finished with value: 0.7728119180633147 and parameters: {'classifier': 'RandomForest', 'n_estimators': 124, 'max_depth': 20, 'min_samples_split': 7, 'min_samples_leaf': 8, 'bootstrap': False}. Best is trial 12 with value: 0.7821229050279329.\n",
            "[I 2025-06-01 17:55:37,470] Trial 15 finished with value: 0.7839851024208566 and parameters: {'classifier': 'RandomForest', 'n_estimators': 117, 'max_depth': 14, 'min_samples_split': 8, 'min_samples_leaf': 9, 'bootstrap': False}. Best is trial 15 with value: 0.7839851024208566.\n",
            "[I 2025-06-01 17:55:37,537] Trial 16 finished with value: 0.6852886405959032 and parameters: {'classifier': 'SVM', 'C': 62.35007438748633, 'kernel': 'poly', 'gamma': 'auto'}. Best is trial 15 with value: 0.7839851024208566.\n",
            "[I 2025-06-01 17:55:37,884] Trial 17 finished with value: 0.7690875232774674 and parameters: {'classifier': 'RandomForest', 'n_estimators': 104, 'max_depth': 14, 'min_samples_split': 8, 'min_samples_leaf': 5, 'bootstrap': False}. Best is trial 15 with value: 0.7839851024208566.\n",
            "[I 2025-06-01 17:55:38,228] Trial 18 finished with value: 0.7597765363128491 and parameters: {'classifier': 'RandomForest', 'n_estimators': 98, 'max_depth': 15, 'min_samples_split': 5, 'min_samples_leaf': 9, 'bootstrap': True}. Best is trial 15 with value: 0.7839851024208566.\n",
            "[I 2025-06-01 17:55:38,278] Trial 19 finished with value: 0.7858472998137801 and parameters: {'classifier': 'SVM', 'C': 11.90398853598039, 'kernel': 'linear', 'gamma': 'scale'}. Best is trial 19 with value: 0.7858472998137801.\n",
            "[I 2025-06-01 17:55:38,343] Trial 20 finished with value: 0.7858472998137801 and parameters: {'classifier': 'SVM', 'C': 15.789309944622644, 'kernel': 'linear', 'gamma': 'scale'}. Best is trial 19 with value: 0.7858472998137801.\n",
            "[I 2025-06-01 17:55:38,396] Trial 21 finished with value: 0.7858472998137801 and parameters: {'classifier': 'SVM', 'C': 14.517642767847937, 'kernel': 'linear', 'gamma': 'scale'}. Best is trial 19 with value: 0.7858472998137801.\n",
            "[I 2025-06-01 17:55:38,448] Trial 22 finished with value: 0.7858472998137801 and parameters: {'classifier': 'SVM', 'C': 15.389943603155718, 'kernel': 'linear', 'gamma': 'scale'}. Best is trial 19 with value: 0.7858472998137801.\n",
            "[I 2025-06-01 17:55:38,486] Trial 23 finished with value: 0.7858472998137801 and parameters: {'classifier': 'SVM', 'C': 7.365767281139951, 'kernel': 'linear', 'gamma': 'scale'}. Best is trial 19 with value: 0.7858472998137801.\n",
            "[I 2025-06-01 17:55:38,548] Trial 24 finished with value: 0.7858472998137801 and parameters: {'classifier': 'SVM', 'C': 14.89679829400297, 'kernel': 'linear', 'gamma': 'scale'}. Best is trial 19 with value: 0.7858472998137801.\n",
            "[I 2025-06-01 17:55:38,584] Trial 25 finished with value: 0.7858472998137801 and parameters: {'classifier': 'SVM', 'C': 2.402360004198655, 'kernel': 'linear', 'gamma': 'scale'}. Best is trial 19 with value: 0.7858472998137801.\n",
            "[I 2025-06-01 17:55:38,717] Trial 26 finished with value: 0.7858472998137801 and parameters: {'classifier': 'SVM', 'C': 42.5690245374198, 'kernel': 'linear', 'gamma': 'scale'}. Best is trial 19 with value: 0.7858472998137801.\n",
            "[I 2025-06-01 17:55:38,747] Trial 27 finished with value: 0.7858472998137801 and parameters: {'classifier': 'SVM', 'C': 3.660683418693718, 'kernel': 'linear', 'gamma': 'scale'}. Best is trial 19 with value: 0.7858472998137801.\n",
            "[I 2025-06-01 17:55:38,815] Trial 28 finished with value: 0.7858472998137801 and parameters: {'classifier': 'SVM', 'C': 20.222227007283216, 'kernel': 'linear', 'gamma': 'scale'}. Best is trial 19 with value: 0.7858472998137801.\n",
            "[I 2025-06-01 17:55:38,866] Trial 29 finished with value: 0.7299813780260708 and parameters: {'classifier': 'SVM', 'C': 1.7646604884734456, 'kernel': 'poly', 'gamma': 'scale'}. Best is trial 19 with value: 0.7858472998137801.\n",
            "[I 2025-06-01 17:55:38,896] Trial 30 finished with value: 0.7094972067039106 and parameters: {'classifier': 'SVM', 'C': 6.146968176070434, 'kernel': 'sigmoid', 'gamma': 'auto'}. Best is trial 19 with value: 0.7858472998137801.\n",
            "[I 2025-06-01 17:55:38,966] Trial 31 finished with value: 0.7858472998137801 and parameters: {'classifier': 'SVM', 'C': 18.77291030052834, 'kernel': 'linear', 'gamma': 'scale'}. Best is trial 19 with value: 0.7858472998137801.\n",
            "[I 2025-06-01 17:55:39,026] Trial 32 finished with value: 0.7858472998137801 and parameters: {'classifier': 'SVM', 'C': 14.698923822405488, 'kernel': 'linear', 'gamma': 'scale'}. Best is trial 19 with value: 0.7858472998137801.\n",
            "[I 2025-06-01 17:55:39,124] Trial 33 finished with value: 0.7858472998137801 and parameters: {'classifier': 'SVM', 'C': 30.717474855390588, 'kernel': 'linear', 'gamma': 'scale'}. Best is trial 19 with value: 0.7858472998137801.\n",
            "[I 2025-06-01 17:55:39,156] Trial 34 finished with value: 0.7579143389199255 and parameters: {'classifier': 'SVM', 'C': 13.14465497414426, 'kernel': 'rbf', 'gamma': 'scale'}. Best is trial 19 with value: 0.7858472998137801.\n",
            "[I 2025-06-01 17:55:39,344] Trial 35 finished with value: 0.7858472998137801 and parameters: {'classifier': 'SVM', 'C': 92.08175645436157, 'kernel': 'linear', 'gamma': 'scale'}. Best is trial 19 with value: 0.7858472998137801.\n",
            "[I 2025-06-01 17:55:40,277] Trial 36 finished with value: 0.7392923649906891 and parameters: {'classifier': 'GradientBoosting', 'n_estimators': 278, 'learning_rate': 0.25864715498278573, 'max_depth': 3, 'min_samples_split': 4, 'min_samples_leaf': 1}. Best is trial 19 with value: 0.7858472998137801.\n",
            "[I 2025-06-01 17:55:40,320] Trial 37 finished with value: 0.7858472998137801 and parameters: {'classifier': 'SVM', 'C': 7.432764685862199, 'kernel': 'linear', 'gamma': 'scale'}. Best is trial 19 with value: 0.7858472998137801.\n",
            "[I 2025-06-01 17:55:40,347] Trial 38 finished with value: 0.7858472998137803 and parameters: {'classifier': 'SVM', 'C': 0.8783630870719056, 'kernel': 'linear', 'gamma': 'scale'}. Best is trial 38 with value: 0.7858472998137803.\n",
            "[I 2025-06-01 17:55:41,807] Trial 39 finished with value: 0.750465549348231 and parameters: {'classifier': 'GradientBoosting', 'n_estimators': 225, 'learning_rate': 0.050980157901063076, 'max_depth': 6, 'min_samples_split': 5, 'min_samples_leaf': 2}. Best is trial 38 with value: 0.7858472998137803.\n",
            "[I 2025-06-01 17:55:41,830] Trial 40 finished with value: 0.7858472998137803 and parameters: {'classifier': 'SVM', 'C': 0.6911816277539008, 'kernel': 'linear', 'gamma': 'scale'}. Best is trial 38 with value: 0.7858472998137803.\n",
            "[I 2025-06-01 17:55:41,851] Trial 41 finished with value: 0.7839851024208566 and parameters: {'classifier': 'SVM', 'C': 0.4914551109531892, 'kernel': 'linear', 'gamma': 'scale'}. Best is trial 38 with value: 0.7858472998137803.\n",
            "[I 2025-06-01 17:55:41,880] Trial 42 finished with value: 0.7858472998137803 and parameters: {'classifier': 'SVM', 'C': 0.788913472631417, 'kernel': 'linear', 'gamma': 'scale'}. Best is trial 38 with value: 0.7858472998137803.\n",
            "[I 2025-06-01 17:55:41,904] Trial 43 finished with value: 0.7839851024208566 and parameters: {'classifier': 'SVM', 'C': 0.9896791430951164, 'kernel': 'linear', 'gamma': 'scale'}. Best is trial 38 with value: 0.7858472998137803.\n",
            "[I 2025-06-01 17:55:41,928] Trial 44 finished with value: 0.7839851024208566 and parameters: {'classifier': 'SVM', 'C': 0.4856534533789343, 'kernel': 'linear', 'gamma': 'scale'}. Best is trial 38 with value: 0.7858472998137803.\n",
            "[I 2025-06-01 17:55:42,890] Trial 45 finished with value: 0.7430167597765363 and parameters: {'classifier': 'GradientBoosting', 'n_estimators': 151, 'learning_rate': 0.11206473993683186, 'max_depth': 6, 'min_samples_split': 6, 'min_samples_leaf': 1}. Best is trial 38 with value: 0.7858472998137803.\n",
            "[I 2025-06-01 17:55:42,913] Trial 46 finished with value: 0.7430167597765363 and parameters: {'classifier': 'SVM', 'C': 0.7682769718876133, 'kernel': 'sigmoid', 'gamma': 'auto'}. Best is trial 38 with value: 0.7858472998137803.\n",
            "[I 2025-06-01 17:55:42,944] Trial 47 finished with value: 0.7672253258845437 and parameters: {'classifier': 'SVM', 'C': 0.36807150984547415, 'kernel': 'rbf', 'gamma': 'scale'}. Best is trial 38 with value: 0.7858472998137803.\n",
            "[I 2025-06-01 17:55:42,964] Trial 48 finished with value: 0.7299813780260708 and parameters: {'classifier': 'SVM', 'C': 1.0567910980823676, 'kernel': 'poly', 'gamma': 'scale'}. Best is trial 38 with value: 0.7858472998137803.\n",
            "[I 2025-06-01 17:55:44,660] Trial 49 finished with value: 0.7448789571694601 and parameters: {'classifier': 'GradientBoosting', 'n_estimators': 230, 'learning_rate': 0.028949834865695637, 'max_depth': 8, 'min_samples_split': 3, 'min_samples_leaf': 5}. Best is trial 38 with value: 0.7858472998137803.\n",
            "[I 2025-06-01 17:55:44,683] Trial 50 finished with value: 0.7858472998137803 and parameters: {'classifier': 'SVM', 'C': 0.25261786636794736, 'kernel': 'linear', 'gamma': 'scale'}. Best is trial 38 with value: 0.7858472998137803.\n",
            "[I 2025-06-01 17:55:44,708] Trial 51 finished with value: 0.7858472998137803 and parameters: {'classifier': 'SVM', 'C': 0.23669275081315738, 'kernel': 'linear', 'gamma': 'scale'}. Best is trial 38 with value: 0.7858472998137803.\n",
            "[I 2025-06-01 17:55:44,729] Trial 52 finished with value: 0.7858472998137803 and parameters: {'classifier': 'SVM', 'C': 0.22758861154827478, 'kernel': 'linear', 'gamma': 'scale'}. Best is trial 38 with value: 0.7858472998137803.\n",
            "[I 2025-06-01 17:55:44,753] Trial 53 finished with value: 0.7579143389199254 and parameters: {'classifier': 'SVM', 'C': 0.2395612961098211, 'kernel': 'sigmoid', 'gamma': 'scale'}. Best is trial 38 with value: 0.7858472998137803.\n",
            "[I 2025-06-01 17:55:44,773] Trial 54 finished with value: 0.7858472998137803 and parameters: {'classifier': 'SVM', 'C': 0.18989852784652134, 'kernel': 'linear', 'gamma': 'scale'}. Best is trial 38 with value: 0.7858472998137803.\n",
            "[I 2025-06-01 17:55:44,796] Trial 55 finished with value: 0.7877094972067038 and parameters: {'classifier': 'SVM', 'C': 0.10445604318844649, 'kernel': 'linear', 'gamma': 'auto'}. Best is trial 55 with value: 0.7877094972067038.\n",
            "[I 2025-06-01 17:55:44,830] Trial 56 finished with value: 0.7318435754189944 and parameters: {'classifier': 'SVM', 'C': 0.11138232191070899, 'kernel': 'rbf', 'gamma': 'auto'}. Best is trial 55 with value: 0.7877094972067038.\n",
            "[I 2025-06-01 17:55:44,887] Trial 57 finished with value: 0.7858472998137803 and parameters: {'classifier': 'SVM', 'C': 0.31579920757159674, 'kernel': 'linear', 'gamma': 'auto'}. Best is trial 55 with value: 0.7877094972067038.\n",
            "[I 2025-06-01 17:55:44,907] Trial 58 finished with value: 0.7113594040968342 and parameters: {'classifier': 'SVM', 'C': 0.12089134144414453, 'kernel': 'poly', 'gamma': 'auto'}. Best is trial 55 with value: 0.7877094972067038.\n",
            "[I 2025-06-01 17:55:44,933] Trial 59 finished with value: 0.7858472998137803 and parameters: {'classifier': 'SVM', 'C': 0.6986990706203386, 'kernel': 'linear', 'gamma': 'auto'}. Best is trial 55 with value: 0.7877094972067038.\n",
            "[I 2025-06-01 17:55:45,773] Trial 60 finished with value: 0.7597765363128491 and parameters: {'classifier': 'RandomForest', 'n_estimators': 254, 'max_depth': 5, 'min_samples_split': 5, 'min_samples_leaf': 6, 'bootstrap': True}. Best is trial 55 with value: 0.7877094972067038.\n",
            "[I 2025-06-01 17:55:45,794] Trial 61 finished with value: 0.7877094972067038 and parameters: {'classifier': 'SVM', 'C': 0.1852652558185079, 'kernel': 'linear', 'gamma': 'auto'}. Best is trial 55 with value: 0.7877094972067038.\n",
            "[I 2025-06-01 17:55:45,814] Trial 62 finished with value: 0.7895716945996275 and parameters: {'classifier': 'SVM', 'C': 0.14978949624524346, 'kernel': 'linear', 'gamma': 'auto'}. Best is trial 62 with value: 0.7895716945996275.\n",
            "[I 2025-06-01 17:55:45,835] Trial 63 finished with value: 0.7895716945996275 and parameters: {'classifier': 'SVM', 'C': 0.14428654673595517, 'kernel': 'linear', 'gamma': 'auto'}. Best is trial 62 with value: 0.7895716945996275.\n",
            "[I 2025-06-01 17:55:45,855] Trial 64 finished with value: 0.7895716945996275 and parameters: {'classifier': 'SVM', 'C': 0.14388107422387664, 'kernel': 'linear', 'gamma': 'auto'}. Best is trial 62 with value: 0.7895716945996275.\n",
            "[I 2025-06-01 17:55:45,876] Trial 65 finished with value: 0.7895716945996275 and parameters: {'classifier': 'SVM', 'C': 0.14619369674817487, 'kernel': 'linear', 'gamma': 'auto'}. Best is trial 62 with value: 0.7895716945996275.\n",
            "[I 2025-06-01 17:55:45,897] Trial 66 finished with value: 0.7895716945996275 and parameters: {'classifier': 'SVM', 'C': 0.1513296062251642, 'kernel': 'linear', 'gamma': 'auto'}. Best is trial 62 with value: 0.7895716945996275.\n",
            "[I 2025-06-01 17:55:45,918] Trial 67 finished with value: 0.7877094972067038 and parameters: {'classifier': 'SVM', 'C': 0.15600966001028665, 'kernel': 'linear', 'gamma': 'auto'}. Best is trial 62 with value: 0.7895716945996275.\n",
            "[I 2025-06-01 17:55:45,937] Trial 68 finished with value: 0.7877094972067038 and parameters: {'classifier': 'SVM', 'C': 0.15766331963416758, 'kernel': 'linear', 'gamma': 'auto'}. Best is trial 62 with value: 0.7895716945996275.\n",
            "[I 2025-06-01 17:55:46,928] Trial 69 finished with value: 0.7635009310986964 and parameters: {'classifier': 'RandomForest', 'n_estimators': 299, 'max_depth': 16, 'min_samples_split': 3, 'min_samples_leaf': 4, 'bootstrap': True}. Best is trial 62 with value: 0.7895716945996275.\n",
            "[I 2025-06-01 17:55:48,081] Trial 70 finished with value: 0.7467411545623835 and parameters: {'classifier': 'GradientBoosting', 'n_estimators': 210, 'learning_rate': 0.29646063577889237, 'max_depth': 12, 'min_samples_split': 7, 'min_samples_leaf': 2}. Best is trial 62 with value: 0.7895716945996275.\n",
            "[I 2025-06-01 17:55:48,099] Trial 71 finished with value: 0.7877094972067038 and parameters: {'classifier': 'SVM', 'C': 0.10387155362650502, 'kernel': 'linear', 'gamma': 'auto'}. Best is trial 62 with value: 0.7895716945996275.\n",
            "[I 2025-06-01 17:55:48,120] Trial 72 finished with value: 0.7877094972067038 and parameters: {'classifier': 'SVM', 'C': 0.17041975567890483, 'kernel': 'linear', 'gamma': 'auto'}. Best is trial 62 with value: 0.7895716945996275.\n",
            "[I 2025-06-01 17:55:48,138] Trial 73 finished with value: 0.7895716945996275 and parameters: {'classifier': 'SVM', 'C': 0.14659045660763312, 'kernel': 'linear', 'gamma': 'auto'}. Best is trial 62 with value: 0.7895716945996275.\n",
            "[I 2025-06-01 17:55:48,159] Trial 74 finished with value: 0.7895716945996275 and parameters: {'classifier': 'SVM', 'C': 0.1402034787516571, 'kernel': 'linear', 'gamma': 'auto'}. Best is trial 62 with value: 0.7895716945996275.\n",
            "[I 2025-06-01 17:55:48,178] Trial 75 finished with value: 0.7895716945996275 and parameters: {'classifier': 'SVM', 'C': 0.12646823813019392, 'kernel': 'linear', 'gamma': 'auto'}. Best is trial 62 with value: 0.7895716945996275.\n",
            "[I 2025-06-01 17:55:48,199] Trial 76 finished with value: 0.7895716945996275 and parameters: {'classifier': 'SVM', 'C': 0.13471627129590805, 'kernel': 'linear', 'gamma': 'auto'}. Best is trial 62 with value: 0.7895716945996275.\n",
            "[I 2025-06-01 17:55:48,221] Trial 77 finished with value: 0.7616387337057727 and parameters: {'classifier': 'SVM', 'C': 0.32772112835713524, 'kernel': 'sigmoid', 'gamma': 'auto'}. Best is trial 62 with value: 0.7895716945996275.\n",
            "[I 2025-06-01 17:55:48,241] Trial 78 finished with value: 0.7113594040968342 and parameters: {'classifier': 'SVM', 'C': 0.1390623188609795, 'kernel': 'poly', 'gamma': 'auto'}. Best is trial 62 with value: 0.7895716945996275.\n",
            "[I 2025-06-01 17:55:48,263] Trial 79 finished with value: 0.7858472998137803 and parameters: {'classifier': 'SVM', 'C': 0.19978910873295627, 'kernel': 'linear', 'gamma': 'auto'}. Best is trial 62 with value: 0.7895716945996275.\n",
            "[I 2025-06-01 17:55:48,283] Trial 80 finished with value: 0.7858472998137803 and parameters: {'classifier': 'SVM', 'C': 0.2947221159715215, 'kernel': 'linear', 'gamma': 'auto'}. Best is trial 62 with value: 0.7895716945996275.\n",
            "[I 2025-06-01 17:55:48,304] Trial 81 finished with value: 0.7895716945996275 and parameters: {'classifier': 'SVM', 'C': 0.13512991994818188, 'kernel': 'linear', 'gamma': 'auto'}. Best is trial 62 with value: 0.7895716945996275.\n",
            "[I 2025-06-01 17:55:48,323] Trial 82 finished with value: 0.7895716945996275 and parameters: {'classifier': 'SVM', 'C': 0.13895058945693162, 'kernel': 'linear', 'gamma': 'auto'}. Best is trial 62 with value: 0.7895716945996275.\n",
            "[I 2025-06-01 17:55:48,345] Trial 83 finished with value: 0.7877094972067038 and parameters: {'classifier': 'SVM', 'C': 0.1005799496288374, 'kernel': 'linear', 'gamma': 'auto'}. Best is trial 62 with value: 0.7895716945996275.\n",
            "[I 2025-06-01 17:55:48,364] Trial 84 finished with value: 0.7877094972067038 and parameters: {'classifier': 'SVM', 'C': 0.1697029365438702, 'kernel': 'linear', 'gamma': 'auto'}. Best is trial 62 with value: 0.7895716945996275.\n",
            "[I 2025-06-01 17:55:48,384] Trial 85 finished with value: 0.7895716945996275 and parameters: {'classifier': 'SVM', 'C': 0.1367854281984261, 'kernel': 'linear', 'gamma': 'auto'}. Best is trial 62 with value: 0.7895716945996275.\n",
            "[I 2025-06-01 17:55:48,416] Trial 86 finished with value: 0.7597765363128492 and parameters: {'classifier': 'SVM', 'C': 0.2110102166433182, 'kernel': 'rbf', 'gamma': 'auto'}. Best is trial 62 with value: 0.7895716945996275.\n",
            "[I 2025-06-01 17:55:48,710] Trial 87 finished with value: 0.756052141527002 and parameters: {'classifier': 'RandomForest', 'n_estimators': 87, 'max_depth': 18, 'min_samples_split': 8, 'min_samples_leaf': 7, 'bootstrap': True}. Best is trial 62 with value: 0.7895716945996275.\n",
            "[I 2025-06-01 17:55:48,731] Trial 88 finished with value: 0.7839851024208566 and parameters: {'classifier': 'SVM', 'C': 0.4586501512325971, 'kernel': 'linear', 'gamma': 'auto'}. Best is trial 62 with value: 0.7895716945996275.\n",
            "[I 2025-06-01 17:55:48,754] Trial 89 finished with value: 0.7895716945996275 and parameters: {'classifier': 'SVM', 'C': 0.12765294780627467, 'kernel': 'linear', 'gamma': 'auto'}. Best is trial 62 with value: 0.7895716945996275.\n",
            "[I 2025-06-01 17:55:49,922] Trial 90 finished with value: 0.756052141527002 and parameters: {'classifier': 'GradientBoosting', 'n_estimators': 148, 'learning_rate': 0.09857882282038208, 'max_depth': 8, 'min_samples_split': 6, 'min_samples_leaf': 4}. Best is trial 62 with value: 0.7895716945996275.\n",
            "[I 2025-06-01 17:55:49,941] Trial 91 finished with value: 0.7895716945996275 and parameters: {'classifier': 'SVM', 'C': 0.14405580653377215, 'kernel': 'linear', 'gamma': 'auto'}. Best is trial 62 with value: 0.7895716945996275.\n",
            "[I 2025-06-01 17:55:50,002] Trial 92 finished with value: 0.7877094972067038 and parameters: {'classifier': 'SVM', 'C': 0.1765470693683796, 'kernel': 'linear', 'gamma': 'auto'}. Best is trial 62 with value: 0.7895716945996275.\n",
            "[I 2025-06-01 17:55:50,023] Trial 93 finished with value: 0.7858472998137803 and parameters: {'classifier': 'SVM', 'C': 0.2687775674501144, 'kernel': 'linear', 'gamma': 'auto'}. Best is trial 62 with value: 0.7895716945996275.\n",
            "[I 2025-06-01 17:55:50,045] Trial 94 finished with value: 0.7895716945996275 and parameters: {'classifier': 'SVM', 'C': 0.13279918933854998, 'kernel': 'linear', 'gamma': 'auto'}. Best is trial 62 with value: 0.7895716945996275.\n",
            "[I 2025-06-01 17:55:50,066] Trial 95 finished with value: 0.7821229050279329 and parameters: {'classifier': 'SVM', 'C': 0.3825006231186747, 'kernel': 'linear', 'gamma': 'auto'}. Best is trial 62 with value: 0.7895716945996275.\n",
            "[I 2025-06-01 17:55:50,086] Trial 96 finished with value: 0.7858472998137803 and parameters: {'classifier': 'SVM', 'C': 0.218163841098319, 'kernel': 'linear', 'gamma': 'auto'}. Best is trial 62 with value: 0.7895716945996275.\n",
            "[I 2025-06-01 17:55:50,104] Trial 97 finished with value: 0.7877094972067038 and parameters: {'classifier': 'SVM', 'C': 0.10194010954151454, 'kernel': 'linear', 'gamma': 'auto'}. Best is trial 62 with value: 0.7895716945996275.\n",
            "[I 2025-06-01 17:55:50,127] Trial 98 finished with value: 0.7895716945996275 and parameters: {'classifier': 'SVM', 'C': 0.1270610584447614, 'kernel': 'linear', 'gamma': 'auto'}. Best is trial 62 with value: 0.7895716945996275.\n",
            "[I 2025-06-01 17:55:50,152] Trial 99 finished with value: 0.7709497206703911 and parameters: {'classifier': 'SVM', 'C': 0.16894278669837987, 'kernel': 'sigmoid', 'gamma': 'auto'}. Best is trial 62 with value: 0.7895716945996275.\n"
          ]
        }
      ],
      "source": [
        "# Create a study and optimize it using CmaEsSampler\n",
        "study = optuna.create_study(direction='maximize')\n",
        "study.optimize(objective, n_trials=100)"
      ]
    },
    {
      "cell_type": "code",
      "execution_count": 19,
      "metadata": {
        "colab": {
          "base_uri": "https://localhost:8080/"
        },
        "id": "jLNRO9POBzbW",
        "outputId": "769a9cdf-dc13-4093-b029-875536452690"
      },
      "outputs": [
        {
          "name": "stdout",
          "output_type": "stream",
          "text": [
            "Best trial parameters: {'classifier': 'SVM', 'C': 0.14978949624524346, 'kernel': 'linear', 'gamma': 'auto'}\n",
            "Best trial accuracy: 0.7895716945996275\n"
          ]
        }
      ],
      "source": [
        "# Retrieve the best trial\n",
        "best_trial = study.best_trial\n",
        "print(\"Best trial parameters:\", best_trial.params)\n",
        "print(\"Best trial accuracy:\", best_trial.value)"
      ]
    },
    {
      "cell_type": "code",
      "execution_count": 20,
      "metadata": {
        "colab": {
          "base_uri": "https://localhost:8080/",
          "height": 617
        },
        "id": "QD74lBzvB6Q5",
        "outputId": "d9f3eb63-ce25-4c56-db57-211ac8e3c85b"
      },
      "outputs": [
        {
          "data": {
            "text/html": [
              "<div>\n",
              "<style scoped>\n",
              "    .dataframe tbody tr th:only-of-type {\n",
              "        vertical-align: middle;\n",
              "    }\n",
              "\n",
              "    .dataframe tbody tr th {\n",
              "        vertical-align: top;\n",
              "    }\n",
              "\n",
              "    .dataframe thead th {\n",
              "        text-align: right;\n",
              "    }\n",
              "</style>\n",
              "<table border=\"1\" class=\"dataframe\">\n",
              "  <thead>\n",
              "    <tr style=\"text-align: right;\">\n",
              "      <th></th>\n",
              "      <th>number</th>\n",
              "      <th>value</th>\n",
              "      <th>datetime_start</th>\n",
              "      <th>datetime_complete</th>\n",
              "      <th>duration</th>\n",
              "      <th>params_C</th>\n",
              "      <th>params_bootstrap</th>\n",
              "      <th>params_classifier</th>\n",
              "      <th>params_gamma</th>\n",
              "      <th>params_kernel</th>\n",
              "      <th>params_learning_rate</th>\n",
              "      <th>params_max_depth</th>\n",
              "      <th>params_min_samples_leaf</th>\n",
              "      <th>params_min_samples_split</th>\n",
              "      <th>params_n_estimators</th>\n",
              "      <th>state</th>\n",
              "    </tr>\n",
              "  </thead>\n",
              "  <tbody>\n",
              "    <tr>\n",
              "      <th>0</th>\n",
              "      <td>0</td>\n",
              "      <td>0.748603</td>\n",
              "      <td>2025-06-01 17:55:28.061334</td>\n",
              "      <td>2025-06-01 17:55:29.409388</td>\n",
              "      <td>0 days 00:00:01.348054</td>\n",
              "      <td>NaN</td>\n",
              "      <td>NaN</td>\n",
              "      <td>GradientBoosting</td>\n",
              "      <td>NaN</td>\n",
              "      <td>NaN</td>\n",
              "      <td>0.016720</td>\n",
              "      <td>6.0</td>\n",
              "      <td>3.0</td>\n",
              "      <td>6.0</td>\n",
              "      <td>177.0</td>\n",
              "      <td>COMPLETE</td>\n",
              "    </tr>\n",
              "    <tr>\n",
              "      <th>1</th>\n",
              "      <td>1</td>\n",
              "      <td>0.763501</td>\n",
              "      <td>2025-06-01 17:55:29.410241</td>\n",
              "      <td>2025-06-01 17:55:30.353249</td>\n",
              "      <td>0 days 00:00:00.943008</td>\n",
              "      <td>NaN</td>\n",
              "      <td>True</td>\n",
              "      <td>RandomForest</td>\n",
              "      <td>NaN</td>\n",
              "      <td>NaN</td>\n",
              "      <td>NaN</td>\n",
              "      <td>9.0</td>\n",
              "      <td>4.0</td>\n",
              "      <td>2.0</td>\n",
              "      <td>282.0</td>\n",
              "      <td>COMPLETE</td>\n",
              "    </tr>\n",
              "    <tr>\n",
              "      <th>2</th>\n",
              "      <td>2</td>\n",
              "      <td>0.770950</td>\n",
              "      <td>2025-06-01 17:55:30.354134</td>\n",
              "      <td>2025-06-01 17:55:30.523086</td>\n",
              "      <td>0 days 00:00:00.168952</td>\n",
              "      <td>NaN</td>\n",
              "      <td>False</td>\n",
              "      <td>RandomForest</td>\n",
              "      <td>NaN</td>\n",
              "      <td>NaN</td>\n",
              "      <td>NaN</td>\n",
              "      <td>13.0</td>\n",
              "      <td>8.0</td>\n",
              "      <td>9.0</td>\n",
              "      <td>60.0</td>\n",
              "      <td>COMPLETE</td>\n",
              "    </tr>\n",
              "    <tr>\n",
              "      <th>3</th>\n",
              "      <td>3</td>\n",
              "      <td>0.765363</td>\n",
              "      <td>2025-06-01 17:55:30.523966</td>\n",
              "      <td>2025-06-01 17:55:30.705198</td>\n",
              "      <td>0 days 00:00:00.181232</td>\n",
              "      <td>NaN</td>\n",
              "      <td>False</td>\n",
              "      <td>RandomForest</td>\n",
              "      <td>NaN</td>\n",
              "      <td>NaN</td>\n",
              "      <td>NaN</td>\n",
              "      <td>11.0</td>\n",
              "      <td>6.0</td>\n",
              "      <td>4.0</td>\n",
              "      <td>62.0</td>\n",
              "      <td>COMPLETE</td>\n",
              "    </tr>\n",
              "    <tr>\n",
              "      <th>4</th>\n",
              "      <td>4</td>\n",
              "      <td>0.728119</td>\n",
              "      <td>2025-06-01 17:55:30.706051</td>\n",
              "      <td>2025-06-01 17:55:32.877594</td>\n",
              "      <td>0 days 00:00:02.171543</td>\n",
              "      <td>NaN</td>\n",
              "      <td>NaN</td>\n",
              "      <td>GradientBoosting</td>\n",
              "      <td>NaN</td>\n",
              "      <td>NaN</td>\n",
              "      <td>0.042239</td>\n",
              "      <td>18.0</td>\n",
              "      <td>3.0</td>\n",
              "      <td>9.0</td>\n",
              "      <td>187.0</td>\n",
              "      <td>COMPLETE</td>\n",
              "    </tr>\n",
              "    <tr>\n",
              "      <th>...</th>\n",
              "      <td>...</td>\n",
              "      <td>...</td>\n",
              "      <td>...</td>\n",
              "      <td>...</td>\n",
              "      <td>...</td>\n",
              "      <td>...</td>\n",
              "      <td>...</td>\n",
              "      <td>...</td>\n",
              "      <td>...</td>\n",
              "      <td>...</td>\n",
              "      <td>...</td>\n",
              "      <td>...</td>\n",
              "      <td>...</td>\n",
              "      <td>...</td>\n",
              "      <td>...</td>\n",
              "      <td>...</td>\n",
              "    </tr>\n",
              "    <tr>\n",
              "      <th>95</th>\n",
              "      <td>95</td>\n",
              "      <td>0.782123</td>\n",
              "      <td>2025-06-01 17:55:50.045763</td>\n",
              "      <td>2025-06-01 17:55:50.066200</td>\n",
              "      <td>0 days 00:00:00.020437</td>\n",
              "      <td>0.382501</td>\n",
              "      <td>NaN</td>\n",
              "      <td>SVM</td>\n",
              "      <td>auto</td>\n",
              "      <td>linear</td>\n",
              "      <td>NaN</td>\n",
              "      <td>NaN</td>\n",
              "      <td>NaN</td>\n",
              "      <td>NaN</td>\n",
              "      <td>NaN</td>\n",
              "      <td>COMPLETE</td>\n",
              "    </tr>\n",
              "    <tr>\n",
              "      <th>96</th>\n",
              "      <td>96</td>\n",
              "      <td>0.785847</td>\n",
              "      <td>2025-06-01 17:55:50.066931</td>\n",
              "      <td>2025-06-01 17:55:50.086198</td>\n",
              "      <td>0 days 00:00:00.019267</td>\n",
              "      <td>0.218164</td>\n",
              "      <td>NaN</td>\n",
              "      <td>SVM</td>\n",
              "      <td>auto</td>\n",
              "      <td>linear</td>\n",
              "      <td>NaN</td>\n",
              "      <td>NaN</td>\n",
              "      <td>NaN</td>\n",
              "      <td>NaN</td>\n",
              "      <td>NaN</td>\n",
              "      <td>COMPLETE</td>\n",
              "    </tr>\n",
              "    <tr>\n",
              "      <th>97</th>\n",
              "      <td>97</td>\n",
              "      <td>0.787709</td>\n",
              "      <td>2025-06-01 17:55:50.086946</td>\n",
              "      <td>2025-06-01 17:55:50.104779</td>\n",
              "      <td>0 days 00:00:00.017833</td>\n",
              "      <td>0.101940</td>\n",
              "      <td>NaN</td>\n",
              "      <td>SVM</td>\n",
              "      <td>auto</td>\n",
              "      <td>linear</td>\n",
              "      <td>NaN</td>\n",
              "      <td>NaN</td>\n",
              "      <td>NaN</td>\n",
              "      <td>NaN</td>\n",
              "      <td>NaN</td>\n",
              "      <td>COMPLETE</td>\n",
              "    </tr>\n",
              "    <tr>\n",
              "      <th>98</th>\n",
              "      <td>98</td>\n",
              "      <td>0.789572</td>\n",
              "      <td>2025-06-01 17:55:50.105518</td>\n",
              "      <td>2025-06-01 17:55:50.127627</td>\n",
              "      <td>0 days 00:00:00.022109</td>\n",
              "      <td>0.127061</td>\n",
              "      <td>NaN</td>\n",
              "      <td>SVM</td>\n",
              "      <td>auto</td>\n",
              "      <td>linear</td>\n",
              "      <td>NaN</td>\n",
              "      <td>NaN</td>\n",
              "      <td>NaN</td>\n",
              "      <td>NaN</td>\n",
              "      <td>NaN</td>\n",
              "      <td>COMPLETE</td>\n",
              "    </tr>\n",
              "    <tr>\n",
              "      <th>99</th>\n",
              "      <td>99</td>\n",
              "      <td>0.770950</td>\n",
              "      <td>2025-06-01 17:55:50.128886</td>\n",
              "      <td>2025-06-01 17:55:50.152649</td>\n",
              "      <td>0 days 00:00:00.023763</td>\n",
              "      <td>0.168943</td>\n",
              "      <td>NaN</td>\n",
              "      <td>SVM</td>\n",
              "      <td>auto</td>\n",
              "      <td>sigmoid</td>\n",
              "      <td>NaN</td>\n",
              "      <td>NaN</td>\n",
              "      <td>NaN</td>\n",
              "      <td>NaN</td>\n",
              "      <td>NaN</td>\n",
              "      <td>COMPLETE</td>\n",
              "    </tr>\n",
              "  </tbody>\n",
              "</table>\n",
              "<p>100 rows × 16 columns</p>\n",
              "</div>"
            ],
            "text/plain": [
              "    number     value             datetime_start          datetime_complete  \\\n",
              "0        0  0.748603 2025-06-01 17:55:28.061334 2025-06-01 17:55:29.409388   \n",
              "1        1  0.763501 2025-06-01 17:55:29.410241 2025-06-01 17:55:30.353249   \n",
              "2        2  0.770950 2025-06-01 17:55:30.354134 2025-06-01 17:55:30.523086   \n",
              "3        3  0.765363 2025-06-01 17:55:30.523966 2025-06-01 17:55:30.705198   \n",
              "4        4  0.728119 2025-06-01 17:55:30.706051 2025-06-01 17:55:32.877594   \n",
              "..     ...       ...                        ...                        ...   \n",
              "95      95  0.782123 2025-06-01 17:55:50.045763 2025-06-01 17:55:50.066200   \n",
              "96      96  0.785847 2025-06-01 17:55:50.066931 2025-06-01 17:55:50.086198   \n",
              "97      97  0.787709 2025-06-01 17:55:50.086946 2025-06-01 17:55:50.104779   \n",
              "98      98  0.789572 2025-06-01 17:55:50.105518 2025-06-01 17:55:50.127627   \n",
              "99      99  0.770950 2025-06-01 17:55:50.128886 2025-06-01 17:55:50.152649   \n",
              "\n",
              "                 duration  params_C params_bootstrap params_classifier  \\\n",
              "0  0 days 00:00:01.348054       NaN              NaN  GradientBoosting   \n",
              "1  0 days 00:00:00.943008       NaN             True      RandomForest   \n",
              "2  0 days 00:00:00.168952       NaN            False      RandomForest   \n",
              "3  0 days 00:00:00.181232       NaN            False      RandomForest   \n",
              "4  0 days 00:00:02.171543       NaN              NaN  GradientBoosting   \n",
              "..                    ...       ...              ...               ...   \n",
              "95 0 days 00:00:00.020437  0.382501              NaN               SVM   \n",
              "96 0 days 00:00:00.019267  0.218164              NaN               SVM   \n",
              "97 0 days 00:00:00.017833  0.101940              NaN               SVM   \n",
              "98 0 days 00:00:00.022109  0.127061              NaN               SVM   \n",
              "99 0 days 00:00:00.023763  0.168943              NaN               SVM   \n",
              "\n",
              "   params_gamma params_kernel  params_learning_rate  params_max_depth  \\\n",
              "0           NaN           NaN              0.016720               6.0   \n",
              "1           NaN           NaN                   NaN               9.0   \n",
              "2           NaN           NaN                   NaN              13.0   \n",
              "3           NaN           NaN                   NaN              11.0   \n",
              "4           NaN           NaN              0.042239              18.0   \n",
              "..          ...           ...                   ...               ...   \n",
              "95         auto        linear                   NaN               NaN   \n",
              "96         auto        linear                   NaN               NaN   \n",
              "97         auto        linear                   NaN               NaN   \n",
              "98         auto        linear                   NaN               NaN   \n",
              "99         auto       sigmoid                   NaN               NaN   \n",
              "\n",
              "    params_min_samples_leaf  params_min_samples_split  params_n_estimators  \\\n",
              "0                       3.0                       6.0                177.0   \n",
              "1                       4.0                       2.0                282.0   \n",
              "2                       8.0                       9.0                 60.0   \n",
              "3                       6.0                       4.0                 62.0   \n",
              "4                       3.0                       9.0                187.0   \n",
              "..                      ...                       ...                  ...   \n",
              "95                      NaN                       NaN                  NaN   \n",
              "96                      NaN                       NaN                  NaN   \n",
              "97                      NaN                       NaN                  NaN   \n",
              "98                      NaN                       NaN                  NaN   \n",
              "99                      NaN                       NaN                  NaN   \n",
              "\n",
              "       state  \n",
              "0   COMPLETE  \n",
              "1   COMPLETE  \n",
              "2   COMPLETE  \n",
              "3   COMPLETE  \n",
              "4   COMPLETE  \n",
              "..       ...  \n",
              "95  COMPLETE  \n",
              "96  COMPLETE  \n",
              "97  COMPLETE  \n",
              "98  COMPLETE  \n",
              "99  COMPLETE  \n",
              "\n",
              "[100 rows x 16 columns]"
            ]
          },
          "execution_count": 20,
          "metadata": {},
          "output_type": "execute_result"
        }
      ],
      "source": [
        "study.trials_dataframe()"
      ]
    },
    {
      "cell_type": "code",
      "execution_count": 21,
      "metadata": {
        "colab": {
          "base_uri": "https://localhost:8080/",
          "height": 209
        },
        "id": "FYO7J-SXB9MY",
        "outputId": "d818d28e-f179-4168-f40a-7d3d889759db"
      },
      "outputs": [
        {
          "data": {
            "text/plain": [
              "params_classifier\n",
              "SVM                 75\n",
              "RandomForest        15\n",
              "GradientBoosting    10\n",
              "Name: count, dtype: int64"
            ]
          },
          "execution_count": 21,
          "metadata": {},
          "output_type": "execute_result"
        }
      ],
      "source": [
        "study.trials_dataframe()['params_classifier'].value_counts()"
      ]
    },
    {
      "cell_type": "code",
      "execution_count": 22,
      "metadata": {
        "colab": {
          "base_uri": "https://localhost:8080/",
          "height": 209
        },
        "id": "miKGSOCDCIpc",
        "outputId": "df94e173-cc52-44a1-8a1e-04632cc171e7"
      },
      "outputs": [
        {
          "data": {
            "text/plain": [
              "params_classifier\n",
              "GradientBoosting    0.747114\n",
              "RandomForest        0.769088\n",
              "SVM                 0.777107\n",
              "Name: value, dtype: float64"
            ]
          },
          "execution_count": 22,
          "metadata": {},
          "output_type": "execute_result"
        }
      ],
      "source": [
        "study.trials_dataframe().groupby('params_classifier')['value'].mean()"
      ]
    },
    {
      "cell_type": "code",
      "execution_count": 23,
      "metadata": {
        "colab": {
          "base_uri": "https://localhost:8080/",
          "height": 542
        },
        "id": "a2-8K8--CiJS",
        "outputId": "a62afda2-4faf-45e4-daf7-1f5357d0ed2c"
      },
      "outputs": [
        {
          "data": {
            "application/vnd.plotly.v1+json": {
              "config": {
                "plotlyServerURL": "https://plot.ly"
              },
              "data": [
                {
                  "mode": "markers",
                  "name": "Objective Value",
                  "type": "scatter",
                  "x": [
                    0,
                    1,
                    2,
                    3,
                    4,
                    5,
                    6,
                    7,
                    8,
                    9,
                    10,
                    11,
                    12,
                    13,
                    14,
                    15,
                    16,
                    17,
                    18,
                    19,
                    20,
                    21,
                    22,
                    23,
                    24,
                    25,
                    26,
                    27,
                    28,
                    29,
                    30,
                    31,
                    32,
                    33,
                    34,
                    35,
                    36,
                    37,
                    38,
                    39,
                    40,
                    41,
                    42,
                    43,
                    44,
                    45,
                    46,
                    47,
                    48,
                    49,
                    50,
                    51,
                    52,
                    53,
                    54,
                    55,
                    56,
                    57,
                    58,
                    59,
                    60,
                    61,
                    62,
                    63,
                    64,
                    65,
                    66,
                    67,
                    68,
                    69,
                    70,
                    71,
                    72,
                    73,
                    74,
                    75,
                    76,
                    77,
                    78,
                    79,
                    80,
                    81,
                    82,
                    83,
                    84,
                    85,
                    86,
                    87,
                    88,
                    89,
                    90,
                    91,
                    92,
                    93,
                    94,
                    95,
                    96,
                    97,
                    98,
                    99
                  ],
                  "y": [
                    0.7486033519553073,
                    0.7635009310986964,
                    0.7709497206703911,
                    0.7653631284916201,
                    0.7281191806331471,
                    0.7709497206703911,
                    0.7579143389199255,
                    0.7560521415270017,
                    0.756052141527002,
                    0.7523277467411545,
                    0.7765363128491619,
                    0.7765363128491619,
                    0.7821229050279329,
                    0.7802607076350093,
                    0.7728119180633147,
                    0.7839851024208566,
                    0.6852886405959032,
                    0.7690875232774674,
                    0.7597765363128491,
                    0.7858472998137801,
                    0.7858472998137801,
                    0.7858472998137801,
                    0.7858472998137801,
                    0.7858472998137801,
                    0.7858472998137801,
                    0.7858472998137801,
                    0.7858472998137801,
                    0.7858472998137801,
                    0.7858472998137801,
                    0.7299813780260708,
                    0.7094972067039106,
                    0.7858472998137801,
                    0.7858472998137801,
                    0.7858472998137801,
                    0.7579143389199255,
                    0.7858472998137801,
                    0.7392923649906891,
                    0.7858472998137801,
                    0.7858472998137803,
                    0.750465549348231,
                    0.7858472998137803,
                    0.7839851024208566,
                    0.7858472998137803,
                    0.7839851024208566,
                    0.7839851024208566,
                    0.7430167597765363,
                    0.7430167597765363,
                    0.7672253258845437,
                    0.7299813780260708,
                    0.7448789571694601,
                    0.7858472998137803,
                    0.7858472998137803,
                    0.7858472998137803,
                    0.7579143389199254,
                    0.7858472998137803,
                    0.7877094972067038,
                    0.7318435754189944,
                    0.7858472998137803,
                    0.7113594040968342,
                    0.7858472998137803,
                    0.7597765363128491,
                    0.7877094972067038,
                    0.7895716945996275,
                    0.7895716945996275,
                    0.7895716945996275,
                    0.7895716945996275,
                    0.7895716945996275,
                    0.7877094972067038,
                    0.7877094972067038,
                    0.7635009310986964,
                    0.7467411545623835,
                    0.7877094972067038,
                    0.7877094972067038,
                    0.7895716945996275,
                    0.7895716945996275,
                    0.7895716945996275,
                    0.7895716945996275,
                    0.7616387337057727,
                    0.7113594040968342,
                    0.7858472998137803,
                    0.7858472998137803,
                    0.7895716945996275,
                    0.7895716945996275,
                    0.7877094972067038,
                    0.7877094972067038,
                    0.7895716945996275,
                    0.7597765363128492,
                    0.756052141527002,
                    0.7839851024208566,
                    0.7895716945996275,
                    0.756052141527002,
                    0.7895716945996275,
                    0.7877094972067038,
                    0.7858472998137803,
                    0.7895716945996275,
                    0.7821229050279329,
                    0.7858472998137803,
                    0.7877094972067038,
                    0.7895716945996275,
                    0.7709497206703911
                  ]
                },
                {
                  "mode": "lines",
                  "name": "Best Value",
                  "type": "scatter",
                  "x": [
                    0,
                    1,
                    2,
                    3,
                    4,
                    5,
                    6,
                    7,
                    8,
                    9,
                    10,
                    11,
                    12,
                    13,
                    14,
                    15,
                    16,
                    17,
                    18,
                    19,
                    20,
                    21,
                    22,
                    23,
                    24,
                    25,
                    26,
                    27,
                    28,
                    29,
                    30,
                    31,
                    32,
                    33,
                    34,
                    35,
                    36,
                    37,
                    38,
                    39,
                    40,
                    41,
                    42,
                    43,
                    44,
                    45,
                    46,
                    47,
                    48,
                    49,
                    50,
                    51,
                    52,
                    53,
                    54,
                    55,
                    56,
                    57,
                    58,
                    59,
                    60,
                    61,
                    62,
                    63,
                    64,
                    65,
                    66,
                    67,
                    68,
                    69,
                    70,
                    71,
                    72,
                    73,
                    74,
                    75,
                    76,
                    77,
                    78,
                    79,
                    80,
                    81,
                    82,
                    83,
                    84,
                    85,
                    86,
                    87,
                    88,
                    89,
                    90,
                    91,
                    92,
                    93,
                    94,
                    95,
                    96,
                    97,
                    98,
                    99
                  ],
                  "y": [
                    0.7486033519553073,
                    0.7635009310986964,
                    0.7709497206703911,
                    0.7709497206703911,
                    0.7709497206703911,
                    0.7709497206703911,
                    0.7709497206703911,
                    0.7709497206703911,
                    0.7709497206703911,
                    0.7709497206703911,
                    0.7765363128491619,
                    0.7765363128491619,
                    0.7821229050279329,
                    0.7821229050279329,
                    0.7821229050279329,
                    0.7839851024208566,
                    0.7839851024208566,
                    0.7839851024208566,
                    0.7839851024208566,
                    0.7858472998137801,
                    0.7858472998137801,
                    0.7858472998137801,
                    0.7858472998137801,
                    0.7858472998137801,
                    0.7858472998137801,
                    0.7858472998137801,
                    0.7858472998137801,
                    0.7858472998137801,
                    0.7858472998137801,
                    0.7858472998137801,
                    0.7858472998137801,
                    0.7858472998137801,
                    0.7858472998137801,
                    0.7858472998137801,
                    0.7858472998137801,
                    0.7858472998137801,
                    0.7858472998137801,
                    0.7858472998137801,
                    0.7858472998137803,
                    0.7858472998137803,
                    0.7858472998137803,
                    0.7858472998137803,
                    0.7858472998137803,
                    0.7858472998137803,
                    0.7858472998137803,
                    0.7858472998137803,
                    0.7858472998137803,
                    0.7858472998137803,
                    0.7858472998137803,
                    0.7858472998137803,
                    0.7858472998137803,
                    0.7858472998137803,
                    0.7858472998137803,
                    0.7858472998137803,
                    0.7858472998137803,
                    0.7877094972067038,
                    0.7877094972067038,
                    0.7877094972067038,
                    0.7877094972067038,
                    0.7877094972067038,
                    0.7877094972067038,
                    0.7877094972067038,
                    0.7895716945996275,
                    0.7895716945996275,
                    0.7895716945996275,
                    0.7895716945996275,
                    0.7895716945996275,
                    0.7895716945996275,
                    0.7895716945996275,
                    0.7895716945996275,
                    0.7895716945996275,
                    0.7895716945996275,
                    0.7895716945996275,
                    0.7895716945996275,
                    0.7895716945996275,
                    0.7895716945996275,
                    0.7895716945996275,
                    0.7895716945996275,
                    0.7895716945996275,
                    0.7895716945996275,
                    0.7895716945996275,
                    0.7895716945996275,
                    0.7895716945996275,
                    0.7895716945996275,
                    0.7895716945996275,
                    0.7895716945996275,
                    0.7895716945996275,
                    0.7895716945996275,
                    0.7895716945996275,
                    0.7895716945996275,
                    0.7895716945996275,
                    0.7895716945996275,
                    0.7895716945996275,
                    0.7895716945996275,
                    0.7895716945996275,
                    0.7895716945996275,
                    0.7895716945996275,
                    0.7895716945996275,
                    0.7895716945996275,
                    0.7895716945996275
                  ]
                },
                {
                  "marker": {
                    "color": "#cccccc"
                  },
                  "mode": "markers",
                  "name": "Infeasible Trial",
                  "showlegend": false,
                  "type": "scatter",
                  "x": [],
                  "y": []
                }
              ],
              "layout": {
                "template": {
                  "data": {
                    "bar": [
                      {
                        "error_x": {
                          "color": "#2a3f5f"
                        },
                        "error_y": {
                          "color": "#2a3f5f"
                        },
                        "marker": {
                          "line": {
                            "color": "#E5ECF6",
                            "width": 0.5
                          },
                          "pattern": {
                            "fillmode": "overlay",
                            "size": 10,
                            "solidity": 0.2
                          }
                        },
                        "type": "bar"
                      }
                    ],
                    "barpolar": [
                      {
                        "marker": {
                          "line": {
                            "color": "#E5ECF6",
                            "width": 0.5
                          },
                          "pattern": {
                            "fillmode": "overlay",
                            "size": 10,
                            "solidity": 0.2
                          }
                        },
                        "type": "barpolar"
                      }
                    ],
                    "carpet": [
                      {
                        "aaxis": {
                          "endlinecolor": "#2a3f5f",
                          "gridcolor": "white",
                          "linecolor": "white",
                          "minorgridcolor": "white",
                          "startlinecolor": "#2a3f5f"
                        },
                        "baxis": {
                          "endlinecolor": "#2a3f5f",
                          "gridcolor": "white",
                          "linecolor": "white",
                          "minorgridcolor": "white",
                          "startlinecolor": "#2a3f5f"
                        },
                        "type": "carpet"
                      }
                    ],
                    "choropleth": [
                      {
                        "colorbar": {
                          "outlinewidth": 0,
                          "ticks": ""
                        },
                        "type": "choropleth"
                      }
                    ],
                    "contour": [
                      {
                        "colorbar": {
                          "outlinewidth": 0,
                          "ticks": ""
                        },
                        "colorscale": [
                          [
                            0,
                            "#0d0887"
                          ],
                          [
                            0.1111111111111111,
                            "#46039f"
                          ],
                          [
                            0.2222222222222222,
                            "#7201a8"
                          ],
                          [
                            0.3333333333333333,
                            "#9c179e"
                          ],
                          [
                            0.4444444444444444,
                            "#bd3786"
                          ],
                          [
                            0.5555555555555556,
                            "#d8576b"
                          ],
                          [
                            0.6666666666666666,
                            "#ed7953"
                          ],
                          [
                            0.7777777777777778,
                            "#fb9f3a"
                          ],
                          [
                            0.8888888888888888,
                            "#fdca26"
                          ],
                          [
                            1,
                            "#f0f921"
                          ]
                        ],
                        "type": "contour"
                      }
                    ],
                    "contourcarpet": [
                      {
                        "colorbar": {
                          "outlinewidth": 0,
                          "ticks": ""
                        },
                        "type": "contourcarpet"
                      }
                    ],
                    "heatmap": [
                      {
                        "colorbar": {
                          "outlinewidth": 0,
                          "ticks": ""
                        },
                        "colorscale": [
                          [
                            0,
                            "#0d0887"
                          ],
                          [
                            0.1111111111111111,
                            "#46039f"
                          ],
                          [
                            0.2222222222222222,
                            "#7201a8"
                          ],
                          [
                            0.3333333333333333,
                            "#9c179e"
                          ],
                          [
                            0.4444444444444444,
                            "#bd3786"
                          ],
                          [
                            0.5555555555555556,
                            "#d8576b"
                          ],
                          [
                            0.6666666666666666,
                            "#ed7953"
                          ],
                          [
                            0.7777777777777778,
                            "#fb9f3a"
                          ],
                          [
                            0.8888888888888888,
                            "#fdca26"
                          ],
                          [
                            1,
                            "#f0f921"
                          ]
                        ],
                        "type": "heatmap"
                      }
                    ],
                    "histogram": [
                      {
                        "marker": {
                          "pattern": {
                            "fillmode": "overlay",
                            "size": 10,
                            "solidity": 0.2
                          }
                        },
                        "type": "histogram"
                      }
                    ],
                    "histogram2d": [
                      {
                        "colorbar": {
                          "outlinewidth": 0,
                          "ticks": ""
                        },
                        "colorscale": [
                          [
                            0,
                            "#0d0887"
                          ],
                          [
                            0.1111111111111111,
                            "#46039f"
                          ],
                          [
                            0.2222222222222222,
                            "#7201a8"
                          ],
                          [
                            0.3333333333333333,
                            "#9c179e"
                          ],
                          [
                            0.4444444444444444,
                            "#bd3786"
                          ],
                          [
                            0.5555555555555556,
                            "#d8576b"
                          ],
                          [
                            0.6666666666666666,
                            "#ed7953"
                          ],
                          [
                            0.7777777777777778,
                            "#fb9f3a"
                          ],
                          [
                            0.8888888888888888,
                            "#fdca26"
                          ],
                          [
                            1,
                            "#f0f921"
                          ]
                        ],
                        "type": "histogram2d"
                      }
                    ],
                    "histogram2dcontour": [
                      {
                        "colorbar": {
                          "outlinewidth": 0,
                          "ticks": ""
                        },
                        "colorscale": [
                          [
                            0,
                            "#0d0887"
                          ],
                          [
                            0.1111111111111111,
                            "#46039f"
                          ],
                          [
                            0.2222222222222222,
                            "#7201a8"
                          ],
                          [
                            0.3333333333333333,
                            "#9c179e"
                          ],
                          [
                            0.4444444444444444,
                            "#bd3786"
                          ],
                          [
                            0.5555555555555556,
                            "#d8576b"
                          ],
                          [
                            0.6666666666666666,
                            "#ed7953"
                          ],
                          [
                            0.7777777777777778,
                            "#fb9f3a"
                          ],
                          [
                            0.8888888888888888,
                            "#fdca26"
                          ],
                          [
                            1,
                            "#f0f921"
                          ]
                        ],
                        "type": "histogram2dcontour"
                      }
                    ],
                    "mesh3d": [
                      {
                        "colorbar": {
                          "outlinewidth": 0,
                          "ticks": ""
                        },
                        "type": "mesh3d"
                      }
                    ],
                    "parcoords": [
                      {
                        "line": {
                          "colorbar": {
                            "outlinewidth": 0,
                            "ticks": ""
                          }
                        },
                        "type": "parcoords"
                      }
                    ],
                    "pie": [
                      {
                        "automargin": true,
                        "type": "pie"
                      }
                    ],
                    "scatter": [
                      {
                        "fillpattern": {
                          "fillmode": "overlay",
                          "size": 10,
                          "solidity": 0.2
                        },
                        "type": "scatter"
                      }
                    ],
                    "scatter3d": [
                      {
                        "line": {
                          "colorbar": {
                            "outlinewidth": 0,
                            "ticks": ""
                          }
                        },
                        "marker": {
                          "colorbar": {
                            "outlinewidth": 0,
                            "ticks": ""
                          }
                        },
                        "type": "scatter3d"
                      }
                    ],
                    "scattercarpet": [
                      {
                        "marker": {
                          "colorbar": {
                            "outlinewidth": 0,
                            "ticks": ""
                          }
                        },
                        "type": "scattercarpet"
                      }
                    ],
                    "scattergeo": [
                      {
                        "marker": {
                          "colorbar": {
                            "outlinewidth": 0,
                            "ticks": ""
                          }
                        },
                        "type": "scattergeo"
                      }
                    ],
                    "scattergl": [
                      {
                        "marker": {
                          "colorbar": {
                            "outlinewidth": 0,
                            "ticks": ""
                          }
                        },
                        "type": "scattergl"
                      }
                    ],
                    "scattermap": [
                      {
                        "marker": {
                          "colorbar": {
                            "outlinewidth": 0,
                            "ticks": ""
                          }
                        },
                        "type": "scattermap"
                      }
                    ],
                    "scattermapbox": [
                      {
                        "marker": {
                          "colorbar": {
                            "outlinewidth": 0,
                            "ticks": ""
                          }
                        },
                        "type": "scattermapbox"
                      }
                    ],
                    "scatterpolar": [
                      {
                        "marker": {
                          "colorbar": {
                            "outlinewidth": 0,
                            "ticks": ""
                          }
                        },
                        "type": "scatterpolar"
                      }
                    ],
                    "scatterpolargl": [
                      {
                        "marker": {
                          "colorbar": {
                            "outlinewidth": 0,
                            "ticks": ""
                          }
                        },
                        "type": "scatterpolargl"
                      }
                    ],
                    "scatterternary": [
                      {
                        "marker": {
                          "colorbar": {
                            "outlinewidth": 0,
                            "ticks": ""
                          }
                        },
                        "type": "scatterternary"
                      }
                    ],
                    "surface": [
                      {
                        "colorbar": {
                          "outlinewidth": 0,
                          "ticks": ""
                        },
                        "colorscale": [
                          [
                            0,
                            "#0d0887"
                          ],
                          [
                            0.1111111111111111,
                            "#46039f"
                          ],
                          [
                            0.2222222222222222,
                            "#7201a8"
                          ],
                          [
                            0.3333333333333333,
                            "#9c179e"
                          ],
                          [
                            0.4444444444444444,
                            "#bd3786"
                          ],
                          [
                            0.5555555555555556,
                            "#d8576b"
                          ],
                          [
                            0.6666666666666666,
                            "#ed7953"
                          ],
                          [
                            0.7777777777777778,
                            "#fb9f3a"
                          ],
                          [
                            0.8888888888888888,
                            "#fdca26"
                          ],
                          [
                            1,
                            "#f0f921"
                          ]
                        ],
                        "type": "surface"
                      }
                    ],
                    "table": [
                      {
                        "cells": {
                          "fill": {
                            "color": "#EBF0F8"
                          },
                          "line": {
                            "color": "white"
                          }
                        },
                        "header": {
                          "fill": {
                            "color": "#C8D4E3"
                          },
                          "line": {
                            "color": "white"
                          }
                        },
                        "type": "table"
                      }
                    ]
                  },
                  "layout": {
                    "annotationdefaults": {
                      "arrowcolor": "#2a3f5f",
                      "arrowhead": 0,
                      "arrowwidth": 1
                    },
                    "autotypenumbers": "strict",
                    "coloraxis": {
                      "colorbar": {
                        "outlinewidth": 0,
                        "ticks": ""
                      }
                    },
                    "colorscale": {
                      "diverging": [
                        [
                          0,
                          "#8e0152"
                        ],
                        [
                          0.1,
                          "#c51b7d"
                        ],
                        [
                          0.2,
                          "#de77ae"
                        ],
                        [
                          0.3,
                          "#f1b6da"
                        ],
                        [
                          0.4,
                          "#fde0ef"
                        ],
                        [
                          0.5,
                          "#f7f7f7"
                        ],
                        [
                          0.6,
                          "#e6f5d0"
                        ],
                        [
                          0.7,
                          "#b8e186"
                        ],
                        [
                          0.8,
                          "#7fbc41"
                        ],
                        [
                          0.9,
                          "#4d9221"
                        ],
                        [
                          1,
                          "#276419"
                        ]
                      ],
                      "sequential": [
                        [
                          0,
                          "#0d0887"
                        ],
                        [
                          0.1111111111111111,
                          "#46039f"
                        ],
                        [
                          0.2222222222222222,
                          "#7201a8"
                        ],
                        [
                          0.3333333333333333,
                          "#9c179e"
                        ],
                        [
                          0.4444444444444444,
                          "#bd3786"
                        ],
                        [
                          0.5555555555555556,
                          "#d8576b"
                        ],
                        [
                          0.6666666666666666,
                          "#ed7953"
                        ],
                        [
                          0.7777777777777778,
                          "#fb9f3a"
                        ],
                        [
                          0.8888888888888888,
                          "#fdca26"
                        ],
                        [
                          1,
                          "#f0f921"
                        ]
                      ],
                      "sequentialminus": [
                        [
                          0,
                          "#0d0887"
                        ],
                        [
                          0.1111111111111111,
                          "#46039f"
                        ],
                        [
                          0.2222222222222222,
                          "#7201a8"
                        ],
                        [
                          0.3333333333333333,
                          "#9c179e"
                        ],
                        [
                          0.4444444444444444,
                          "#bd3786"
                        ],
                        [
                          0.5555555555555556,
                          "#d8576b"
                        ],
                        [
                          0.6666666666666666,
                          "#ed7953"
                        ],
                        [
                          0.7777777777777778,
                          "#fb9f3a"
                        ],
                        [
                          0.8888888888888888,
                          "#fdca26"
                        ],
                        [
                          1,
                          "#f0f921"
                        ]
                      ]
                    },
                    "colorway": [
                      "#636efa",
                      "#EF553B",
                      "#00cc96",
                      "#ab63fa",
                      "#FFA15A",
                      "#19d3f3",
                      "#FF6692",
                      "#B6E880",
                      "#FF97FF",
                      "#FECB52"
                    ],
                    "font": {
                      "color": "#2a3f5f"
                    },
                    "geo": {
                      "bgcolor": "white",
                      "lakecolor": "white",
                      "landcolor": "#E5ECF6",
                      "showlakes": true,
                      "showland": true,
                      "subunitcolor": "white"
                    },
                    "hoverlabel": {
                      "align": "left"
                    },
                    "hovermode": "closest",
                    "mapbox": {
                      "style": "light"
                    },
                    "paper_bgcolor": "white",
                    "plot_bgcolor": "#E5ECF6",
                    "polar": {
                      "angularaxis": {
                        "gridcolor": "white",
                        "linecolor": "white",
                        "ticks": ""
                      },
                      "bgcolor": "#E5ECF6",
                      "radialaxis": {
                        "gridcolor": "white",
                        "linecolor": "white",
                        "ticks": ""
                      }
                    },
                    "scene": {
                      "xaxis": {
                        "backgroundcolor": "#E5ECF6",
                        "gridcolor": "white",
                        "gridwidth": 2,
                        "linecolor": "white",
                        "showbackground": true,
                        "ticks": "",
                        "zerolinecolor": "white"
                      },
                      "yaxis": {
                        "backgroundcolor": "#E5ECF6",
                        "gridcolor": "white",
                        "gridwidth": 2,
                        "linecolor": "white",
                        "showbackground": true,
                        "ticks": "",
                        "zerolinecolor": "white"
                      },
                      "zaxis": {
                        "backgroundcolor": "#E5ECF6",
                        "gridcolor": "white",
                        "gridwidth": 2,
                        "linecolor": "white",
                        "showbackground": true,
                        "ticks": "",
                        "zerolinecolor": "white"
                      }
                    },
                    "shapedefaults": {
                      "line": {
                        "color": "#2a3f5f"
                      }
                    },
                    "ternary": {
                      "aaxis": {
                        "gridcolor": "white",
                        "linecolor": "white",
                        "ticks": ""
                      },
                      "baxis": {
                        "gridcolor": "white",
                        "linecolor": "white",
                        "ticks": ""
                      },
                      "bgcolor": "#E5ECF6",
                      "caxis": {
                        "gridcolor": "white",
                        "linecolor": "white",
                        "ticks": ""
                      }
                    },
                    "title": {
                      "x": 0.05
                    },
                    "xaxis": {
                      "automargin": true,
                      "gridcolor": "white",
                      "linecolor": "white",
                      "ticks": "",
                      "title": {
                        "standoff": 15
                      },
                      "zerolinecolor": "white",
                      "zerolinewidth": 2
                    },
                    "yaxis": {
                      "automargin": true,
                      "gridcolor": "white",
                      "linecolor": "white",
                      "ticks": "",
                      "title": {
                        "standoff": 15
                      },
                      "zerolinecolor": "white",
                      "zerolinewidth": 2
                    }
                  }
                },
                "title": {
                  "text": "Optimization History Plot"
                },
                "xaxis": {
                  "title": {
                    "text": "Trial"
                  }
                },
                "yaxis": {
                  "title": {
                    "text": "Objective Value"
                  }
                }
              }
            }
          },
          "metadata": {},
          "output_type": "display_data"
        }
      ],
      "source": [
        "# 1. Optimization History\n",
        "plot_optimization_history(study).show()"
      ]
    },
    {
      "cell_type": "code",
      "execution_count": 24,
      "metadata": {
        "colab": {
          "base_uri": "https://localhost:8080/",
          "height": 562
        },
        "id": "0n7zfgCNCx-4",
        "outputId": "1604fbd1-9fd6-4749-fcdf-62fea03e8428"
      },
      "outputs": [
        {
          "data": {
            "application/vnd.plotly.v1+json": {
              "config": {
                "plotlyServerURL": "https://plot.ly"
              },
              "data": [
                {
                  "marker": {
                    "color": [
                      5,
                      9,
                      16,
                      19,
                      20,
                      21,
                      22,
                      23,
                      24,
                      25,
                      26,
                      27,
                      28,
                      29,
                      30,
                      31,
                      32,
                      33,
                      34,
                      35,
                      37,
                      38,
                      40,
                      41,
                      42,
                      43,
                      44,
                      46,
                      47,
                      48,
                      50,
                      51,
                      52,
                      53,
                      54,
                      55,
                      56,
                      57,
                      58,
                      59,
                      61,
                      62,
                      63,
                      64,
                      65,
                      66,
                      67,
                      68,
                      71,
                      72,
                      73,
                      74,
                      75,
                      76,
                      77,
                      78,
                      79,
                      80,
                      81,
                      82,
                      83,
                      84,
                      85,
                      86,
                      88,
                      89,
                      91,
                      92,
                      93,
                      94,
                      95,
                      96,
                      97,
                      98,
                      99
                    ],
                    "colorbar": {
                      "title": {
                        "text": "Trial"
                      },
                      "x": 1,
                      "xpad": 40
                    },
                    "colorscale": [
                      [
                        0,
                        "rgb(247,251,255)"
                      ],
                      [
                        0.125,
                        "rgb(222,235,247)"
                      ],
                      [
                        0.25,
                        "rgb(198,219,239)"
                      ],
                      [
                        0.375,
                        "rgb(158,202,225)"
                      ],
                      [
                        0.5,
                        "rgb(107,174,214)"
                      ],
                      [
                        0.625,
                        "rgb(66,146,198)"
                      ],
                      [
                        0.75,
                        "rgb(33,113,181)"
                      ],
                      [
                        0.875,
                        "rgb(8,81,156)"
                      ],
                      [
                        1,
                        "rgb(8,48,107)"
                      ]
                    ],
                    "line": {
                      "color": "Grey",
                      "width": 0.5
                    },
                    "showscale": true
                  },
                  "mode": "markers",
                  "name": "Feasible Trial",
                  "showlegend": false,
                  "type": "scatter",
                  "x": [
                    0.1545958576608457,
                    0.1382292907411894,
                    62.35007438748633,
                    11.90398853598039,
                    15.789309944622644,
                    14.517642767847937,
                    15.389943603155718,
                    7.365767281139951,
                    14.89679829400297,
                    2.402360004198655,
                    42.5690245374198,
                    3.660683418693718,
                    20.222227007283216,
                    1.7646604884734456,
                    6.146968176070434,
                    18.77291030052834,
                    14.698923822405488,
                    30.717474855390588,
                    13.14465497414426,
                    92.08175645436157,
                    7.432764685862199,
                    0.8783630870719056,
                    0.6911816277539008,
                    0.4914551109531892,
                    0.788913472631417,
                    0.9896791430951164,
                    0.4856534533789343,
                    0.7682769718876133,
                    0.36807150984547415,
                    1.0567910980823676,
                    0.25261786636794736,
                    0.23669275081315738,
                    0.22758861154827478,
                    0.2395612961098211,
                    0.18989852784652134,
                    0.10445604318844649,
                    0.11138232191070899,
                    0.31579920757159674,
                    0.12089134144414453,
                    0.6986990706203386,
                    0.1852652558185079,
                    0.14978949624524346,
                    0.14428654673595517,
                    0.14388107422387664,
                    0.14619369674817487,
                    0.1513296062251642,
                    0.15600966001028665,
                    0.15766331963416758,
                    0.10387155362650502,
                    0.17041975567890483,
                    0.14659045660763312,
                    0.1402034787516571,
                    0.12646823813019392,
                    0.13471627129590805,
                    0.32772112835713524,
                    0.1390623188609795,
                    0.19978910873295627,
                    0.2947221159715215,
                    0.13512991994818188,
                    0.13895058945693162,
                    0.1005799496288374,
                    0.1697029365438702,
                    0.1367854281984261,
                    0.2110102166433182,
                    0.4586501512325971,
                    0.12765294780627467,
                    0.14405580653377215,
                    0.1765470693683796,
                    0.2687775674501144,
                    0.13279918933854998,
                    0.3825006231186747,
                    0.218163841098319,
                    0.10194010954151454,
                    0.1270610584447614,
                    0.16894278669837987
                  ],
                  "xaxis": "x",
                  "y": [
                    0.7709497206703911,
                    0.7523277467411545,
                    0.6852886405959032,
                    0.7858472998137801,
                    0.7858472998137801,
                    0.7858472998137801,
                    0.7858472998137801,
                    0.7858472998137801,
                    0.7858472998137801,
                    0.7858472998137801,
                    0.7858472998137801,
                    0.7858472998137801,
                    0.7858472998137801,
                    0.7299813780260708,
                    0.7094972067039106,
                    0.7858472998137801,
                    0.7858472998137801,
                    0.7858472998137801,
                    0.7579143389199255,
                    0.7858472998137801,
                    0.7858472998137801,
                    0.7858472998137803,
                    0.7858472998137803,
                    0.7839851024208566,
                    0.7858472998137803,
                    0.7839851024208566,
                    0.7839851024208566,
                    0.7430167597765363,
                    0.7672253258845437,
                    0.7299813780260708,
                    0.7858472998137803,
                    0.7858472998137803,
                    0.7858472998137803,
                    0.7579143389199254,
                    0.7858472998137803,
                    0.7877094972067038,
                    0.7318435754189944,
                    0.7858472998137803,
                    0.7113594040968342,
                    0.7858472998137803,
                    0.7877094972067038,
                    0.7895716945996275,
                    0.7895716945996275,
                    0.7895716945996275,
                    0.7895716945996275,
                    0.7895716945996275,
                    0.7877094972067038,
                    0.7877094972067038,
                    0.7877094972067038,
                    0.7877094972067038,
                    0.7895716945996275,
                    0.7895716945996275,
                    0.7895716945996275,
                    0.7895716945996275,
                    0.7616387337057727,
                    0.7113594040968342,
                    0.7858472998137803,
                    0.7858472998137803,
                    0.7895716945996275,
                    0.7895716945996275,
                    0.7877094972067038,
                    0.7877094972067038,
                    0.7895716945996275,
                    0.7597765363128492,
                    0.7839851024208566,
                    0.7895716945996275,
                    0.7895716945996275,
                    0.7877094972067038,
                    0.7858472998137803,
                    0.7895716945996275,
                    0.7821229050279329,
                    0.7858472998137803,
                    0.7877094972067038,
                    0.7895716945996275,
                    0.7709497206703911
                  ],
                  "yaxis": "y"
                },
                {
                  "marker": {
                    "color": [
                      1,
                      2,
                      3,
                      7,
                      10,
                      11,
                      12,
                      13,
                      14,
                      15,
                      17,
                      18,
                      60,
                      69,
                      87
                    ],
                    "colorbar": {
                      "title": {
                        "text": "Trial"
                      },
                      "x": 1,
                      "xpad": 40
                    },
                    "colorscale": [
                      [
                        0,
                        "rgb(247,251,255)"
                      ],
                      [
                        0.125,
                        "rgb(222,235,247)"
                      ],
                      [
                        0.25,
                        "rgb(198,219,239)"
                      ],
                      [
                        0.375,
                        "rgb(158,202,225)"
                      ],
                      [
                        0.5,
                        "rgb(107,174,214)"
                      ],
                      [
                        0.625,
                        "rgb(66,146,198)"
                      ],
                      [
                        0.75,
                        "rgb(33,113,181)"
                      ],
                      [
                        0.875,
                        "rgb(8,81,156)"
                      ],
                      [
                        1,
                        "rgb(8,48,107)"
                      ]
                    ],
                    "line": {
                      "color": "Grey",
                      "width": 0.5
                    },
                    "showscale": false
                  },
                  "mode": "markers",
                  "name": "Feasible Trial",
                  "showlegend": false,
                  "type": "scatter",
                  "x": [
                    true,
                    false,
                    false,
                    true,
                    false,
                    false,
                    false,
                    false,
                    false,
                    false,
                    false,
                    true,
                    true,
                    true,
                    true
                  ],
                  "xaxis": "x2",
                  "y": [
                    0.7635009310986964,
                    0.7709497206703911,
                    0.7653631284916201,
                    0.7560521415270017,
                    0.7765363128491619,
                    0.7765363128491619,
                    0.7821229050279329,
                    0.7802607076350093,
                    0.7728119180633147,
                    0.7839851024208566,
                    0.7690875232774674,
                    0.7597765363128491,
                    0.7597765363128491,
                    0.7635009310986964,
                    0.756052141527002
                  ],
                  "yaxis": "y2"
                },
                {
                  "marker": {
                    "color": [
                      0,
                      1,
                      2,
                      3,
                      4,
                      5,
                      6,
                      7,
                      8,
                      9,
                      10,
                      11,
                      12,
                      13,
                      14,
                      15,
                      16,
                      17,
                      18,
                      19,
                      20,
                      21,
                      22,
                      23,
                      24,
                      25,
                      26,
                      27,
                      28,
                      29,
                      30,
                      31,
                      32,
                      33,
                      34,
                      35,
                      36,
                      37,
                      38,
                      39,
                      40,
                      41,
                      42,
                      43,
                      44,
                      45,
                      46,
                      47,
                      48,
                      49,
                      50,
                      51,
                      52,
                      53,
                      54,
                      55,
                      56,
                      57,
                      58,
                      59,
                      60,
                      61,
                      62,
                      63,
                      64,
                      65,
                      66,
                      67,
                      68,
                      69,
                      70,
                      71,
                      72,
                      73,
                      74,
                      75,
                      76,
                      77,
                      78,
                      79,
                      80,
                      81,
                      82,
                      83,
                      84,
                      85,
                      86,
                      87,
                      88,
                      89,
                      90,
                      91,
                      92,
                      93,
                      94,
                      95,
                      96,
                      97,
                      98,
                      99
                    ],
                    "colorbar": {
                      "title": {
                        "text": "Trial"
                      },
                      "x": 1,
                      "xpad": 40
                    },
                    "colorscale": [
                      [
                        0,
                        "rgb(247,251,255)"
                      ],
                      [
                        0.125,
                        "rgb(222,235,247)"
                      ],
                      [
                        0.25,
                        "rgb(198,219,239)"
                      ],
                      [
                        0.375,
                        "rgb(158,202,225)"
                      ],
                      [
                        0.5,
                        "rgb(107,174,214)"
                      ],
                      [
                        0.625,
                        "rgb(66,146,198)"
                      ],
                      [
                        0.75,
                        "rgb(33,113,181)"
                      ],
                      [
                        0.875,
                        "rgb(8,81,156)"
                      ],
                      [
                        1,
                        "rgb(8,48,107)"
                      ]
                    ],
                    "line": {
                      "color": "Grey",
                      "width": 0.5
                    },
                    "showscale": false
                  },
                  "mode": "markers",
                  "name": "Feasible Trial",
                  "showlegend": false,
                  "type": "scatter",
                  "x": [
                    "GradientBoosting",
                    "RandomForest",
                    "RandomForest",
                    "RandomForest",
                    "GradientBoosting",
                    "SVM",
                    "GradientBoosting",
                    "RandomForest",
                    "GradientBoosting",
                    "SVM",
                    "RandomForest",
                    "RandomForest",
                    "RandomForest",
                    "RandomForest",
                    "RandomForest",
                    "RandomForest",
                    "SVM",
                    "RandomForest",
                    "RandomForest",
                    "SVM",
                    "SVM",
                    "SVM",
                    "SVM",
                    "SVM",
                    "SVM",
                    "SVM",
                    "SVM",
                    "SVM",
                    "SVM",
                    "SVM",
                    "SVM",
                    "SVM",
                    "SVM",
                    "SVM",
                    "SVM",
                    "SVM",
                    "GradientBoosting",
                    "SVM",
                    "SVM",
                    "GradientBoosting",
                    "SVM",
                    "SVM",
                    "SVM",
                    "SVM",
                    "SVM",
                    "GradientBoosting",
                    "SVM",
                    "SVM",
                    "SVM",
                    "GradientBoosting",
                    "SVM",
                    "SVM",
                    "SVM",
                    "SVM",
                    "SVM",
                    "SVM",
                    "SVM",
                    "SVM",
                    "SVM",
                    "SVM",
                    "RandomForest",
                    "SVM",
                    "SVM",
                    "SVM",
                    "SVM",
                    "SVM",
                    "SVM",
                    "SVM",
                    "SVM",
                    "RandomForest",
                    "GradientBoosting",
                    "SVM",
                    "SVM",
                    "SVM",
                    "SVM",
                    "SVM",
                    "SVM",
                    "SVM",
                    "SVM",
                    "SVM",
                    "SVM",
                    "SVM",
                    "SVM",
                    "SVM",
                    "SVM",
                    "SVM",
                    "SVM",
                    "RandomForest",
                    "SVM",
                    "SVM",
                    "GradientBoosting",
                    "SVM",
                    "SVM",
                    "SVM",
                    "SVM",
                    "SVM",
                    "SVM",
                    "SVM",
                    "SVM",
                    "SVM"
                  ],
                  "xaxis": "x3",
                  "y": [
                    0.7486033519553073,
                    0.7635009310986964,
                    0.7709497206703911,
                    0.7653631284916201,
                    0.7281191806331471,
                    0.7709497206703911,
                    0.7579143389199255,
                    0.7560521415270017,
                    0.756052141527002,
                    0.7523277467411545,
                    0.7765363128491619,
                    0.7765363128491619,
                    0.7821229050279329,
                    0.7802607076350093,
                    0.7728119180633147,
                    0.7839851024208566,
                    0.6852886405959032,
                    0.7690875232774674,
                    0.7597765363128491,
                    0.7858472998137801,
                    0.7858472998137801,
                    0.7858472998137801,
                    0.7858472998137801,
                    0.7858472998137801,
                    0.7858472998137801,
                    0.7858472998137801,
                    0.7858472998137801,
                    0.7858472998137801,
                    0.7858472998137801,
                    0.7299813780260708,
                    0.7094972067039106,
                    0.7858472998137801,
                    0.7858472998137801,
                    0.7858472998137801,
                    0.7579143389199255,
                    0.7858472998137801,
                    0.7392923649906891,
                    0.7858472998137801,
                    0.7858472998137803,
                    0.750465549348231,
                    0.7858472998137803,
                    0.7839851024208566,
                    0.7858472998137803,
                    0.7839851024208566,
                    0.7839851024208566,
                    0.7430167597765363,
                    0.7430167597765363,
                    0.7672253258845437,
                    0.7299813780260708,
                    0.7448789571694601,
                    0.7858472998137803,
                    0.7858472998137803,
                    0.7858472998137803,
                    0.7579143389199254,
                    0.7858472998137803,
                    0.7877094972067038,
                    0.7318435754189944,
                    0.7858472998137803,
                    0.7113594040968342,
                    0.7858472998137803,
                    0.7597765363128491,
                    0.7877094972067038,
                    0.7895716945996275,
                    0.7895716945996275,
                    0.7895716945996275,
                    0.7895716945996275,
                    0.7895716945996275,
                    0.7877094972067038,
                    0.7877094972067038,
                    0.7635009310986964,
                    0.7467411545623835,
                    0.7877094972067038,
                    0.7877094972067038,
                    0.7895716945996275,
                    0.7895716945996275,
                    0.7895716945996275,
                    0.7895716945996275,
                    0.7616387337057727,
                    0.7113594040968342,
                    0.7858472998137803,
                    0.7858472998137803,
                    0.7895716945996275,
                    0.7895716945996275,
                    0.7877094972067038,
                    0.7877094972067038,
                    0.7895716945996275,
                    0.7597765363128492,
                    0.756052141527002,
                    0.7839851024208566,
                    0.7895716945996275,
                    0.756052141527002,
                    0.7895716945996275,
                    0.7877094972067038,
                    0.7858472998137803,
                    0.7895716945996275,
                    0.7821229050279329,
                    0.7858472998137803,
                    0.7877094972067038,
                    0.7895716945996275,
                    0.7709497206703911
                  ],
                  "yaxis": "y3"
                },
                {
                  "marker": {
                    "color": [
                      5,
                      9,
                      16,
                      19,
                      20,
                      21,
                      22,
                      23,
                      24,
                      25,
                      26,
                      27,
                      28,
                      29,
                      30,
                      31,
                      32,
                      33,
                      34,
                      35,
                      37,
                      38,
                      40,
                      41,
                      42,
                      43,
                      44,
                      46,
                      47,
                      48,
                      50,
                      51,
                      52,
                      53,
                      54,
                      55,
                      56,
                      57,
                      58,
                      59,
                      61,
                      62,
                      63,
                      64,
                      65,
                      66,
                      67,
                      68,
                      71,
                      72,
                      73,
                      74,
                      75,
                      76,
                      77,
                      78,
                      79,
                      80,
                      81,
                      82,
                      83,
                      84,
                      85,
                      86,
                      88,
                      89,
                      91,
                      92,
                      93,
                      94,
                      95,
                      96,
                      97,
                      98,
                      99
                    ],
                    "colorbar": {
                      "title": {
                        "text": "Trial"
                      },
                      "x": 1,
                      "xpad": 40
                    },
                    "colorscale": [
                      [
                        0,
                        "rgb(247,251,255)"
                      ],
                      [
                        0.125,
                        "rgb(222,235,247)"
                      ],
                      [
                        0.25,
                        "rgb(198,219,239)"
                      ],
                      [
                        0.375,
                        "rgb(158,202,225)"
                      ],
                      [
                        0.5,
                        "rgb(107,174,214)"
                      ],
                      [
                        0.625,
                        "rgb(66,146,198)"
                      ],
                      [
                        0.75,
                        "rgb(33,113,181)"
                      ],
                      [
                        0.875,
                        "rgb(8,81,156)"
                      ],
                      [
                        1,
                        "rgb(8,48,107)"
                      ]
                    ],
                    "line": {
                      "color": "Grey",
                      "width": 0.5
                    },
                    "showscale": false
                  },
                  "mode": "markers",
                  "name": "Feasible Trial",
                  "showlegend": false,
                  "type": "scatter",
                  "x": [
                    "scale",
                    "auto",
                    "auto",
                    "scale",
                    "scale",
                    "scale",
                    "scale",
                    "scale",
                    "scale",
                    "scale",
                    "scale",
                    "scale",
                    "scale",
                    "scale",
                    "auto",
                    "scale",
                    "scale",
                    "scale",
                    "scale",
                    "scale",
                    "scale",
                    "scale",
                    "scale",
                    "scale",
                    "scale",
                    "scale",
                    "scale",
                    "auto",
                    "scale",
                    "scale",
                    "scale",
                    "scale",
                    "scale",
                    "scale",
                    "scale",
                    "auto",
                    "auto",
                    "auto",
                    "auto",
                    "auto",
                    "auto",
                    "auto",
                    "auto",
                    "auto",
                    "auto",
                    "auto",
                    "auto",
                    "auto",
                    "auto",
                    "auto",
                    "auto",
                    "auto",
                    "auto",
                    "auto",
                    "auto",
                    "auto",
                    "auto",
                    "auto",
                    "auto",
                    "auto",
                    "auto",
                    "auto",
                    "auto",
                    "auto",
                    "auto",
                    "auto",
                    "auto",
                    "auto",
                    "auto",
                    "auto",
                    "auto",
                    "auto",
                    "auto",
                    "auto",
                    "auto"
                  ],
                  "xaxis": "x4",
                  "y": [
                    0.7709497206703911,
                    0.7523277467411545,
                    0.6852886405959032,
                    0.7858472998137801,
                    0.7858472998137801,
                    0.7858472998137801,
                    0.7858472998137801,
                    0.7858472998137801,
                    0.7858472998137801,
                    0.7858472998137801,
                    0.7858472998137801,
                    0.7858472998137801,
                    0.7858472998137801,
                    0.7299813780260708,
                    0.7094972067039106,
                    0.7858472998137801,
                    0.7858472998137801,
                    0.7858472998137801,
                    0.7579143389199255,
                    0.7858472998137801,
                    0.7858472998137801,
                    0.7858472998137803,
                    0.7858472998137803,
                    0.7839851024208566,
                    0.7858472998137803,
                    0.7839851024208566,
                    0.7839851024208566,
                    0.7430167597765363,
                    0.7672253258845437,
                    0.7299813780260708,
                    0.7858472998137803,
                    0.7858472998137803,
                    0.7858472998137803,
                    0.7579143389199254,
                    0.7858472998137803,
                    0.7877094972067038,
                    0.7318435754189944,
                    0.7858472998137803,
                    0.7113594040968342,
                    0.7858472998137803,
                    0.7877094972067038,
                    0.7895716945996275,
                    0.7895716945996275,
                    0.7895716945996275,
                    0.7895716945996275,
                    0.7895716945996275,
                    0.7877094972067038,
                    0.7877094972067038,
                    0.7877094972067038,
                    0.7877094972067038,
                    0.7895716945996275,
                    0.7895716945996275,
                    0.7895716945996275,
                    0.7895716945996275,
                    0.7616387337057727,
                    0.7113594040968342,
                    0.7858472998137803,
                    0.7858472998137803,
                    0.7895716945996275,
                    0.7895716945996275,
                    0.7877094972067038,
                    0.7877094972067038,
                    0.7895716945996275,
                    0.7597765363128492,
                    0.7839851024208566,
                    0.7895716945996275,
                    0.7895716945996275,
                    0.7877094972067038,
                    0.7858472998137803,
                    0.7895716945996275,
                    0.7821229050279329,
                    0.7858472998137803,
                    0.7877094972067038,
                    0.7895716945996275,
                    0.7709497206703911
                  ],
                  "yaxis": "y4"
                },
                {
                  "marker": {
                    "color": [
                      5,
                      9,
                      16,
                      19,
                      20,
                      21,
                      22,
                      23,
                      24,
                      25,
                      26,
                      27,
                      28,
                      29,
                      30,
                      31,
                      32,
                      33,
                      34,
                      35,
                      37,
                      38,
                      40,
                      41,
                      42,
                      43,
                      44,
                      46,
                      47,
                      48,
                      50,
                      51,
                      52,
                      53,
                      54,
                      55,
                      56,
                      57,
                      58,
                      59,
                      61,
                      62,
                      63,
                      64,
                      65,
                      66,
                      67,
                      68,
                      71,
                      72,
                      73,
                      74,
                      75,
                      76,
                      77,
                      78,
                      79,
                      80,
                      81,
                      82,
                      83,
                      84,
                      85,
                      86,
                      88,
                      89,
                      91,
                      92,
                      93,
                      94,
                      95,
                      96,
                      97,
                      98,
                      99
                    ],
                    "colorbar": {
                      "title": {
                        "text": "Trial"
                      },
                      "x": 1,
                      "xpad": 40
                    },
                    "colorscale": [
                      [
                        0,
                        "rgb(247,251,255)"
                      ],
                      [
                        0.125,
                        "rgb(222,235,247)"
                      ],
                      [
                        0.25,
                        "rgb(198,219,239)"
                      ],
                      [
                        0.375,
                        "rgb(158,202,225)"
                      ],
                      [
                        0.5,
                        "rgb(107,174,214)"
                      ],
                      [
                        0.625,
                        "rgb(66,146,198)"
                      ],
                      [
                        0.75,
                        "rgb(33,113,181)"
                      ],
                      [
                        0.875,
                        "rgb(8,81,156)"
                      ],
                      [
                        1,
                        "rgb(8,48,107)"
                      ]
                    ],
                    "line": {
                      "color": "Grey",
                      "width": 0.5
                    },
                    "showscale": false
                  },
                  "mode": "markers",
                  "name": "Feasible Trial",
                  "showlegend": false,
                  "type": "scatter",
                  "x": [
                    "sigmoid",
                    "rbf",
                    "poly",
                    "linear",
                    "linear",
                    "linear",
                    "linear",
                    "linear",
                    "linear",
                    "linear",
                    "linear",
                    "linear",
                    "linear",
                    "poly",
                    "sigmoid",
                    "linear",
                    "linear",
                    "linear",
                    "rbf",
                    "linear",
                    "linear",
                    "linear",
                    "linear",
                    "linear",
                    "linear",
                    "linear",
                    "linear",
                    "sigmoid",
                    "rbf",
                    "poly",
                    "linear",
                    "linear",
                    "linear",
                    "sigmoid",
                    "linear",
                    "linear",
                    "rbf",
                    "linear",
                    "poly",
                    "linear",
                    "linear",
                    "linear",
                    "linear",
                    "linear",
                    "linear",
                    "linear",
                    "linear",
                    "linear",
                    "linear",
                    "linear",
                    "linear",
                    "linear",
                    "linear",
                    "linear",
                    "sigmoid",
                    "poly",
                    "linear",
                    "linear",
                    "linear",
                    "linear",
                    "linear",
                    "linear",
                    "linear",
                    "rbf",
                    "linear",
                    "linear",
                    "linear",
                    "linear",
                    "linear",
                    "linear",
                    "linear",
                    "linear",
                    "linear",
                    "linear",
                    "sigmoid"
                  ],
                  "xaxis": "x5",
                  "y": [
                    0.7709497206703911,
                    0.7523277467411545,
                    0.6852886405959032,
                    0.7858472998137801,
                    0.7858472998137801,
                    0.7858472998137801,
                    0.7858472998137801,
                    0.7858472998137801,
                    0.7858472998137801,
                    0.7858472998137801,
                    0.7858472998137801,
                    0.7858472998137801,
                    0.7858472998137801,
                    0.7299813780260708,
                    0.7094972067039106,
                    0.7858472998137801,
                    0.7858472998137801,
                    0.7858472998137801,
                    0.7579143389199255,
                    0.7858472998137801,
                    0.7858472998137801,
                    0.7858472998137803,
                    0.7858472998137803,
                    0.7839851024208566,
                    0.7858472998137803,
                    0.7839851024208566,
                    0.7839851024208566,
                    0.7430167597765363,
                    0.7672253258845437,
                    0.7299813780260708,
                    0.7858472998137803,
                    0.7858472998137803,
                    0.7858472998137803,
                    0.7579143389199254,
                    0.7858472998137803,
                    0.7877094972067038,
                    0.7318435754189944,
                    0.7858472998137803,
                    0.7113594040968342,
                    0.7858472998137803,
                    0.7877094972067038,
                    0.7895716945996275,
                    0.7895716945996275,
                    0.7895716945996275,
                    0.7895716945996275,
                    0.7895716945996275,
                    0.7877094972067038,
                    0.7877094972067038,
                    0.7877094972067038,
                    0.7877094972067038,
                    0.7895716945996275,
                    0.7895716945996275,
                    0.7895716945996275,
                    0.7895716945996275,
                    0.7616387337057727,
                    0.7113594040968342,
                    0.7858472998137803,
                    0.7858472998137803,
                    0.7895716945996275,
                    0.7895716945996275,
                    0.7877094972067038,
                    0.7877094972067038,
                    0.7895716945996275,
                    0.7597765363128492,
                    0.7839851024208566,
                    0.7895716945996275,
                    0.7895716945996275,
                    0.7877094972067038,
                    0.7858472998137803,
                    0.7895716945996275,
                    0.7821229050279329,
                    0.7858472998137803,
                    0.7877094972067038,
                    0.7895716945996275,
                    0.7709497206703911
                  ],
                  "yaxis": "y5"
                },
                {
                  "marker": {
                    "color": [
                      0,
                      4,
                      6,
                      8,
                      36,
                      39,
                      45,
                      49,
                      70,
                      90
                    ],
                    "colorbar": {
                      "title": {
                        "text": "Trial"
                      },
                      "x": 1,
                      "xpad": 40
                    },
                    "colorscale": [
                      [
                        0,
                        "rgb(247,251,255)"
                      ],
                      [
                        0.125,
                        "rgb(222,235,247)"
                      ],
                      [
                        0.25,
                        "rgb(198,219,239)"
                      ],
                      [
                        0.375,
                        "rgb(158,202,225)"
                      ],
                      [
                        0.5,
                        "rgb(107,174,214)"
                      ],
                      [
                        0.625,
                        "rgb(66,146,198)"
                      ],
                      [
                        0.75,
                        "rgb(33,113,181)"
                      ],
                      [
                        0.875,
                        "rgb(8,81,156)"
                      ],
                      [
                        1,
                        "rgb(8,48,107)"
                      ]
                    ],
                    "line": {
                      "color": "Grey",
                      "width": 0.5
                    },
                    "showscale": false
                  },
                  "mode": "markers",
                  "name": "Feasible Trial",
                  "showlegend": false,
                  "type": "scatter",
                  "x": [
                    0.016720016656443928,
                    0.04223901002620864,
                    0.013497085483932136,
                    0.1278003421238721,
                    0.25864715498278573,
                    0.050980157901063076,
                    0.11206473993683186,
                    0.028949834865695637,
                    0.29646063577889237,
                    0.09857882282038208
                  ],
                  "xaxis": "x6",
                  "y": [
                    0.7486033519553073,
                    0.7281191806331471,
                    0.7579143389199255,
                    0.756052141527002,
                    0.7392923649906891,
                    0.750465549348231,
                    0.7430167597765363,
                    0.7448789571694601,
                    0.7467411545623835,
                    0.756052141527002
                  ],
                  "yaxis": "y6"
                },
                {
                  "marker": {
                    "color": [
                      0,
                      1,
                      2,
                      3,
                      4,
                      6,
                      7,
                      8,
                      10,
                      11,
                      12,
                      13,
                      14,
                      15,
                      17,
                      18,
                      36,
                      39,
                      45,
                      49,
                      60,
                      69,
                      70,
                      87,
                      90
                    ],
                    "colorbar": {
                      "title": {
                        "text": "Trial"
                      },
                      "x": 1,
                      "xpad": 40
                    },
                    "colorscale": [
                      [
                        0,
                        "rgb(247,251,255)"
                      ],
                      [
                        0.125,
                        "rgb(222,235,247)"
                      ],
                      [
                        0.25,
                        "rgb(198,219,239)"
                      ],
                      [
                        0.375,
                        "rgb(158,202,225)"
                      ],
                      [
                        0.5,
                        "rgb(107,174,214)"
                      ],
                      [
                        0.625,
                        "rgb(66,146,198)"
                      ],
                      [
                        0.75,
                        "rgb(33,113,181)"
                      ],
                      [
                        0.875,
                        "rgb(8,81,156)"
                      ],
                      [
                        1,
                        "rgb(8,48,107)"
                      ]
                    ],
                    "line": {
                      "color": "Grey",
                      "width": 0.5
                    },
                    "showscale": false
                  },
                  "mode": "markers",
                  "name": "Feasible Trial",
                  "showlegend": false,
                  "type": "scatter",
                  "x": [
                    6,
                    9,
                    13,
                    11,
                    18,
                    9,
                    10,
                    3,
                    17,
                    17,
                    20,
                    20,
                    20,
                    14,
                    14,
                    15,
                    3,
                    6,
                    6,
                    8,
                    5,
                    16,
                    12,
                    18,
                    8
                  ],
                  "xaxis": "x7",
                  "y": [
                    0.7486033519553073,
                    0.7635009310986964,
                    0.7709497206703911,
                    0.7653631284916201,
                    0.7281191806331471,
                    0.7579143389199255,
                    0.7560521415270017,
                    0.756052141527002,
                    0.7765363128491619,
                    0.7765363128491619,
                    0.7821229050279329,
                    0.7802607076350093,
                    0.7728119180633147,
                    0.7839851024208566,
                    0.7690875232774674,
                    0.7597765363128491,
                    0.7392923649906891,
                    0.750465549348231,
                    0.7430167597765363,
                    0.7448789571694601,
                    0.7597765363128491,
                    0.7635009310986964,
                    0.7467411545623835,
                    0.756052141527002,
                    0.756052141527002
                  ],
                  "yaxis": "y7"
                },
                {
                  "marker": {
                    "color": [
                      0,
                      1,
                      2,
                      3,
                      4,
                      6,
                      7,
                      8,
                      10,
                      11,
                      12,
                      13,
                      14,
                      15,
                      17,
                      18,
                      36,
                      39,
                      45,
                      49,
                      60,
                      69,
                      70,
                      87,
                      90
                    ],
                    "colorbar": {
                      "title": {
                        "text": "Trial"
                      },
                      "x": 1,
                      "xpad": 40
                    },
                    "colorscale": [
                      [
                        0,
                        "rgb(247,251,255)"
                      ],
                      [
                        0.125,
                        "rgb(222,235,247)"
                      ],
                      [
                        0.25,
                        "rgb(198,219,239)"
                      ],
                      [
                        0.375,
                        "rgb(158,202,225)"
                      ],
                      [
                        0.5,
                        "rgb(107,174,214)"
                      ],
                      [
                        0.625,
                        "rgb(66,146,198)"
                      ],
                      [
                        0.75,
                        "rgb(33,113,181)"
                      ],
                      [
                        0.875,
                        "rgb(8,81,156)"
                      ],
                      [
                        1,
                        "rgb(8,48,107)"
                      ]
                    ],
                    "line": {
                      "color": "Grey",
                      "width": 0.5
                    },
                    "showscale": false
                  },
                  "mode": "markers",
                  "name": "Feasible Trial",
                  "showlegend": false,
                  "type": "scatter",
                  "x": [
                    3,
                    4,
                    8,
                    6,
                    3,
                    8,
                    10,
                    7,
                    10,
                    10,
                    10,
                    10,
                    8,
                    9,
                    5,
                    9,
                    1,
                    2,
                    1,
                    5,
                    6,
                    4,
                    2,
                    7,
                    4
                  ],
                  "xaxis": "x8",
                  "y": [
                    0.7486033519553073,
                    0.7635009310986964,
                    0.7709497206703911,
                    0.7653631284916201,
                    0.7281191806331471,
                    0.7579143389199255,
                    0.7560521415270017,
                    0.756052141527002,
                    0.7765363128491619,
                    0.7765363128491619,
                    0.7821229050279329,
                    0.7802607076350093,
                    0.7728119180633147,
                    0.7839851024208566,
                    0.7690875232774674,
                    0.7597765363128491,
                    0.7392923649906891,
                    0.750465549348231,
                    0.7430167597765363,
                    0.7448789571694601,
                    0.7597765363128491,
                    0.7635009310986964,
                    0.7467411545623835,
                    0.756052141527002,
                    0.756052141527002
                  ],
                  "yaxis": "y8"
                },
                {
                  "marker": {
                    "color": [
                      0,
                      1,
                      2,
                      3,
                      4,
                      6,
                      7,
                      8,
                      10,
                      11,
                      12,
                      13,
                      14,
                      15,
                      17,
                      18,
                      36,
                      39,
                      45,
                      49,
                      60,
                      69,
                      70,
                      87,
                      90
                    ],
                    "colorbar": {
                      "title": {
                        "text": "Trial"
                      },
                      "x": 1,
                      "xpad": 40
                    },
                    "colorscale": [
                      [
                        0,
                        "rgb(247,251,255)"
                      ],
                      [
                        0.125,
                        "rgb(222,235,247)"
                      ],
                      [
                        0.25,
                        "rgb(198,219,239)"
                      ],
                      [
                        0.375,
                        "rgb(158,202,225)"
                      ],
                      [
                        0.5,
                        "rgb(107,174,214)"
                      ],
                      [
                        0.625,
                        "rgb(66,146,198)"
                      ],
                      [
                        0.75,
                        "rgb(33,113,181)"
                      ],
                      [
                        0.875,
                        "rgb(8,81,156)"
                      ],
                      [
                        1,
                        "rgb(8,48,107)"
                      ]
                    ],
                    "line": {
                      "color": "Grey",
                      "width": 0.5
                    },
                    "showscale": false
                  },
                  "mode": "markers",
                  "name": "Feasible Trial",
                  "showlegend": false,
                  "type": "scatter",
                  "x": [
                    6,
                    2,
                    9,
                    4,
                    9,
                    2,
                    3,
                    7,
                    10,
                    10,
                    10,
                    10,
                    7,
                    8,
                    8,
                    5,
                    4,
                    5,
                    6,
                    3,
                    5,
                    3,
                    7,
                    8,
                    6
                  ],
                  "xaxis": "x9",
                  "y": [
                    0.7486033519553073,
                    0.7635009310986964,
                    0.7709497206703911,
                    0.7653631284916201,
                    0.7281191806331471,
                    0.7579143389199255,
                    0.7560521415270017,
                    0.756052141527002,
                    0.7765363128491619,
                    0.7765363128491619,
                    0.7821229050279329,
                    0.7802607076350093,
                    0.7728119180633147,
                    0.7839851024208566,
                    0.7690875232774674,
                    0.7597765363128491,
                    0.7392923649906891,
                    0.750465549348231,
                    0.7430167597765363,
                    0.7448789571694601,
                    0.7597765363128491,
                    0.7635009310986964,
                    0.7467411545623835,
                    0.756052141527002,
                    0.756052141527002
                  ],
                  "yaxis": "y9"
                },
                {
                  "marker": {
                    "color": [
                      0,
                      1,
                      2,
                      3,
                      4,
                      6,
                      7,
                      8,
                      10,
                      11,
                      12,
                      13,
                      14,
                      15,
                      17,
                      18,
                      36,
                      39,
                      45,
                      49,
                      60,
                      69,
                      70,
                      87,
                      90
                    ],
                    "colorbar": {
                      "title": {
                        "text": "Trial"
                      },
                      "x": 1,
                      "xpad": 40
                    },
                    "colorscale": [
                      [
                        0,
                        "rgb(247,251,255)"
                      ],
                      [
                        0.125,
                        "rgb(222,235,247)"
                      ],
                      [
                        0.25,
                        "rgb(198,219,239)"
                      ],
                      [
                        0.375,
                        "rgb(158,202,225)"
                      ],
                      [
                        0.5,
                        "rgb(107,174,214)"
                      ],
                      [
                        0.625,
                        "rgb(66,146,198)"
                      ],
                      [
                        0.75,
                        "rgb(33,113,181)"
                      ],
                      [
                        0.875,
                        "rgb(8,81,156)"
                      ],
                      [
                        1,
                        "rgb(8,48,107)"
                      ]
                    ],
                    "line": {
                      "color": "Grey",
                      "width": 0.5
                    },
                    "showscale": false
                  },
                  "mode": "markers",
                  "name": "Feasible Trial",
                  "showlegend": false,
                  "type": "scatter",
                  "x": [
                    177,
                    282,
                    60,
                    62,
                    187,
                    239,
                    200,
                    155,
                    51,
                    55,
                    108,
                    116,
                    124,
                    117,
                    104,
                    98,
                    278,
                    225,
                    151,
                    230,
                    254,
                    299,
                    210,
                    87,
                    148
                  ],
                  "xaxis": "x10",
                  "y": [
                    0.7486033519553073,
                    0.7635009310986964,
                    0.7709497206703911,
                    0.7653631284916201,
                    0.7281191806331471,
                    0.7579143389199255,
                    0.7560521415270017,
                    0.756052141527002,
                    0.7765363128491619,
                    0.7765363128491619,
                    0.7821229050279329,
                    0.7802607076350093,
                    0.7728119180633147,
                    0.7839851024208566,
                    0.7690875232774674,
                    0.7597765363128491,
                    0.7392923649906891,
                    0.750465549348231,
                    0.7430167597765363,
                    0.7448789571694601,
                    0.7597765363128491,
                    0.7635009310986964,
                    0.7467411545623835,
                    0.756052141527002,
                    0.756052141527002
                  ],
                  "yaxis": "y10"
                }
              ],
              "layout": {
                "template": {
                  "data": {
                    "bar": [
                      {
                        "error_x": {
                          "color": "#2a3f5f"
                        },
                        "error_y": {
                          "color": "#2a3f5f"
                        },
                        "marker": {
                          "line": {
                            "color": "#E5ECF6",
                            "width": 0.5
                          },
                          "pattern": {
                            "fillmode": "overlay",
                            "size": 10,
                            "solidity": 0.2
                          }
                        },
                        "type": "bar"
                      }
                    ],
                    "barpolar": [
                      {
                        "marker": {
                          "line": {
                            "color": "#E5ECF6",
                            "width": 0.5
                          },
                          "pattern": {
                            "fillmode": "overlay",
                            "size": 10,
                            "solidity": 0.2
                          }
                        },
                        "type": "barpolar"
                      }
                    ],
                    "carpet": [
                      {
                        "aaxis": {
                          "endlinecolor": "#2a3f5f",
                          "gridcolor": "white",
                          "linecolor": "white",
                          "minorgridcolor": "white",
                          "startlinecolor": "#2a3f5f"
                        },
                        "baxis": {
                          "endlinecolor": "#2a3f5f",
                          "gridcolor": "white",
                          "linecolor": "white",
                          "minorgridcolor": "white",
                          "startlinecolor": "#2a3f5f"
                        },
                        "type": "carpet"
                      }
                    ],
                    "choropleth": [
                      {
                        "colorbar": {
                          "outlinewidth": 0,
                          "ticks": ""
                        },
                        "type": "choropleth"
                      }
                    ],
                    "contour": [
                      {
                        "colorbar": {
                          "outlinewidth": 0,
                          "ticks": ""
                        },
                        "colorscale": [
                          [
                            0,
                            "#0d0887"
                          ],
                          [
                            0.1111111111111111,
                            "#46039f"
                          ],
                          [
                            0.2222222222222222,
                            "#7201a8"
                          ],
                          [
                            0.3333333333333333,
                            "#9c179e"
                          ],
                          [
                            0.4444444444444444,
                            "#bd3786"
                          ],
                          [
                            0.5555555555555556,
                            "#d8576b"
                          ],
                          [
                            0.6666666666666666,
                            "#ed7953"
                          ],
                          [
                            0.7777777777777778,
                            "#fb9f3a"
                          ],
                          [
                            0.8888888888888888,
                            "#fdca26"
                          ],
                          [
                            1,
                            "#f0f921"
                          ]
                        ],
                        "type": "contour"
                      }
                    ],
                    "contourcarpet": [
                      {
                        "colorbar": {
                          "outlinewidth": 0,
                          "ticks": ""
                        },
                        "type": "contourcarpet"
                      }
                    ],
                    "heatmap": [
                      {
                        "colorbar": {
                          "outlinewidth": 0,
                          "ticks": ""
                        },
                        "colorscale": [
                          [
                            0,
                            "#0d0887"
                          ],
                          [
                            0.1111111111111111,
                            "#46039f"
                          ],
                          [
                            0.2222222222222222,
                            "#7201a8"
                          ],
                          [
                            0.3333333333333333,
                            "#9c179e"
                          ],
                          [
                            0.4444444444444444,
                            "#bd3786"
                          ],
                          [
                            0.5555555555555556,
                            "#d8576b"
                          ],
                          [
                            0.6666666666666666,
                            "#ed7953"
                          ],
                          [
                            0.7777777777777778,
                            "#fb9f3a"
                          ],
                          [
                            0.8888888888888888,
                            "#fdca26"
                          ],
                          [
                            1,
                            "#f0f921"
                          ]
                        ],
                        "type": "heatmap"
                      }
                    ],
                    "histogram": [
                      {
                        "marker": {
                          "pattern": {
                            "fillmode": "overlay",
                            "size": 10,
                            "solidity": 0.2
                          }
                        },
                        "type": "histogram"
                      }
                    ],
                    "histogram2d": [
                      {
                        "colorbar": {
                          "outlinewidth": 0,
                          "ticks": ""
                        },
                        "colorscale": [
                          [
                            0,
                            "#0d0887"
                          ],
                          [
                            0.1111111111111111,
                            "#46039f"
                          ],
                          [
                            0.2222222222222222,
                            "#7201a8"
                          ],
                          [
                            0.3333333333333333,
                            "#9c179e"
                          ],
                          [
                            0.4444444444444444,
                            "#bd3786"
                          ],
                          [
                            0.5555555555555556,
                            "#d8576b"
                          ],
                          [
                            0.6666666666666666,
                            "#ed7953"
                          ],
                          [
                            0.7777777777777778,
                            "#fb9f3a"
                          ],
                          [
                            0.8888888888888888,
                            "#fdca26"
                          ],
                          [
                            1,
                            "#f0f921"
                          ]
                        ],
                        "type": "histogram2d"
                      }
                    ],
                    "histogram2dcontour": [
                      {
                        "colorbar": {
                          "outlinewidth": 0,
                          "ticks": ""
                        },
                        "colorscale": [
                          [
                            0,
                            "#0d0887"
                          ],
                          [
                            0.1111111111111111,
                            "#46039f"
                          ],
                          [
                            0.2222222222222222,
                            "#7201a8"
                          ],
                          [
                            0.3333333333333333,
                            "#9c179e"
                          ],
                          [
                            0.4444444444444444,
                            "#bd3786"
                          ],
                          [
                            0.5555555555555556,
                            "#d8576b"
                          ],
                          [
                            0.6666666666666666,
                            "#ed7953"
                          ],
                          [
                            0.7777777777777778,
                            "#fb9f3a"
                          ],
                          [
                            0.8888888888888888,
                            "#fdca26"
                          ],
                          [
                            1,
                            "#f0f921"
                          ]
                        ],
                        "type": "histogram2dcontour"
                      }
                    ],
                    "mesh3d": [
                      {
                        "colorbar": {
                          "outlinewidth": 0,
                          "ticks": ""
                        },
                        "type": "mesh3d"
                      }
                    ],
                    "parcoords": [
                      {
                        "line": {
                          "colorbar": {
                            "outlinewidth": 0,
                            "ticks": ""
                          }
                        },
                        "type": "parcoords"
                      }
                    ],
                    "pie": [
                      {
                        "automargin": true,
                        "type": "pie"
                      }
                    ],
                    "scatter": [
                      {
                        "fillpattern": {
                          "fillmode": "overlay",
                          "size": 10,
                          "solidity": 0.2
                        },
                        "type": "scatter"
                      }
                    ],
                    "scatter3d": [
                      {
                        "line": {
                          "colorbar": {
                            "outlinewidth": 0,
                            "ticks": ""
                          }
                        },
                        "marker": {
                          "colorbar": {
                            "outlinewidth": 0,
                            "ticks": ""
                          }
                        },
                        "type": "scatter3d"
                      }
                    ],
                    "scattercarpet": [
                      {
                        "marker": {
                          "colorbar": {
                            "outlinewidth": 0,
                            "ticks": ""
                          }
                        },
                        "type": "scattercarpet"
                      }
                    ],
                    "scattergeo": [
                      {
                        "marker": {
                          "colorbar": {
                            "outlinewidth": 0,
                            "ticks": ""
                          }
                        },
                        "type": "scattergeo"
                      }
                    ],
                    "scattergl": [
                      {
                        "marker": {
                          "colorbar": {
                            "outlinewidth": 0,
                            "ticks": ""
                          }
                        },
                        "type": "scattergl"
                      }
                    ],
                    "scattermap": [
                      {
                        "marker": {
                          "colorbar": {
                            "outlinewidth": 0,
                            "ticks": ""
                          }
                        },
                        "type": "scattermap"
                      }
                    ],
                    "scattermapbox": [
                      {
                        "marker": {
                          "colorbar": {
                            "outlinewidth": 0,
                            "ticks": ""
                          }
                        },
                        "type": "scattermapbox"
                      }
                    ],
                    "scatterpolar": [
                      {
                        "marker": {
                          "colorbar": {
                            "outlinewidth": 0,
                            "ticks": ""
                          }
                        },
                        "type": "scatterpolar"
                      }
                    ],
                    "scatterpolargl": [
                      {
                        "marker": {
                          "colorbar": {
                            "outlinewidth": 0,
                            "ticks": ""
                          }
                        },
                        "type": "scatterpolargl"
                      }
                    ],
                    "scatterternary": [
                      {
                        "marker": {
                          "colorbar": {
                            "outlinewidth": 0,
                            "ticks": ""
                          }
                        },
                        "type": "scatterternary"
                      }
                    ],
                    "surface": [
                      {
                        "colorbar": {
                          "outlinewidth": 0,
                          "ticks": ""
                        },
                        "colorscale": [
                          [
                            0,
                            "#0d0887"
                          ],
                          [
                            0.1111111111111111,
                            "#46039f"
                          ],
                          [
                            0.2222222222222222,
                            "#7201a8"
                          ],
                          [
                            0.3333333333333333,
                            "#9c179e"
                          ],
                          [
                            0.4444444444444444,
                            "#bd3786"
                          ],
                          [
                            0.5555555555555556,
                            "#d8576b"
                          ],
                          [
                            0.6666666666666666,
                            "#ed7953"
                          ],
                          [
                            0.7777777777777778,
                            "#fb9f3a"
                          ],
                          [
                            0.8888888888888888,
                            "#fdca26"
                          ],
                          [
                            1,
                            "#f0f921"
                          ]
                        ],
                        "type": "surface"
                      }
                    ],
                    "table": [
                      {
                        "cells": {
                          "fill": {
                            "color": "#EBF0F8"
                          },
                          "line": {
                            "color": "white"
                          }
                        },
                        "header": {
                          "fill": {
                            "color": "#C8D4E3"
                          },
                          "line": {
                            "color": "white"
                          }
                        },
                        "type": "table"
                      }
                    ]
                  },
                  "layout": {
                    "annotationdefaults": {
                      "arrowcolor": "#2a3f5f",
                      "arrowhead": 0,
                      "arrowwidth": 1
                    },
                    "autotypenumbers": "strict",
                    "coloraxis": {
                      "colorbar": {
                        "outlinewidth": 0,
                        "ticks": ""
                      }
                    },
                    "colorscale": {
                      "diverging": [
                        [
                          0,
                          "#8e0152"
                        ],
                        [
                          0.1,
                          "#c51b7d"
                        ],
                        [
                          0.2,
                          "#de77ae"
                        ],
                        [
                          0.3,
                          "#f1b6da"
                        ],
                        [
                          0.4,
                          "#fde0ef"
                        ],
                        [
                          0.5,
                          "#f7f7f7"
                        ],
                        [
                          0.6,
                          "#e6f5d0"
                        ],
                        [
                          0.7,
                          "#b8e186"
                        ],
                        [
                          0.8,
                          "#7fbc41"
                        ],
                        [
                          0.9,
                          "#4d9221"
                        ],
                        [
                          1,
                          "#276419"
                        ]
                      ],
                      "sequential": [
                        [
                          0,
                          "#0d0887"
                        ],
                        [
                          0.1111111111111111,
                          "#46039f"
                        ],
                        [
                          0.2222222222222222,
                          "#7201a8"
                        ],
                        [
                          0.3333333333333333,
                          "#9c179e"
                        ],
                        [
                          0.4444444444444444,
                          "#bd3786"
                        ],
                        [
                          0.5555555555555556,
                          "#d8576b"
                        ],
                        [
                          0.6666666666666666,
                          "#ed7953"
                        ],
                        [
                          0.7777777777777778,
                          "#fb9f3a"
                        ],
                        [
                          0.8888888888888888,
                          "#fdca26"
                        ],
                        [
                          1,
                          "#f0f921"
                        ]
                      ],
                      "sequentialminus": [
                        [
                          0,
                          "#0d0887"
                        ],
                        [
                          0.1111111111111111,
                          "#46039f"
                        ],
                        [
                          0.2222222222222222,
                          "#7201a8"
                        ],
                        [
                          0.3333333333333333,
                          "#9c179e"
                        ],
                        [
                          0.4444444444444444,
                          "#bd3786"
                        ],
                        [
                          0.5555555555555556,
                          "#d8576b"
                        ],
                        [
                          0.6666666666666666,
                          "#ed7953"
                        ],
                        [
                          0.7777777777777778,
                          "#fb9f3a"
                        ],
                        [
                          0.8888888888888888,
                          "#fdca26"
                        ],
                        [
                          1,
                          "#f0f921"
                        ]
                      ]
                    },
                    "colorway": [
                      "#636efa",
                      "#EF553B",
                      "#00cc96",
                      "#ab63fa",
                      "#FFA15A",
                      "#19d3f3",
                      "#FF6692",
                      "#B6E880",
                      "#FF97FF",
                      "#FECB52"
                    ],
                    "font": {
                      "color": "#2a3f5f"
                    },
                    "geo": {
                      "bgcolor": "white",
                      "lakecolor": "white",
                      "landcolor": "#E5ECF6",
                      "showlakes": true,
                      "showland": true,
                      "subunitcolor": "white"
                    },
                    "hoverlabel": {
                      "align": "left"
                    },
                    "hovermode": "closest",
                    "mapbox": {
                      "style": "light"
                    },
                    "paper_bgcolor": "white",
                    "plot_bgcolor": "#E5ECF6",
                    "polar": {
                      "angularaxis": {
                        "gridcolor": "white",
                        "linecolor": "white",
                        "ticks": ""
                      },
                      "bgcolor": "#E5ECF6",
                      "radialaxis": {
                        "gridcolor": "white",
                        "linecolor": "white",
                        "ticks": ""
                      }
                    },
                    "scene": {
                      "xaxis": {
                        "backgroundcolor": "#E5ECF6",
                        "gridcolor": "white",
                        "gridwidth": 2,
                        "linecolor": "white",
                        "showbackground": true,
                        "ticks": "",
                        "zerolinecolor": "white"
                      },
                      "yaxis": {
                        "backgroundcolor": "#E5ECF6",
                        "gridcolor": "white",
                        "gridwidth": 2,
                        "linecolor": "white",
                        "showbackground": true,
                        "ticks": "",
                        "zerolinecolor": "white"
                      },
                      "zaxis": {
                        "backgroundcolor": "#E5ECF6",
                        "gridcolor": "white",
                        "gridwidth": 2,
                        "linecolor": "white",
                        "showbackground": true,
                        "ticks": "",
                        "zerolinecolor": "white"
                      }
                    },
                    "shapedefaults": {
                      "line": {
                        "color": "#2a3f5f"
                      }
                    },
                    "ternary": {
                      "aaxis": {
                        "gridcolor": "white",
                        "linecolor": "white",
                        "ticks": ""
                      },
                      "baxis": {
                        "gridcolor": "white",
                        "linecolor": "white",
                        "ticks": ""
                      },
                      "bgcolor": "#E5ECF6",
                      "caxis": {
                        "gridcolor": "white",
                        "linecolor": "white",
                        "ticks": ""
                      }
                    },
                    "title": {
                      "x": 0.05
                    },
                    "xaxis": {
                      "automargin": true,
                      "gridcolor": "white",
                      "linecolor": "white",
                      "ticks": "",
                      "title": {
                        "standoff": 15
                      },
                      "zerolinecolor": "white",
                      "zerolinewidth": 2
                    },
                    "yaxis": {
                      "automargin": true,
                      "gridcolor": "white",
                      "linecolor": "white",
                      "ticks": "",
                      "title": {
                        "standoff": 15
                      },
                      "zerolinecolor": "white",
                      "zerolinewidth": 2
                    }
                  }
                },
                "title": {
                  "text": "Slice Plot"
                },
                "width": 3000,
                "xaxis": {
                  "anchor": "y",
                  "domain": [
                    0,
                    0.082
                  ],
                  "title": {
                    "text": "C"
                  },
                  "type": "log"
                },
                "xaxis10": {
                  "anchor": "y10",
                  "domain": [
                    0.9179999999999999,
                    0.9999999999999999
                  ],
                  "title": {
                    "text": "n_estimators"
                  }
                },
                "xaxis2": {
                  "anchor": "y2",
                  "categoryarray": [
                    true,
                    false
                  ],
                  "categoryorder": "array",
                  "domain": [
                    0.10200000000000001,
                    0.184
                  ],
                  "title": {
                    "text": "bootstrap"
                  },
                  "type": "category"
                },
                "xaxis3": {
                  "anchor": "y3",
                  "categoryarray": [
                    "SVM",
                    "RandomForest",
                    "GradientBoosting"
                  ],
                  "categoryorder": "array",
                  "domain": [
                    0.20400000000000001,
                    0.28600000000000003
                  ],
                  "title": {
                    "text": "classifier"
                  },
                  "type": "category"
                },
                "xaxis4": {
                  "anchor": "y4",
                  "categoryarray": [
                    "scale",
                    "auto"
                  ],
                  "categoryorder": "array",
                  "domain": [
                    0.306,
                    0.388
                  ],
                  "title": {
                    "text": "gamma"
                  },
                  "type": "category"
                },
                "xaxis5": {
                  "anchor": "y5",
                  "categoryarray": [
                    "linear",
                    "rbf",
                    "poly",
                    "sigmoid"
                  ],
                  "categoryorder": "array",
                  "domain": [
                    0.40800000000000003,
                    0.49000000000000005
                  ],
                  "title": {
                    "text": "kernel"
                  },
                  "type": "category"
                },
                "xaxis6": {
                  "anchor": "y6",
                  "domain": [
                    0.51,
                    0.592
                  ],
                  "title": {
                    "text": "learning_rate"
                  },
                  "type": "log"
                },
                "xaxis7": {
                  "anchor": "y7",
                  "domain": [
                    0.612,
                    0.694
                  ],
                  "title": {
                    "text": "max_depth"
                  }
                },
                "xaxis8": {
                  "anchor": "y8",
                  "domain": [
                    0.7140000000000001,
                    0.796
                  ],
                  "title": {
                    "text": "min_samples_leaf"
                  }
                },
                "xaxis9": {
                  "anchor": "y9",
                  "domain": [
                    0.8160000000000001,
                    0.898
                  ],
                  "title": {
                    "text": "min_samples_split"
                  }
                },
                "yaxis": {
                  "anchor": "x",
                  "domain": [
                    0,
                    1
                  ],
                  "title": {
                    "text": "Objective Value"
                  }
                },
                "yaxis10": {
                  "anchor": "x10",
                  "domain": [
                    0,
                    1
                  ],
                  "matches": "y",
                  "showticklabels": false
                },
                "yaxis2": {
                  "anchor": "x2",
                  "domain": [
                    0,
                    1
                  ],
                  "matches": "y",
                  "showticklabels": false
                },
                "yaxis3": {
                  "anchor": "x3",
                  "domain": [
                    0,
                    1
                  ],
                  "matches": "y",
                  "showticklabels": false
                },
                "yaxis4": {
                  "anchor": "x4",
                  "domain": [
                    0,
                    1
                  ],
                  "matches": "y",
                  "showticklabels": false
                },
                "yaxis5": {
                  "anchor": "x5",
                  "domain": [
                    0,
                    1
                  ],
                  "matches": "y",
                  "showticklabels": false
                },
                "yaxis6": {
                  "anchor": "x6",
                  "domain": [
                    0,
                    1
                  ],
                  "matches": "y",
                  "showticklabels": false
                },
                "yaxis7": {
                  "anchor": "x7",
                  "domain": [
                    0,
                    1
                  ],
                  "matches": "y",
                  "showticklabels": false
                },
                "yaxis8": {
                  "anchor": "x8",
                  "domain": [
                    0,
                    1
                  ],
                  "matches": "y",
                  "showticklabels": false
                },
                "yaxis9": {
                  "anchor": "x9",
                  "domain": [
                    0,
                    1
                  ],
                  "matches": "y",
                  "showticklabels": false
                }
              }
            }
          },
          "metadata": {},
          "output_type": "display_data"
        }
      ],
      "source": [
        "# 3. Slice Plot\n",
        "plot_slice(study).show()"
      ]
    },
    {
      "cell_type": "code",
      "execution_count": 25,
      "metadata": {
        "colab": {
          "base_uri": "https://localhost:8080/",
          "height": 542
        },
        "id": "rUhujoemC4hI",
        "outputId": "1928b7b9-16f5-4ac1-8370-a94e5e639bc6"
      },
      "outputs": [
        {
          "data": {
            "application/vnd.plotly.v1+json": {
              "config": {
                "plotlyServerURL": "https://plot.ly"
              },
              "data": [
                {
                  "cliponaxis": false,
                  "hovertemplate": [
                    "classifier (CategoricalDistribution): 1.0<extra></extra>"
                  ],
                  "name": "Objective Value",
                  "orientation": "h",
                  "text": [
                    "1.00"
                  ],
                  "textposition": "outside",
                  "type": "bar",
                  "x": [
                    1
                  ],
                  "y": [
                    "classifier"
                  ]
                }
              ],
              "layout": {
                "template": {
                  "data": {
                    "bar": [
                      {
                        "error_x": {
                          "color": "#2a3f5f"
                        },
                        "error_y": {
                          "color": "#2a3f5f"
                        },
                        "marker": {
                          "line": {
                            "color": "#E5ECF6",
                            "width": 0.5
                          },
                          "pattern": {
                            "fillmode": "overlay",
                            "size": 10,
                            "solidity": 0.2
                          }
                        },
                        "type": "bar"
                      }
                    ],
                    "barpolar": [
                      {
                        "marker": {
                          "line": {
                            "color": "#E5ECF6",
                            "width": 0.5
                          },
                          "pattern": {
                            "fillmode": "overlay",
                            "size": 10,
                            "solidity": 0.2
                          }
                        },
                        "type": "barpolar"
                      }
                    ],
                    "carpet": [
                      {
                        "aaxis": {
                          "endlinecolor": "#2a3f5f",
                          "gridcolor": "white",
                          "linecolor": "white",
                          "minorgridcolor": "white",
                          "startlinecolor": "#2a3f5f"
                        },
                        "baxis": {
                          "endlinecolor": "#2a3f5f",
                          "gridcolor": "white",
                          "linecolor": "white",
                          "minorgridcolor": "white",
                          "startlinecolor": "#2a3f5f"
                        },
                        "type": "carpet"
                      }
                    ],
                    "choropleth": [
                      {
                        "colorbar": {
                          "outlinewidth": 0,
                          "ticks": ""
                        },
                        "type": "choropleth"
                      }
                    ],
                    "contour": [
                      {
                        "colorbar": {
                          "outlinewidth": 0,
                          "ticks": ""
                        },
                        "colorscale": [
                          [
                            0,
                            "#0d0887"
                          ],
                          [
                            0.1111111111111111,
                            "#46039f"
                          ],
                          [
                            0.2222222222222222,
                            "#7201a8"
                          ],
                          [
                            0.3333333333333333,
                            "#9c179e"
                          ],
                          [
                            0.4444444444444444,
                            "#bd3786"
                          ],
                          [
                            0.5555555555555556,
                            "#d8576b"
                          ],
                          [
                            0.6666666666666666,
                            "#ed7953"
                          ],
                          [
                            0.7777777777777778,
                            "#fb9f3a"
                          ],
                          [
                            0.8888888888888888,
                            "#fdca26"
                          ],
                          [
                            1,
                            "#f0f921"
                          ]
                        ],
                        "type": "contour"
                      }
                    ],
                    "contourcarpet": [
                      {
                        "colorbar": {
                          "outlinewidth": 0,
                          "ticks": ""
                        },
                        "type": "contourcarpet"
                      }
                    ],
                    "heatmap": [
                      {
                        "colorbar": {
                          "outlinewidth": 0,
                          "ticks": ""
                        },
                        "colorscale": [
                          [
                            0,
                            "#0d0887"
                          ],
                          [
                            0.1111111111111111,
                            "#46039f"
                          ],
                          [
                            0.2222222222222222,
                            "#7201a8"
                          ],
                          [
                            0.3333333333333333,
                            "#9c179e"
                          ],
                          [
                            0.4444444444444444,
                            "#bd3786"
                          ],
                          [
                            0.5555555555555556,
                            "#d8576b"
                          ],
                          [
                            0.6666666666666666,
                            "#ed7953"
                          ],
                          [
                            0.7777777777777778,
                            "#fb9f3a"
                          ],
                          [
                            0.8888888888888888,
                            "#fdca26"
                          ],
                          [
                            1,
                            "#f0f921"
                          ]
                        ],
                        "type": "heatmap"
                      }
                    ],
                    "histogram": [
                      {
                        "marker": {
                          "pattern": {
                            "fillmode": "overlay",
                            "size": 10,
                            "solidity": 0.2
                          }
                        },
                        "type": "histogram"
                      }
                    ],
                    "histogram2d": [
                      {
                        "colorbar": {
                          "outlinewidth": 0,
                          "ticks": ""
                        },
                        "colorscale": [
                          [
                            0,
                            "#0d0887"
                          ],
                          [
                            0.1111111111111111,
                            "#46039f"
                          ],
                          [
                            0.2222222222222222,
                            "#7201a8"
                          ],
                          [
                            0.3333333333333333,
                            "#9c179e"
                          ],
                          [
                            0.4444444444444444,
                            "#bd3786"
                          ],
                          [
                            0.5555555555555556,
                            "#d8576b"
                          ],
                          [
                            0.6666666666666666,
                            "#ed7953"
                          ],
                          [
                            0.7777777777777778,
                            "#fb9f3a"
                          ],
                          [
                            0.8888888888888888,
                            "#fdca26"
                          ],
                          [
                            1,
                            "#f0f921"
                          ]
                        ],
                        "type": "histogram2d"
                      }
                    ],
                    "histogram2dcontour": [
                      {
                        "colorbar": {
                          "outlinewidth": 0,
                          "ticks": ""
                        },
                        "colorscale": [
                          [
                            0,
                            "#0d0887"
                          ],
                          [
                            0.1111111111111111,
                            "#46039f"
                          ],
                          [
                            0.2222222222222222,
                            "#7201a8"
                          ],
                          [
                            0.3333333333333333,
                            "#9c179e"
                          ],
                          [
                            0.4444444444444444,
                            "#bd3786"
                          ],
                          [
                            0.5555555555555556,
                            "#d8576b"
                          ],
                          [
                            0.6666666666666666,
                            "#ed7953"
                          ],
                          [
                            0.7777777777777778,
                            "#fb9f3a"
                          ],
                          [
                            0.8888888888888888,
                            "#fdca26"
                          ],
                          [
                            1,
                            "#f0f921"
                          ]
                        ],
                        "type": "histogram2dcontour"
                      }
                    ],
                    "mesh3d": [
                      {
                        "colorbar": {
                          "outlinewidth": 0,
                          "ticks": ""
                        },
                        "type": "mesh3d"
                      }
                    ],
                    "parcoords": [
                      {
                        "line": {
                          "colorbar": {
                            "outlinewidth": 0,
                            "ticks": ""
                          }
                        },
                        "type": "parcoords"
                      }
                    ],
                    "pie": [
                      {
                        "automargin": true,
                        "type": "pie"
                      }
                    ],
                    "scatter": [
                      {
                        "fillpattern": {
                          "fillmode": "overlay",
                          "size": 10,
                          "solidity": 0.2
                        },
                        "type": "scatter"
                      }
                    ],
                    "scatter3d": [
                      {
                        "line": {
                          "colorbar": {
                            "outlinewidth": 0,
                            "ticks": ""
                          }
                        },
                        "marker": {
                          "colorbar": {
                            "outlinewidth": 0,
                            "ticks": ""
                          }
                        },
                        "type": "scatter3d"
                      }
                    ],
                    "scattercarpet": [
                      {
                        "marker": {
                          "colorbar": {
                            "outlinewidth": 0,
                            "ticks": ""
                          }
                        },
                        "type": "scattercarpet"
                      }
                    ],
                    "scattergeo": [
                      {
                        "marker": {
                          "colorbar": {
                            "outlinewidth": 0,
                            "ticks": ""
                          }
                        },
                        "type": "scattergeo"
                      }
                    ],
                    "scattergl": [
                      {
                        "marker": {
                          "colorbar": {
                            "outlinewidth": 0,
                            "ticks": ""
                          }
                        },
                        "type": "scattergl"
                      }
                    ],
                    "scattermap": [
                      {
                        "marker": {
                          "colorbar": {
                            "outlinewidth": 0,
                            "ticks": ""
                          }
                        },
                        "type": "scattermap"
                      }
                    ],
                    "scattermapbox": [
                      {
                        "marker": {
                          "colorbar": {
                            "outlinewidth": 0,
                            "ticks": ""
                          }
                        },
                        "type": "scattermapbox"
                      }
                    ],
                    "scatterpolar": [
                      {
                        "marker": {
                          "colorbar": {
                            "outlinewidth": 0,
                            "ticks": ""
                          }
                        },
                        "type": "scatterpolar"
                      }
                    ],
                    "scatterpolargl": [
                      {
                        "marker": {
                          "colorbar": {
                            "outlinewidth": 0,
                            "ticks": ""
                          }
                        },
                        "type": "scatterpolargl"
                      }
                    ],
                    "scatterternary": [
                      {
                        "marker": {
                          "colorbar": {
                            "outlinewidth": 0,
                            "ticks": ""
                          }
                        },
                        "type": "scatterternary"
                      }
                    ],
                    "surface": [
                      {
                        "colorbar": {
                          "outlinewidth": 0,
                          "ticks": ""
                        },
                        "colorscale": [
                          [
                            0,
                            "#0d0887"
                          ],
                          [
                            0.1111111111111111,
                            "#46039f"
                          ],
                          [
                            0.2222222222222222,
                            "#7201a8"
                          ],
                          [
                            0.3333333333333333,
                            "#9c179e"
                          ],
                          [
                            0.4444444444444444,
                            "#bd3786"
                          ],
                          [
                            0.5555555555555556,
                            "#d8576b"
                          ],
                          [
                            0.6666666666666666,
                            "#ed7953"
                          ],
                          [
                            0.7777777777777778,
                            "#fb9f3a"
                          ],
                          [
                            0.8888888888888888,
                            "#fdca26"
                          ],
                          [
                            1,
                            "#f0f921"
                          ]
                        ],
                        "type": "surface"
                      }
                    ],
                    "table": [
                      {
                        "cells": {
                          "fill": {
                            "color": "#EBF0F8"
                          },
                          "line": {
                            "color": "white"
                          }
                        },
                        "header": {
                          "fill": {
                            "color": "#C8D4E3"
                          },
                          "line": {
                            "color": "white"
                          }
                        },
                        "type": "table"
                      }
                    ]
                  },
                  "layout": {
                    "annotationdefaults": {
                      "arrowcolor": "#2a3f5f",
                      "arrowhead": 0,
                      "arrowwidth": 1
                    },
                    "autotypenumbers": "strict",
                    "coloraxis": {
                      "colorbar": {
                        "outlinewidth": 0,
                        "ticks": ""
                      }
                    },
                    "colorscale": {
                      "diverging": [
                        [
                          0,
                          "#8e0152"
                        ],
                        [
                          0.1,
                          "#c51b7d"
                        ],
                        [
                          0.2,
                          "#de77ae"
                        ],
                        [
                          0.3,
                          "#f1b6da"
                        ],
                        [
                          0.4,
                          "#fde0ef"
                        ],
                        [
                          0.5,
                          "#f7f7f7"
                        ],
                        [
                          0.6,
                          "#e6f5d0"
                        ],
                        [
                          0.7,
                          "#b8e186"
                        ],
                        [
                          0.8,
                          "#7fbc41"
                        ],
                        [
                          0.9,
                          "#4d9221"
                        ],
                        [
                          1,
                          "#276419"
                        ]
                      ],
                      "sequential": [
                        [
                          0,
                          "#0d0887"
                        ],
                        [
                          0.1111111111111111,
                          "#46039f"
                        ],
                        [
                          0.2222222222222222,
                          "#7201a8"
                        ],
                        [
                          0.3333333333333333,
                          "#9c179e"
                        ],
                        [
                          0.4444444444444444,
                          "#bd3786"
                        ],
                        [
                          0.5555555555555556,
                          "#d8576b"
                        ],
                        [
                          0.6666666666666666,
                          "#ed7953"
                        ],
                        [
                          0.7777777777777778,
                          "#fb9f3a"
                        ],
                        [
                          0.8888888888888888,
                          "#fdca26"
                        ],
                        [
                          1,
                          "#f0f921"
                        ]
                      ],
                      "sequentialminus": [
                        [
                          0,
                          "#0d0887"
                        ],
                        [
                          0.1111111111111111,
                          "#46039f"
                        ],
                        [
                          0.2222222222222222,
                          "#7201a8"
                        ],
                        [
                          0.3333333333333333,
                          "#9c179e"
                        ],
                        [
                          0.4444444444444444,
                          "#bd3786"
                        ],
                        [
                          0.5555555555555556,
                          "#d8576b"
                        ],
                        [
                          0.6666666666666666,
                          "#ed7953"
                        ],
                        [
                          0.7777777777777778,
                          "#fb9f3a"
                        ],
                        [
                          0.8888888888888888,
                          "#fdca26"
                        ],
                        [
                          1,
                          "#f0f921"
                        ]
                      ]
                    },
                    "colorway": [
                      "#636efa",
                      "#EF553B",
                      "#00cc96",
                      "#ab63fa",
                      "#FFA15A",
                      "#19d3f3",
                      "#FF6692",
                      "#B6E880",
                      "#FF97FF",
                      "#FECB52"
                    ],
                    "font": {
                      "color": "#2a3f5f"
                    },
                    "geo": {
                      "bgcolor": "white",
                      "lakecolor": "white",
                      "landcolor": "#E5ECF6",
                      "showlakes": true,
                      "showland": true,
                      "subunitcolor": "white"
                    },
                    "hoverlabel": {
                      "align": "left"
                    },
                    "hovermode": "closest",
                    "mapbox": {
                      "style": "light"
                    },
                    "paper_bgcolor": "white",
                    "plot_bgcolor": "#E5ECF6",
                    "polar": {
                      "angularaxis": {
                        "gridcolor": "white",
                        "linecolor": "white",
                        "ticks": ""
                      },
                      "bgcolor": "#E5ECF6",
                      "radialaxis": {
                        "gridcolor": "white",
                        "linecolor": "white",
                        "ticks": ""
                      }
                    },
                    "scene": {
                      "xaxis": {
                        "backgroundcolor": "#E5ECF6",
                        "gridcolor": "white",
                        "gridwidth": 2,
                        "linecolor": "white",
                        "showbackground": true,
                        "ticks": "",
                        "zerolinecolor": "white"
                      },
                      "yaxis": {
                        "backgroundcolor": "#E5ECF6",
                        "gridcolor": "white",
                        "gridwidth": 2,
                        "linecolor": "white",
                        "showbackground": true,
                        "ticks": "",
                        "zerolinecolor": "white"
                      },
                      "zaxis": {
                        "backgroundcolor": "#E5ECF6",
                        "gridcolor": "white",
                        "gridwidth": 2,
                        "linecolor": "white",
                        "showbackground": true,
                        "ticks": "",
                        "zerolinecolor": "white"
                      }
                    },
                    "shapedefaults": {
                      "line": {
                        "color": "#2a3f5f"
                      }
                    },
                    "ternary": {
                      "aaxis": {
                        "gridcolor": "white",
                        "linecolor": "white",
                        "ticks": ""
                      },
                      "baxis": {
                        "gridcolor": "white",
                        "linecolor": "white",
                        "ticks": ""
                      },
                      "bgcolor": "#E5ECF6",
                      "caxis": {
                        "gridcolor": "white",
                        "linecolor": "white",
                        "ticks": ""
                      }
                    },
                    "title": {
                      "x": 0.05
                    },
                    "xaxis": {
                      "automargin": true,
                      "gridcolor": "white",
                      "linecolor": "white",
                      "ticks": "",
                      "title": {
                        "standoff": 15
                      },
                      "zerolinecolor": "white",
                      "zerolinewidth": 2
                    },
                    "yaxis": {
                      "automargin": true,
                      "gridcolor": "white",
                      "linecolor": "white",
                      "ticks": "",
                      "title": {
                        "standoff": 15
                      },
                      "zerolinecolor": "white",
                      "zerolinewidth": 2
                    }
                  }
                },
                "title": {
                  "text": "Hyperparameter Importances"
                },
                "xaxis": {
                  "title": {
                    "text": "Hyperparameter Importance"
                  }
                },
                "yaxis": {
                  "title": {
                    "text": "Hyperparameter"
                  }
                }
              }
            }
          },
          "metadata": {},
          "output_type": "display_data"
        }
      ],
      "source": [
        "# 5. Hyperparameter Importance\n",
        "plot_param_importances(study).show()"
      ]
    },
    {
      "cell_type": "code",
      "execution_count": 28,
      "metadata": {
        "colab": {
          "base_uri": "https://localhost:8080/"
        },
        "id": "APAwYNxkIwMf",
        "outputId": "204d3690-5f5e-444d-89fa-9c21e6552562"
      },
      "outputs": [
        {
          "name": "stderr",
          "output_type": "stream",
          "text": [
            "[I 2025-06-01 18:04:27,543] A new study created in memory with name: no-name-229ad72c-fa0c-4741-a5b8-a90c40914458\n"
          ]
        },
        {
          "name": "stdout",
          "output_type": "stream",
          "text": [
            "[0]\ttrain-mlogloss:0.96180\teval-mlogloss:0.95571\n",
            "[1]\ttrain-mlogloss:0.90844\teval-mlogloss:0.89620\n",
            "[2]\ttrain-mlogloss:0.87709\teval-mlogloss:0.87505\n",
            "[3]\ttrain-mlogloss:0.75527\teval-mlogloss:0.73911\n",
            "[4]\ttrain-mlogloss:0.72378\teval-mlogloss:0.70088\n",
            "[5]\ttrain-mlogloss:0.66625\teval-mlogloss:0.63672\n",
            "[6]\ttrain-mlogloss:0.61152\teval-mlogloss:0.57373\n",
            "[7]\ttrain-mlogloss:0.56567\teval-mlogloss:0.52396\n",
            "[8]\ttrain-mlogloss:0.54005\teval-mlogloss:0.49774\n",
            "[9]\ttrain-mlogloss:0.50174\teval-mlogloss:0.45602\n",
            "[10]\ttrain-mlogloss:0.47205\teval-mlogloss:0.42248\n",
            "[11]\ttrain-mlogloss:0.46674\teval-mlogloss:0.41270\n",
            "[12]\ttrain-mlogloss:0.44206\teval-mlogloss:0.38676\n",
            "[13]\ttrain-mlogloss:0.44130\teval-mlogloss:0.38580\n",
            "[14]\ttrain-mlogloss:0.42933\teval-mlogloss:0.37384\n",
            "[15]\ttrain-mlogloss:0.42759\teval-mlogloss:0.37121\n",
            "[16]\ttrain-mlogloss:0.42626\teval-mlogloss:0.36901\n",
            "[17]\ttrain-mlogloss:0.42451\teval-mlogloss:0.36466\n",
            "[18]\ttrain-mlogloss:0.42089\teval-mlogloss:0.35789\n",
            "[19]\ttrain-mlogloss:0.42008\teval-mlogloss:0.35729\n",
            "[20]\ttrain-mlogloss:0.41964\teval-mlogloss:0.35665\n",
            "[21]\ttrain-mlogloss:0.41789\teval-mlogloss:0.35806\n",
            "[22]\ttrain-mlogloss:0.41616\teval-mlogloss:0.35729\n",
            "[23]\ttrain-mlogloss:0.39289\teval-mlogloss:0.33351\n",
            "[24]\ttrain-mlogloss:0.38883\teval-mlogloss:0.32737\n",
            "[25]\ttrain-mlogloss:0.37539\teval-mlogloss:0.31074\n",
            "[26]\ttrain-mlogloss:0.37423\teval-mlogloss:0.30990\n",
            "[27]\ttrain-mlogloss:0.37428\teval-mlogloss:0.30991\n",
            "[28]\ttrain-mlogloss:0.37420\teval-mlogloss:0.31022\n",
            "[29]\ttrain-mlogloss:0.37379\teval-mlogloss:0.31036\n",
            "[30]\ttrain-mlogloss:0.37419\teval-mlogloss:0.31094\n",
            "[31]\ttrain-mlogloss:0.37330\teval-mlogloss:0.30924\n",
            "[32]\ttrain-mlogloss:0.37286\teval-mlogloss:0.30963\n",
            "[33]\ttrain-mlogloss:0.37280\teval-mlogloss:0.30919\n",
            "[34]\ttrain-mlogloss:0.37216\teval-mlogloss:0.30849\n",
            "[35]\ttrain-mlogloss:0.37208\teval-mlogloss:0.30862\n",
            "[36]\ttrain-mlogloss:0.37197\teval-mlogloss:0.30887\n",
            "[37]\ttrain-mlogloss:0.37185\teval-mlogloss:0.30896\n",
            "[38]\ttrain-mlogloss:0.37182\teval-mlogloss:0.30907\n",
            "[39]\ttrain-mlogloss:0.37138\teval-mlogloss:0.30860\n",
            "[40]\ttrain-mlogloss:0.36989\teval-mlogloss:0.30746\n",
            "[41]\ttrain-mlogloss:0.36933\teval-mlogloss:0.30748\n",
            "[42]\ttrain-mlogloss:0.36857\teval-mlogloss:0.30708\n",
            "[43]\ttrain-mlogloss:0.36823\teval-mlogloss:0.30671\n",
            "[44]\ttrain-mlogloss:0.36816\teval-mlogloss:0.30679\n",
            "[45]\ttrain-mlogloss:0.36798\teval-mlogloss:0.30662\n",
            "[46]\ttrain-mlogloss:0.36731\teval-mlogloss:0.30333\n",
            "[47]\ttrain-mlogloss:0.36729\teval-mlogloss:0.30349\n",
            "[48]\ttrain-mlogloss:0.36701\teval-mlogloss:0.30325\n",
            "[49]\ttrain-mlogloss:0.36599\teval-mlogloss:0.30168\n",
            "[50]\ttrain-mlogloss:0.35580\teval-mlogloss:0.28877\n",
            "[51]\ttrain-mlogloss:0.35464\teval-mlogloss:0.28817\n",
            "[52]\ttrain-mlogloss:0.35422\teval-mlogloss:0.28787\n",
            "[53]\ttrain-mlogloss:0.35417\teval-mlogloss:0.28754\n",
            "[54]\ttrain-mlogloss:0.35414\teval-mlogloss:0.28728\n",
            "[55]\ttrain-mlogloss:0.35384\teval-mlogloss:0.28572\n",
            "[56]\ttrain-mlogloss:0.35343\teval-mlogloss:0.28554\n",
            "[57]\ttrain-mlogloss:0.35318\teval-mlogloss:0.28618\n",
            "[58]\ttrain-mlogloss:0.35315\teval-mlogloss:0.28625\n",
            "[59]\ttrain-mlogloss:0.35309\teval-mlogloss:0.28631\n",
            "[60]\ttrain-mlogloss:0.35288\teval-mlogloss:0.28703\n",
            "[61]\ttrain-mlogloss:0.35202\teval-mlogloss:0.28673\n",
            "[62]\ttrain-mlogloss:0.35210\teval-mlogloss:0.28649\n",
            "[63]\ttrain-mlogloss:0.35213\teval-mlogloss:0.28602\n",
            "[64]\ttrain-mlogloss:0.35208\teval-mlogloss:0.28639\n",
            "[65]\ttrain-mlogloss:0.35238\teval-mlogloss:0.28735\n",
            "[66]\ttrain-mlogloss:0.35189\teval-mlogloss:0.28684\n",
            "[67]\ttrain-mlogloss:0.35110\teval-mlogloss:0.28657\n",
            "[68]\ttrain-mlogloss:0.35096\teval-mlogloss:0.28643\n",
            "[69]\ttrain-mlogloss:0.35002\teval-mlogloss:0.28576\n",
            "[70]\ttrain-mlogloss:0.34974\teval-mlogloss:0.28532\n",
            "[71]\ttrain-mlogloss:0.34983\teval-mlogloss:0.28565\n",
            "[72]\ttrain-mlogloss:0.34988\teval-mlogloss:0.28562\n",
            "[73]\ttrain-mlogloss:0.34909\teval-mlogloss:0.28486\n",
            "[74]\ttrain-mlogloss:0.34864\teval-mlogloss:0.28618\n",
            "[75]\ttrain-mlogloss:0.34801\teval-mlogloss:0.28608\n",
            "[76]\ttrain-mlogloss:0.34769\teval-mlogloss:0.28456\n",
            "[77]\ttrain-mlogloss:0.34723\teval-mlogloss:0.28410\n",
            "[78]\ttrain-mlogloss:0.34734\teval-mlogloss:0.28441\n",
            "[79]\ttrain-mlogloss:0.34693\teval-mlogloss:0.28434\n",
            "[80]\ttrain-mlogloss:0.34699\teval-mlogloss:0.28460\n",
            "[81]\ttrain-mlogloss:0.34710\teval-mlogloss:0.28523\n",
            "[82]\ttrain-mlogloss:0.34701\teval-mlogloss:0.28510\n",
            "[83]\ttrain-mlogloss:0.34697\teval-mlogloss:0.28458\n",
            "[84]\ttrain-mlogloss:0.34653\teval-mlogloss:0.28435\n",
            "[85]\ttrain-mlogloss:0.34636\teval-mlogloss:0.28366\n",
            "[86]\ttrain-mlogloss:0.34571\teval-mlogloss:0.28178\n",
            "[87]\ttrain-mlogloss:0.34538\teval-mlogloss:0.28060\n",
            "[88]\ttrain-mlogloss:0.34491\teval-mlogloss:0.28025\n",
            "[89]\ttrain-mlogloss:0.34469\teval-mlogloss:0.27977\n",
            "[90]\ttrain-mlogloss:0.34485\teval-mlogloss:0.27998\n",
            "[91]\ttrain-mlogloss:0.34495\teval-mlogloss:0.27977\n",
            "[92]\ttrain-mlogloss:0.34477\teval-mlogloss:0.27975\n",
            "[93]\ttrain-mlogloss:0.34449\teval-mlogloss:0.27904\n",
            "[94]\ttrain-mlogloss:0.34453\teval-mlogloss:0.27943\n",
            "[95]\ttrain-mlogloss:0.34442\teval-mlogloss:0.27956\n",
            "[96]\ttrain-mlogloss:0.34393\teval-mlogloss:0.27915\n",
            "[97]\ttrain-mlogloss:0.34317\teval-mlogloss:0.27849\n",
            "[98]\ttrain-mlogloss:0.34374\teval-mlogloss:0.27914\n",
            "[99]\ttrain-mlogloss:0.34359\teval-mlogloss:0.27841\n",
            "[100]\ttrain-mlogloss:0.34356\teval-mlogloss:0.27824\n",
            "[101]\ttrain-mlogloss:0.34322\teval-mlogloss:0.27794\n",
            "[102]\ttrain-mlogloss:0.34324\teval-mlogloss:0.27784\n",
            "[103]\ttrain-mlogloss:0.34318\teval-mlogloss:0.27798\n",
            "[104]\ttrain-mlogloss:0.34264\teval-mlogloss:0.27626\n",
            "[105]\ttrain-mlogloss:0.34238\teval-mlogloss:0.27564\n",
            "[106]\ttrain-mlogloss:0.34219\teval-mlogloss:0.27633\n",
            "[107]\ttrain-mlogloss:0.34194\teval-mlogloss:0.27686\n",
            "[108]\ttrain-mlogloss:0.34184\teval-mlogloss:0.27604\n",
            "[109]\ttrain-mlogloss:0.34180\teval-mlogloss:0.27590\n",
            "[110]\ttrain-mlogloss:0.34170\teval-mlogloss:0.27573\n",
            "[111]\ttrain-mlogloss:0.34179\teval-mlogloss:0.27551\n",
            "[112]\ttrain-mlogloss:0.33396\teval-mlogloss:0.26680\n",
            "[113]\ttrain-mlogloss:0.33398\teval-mlogloss:0.26667\n",
            "[114]\ttrain-mlogloss:0.33405\teval-mlogloss:0.26676\n",
            "[115]\ttrain-mlogloss:0.33398\teval-mlogloss:0.26650\n",
            "[116]\ttrain-mlogloss:0.33402\teval-mlogloss:0.26696\n",
            "[117]\ttrain-mlogloss:0.33273\teval-mlogloss:0.26586\n",
            "[118]\ttrain-mlogloss:0.33259\teval-mlogloss:0.26598\n",
            "[119]\ttrain-mlogloss:0.33256\teval-mlogloss:0.26567\n",
            "[120]\ttrain-mlogloss:0.33257\teval-mlogloss:0.26590\n",
            "[121]\ttrain-mlogloss:0.33269\teval-mlogloss:0.26637\n",
            "[122]\ttrain-mlogloss:0.33267\teval-mlogloss:0.26678\n",
            "[123]\ttrain-mlogloss:0.33269\teval-mlogloss:0.26671\n",
            "[124]\ttrain-mlogloss:0.33258\teval-mlogloss:0.26641\n",
            "[125]\ttrain-mlogloss:0.33265\teval-mlogloss:0.26657\n",
            "[126]\ttrain-mlogloss:0.33224\teval-mlogloss:0.26529\n",
            "[127]\ttrain-mlogloss:0.33163\teval-mlogloss:0.26468\n",
            "[128]\ttrain-mlogloss:0.33131\teval-mlogloss:0.26402\n",
            "[129]\ttrain-mlogloss:0.33057\teval-mlogloss:0.26369\n",
            "[130]\ttrain-mlogloss:0.33070\teval-mlogloss:0.26391\n",
            "[131]\ttrain-mlogloss:0.33070\teval-mlogloss:0.26384\n",
            "[132]\ttrain-mlogloss:0.33052\teval-mlogloss:0.26330\n",
            "[133]\ttrain-mlogloss:0.33050\teval-mlogloss:0.26323\n",
            "[134]\ttrain-mlogloss:0.33050\teval-mlogloss:0.26342\n",
            "[135]\ttrain-mlogloss:0.32968\teval-mlogloss:0.26294\n",
            "[136]\ttrain-mlogloss:0.32977\teval-mlogloss:0.26313\n",
            "[137]\ttrain-mlogloss:0.32938\teval-mlogloss:0.26104\n",
            "[138]\ttrain-mlogloss:0.32917\teval-mlogloss:0.26091\n",
            "[139]\ttrain-mlogloss:0.32858\teval-mlogloss:0.26016\n",
            "[140]\ttrain-mlogloss:0.32830\teval-mlogloss:0.25958\n",
            "[141]\ttrain-mlogloss:0.32832\teval-mlogloss:0.25944\n",
            "[142]\ttrain-mlogloss:0.32843\teval-mlogloss:0.25985\n",
            "[143]\ttrain-mlogloss:0.32845\teval-mlogloss:0.25999\n",
            "[144]\ttrain-mlogloss:0.32796\teval-mlogloss:0.25819\n",
            "[145]\ttrain-mlogloss:0.32794\teval-mlogloss:0.25835\n",
            "[146]\ttrain-mlogloss:0.32791\teval-mlogloss:0.25783\n",
            "[147]\ttrain-mlogloss:0.32780\teval-mlogloss:0.25794\n",
            "[148]\ttrain-mlogloss:0.32788\teval-mlogloss:0.25869\n",
            "[149]\ttrain-mlogloss:0.32791\teval-mlogloss:0.25866\n",
            "[150]\ttrain-mlogloss:0.32784\teval-mlogloss:0.25815\n",
            "[151]\ttrain-mlogloss:0.32785\teval-mlogloss:0.25803\n",
            "[152]\ttrain-mlogloss:0.32794\teval-mlogloss:0.25813\n",
            "[153]\ttrain-mlogloss:0.32789\teval-mlogloss:0.25773\n",
            "[154]\ttrain-mlogloss:0.32807\teval-mlogloss:0.25642\n",
            "[155]\ttrain-mlogloss:0.32821\teval-mlogloss:0.25667\n",
            "[156]\ttrain-mlogloss:0.32840\teval-mlogloss:0.25661\n",
            "[157]\ttrain-mlogloss:0.32835\teval-mlogloss:0.25646\n",
            "[158]\ttrain-mlogloss:0.32798\teval-mlogloss:0.25638\n",
            "[159]\ttrain-mlogloss:0.32776\teval-mlogloss:0.25677\n",
            "[160]\ttrain-mlogloss:0.32772\teval-mlogloss:0.25663\n",
            "[161]\ttrain-mlogloss:0.32770\teval-mlogloss:0.25670\n",
            "[162]\ttrain-mlogloss:0.32770\teval-mlogloss:0.25707\n",
            "[163]\ttrain-mlogloss:0.32769\teval-mlogloss:0.25739\n",
            "[164]\ttrain-mlogloss:0.32761\teval-mlogloss:0.25731\n",
            "[165]\ttrain-mlogloss:0.32767\teval-mlogloss:0.25718\n",
            "[166]\ttrain-mlogloss:0.32770\teval-mlogloss:0.25687\n",
            "[167]\ttrain-mlogloss:0.32768\teval-mlogloss:0.25691\n",
            "[168]\ttrain-mlogloss:0.32763\teval-mlogloss:0.25710\n",
            "[169]\ttrain-mlogloss:0.32759\teval-mlogloss:0.25758\n",
            "[170]\ttrain-mlogloss:0.32761\teval-mlogloss:0.25795\n",
            "[171]\ttrain-mlogloss:0.32781\teval-mlogloss:0.25874\n",
            "[172]\ttrain-mlogloss:0.32777\teval-mlogloss:0.25814\n",
            "[173]\ttrain-mlogloss:0.32777\teval-mlogloss:0.25801\n",
            "[174]\ttrain-mlogloss:0.32801\teval-mlogloss:0.25921\n",
            "[175]\ttrain-mlogloss:0.32797\teval-mlogloss:0.25870\n",
            "[176]\ttrain-mlogloss:0.32792\teval-mlogloss:0.25800\n",
            "[177]\ttrain-mlogloss:0.32642\teval-mlogloss:0.25536\n",
            "[178]\ttrain-mlogloss:0.32655\teval-mlogloss:0.25584\n",
            "[179]\ttrain-mlogloss:0.32663\teval-mlogloss:0.25568\n",
            "[180]\ttrain-mlogloss:0.32665\teval-mlogloss:0.25560\n",
            "[181]\ttrain-mlogloss:0.32654\teval-mlogloss:0.25546\n",
            "[182]\ttrain-mlogloss:0.32654\teval-mlogloss:0.25508\n",
            "[183]\ttrain-mlogloss:0.32652\teval-mlogloss:0.25570\n",
            "[184]\ttrain-mlogloss:0.32608\teval-mlogloss:0.25589\n",
            "[185]\ttrain-mlogloss:0.32608\teval-mlogloss:0.25588\n",
            "[186]\ttrain-mlogloss:0.32621\teval-mlogloss:0.25543\n",
            "[187]\ttrain-mlogloss:0.32631\teval-mlogloss:0.25511\n",
            "[188]\ttrain-mlogloss:0.32622\teval-mlogloss:0.25550\n",
            "[189]\ttrain-mlogloss:0.32621\teval-mlogloss:0.25635\n",
            "[190]\ttrain-mlogloss:0.32639\teval-mlogloss:0.25730\n",
            "[191]\ttrain-mlogloss:0.32632\teval-mlogloss:0.25684\n",
            "[192]\ttrain-mlogloss:0.32628\teval-mlogloss:0.25729\n",
            "[193]\ttrain-mlogloss:0.32623\teval-mlogloss:0.25704\n",
            "[194]\ttrain-mlogloss:0.32630\teval-mlogloss:0.25761\n",
            "[195]\ttrain-mlogloss:0.32628\teval-mlogloss:0.25668\n",
            "[196]\ttrain-mlogloss:0.32544\teval-mlogloss:0.25634\n",
            "[197]\ttrain-mlogloss:0.32538\teval-mlogloss:0.25620\n",
            "[198]\ttrain-mlogloss:0.32543\teval-mlogloss:0.25581\n",
            "[199]\ttrain-mlogloss:0.32538\teval-mlogloss:0.25593\n",
            "[200]\ttrain-mlogloss:0.32534\teval-mlogloss:0.25583\n",
            "[201]\ttrain-mlogloss:0.32544\teval-mlogloss:0.25513\n",
            "[202]\ttrain-mlogloss:0.32546\teval-mlogloss:0.25509\n",
            "[203]\ttrain-mlogloss:0.32544\teval-mlogloss:0.25531\n",
            "[204]\ttrain-mlogloss:0.32545\teval-mlogloss:0.25534\n",
            "[205]\ttrain-mlogloss:0.32547\teval-mlogloss:0.25513\n",
            "[206]\ttrain-mlogloss:0.32538\teval-mlogloss:0.25558\n",
            "[207]\ttrain-mlogloss:0.32514\teval-mlogloss:0.25541\n",
            "[208]\ttrain-mlogloss:0.32501\teval-mlogloss:0.25571\n",
            "[209]\ttrain-mlogloss:0.32480\teval-mlogloss:0.25388\n",
            "[210]\ttrain-mlogloss:0.32476\teval-mlogloss:0.25387\n",
            "[211]\ttrain-mlogloss:0.32427\teval-mlogloss:0.25386\n",
            "[212]\ttrain-mlogloss:0.32426\teval-mlogloss:0.25363\n",
            "[213]\ttrain-mlogloss:0.32422\teval-mlogloss:0.25389\n",
            "[214]\ttrain-mlogloss:0.32436\teval-mlogloss:0.25338\n",
            "[215]\ttrain-mlogloss:0.32427\teval-mlogloss:0.25353\n",
            "[216]\ttrain-mlogloss:0.32433\teval-mlogloss:0.25336\n",
            "[217]\ttrain-mlogloss:0.32423\teval-mlogloss:0.25299\n",
            "[218]\ttrain-mlogloss:0.32422\teval-mlogloss:0.25341\n",
            "[219]\ttrain-mlogloss:0.32426\teval-mlogloss:0.25316\n",
            "[220]\ttrain-mlogloss:0.32421\teval-mlogloss:0.25347\n",
            "[221]\ttrain-mlogloss:0.32418\teval-mlogloss:0.25395\n",
            "[222]\ttrain-mlogloss:0.32418\teval-mlogloss:0.25381\n",
            "[223]\ttrain-mlogloss:0.32419\teval-mlogloss:0.25428\n",
            "[224]\ttrain-mlogloss:0.32383\teval-mlogloss:0.25372\n",
            "[225]\ttrain-mlogloss:0.32383\teval-mlogloss:0.25390\n",
            "[226]\ttrain-mlogloss:0.32384\teval-mlogloss:0.25336\n",
            "[227]\ttrain-mlogloss:0.32383\teval-mlogloss:0.25358\n",
            "[228]\ttrain-mlogloss:0.32385\teval-mlogloss:0.25379\n",
            "[229]\ttrain-mlogloss:0.32397\teval-mlogloss:0.25442\n",
            "[230]\ttrain-mlogloss:0.32359\teval-mlogloss:0.25407\n",
            "[231]\ttrain-mlogloss:0.32373\teval-mlogloss:0.25414\n",
            "[232]\ttrain-mlogloss:0.32337\teval-mlogloss:0.25410\n",
            "[233]\ttrain-mlogloss:0.32313\teval-mlogloss:0.25355\n",
            "[234]\ttrain-mlogloss:0.32331\teval-mlogloss:0.25440\n",
            "[235]\ttrain-mlogloss:0.32340\teval-mlogloss:0.25459\n",
            "[236]\ttrain-mlogloss:0.32337\teval-mlogloss:0.25479\n",
            "[237]\ttrain-mlogloss:0.32346\teval-mlogloss:0.25511\n",
            "[238]\ttrain-mlogloss:0.32323\teval-mlogloss:0.25480\n",
            "[239]\ttrain-mlogloss:0.32302\teval-mlogloss:0.25428\n",
            "[240]\ttrain-mlogloss:0.32310\teval-mlogloss:0.25466\n",
            "[241]\ttrain-mlogloss:0.32282\teval-mlogloss:0.25373\n",
            "[242]\ttrain-mlogloss:0.32299\teval-mlogloss:0.25443\n",
            "[243]\ttrain-mlogloss:0.32277\teval-mlogloss:0.25358\n",
            "[244]\ttrain-mlogloss:0.32272\teval-mlogloss:0.25328\n",
            "[245]\ttrain-mlogloss:0.32268\teval-mlogloss:0.25301\n",
            "[246]\ttrain-mlogloss:0.32267\teval-mlogloss:0.25203\n",
            "[247]\ttrain-mlogloss:0.32264\teval-mlogloss:0.25186\n",
            "[248]\ttrain-mlogloss:0.32263\teval-mlogloss:0.25207\n",
            "[249]\ttrain-mlogloss:0.32268\teval-mlogloss:0.25202\n",
            "[250]\ttrain-mlogloss:0.32275\teval-mlogloss:0.25132\n",
            "[251]\ttrain-mlogloss:0.32268\teval-mlogloss:0.25145\n",
            "[252]\ttrain-mlogloss:0.32274\teval-mlogloss:0.25102\n",
            "[253]\ttrain-mlogloss:0.32270\teval-mlogloss:0.25116\n",
            "[254]\ttrain-mlogloss:0.32271\teval-mlogloss:0.25242\n",
            "[255]\ttrain-mlogloss:0.32266\teval-mlogloss:0.25261\n",
            "[256]\ttrain-mlogloss:0.32268\teval-mlogloss:0.25248\n",
            "[257]\ttrain-mlogloss:0.32271\teval-mlogloss:0.25238\n",
            "[258]\ttrain-mlogloss:0.32284\teval-mlogloss:0.25208\n",
            "[259]\ttrain-mlogloss:0.32284\teval-mlogloss:0.25199\n",
            "[260]\ttrain-mlogloss:0.32276\teval-mlogloss:0.25059\n",
            "[261]\ttrain-mlogloss:0.32268\teval-mlogloss:0.25067\n",
            "[262]\ttrain-mlogloss:0.32239\teval-mlogloss:0.25076\n",
            "[263]\ttrain-mlogloss:0.32233\teval-mlogloss:0.25068\n",
            "[264]\ttrain-mlogloss:0.32223\teval-mlogloss:0.25044\n",
            "[265]\ttrain-mlogloss:0.32223\teval-mlogloss:0.25041\n",
            "[266]\ttrain-mlogloss:0.32214\teval-mlogloss:0.25087\n",
            "[267]\ttrain-mlogloss:0.32211\teval-mlogloss:0.25108\n",
            "[268]\ttrain-mlogloss:0.32210\teval-mlogloss:0.25106\n",
            "[269]\ttrain-mlogloss:0.32201\teval-mlogloss:0.25101\n",
            "[270]\ttrain-mlogloss:0.32202\teval-mlogloss:0.25059\n",
            "[271]\ttrain-mlogloss:0.32201\teval-mlogloss:0.25079\n",
            "[272]\ttrain-mlogloss:0.32204\teval-mlogloss:0.25105\n",
            "[273]\ttrain-mlogloss:0.32206\teval-mlogloss:0.25114\n",
            "[274]\ttrain-mlogloss:0.32208\teval-mlogloss:0.25127\n",
            "[275]\ttrain-mlogloss:0.32232\teval-mlogloss:0.25084\n",
            "[276]\ttrain-mlogloss:0.32231\teval-mlogloss:0.25008\n",
            "[277]\ttrain-mlogloss:0.32226\teval-mlogloss:0.25030\n",
            "[278]\ttrain-mlogloss:0.32227\teval-mlogloss:0.24987\n",
            "[279]\ttrain-mlogloss:0.32229\teval-mlogloss:0.24962\n",
            "[280]\ttrain-mlogloss:0.32236\teval-mlogloss:0.24904\n",
            "[281]\ttrain-mlogloss:0.32214\teval-mlogloss:0.24913\n",
            "[282]\ttrain-mlogloss:0.32232\teval-mlogloss:0.24891\n",
            "[283]\ttrain-mlogloss:0.32225\teval-mlogloss:0.24911\n",
            "[284]\ttrain-mlogloss:0.32222\teval-mlogloss:0.24940\n",
            "[285]\ttrain-mlogloss:0.32216\teval-mlogloss:0.24944\n",
            "[286]\ttrain-mlogloss:0.32189\teval-mlogloss:0.24960\n",
            "[287]\ttrain-mlogloss:0.32199\teval-mlogloss:0.24899\n",
            "[288]\ttrain-mlogloss:0.32195\teval-mlogloss:0.24930\n",
            "[289]\ttrain-mlogloss:0.32191\teval-mlogloss:0.25013\n",
            "[290]\ttrain-mlogloss:0.32176\teval-mlogloss:0.25008\n",
            "[291]\ttrain-mlogloss:0.32178\teval-mlogloss:0.25025\n",
            "[292]\ttrain-mlogloss:0.32186\teval-mlogloss:0.25032\n",
            "[293]\ttrain-mlogloss:0.32191\teval-mlogloss:0.25052\n",
            "[294]\ttrain-mlogloss:0.32189\teval-mlogloss:0.25042\n",
            "[295]\ttrain-mlogloss:0.32181\teval-mlogloss:0.24988\n",
            "[296]\ttrain-mlogloss:0.32190\teval-mlogloss:0.25085\n",
            "[297]\ttrain-mlogloss:0.32195\teval-mlogloss:0.25126\n",
            "[298]\ttrain-mlogloss:0.32158\teval-mlogloss:0.25079\n",
            "[299]\ttrain-mlogloss:0.32144\teval-mlogloss:0.25011\n"
          ]
        },
        {
          "name": "stderr",
          "output_type": "stream",
          "text": [
            "[I 2025-06-01 18:04:28,117] Trial 0 finished with value: 0.9666666666666667 and parameters: {'lambda': 1.2792951323824154e-06, 'alpha': 0.0001362407565213009, 'eta': 0.1570356083797959, 'gamma': 5.102265774779156e-08, 'max_depth': 5, 'min_child_weight': 10, 'subsample': 0.5841532615111458, 'colsample_bytree': 0.4856153033253831}. Best is trial 0 with value: 0.9666666666666667.\n"
          ]
        },
        {
          "name": "stdout",
          "output_type": "stream",
          "text": [
            "[0]\ttrain-mlogloss:0.87614\teval-mlogloss:0.86862\n",
            "[1]\ttrain-mlogloss:0.71239\teval-mlogloss:0.69128\n",
            "[2]\ttrain-mlogloss:0.59343\teval-mlogloss:0.56897\n",
            "[3]\ttrain-mlogloss:0.49936\teval-mlogloss:0.46631\n",
            "[4]\ttrain-mlogloss:0.44428\teval-mlogloss:0.40805\n",
            "[5]\ttrain-mlogloss:0.39623\teval-mlogloss:0.35377\n",
            "[6]\ttrain-mlogloss:0.35899\teval-mlogloss:0.31253\n",
            "[7]\ttrain-mlogloss:0.34611\teval-mlogloss:0.30062\n",
            "[8]\ttrain-mlogloss:0.31901\teval-mlogloss:0.26601\n",
            "[9]\ttrain-mlogloss:0.30775\teval-mlogloss:0.24811\n",
            "[10]\ttrain-mlogloss:0.29819\teval-mlogloss:0.23675\n",
            "[11]\ttrain-mlogloss:0.29721\teval-mlogloss:0.23426\n",
            "[12]\ttrain-mlogloss:0.28411\teval-mlogloss:0.22122\n",
            "[13]\ttrain-mlogloss:0.28363\teval-mlogloss:0.22088\n",
            "[14]\ttrain-mlogloss:0.28317\teval-mlogloss:0.22069\n",
            "[15]\ttrain-mlogloss:0.28311\teval-mlogloss:0.22029\n",
            "[16]\ttrain-mlogloss:0.28287\teval-mlogloss:0.21990\n",
            "[17]\ttrain-mlogloss:0.28284\teval-mlogloss:0.21995\n",
            "[18]\ttrain-mlogloss:0.28272\teval-mlogloss:0.21971\n",
            "[19]\ttrain-mlogloss:0.28221\teval-mlogloss:0.21954\n",
            "[20]\ttrain-mlogloss:0.28229\teval-mlogloss:0.21957\n",
            "[21]\ttrain-mlogloss:0.28185\teval-mlogloss:0.22015\n",
            "[22]\ttrain-mlogloss:0.27905\teval-mlogloss:0.21699\n",
            "[23]\ttrain-mlogloss:0.27893\teval-mlogloss:0.21639\n",
            "[24]\ttrain-mlogloss:0.27828\teval-mlogloss:0.21565\n",
            "[25]\ttrain-mlogloss:0.26906\teval-mlogloss:0.20344\n",
            "[26]\ttrain-mlogloss:0.26828\teval-mlogloss:0.20265\n",
            "[27]\ttrain-mlogloss:0.26828\teval-mlogloss:0.20267\n",
            "[28]\ttrain-mlogloss:0.26819\teval-mlogloss:0.20248\n",
            "[29]\ttrain-mlogloss:0.26758\teval-mlogloss:0.20225\n",
            "[30]\ttrain-mlogloss:0.26700\teval-mlogloss:0.20205\n",
            "[31]\ttrain-mlogloss:0.26682\teval-mlogloss:0.20205\n",
            "[32]\ttrain-mlogloss:0.26632\teval-mlogloss:0.20074\n",
            "[33]\ttrain-mlogloss:0.26575\teval-mlogloss:0.20113\n",
            "[34]\ttrain-mlogloss:0.26546\teval-mlogloss:0.20079\n",
            "[35]\ttrain-mlogloss:0.26528\teval-mlogloss:0.20076\n",
            "[36]\ttrain-mlogloss:0.26514\teval-mlogloss:0.20057\n",
            "[37]\ttrain-mlogloss:0.26432\teval-mlogloss:0.19763\n",
            "[38]\ttrain-mlogloss:0.26437\teval-mlogloss:0.19750\n",
            "[39]\ttrain-mlogloss:0.26396\teval-mlogloss:0.19682\n",
            "[40]\ttrain-mlogloss:0.26379\teval-mlogloss:0.19695\n",
            "[41]\ttrain-mlogloss:0.26364\teval-mlogloss:0.19696\n",
            "[42]\ttrain-mlogloss:0.26356\teval-mlogloss:0.19727\n",
            "[43]\ttrain-mlogloss:0.26354\teval-mlogloss:0.19732\n",
            "[44]\ttrain-mlogloss:0.26335\teval-mlogloss:0.19745\n",
            "[45]\ttrain-mlogloss:0.26284\teval-mlogloss:0.19690\n",
            "[46]\ttrain-mlogloss:0.26287\teval-mlogloss:0.19680\n",
            "[47]\ttrain-mlogloss:0.26261\teval-mlogloss:0.19655\n",
            "[48]\ttrain-mlogloss:0.26266\teval-mlogloss:0.19655\n",
            "[49]\ttrain-mlogloss:0.26228\teval-mlogloss:0.19505\n",
            "[50]\ttrain-mlogloss:0.26232\teval-mlogloss:0.19494\n",
            "[51]\ttrain-mlogloss:0.26199\teval-mlogloss:0.19530\n",
            "[52]\ttrain-mlogloss:0.26194\teval-mlogloss:0.19542\n",
            "[53]\ttrain-mlogloss:0.26181\teval-mlogloss:0.19530\n",
            "[54]\ttrain-mlogloss:0.26177\teval-mlogloss:0.19511\n",
            "[55]\ttrain-mlogloss:0.26155\teval-mlogloss:0.19504\n",
            "[56]\ttrain-mlogloss:0.26121\teval-mlogloss:0.19443\n",
            "[57]\ttrain-mlogloss:0.26124\teval-mlogloss:0.19433\n",
            "[58]\ttrain-mlogloss:0.26128\teval-mlogloss:0.19433\n",
            "[59]\ttrain-mlogloss:0.26101\teval-mlogloss:0.19426\n",
            "[60]\ttrain-mlogloss:0.26092\teval-mlogloss:0.19438\n",
            "[61]\ttrain-mlogloss:0.26095\teval-mlogloss:0.19462\n",
            "[62]\ttrain-mlogloss:0.26078\teval-mlogloss:0.19451\n",
            "[63]\ttrain-mlogloss:0.26080\teval-mlogloss:0.19443\n",
            "[64]\ttrain-mlogloss:0.26065\teval-mlogloss:0.19425\n",
            "[65]\ttrain-mlogloss:0.26078\teval-mlogloss:0.19453\n",
            "[66]\ttrain-mlogloss:0.26077\teval-mlogloss:0.19437\n",
            "[67]\ttrain-mlogloss:0.26065\teval-mlogloss:0.19420\n",
            "[68]\ttrain-mlogloss:0.26054\teval-mlogloss:0.19415\n",
            "[69]\ttrain-mlogloss:0.26046\teval-mlogloss:0.19387\n",
            "[70]\ttrain-mlogloss:0.26025\teval-mlogloss:0.19406\n",
            "[71]\ttrain-mlogloss:0.26035\teval-mlogloss:0.19460\n",
            "[72]\ttrain-mlogloss:0.26033\teval-mlogloss:0.19439\n",
            "[73]\ttrain-mlogloss:0.26003\teval-mlogloss:0.19288\n",
            "[74]\ttrain-mlogloss:0.25964\teval-mlogloss:0.19329\n",
            "[75]\ttrain-mlogloss:0.25956\teval-mlogloss:0.19340\n",
            "[76]\ttrain-mlogloss:0.25938\teval-mlogloss:0.19286\n",
            "[77]\ttrain-mlogloss:0.25926\teval-mlogloss:0.19315\n",
            "[78]\ttrain-mlogloss:0.25945\teval-mlogloss:0.19374\n",
            "[79]\ttrain-mlogloss:0.25941\teval-mlogloss:0.19365\n",
            "[80]\ttrain-mlogloss:0.25923\teval-mlogloss:0.19309\n",
            "[81]\ttrain-mlogloss:0.25932\teval-mlogloss:0.19337\n",
            "[82]\ttrain-mlogloss:0.25931\teval-mlogloss:0.19336\n",
            "[83]\ttrain-mlogloss:0.25926\teval-mlogloss:0.19322\n",
            "[84]\ttrain-mlogloss:0.25906\teval-mlogloss:0.19321\n",
            "[85]\ttrain-mlogloss:0.25888\teval-mlogloss:0.19292\n",
            "[86]\ttrain-mlogloss:0.25886\teval-mlogloss:0.19287\n",
            "[87]\ttrain-mlogloss:0.25875\teval-mlogloss:0.19287\n",
            "[88]\ttrain-mlogloss:0.25867\teval-mlogloss:0.19281\n",
            "[89]\ttrain-mlogloss:0.25816\teval-mlogloss:0.19235\n",
            "[90]\ttrain-mlogloss:0.25825\teval-mlogloss:0.19264\n",
            "[91]\ttrain-mlogloss:0.25827\teval-mlogloss:0.19266\n",
            "[92]\ttrain-mlogloss:0.25818\teval-mlogloss:0.19243\n",
            "[93]\ttrain-mlogloss:0.25812\teval-mlogloss:0.19247\n",
            "[94]\ttrain-mlogloss:0.25816\teval-mlogloss:0.19265\n",
            "[95]\ttrain-mlogloss:0.25828\teval-mlogloss:0.19270\n",
            "[96]\ttrain-mlogloss:0.25824\teval-mlogloss:0.19265\n",
            "[97]\ttrain-mlogloss:0.25805\teval-mlogloss:0.19195\n",
            "[98]\ttrain-mlogloss:0.25834\teval-mlogloss:0.19218\n",
            "[99]\ttrain-mlogloss:0.25805\teval-mlogloss:0.19127\n",
            "[100]\ttrain-mlogloss:0.25802\teval-mlogloss:0.19111\n",
            "[101]\ttrain-mlogloss:0.25791\teval-mlogloss:0.19095\n",
            "[102]\ttrain-mlogloss:0.25791\teval-mlogloss:0.19084\n",
            "[103]\ttrain-mlogloss:0.25789\teval-mlogloss:0.19093\n",
            "[104]\ttrain-mlogloss:0.25793\teval-mlogloss:0.19122\n",
            "[105]\ttrain-mlogloss:0.25783\teval-mlogloss:0.19068\n",
            "[106]\ttrain-mlogloss:0.25705\teval-mlogloss:0.19036\n",
            "[107]\ttrain-mlogloss:0.25718\teval-mlogloss:0.19093\n",
            "[108]\ttrain-mlogloss:0.25700\teval-mlogloss:0.19066\n",
            "[109]\ttrain-mlogloss:0.25700\teval-mlogloss:0.19054\n",
            "[110]\ttrain-mlogloss:0.25705\teval-mlogloss:0.19085\n",
            "[111]\ttrain-mlogloss:0.25719\teval-mlogloss:0.19124\n",
            "[112]\ttrain-mlogloss:0.25713\teval-mlogloss:0.19111\n",
            "[113]\ttrain-mlogloss:0.25712\teval-mlogloss:0.19097\n",
            "[114]\ttrain-mlogloss:0.25714\teval-mlogloss:0.19099\n",
            "[115]\ttrain-mlogloss:0.25715\teval-mlogloss:0.19101\n",
            "[116]\ttrain-mlogloss:0.25718\teval-mlogloss:0.19115\n",
            "[117]\ttrain-mlogloss:0.25695\teval-mlogloss:0.19121\n",
            "[118]\ttrain-mlogloss:0.25692\teval-mlogloss:0.19126\n",
            "[119]\ttrain-mlogloss:0.25688\teval-mlogloss:0.19111\n",
            "[120]\ttrain-mlogloss:0.25695\teval-mlogloss:0.19121\n",
            "[121]\ttrain-mlogloss:0.25701\teval-mlogloss:0.19141\n",
            "[122]\ttrain-mlogloss:0.25706\teval-mlogloss:0.19159\n",
            "[123]\ttrain-mlogloss:0.25711\teval-mlogloss:0.19170\n",
            "[124]\ttrain-mlogloss:0.25685\teval-mlogloss:0.19165\n",
            "[125]\ttrain-mlogloss:0.25680\teval-mlogloss:0.19198\n",
            "[126]\ttrain-mlogloss:0.25653\teval-mlogloss:0.19063\n",
            "[127]\ttrain-mlogloss:0.25658\teval-mlogloss:0.19060\n",
            "[128]\ttrain-mlogloss:0.25651\teval-mlogloss:0.19047\n",
            "[129]\ttrain-mlogloss:0.25645\teval-mlogloss:0.19040\n",
            "[130]\ttrain-mlogloss:0.25645\teval-mlogloss:0.19032\n",
            "[131]\ttrain-mlogloss:0.25650\teval-mlogloss:0.19052\n",
            "[132]\ttrain-mlogloss:0.25630\teval-mlogloss:0.18984\n",
            "[133]\ttrain-mlogloss:0.25629\teval-mlogloss:0.18976\n",
            "[134]\ttrain-mlogloss:0.25628\teval-mlogloss:0.18974\n",
            "[135]\ttrain-mlogloss:0.25632\teval-mlogloss:0.18993\n",
            "[136]\ttrain-mlogloss:0.25637\teval-mlogloss:0.19011\n",
            "[137]\ttrain-mlogloss:0.25601\teval-mlogloss:0.18964\n",
            "[138]\ttrain-mlogloss:0.25594\teval-mlogloss:0.18923\n",
            "[139]\ttrain-mlogloss:0.25575\teval-mlogloss:0.18917\n",
            "[140]\ttrain-mlogloss:0.25567\teval-mlogloss:0.18907\n",
            "[141]\ttrain-mlogloss:0.25576\teval-mlogloss:0.18935\n",
            "[142]\ttrain-mlogloss:0.25588\teval-mlogloss:0.18968\n",
            "[143]\ttrain-mlogloss:0.25587\teval-mlogloss:0.18965\n",
            "[144]\ttrain-mlogloss:0.25589\teval-mlogloss:0.18977\n",
            "[145]\ttrain-mlogloss:0.25598\teval-mlogloss:0.18996\n",
            "[146]\ttrain-mlogloss:0.25592\teval-mlogloss:0.18990\n",
            "[147]\ttrain-mlogloss:0.25561\teval-mlogloss:0.18970\n",
            "[148]\ttrain-mlogloss:0.25560\teval-mlogloss:0.18978\n",
            "[149]\ttrain-mlogloss:0.25559\teval-mlogloss:0.18971\n",
            "[150]\ttrain-mlogloss:0.25552\teval-mlogloss:0.18946\n",
            "[151]\ttrain-mlogloss:0.25551\teval-mlogloss:0.18920\n",
            "[152]\ttrain-mlogloss:0.25556\teval-mlogloss:0.18936\n",
            "[153]\ttrain-mlogloss:0.25549\teval-mlogloss:0.18963\n",
            "[154]\ttrain-mlogloss:0.25556\teval-mlogloss:0.18950\n",
            "[155]\ttrain-mlogloss:0.25567\teval-mlogloss:0.18955\n",
            "[156]\ttrain-mlogloss:0.25577\teval-mlogloss:0.18974\n",
            "[157]\ttrain-mlogloss:0.25579\teval-mlogloss:0.18961\n",
            "[158]\ttrain-mlogloss:0.25550\teval-mlogloss:0.18926\n",
            "[159]\ttrain-mlogloss:0.25530\teval-mlogloss:0.18911\n",
            "[160]\ttrain-mlogloss:0.25526\teval-mlogloss:0.18901\n",
            "[161]\ttrain-mlogloss:0.25511\teval-mlogloss:0.18802\n",
            "[162]\ttrain-mlogloss:0.25508\teval-mlogloss:0.18794\n",
            "[163]\ttrain-mlogloss:0.25505\teval-mlogloss:0.18812\n",
            "[164]\ttrain-mlogloss:0.25482\teval-mlogloss:0.18792\n",
            "[165]\ttrain-mlogloss:0.25479\teval-mlogloss:0.18787\n",
            "[166]\ttrain-mlogloss:0.25482\teval-mlogloss:0.18781\n",
            "[167]\ttrain-mlogloss:0.25483\teval-mlogloss:0.18789\n",
            "[168]\ttrain-mlogloss:0.25486\teval-mlogloss:0.18790\n",
            "[169]\ttrain-mlogloss:0.25486\teval-mlogloss:0.18779\n",
            "[170]\ttrain-mlogloss:0.25483\teval-mlogloss:0.18775\n",
            "[171]\ttrain-mlogloss:0.25484\teval-mlogloss:0.18791\n",
            "[172]\ttrain-mlogloss:0.25482\teval-mlogloss:0.18776\n",
            "[173]\ttrain-mlogloss:0.25479\teval-mlogloss:0.18769\n",
            "[174]\ttrain-mlogloss:0.25486\teval-mlogloss:0.18796\n",
            "[175]\ttrain-mlogloss:0.25488\teval-mlogloss:0.18798\n",
            "[176]\ttrain-mlogloss:0.25482\teval-mlogloss:0.18756\n",
            "[177]\ttrain-mlogloss:0.25478\teval-mlogloss:0.18735\n",
            "[178]\ttrain-mlogloss:0.25475\teval-mlogloss:0.18729\n",
            "[179]\ttrain-mlogloss:0.25477\teval-mlogloss:0.18722\n",
            "[180]\ttrain-mlogloss:0.25485\teval-mlogloss:0.18739\n",
            "[181]\ttrain-mlogloss:0.25481\teval-mlogloss:0.18746\n",
            "[182]\ttrain-mlogloss:0.25481\teval-mlogloss:0.18703\n",
            "[183]\ttrain-mlogloss:0.25475\teval-mlogloss:0.18725\n",
            "[184]\ttrain-mlogloss:0.25475\teval-mlogloss:0.18708\n",
            "[185]\ttrain-mlogloss:0.25469\teval-mlogloss:0.18722\n",
            "[186]\ttrain-mlogloss:0.25466\teval-mlogloss:0.18728\n",
            "[187]\ttrain-mlogloss:0.25462\teval-mlogloss:0.18743\n",
            "[188]\ttrain-mlogloss:0.25461\teval-mlogloss:0.18752\n",
            "[189]\ttrain-mlogloss:0.25462\teval-mlogloss:0.18781\n",
            "[190]\ttrain-mlogloss:0.25469\teval-mlogloss:0.18810\n",
            "[191]\ttrain-mlogloss:0.25466\teval-mlogloss:0.18791\n",
            "[192]\ttrain-mlogloss:0.25470\teval-mlogloss:0.18796\n",
            "[193]\ttrain-mlogloss:0.25466\teval-mlogloss:0.18773\n",
            "[194]\ttrain-mlogloss:0.25470\teval-mlogloss:0.18780\n",
            "[195]\ttrain-mlogloss:0.25465\teval-mlogloss:0.18761\n",
            "[196]\ttrain-mlogloss:0.25466\teval-mlogloss:0.18774\n",
            "[197]\ttrain-mlogloss:0.25469\teval-mlogloss:0.18750\n",
            "[198]\ttrain-mlogloss:0.25472\teval-mlogloss:0.18728\n",
            "[199]\ttrain-mlogloss:0.25470\teval-mlogloss:0.18743\n",
            "[200]\ttrain-mlogloss:0.25465\teval-mlogloss:0.18749\n",
            "[201]\ttrain-mlogloss:0.25475\teval-mlogloss:0.18729\n",
            "[202]\ttrain-mlogloss:0.25474\teval-mlogloss:0.18730\n",
            "[203]\ttrain-mlogloss:0.25473\teval-mlogloss:0.18739\n",
            "[204]\ttrain-mlogloss:0.25472\teval-mlogloss:0.18738\n",
            "[205]\ttrain-mlogloss:0.25439\teval-mlogloss:0.18551\n",
            "[206]\ttrain-mlogloss:0.25436\teval-mlogloss:0.18561\n",
            "[207]\ttrain-mlogloss:0.25438\teval-mlogloss:0.18547\n",
            "[208]\ttrain-mlogloss:0.25438\teval-mlogloss:0.18577\n",
            "[209]\ttrain-mlogloss:0.25442\teval-mlogloss:0.18581\n",
            "[210]\ttrain-mlogloss:0.25427\teval-mlogloss:0.18444\n",
            "[211]\ttrain-mlogloss:0.25428\teval-mlogloss:0.18442\n",
            "[212]\ttrain-mlogloss:0.25416\teval-mlogloss:0.18442\n",
            "[213]\ttrain-mlogloss:0.25419\teval-mlogloss:0.18439\n",
            "[214]\ttrain-mlogloss:0.25418\teval-mlogloss:0.18438\n",
            "[215]\ttrain-mlogloss:0.25412\teval-mlogloss:0.18453\n",
            "[216]\ttrain-mlogloss:0.25417\teval-mlogloss:0.18439\n",
            "[217]\ttrain-mlogloss:0.25414\teval-mlogloss:0.18451\n",
            "[218]\ttrain-mlogloss:0.25412\teval-mlogloss:0.18458\n",
            "[219]\ttrain-mlogloss:0.25419\teval-mlogloss:0.18437\n",
            "[220]\ttrain-mlogloss:0.25418\teval-mlogloss:0.18437\n",
            "[221]\ttrain-mlogloss:0.25412\teval-mlogloss:0.18457\n",
            "[222]\ttrain-mlogloss:0.25412\teval-mlogloss:0.18463\n",
            "[223]\ttrain-mlogloss:0.25411\teval-mlogloss:0.18464\n",
            "[224]\ttrain-mlogloss:0.25388\teval-mlogloss:0.18439\n",
            "[225]\ttrain-mlogloss:0.25387\teval-mlogloss:0.18429\n",
            "[226]\ttrain-mlogloss:0.25387\teval-mlogloss:0.18426\n",
            "[227]\ttrain-mlogloss:0.25387\teval-mlogloss:0.18441\n",
            "[228]\ttrain-mlogloss:0.25389\teval-mlogloss:0.18451\n",
            "[229]\ttrain-mlogloss:0.25400\teval-mlogloss:0.18497\n",
            "[230]\ttrain-mlogloss:0.25403\teval-mlogloss:0.18500\n",
            "[231]\ttrain-mlogloss:0.25406\teval-mlogloss:0.18499\n",
            "[232]\ttrain-mlogloss:0.25400\teval-mlogloss:0.18489\n",
            "[233]\ttrain-mlogloss:0.25396\teval-mlogloss:0.18481\n",
            "[234]\ttrain-mlogloss:0.25396\teval-mlogloss:0.18492\n",
            "[235]\ttrain-mlogloss:0.25391\teval-mlogloss:0.18473\n",
            "[236]\ttrain-mlogloss:0.25400\teval-mlogloss:0.18507\n",
            "[237]\ttrain-mlogloss:0.25397\teval-mlogloss:0.18497\n",
            "[238]\ttrain-mlogloss:0.25401\teval-mlogloss:0.18501\n",
            "[239]\ttrain-mlogloss:0.25399\teval-mlogloss:0.18497\n",
            "[240]\ttrain-mlogloss:0.25403\teval-mlogloss:0.18505\n",
            "[241]\ttrain-mlogloss:0.25395\teval-mlogloss:0.18480\n",
            "[242]\ttrain-mlogloss:0.25399\teval-mlogloss:0.18498\n",
            "[243]\ttrain-mlogloss:0.25392\teval-mlogloss:0.18474\n",
            "[244]\ttrain-mlogloss:0.25391\teval-mlogloss:0.18465\n",
            "[245]\ttrain-mlogloss:0.25389\teval-mlogloss:0.18444\n",
            "[246]\ttrain-mlogloss:0.25393\teval-mlogloss:0.18404\n",
            "[247]\ttrain-mlogloss:0.25384\teval-mlogloss:0.18434\n",
            "[248]\ttrain-mlogloss:0.25385\teval-mlogloss:0.18435\n",
            "[249]\ttrain-mlogloss:0.25389\teval-mlogloss:0.18425\n",
            "[250]\ttrain-mlogloss:0.25397\teval-mlogloss:0.18402\n",
            "[251]\ttrain-mlogloss:0.25400\teval-mlogloss:0.18406\n",
            "[252]\ttrain-mlogloss:0.25407\teval-mlogloss:0.18397\n",
            "[253]\ttrain-mlogloss:0.25403\teval-mlogloss:0.18401\n",
            "[254]\ttrain-mlogloss:0.25392\teval-mlogloss:0.18412\n",
            "[255]\ttrain-mlogloss:0.25394\teval-mlogloss:0.18405\n",
            "[256]\ttrain-mlogloss:0.25391\teval-mlogloss:0.18406\n",
            "[257]\ttrain-mlogloss:0.25396\teval-mlogloss:0.18402\n",
            "[258]\ttrain-mlogloss:0.25396\teval-mlogloss:0.18401\n",
            "[259]\ttrain-mlogloss:0.25386\teval-mlogloss:0.18418\n",
            "[260]\ttrain-mlogloss:0.25387\teval-mlogloss:0.18417\n",
            "[261]\ttrain-mlogloss:0.25384\teval-mlogloss:0.18427\n",
            "[262]\ttrain-mlogloss:0.25382\teval-mlogloss:0.18449\n",
            "[263]\ttrain-mlogloss:0.25385\teval-mlogloss:0.18435\n",
            "[264]\ttrain-mlogloss:0.25385\teval-mlogloss:0.18431\n",
            "[265]\ttrain-mlogloss:0.25385\teval-mlogloss:0.18431\n",
            "[266]\ttrain-mlogloss:0.25385\teval-mlogloss:0.18450\n",
            "[267]\ttrain-mlogloss:0.25385\teval-mlogloss:0.18449\n",
            "[268]\ttrain-mlogloss:0.25385\teval-mlogloss:0.18444\n",
            "[269]\ttrain-mlogloss:0.25368\teval-mlogloss:0.18437\n",
            "[270]\ttrain-mlogloss:0.25368\teval-mlogloss:0.18433\n",
            "[271]\ttrain-mlogloss:0.25368\teval-mlogloss:0.18433\n",
            "[272]\ttrain-mlogloss:0.25369\teval-mlogloss:0.18442\n",
            "[273]\ttrain-mlogloss:0.25338\teval-mlogloss:0.18414\n",
            "[274]\ttrain-mlogloss:0.25338\teval-mlogloss:0.18398\n",
            "[275]\ttrain-mlogloss:0.25331\teval-mlogloss:0.18418\n",
            "[276]\ttrain-mlogloss:0.25334\teval-mlogloss:0.18421\n",
            "[277]\ttrain-mlogloss:0.25329\teval-mlogloss:0.18401\n",
            "[278]\ttrain-mlogloss:0.25333\teval-mlogloss:0.18407\n",
            "[279]\ttrain-mlogloss:0.25331\teval-mlogloss:0.18403\n",
            "[280]\ttrain-mlogloss:0.25334\teval-mlogloss:0.18371\n",
            "[281]\ttrain-mlogloss:0.25331\teval-mlogloss:0.18389\n",
            "[282]\ttrain-mlogloss:0.25335\teval-mlogloss:0.18368\n",
            "[283]\ttrain-mlogloss:0.25336\teval-mlogloss:0.18367\n",
            "[284]\ttrain-mlogloss:0.25337\teval-mlogloss:0.18374\n",
            "[285]\ttrain-mlogloss:0.25340\teval-mlogloss:0.18365\n",
            "[286]\ttrain-mlogloss:0.25332\teval-mlogloss:0.18391\n",
            "[287]\ttrain-mlogloss:0.25334\teval-mlogloss:0.18378\n",
            "[288]\ttrain-mlogloss:0.25334\teval-mlogloss:0.18377\n",
            "[289]\ttrain-mlogloss:0.25335\teval-mlogloss:0.18405\n",
            "[290]\ttrain-mlogloss:0.25337\teval-mlogloss:0.18397\n",
            "[291]\ttrain-mlogloss:0.25335\teval-mlogloss:0.18405\n",
            "[292]\ttrain-mlogloss:0.25334\teval-mlogloss:0.18414\n",
            "[293]\ttrain-mlogloss:0.25336\teval-mlogloss:0.18430\n",
            "[294]\ttrain-mlogloss:0.25335\teval-mlogloss:0.18418\n",
            "[295]\ttrain-mlogloss:0.25336\teval-mlogloss:0.18378\n",
            "[296]\ttrain-mlogloss:0.25338\teval-mlogloss:0.18421\n",
            "[297]\ttrain-mlogloss:0.25346\teval-mlogloss:0.18448\n",
            "[298]\ttrain-mlogloss:0.25346\teval-mlogloss:0.18465\n",
            "[299]\ttrain-mlogloss:0.25339\teval-mlogloss:0.18432\n"
          ]
        },
        {
          "name": "stderr",
          "output_type": "stream",
          "text": [
            "[I 2025-06-01 18:04:28,733] Trial 1 finished with value: 1.0 and parameters: {'lambda': 0.06480498093442934, 'alpha': 4.2564310263769396e-05, 'eta': 0.18746849946922456, 'gamma': 5.847808192884618e-07, 'max_depth': 5, 'min_child_weight': 10, 'subsample': 0.7059113977044869, 'colsample_bytree': 0.8894911713090226}. Best is trial 1 with value: 1.0.\n"
          ]
        },
        {
          "name": "stdout",
          "output_type": "stream",
          "text": [
            "[0]\ttrain-mlogloss:0.88357\teval-mlogloss:0.87088\n",
            "[1]\ttrain-mlogloss:0.80330\teval-mlogloss:0.77736\n",
            "[2]\ttrain-mlogloss:0.68034\teval-mlogloss:0.64364\n",
            "[3]\ttrain-mlogloss:0.56545\teval-mlogloss:0.52344\n",
            "[4]\ttrain-mlogloss:0.48528\teval-mlogloss:0.44145\n",
            "[5]\ttrain-mlogloss:0.41837\teval-mlogloss:0.36882\n",
            "[6]\ttrain-mlogloss:0.36916\teval-mlogloss:0.31231\n",
            "[7]\ttrain-mlogloss:0.33881\teval-mlogloss:0.27981\n",
            "[8]\ttrain-mlogloss:0.30920\teval-mlogloss:0.24546\n"
          ]
        },
        {
          "name": "stderr",
          "output_type": "stream",
          "text": [
            "[I 2025-06-01 18:04:28,750] Trial 2 pruned. Trial was pruned at iteration 8.\n"
          ]
        },
        {
          "name": "stdout",
          "output_type": "stream",
          "text": [
            "[0]\ttrain-mlogloss:1.08385\teval-mlogloss:1.08376\n",
            "[1]\ttrain-mlogloss:1.06888\teval-mlogloss:1.06841\n",
            "[2]\ttrain-mlogloss:1.05388\teval-mlogloss:1.05191\n",
            "[3]\ttrain-mlogloss:1.03906\teval-mlogloss:1.03636\n",
            "[4]\ttrain-mlogloss:1.02520\teval-mlogloss:1.02226\n",
            "[5]\ttrain-mlogloss:1.01097\teval-mlogloss:1.00719\n",
            "[6]\ttrain-mlogloss:0.99726\teval-mlogloss:0.99273\n",
            "[7]\ttrain-mlogloss:0.98447\teval-mlogloss:0.97984\n",
            "[8]\ttrain-mlogloss:0.97149\teval-mlogloss:0.96584\n",
            "[9]\ttrain-mlogloss:0.95804\teval-mlogloss:0.95155\n",
            "[10]\ttrain-mlogloss:0.94573\teval-mlogloss:0.93879\n",
            "[11]\ttrain-mlogloss:0.93339\teval-mlogloss:0.92558\n",
            "[12]\ttrain-mlogloss:0.92142\teval-mlogloss:0.91295\n",
            "[13]\ttrain-mlogloss:0.90923\teval-mlogloss:0.90017\n",
            "[14]\ttrain-mlogloss:0.89776\teval-mlogloss:0.88766\n",
            "[15]\ttrain-mlogloss:0.88609\teval-mlogloss:0.87525\n",
            "[16]\ttrain-mlogloss:0.87456\teval-mlogloss:0.86293\n",
            "[17]\ttrain-mlogloss:0.86377\teval-mlogloss:0.85123\n",
            "[18]\ttrain-mlogloss:0.85279\teval-mlogloss:0.83987\n",
            "[19]\ttrain-mlogloss:0.84151\teval-mlogloss:0.82805\n",
            "[20]\ttrain-mlogloss:0.83277\teval-mlogloss:0.81833\n",
            "[21]\ttrain-mlogloss:0.82327\teval-mlogloss:0.80784\n",
            "[22]\ttrain-mlogloss:0.81383\teval-mlogloss:0.79772\n",
            "[23]\ttrain-mlogloss:0.80421\teval-mlogloss:0.78828\n",
            "[24]\ttrain-mlogloss:0.79413\teval-mlogloss:0.77755\n",
            "[25]\ttrain-mlogloss:0.78465\teval-mlogloss:0.76728\n",
            "[26]\ttrain-mlogloss:0.77480\teval-mlogloss:0.75697\n",
            "[27]\ttrain-mlogloss:0.76564\teval-mlogloss:0.74749\n",
            "[28]\ttrain-mlogloss:0.75623\teval-mlogloss:0.73751\n",
            "[29]\ttrain-mlogloss:0.74713\teval-mlogloss:0.72788\n",
            "[30]\ttrain-mlogloss:0.73844\teval-mlogloss:0.71900\n",
            "[31]\ttrain-mlogloss:0.72990\teval-mlogloss:0.70971\n",
            "[32]\ttrain-mlogloss:0.72129\teval-mlogloss:0.70075\n",
            "[33]\ttrain-mlogloss:0.71314\teval-mlogloss:0.69221\n",
            "[34]\ttrain-mlogloss:0.70529\teval-mlogloss:0.68384\n",
            "[35]\ttrain-mlogloss:0.69708\teval-mlogloss:0.67480\n",
            "[36]\ttrain-mlogloss:0.68909\teval-mlogloss:0.66619\n",
            "[37]\ttrain-mlogloss:0.68136\teval-mlogloss:0.65800\n",
            "[38]\ttrain-mlogloss:0.67380\teval-mlogloss:0.65007\n",
            "[39]\ttrain-mlogloss:0.66598\teval-mlogloss:0.64166\n",
            "[40]\ttrain-mlogloss:0.65853\teval-mlogloss:0.63424\n",
            "[41]\ttrain-mlogloss:0.65118\teval-mlogloss:0.62618\n",
            "[42]\ttrain-mlogloss:0.64373\teval-mlogloss:0.61812\n",
            "[43]\ttrain-mlogloss:0.63684\teval-mlogloss:0.61074\n",
            "[44]\ttrain-mlogloss:0.62977\teval-mlogloss:0.60303\n",
            "[45]\ttrain-mlogloss:0.62231\teval-mlogloss:0.59533\n",
            "[46]\ttrain-mlogloss:0.61510\teval-mlogloss:0.58764\n",
            "[47]\ttrain-mlogloss:0.60848\teval-mlogloss:0.58067\n",
            "[48]\ttrain-mlogloss:0.60211\teval-mlogloss:0.57413\n",
            "[49]\ttrain-mlogloss:0.59528\teval-mlogloss:0.56663\n",
            "[50]\ttrain-mlogloss:0.58901\teval-mlogloss:0.55989\n",
            "[51]\ttrain-mlogloss:0.58273\teval-mlogloss:0.55305\n",
            "[52]\ttrain-mlogloss:0.57637\teval-mlogloss:0.54590\n",
            "[53]\ttrain-mlogloss:0.57017\teval-mlogloss:0.53928\n",
            "[54]\ttrain-mlogloss:0.56403\teval-mlogloss:0.53273\n",
            "[55]\ttrain-mlogloss:0.55781\teval-mlogloss:0.52655\n",
            "[56]\ttrain-mlogloss:0.55192\teval-mlogloss:0.52033\n",
            "[57]\ttrain-mlogloss:0.54606\teval-mlogloss:0.51462\n",
            "[58]\ttrain-mlogloss:0.54010\teval-mlogloss:0.50856\n",
            "[59]\ttrain-mlogloss:0.53430\teval-mlogloss:0.50207\n",
            "[60]\ttrain-mlogloss:0.52875\teval-mlogloss:0.49615\n",
            "[61]\ttrain-mlogloss:0.52360\teval-mlogloss:0.49040\n",
            "[62]\ttrain-mlogloss:0.51765\teval-mlogloss:0.48422\n",
            "[63]\ttrain-mlogloss:0.51205\teval-mlogloss:0.47886\n",
            "[64]\ttrain-mlogloss:0.50690\teval-mlogloss:0.47323\n",
            "[65]\ttrain-mlogloss:0.50155\teval-mlogloss:0.46755\n",
            "[66]\ttrain-mlogloss:0.49638\teval-mlogloss:0.46200\n",
            "[67]\ttrain-mlogloss:0.49127\teval-mlogloss:0.45669\n",
            "[68]\ttrain-mlogloss:0.48635\teval-mlogloss:0.45144\n",
            "[69]\ttrain-mlogloss:0.48148\teval-mlogloss:0.44621\n",
            "[70]\ttrain-mlogloss:0.47659\teval-mlogloss:0.44095\n",
            "[71]\ttrain-mlogloss:0.47152\teval-mlogloss:0.43572\n",
            "[72]\ttrain-mlogloss:0.46694\teval-mlogloss:0.43098\n",
            "[73]\ttrain-mlogloss:0.46216\teval-mlogloss:0.42593\n",
            "[74]\ttrain-mlogloss:0.45751\teval-mlogloss:0.42110\n",
            "[75]\ttrain-mlogloss:0.45307\teval-mlogloss:0.41632\n",
            "[76]\ttrain-mlogloss:0.44835\teval-mlogloss:0.41128\n",
            "[77]\ttrain-mlogloss:0.44381\teval-mlogloss:0.40660\n",
            "[78]\ttrain-mlogloss:0.43916\teval-mlogloss:0.40165\n",
            "[79]\ttrain-mlogloss:0.43480\teval-mlogloss:0.39685\n",
            "[80]\ttrain-mlogloss:0.43069\teval-mlogloss:0.39215\n",
            "[81]\ttrain-mlogloss:0.42630\teval-mlogloss:0.38764\n",
            "[82]\ttrain-mlogloss:0.42190\teval-mlogloss:0.38291\n",
            "[83]\ttrain-mlogloss:0.41788\teval-mlogloss:0.37848\n",
            "[84]\ttrain-mlogloss:0.41354\teval-mlogloss:0.37393\n",
            "[85]\ttrain-mlogloss:0.40922\teval-mlogloss:0.36983\n",
            "[86]\ttrain-mlogloss:0.40538\teval-mlogloss:0.36600\n",
            "[87]\ttrain-mlogloss:0.40140\teval-mlogloss:0.36170\n",
            "[88]\ttrain-mlogloss:0.39753\teval-mlogloss:0.35749\n",
            "[89]\ttrain-mlogloss:0.39350\teval-mlogloss:0.35322\n",
            "[90]\ttrain-mlogloss:0.38984\teval-mlogloss:0.34948\n",
            "[91]\ttrain-mlogloss:0.38597\teval-mlogloss:0.34556\n",
            "[92]\ttrain-mlogloss:0.38221\teval-mlogloss:0.34144\n",
            "[93]\ttrain-mlogloss:0.37854\teval-mlogloss:0.33750\n",
            "[94]\ttrain-mlogloss:0.37491\teval-mlogloss:0.33370\n",
            "[95]\ttrain-mlogloss:0.37165\teval-mlogloss:0.33023\n",
            "[96]\ttrain-mlogloss:0.36819\teval-mlogloss:0.32642\n",
            "[97]\ttrain-mlogloss:0.36458\teval-mlogloss:0.32260\n",
            "[98]\ttrain-mlogloss:0.36100\teval-mlogloss:0.31869\n",
            "[99]\ttrain-mlogloss:0.35751\teval-mlogloss:0.31568\n",
            "[100]\ttrain-mlogloss:0.35416\teval-mlogloss:0.31238\n",
            "[101]\ttrain-mlogloss:0.35077\teval-mlogloss:0.30887\n",
            "[102]\ttrain-mlogloss:0.34755\teval-mlogloss:0.30537\n",
            "[103]\ttrain-mlogloss:0.34455\teval-mlogloss:0.30207\n",
            "[104]\ttrain-mlogloss:0.34141\teval-mlogloss:0.29870\n",
            "[105]\ttrain-mlogloss:0.33813\teval-mlogloss:0.29544\n",
            "[106]\ttrain-mlogloss:0.33499\teval-mlogloss:0.29202\n",
            "[107]\ttrain-mlogloss:0.33171\teval-mlogloss:0.28864\n",
            "[108]\ttrain-mlogloss:0.32869\teval-mlogloss:0.28522\n",
            "[109]\ttrain-mlogloss:0.32571\teval-mlogloss:0.28202\n",
            "[110]\ttrain-mlogloss:0.32290\teval-mlogloss:0.27900\n",
            "[111]\ttrain-mlogloss:0.32013\teval-mlogloss:0.27584\n",
            "[112]\ttrain-mlogloss:0.31725\teval-mlogloss:0.27279\n",
            "[113]\ttrain-mlogloss:0.31420\teval-mlogloss:0.26954\n",
            "[114]\ttrain-mlogloss:0.31159\teval-mlogloss:0.26664\n",
            "[115]\ttrain-mlogloss:0.30890\teval-mlogloss:0.26358\n",
            "[116]\ttrain-mlogloss:0.30625\teval-mlogloss:0.26091\n",
            "[117]\ttrain-mlogloss:0.30356\teval-mlogloss:0.25791\n",
            "[118]\ttrain-mlogloss:0.30108\teval-mlogloss:0.25573\n",
            "[119]\ttrain-mlogloss:0.29831\teval-mlogloss:0.25289\n",
            "[120]\ttrain-mlogloss:0.29568\teval-mlogloss:0.25024\n",
            "[121]\ttrain-mlogloss:0.29278\teval-mlogloss:0.24744\n",
            "[122]\ttrain-mlogloss:0.29024\teval-mlogloss:0.24476\n",
            "[123]\ttrain-mlogloss:0.28777\teval-mlogloss:0.24221\n",
            "[124]\ttrain-mlogloss:0.28533\teval-mlogloss:0.23943\n",
            "[125]\ttrain-mlogloss:0.28283\teval-mlogloss:0.23688\n",
            "[126]\ttrain-mlogloss:0.28047\teval-mlogloss:0.23469\n",
            "[127]\ttrain-mlogloss:0.27811\teval-mlogloss:0.23194\n",
            "[128]\ttrain-mlogloss:0.27573\teval-mlogloss:0.22929\n",
            "[129]\ttrain-mlogloss:0.27346\teval-mlogloss:0.22685\n",
            "[130]\ttrain-mlogloss:0.27127\teval-mlogloss:0.22457\n",
            "[131]\ttrain-mlogloss:0.26892\teval-mlogloss:0.22203\n",
            "[132]\ttrain-mlogloss:0.26657\teval-mlogloss:0.21967\n",
            "[133]\ttrain-mlogloss:0.26439\teval-mlogloss:0.21740\n",
            "[134]\ttrain-mlogloss:0.26240\teval-mlogloss:0.21531\n",
            "[135]\ttrain-mlogloss:0.26051\teval-mlogloss:0.21322\n",
            "[136]\ttrain-mlogloss:0.25830\teval-mlogloss:0.21086\n",
            "[137]\ttrain-mlogloss:0.25626\teval-mlogloss:0.20843\n",
            "[138]\ttrain-mlogloss:0.25417\teval-mlogloss:0.20624\n",
            "[139]\ttrain-mlogloss:0.25220\teval-mlogloss:0.20428\n",
            "[140]\ttrain-mlogloss:0.25012\teval-mlogloss:0.20188\n",
            "[141]\ttrain-mlogloss:0.24791\teval-mlogloss:0.19953\n",
            "[142]\ttrain-mlogloss:0.24580\teval-mlogloss:0.19710\n",
            "[143]\ttrain-mlogloss:0.24393\teval-mlogloss:0.19500\n",
            "[144]\ttrain-mlogloss:0.24191\teval-mlogloss:0.19293\n",
            "[145]\ttrain-mlogloss:0.23980\teval-mlogloss:0.19051\n",
            "[146]\ttrain-mlogloss:0.23789\teval-mlogloss:0.18848\n",
            "[147]\ttrain-mlogloss:0.23605\teval-mlogloss:0.18643\n",
            "[148]\ttrain-mlogloss:0.23400\teval-mlogloss:0.18412\n",
            "[149]\ttrain-mlogloss:0.23229\teval-mlogloss:0.18273\n",
            "[150]\ttrain-mlogloss:0.23064\teval-mlogloss:0.18137\n",
            "[151]\ttrain-mlogloss:0.22859\teval-mlogloss:0.17967\n",
            "[152]\ttrain-mlogloss:0.22678\teval-mlogloss:0.17769\n",
            "[153]\ttrain-mlogloss:0.22490\teval-mlogloss:0.17615\n",
            "[154]\ttrain-mlogloss:0.22322\teval-mlogloss:0.17444\n",
            "[155]\ttrain-mlogloss:0.22129\teval-mlogloss:0.17246\n",
            "[156]\ttrain-mlogloss:0.21930\teval-mlogloss:0.17042\n",
            "[157]\ttrain-mlogloss:0.21768\teval-mlogloss:0.16860\n",
            "[158]\ttrain-mlogloss:0.21591\teval-mlogloss:0.16677\n",
            "[159]\ttrain-mlogloss:0.21435\teval-mlogloss:0.16546\n",
            "[160]\ttrain-mlogloss:0.21267\teval-mlogloss:0.16393\n",
            "[161]\ttrain-mlogloss:0.21059\teval-mlogloss:0.16239\n",
            "[162]\ttrain-mlogloss:0.20900\teval-mlogloss:0.16081\n",
            "[163]\ttrain-mlogloss:0.20744\teval-mlogloss:0.15957\n",
            "[164]\ttrain-mlogloss:0.20590\teval-mlogloss:0.15794\n",
            "[165]\ttrain-mlogloss:0.20421\teval-mlogloss:0.15661\n",
            "[166]\ttrain-mlogloss:0.20272\teval-mlogloss:0.15495\n",
            "[167]\ttrain-mlogloss:0.20115\teval-mlogloss:0.15352\n",
            "[168]\ttrain-mlogloss:0.19957\teval-mlogloss:0.15219\n",
            "[169]\ttrain-mlogloss:0.19810\teval-mlogloss:0.15072\n",
            "[170]\ttrain-mlogloss:0.19672\teval-mlogloss:0.14914\n",
            "[171]\ttrain-mlogloss:0.19534\teval-mlogloss:0.14750\n",
            "[172]\ttrain-mlogloss:0.19399\teval-mlogloss:0.14608\n",
            "[173]\ttrain-mlogloss:0.19256\teval-mlogloss:0.14452\n",
            "[174]\ttrain-mlogloss:0.19115\teval-mlogloss:0.14296\n",
            "[175]\ttrain-mlogloss:0.18981\teval-mlogloss:0.14174\n",
            "[176]\ttrain-mlogloss:0.18855\teval-mlogloss:0.14039\n",
            "[177]\ttrain-mlogloss:0.18724\teval-mlogloss:0.13886\n",
            "[178]\ttrain-mlogloss:0.18596\teval-mlogloss:0.13759\n",
            "[179]\ttrain-mlogloss:0.18478\teval-mlogloss:0.13655\n",
            "[180]\ttrain-mlogloss:0.18363\teval-mlogloss:0.13521\n",
            "[181]\ttrain-mlogloss:0.18233\teval-mlogloss:0.13378\n",
            "[182]\ttrain-mlogloss:0.18127\teval-mlogloss:0.13295\n",
            "[183]\ttrain-mlogloss:0.17975\teval-mlogloss:0.13156\n",
            "[184]\ttrain-mlogloss:0.17854\teval-mlogloss:0.13035\n",
            "[185]\ttrain-mlogloss:0.17727\teval-mlogloss:0.12909\n",
            "[186]\ttrain-mlogloss:0.17601\teval-mlogloss:0.12820\n",
            "[187]\ttrain-mlogloss:0.17510\teval-mlogloss:0.12746\n",
            "[188]\ttrain-mlogloss:0.17383\teval-mlogloss:0.12608\n",
            "[189]\ttrain-mlogloss:0.17261\teval-mlogloss:0.12476\n",
            "[190]\ttrain-mlogloss:0.17144\teval-mlogloss:0.12336\n",
            "[191]\ttrain-mlogloss:0.17042\teval-mlogloss:0.12215\n",
            "[192]\ttrain-mlogloss:0.16916\teval-mlogloss:0.12096\n",
            "[193]\ttrain-mlogloss:0.16798\teval-mlogloss:0.11980\n",
            "[194]\ttrain-mlogloss:0.16688\teval-mlogloss:0.11862\n",
            "[195]\ttrain-mlogloss:0.16572\teval-mlogloss:0.11775\n",
            "[196]\ttrain-mlogloss:0.16465\teval-mlogloss:0.11649\n",
            "[197]\ttrain-mlogloss:0.16345\teval-mlogloss:0.11532\n",
            "[198]\ttrain-mlogloss:0.16251\teval-mlogloss:0.11449\n",
            "[199]\ttrain-mlogloss:0.16133\teval-mlogloss:0.11328\n",
            "[200]\ttrain-mlogloss:0.16030\teval-mlogloss:0.11212\n",
            "[201]\ttrain-mlogloss:0.15931\teval-mlogloss:0.11083\n",
            "[202]\ttrain-mlogloss:0.15823\teval-mlogloss:0.11008\n",
            "[203]\ttrain-mlogloss:0.15723\teval-mlogloss:0.10924\n",
            "[204]\ttrain-mlogloss:0.15616\teval-mlogloss:0.10834\n",
            "[205]\ttrain-mlogloss:0.15512\teval-mlogloss:0.10730\n",
            "[206]\ttrain-mlogloss:0.15412\teval-mlogloss:0.10628\n",
            "[207]\ttrain-mlogloss:0.15313\teval-mlogloss:0.10532\n",
            "[208]\ttrain-mlogloss:0.15221\teval-mlogloss:0.10459\n",
            "[209]\ttrain-mlogloss:0.15138\teval-mlogloss:0.10363\n",
            "[210]\ttrain-mlogloss:0.15047\teval-mlogloss:0.10285\n",
            "[211]\ttrain-mlogloss:0.14938\teval-mlogloss:0.10182\n",
            "[212]\ttrain-mlogloss:0.14869\teval-mlogloss:0.10097\n",
            "[213]\ttrain-mlogloss:0.14783\teval-mlogloss:0.09998\n",
            "[214]\ttrain-mlogloss:0.14690\teval-mlogloss:0.09923\n",
            "[215]\ttrain-mlogloss:0.14587\teval-mlogloss:0.09857\n",
            "[216]\ttrain-mlogloss:0.14493\teval-mlogloss:0.09788\n",
            "[217]\ttrain-mlogloss:0.14398\teval-mlogloss:0.09689\n",
            "[218]\ttrain-mlogloss:0.14319\teval-mlogloss:0.09622\n",
            "[219]\ttrain-mlogloss:0.14216\teval-mlogloss:0.09523\n",
            "[220]\ttrain-mlogloss:0.14118\teval-mlogloss:0.09426\n",
            "[221]\ttrain-mlogloss:0.14018\teval-mlogloss:0.09366\n",
            "[222]\ttrain-mlogloss:0.13926\teval-mlogloss:0.09265\n",
            "[223]\ttrain-mlogloss:0.13855\teval-mlogloss:0.09169\n",
            "[224]\ttrain-mlogloss:0.13774\teval-mlogloss:0.09070\n",
            "[225]\ttrain-mlogloss:0.13678\teval-mlogloss:0.08981\n",
            "[226]\ttrain-mlogloss:0.13571\teval-mlogloss:0.08885\n",
            "[227]\ttrain-mlogloss:0.13479\teval-mlogloss:0.08810\n",
            "[228]\ttrain-mlogloss:0.13392\teval-mlogloss:0.08728\n",
            "[229]\ttrain-mlogloss:0.13314\teval-mlogloss:0.08642\n",
            "[230]\ttrain-mlogloss:0.13212\teval-mlogloss:0.08563\n",
            "[231]\ttrain-mlogloss:0.13127\teval-mlogloss:0.08485\n",
            "[232]\ttrain-mlogloss:0.13045\teval-mlogloss:0.08406\n",
            "[233]\ttrain-mlogloss:0.12980\teval-mlogloss:0.08327\n",
            "[234]\ttrain-mlogloss:0.12909\teval-mlogloss:0.08278\n",
            "[235]\ttrain-mlogloss:0.12844\teval-mlogloss:0.08198\n",
            "[236]\ttrain-mlogloss:0.12765\teval-mlogloss:0.08133\n",
            "[237]\ttrain-mlogloss:0.12701\teval-mlogloss:0.08055\n",
            "[238]\ttrain-mlogloss:0.12639\teval-mlogloss:0.07997\n",
            "[239]\ttrain-mlogloss:0.12565\teval-mlogloss:0.07928\n",
            "[240]\ttrain-mlogloss:0.12500\teval-mlogloss:0.07871\n",
            "[241]\ttrain-mlogloss:0.12430\teval-mlogloss:0.07822\n",
            "[242]\ttrain-mlogloss:0.12360\teval-mlogloss:0.07795\n",
            "[243]\ttrain-mlogloss:0.12284\teval-mlogloss:0.07716\n",
            "[244]\ttrain-mlogloss:0.12240\teval-mlogloss:0.07656\n",
            "[245]\ttrain-mlogloss:0.12179\teval-mlogloss:0.07596\n",
            "[246]\ttrain-mlogloss:0.12113\teval-mlogloss:0.07514\n",
            "[247]\ttrain-mlogloss:0.12053\teval-mlogloss:0.07479\n",
            "[248]\ttrain-mlogloss:0.11987\teval-mlogloss:0.07408\n",
            "[249]\ttrain-mlogloss:0.11937\teval-mlogloss:0.07346\n",
            "[250]\ttrain-mlogloss:0.11894\teval-mlogloss:0.07304\n",
            "[251]\ttrain-mlogloss:0.11832\teval-mlogloss:0.07230\n",
            "[252]\ttrain-mlogloss:0.11765\teval-mlogloss:0.07149\n",
            "[253]\ttrain-mlogloss:0.11712\teval-mlogloss:0.07102\n",
            "[254]\ttrain-mlogloss:0.11641\teval-mlogloss:0.07055\n",
            "[255]\ttrain-mlogloss:0.11575\teval-mlogloss:0.07034\n",
            "[256]\ttrain-mlogloss:0.11512\teval-mlogloss:0.06996\n",
            "[257]\ttrain-mlogloss:0.11454\teval-mlogloss:0.06934\n",
            "[258]\ttrain-mlogloss:0.11401\teval-mlogloss:0.06876\n",
            "[259]\ttrain-mlogloss:0.11335\teval-mlogloss:0.06812\n",
            "[260]\ttrain-mlogloss:0.11270\teval-mlogloss:0.06768\n",
            "[261]\ttrain-mlogloss:0.11218\teval-mlogloss:0.06716\n",
            "[262]\ttrain-mlogloss:0.11162\teval-mlogloss:0.06679\n",
            "[263]\ttrain-mlogloss:0.11109\teval-mlogloss:0.06627\n",
            "[264]\ttrain-mlogloss:0.11059\teval-mlogloss:0.06572\n",
            "[265]\ttrain-mlogloss:0.10999\teval-mlogloss:0.06526\n",
            "[266]\ttrain-mlogloss:0.10961\teval-mlogloss:0.06489\n",
            "[267]\ttrain-mlogloss:0.10914\teval-mlogloss:0.06466\n",
            "[268]\ttrain-mlogloss:0.10869\teval-mlogloss:0.06424\n",
            "[269]\ttrain-mlogloss:0.10823\teval-mlogloss:0.06392\n",
            "[270]\ttrain-mlogloss:0.10774\teval-mlogloss:0.06339\n",
            "[271]\ttrain-mlogloss:0.10731\teval-mlogloss:0.06276\n",
            "[272]\ttrain-mlogloss:0.10700\teval-mlogloss:0.06241\n",
            "[273]\ttrain-mlogloss:0.10641\teval-mlogloss:0.06180\n",
            "[274]\ttrain-mlogloss:0.10599\teval-mlogloss:0.06116\n",
            "[275]\ttrain-mlogloss:0.10547\teval-mlogloss:0.06090\n",
            "[276]\ttrain-mlogloss:0.10507\teval-mlogloss:0.06060\n",
            "[277]\ttrain-mlogloss:0.10461\teval-mlogloss:0.06016\n",
            "[278]\ttrain-mlogloss:0.10412\teval-mlogloss:0.05978\n",
            "[279]\ttrain-mlogloss:0.10375\teval-mlogloss:0.05946\n",
            "[280]\ttrain-mlogloss:0.10339\teval-mlogloss:0.05921\n",
            "[281]\ttrain-mlogloss:0.10290\teval-mlogloss:0.05864\n",
            "[282]\ttrain-mlogloss:0.10247\teval-mlogloss:0.05835\n",
            "[283]\ttrain-mlogloss:0.10204\teval-mlogloss:0.05793\n",
            "[284]\ttrain-mlogloss:0.10166\teval-mlogloss:0.05763\n",
            "[285]\ttrain-mlogloss:0.10128\teval-mlogloss:0.05707\n",
            "[286]\ttrain-mlogloss:0.10080\teval-mlogloss:0.05652\n",
            "[287]\ttrain-mlogloss:0.10025\teval-mlogloss:0.05605\n",
            "[288]\ttrain-mlogloss:0.09993\teval-mlogloss:0.05589\n",
            "[289]\ttrain-mlogloss:0.09968\teval-mlogloss:0.05566\n",
            "[290]\ttrain-mlogloss:0.09927\teval-mlogloss:0.05514\n",
            "[291]\ttrain-mlogloss:0.09894\teval-mlogloss:0.05474\n",
            "[292]\ttrain-mlogloss:0.09856\teval-mlogloss:0.05438\n",
            "[293]\ttrain-mlogloss:0.09802\teval-mlogloss:0.05424\n",
            "[294]\ttrain-mlogloss:0.09768\teval-mlogloss:0.05385\n",
            "[295]\ttrain-mlogloss:0.09725\teval-mlogloss:0.05334\n",
            "[296]\ttrain-mlogloss:0.09682\teval-mlogloss:0.05318\n",
            "[297]\ttrain-mlogloss:0.09649\teval-mlogloss:0.05276\n",
            "[298]\ttrain-mlogloss:0.09609\teval-mlogloss:0.05231\n",
            "[299]\ttrain-mlogloss:0.09580\teval-mlogloss:0.05200\n"
          ]
        },
        {
          "name": "stderr",
          "output_type": "stream",
          "text": [
            "[I 2025-06-01 18:04:29,445] Trial 3 finished with value: 1.0 and parameters: {'lambda': 7.948322167602343e-08, 'alpha': 0.0005851979933446216, 'eta': 0.011476679576236784, 'gamma': 0.3679084165714077, 'max_depth': 3, 'min_child_weight': 1, 'subsample': 0.4640098671712151, 'colsample_bytree': 0.9260204853515488}. Best is trial 1 with value: 1.0.\n"
          ]
        },
        {
          "name": "stdout",
          "output_type": "stream",
          "text": [
            "[0]\ttrain-mlogloss:0.91591\teval-mlogloss:0.90542\n",
            "[1]\ttrain-mlogloss:0.84701\teval-mlogloss:0.82507\n"
          ]
        },
        {
          "name": "stderr",
          "output_type": "stream",
          "text": [
            "[I 2025-06-01 18:04:29,453] Trial 4 pruned. Trial was pruned at iteration 2.\n"
          ]
        },
        {
          "name": "stdout",
          "output_type": "stream",
          "text": [
            "[0]\ttrain-mlogloss:0.81137\teval-mlogloss:0.79966\n",
            "[1]\ttrain-mlogloss:0.70791\teval-mlogloss:0.68222\n"
          ]
        },
        {
          "name": "stderr",
          "output_type": "stream",
          "text": [
            "[I 2025-06-01 18:04:29,460] Trial 5 pruned. Trial was pruned at iteration 2.\n"
          ]
        },
        {
          "name": "stdout",
          "output_type": "stream",
          "text": [
            "[0]\ttrain-mlogloss:1.02183\teval-mlogloss:1.02673\n",
            "[1]\ttrain-mlogloss:0.97419\teval-mlogloss:0.97171\n"
          ]
        },
        {
          "name": "stderr",
          "output_type": "stream",
          "text": [
            "[I 2025-06-01 18:04:29,468] Trial 6 pruned. Trial was pruned at iteration 2.\n"
          ]
        },
        {
          "name": "stdout",
          "output_type": "stream",
          "text": [
            "[0]\ttrain-mlogloss:1.02953\teval-mlogloss:1.02646\n",
            "[1]\ttrain-mlogloss:0.99902\teval-mlogloss:0.99389\n"
          ]
        },
        {
          "name": "stderr",
          "output_type": "stream",
          "text": [
            "[I 2025-06-01 18:04:29,479] Trial 7 pruned. Trial was pruned at iteration 2.\n"
          ]
        },
        {
          "name": "stdout",
          "output_type": "stream",
          "text": [
            "[0]\ttrain-mlogloss:0.81508\teval-mlogloss:0.81867\n",
            "[1]\ttrain-mlogloss:0.62158\teval-mlogloss:0.60666\n",
            "[2]\ttrain-mlogloss:0.49349\teval-mlogloss:0.46787\n"
          ]
        },
        {
          "name": "stderr",
          "output_type": "stream",
          "text": [
            "[I 2025-06-01 18:04:29,490] Trial 8 pruned. Trial was pruned at iteration 2.\n"
          ]
        },
        {
          "name": "stdout",
          "output_type": "stream",
          "text": [
            "[0]\ttrain-mlogloss:0.85816\teval-mlogloss:0.84675\n",
            "[1]\ttrain-mlogloss:0.75636\teval-mlogloss:0.74509\n",
            "[2]\ttrain-mlogloss:0.62702\teval-mlogloss:0.61143\n"
          ]
        },
        {
          "name": "stderr",
          "output_type": "stream",
          "text": [
            "[I 2025-06-01 18:04:29,520] Trial 9 pruned. Trial was pruned at iteration 2.\n"
          ]
        },
        {
          "name": "stdout",
          "output_type": "stream",
          "text": [
            "[0]\ttrain-mlogloss:0.96909\teval-mlogloss:0.96546\n",
            "[1]\ttrain-mlogloss:0.86187\teval-mlogloss:0.85148\n",
            "[2]\ttrain-mlogloss:0.77006\teval-mlogloss:0.75373\n"
          ]
        },
        {
          "name": "stderr",
          "output_type": "stream",
          "text": [
            "[I 2025-06-01 18:04:29,572] Trial 10 pruned. Trial was pruned at iteration 2.\n"
          ]
        },
        {
          "name": "stdout",
          "output_type": "stream",
          "text": [
            "[0]\ttrain-mlogloss:1.07869\teval-mlogloss:1.07815\n",
            "[1]\ttrain-mlogloss:1.05914\teval-mlogloss:1.05767\n",
            "[2]\ttrain-mlogloss:1.03978\teval-mlogloss:1.03707\n",
            "[3]\ttrain-mlogloss:1.02064\teval-mlogloss:1.01692\n",
            "[4]\ttrain-mlogloss:1.00234\teval-mlogloss:0.99853\n",
            "[5]\ttrain-mlogloss:0.98419\teval-mlogloss:0.97936\n",
            "[6]\ttrain-mlogloss:0.96698\teval-mlogloss:0.96199\n",
            "[7]\ttrain-mlogloss:0.94994\teval-mlogloss:0.94399\n"
          ]
        },
        {
          "name": "stderr",
          "output_type": "stream",
          "text": [
            "[I 2025-06-01 18:04:29,639] Trial 11 pruned. Trial was pruned at iteration 8.\n"
          ]
        },
        {
          "name": "stdout",
          "output_type": "stream",
          "text": [
            "[0]\ttrain-mlogloss:0.96402\teval-mlogloss:0.96200\n",
            "[1]\ttrain-mlogloss:0.85899\teval-mlogloss:0.84366\n",
            "[2]\ttrain-mlogloss:0.76484\teval-mlogloss:0.74157\n"
          ]
        },
        {
          "name": "stderr",
          "output_type": "stream",
          "text": [
            "[I 2025-06-01 18:04:29,694] Trial 12 pruned. Trial was pruned at iteration 2.\n"
          ]
        },
        {
          "name": "stdout",
          "output_type": "stream",
          "text": [
            "[0]\ttrain-mlogloss:1.02284\teval-mlogloss:1.02104\n",
            "[1]\ttrain-mlogloss:0.95587\teval-mlogloss:0.94926\n"
          ]
        },
        {
          "name": "stderr",
          "output_type": "stream",
          "text": [
            "[I 2025-06-01 18:04:29,744] Trial 13 pruned. Trial was pruned at iteration 2.\n"
          ]
        },
        {
          "name": "stdout",
          "output_type": "stream",
          "text": [
            "[0]\ttrain-mlogloss:0.76171\teval-mlogloss:0.75059\n",
            "[1]\ttrain-mlogloss:0.55741\teval-mlogloss:0.53441\n"
          ]
        },
        {
          "name": "stderr",
          "output_type": "stream",
          "text": [
            "[I 2025-06-01 18:04:29,854] Trial 14 pruned. Trial was pruned at iteration 2.\n"
          ]
        },
        {
          "name": "stdout",
          "output_type": "stream",
          "text": [
            "[0]\ttrain-mlogloss:0.92321\teval-mlogloss:0.91490\n",
            "[1]\ttrain-mlogloss:0.84294\teval-mlogloss:0.84131\n",
            "[2]\ttrain-mlogloss:0.73499\teval-mlogloss:0.72975\n"
          ]
        },
        {
          "name": "stderr",
          "output_type": "stream",
          "text": [
            "[I 2025-06-01 18:04:29,912] Trial 15 pruned. Trial was pruned at iteration 2.\n"
          ]
        },
        {
          "name": "stdout",
          "output_type": "stream",
          "text": [
            "[0]\ttrain-mlogloss:0.84172\teval-mlogloss:0.83147\n",
            "[1]\ttrain-mlogloss:0.75219\teval-mlogloss:0.72322\n"
          ]
        },
        {
          "name": "stderr",
          "output_type": "stream",
          "text": [
            "[I 2025-06-01 18:04:29,963] Trial 16 pruned. Trial was pruned at iteration 2.\n"
          ]
        },
        {
          "name": "stdout",
          "output_type": "stream",
          "text": [
            "[0]\ttrain-mlogloss:1.07336\teval-mlogloss:1.07302\n",
            "[1]\ttrain-mlogloss:1.04973\teval-mlogloss:1.04841\n",
            "[2]\ttrain-mlogloss:1.02575\teval-mlogloss:1.02314\n",
            "[3]\ttrain-mlogloss:1.00239\teval-mlogloss:0.99886\n",
            "[4]\ttrain-mlogloss:0.98037\teval-mlogloss:0.97625\n",
            "[5]\ttrain-mlogloss:0.95892\teval-mlogloss:0.95369\n",
            "[6]\ttrain-mlogloss:0.93875\teval-mlogloss:0.93242\n",
            "[7]\ttrain-mlogloss:0.91838\teval-mlogloss:0.91114\n",
            "[8]\ttrain-mlogloss:0.89896\teval-mlogloss:0.89070\n"
          ]
        },
        {
          "name": "stderr",
          "output_type": "stream",
          "text": [
            "[I 2025-06-01 18:04:30,026] Trial 17 pruned. Trial was pruned at iteration 8.\n"
          ]
        },
        {
          "name": "stdout",
          "output_type": "stream",
          "text": [
            "[0]\ttrain-mlogloss:0.92852\teval-mlogloss:0.93032\n",
            "[1]\ttrain-mlogloss:0.83361\teval-mlogloss:0.81203\n"
          ]
        },
        {
          "name": "stderr",
          "output_type": "stream",
          "text": [
            "[I 2025-06-01 18:04:30,078] Trial 18 pruned. Trial was pruned at iteration 2.\n"
          ]
        },
        {
          "name": "stdout",
          "output_type": "stream",
          "text": [
            "[0]\ttrain-mlogloss:1.01164\teval-mlogloss:1.01211\n",
            "[1]\ttrain-mlogloss:0.93269\teval-mlogloss:0.92787\n",
            "[2]\ttrain-mlogloss:0.85933\teval-mlogloss:0.85052\n"
          ]
        },
        {
          "name": "stderr",
          "output_type": "stream",
          "text": [
            "[I 2025-06-01 18:04:30,151] Trial 19 pruned. Trial was pruned at iteration 2.\n"
          ]
        },
        {
          "name": "stdout",
          "output_type": "stream",
          "text": [
            "[0]\ttrain-mlogloss:0.90515\teval-mlogloss:0.89398\n",
            "[1]\ttrain-mlogloss:0.82616\teval-mlogloss:0.80870\n"
          ]
        },
        {
          "name": "stderr",
          "output_type": "stream",
          "text": [
            "[I 2025-06-01 18:04:30,207] Trial 20 pruned. Trial was pruned at iteration 2.\n"
          ]
        },
        {
          "name": "stdout",
          "output_type": "stream",
          "text": [
            "[0]\ttrain-mlogloss:0.93828\teval-mlogloss:0.93250\n",
            "[1]\ttrain-mlogloss:0.86249\teval-mlogloss:0.84357\n",
            "[2]\ttrain-mlogloss:0.78751\teval-mlogloss:0.76654\n"
          ]
        },
        {
          "name": "stderr",
          "output_type": "stream",
          "text": [
            "[I 2025-06-01 18:04:30,267] Trial 21 pruned. Trial was pruned at iteration 2.\n"
          ]
        },
        {
          "name": "stdout",
          "output_type": "stream",
          "text": [
            "[0]\ttrain-mlogloss:0.96099\teval-mlogloss:0.95178\n",
            "[1]\ttrain-mlogloss:0.90898\teval-mlogloss:0.89290\n",
            "[2]\ttrain-mlogloss:0.87536\teval-mlogloss:0.86647\n"
          ]
        },
        {
          "name": "stderr",
          "output_type": "stream",
          "text": [
            "[I 2025-06-01 18:04:30,316] Trial 22 pruned. Trial was pruned at iteration 2.\n"
          ]
        },
        {
          "name": "stdout",
          "output_type": "stream",
          "text": [
            "[0]\ttrain-mlogloss:0.94982\teval-mlogloss:0.95190\n",
            "[1]\ttrain-mlogloss:0.82615\teval-mlogloss:0.82127\n",
            "[2]\ttrain-mlogloss:0.74770\teval-mlogloss:0.74071\n"
          ]
        },
        {
          "name": "stderr",
          "output_type": "stream",
          "text": [
            "[I 2025-06-01 18:04:30,413] Trial 23 pruned. Trial was pruned at iteration 2.\n"
          ]
        },
        {
          "name": "stdout",
          "output_type": "stream",
          "text": [
            "[0]\ttrain-mlogloss:0.96319\teval-mlogloss:0.95698\n",
            "[1]\ttrain-mlogloss:0.89677\teval-mlogloss:0.88799\n",
            "[2]\ttrain-mlogloss:0.83328\teval-mlogloss:0.82264\n"
          ]
        },
        {
          "name": "stderr",
          "output_type": "stream",
          "text": [
            "[I 2025-06-01 18:04:30,467] Trial 24 pruned. Trial was pruned at iteration 2.\n"
          ]
        },
        {
          "name": "stdout",
          "output_type": "stream",
          "text": [
            "[0]\ttrain-mlogloss:0.88165\teval-mlogloss:0.88377\n",
            "[1]\ttrain-mlogloss:0.75339\teval-mlogloss:0.73389\n"
          ]
        },
        {
          "name": "stderr",
          "output_type": "stream",
          "text": [
            "[I 2025-06-01 18:04:30,518] Trial 25 pruned. Trial was pruned at iteration 2.\n"
          ]
        },
        {
          "name": "stdout",
          "output_type": "stream",
          "text": [
            "[0]\ttrain-mlogloss:0.99679\teval-mlogloss:0.99328\n",
            "[1]\ttrain-mlogloss:0.95131\teval-mlogloss:0.94346\n",
            "[2]\ttrain-mlogloss:0.88261\teval-mlogloss:0.87304\n"
          ]
        },
        {
          "name": "stderr",
          "output_type": "stream",
          "text": [
            "[I 2025-06-01 18:04:30,572] Trial 26 pruned. Trial was pruned at iteration 2.\n"
          ]
        },
        {
          "name": "stdout",
          "output_type": "stream",
          "text": [
            "[0]\ttrain-mlogloss:0.82752\teval-mlogloss:0.81817\n",
            "[1]\ttrain-mlogloss:0.64589\teval-mlogloss:0.62439\n"
          ]
        },
        {
          "name": "stderr",
          "output_type": "stream",
          "text": [
            "[I 2025-06-01 18:04:30,629] Trial 27 pruned. Trial was pruned at iteration 2.\n"
          ]
        },
        {
          "name": "stdout",
          "output_type": "stream",
          "text": [
            "[0]\ttrain-mlogloss:0.91382\teval-mlogloss:0.90667\n",
            "[1]\ttrain-mlogloss:0.83715\teval-mlogloss:0.81961\n"
          ]
        },
        {
          "name": "stderr",
          "output_type": "stream",
          "text": [
            "[I 2025-06-01 18:04:30,685] Trial 28 pruned. Trial was pruned at iteration 2.\n"
          ]
        },
        {
          "name": "stdout",
          "output_type": "stream",
          "text": [
            "[0]\ttrain-mlogloss:0.92741\teval-mlogloss:0.91858\n",
            "[1]\ttrain-mlogloss:0.86269\teval-mlogloss:0.84278\n"
          ]
        },
        {
          "name": "stderr",
          "output_type": "stream",
          "text": [
            "[I 2025-06-01 18:04:30,738] Trial 29 pruned. Trial was pruned at iteration 2.\n"
          ]
        },
        {
          "name": "stdout",
          "output_type": "stream",
          "text": [
            "[0]\ttrain-mlogloss:1.05276\teval-mlogloss:1.05120\n",
            "[1]\ttrain-mlogloss:1.00981\teval-mlogloss:1.00554\n",
            "[2]\ttrain-mlogloss:0.96874\teval-mlogloss:0.96167\n",
            "[3]\ttrain-mlogloss:0.92921\teval-mlogloss:0.92133\n",
            "[4]\ttrain-mlogloss:0.89329\teval-mlogloss:0.88415\n",
            "[5]\ttrain-mlogloss:0.85855\teval-mlogloss:0.84687\n",
            "[6]\ttrain-mlogloss:0.82677\teval-mlogloss:0.81283\n",
            "[7]\ttrain-mlogloss:0.79632\teval-mlogloss:0.78169\n"
          ]
        },
        {
          "name": "stderr",
          "output_type": "stream",
          "text": [
            "[I 2025-06-01 18:04:30,806] Trial 30 pruned. Trial was pruned at iteration 8.\n"
          ]
        },
        {
          "name": "stdout",
          "output_type": "stream",
          "text": [
            "[0]\ttrain-mlogloss:1.03935\teval-mlogloss:1.03778\n",
            "[1]\ttrain-mlogloss:0.98401\teval-mlogloss:0.97973\n",
            "[2]\ttrain-mlogloss:0.93182\teval-mlogloss:0.92418\n",
            "[3]\ttrain-mlogloss:0.88282\teval-mlogloss:0.87257\n",
            "[4]\ttrain-mlogloss:0.83807\teval-mlogloss:0.82798\n",
            "[5]\ttrain-mlogloss:0.79565\teval-mlogloss:0.78297\n",
            "[6]\ttrain-mlogloss:0.75673\teval-mlogloss:0.74448\n",
            "[7]\ttrain-mlogloss:0.72083\teval-mlogloss:0.70664\n"
          ]
        },
        {
          "name": "stderr",
          "output_type": "stream",
          "text": [
            "[I 2025-06-01 18:04:30,874] Trial 31 pruned. Trial was pruned at iteration 8.\n"
          ]
        },
        {
          "name": "stdout",
          "output_type": "stream",
          "text": [
            "[0]\ttrain-mlogloss:1.07366\teval-mlogloss:1.07238\n",
            "[1]\ttrain-mlogloss:1.04953\teval-mlogloss:1.04669\n",
            "[2]\ttrain-mlogloss:1.02528\teval-mlogloss:1.02146\n",
            "[3]\ttrain-mlogloss:1.00161\teval-mlogloss:0.99675\n",
            "[4]\ttrain-mlogloss:0.97934\teval-mlogloss:0.97409\n",
            "[5]\ttrain-mlogloss:0.95731\teval-mlogloss:0.95071\n",
            "[6]\ttrain-mlogloss:0.93663\teval-mlogloss:0.92981\n",
            "[7]\ttrain-mlogloss:0.91684\teval-mlogloss:0.90876\n",
            "[8]\ttrain-mlogloss:0.89729\teval-mlogloss:0.88802\n"
          ]
        },
        {
          "name": "stderr",
          "output_type": "stream",
          "text": [
            "[I 2025-06-01 18:04:31,004] Trial 32 pruned. Trial was pruned at iteration 8.\n"
          ]
        },
        {
          "name": "stdout",
          "output_type": "stream",
          "text": [
            "[0]\ttrain-mlogloss:0.98940\teval-mlogloss:0.98512\n",
            "[1]\ttrain-mlogloss:0.89519\teval-mlogloss:0.88789\n",
            "[2]\ttrain-mlogloss:0.80897\teval-mlogloss:0.79918\n"
          ]
        },
        {
          "name": "stderr",
          "output_type": "stream",
          "text": [
            "[I 2025-06-01 18:04:31,062] Trial 33 pruned. Trial was pruned at iteration 2.\n"
          ]
        },
        {
          "name": "stdout",
          "output_type": "stream",
          "text": [
            "[0]\ttrain-mlogloss:1.08339\teval-mlogloss:1.08322\n",
            "[1]\ttrain-mlogloss:1.06853\teval-mlogloss:1.06746\n",
            "[2]\ttrain-mlogloss:1.05369\teval-mlogloss:1.05189\n",
            "[3]\ttrain-mlogloss:1.03884\teval-mlogloss:1.03657\n",
            "[4]\ttrain-mlogloss:1.02474\teval-mlogloss:1.02179\n",
            "[5]\ttrain-mlogloss:1.01063\teval-mlogloss:1.00691\n",
            "[6]\ttrain-mlogloss:0.99740\teval-mlogloss:0.99266\n",
            "[7]\ttrain-mlogloss:0.98431\teval-mlogloss:0.97949\n",
            "[8]\ttrain-mlogloss:0.97137\teval-mlogloss:0.96577\n",
            "[9]\ttrain-mlogloss:0.95828\teval-mlogloss:0.95195\n",
            "[10]\ttrain-mlogloss:0.94569\teval-mlogloss:0.93882\n",
            "[11]\ttrain-mlogloss:0.93318\teval-mlogloss:0.92542\n",
            "[12]\ttrain-mlogloss:0.92126\teval-mlogloss:0.91306\n",
            "[13]\ttrain-mlogloss:0.90930\teval-mlogloss:0.90074\n",
            "[14]\ttrain-mlogloss:0.89796\teval-mlogloss:0.88839\n",
            "[15]\ttrain-mlogloss:0.88641\teval-mlogloss:0.87590\n",
            "[16]\ttrain-mlogloss:0.87506\teval-mlogloss:0.86384\n",
            "[17]\ttrain-mlogloss:0.86417\teval-mlogloss:0.85238\n",
            "[18]\ttrain-mlogloss:0.85339\teval-mlogloss:0.84097\n",
            "[19]\ttrain-mlogloss:0.84267\teval-mlogloss:0.83029\n",
            "[20]\ttrain-mlogloss:0.83223\teval-mlogloss:0.81929\n",
            "[21]\ttrain-mlogloss:0.82273\teval-mlogloss:0.80927\n",
            "[22]\ttrain-mlogloss:0.81236\teval-mlogloss:0.79841\n",
            "[23]\ttrain-mlogloss:0.80210\teval-mlogloss:0.78775\n",
            "[24]\ttrain-mlogloss:0.79214\teval-mlogloss:0.77722\n",
            "[25]\ttrain-mlogloss:0.78264\teval-mlogloss:0.76728\n",
            "[26]\ttrain-mlogloss:0.77318\teval-mlogloss:0.75715\n",
            "[27]\ttrain-mlogloss:0.76372\teval-mlogloss:0.74727\n",
            "[28]\ttrain-mlogloss:0.75449\teval-mlogloss:0.73744\n",
            "[29]\ttrain-mlogloss:0.74558\teval-mlogloss:0.72802\n",
            "[30]\ttrain-mlogloss:0.73665\teval-mlogloss:0.71908\n",
            "[31]\ttrain-mlogloss:0.72774\teval-mlogloss:0.70967\n",
            "[32]\ttrain-mlogloss:0.71924\teval-mlogloss:0.70069\n"
          ]
        },
        {
          "name": "stderr",
          "output_type": "stream",
          "text": [
            "[I 2025-06-01 18:04:31,175] Trial 34 pruned. Trial was pruned at iteration 32.\n"
          ]
        },
        {
          "name": "stdout",
          "output_type": "stream",
          "text": [
            "[0]\ttrain-mlogloss:1.06037\teval-mlogloss:1.05935\n",
            "[1]\ttrain-mlogloss:1.02394\teval-mlogloss:1.02176\n",
            "[2]\ttrain-mlogloss:0.98849\teval-mlogloss:0.98476\n",
            "[3]\ttrain-mlogloss:0.95496\teval-mlogloss:0.94972\n",
            "[4]\ttrain-mlogloss:0.92367\teval-mlogloss:0.91704\n",
            "[5]\ttrain-mlogloss:0.89344\teval-mlogloss:0.88504\n",
            "[6]\ttrain-mlogloss:0.86528\teval-mlogloss:0.85543\n",
            "[7]\ttrain-mlogloss:0.83782\teval-mlogloss:0.82690\n",
            "[8]\ttrain-mlogloss:0.81230\teval-mlogloss:0.79942\n"
          ]
        },
        {
          "name": "stderr",
          "output_type": "stream",
          "text": [
            "[I 2025-06-01 18:04:31,245] Trial 35 pruned. Trial was pruned at iteration 8.\n"
          ]
        },
        {
          "name": "stdout",
          "output_type": "stream",
          "text": [
            "[0]\ttrain-mlogloss:0.87389\teval-mlogloss:0.87930\n",
            "[1]\ttrain-mlogloss:0.70794\teval-mlogloss:0.70146\n",
            "[2]\ttrain-mlogloss:0.58463\teval-mlogloss:0.56767\n"
          ]
        },
        {
          "name": "stderr",
          "output_type": "stream",
          "text": [
            "[I 2025-06-01 18:04:31,297] Trial 36 pruned. Trial was pruned at iteration 2.\n"
          ]
        },
        {
          "name": "stdout",
          "output_type": "stream",
          "text": [
            "[0]\ttrain-mlogloss:0.91144\teval-mlogloss:0.91412\n",
            "[1]\ttrain-mlogloss:0.76256\teval-mlogloss:0.75172\n"
          ]
        },
        {
          "name": "stderr",
          "output_type": "stream",
          "text": [
            "[I 2025-06-01 18:04:31,353] Trial 37 pruned. Trial was pruned at iteration 2.\n"
          ]
        },
        {
          "name": "stdout",
          "output_type": "stream",
          "text": [
            "[0]\ttrain-mlogloss:0.94110\teval-mlogloss:0.93752\n",
            "[1]\ttrain-mlogloss:0.86546\teval-mlogloss:0.86944\n"
          ]
        },
        {
          "name": "stderr",
          "output_type": "stream",
          "text": [
            "[I 2025-06-01 18:04:31,414] Trial 38 pruned. Trial was pruned at iteration 2.\n"
          ]
        },
        {
          "name": "stdout",
          "output_type": "stream",
          "text": [
            "[0]\ttrain-mlogloss:0.97062\teval-mlogloss:0.96557\n",
            "[1]\ttrain-mlogloss:0.86222\teval-mlogloss:0.85009\n"
          ]
        },
        {
          "name": "stderr",
          "output_type": "stream",
          "text": [
            "[I 2025-06-01 18:04:31,466] Trial 39 pruned. Trial was pruned at iteration 2.\n"
          ]
        },
        {
          "name": "stdout",
          "output_type": "stream",
          "text": [
            "[0]\ttrain-mlogloss:0.78450\teval-mlogloss:0.77441\n",
            "[1]\ttrain-mlogloss:0.58852\teval-mlogloss:0.56416\n",
            "[2]\ttrain-mlogloss:0.45375\teval-mlogloss:0.42170\n"
          ]
        },
        {
          "name": "stderr",
          "output_type": "stream",
          "text": [
            "[I 2025-06-01 18:04:31,554] Trial 40 pruned. Trial was pruned at iteration 2.\n"
          ]
        },
        {
          "name": "stdout",
          "output_type": "stream",
          "text": [
            "[0]\ttrain-mlogloss:1.08150\teval-mlogloss:1.08103\n",
            "[1]\ttrain-mlogloss:1.06490\teval-mlogloss:1.06417\n",
            "[2]\ttrain-mlogloss:1.04814\teval-mlogloss:1.04633\n",
            "[3]\ttrain-mlogloss:1.03159\teval-mlogloss:1.02891\n",
            "[4]\ttrain-mlogloss:1.01563\teval-mlogloss:1.01287\n",
            "[5]\ttrain-mlogloss:0.99975\teval-mlogloss:0.99608\n",
            "[6]\ttrain-mlogloss:0.98475\teval-mlogloss:0.98115\n",
            "[7]\ttrain-mlogloss:0.96973\teval-mlogloss:0.96528\n",
            "[8]\ttrain-mlogloss:0.95502\teval-mlogloss:0.94992\n"
          ]
        },
        {
          "name": "stderr",
          "output_type": "stream",
          "text": [
            "[I 2025-06-01 18:04:31,629] Trial 41 pruned. Trial was pruned at iteration 8.\n"
          ]
        },
        {
          "name": "stdout",
          "output_type": "stream",
          "text": [
            "[0]\ttrain-mlogloss:1.04555\teval-mlogloss:1.04379\n",
            "[1]\ttrain-mlogloss:0.99594\teval-mlogloss:0.99216\n",
            "[2]\ttrain-mlogloss:0.94725\teval-mlogloss:0.94193\n",
            "[3]\ttrain-mlogloss:0.90270\teval-mlogloss:0.89545\n",
            "[4]\ttrain-mlogloss:0.86191\teval-mlogloss:0.85425\n",
            "[5]\ttrain-mlogloss:0.82282\teval-mlogloss:0.81286\n",
            "[6]\ttrain-mlogloss:0.78778\teval-mlogloss:0.77673\n",
            "[7]\ttrain-mlogloss:0.75340\teval-mlogloss:0.74061\n"
          ]
        },
        {
          "name": "stderr",
          "output_type": "stream",
          "text": [
            "[I 2025-06-01 18:04:31,697] Trial 42 pruned. Trial was pruned at iteration 8.\n"
          ]
        },
        {
          "name": "stdout",
          "output_type": "stream",
          "text": [
            "[0]\ttrain-mlogloss:1.02350\teval-mlogloss:1.01974\n",
            "[1]\ttrain-mlogloss:0.95622\teval-mlogloss:0.94955\n",
            "[2]\ttrain-mlogloss:0.89295\teval-mlogloss:0.88356\n"
          ]
        },
        {
          "name": "stderr",
          "output_type": "stream",
          "text": [
            "[I 2025-06-01 18:04:31,783] Trial 43 pruned. Trial was pruned at iteration 2.\n"
          ]
        },
        {
          "name": "stdout",
          "output_type": "stream",
          "text": [
            "[0]\ttrain-mlogloss:1.08487\teval-mlogloss:1.08429\n",
            "[1]\ttrain-mlogloss:1.07137\teval-mlogloss:1.07043\n",
            "[2]\ttrain-mlogloss:1.05770\teval-mlogloss:1.05608\n",
            "[3]\ttrain-mlogloss:1.04430\teval-mlogloss:1.04188\n",
            "[4]\ttrain-mlogloss:1.03130\teval-mlogloss:1.02868\n",
            "[5]\ttrain-mlogloss:1.01846\teval-mlogloss:1.01511\n",
            "[6]\ttrain-mlogloss:1.00626\teval-mlogloss:1.00231\n",
            "[7]\ttrain-mlogloss:0.99382\teval-mlogloss:0.98939\n",
            "[8]\ttrain-mlogloss:0.98172\teval-mlogloss:0.97625\n",
            "[9]\ttrain-mlogloss:0.96918\teval-mlogloss:0.96349\n",
            "[10]\ttrain-mlogloss:0.95756\teval-mlogloss:0.95142\n",
            "[11]\ttrain-mlogloss:0.94585\teval-mlogloss:0.93895\n",
            "[12]\ttrain-mlogloss:0.93453\teval-mlogloss:0.92753\n",
            "[13]\ttrain-mlogloss:0.92306\teval-mlogloss:0.91563\n",
            "[14]\ttrain-mlogloss:0.91238\teval-mlogloss:0.90440\n",
            "[15]\ttrain-mlogloss:0.90151\teval-mlogloss:0.89309\n",
            "[16]\ttrain-mlogloss:0.89056\teval-mlogloss:0.88162\n",
            "[17]\ttrain-mlogloss:0.88013\teval-mlogloss:0.87112\n",
            "[18]\ttrain-mlogloss:0.86994\teval-mlogloss:0.86067\n",
            "[19]\ttrain-mlogloss:0.85983\teval-mlogloss:0.85006\n",
            "[20]\ttrain-mlogloss:0.85016\teval-mlogloss:0.84040\n",
            "[21]\ttrain-mlogloss:0.84051\teval-mlogloss:0.83068\n",
            "[22]\ttrain-mlogloss:0.83068\teval-mlogloss:0.82033\n",
            "[23]\ttrain-mlogloss:0.82111\teval-mlogloss:0.81018\n",
            "[24]\ttrain-mlogloss:0.81196\teval-mlogloss:0.80057\n",
            "[25]\ttrain-mlogloss:0.80279\teval-mlogloss:0.79084\n",
            "[26]\ttrain-mlogloss:0.79380\teval-mlogloss:0.78138\n",
            "[27]\ttrain-mlogloss:0.78473\teval-mlogloss:0.77207\n",
            "[28]\ttrain-mlogloss:0.77590\teval-mlogloss:0.76275\n",
            "[29]\ttrain-mlogloss:0.76753\teval-mlogloss:0.75392\n",
            "[30]\ttrain-mlogloss:0.75940\teval-mlogloss:0.74537\n",
            "[31]\ttrain-mlogloss:0.75103\teval-mlogloss:0.73636\n",
            "[32]\ttrain-mlogloss:0.74267\teval-mlogloss:0.72825\n",
            "[33]\ttrain-mlogloss:0.73423\teval-mlogloss:0.71943\n",
            "[34]\ttrain-mlogloss:0.72643\teval-mlogloss:0.71185\n",
            "[35]\ttrain-mlogloss:0.71893\teval-mlogloss:0.70374\n",
            "[36]\ttrain-mlogloss:0.71123\teval-mlogloss:0.69593\n",
            "[37]\ttrain-mlogloss:0.70326\teval-mlogloss:0.68745\n",
            "[38]\ttrain-mlogloss:0.69607\teval-mlogloss:0.68001\n",
            "[39]\ttrain-mlogloss:0.68841\teval-mlogloss:0.67204\n",
            "[40]\ttrain-mlogloss:0.68086\teval-mlogloss:0.66446\n",
            "[41]\ttrain-mlogloss:0.67373\teval-mlogloss:0.65669\n",
            "[42]\ttrain-mlogloss:0.66640\teval-mlogloss:0.64895\n",
            "[43]\ttrain-mlogloss:0.65933\teval-mlogloss:0.64150\n",
            "[44]\ttrain-mlogloss:0.65236\teval-mlogloss:0.63411\n",
            "[45]\ttrain-mlogloss:0.64504\teval-mlogloss:0.62653\n",
            "[46]\ttrain-mlogloss:0.63817\teval-mlogloss:0.61937\n",
            "[47]\ttrain-mlogloss:0.63177\teval-mlogloss:0.61261\n",
            "[48]\ttrain-mlogloss:0.62522\teval-mlogloss:0.60584\n",
            "[49]\ttrain-mlogloss:0.61865\teval-mlogloss:0.59900\n",
            "[50]\ttrain-mlogloss:0.61203\teval-mlogloss:0.59201\n",
            "[51]\ttrain-mlogloss:0.60570\teval-mlogloss:0.58548\n",
            "[52]\ttrain-mlogloss:0.59957\teval-mlogloss:0.57899\n",
            "[53]\ttrain-mlogloss:0.59344\teval-mlogloss:0.57308\n",
            "[54]\ttrain-mlogloss:0.58742\teval-mlogloss:0.56670\n",
            "[55]\ttrain-mlogloss:0.58152\teval-mlogloss:0.56080\n",
            "[56]\ttrain-mlogloss:0.57580\teval-mlogloss:0.55484\n",
            "[57]\ttrain-mlogloss:0.56996\teval-mlogloss:0.54922\n",
            "[58]\ttrain-mlogloss:0.56414\teval-mlogloss:0.54330\n",
            "[59]\ttrain-mlogloss:0.55854\teval-mlogloss:0.53734\n",
            "[60]\ttrain-mlogloss:0.55289\teval-mlogloss:0.53172\n",
            "[61]\ttrain-mlogloss:0.54754\teval-mlogloss:0.52603\n",
            "[62]\ttrain-mlogloss:0.54190\teval-mlogloss:0.52010\n",
            "[63]\ttrain-mlogloss:0.53657\teval-mlogloss:0.51474\n",
            "[64]\ttrain-mlogloss:0.53135\teval-mlogloss:0.50943\n",
            "[65]\ttrain-mlogloss:0.52605\teval-mlogloss:0.50383\n",
            "[66]\ttrain-mlogloss:0.52098\teval-mlogloss:0.49819\n",
            "[67]\ttrain-mlogloss:0.51580\teval-mlogloss:0.49278\n",
            "[68]\ttrain-mlogloss:0.51099\teval-mlogloss:0.48765\n",
            "[69]\ttrain-mlogloss:0.50604\teval-mlogloss:0.48325\n",
            "[70]\ttrain-mlogloss:0.50097\teval-mlogloss:0.47798\n",
            "[71]\ttrain-mlogloss:0.49599\teval-mlogloss:0.47264\n",
            "[72]\ttrain-mlogloss:0.49139\teval-mlogloss:0.46773\n",
            "[73]\ttrain-mlogloss:0.48678\teval-mlogloss:0.46287\n",
            "[74]\ttrain-mlogloss:0.48240\teval-mlogloss:0.45832\n",
            "[75]\ttrain-mlogloss:0.47792\teval-mlogloss:0.45347\n",
            "[76]\ttrain-mlogloss:0.47363\teval-mlogloss:0.44877\n",
            "[77]\ttrain-mlogloss:0.46907\teval-mlogloss:0.44393\n",
            "[78]\ttrain-mlogloss:0.46465\teval-mlogloss:0.43911\n",
            "[79]\ttrain-mlogloss:0.46034\teval-mlogloss:0.43440\n",
            "[80]\ttrain-mlogloss:0.45634\teval-mlogloss:0.42995\n",
            "[81]\ttrain-mlogloss:0.45209\teval-mlogloss:0.42547\n",
            "[82]\ttrain-mlogloss:0.44780\teval-mlogloss:0.42077\n",
            "[83]\ttrain-mlogloss:0.44355\teval-mlogloss:0.41624\n",
            "[84]\ttrain-mlogloss:0.43922\teval-mlogloss:0.41163\n",
            "[85]\ttrain-mlogloss:0.43537\teval-mlogloss:0.40760\n",
            "[86]\ttrain-mlogloss:0.43154\teval-mlogloss:0.40333\n",
            "[87]\ttrain-mlogloss:0.42760\teval-mlogloss:0.39913\n",
            "[88]\ttrain-mlogloss:0.42382\teval-mlogloss:0.39498\n",
            "[89]\ttrain-mlogloss:0.41997\teval-mlogloss:0.39097\n",
            "[90]\ttrain-mlogloss:0.41637\teval-mlogloss:0.38725\n",
            "[91]\ttrain-mlogloss:0.41246\teval-mlogloss:0.38337\n",
            "[92]\ttrain-mlogloss:0.40868\teval-mlogloss:0.37973\n",
            "[93]\ttrain-mlogloss:0.40504\teval-mlogloss:0.37572\n",
            "[94]\ttrain-mlogloss:0.40141\teval-mlogloss:0.37180\n",
            "[95]\ttrain-mlogloss:0.39805\teval-mlogloss:0.36807\n",
            "[96]\ttrain-mlogloss:0.39453\teval-mlogloss:0.36418\n",
            "[97]\ttrain-mlogloss:0.39109\teval-mlogloss:0.36040\n",
            "[98]\ttrain-mlogloss:0.38716\teval-mlogloss:0.35705\n",
            "[99]\ttrain-mlogloss:0.38372\teval-mlogloss:0.35376\n",
            "[100]\ttrain-mlogloss:0.38063\teval-mlogloss:0.35053\n",
            "[101]\ttrain-mlogloss:0.37745\teval-mlogloss:0.34720\n",
            "[102]\ttrain-mlogloss:0.37406\teval-mlogloss:0.34359\n",
            "[103]\ttrain-mlogloss:0.37084\teval-mlogloss:0.34016\n",
            "[104]\ttrain-mlogloss:0.36768\teval-mlogloss:0.33677\n",
            "[105]\ttrain-mlogloss:0.36439\teval-mlogloss:0.33323\n",
            "[106]\ttrain-mlogloss:0.36111\teval-mlogloss:0.33025\n",
            "[107]\ttrain-mlogloss:0.35814\teval-mlogloss:0.32694\n",
            "[108]\ttrain-mlogloss:0.35518\teval-mlogloss:0.32381\n",
            "[109]\ttrain-mlogloss:0.35224\teval-mlogloss:0.32056\n",
            "[110]\ttrain-mlogloss:0.34939\teval-mlogloss:0.31733\n",
            "[111]\ttrain-mlogloss:0.34639\teval-mlogloss:0.31411\n",
            "[112]\ttrain-mlogloss:0.34359\teval-mlogloss:0.31105\n",
            "[113]\ttrain-mlogloss:0.34079\teval-mlogloss:0.30788\n",
            "[114]\ttrain-mlogloss:0.33798\teval-mlogloss:0.30486\n",
            "[115]\ttrain-mlogloss:0.33520\teval-mlogloss:0.30170\n",
            "[116]\ttrain-mlogloss:0.33256\teval-mlogloss:0.29881\n",
            "[117]\ttrain-mlogloss:0.32968\teval-mlogloss:0.29568\n",
            "[118]\ttrain-mlogloss:0.32685\teval-mlogloss:0.29275\n",
            "[119]\ttrain-mlogloss:0.32426\teval-mlogloss:0.28995\n",
            "[120]\ttrain-mlogloss:0.32164\teval-mlogloss:0.28710\n",
            "[121]\ttrain-mlogloss:0.31899\teval-mlogloss:0.28418\n",
            "[122]\ttrain-mlogloss:0.31632\teval-mlogloss:0.28126\n",
            "[123]\ttrain-mlogloss:0.31385\teval-mlogloss:0.27855\n",
            "[124]\ttrain-mlogloss:0.31128\teval-mlogloss:0.27585\n",
            "[125]\ttrain-mlogloss:0.30890\teval-mlogloss:0.27323\n",
            "[126]\ttrain-mlogloss:0.30637\teval-mlogloss:0.27081\n",
            "[127]\ttrain-mlogloss:0.30389\teval-mlogloss:0.26806\n",
            "[128]\ttrain-mlogloss:0.30135\teval-mlogloss:0.26530\n",
            "[129]\ttrain-mlogloss:0.29900\teval-mlogloss:0.26273\n",
            "[130]\ttrain-mlogloss:0.29658\teval-mlogloss:0.26039\n",
            "[131]\ttrain-mlogloss:0.29408\teval-mlogloss:0.25779\n",
            "[132]\ttrain-mlogloss:0.29171\teval-mlogloss:0.25524\n",
            "[133]\ttrain-mlogloss:0.28913\teval-mlogloss:0.25264\n",
            "[134]\ttrain-mlogloss:0.28685\teval-mlogloss:0.25009\n",
            "[135]\ttrain-mlogloss:0.28456\teval-mlogloss:0.24760\n",
            "[136]\ttrain-mlogloss:0.28230\teval-mlogloss:0.24525\n",
            "[137]\ttrain-mlogloss:0.28013\teval-mlogloss:0.24281\n",
            "[138]\ttrain-mlogloss:0.27810\teval-mlogloss:0.24059\n",
            "[139]\ttrain-mlogloss:0.27594\teval-mlogloss:0.23857\n",
            "[140]\ttrain-mlogloss:0.27375\teval-mlogloss:0.23625\n",
            "[141]\ttrain-mlogloss:0.27180\teval-mlogloss:0.23408\n",
            "[142]\ttrain-mlogloss:0.26973\teval-mlogloss:0.23184\n",
            "[143]\ttrain-mlogloss:0.26781\teval-mlogloss:0.22975\n",
            "[144]\ttrain-mlogloss:0.26571\teval-mlogloss:0.22765\n",
            "[145]\ttrain-mlogloss:0.26377\teval-mlogloss:0.22540\n",
            "[146]\ttrain-mlogloss:0.26166\teval-mlogloss:0.22307\n",
            "[147]\ttrain-mlogloss:0.25958\teval-mlogloss:0.22080\n",
            "[148]\ttrain-mlogloss:0.25747\teval-mlogloss:0.21851\n",
            "[149]\ttrain-mlogloss:0.25556\teval-mlogloss:0.21655\n",
            "[150]\ttrain-mlogloss:0.25379\teval-mlogloss:0.21451\n",
            "[151]\ttrain-mlogloss:0.25190\teval-mlogloss:0.21248\n",
            "[152]\ttrain-mlogloss:0.25010\teval-mlogloss:0.21041\n",
            "[153]\ttrain-mlogloss:0.24829\teval-mlogloss:0.20837\n",
            "[154]\ttrain-mlogloss:0.24632\teval-mlogloss:0.20631\n",
            "[155]\ttrain-mlogloss:0.24458\teval-mlogloss:0.20449\n",
            "[156]\ttrain-mlogloss:0.24252\teval-mlogloss:0.20253\n",
            "[157]\ttrain-mlogloss:0.24074\teval-mlogloss:0.20053\n",
            "[158]\ttrain-mlogloss:0.23903\teval-mlogloss:0.19879\n",
            "[159]\ttrain-mlogloss:0.23724\teval-mlogloss:0.19690\n",
            "[160]\ttrain-mlogloss:0.23543\teval-mlogloss:0.19502\n",
            "[161]\ttrain-mlogloss:0.23354\teval-mlogloss:0.19354\n",
            "[162]\ttrain-mlogloss:0.23194\teval-mlogloss:0.19189\n",
            "[163]\ttrain-mlogloss:0.22991\teval-mlogloss:0.19040\n",
            "[164]\ttrain-mlogloss:0.22832\teval-mlogloss:0.18865\n",
            "[165]\ttrain-mlogloss:0.22657\teval-mlogloss:0.18682\n",
            "[166]\ttrain-mlogloss:0.22512\teval-mlogloss:0.18514\n",
            "[167]\ttrain-mlogloss:0.22354\teval-mlogloss:0.18348\n",
            "[168]\ttrain-mlogloss:0.22184\teval-mlogloss:0.18175\n",
            "[169]\ttrain-mlogloss:0.22033\teval-mlogloss:0.18014\n",
            "[170]\ttrain-mlogloss:0.21876\teval-mlogloss:0.17846\n",
            "[171]\ttrain-mlogloss:0.21693\teval-mlogloss:0.17680\n",
            "[172]\ttrain-mlogloss:0.21569\teval-mlogloss:0.17536\n",
            "[173]\ttrain-mlogloss:0.21388\teval-mlogloss:0.17393\n",
            "[174]\ttrain-mlogloss:0.21241\teval-mlogloss:0.17228\n",
            "[175]\ttrain-mlogloss:0.21081\teval-mlogloss:0.17093\n",
            "[176]\ttrain-mlogloss:0.20940\teval-mlogloss:0.16943\n",
            "[177]\ttrain-mlogloss:0.20794\teval-mlogloss:0.16781\n",
            "[178]\ttrain-mlogloss:0.20641\teval-mlogloss:0.16665\n",
            "[179]\ttrain-mlogloss:0.20506\teval-mlogloss:0.16517\n",
            "[180]\ttrain-mlogloss:0.20368\teval-mlogloss:0.16352\n",
            "[181]\ttrain-mlogloss:0.20233\teval-mlogloss:0.16199\n",
            "[182]\ttrain-mlogloss:0.20086\teval-mlogloss:0.16041\n",
            "[183]\ttrain-mlogloss:0.19958\teval-mlogloss:0.15901\n",
            "[184]\ttrain-mlogloss:0.19815\teval-mlogloss:0.15787\n",
            "[185]\ttrain-mlogloss:0.19653\teval-mlogloss:0.15650\n",
            "[186]\ttrain-mlogloss:0.19522\teval-mlogloss:0.15522\n",
            "[187]\ttrain-mlogloss:0.19403\teval-mlogloss:0.15391\n",
            "[188]\ttrain-mlogloss:0.19256\teval-mlogloss:0.15248\n",
            "[189]\ttrain-mlogloss:0.19125\teval-mlogloss:0.15117\n",
            "[190]\ttrain-mlogloss:0.18994\teval-mlogloss:0.14984\n",
            "[191]\ttrain-mlogloss:0.18882\teval-mlogloss:0.14860\n",
            "[192]\ttrain-mlogloss:0.18746\teval-mlogloss:0.14732\n",
            "[193]\ttrain-mlogloss:0.18604\teval-mlogloss:0.14598\n",
            "[194]\ttrain-mlogloss:0.18497\teval-mlogloss:0.14482\n",
            "[195]\ttrain-mlogloss:0.18368\teval-mlogloss:0.14367\n",
            "[196]\ttrain-mlogloss:0.18242\teval-mlogloss:0.14241\n",
            "[197]\ttrain-mlogloss:0.18112\teval-mlogloss:0.14109\n",
            "[198]\ttrain-mlogloss:0.17990\teval-mlogloss:0.13993\n",
            "[199]\ttrain-mlogloss:0.17853\teval-mlogloss:0.13884\n",
            "[200]\ttrain-mlogloss:0.17733\teval-mlogloss:0.13767\n",
            "[201]\ttrain-mlogloss:0.17610\teval-mlogloss:0.13623\n",
            "[202]\ttrain-mlogloss:0.17482\teval-mlogloss:0.13511\n",
            "[203]\ttrain-mlogloss:0.17360\teval-mlogloss:0.13412\n",
            "[204]\ttrain-mlogloss:0.17261\teval-mlogloss:0.13323\n",
            "[205]\ttrain-mlogloss:0.17162\teval-mlogloss:0.13213\n",
            "[206]\ttrain-mlogloss:0.17048\teval-mlogloss:0.13096\n",
            "[207]\ttrain-mlogloss:0.16950\teval-mlogloss:0.13006\n",
            "[208]\ttrain-mlogloss:0.16854\teval-mlogloss:0.12914\n",
            "[209]\ttrain-mlogloss:0.16732\teval-mlogloss:0.12816\n",
            "[210]\ttrain-mlogloss:0.16624\teval-mlogloss:0.12700\n",
            "[211]\ttrain-mlogloss:0.16517\teval-mlogloss:0.12595\n",
            "[212]\ttrain-mlogloss:0.16405\teval-mlogloss:0.12495\n",
            "[213]\ttrain-mlogloss:0.16305\teval-mlogloss:0.12387\n",
            "[214]\ttrain-mlogloss:0.16195\teval-mlogloss:0.12299\n",
            "[215]\ttrain-mlogloss:0.16057\teval-mlogloss:0.12220\n",
            "[216]\ttrain-mlogloss:0.15939\teval-mlogloss:0.12119\n",
            "[217]\ttrain-mlogloss:0.15841\teval-mlogloss:0.12007\n",
            "[218]\ttrain-mlogloss:0.15726\teval-mlogloss:0.11914\n",
            "[219]\ttrain-mlogloss:0.15633\teval-mlogloss:0.11816\n",
            "[220]\ttrain-mlogloss:0.15527\teval-mlogloss:0.11725\n",
            "[221]\ttrain-mlogloss:0.15444\teval-mlogloss:0.11648\n",
            "[222]\ttrain-mlogloss:0.15363\teval-mlogloss:0.11559\n",
            "[223]\ttrain-mlogloss:0.15278\teval-mlogloss:0.11462\n",
            "[224]\ttrain-mlogloss:0.15178\teval-mlogloss:0.11362\n",
            "[225]\ttrain-mlogloss:0.15057\teval-mlogloss:0.11268\n",
            "[226]\ttrain-mlogloss:0.14947\teval-mlogloss:0.11189\n",
            "[227]\ttrain-mlogloss:0.14855\teval-mlogloss:0.11096\n",
            "[228]\ttrain-mlogloss:0.14769\teval-mlogloss:0.11012\n",
            "[229]\ttrain-mlogloss:0.14692\teval-mlogloss:0.10917\n",
            "[230]\ttrain-mlogloss:0.14618\teval-mlogloss:0.10831\n",
            "[231]\ttrain-mlogloss:0.14523\teval-mlogloss:0.10753\n",
            "[232]\ttrain-mlogloss:0.14430\teval-mlogloss:0.10656\n",
            "[233]\ttrain-mlogloss:0.14332\teval-mlogloss:0.10564\n",
            "[234]\ttrain-mlogloss:0.14257\teval-mlogloss:0.10493\n",
            "[235]\ttrain-mlogloss:0.14183\teval-mlogloss:0.10409\n",
            "[236]\ttrain-mlogloss:0.14091\teval-mlogloss:0.10349\n",
            "[237]\ttrain-mlogloss:0.14004\teval-mlogloss:0.10266\n",
            "[238]\ttrain-mlogloss:0.13900\teval-mlogloss:0.10193\n",
            "[239]\ttrain-mlogloss:0.13831\teval-mlogloss:0.10114\n",
            "[240]\ttrain-mlogloss:0.13735\teval-mlogloss:0.10032\n",
            "[241]\ttrain-mlogloss:0.13670\teval-mlogloss:0.09968\n",
            "[242]\ttrain-mlogloss:0.13580\teval-mlogloss:0.09905\n",
            "[243]\ttrain-mlogloss:0.13488\teval-mlogloss:0.09816\n",
            "[244]\ttrain-mlogloss:0.13408\teval-mlogloss:0.09740\n",
            "[245]\ttrain-mlogloss:0.13345\teval-mlogloss:0.09658\n",
            "[246]\ttrain-mlogloss:0.13267\teval-mlogloss:0.09563\n",
            "[247]\ttrain-mlogloss:0.13199\teval-mlogloss:0.09503\n",
            "[248]\ttrain-mlogloss:0.13139\teval-mlogloss:0.09431\n",
            "[249]\ttrain-mlogloss:0.13078\teval-mlogloss:0.09361\n",
            "[250]\ttrain-mlogloss:0.13007\teval-mlogloss:0.09280\n",
            "[251]\ttrain-mlogloss:0.12940\teval-mlogloss:0.09212\n",
            "[252]\ttrain-mlogloss:0.12866\teval-mlogloss:0.09151\n",
            "[253]\ttrain-mlogloss:0.12787\teval-mlogloss:0.09082\n",
            "[254]\ttrain-mlogloss:0.12697\teval-mlogloss:0.09025\n",
            "[255]\ttrain-mlogloss:0.12639\teval-mlogloss:0.08970\n",
            "[256]\ttrain-mlogloss:0.12566\teval-mlogloss:0.08908\n",
            "[257]\ttrain-mlogloss:0.12505\teval-mlogloss:0.08855\n",
            "[258]\ttrain-mlogloss:0.12448\teval-mlogloss:0.08800\n",
            "[259]\ttrain-mlogloss:0.12385\teval-mlogloss:0.08724\n",
            "[260]\ttrain-mlogloss:0.12294\teval-mlogloss:0.08674\n",
            "[261]\ttrain-mlogloss:0.12237\teval-mlogloss:0.08617\n",
            "[262]\ttrain-mlogloss:0.12181\teval-mlogloss:0.08564\n",
            "[263]\ttrain-mlogloss:0.12115\teval-mlogloss:0.08498\n",
            "[264]\ttrain-mlogloss:0.12049\teval-mlogloss:0.08428\n",
            "[265]\ttrain-mlogloss:0.11978\teval-mlogloss:0.08361\n",
            "[266]\ttrain-mlogloss:0.11914\teval-mlogloss:0.08302\n",
            "[267]\ttrain-mlogloss:0.11859\teval-mlogloss:0.08256\n",
            "[268]\ttrain-mlogloss:0.11788\teval-mlogloss:0.08192\n",
            "[269]\ttrain-mlogloss:0.11728\teval-mlogloss:0.08145\n",
            "[270]\ttrain-mlogloss:0.11692\teval-mlogloss:0.08113\n",
            "[271]\ttrain-mlogloss:0.11616\teval-mlogloss:0.08054\n",
            "[272]\ttrain-mlogloss:0.11579\teval-mlogloss:0.08006\n",
            "[273]\ttrain-mlogloss:0.11529\teval-mlogloss:0.07949\n",
            "[274]\ttrain-mlogloss:0.11473\teval-mlogloss:0.07887\n",
            "[275]\ttrain-mlogloss:0.11422\teval-mlogloss:0.07841\n",
            "[276]\ttrain-mlogloss:0.11368\teval-mlogloss:0.07812\n",
            "[277]\ttrain-mlogloss:0.11322\teval-mlogloss:0.07758\n",
            "[278]\ttrain-mlogloss:0.11276\teval-mlogloss:0.07712\n",
            "[279]\ttrain-mlogloss:0.11223\teval-mlogloss:0.07656\n",
            "[280]\ttrain-mlogloss:0.11189\teval-mlogloss:0.07613\n",
            "[281]\ttrain-mlogloss:0.11137\teval-mlogloss:0.07561\n",
            "[282]\ttrain-mlogloss:0.11090\teval-mlogloss:0.07518\n",
            "[283]\ttrain-mlogloss:0.11056\teval-mlogloss:0.07488\n",
            "[284]\ttrain-mlogloss:0.11005\teval-mlogloss:0.07440\n",
            "[285]\ttrain-mlogloss:0.10941\teval-mlogloss:0.07388\n",
            "[286]\ttrain-mlogloss:0.10898\teval-mlogloss:0.07336\n",
            "[287]\ttrain-mlogloss:0.10838\teval-mlogloss:0.07287\n",
            "[288]\ttrain-mlogloss:0.10785\teval-mlogloss:0.07223\n",
            "[289]\ttrain-mlogloss:0.10756\teval-mlogloss:0.07194\n",
            "[290]\ttrain-mlogloss:0.10725\teval-mlogloss:0.07163\n",
            "[291]\ttrain-mlogloss:0.10697\teval-mlogloss:0.07128\n",
            "[292]\ttrain-mlogloss:0.10656\teval-mlogloss:0.07073\n",
            "[293]\ttrain-mlogloss:0.10615\teval-mlogloss:0.07053\n",
            "[294]\ttrain-mlogloss:0.10586\teval-mlogloss:0.07024\n",
            "[295]\ttrain-mlogloss:0.10539\teval-mlogloss:0.06977\n",
            "[296]\ttrain-mlogloss:0.10483\teval-mlogloss:0.06937\n",
            "[297]\ttrain-mlogloss:0.10438\teval-mlogloss:0.06885\n",
            "[298]\ttrain-mlogloss:0.10398\teval-mlogloss:0.06842\n",
            "[299]\ttrain-mlogloss:0.10352\teval-mlogloss:0.06795\n"
          ]
        },
        {
          "name": "stderr",
          "output_type": "stream",
          "text": [
            "[I 2025-06-01 18:04:32,658] Trial 44 finished with value: 1.0 and parameters: {'lambda': 0.030133697592825318, 'alpha': 0.0005252800694607465, 'eta': 0.010365422719710629, 'gamma': 0.6510367003250511, 'max_depth': 7, 'min_child_weight': 1, 'subsample': 0.8003170076232834, 'colsample_bytree': 0.9302364271566435}. Best is trial 1 with value: 1.0.\n"
          ]
        },
        {
          "name": "stdout",
          "output_type": "stream",
          "text": [
            "[0]\ttrain-mlogloss:1.06249\teval-mlogloss:1.06172\n",
            "[1]\ttrain-mlogloss:1.02870\teval-mlogloss:1.02534\n",
            "[2]\ttrain-mlogloss:0.99574\teval-mlogloss:0.98990\n",
            "[3]\ttrain-mlogloss:0.96391\teval-mlogloss:0.95663\n",
            "[4]\ttrain-mlogloss:0.93476\teval-mlogloss:0.92701\n",
            "[5]\ttrain-mlogloss:0.90586\teval-mlogloss:0.89576\n",
            "[6]\ttrain-mlogloss:0.87915\teval-mlogloss:0.86721\n",
            "[7]\ttrain-mlogloss:0.85319\teval-mlogloss:0.83965\n",
            "[8]\ttrain-mlogloss:0.82862\teval-mlogloss:0.81277\n"
          ]
        },
        {
          "name": "stderr",
          "output_type": "stream",
          "text": [
            "[I 2025-06-01 18:04:32,724] Trial 45 pruned. Trial was pruned at iteration 8.\n"
          ]
        },
        {
          "name": "stdout",
          "output_type": "stream",
          "text": [
            "[0]\ttrain-mlogloss:1.08437\teval-mlogloss:1.08456\n",
            "[1]\ttrain-mlogloss:1.07067\teval-mlogloss:1.07025\n",
            "[2]\ttrain-mlogloss:1.05671\teval-mlogloss:1.05567\n",
            "[3]\ttrain-mlogloss:1.04302\teval-mlogloss:1.04114\n",
            "[4]\ttrain-mlogloss:1.02987\teval-mlogloss:1.02715\n",
            "[5]\ttrain-mlogloss:1.01688\teval-mlogloss:1.01340\n",
            "[6]\ttrain-mlogloss:1.00435\teval-mlogloss:1.00066\n",
            "[7]\ttrain-mlogloss:0.99177\teval-mlogloss:0.98737\n",
            "[8]\ttrain-mlogloss:0.97975\teval-mlogloss:0.97427\n",
            "[9]\ttrain-mlogloss:0.96760\teval-mlogloss:0.96143\n",
            "[10]\ttrain-mlogloss:0.95576\teval-mlogloss:0.94889\n",
            "[11]\ttrain-mlogloss:0.94404\teval-mlogloss:0.93650\n",
            "[12]\ttrain-mlogloss:0.93265\teval-mlogloss:0.92498\n",
            "[13]\ttrain-mlogloss:0.92130\teval-mlogloss:0.91290\n",
            "[14]\ttrain-mlogloss:0.91036\teval-mlogloss:0.90151\n",
            "[15]\ttrain-mlogloss:0.89950\teval-mlogloss:0.88999\n",
            "[16]\ttrain-mlogloss:0.88881\teval-mlogloss:0.87851\n",
            "[17]\ttrain-mlogloss:0.87835\teval-mlogloss:0.86762\n",
            "[18]\ttrain-mlogloss:0.86798\teval-mlogloss:0.85657\n",
            "[19]\ttrain-mlogloss:0.85768\teval-mlogloss:0.84576\n",
            "[20]\ttrain-mlogloss:0.84780\teval-mlogloss:0.83525\n",
            "[21]\ttrain-mlogloss:0.83782\teval-mlogloss:0.82492\n",
            "[22]\ttrain-mlogloss:0.82809\teval-mlogloss:0.81465\n",
            "[23]\ttrain-mlogloss:0.81826\teval-mlogloss:0.80434\n",
            "[24]\ttrain-mlogloss:0.80883\teval-mlogloss:0.79455\n",
            "[25]\ttrain-mlogloss:0.79941\teval-mlogloss:0.78434\n",
            "[26]\ttrain-mlogloss:0.79036\teval-mlogloss:0.77478\n",
            "[27]\ttrain-mlogloss:0.78135\teval-mlogloss:0.76533\n",
            "[28]\ttrain-mlogloss:0.77252\teval-mlogloss:0.75591\n",
            "[29]\ttrain-mlogloss:0.76386\teval-mlogloss:0.74684\n",
            "[30]\ttrain-mlogloss:0.75529\teval-mlogloss:0.73794\n",
            "[31]\ttrain-mlogloss:0.74684\teval-mlogloss:0.72916\n"
          ]
        },
        {
          "name": "stderr",
          "output_type": "stream",
          "text": [
            "[I 2025-06-01 18:04:32,848] Trial 46 pruned. Trial was pruned at iteration 32.\n"
          ]
        },
        {
          "name": "stdout",
          "output_type": "stream",
          "text": [
            "[0]\ttrain-mlogloss:1.00181\teval-mlogloss:1.00208\n",
            "[1]\ttrain-mlogloss:0.91862\teval-mlogloss:0.91598\n",
            "[2]\ttrain-mlogloss:0.84143\teval-mlogloss:0.83522\n"
          ]
        },
        {
          "name": "stderr",
          "output_type": "stream",
          "text": [
            "[I 2025-06-01 18:04:32,910] Trial 47 pruned. Trial was pruned at iteration 2.\n"
          ]
        },
        {
          "name": "stdout",
          "output_type": "stream",
          "text": [
            "[0]\ttrain-mlogloss:1.03518\teval-mlogloss:1.03192\n",
            "[1]\ttrain-mlogloss:1.00191\teval-mlogloss:1.00137\n",
            "[2]\ttrain-mlogloss:0.95225\teval-mlogloss:0.94952\n",
            "[3]\ttrain-mlogloss:0.90038\teval-mlogloss:0.89669\n",
            "[4]\ttrain-mlogloss:0.85275\teval-mlogloss:0.84763\n",
            "[5]\ttrain-mlogloss:0.80890\teval-mlogloss:0.80092\n",
            "[6]\ttrain-mlogloss:0.76832\teval-mlogloss:0.75704\n",
            "[7]\ttrain-mlogloss:0.73052\teval-mlogloss:0.71758\n",
            "[8]\ttrain-mlogloss:0.69601\teval-mlogloss:0.68100\n"
          ]
        },
        {
          "name": "stderr",
          "output_type": "stream",
          "text": [
            "[I 2025-06-01 18:04:32,980] Trial 48 pruned. Trial was pruned at iteration 8.\n"
          ]
        },
        {
          "name": "stdout",
          "output_type": "stream",
          "text": [
            "[0]\ttrain-mlogloss:0.83114\teval-mlogloss:0.82711\n",
            "[1]\ttrain-mlogloss:0.65304\teval-mlogloss:0.63399\n"
          ]
        },
        {
          "name": "stderr",
          "output_type": "stream",
          "text": [
            "[I 2025-06-01 18:04:33,039] Trial 49 pruned. Trial was pruned at iteration 2.\n"
          ]
        },
        {
          "name": "stdout",
          "output_type": "stream",
          "text": [
            "Best trial: {'lambda': 0.06480498093442934, 'alpha': 4.2564310263769396e-05, 'eta': 0.18746849946922456, 'gamma': 5.847808192884618e-07, 'max_depth': 5, 'min_child_weight': 10, 'subsample': 0.7059113977044869, 'colsample_bytree': 0.8894911713090226}\n",
            "Best accuracy: 1.0\n"
          ]
        }
      ],
      "source": [
        "import optuna\n",
        "import xgboost as xgb\n",
        "from sklearn.model_selection import train_test_split\n",
        "from sklearn.datasets import load_iris\n",
        "from sklearn.metrics import accuracy_score\n",
        "import numpy as np\n",
        "\n",
        "# Load the Iris dataset\n",
        "X, y = load_iris(return_X_y=True)\n",
        "\n",
        "# Split the dataset into training and test sets\n",
        "X_train, X_test, y_train, y_test = train_test_split(X, y, test_size=0.2, random_state=42)\n",
        "\n",
        "# Define the objective function for XGBoost\n",
        "def objective(trial):\n",
        "    # Hyperparameter search space\n",
        "    param = {\n",
        "        'verbosity': 0,\n",
        "        'objective': 'multi:softprob',\n",
        "        'num_class': 3,\n",
        "        'eval_metric': 'mlogloss',  # Ensure that the eval_metric is specified here\n",
        "        'booster': 'gbtree',\n",
        "        'lambda': trial.suggest_float('lambda', 1e-8, 1.0, log=True),\n",
        "        'alpha': trial.suggest_float('alpha', 1e-8, 1.0, log=True),\n",
        "        'eta': trial.suggest_float('eta', 0.01, 0.3),\n",
        "        'gamma': trial.suggest_float('gamma', 1e-8, 1.0, log=True),\n",
        "        'max_depth': trial.suggest_int('max_depth', 3, 9),\n",
        "        'min_child_weight': trial.suggest_int('min_child_weight', 1, 10),\n",
        "        'subsample': trial.suggest_float('subsample', 0.4, 1.0),\n",
        "        'colsample_bytree': trial.suggest_float('colsample_bytree', 0.4, 1.0),\n",
        "        'n_estimators': 300,\n",
        "    }\n",
        "\n",
        "    # Create DMatrix for XGBoost\n",
        "    dtrain = xgb.DMatrix(X_train, label=y_train)\n",
        "    dtest = xgb.DMatrix(X_test, label=y_test)\n",
        "\n",
        "    # Define a pruning callback based on evaluation metrics\n",
        "    pruning_callback = optuna.integration.XGBoostPruningCallback(trial, \"eval-mlogloss\")  # Match the metric name in the evals list\n",
        "\n",
        "    # Train the model\n",
        "    bst = xgb.train(\n",
        "        param,\n",
        "        dtrain,\n",
        "        num_boost_round=300,\n",
        "        evals=[(dtrain, \"train\"), (dtest, \"eval\")],  # Ensure the eval datasets and names are specified\n",
        "        early_stopping_rounds=30,\n",
        "        callbacks=[pruning_callback]\n",
        "    )\n",
        "\n",
        "    # Predict on the test set\n",
        "    preds = bst.predict(dtest)\n",
        "    best_preds = [int(np.argmax(line)) for line in preds]\n",
        "\n",
        "    # Return accuracy as the objective value\n",
        "    accuracy = accuracy_score(y_test, best_preds)\n",
        "    return accuracy\n",
        "\n",
        "# Create a study with pruning\n",
        "study = optuna.create_study(direction='maximize', pruner=optuna.pruners.SuccessiveHalvingPruner())\n",
        "study.optimize(objective, n_trials=50)\n",
        "\n",
        "# Output the best trial\n",
        "print(f\"Best trial: {study.best_trial.params}\")\n",
        "print(f\"Best accuracy: {study.best_value}\")"
      ]
    },
    {
      "cell_type": "code",
      "execution_count": 29,
      "metadata": {
        "colab": {
          "base_uri": "https://localhost:8080/",
          "height": 542
        },
        "id": "TkIG5Cf6SoZ_",
        "outputId": "c9a5efa3-84a8-4d38-fe48-3a1fd6422f76"
      },
      "outputs": [
        {
          "data": {
            "application/vnd.plotly.v1+json": {
              "config": {
                "plotlyServerURL": "https://plot.ly"
              },
              "data": [
                {
                  "marker": {
                    "maxdisplayed": 10
                  },
                  "mode": "lines+markers",
                  "name": "Trial0",
                  "type": "scatter",
                  "x": [
                    0,
                    1,
                    2,
                    3,
                    4,
                    5,
                    6,
                    7,
                    8,
                    9,
                    10,
                    11,
                    12,
                    13,
                    14,
                    15,
                    16,
                    17,
                    18,
                    19,
                    20,
                    21,
                    22,
                    23,
                    24,
                    25,
                    26,
                    27,
                    28,
                    29,
                    30,
                    31,
                    32,
                    33,
                    34,
                    35,
                    36,
                    37,
                    38,
                    39,
                    40,
                    41,
                    42,
                    43,
                    44,
                    45,
                    46,
                    47,
                    48,
                    49,
                    50,
                    51,
                    52,
                    53,
                    54,
                    55,
                    56,
                    57,
                    58,
                    59,
                    60,
                    61,
                    62,
                    63,
                    64,
                    65,
                    66,
                    67,
                    68,
                    69,
                    70,
                    71,
                    72,
                    73,
                    74,
                    75,
                    76,
                    77,
                    78,
                    79,
                    80,
                    81,
                    82,
                    83,
                    84,
                    85,
                    86,
                    87,
                    88,
                    89,
                    90,
                    91,
                    92,
                    93,
                    94,
                    95,
                    96,
                    97,
                    98,
                    99,
                    100,
                    101,
                    102,
                    103,
                    104,
                    105,
                    106,
                    107,
                    108,
                    109,
                    110,
                    111,
                    112,
                    113,
                    114,
                    115,
                    116,
                    117,
                    118,
                    119,
                    120,
                    121,
                    122,
                    123,
                    124,
                    125,
                    126,
                    127,
                    128,
                    129,
                    130,
                    131,
                    132,
                    133,
                    134,
                    135,
                    136,
                    137,
                    138,
                    139,
                    140,
                    141,
                    142,
                    143,
                    144,
                    145,
                    146,
                    147,
                    148,
                    149,
                    150,
                    151,
                    152,
                    153,
                    154,
                    155,
                    156,
                    157,
                    158,
                    159,
                    160,
                    161,
                    162,
                    163,
                    164,
                    165,
                    166,
                    167,
                    168,
                    169,
                    170,
                    171,
                    172,
                    173,
                    174,
                    175,
                    176,
                    177,
                    178,
                    179,
                    180,
                    181,
                    182,
                    183,
                    184,
                    185,
                    186,
                    187,
                    188,
                    189,
                    190,
                    191,
                    192,
                    193,
                    194,
                    195,
                    196,
                    197,
                    198,
                    199,
                    200,
                    201,
                    202,
                    203,
                    204,
                    205,
                    206,
                    207,
                    208,
                    209,
                    210,
                    211,
                    212,
                    213,
                    214,
                    215,
                    216,
                    217,
                    218,
                    219,
                    220,
                    221,
                    222,
                    223,
                    224,
                    225,
                    226,
                    227,
                    228,
                    229,
                    230,
                    231,
                    232,
                    233,
                    234,
                    235,
                    236,
                    237,
                    238,
                    239,
                    240,
                    241,
                    242,
                    243,
                    244,
                    245,
                    246,
                    247,
                    248,
                    249,
                    250,
                    251,
                    252,
                    253,
                    254,
                    255,
                    256,
                    257,
                    258,
                    259,
                    260,
                    261,
                    262,
                    263,
                    264,
                    265,
                    266,
                    267,
                    268,
                    269,
                    270,
                    271,
                    272,
                    273,
                    274,
                    275,
                    276,
                    277,
                    278,
                    279,
                    280,
                    281,
                    282,
                    283,
                    284,
                    285,
                    286,
                    287,
                    288,
                    289,
                    290,
                    291,
                    292,
                    293,
                    294,
                    295,
                    296,
                    297,
                    298,
                    299
                  ],
                  "y": [
                    0.9557115872701009,
                    0.8962048729260762,
                    0.8750491003195445,
                    0.7391124904155731,
                    0.7008799513181051,
                    0.6367192169030508,
                    0.5737329254547755,
                    0.5239558885494868,
                    0.4977437595526377,
                    0.45602216720581057,
                    0.42247810065746305,
                    0.4127041260401408,
                    0.3867585077881813,
                    0.38580084443092344,
                    0.3738436495264371,
                    0.37121271193027494,
                    0.36900699834028877,
                    0.3646608943740527,
                    0.35788884113232294,
                    0.35728789716959,
                    0.3566501200199127,
                    0.358062078555425,
                    0.35729325662056605,
                    0.3335081552465757,
                    0.3273671766122182,
                    0.3107433974742889,
                    0.3099006290237109,
                    0.30990728239218396,
                    0.31021546324094135,
                    0.31036397417386374,
                    0.31094088206688564,
                    0.30923629651467005,
                    0.3096257284283638,
                    0.30919231673081715,
                    0.30849380493164064,
                    0.3086209371685982,
                    0.30887463440497714,
                    0.30896445314089455,
                    0.30906693438688915,
                    0.3085981696844101,
                    0.30746427128712334,
                    0.3074814975261688,
                    0.3070766235391299,
                    0.30671307146549226,
                    0.30679454157749814,
                    0.30661695152521135,
                    0.3033253346880277,
                    0.30349255750576654,
                    0.30325216402610145,
                    0.30167929232120516,
                    0.2887713859478633,
                    0.2881744896372159,
                    0.2878712962071101,
                    0.2875401611129443,
                    0.2872781604528427,
                    0.2857212374607722,
                    0.2855365420381228,
                    0.28618408689896263,
                    0.28624658435583117,
                    0.28631100604931514,
                    0.28703233500321707,
                    0.28672555337349576,
                    0.2864912291367849,
                    0.28601855436960855,
                    0.28639404426018394,
                    0.2873499820629756,
                    0.2868435566624006,
                    0.2865689511100451,
                    0.28643435835838316,
                    0.2857558290163676,
                    0.28532063215970993,
                    0.28565079321463904,
                    0.2856229066848755,
                    0.2848583216468493,
                    0.2861836458245913,
                    0.28607903023560843,
                    0.2845627730091413,
                    0.28409978896379473,
                    0.2844074010848999,
                    0.28434408803780875,
                    0.2846023296316465,
                    0.2852322280406952,
                    0.2851000507672628,
                    0.28458236704270046,
                    0.2843531350294749,
                    0.28365951726833977,
                    0.28177632540464403,
                    0.2805984114607175,
                    0.28025147716204324,
                    0.27977411498626076,
                    0.279982132713,
                    0.2797680377960205,
                    0.2797456905245781,
                    0.2790387749671936,
                    0.2794318154454231,
                    0.27956388890743256,
                    0.2791505883137385,
                    0.2784925729036331,
                    0.2791429271300634,
                    0.2784077947338422,
                    0.27824129710594814,
                    0.27794109235207237,
                    0.27784233589967094,
                    0.2779789477586746,
                    0.2762617766857147,
                    0.2756431137522062,
                    0.2763331120212873,
                    0.27685542205969493,
                    0.2760423481464386,
                    0.2759007165829341,
                    0.2757342850168546,
                    0.27550715307394663,
                    0.2668009951710701,
                    0.2666679392258326,
                    0.2667645459373792,
                    0.26650188863277435,
                    0.2669642155369123,
                    0.26586256474256514,
                    0.26597526917854947,
                    0.2656708970665932,
                    0.26590009133021036,
                    0.2663682013750076,
                    0.2667840818564097,
                    0.2667128786444664,
                    0.2664098600546519,
                    0.2665747836232185,
                    0.2652893165747325,
                    0.2646831681330999,
                    0.26401981463034946,
                    0.26368790020545324,
                    0.2639055222272873,
                    0.26384419451157254,
                    0.26330251147349676,
                    0.26322975208361943,
                    0.2634227052330971,
                    0.26294003476699196,
                    0.2631266633669535,
                    0.26104246228933337,
                    0.26090839902559915,
                    0.2601559634009997,
                    0.25958160708347955,
                    0.2594368904829025,
                    0.25984743734200794,
                    0.25999161253372827,
                    0.2581908812125524,
                    0.2583549489577611,
                    0.25783455123504,
                    0.2579427644610405,
                    0.2586916526158651,
                    0.2586606716116269,
                    0.258150444428126,
                    0.25802875061829883,
                    0.25812737544377645,
                    0.25772538483142854,
                    0.2564181889096896,
                    0.25667330871025723,
                    0.25661484052737554,
                    0.256458288927873,
                    0.2563764969507853,
                    0.25676704694827396,
                    0.2566259721914927,
                    0.2567030464609464,
                    0.25707144985596336,
                    0.2573858812451363,
                    0.25731350282828014,
                    0.25718362579743065,
                    0.25686953018109004,
                    0.25691193143526714,
                    0.2570971409479777,
                    0.2575775762399038,
                    0.2579549228151639,
                    0.2587413335839907,
                    0.25813892583052317,
                    0.25800833304723103,
                    0.2592119226853053,
                    0.2587018380562464,
                    0.25799560546875,
                    0.2553616980711619,
                    0.25583582470814387,
                    0.2556848108768463,
                    0.25560329407453536,
                    0.2554620603720347,
                    0.2550789887706439,
                    0.2556970993677775,
                    0.25588781436284386,
                    0.2558778405189514,
                    0.2554277022679647,
                    0.2551104192932447,
                    0.25550102988878887,
                    0.2563496639331182,
                    0.2572968746225039,
                    0.2568440198898315,
                    0.25728908081849416,
                    0.25704405903816224,
                    0.2576114778717359,
                    0.25668019354343413,
                    0.25634362051884335,
                    0.2562004009882609,
                    0.25581438541412355,
                    0.2559310664733251,
                    0.2558276434739431,
                    0.2551331534981728,
                    0.2550857201218605,
                    0.25530957877635957,
                    0.25533611625432967,
                    0.25512985785802206,
                    0.2555797795454661,
                    0.2554085706671079,
                    0.255707722902298,
                    0.2538832331697146,
                    0.2538708637158076,
                    0.2538565973440806,
                    0.2536283920208613,
                    0.25389401813348134,
                    0.25337690661350887,
                    0.25352591574192046,
                    0.25336394359668096,
                    0.25299029499292375,
                    0.2534072945515315,
                    0.25315506507953006,
                    0.25346648891766865,
                    0.2539450615644455,
                    0.2538104961315791,
                    0.2542777553200722,
                    0.25371800710757575,
                    0.25389801065127054,
                    0.25336380501588185,
                    0.2535767967502276,
                    0.2537888372937838,
                    0.2544193108876546,
                    0.25407197574774426,
                    0.25413990716139473,
                    0.25409557720025383,
                    0.25354773849248885,
                    0.2543970882892609,
                    0.2545852243900299,
                    0.2547915081183116,
                    0.25510952025651934,
                    0.2547994350393613,
                    0.2542830973863602,
                    0.2546636695663134,
                    0.2537302350004514,
                    0.25443037748336794,
                    0.2535825252532959,
                    0.25328263342380525,
                    0.25300537248452504,
                    0.25202547361453376,
                    0.25185927997032803,
                    0.2520746201276779,
                    0.252019232014815,
                    0.25131937563419343,
                    0.2514462778965632,
                    0.25101819535096487,
                    0.25115628441174825,
                    0.2524165218075117,
                    0.25260895242293674,
                    0.2524823293089867,
                    0.25238187462091444,
                    0.2520757481455803,
                    0.25198538104693097,
                    0.2505881001551946,
                    0.25067121783892315,
                    0.2507608359058698,
                    0.2506833091378212,
                    0.25044467399517695,
                    0.25041383802890776,
                    0.25086942265431084,
                    0.2510820294419924,
                    0.25106292565663657,
                    0.2510099858045578,
                    0.2505902752280235,
                    0.25079067250092824,
                    0.25104939192533493,
                    0.2511422966917356,
                    0.25126864612102506,
                    0.25084354877471926,
                    0.2500772203008334,
                    0.25030462741851806,
                    0.24986777156591417,
                    0.24961782544851302,
                    0.24903829445441564,
                    0.24913287460803984,
                    0.24890624086062113,
                    0.2491128623485565,
                    0.24939649055401483,
                    0.24944022794564566,
                    0.2495967427889506,
                    0.2489883417884509,
                    0.24929814438025158,
                    0.2501252363125483,
                    0.2500767484307289,
                    0.2502473101019859,
                    0.25032332390546796,
                    0.25051583151022594,
                    0.25042185535033545,
                    0.2498772660891215,
                    0.2508545423547427,
                    0.25125563790400823,
                    0.25078603873650235,
                    0.250110791126887
                  ]
                },
                {
                  "marker": {
                    "maxdisplayed": 10
                  },
                  "mode": "lines+markers",
                  "name": "Trial1",
                  "type": "scatter",
                  "x": [
                    0,
                    1,
                    2,
                    3,
                    4,
                    5,
                    6,
                    7,
                    8,
                    9,
                    10,
                    11,
                    12,
                    13,
                    14,
                    15,
                    16,
                    17,
                    18,
                    19,
                    20,
                    21,
                    22,
                    23,
                    24,
                    25,
                    26,
                    27,
                    28,
                    29,
                    30,
                    31,
                    32,
                    33,
                    34,
                    35,
                    36,
                    37,
                    38,
                    39,
                    40,
                    41,
                    42,
                    43,
                    44,
                    45,
                    46,
                    47,
                    48,
                    49,
                    50,
                    51,
                    52,
                    53,
                    54,
                    55,
                    56,
                    57,
                    58,
                    59,
                    60,
                    61,
                    62,
                    63,
                    64,
                    65,
                    66,
                    67,
                    68,
                    69,
                    70,
                    71,
                    72,
                    73,
                    74,
                    75,
                    76,
                    77,
                    78,
                    79,
                    80,
                    81,
                    82,
                    83,
                    84,
                    85,
                    86,
                    87,
                    88,
                    89,
                    90,
                    91,
                    92,
                    93,
                    94,
                    95,
                    96,
                    97,
                    98,
                    99,
                    100,
                    101,
                    102,
                    103,
                    104,
                    105,
                    106,
                    107,
                    108,
                    109,
                    110,
                    111,
                    112,
                    113,
                    114,
                    115,
                    116,
                    117,
                    118,
                    119,
                    120,
                    121,
                    122,
                    123,
                    124,
                    125,
                    126,
                    127,
                    128,
                    129,
                    130,
                    131,
                    132,
                    133,
                    134,
                    135,
                    136,
                    137,
                    138,
                    139,
                    140,
                    141,
                    142,
                    143,
                    144,
                    145,
                    146,
                    147,
                    148,
                    149,
                    150,
                    151,
                    152,
                    153,
                    154,
                    155,
                    156,
                    157,
                    158,
                    159,
                    160,
                    161,
                    162,
                    163,
                    164,
                    165,
                    166,
                    167,
                    168,
                    169,
                    170,
                    171,
                    172,
                    173,
                    174,
                    175,
                    176,
                    177,
                    178,
                    179,
                    180,
                    181,
                    182,
                    183,
                    184,
                    185,
                    186,
                    187,
                    188,
                    189,
                    190,
                    191,
                    192,
                    193,
                    194,
                    195,
                    196,
                    197,
                    198,
                    199,
                    200,
                    201,
                    202,
                    203,
                    204,
                    205,
                    206,
                    207,
                    208,
                    209,
                    210,
                    211,
                    212,
                    213,
                    214,
                    215,
                    216,
                    217,
                    218,
                    219,
                    220,
                    221,
                    222,
                    223,
                    224,
                    225,
                    226,
                    227,
                    228,
                    229,
                    230,
                    231,
                    232,
                    233,
                    234,
                    235,
                    236,
                    237,
                    238,
                    239,
                    240,
                    241,
                    242,
                    243,
                    244,
                    245,
                    246,
                    247,
                    248,
                    249,
                    250,
                    251,
                    252,
                    253,
                    254,
                    255,
                    256,
                    257,
                    258,
                    259,
                    260,
                    261,
                    262,
                    263,
                    264,
                    265,
                    266,
                    267,
                    268,
                    269,
                    270,
                    271,
                    272,
                    273,
                    274,
                    275,
                    276,
                    277,
                    278,
                    279,
                    280,
                    281,
                    282,
                    283,
                    284,
                    285,
                    286,
                    287,
                    288,
                    289,
                    290,
                    291,
                    292,
                    293,
                    294,
                    295,
                    296,
                    297,
                    298,
                    299
                  ],
                  "y": [
                    0.8686166683832804,
                    0.6912761767705281,
                    0.5689721226692199,
                    0.4663097858428955,
                    0.4080504576365153,
                    0.35376895070075987,
                    0.3125288079182307,
                    0.30061529179414115,
                    0.2660120199124018,
                    0.24810630132754644,
                    0.23675484905640284,
                    0.2342644433180491,
                    0.22121824969847997,
                    0.22088485260804494,
                    0.22068939010302227,
                    0.22028695146242777,
                    0.2198992858330409,
                    0.21995406101147333,
                    0.21970730473597844,
                    0.21953832159439723,
                    0.21956684986750286,
                    0.22015149146318436,
                    0.21699038992325465,
                    0.21638673196236294,
                    0.21565114706754684,
                    0.20343871911366782,
                    0.20265267541011175,
                    0.20267393738031386,
                    0.2024819180369377,
                    0.20224645535151164,
                    0.2020461062590281,
                    0.20204923500617344,
                    0.2007352367043495,
                    0.2011313781142235,
                    0.20078780353069306,
                    0.20076363682746887,
                    0.20056745608647664,
                    0.19763481269280117,
                    0.19749597758054732,
                    0.19682376484076183,
                    0.1969487413764,
                    0.19696098814407983,
                    0.19726654440164565,
                    0.19731763303279876,
                    0.19744850248098372,
                    0.1968954895933469,
                    0.19680299113194147,
                    0.19654555718104044,
                    0.1965486427148183,
                    0.19504844794670742,
                    0.1949391668041547,
                    0.19529720395803452,
                    0.1954159677028656,
                    0.19530494461456935,
                    0.19510828355948132,
                    0.19503940592209498,
                    0.1944253404935201,
                    0.19432543069124222,
                    0.1943332776427269,
                    0.19425820807615915,
                    0.19438303112983704,
                    0.19461560746033987,
                    0.19450790335734686,
                    0.19443251093228658,
                    0.19425316651662192,
                    0.19452844212452572,
                    0.1943671981493632,
                    0.19420041193564733,
                    0.19414616227149964,
                    0.19387177377939224,
                    0.19406416018803915,
                    0.19460223615169525,
                    0.19439035306374233,
                    0.19287717938423157,
                    0.1932888761162758,
                    0.19340426822503407,
                    0.1928556154171626,
                    0.19315102597077688,
                    0.19374483774105708,
                    0.19365376631418865,
                    0.1930891032020251,
                    0.19336904535690944,
                    0.19336133350928625,
                    0.19322451601425808,
                    0.19320930441220602,
                    0.1929157480597496,
                    0.19286895294984183,
                    0.1928735022743543,
                    0.19280864199002584,
                    0.1923516313234965,
                    0.19263658473889034,
                    0.19266065657138826,
                    0.19243318488200506,
                    0.1924660846590996,
                    0.19265429427226385,
                    0.1927000214656194,
                    0.19265262881914774,
                    0.1919530972838402,
                    0.19218018700679143,
                    0.19127019147078198,
                    0.19111034472783406,
                    0.19095223248004914,
                    0.19083795050779978,
                    0.1909285679459572,
                    0.1912232701977094,
                    0.19067591925462088,
                    0.1903588096300761,
                    0.19093236625194548,
                    0.19066294332345327,
                    0.19053843021392822,
                    0.1908465087413788,
                    0.1912377069393794,
                    0.19110734313726424,
                    0.19097021172444026,
                    0.19099026719729106,
                    0.19100778450568517,
                    0.19114605983098348,
                    0.19120660076538723,
                    0.19126381079355875,
                    0.19111369649569193,
                    0.1912138064702352,
                    0.1914141446352005,
                    0.19158660471439362,
                    0.19170469542344412,
                    0.19165487736463546,
                    0.19198080897331238,
                    0.19063168714443843,
                    0.19059744576613108,
                    0.19046783149242402,
                    0.19039692729711533,
                    0.19032464424769083,
                    0.19051829079786936,
                    0.18984357764323553,
                    0.18975903888543447,
                    0.18973988592624663,
                    0.18993152181307474,
                    0.19011422197024028,
                    0.18963811695575714,
                    0.18923239956299465,
                    0.18917434066534042,
                    0.18907053967316945,
                    0.18934744397799175,
                    0.1896751249829928,
                    0.18964824179808298,
                    0.1897673656543096,
                    0.18996470669905344,
                    0.18990473846594494,
                    0.18970207770665487,
                    0.18977837165196737,
                    0.18971343586842218,
                    0.18946321159601212,
                    0.18919806877772014,
                    0.18936220755179722,
                    0.1896262635787328,
                    0.189496810734272,
                    0.1895485371351242,
                    0.1897364060084025,
                    0.18960727155208587,
                    0.18925836036602656,
                    0.1891120304663976,
                    0.18901475270589194,
                    0.18802062769730885,
                    0.1879390890399615,
                    0.18811599512894947,
                    0.18792150517304737,
                    0.18786695500214895,
                    0.18780997196833293,
                    0.18788648694753646,
                    0.18790378669897714,
                    0.18779218941926956,
                    0.18774628241856892,
                    0.18790990263223648,
                    0.1877607896924019,
                    0.18769269386927287,
                    0.18796035945415496,
                    0.18797569771607717,
                    0.18756133218606313,
                    0.18735037992397943,
                    0.18729120641946792,
                    0.18721704830725988,
                    0.1873859892288844,
                    0.18746351599693298,
                    0.1870346079270045,
                    0.1872466241319974,
                    0.18707532236973445,
                    0.18722197512785593,
                    0.1872770940264066,
                    0.18743417312701544,
                    0.1875166321794192,
                    0.187805837392807,
                    0.18809542208909988,
                    0.18791374017794926,
                    0.1879621411363284,
                    0.18773313611745834,
                    0.18779730945825576,
                    0.18760632276535033,
                    0.18774226804574332,
                    0.18749716132879257,
                    0.18727760861317316,
                    0.18743344098329545,
                    0.18748717258373895,
                    0.18728793114423753,
                    0.18730380932490032,
                    0.18738623559474946,
                    0.18737762669722238,
                    0.18551137894392014,
                    0.1856117491920789,
                    0.18546804090340932,
                    0.18577273488044738,
                    0.1858126091460387,
                    0.18444417466719945,
                    0.1844170207778613,
                    0.1844167244931062,
                    0.184393060952425,
                    0.1843805340429147,
                    0.1845320038497448,
                    0.1843935507039229,
                    0.18451309204101562,
                    0.18457850242654483,
                    0.184370656311512,
                    0.18437109465400378,
                    0.18456937248508135,
                    0.1846313938498497,
                    0.1846356098850568,
                    0.1843893562753995,
                    0.18428574974338213,
                    0.18425606911381084,
                    0.18441371570030848,
                    0.1845138820509116,
                    0.1849663533270359,
                    0.1849972501397133,
                    0.18499135002493858,
                    0.18488698999087017,
                    0.18481259296337763,
                    0.184923863162597,
                    0.18473243017991384,
                    0.185069623341163,
                    0.18496678347388903,
                    0.18500728532671928,
                    0.1849741612871488,
                    0.18504932448267936,
                    0.18480085010329883,
                    0.18497589826583863,
                    0.1847423014541467,
                    0.18465161621570586,
                    0.1844443403184414,
                    0.18404477660854657,
                    0.18434488649169603,
                    0.18435473442077638,
                    0.18424908543626467,
                    0.18402362863222757,
                    0.18406303375959396,
                    0.18397142936786015,
                    0.18400536701083184,
                    0.18411643256743748,
                    0.18405413528283437,
                    0.18406443322698277,
                    0.18401650389035543,
                    0.18400731086730956,
                    0.18418479735652607,
                    0.18416972731550535,
                    0.18427055925130845,
                    0.18449271122614544,
                    0.18434570009509724,
                    0.1843069555858771,
                    0.18430701072017353,
                    0.18450427651405335,
                    0.18448564559221267,
                    0.1844436950981617,
                    0.1843685932457447,
                    0.18433191478252411,
                    0.1843320295214653,
                    0.18442266235748928,
                    0.1841380092004935,
                    0.1839827371140321,
                    0.18417593811949093,
                    0.18420721019307773,
                    0.18401133343577386,
                    0.1840735671420892,
                    0.18403059467673302,
                    0.18371019413073858,
                    0.18389102816581726,
                    0.18368345697720845,
                    0.18366753160953522,
                    0.18374474222461382,
                    0.18365244095524152,
                    0.18390597651402155,
                    0.18377686912814775,
                    0.1837728145221869,
                    0.1840456301967303,
                    0.18396569639444352,
                    0.18405191575487453,
                    0.1841396691898505,
                    0.18429828882217408,
                    0.1841769553720951,
                    0.1837816168864568,
                    0.18420889700452486,
                    0.18447632218400636,
                    0.18464872737725577,
                    0.18432113180557888
                  ]
                },
                {
                  "marker": {
                    "maxdisplayed": 10
                  },
                  "mode": "lines+markers",
                  "name": "Trial2",
                  "type": "scatter",
                  "x": [
                    0,
                    1,
                    2,
                    3,
                    4,
                    5,
                    6,
                    7,
                    8
                  ],
                  "y": [
                    0.8708833972613017,
                    0.7773623208204905,
                    0.6436448097229004,
                    0.5234408110380173,
                    0.4414476344982783,
                    0.36882090469201406,
                    0.3123102029164632,
                    0.2798145115375519,
                    0.24546351432800292
                  ]
                },
                {
                  "marker": {
                    "maxdisplayed": 10
                  },
                  "mode": "lines+markers",
                  "name": "Trial3",
                  "type": "scatter",
                  "x": [
                    0,
                    1,
                    2,
                    3,
                    4,
                    5,
                    6,
                    7,
                    8,
                    9,
                    10,
                    11,
                    12,
                    13,
                    14,
                    15,
                    16,
                    17,
                    18,
                    19,
                    20,
                    21,
                    22,
                    23,
                    24,
                    25,
                    26,
                    27,
                    28,
                    29,
                    30,
                    31,
                    32,
                    33,
                    34,
                    35,
                    36,
                    37,
                    38,
                    39,
                    40,
                    41,
                    42,
                    43,
                    44,
                    45,
                    46,
                    47,
                    48,
                    49,
                    50,
                    51,
                    52,
                    53,
                    54,
                    55,
                    56,
                    57,
                    58,
                    59,
                    60,
                    61,
                    62,
                    63,
                    64,
                    65,
                    66,
                    67,
                    68,
                    69,
                    70,
                    71,
                    72,
                    73,
                    74,
                    75,
                    76,
                    77,
                    78,
                    79,
                    80,
                    81,
                    82,
                    83,
                    84,
                    85,
                    86,
                    87,
                    88,
                    89,
                    90,
                    91,
                    92,
                    93,
                    94,
                    95,
                    96,
                    97,
                    98,
                    99,
                    100,
                    101,
                    102,
                    103,
                    104,
                    105,
                    106,
                    107,
                    108,
                    109,
                    110,
                    111,
                    112,
                    113,
                    114,
                    115,
                    116,
                    117,
                    118,
                    119,
                    120,
                    121,
                    122,
                    123,
                    124,
                    125,
                    126,
                    127,
                    128,
                    129,
                    130,
                    131,
                    132,
                    133,
                    134,
                    135,
                    136,
                    137,
                    138,
                    139,
                    140,
                    141,
                    142,
                    143,
                    144,
                    145,
                    146,
                    147,
                    148,
                    149,
                    150,
                    151,
                    152,
                    153,
                    154,
                    155,
                    156,
                    157,
                    158,
                    159,
                    160,
                    161,
                    162,
                    163,
                    164,
                    165,
                    166,
                    167,
                    168,
                    169,
                    170,
                    171,
                    172,
                    173,
                    174,
                    175,
                    176,
                    177,
                    178,
                    179,
                    180,
                    181,
                    182,
                    183,
                    184,
                    185,
                    186,
                    187,
                    188,
                    189,
                    190,
                    191,
                    192,
                    193,
                    194,
                    195,
                    196,
                    197,
                    198,
                    199,
                    200,
                    201,
                    202,
                    203,
                    204,
                    205,
                    206,
                    207,
                    208,
                    209,
                    210,
                    211,
                    212,
                    213,
                    214,
                    215,
                    216,
                    217,
                    218,
                    219,
                    220,
                    221,
                    222,
                    223,
                    224,
                    225,
                    226,
                    227,
                    228,
                    229,
                    230,
                    231,
                    232,
                    233,
                    234,
                    235,
                    236,
                    237,
                    238,
                    239,
                    240,
                    241,
                    242,
                    243,
                    244,
                    245,
                    246,
                    247,
                    248,
                    249,
                    250,
                    251,
                    252,
                    253,
                    254,
                    255,
                    256,
                    257,
                    258,
                    259,
                    260,
                    261,
                    262,
                    263,
                    264,
                    265,
                    266,
                    267,
                    268,
                    269,
                    270,
                    271,
                    272,
                    273,
                    274,
                    275,
                    276,
                    277,
                    278,
                    279,
                    280,
                    281,
                    282,
                    283,
                    284,
                    285,
                    286,
                    287,
                    288,
                    289,
                    290,
                    291,
                    292,
                    293,
                    294,
                    295,
                    296,
                    297,
                    298,
                    299
                  ],
                  "y": [
                    1.0837619145711264,
                    1.0684091448783875,
                    1.0519136349360148,
                    1.0363617102305094,
                    1.022260304292043,
                    1.0071902632713319,
                    0.9927279969056447,
                    0.9798356672128041,
                    0.9658420304457347,
                    0.951546307404836,
                    0.938793937365214,
                    0.9255798657735189,
                    0.9129548847675324,
                    0.900167457262675,
                    0.8876582264900208,
                    0.8752502560615539,
                    0.8629260718822479,
                    0.851226278146108,
                    0.8398719429969788,
                    0.8280499955018361,
                    0.8183295011520386,
                    0.8078433593114217,
                    0.7977213998635609,
                    0.788284691174825,
                    0.7775459547837575,
                    0.7672763665517172,
                    0.7569746355215708,
                    0.7474932769934336,
                    0.7375085850556692,
                    0.7278766334056854,
                    0.7189974049727123,
                    0.7097060124079386,
                    0.7007486701011658,
                    0.6922074397404988,
                    0.6838423093159993,
                    0.6748036444187164,
                    0.6661901811758677,
                    0.6580046514670054,
                    0.6500691076119741,
                    0.6416578511397044,
                    0.6342401782671611,
                    0.626178381840388,
                    0.6181198239326477,
                    0.6107417662938436,
                    0.6030271410942077,
                    0.5953275183836619,
                    0.5876408855120341,
                    0.5806693414847056,
                    0.574129714568456,
                    0.5666339536507924,
                    0.559890878200531,
                    0.5530466417471568,
                    0.5458974877993266,
                    0.5392792383829753,
                    0.5327272355556488,
                    0.5265471448500951,
                    0.5203261524438858,
                    0.5146233528852463,
                    0.5085601568222046,
                    0.5020653367042541,
                    0.4961501558621724,
                    0.4904023289680481,
                    0.4842165023088455,
                    0.47886352439721425,
                    0.47323126196861265,
                    0.467554106314977,
                    0.4619981308778127,
                    0.4566904226938883,
                    0.451444141070048,
                    0.4462074269851049,
                    0.4409525235493978,
                    0.43571982979774476,
                    0.4309772481520971,
                    0.4259267826875051,
                    0.4211007744073868,
                    0.41631817718346914,
                    0.41128322184085847,
                    0.4066048512856166,
                    0.40165067116419473,
                    0.39684886634349825,
                    0.3921533385912577,
                    0.38763611714045204,
                    0.3829146265983582,
                    0.37847983539104463,
                    0.3739257832368215,
                    0.36983077426751454,
                    0.36600411335627236,
                    0.3617023934920629,
                    0.3574894537528356,
                    0.35321627954641976,
                    0.3494811246792475,
                    0.3455599238475164,
                    0.3414439429839452,
                    0.33749764462312065,
                    0.3337034742037455,
                    0.33022986153761547,
                    0.32642108798027036,
                    0.3225995620091756,
                    0.3186949739853541,
                    0.3156793415546417,
                    0.31237546900908153,
                    0.30886623362700144,
                    0.30536827047665915,
                    0.30206966896851856,
                    0.298697891831398,
                    0.2954362541437149,
                    0.29201607704162597,
                    0.288636115193367,
                    0.2852220127979914,
                    0.28201863368352253,
                    0.27900417397419613,
                    0.2758434623479843,
                    0.272793469329675,
                    0.26954132815202075,
                    0.2666352609793345,
                    0.2635848010579745,
                    0.26090705345074333,
                    0.25791021486123406,
                    0.255732125043869,
                    0.25289466629425683,
                    0.2502434750398,
                    0.24744174480438233,
                    0.24476013332605362,
                    0.2422062744696935,
                    0.23943349023660024,
                    0.23688389460245768,
                    0.23468972146511077,
                    0.23193612297375996,
                    0.2292866031328837,
                    0.22685470879077912,
                    0.22457399765650432,
                    0.2220265880227089,
                    0.21966677109400432,
                    0.21740185618400573,
                    0.21531072755654654,
                    0.21321942061185836,
                    0.21086422155300777,
                    0.2084277555346489,
                    0.2062371328473091,
                    0.20427506814400356,
                    0.20187647740046183,
                    0.19952929516633353,
                    0.19710163573424022,
                    0.19499789476394652,
                    0.1929253766934077,
                    0.19051178842782973,
                    0.18848316073417665,
                    0.1864324281613032,
                    0.18411620259284972,
                    0.1827334652344386,
                    0.18137240608533223,
                    0.1796659712990125,
                    0.1776915445923805,
                    0.17615412622690202,
                    0.17444483985503514,
                    0.17246021578709284,
                    0.17041840304931005,
                    0.16859738975763322,
                    0.16676881909370422,
                    0.16546171208222707,
                    0.16393189628918967,
                    0.16238836745421092,
                    0.16081280012925467,
                    0.15956559975941975,
                    0.15794476469357807,
                    0.15660534699757894,
                    0.15494896645347278,
                    0.1535158989330133,
                    0.15218746016422907,
                    0.15072252800067265,
                    0.1491427441438039,
                    0.14750466520587605,
                    0.14608101124564807,
                    0.14452151134610175,
                    0.14296014880140623,
                    0.1417391650378704,
                    0.14038817087809244,
                    0.13885735099514326,
                    0.13759339948495228,
                    0.13655006736516953,
                    0.13520577053229013,
                    0.133782692750295,
                    0.13294598658879597,
                    0.13155951276421546,
                    0.13035370434323948,
                    0.12909415389100712,
                    0.1282044624288877,
                    0.1274576557179292,
                    0.1260781375070413,
                    0.12475942224264144,
                    0.12335533499717713,
                    0.12215356727441153,
                    0.12095716123779615,
                    0.1198003925383091,
                    0.11861515690883001,
                    0.11775345255931219,
                    0.11649242614706358,
                    0.11531520237525304,
                    0.11449360599120458,
                    0.11328161805868149,
                    0.11211874609192213,
                    0.11083008075753847,
                    0.11007791310548783,
                    0.10924352655808131,
                    0.1083415632446607,
                    0.10729693174362183,
                    0.10628005266189575,
                    0.10531579703092575,
                    0.1045947827398777,
                    0.10362559606631597,
                    0.10284531563520431,
                    0.1018247293929259,
                    0.10097452526291212,
                    0.09997907727956772,
                    0.099232716858387,
                    0.0985746905207634,
                    0.09788223803043365,
                    0.09688536400596301,
                    0.09621887927254041,
                    0.09522683223088582,
                    0.09425667375326156,
                    0.09366344635685285,
                    0.09265278428792953,
                    0.0916860041519006,
                    0.09069505160053572,
                    0.08980673725406328,
                    0.0888535221417745,
                    0.08809842032690843,
                    0.087282528479894,
                    0.08642006739974022,
                    0.08562727471192678,
                    0.08484844540556272,
                    0.0840595173339049,
                    0.08326952035228412,
                    0.08277513794600963,
                    0.08197887726128102,
                    0.08133283791442712,
                    0.0805537751565377,
                    0.07996871545910836,
                    0.07928244657814502,
                    0.07870689034461975,
                    0.07822046975294748,
                    0.07794884306689104,
                    0.07715574602286021,
                    0.07656457610428333,
                    0.07595809474587441,
                    0.07513542063534259,
                    0.07478899993002415,
                    0.07407527901232243,
                    0.07346071265637874,
                    0.07303877646724383,
                    0.07229863454898199,
                    0.07148827190200488,
                    0.07102451858421167,
                    0.07054503473142783,
                    0.0703422007461389,
                    0.06995932993789514,
                    0.06933914894858996,
                    0.06875825226306916,
                    0.06811937267581622,
                    0.06768434680998325,
                    0.06716166461507479,
                    0.06678861367205778,
                    0.06627109907567501,
                    0.06571813461681207,
                    0.06526106297969818,
                    0.06488839946687222,
                    0.06466247600813707,
                    0.06424172235031923,
                    0.0639224749058485,
                    0.06339304658273856,
                    0.06275879132250944,
                    0.06241267745693525,
                    0.06179923998812834,
                    0.06116152914861838,
                    0.0608960710465908,
                    0.06059615748624007,
                    0.06016189915438493,
                    0.05978470370173454,
                    0.05945667264362176,
                    0.05920915951331456,
                    0.05863520577549934,
                    0.05834745243191719,
                    0.05793460831046104,
                    0.05763320252299309,
                    0.05707354669769605,
                    0.05651807611187299,
                    0.05605061898628871,
                    0.05589275571207206,
                    0.05565968180696169,
                    0.05513896321256955,
                    0.05473578708867232,
                    0.05437706435720126,
                    0.05423716095586618,
                    0.05384987418850263,
                    0.05334361301114162,
                    0.05317733958363533,
                    0.05276068573196729,
                    0.05231195849676927,
                    0.05200296708693107
                  ]
                },
                {
                  "marker": {
                    "maxdisplayed": 10
                  },
                  "mode": "lines+markers",
                  "name": "Trial4",
                  "type": "scatter",
                  "x": [
                    0,
                    1,
                    2
                  ],
                  "y": [
                    0.9054188946882884,
                    0.8250651836395264,
                    0.7461163401603699
                  ]
                },
                {
                  "marker": {
                    "maxdisplayed": 10
                  },
                  "mode": "lines+markers",
                  "name": "Trial5",
                  "type": "scatter",
                  "x": [
                    0,
                    1,
                    2
                  ],
                  "y": [
                    0.799658058087031,
                    0.6822180926799775,
                    0.5289926141500473
                  ]
                },
                {
                  "marker": {
                    "maxdisplayed": 10
                  },
                  "mode": "lines+markers",
                  "name": "Trial6",
                  "type": "scatter",
                  "x": [
                    0,
                    1,
                    2
                  ],
                  "y": [
                    1.0267289757728577,
                    0.9717086136341095,
                    0.9129284004370372
                  ]
                },
                {
                  "marker": {
                    "maxdisplayed": 10
                  },
                  "mode": "lines+markers",
                  "name": "Trial7",
                  "type": "scatter",
                  "x": [
                    0,
                    1,
                    2
                  ],
                  "y": [
                    1.0264589548110963,
                    0.9938904941082001,
                    0.9379111071427663
                  ]
                },
                {
                  "marker": {
                    "maxdisplayed": 10
                  },
                  "mode": "lines+markers",
                  "name": "Trial8",
                  "type": "scatter",
                  "x": [
                    0,
                    1,
                    2
                  ],
                  "y": [
                    0.8186728636423747,
                    0.6066627720991771,
                    0.4678694913784663
                  ]
                },
                {
                  "marker": {
                    "maxdisplayed": 10
                  },
                  "mode": "lines+markers",
                  "name": "Trial9",
                  "type": "scatter",
                  "x": [
                    0,
                    1,
                    2
                  ],
                  "y": [
                    0.8467533071835835,
                    0.7450913707415263,
                    0.6114315867424012
                  ]
                },
                {
                  "marker": {
                    "maxdisplayed": 10
                  },
                  "mode": "lines+markers",
                  "name": "Trial10",
                  "type": "scatter",
                  "x": [
                    0,
                    1,
                    2
                  ],
                  "y": [
                    0.9654584288597107,
                    0.8514770448207856,
                    0.7537308136622111
                  ]
                },
                {
                  "marker": {
                    "maxdisplayed": 10
                  },
                  "mode": "lines+markers",
                  "name": "Trial11",
                  "type": "scatter",
                  "x": [
                    0,
                    1,
                    2,
                    3,
                    4,
                    5,
                    6,
                    7,
                    8
                  ],
                  "y": [
                    1.0781475981076558,
                    1.0576747059822083,
                    1.037071208159129,
                    1.016920538743337,
                    0.9985339522361756,
                    0.9793559312820435,
                    0.9619874258836111,
                    0.9439914842446645,
                    0.9265284677346547
                  ]
                },
                {
                  "marker": {
                    "maxdisplayed": 10
                  },
                  "mode": "lines+markers",
                  "name": "Trial12",
                  "type": "scatter",
                  "x": [
                    0,
                    1,
                    2
                  ],
                  "y": [
                    0.961999773979187,
                    0.8436625520388286,
                    0.741565732161204
                  ]
                },
                {
                  "marker": {
                    "maxdisplayed": 10
                  },
                  "mode": "lines+markers",
                  "name": "Trial13",
                  "type": "scatter",
                  "x": [
                    0,
                    1,
                    2
                  ],
                  "y": [
                    1.0210405548413595,
                    0.9492603302001953,
                    0.8836202621459961
                  ]
                },
                {
                  "marker": {
                    "maxdisplayed": 10
                  },
                  "mode": "lines+markers",
                  "name": "Trial14",
                  "type": "scatter",
                  "x": [
                    0,
                    1,
                    2
                  ],
                  "y": [
                    0.7505944808324178,
                    0.5344108084837595,
                    0.39074151118596395
                  ]
                },
                {
                  "marker": {
                    "maxdisplayed": 10
                  },
                  "mode": "lines+markers",
                  "name": "Trial15",
                  "type": "scatter",
                  "x": [
                    0,
                    1,
                    2
                  ],
                  "y": [
                    0.9149020373821258,
                    0.8413089315096537,
                    0.7297497550646465
                  ]
                },
                {
                  "marker": {
                    "maxdisplayed": 10
                  },
                  "mode": "lines+markers",
                  "name": "Trial16",
                  "type": "scatter",
                  "x": [
                    0,
                    1,
                    2
                  ],
                  "y": [
                    0.8314706305662791,
                    0.7232247491677603,
                    0.5803617417812348
                  ]
                },
                {
                  "marker": {
                    "maxdisplayed": 10
                  },
                  "mode": "lines+markers",
                  "name": "Trial17",
                  "type": "scatter",
                  "x": [
                    0,
                    1,
                    2,
                    3,
                    4,
                    5,
                    6,
                    7,
                    8
                  ],
                  "y": [
                    1.0730181336402893,
                    1.0484134833017984,
                    1.0231386184692384,
                    0.9988566656907399,
                    0.9762495597203572,
                    0.9536945283412933,
                    0.9324175755182902,
                    0.9111386418342591,
                    0.8906955639521281
                  ]
                },
                {
                  "marker": {
                    "maxdisplayed": 10
                  },
                  "mode": "lines+markers",
                  "name": "Trial18",
                  "type": "scatter",
                  "x": [
                    0,
                    1,
                    2
                  ],
                  "y": [
                    0.9303179244200389,
                    0.8120329280694326,
                    0.7198645015557606
                  ]
                },
                {
                  "marker": {
                    "maxdisplayed": 10
                  },
                  "mode": "lines+markers",
                  "name": "Trial19",
                  "type": "scatter",
                  "x": [
                    0,
                    1,
                    2
                  ],
                  "y": [
                    1.0121114174524943,
                    0.9278699497381846,
                    0.8505176146825154
                  ]
                },
                {
                  "marker": {
                    "maxdisplayed": 10
                  },
                  "mode": "lines+markers",
                  "name": "Trial20",
                  "type": "scatter",
                  "x": [
                    0,
                    1,
                    2
                  ],
                  "y": [
                    0.8939757247765859,
                    0.8086970786253611,
                    0.7218930780887604
                  ]
                },
                {
                  "marker": {
                    "maxdisplayed": 10
                  },
                  "mode": "lines+markers",
                  "name": "Trial21",
                  "type": "scatter",
                  "x": [
                    0,
                    1,
                    2
                  ],
                  "y": [
                    0.9325010597705841,
                    0.8435725887616475,
                    0.7665374080340067
                  ]
                },
                {
                  "marker": {
                    "maxdisplayed": 10
                  },
                  "mode": "lines+markers",
                  "name": "Trial22",
                  "type": "scatter",
                  "x": [
                    0,
                    1,
                    2
                  ],
                  "y": [
                    0.9517790993054708,
                    0.8929040213425954,
                    0.8664703786373138
                  ]
                },
                {
                  "marker": {
                    "maxdisplayed": 10
                  },
                  "mode": "lines+markers",
                  "name": "Trial23",
                  "type": "scatter",
                  "x": [
                    0,
                    1,
                    2
                  ],
                  "y": [
                    0.9518988172213236,
                    0.8212732056776683,
                    0.7407114466031393
                  ]
                },
                {
                  "marker": {
                    "maxdisplayed": 10
                  },
                  "mode": "lines+markers",
                  "name": "Trial24",
                  "type": "scatter",
                  "x": [
                    0,
                    1,
                    2
                  ],
                  "y": [
                    0.9569818437099457,
                    0.8879890203475952,
                    0.8226372917493184
                  ]
                },
                {
                  "marker": {
                    "maxdisplayed": 10
                  },
                  "mode": "lines+markers",
                  "name": "Trial25",
                  "type": "scatter",
                  "x": [
                    0,
                    1,
                    2
                  ],
                  "y": [
                    0.8837708175182343,
                    0.7338870088259379,
                    0.5960168222586314
                  ]
                },
                {
                  "marker": {
                    "maxdisplayed": 10
                  },
                  "mode": "lines+markers",
                  "name": "Trial26",
                  "type": "scatter",
                  "x": [
                    0,
                    1,
                    2
                  ],
                  "y": [
                    0.9932783226172129,
                    0.943462711572647,
                    0.8730388343334198
                  ]
                },
                {
                  "marker": {
                    "maxdisplayed": 10
                  },
                  "mode": "lines+markers",
                  "name": "Trial27",
                  "type": "scatter",
                  "x": [
                    0,
                    1,
                    2
                  ],
                  "y": [
                    0.8181678712368011,
                    0.6243894517421722,
                    0.5230670193831126
                  ]
                },
                {
                  "marker": {
                    "maxdisplayed": 10
                  },
                  "mode": "lines+markers",
                  "name": "Trial28",
                  "type": "scatter",
                  "x": [
                    0,
                    1,
                    2
                  ],
                  "y": [
                    0.9066744287808736,
                    0.8196098049481709,
                    0.6951913913091023
                  ]
                },
                {
                  "marker": {
                    "maxdisplayed": 10
                  },
                  "mode": "lines+markers",
                  "name": "Trial29",
                  "type": "scatter",
                  "x": [
                    0,
                    1,
                    2
                  ],
                  "y": [
                    0.918580812215805,
                    0.8427845458189647,
                    0.8135066290696462
                  ]
                },
                {
                  "marker": {
                    "maxdisplayed": 10
                  },
                  "mode": "lines+markers",
                  "name": "Trial30",
                  "type": "scatter",
                  "x": [
                    0,
                    1,
                    2,
                    3,
                    4,
                    5,
                    6,
                    7,
                    8
                  ],
                  "y": [
                    1.0511964480082194,
                    1.0055357416470845,
                    0.9616734484831492,
                    0.9213329136371613,
                    0.8841471552848816,
                    0.8468718687693279,
                    0.8128265162309011,
                    0.7816922982533773,
                    0.7517440537611644
                  ]
                },
                {
                  "marker": {
                    "maxdisplayed": 10
                  },
                  "mode": "lines+markers",
                  "name": "Trial31",
                  "type": "scatter",
                  "x": [
                    0,
                    1,
                    2,
                    3,
                    4,
                    5,
                    6,
                    7,
                    8
                  ],
                  "y": [
                    1.037778119246165,
                    0.9797298053900401,
                    0.9241785347461701,
                    0.8725734174251556,
                    0.8279776275157928,
                    0.7829714039961497,
                    0.7444834629694621,
                    0.7066376268863678,
                    0.6697076022624969
                  ]
                },
                {
                  "marker": {
                    "maxdisplayed": 10
                  },
                  "mode": "lines+markers",
                  "name": "Trial32",
                  "type": "scatter",
                  "x": [
                    0,
                    1,
                    2,
                    3,
                    4,
                    5,
                    6,
                    7,
                    8
                  ],
                  "y": [
                    1.0723766962687173,
                    1.0466947595278422,
                    1.0214570800463358,
                    0.9967518409093221,
                    0.9740940610567729,
                    0.9507148742675782,
                    0.9298090954621633,
                    0.9087597012519837,
                    0.8880180557568867
                  ]
                },
                {
                  "marker": {
                    "maxdisplayed": 10
                  },
                  "mode": "lines+markers",
                  "name": "Trial33",
                  "type": "scatter",
                  "x": [
                    0,
                    1,
                    2
                  ],
                  "y": [
                    0.9851187586784362,
                    0.8878855268160503,
                    0.7991817394892374
                  ]
                },
                {
                  "marker": {
                    "maxdisplayed": 10
                  },
                  "mode": "lines+markers",
                  "name": "Trial34",
                  "type": "scatter",
                  "x": [
                    0,
                    1,
                    2,
                    3,
                    4,
                    5,
                    6,
                    7,
                    8,
                    9,
                    10,
                    11,
                    12,
                    13,
                    14,
                    15,
                    16,
                    17,
                    18,
                    19,
                    20,
                    21,
                    22,
                    23,
                    24,
                    25,
                    26,
                    27,
                    28,
                    29,
                    30,
                    31,
                    32
                  ],
                  "y": [
                    1.0832175930341086,
                    1.0674560944239297,
                    1.0518947839736938,
                    1.0365715781847635,
                    1.0217884620030722,
                    1.006912116209666,
                    0.9926632483800252,
                    0.9794921239217123,
                    0.9657650510470073,
                    0.9519460439682007,
                    0.9388202766577403,
                    0.925423405567805,
                    0.9130615095297495,
                    0.9007358312606811,
                    0.8883899589379628,
                    0.8758958776791891,
                    0.8638422151406606,
                    0.8523846666018168,
                    0.8409678260485332,
                    0.8302901228268941,
                    0.8192858874797821,
                    0.8092677454153697,
                    0.7984123627344767,
                    0.7877483149369557,
                    0.7772216240564982,
                    0.7672783255577087,
                    0.7571546216805776,
                    0.7472729663054148,
                    0.7374419331550598,
                    0.7280169149239858,
                    0.7190789063771565,
                    0.7096733431021373,
                    0.7006853977839153
                  ]
                },
                {
                  "marker": {
                    "maxdisplayed": 10
                  },
                  "mode": "lines+markers",
                  "name": "Trial35",
                  "type": "scatter",
                  "x": [
                    0,
                    1,
                    2,
                    3,
                    4,
                    5,
                    6,
                    7,
                    8
                  ],
                  "y": [
                    1.0593523581822712,
                    1.0217584729194642,
                    0.984756064414978,
                    0.9497245887915293,
                    0.9170434057712555,
                    0.8850378115971883,
                    0.8554337501525879,
                    0.826902163028717,
                    0.7994239389896393
                  ]
                },
                {
                  "marker": {
                    "maxdisplayed": 10
                  },
                  "mode": "lines+markers",
                  "name": "Trial36",
                  "type": "scatter",
                  "x": [
                    0,
                    1,
                    2
                  ],
                  "y": [
                    0.8793000857035319,
                    0.7014628569285075,
                    0.5676679452260335
                  ]
                },
                {
                  "marker": {
                    "maxdisplayed": 10
                  },
                  "mode": "lines+markers",
                  "name": "Trial37",
                  "type": "scatter",
                  "x": [
                    0,
                    1,
                    2
                  ],
                  "y": [
                    0.914118907848994,
                    0.7517169813315073,
                    0.6343572358290355
                  ]
                },
                {
                  "marker": {
                    "maxdisplayed": 10
                  },
                  "mode": "lines+markers",
                  "name": "Trial38",
                  "type": "scatter",
                  "x": [
                    0,
                    1,
                    2
                  ],
                  "y": [
                    0.9375234703222911,
                    0.8694381415843964,
                    0.7559948404630025
                  ]
                },
                {
                  "marker": {
                    "maxdisplayed": 10
                  },
                  "mode": "lines+markers",
                  "name": "Trial39",
                  "type": "scatter",
                  "x": [
                    0,
                    1,
                    2
                  ],
                  "y": [
                    0.9655716319878896,
                    0.8500861326853434,
                    0.7525345424811045
                  ]
                },
                {
                  "marker": {
                    "maxdisplayed": 10
                  },
                  "mode": "lines+markers",
                  "name": "Trial40",
                  "type": "scatter",
                  "x": [
                    0,
                    1,
                    2
                  ],
                  "y": [
                    0.7744139115015666,
                    0.5641631503899892,
                    0.4217011958360672
                  ]
                },
                {
                  "marker": {
                    "maxdisplayed": 10
                  },
                  "mode": "lines+markers",
                  "name": "Trial41",
                  "type": "scatter",
                  "x": [
                    0,
                    1,
                    2,
                    3,
                    4,
                    5,
                    6,
                    7,
                    8
                  ],
                  "y": [
                    1.0810339768727621,
                    1.064167594909668,
                    1.0463268597920736,
                    1.0289112369219462,
                    1.012866465250651,
                    0.9960815449555714,
                    0.9811455110708872,
                    0.9652832607428233,
                    0.9499231338500976
                  ]
                },
                {
                  "marker": {
                    "maxdisplayed": 10
                  },
                  "mode": "lines+markers",
                  "name": "Trial42",
                  "type": "scatter",
                  "x": [
                    0,
                    1,
                    2,
                    3,
                    4,
                    5,
                    6,
                    7,
                    8
                  ],
                  "y": [
                    1.043789847691854,
                    0.9921612878640492,
                    0.9419267455736796,
                    0.8954493522644043,
                    0.8542487740516662,
                    0.812855722506841,
                    0.7767312884330749,
                    0.7406070272127787,
                    0.7066082318623861
                  ]
                },
                {
                  "marker": {
                    "maxdisplayed": 10
                  },
                  "mode": "lines+markers",
                  "name": "Trial43",
                  "type": "scatter",
                  "x": [
                    0,
                    1,
                    2
                  ],
                  "y": [
                    1.019741141796112,
                    0.9495509465535482,
                    0.8835590779781342
                  ]
                },
                {
                  "marker": {
                    "maxdisplayed": 10
                  },
                  "mode": "lines+markers",
                  "name": "Trial44",
                  "type": "scatter",
                  "x": [
                    0,
                    1,
                    2,
                    3,
                    4,
                    5,
                    6,
                    7,
                    8,
                    9,
                    10,
                    11,
                    12,
                    13,
                    14,
                    15,
                    16,
                    17,
                    18,
                    19,
                    20,
                    21,
                    22,
                    23,
                    24,
                    25,
                    26,
                    27,
                    28,
                    29,
                    30,
                    31,
                    32,
                    33,
                    34,
                    35,
                    36,
                    37,
                    38,
                    39,
                    40,
                    41,
                    42,
                    43,
                    44,
                    45,
                    46,
                    47,
                    48,
                    49,
                    50,
                    51,
                    52,
                    53,
                    54,
                    55,
                    56,
                    57,
                    58,
                    59,
                    60,
                    61,
                    62,
                    63,
                    64,
                    65,
                    66,
                    67,
                    68,
                    69,
                    70,
                    71,
                    72,
                    73,
                    74,
                    75,
                    76,
                    77,
                    78,
                    79,
                    80,
                    81,
                    82,
                    83,
                    84,
                    85,
                    86,
                    87,
                    88,
                    89,
                    90,
                    91,
                    92,
                    93,
                    94,
                    95,
                    96,
                    97,
                    98,
                    99,
                    100,
                    101,
                    102,
                    103,
                    104,
                    105,
                    106,
                    107,
                    108,
                    109,
                    110,
                    111,
                    112,
                    113,
                    114,
                    115,
                    116,
                    117,
                    118,
                    119,
                    120,
                    121,
                    122,
                    123,
                    124,
                    125,
                    126,
                    127,
                    128,
                    129,
                    130,
                    131,
                    132,
                    133,
                    134,
                    135,
                    136,
                    137,
                    138,
                    139,
                    140,
                    141,
                    142,
                    143,
                    144,
                    145,
                    146,
                    147,
                    148,
                    149,
                    150,
                    151,
                    152,
                    153,
                    154,
                    155,
                    156,
                    157,
                    158,
                    159,
                    160,
                    161,
                    162,
                    163,
                    164,
                    165,
                    166,
                    167,
                    168,
                    169,
                    170,
                    171,
                    172,
                    173,
                    174,
                    175,
                    176,
                    177,
                    178,
                    179,
                    180,
                    181,
                    182,
                    183,
                    184,
                    185,
                    186,
                    187,
                    188,
                    189,
                    190,
                    191,
                    192,
                    193,
                    194,
                    195,
                    196,
                    197,
                    198,
                    199,
                    200,
                    201,
                    202,
                    203,
                    204,
                    205,
                    206,
                    207,
                    208,
                    209,
                    210,
                    211,
                    212,
                    213,
                    214,
                    215,
                    216,
                    217,
                    218,
                    219,
                    220,
                    221,
                    222,
                    223,
                    224,
                    225,
                    226,
                    227,
                    228,
                    229,
                    230,
                    231,
                    232,
                    233,
                    234,
                    235,
                    236,
                    237,
                    238,
                    239,
                    240,
                    241,
                    242,
                    243,
                    244,
                    245,
                    246,
                    247,
                    248,
                    249,
                    250,
                    251,
                    252,
                    253,
                    254,
                    255,
                    256,
                    257,
                    258,
                    259,
                    260,
                    261,
                    262,
                    263,
                    264,
                    265,
                    266,
                    267,
                    268,
                    269,
                    270,
                    271,
                    272,
                    273,
                    274,
                    275,
                    276,
                    277,
                    278,
                    279,
                    280,
                    281,
                    282,
                    283,
                    284,
                    285,
                    286,
                    287,
                    288,
                    289,
                    290,
                    291,
                    292,
                    293,
                    294,
                    295,
                    296,
                    297,
                    298,
                    299
                  ],
                  "y": [
                    1.0842939496040345,
                    1.0704298615455627,
                    1.0560752431551614,
                    1.041878914833069,
                    1.0286822398503621,
                    1.0151106715202332,
                    1.0023077309131623,
                    0.9893882254759471,
                    0.9762493073940277,
                    0.9634947518507639,
                    0.9514209210872651,
                    0.9389532029628753,
                    0.9275292317072551,
                    0.9156316121419271,
                    0.9044020195802053,
                    0.8930869380633036,
                    0.8816234648227692,
                    0.8711187481880188,
                    0.8606713891029358,
                    0.8500559151172637,
                    0.8404017051060995,
                    0.8306802054246266,
                    0.8203318258126576,
                    0.8101772685845693,
                    0.8005711277325948,
                    0.7908396820227305,
                    0.7813751578330994,
                    0.7720733880996704,
                    0.7627483308315277,
                    0.7539192736148834,
                    0.7453673958778382,
                    0.7363604585329692,
                    0.7282500048478444,
                    0.7194273511568705,
                    0.7118548691272736,
                    0.7037442604700724,
                    0.6959263503551483,
                    0.6874459664026896,
                    0.6800082862377167,
                    0.6720426718393961,
                    0.6644600252310435,
                    0.6566850006580353,
                    0.6489524761835734,
                    0.6414975682894389,
                    0.6341101586818695,
                    0.6265348752339681,
                    0.6193733473618825,
                    0.612614115079244,
                    0.6058357715606689,
                    0.5990014731884002,
                    0.5920092980066936,
                    0.5854768474896749,
                    0.5789945900440217,
                    0.5730753123760224,
                    0.5666995505491893,
                    0.5608019888401031,
                    0.5548448840777079,
                    0.5492219706376393,
                    0.5432953337828318,
                    0.5373406330744426,
                    0.53172314564387,
                    0.5260323345661163,
                    0.5200962295134862,
                    0.5147392451763153,
                    0.509426274895668,
                    0.5038262973229091,
                    0.4981940060853958,
                    0.49277785619099934,
                    0.48765462736288706,
                    0.48324648638566337,
                    0.4779798964659373,
                    0.47264466087023416,
                    0.4677275151014328,
                    0.46286710699399314,
                    0.45831921497980754,
                    0.4534680853287379,
                    0.4487656354904175,
                    0.443934025367101,
                    0.43911014795303344,
                    0.43440323770046235,
                    0.4299529363711675,
                    0.4254670282204946,
                    0.42076787650585173,
                    0.41623536348342893,
                    0.41163256863753,
                    0.40760056376457215,
                    0.40332898994286853,
                    0.3991312642892202,
                    0.39498449365297955,
                    0.3909662922223409,
                    0.3872518261273702,
                    0.383373033006986,
                    0.3797347734371821,
                    0.3757218360900879,
                    0.3717950403690338,
                    0.3680738747119904,
                    0.3641753832499186,
                    0.3604035039742788,
                    0.35704956352710726,
                    0.35376392006874086,
                    0.3505283604065577,
                    0.34719509184360503,
                    0.3435944885015488,
                    0.3401645213365555,
                    0.33677335182825724,
                    0.3332268307606379,
                    0.33024880985418953,
                    0.3269377420345942,
                    0.32381168703238167,
                    0.3205601741870244,
                    0.31733239988485973,
                    0.3141101270914078,
                    0.31105077266693115,
                    0.3078785012165705,
                    0.30486015876134237,
                    0.3016998211542765,
                    0.298806099096934,
                    0.2956757366657257,
                    0.2927497535943985,
                    0.2899540623029073,
                    0.28710330128669737,
                    0.2841820389032364,
                    0.281260159611702,
                    0.27854907761017483,
                    0.27584532350301744,
                    0.2732282082239787,
                    0.27080813944339754,
                    0.2680555065472921,
                    0.2652951036890348,
                    0.2627276966969172,
                    0.2603929335872332,
                    0.2577853580315908,
                    0.25523836563030877,
                    0.252636111776034,
                    0.25008817811807,
                    0.24760162979364395,
                    0.24524636566638947,
                    0.24280981570482255,
                    0.2405906319618225,
                    0.23856968879699708,
                    0.23625295162200927,
                    0.2340792973836263,
                    0.23184363742669423,
                    0.22974952459335327,
                    0.22764674574136734,
                    0.22539788186550141,
                    0.22306692749261856,
                    0.22080144236485164,
                    0.21850601981083553,
                    0.21655164957046508,
                    0.2145130510131518,
                    0.21248260786135992,
                    0.21041484872500102,
                    0.20837431500355402,
                    0.20631086875995,
                    0.20448953211307525,
                    0.20252872953812281,
                    0.2005326271057129,
                    0.1987858513991038,
                    0.19689675470193227,
                    0.19502079685529072,
                    0.1935411627093951,
                    0.19188586870829263,
                    0.19040206621090572,
                    0.1886498063802719,
                    0.18681739419698715,
                    0.18514133095741273,
                    0.18347903490066528,
                    0.18175096611181896,
                    0.18013784736394883,
                    0.17846007347106935,
                    0.17680275936921439,
                    0.1753560726841291,
                    0.1739300325512886,
                    0.17228363802035648,
                    0.17093037019173304,
                    0.16942743758360546,
                    0.1678137704730034,
                    0.16664952685435613,
                    0.16517209112644196,
                    0.16351551860570906,
                    0.16198693513870238,
                    0.16040705541769665,
                    0.15901242593924206,
                    0.15786661555369694,
                    0.15650225083033245,
                    0.15521890024344126,
                    0.15390736858050028,
                    0.15247945388158163,
                    0.15116782436768214,
                    0.14983778645594914,
                    0.14860401228070258,
                    0.1473207029203574,
                    0.14597785497705143,
                    0.14482163513700166,
                    0.14366778532663982,
                    0.14241132289171218,
                    0.1410935881237189,
                    0.13993163605531056,
                    0.1388446976741155,
                    0.13766957422097523,
                    0.13622682417432466,
                    0.13511450588703156,
                    0.13412257929642996,
                    0.13322653596599895,
                    0.1321250468492508,
                    0.1309638053178787,
                    0.13006119256218274,
                    0.1291418286661307,
                    0.12815605675180752,
                    0.12699516266584396,
                    0.12594695140918097,
                    0.12495276927947999,
                    0.12386844183007877,
                    0.12298504014809926,
                    0.12219932998220126,
                    0.12118547211090723,
                    0.12006539106369019,
                    0.11913609032829603,
                    0.1181579237182935,
                    0.11725438088178634,
                    0.11647754733761152,
                    0.1155937393506368,
                    0.11461578284700712,
                    0.11361532360315323,
                    0.11268180161714554,
                    0.11189259414871534,
                    0.11096452201406161,
                    0.11012214000026385,
                    0.10917449941237768,
                    0.10831398566563924,
                    0.10752679109573364,
                    0.10656319881478946,
                    0.10563788190484047,
                    0.10493034770091375,
                    0.10409137134750684,
                    0.10348644355932872,
                    0.10265681693951288,
                    0.10193329031268755,
                    0.10114411065975824,
                    0.10032452965776126,
                    0.09968424141407013,
                    0.099048929164807,
                    0.09816478416323662,
                    0.09740458354353905,
                    0.0965754064420859,
                    0.0956295907497406,
                    0.09502500966191292,
                    0.09430521751443545,
                    0.0936075747013092,
                    0.09280394911766052,
                    0.0921225833396117,
                    0.09151152720053991,
                    0.09082307368516922,
                    0.09024977808197339,
                    0.0897038118292888,
                    0.08908197768032551,
                    0.08855278516809145,
                    0.08799992054700852,
                    0.08723933038612207,
                    0.08673538093765577,
                    0.0861693308999141,
                    0.08563824271162351,
                    0.08498476954797904,
                    0.08428051496545473,
                    0.08360867115358511,
                    0.08301922467847665,
                    0.08256160902480285,
                    0.08191503596802553,
                    0.08145330722133319,
                    0.08112984225153923,
                    0.08053793956836065,
                    0.08006026359895865,
                    0.07948908135294915,
                    0.07887279267112414,
                    0.07840928335984548,
                    0.07811909417311351,
                    0.0775819523880879,
                    0.07711699232459068,
                    0.07655609957873821,
                    0.07612608162065347,
                    0.07560525623460611,
                    0.0751830214013656,
                    0.07487614986797174,
                    0.07439669085045655,
                    0.07387770240505537,
                    0.07335907941063245,
                    0.07286887603501478,
                    0.0722271304577589,
                    0.07193936308224996,
                    0.07162537388503551,
                    0.07127609426776568,
                    0.07073184003432592,
                    0.07052637748420239,
                    0.07023615253468354,
                    0.06976954477528731,
                    0.06936783703664938,
                    0.06884551706413428,
                    0.06841859544316928,
                    0.06795023915668329
                  ]
                },
                {
                  "marker": {
                    "maxdisplayed": 10
                  },
                  "mode": "lines+markers",
                  "name": "Trial45",
                  "type": "scatter",
                  "x": [
                    0,
                    1,
                    2,
                    3,
                    4,
                    5,
                    6,
                    7,
                    8
                  ],
                  "y": [
                    1.0617200016975403,
                    1.025336503982544,
                    0.9898991346359253,
                    0.956634517510732,
                    0.9270056088765463,
                    0.8957603931427002,
                    0.8672078828016917,
                    0.8396515170733134,
                    0.8127733409404755
                  ]
                },
                {
                  "marker": {
                    "maxdisplayed": 10
                  },
                  "mode": "lines+markers",
                  "name": "Trial46",
                  "type": "scatter",
                  "x": [
                    0,
                    1,
                    2,
                    3,
                    4,
                    5,
                    6,
                    7,
                    8,
                    9,
                    10,
                    11,
                    12,
                    13,
                    14,
                    15,
                    16,
                    17,
                    18,
                    19,
                    20,
                    21,
                    22,
                    23,
                    24,
                    25,
                    26,
                    27,
                    28,
                    29,
                    30,
                    31,
                    32
                  ],
                  "y": [
                    1.084557867050171,
                    1.0702460964520772,
                    1.0556705395380657,
                    1.0411379297574361,
                    1.027147404352824,
                    1.0134010354677836,
                    1.000663826862971,
                    0.9873717129230499,
                    0.9742721716562907,
                    0.961433486143748,
                    0.9488919993241628,
                    0.9365022679169973,
                    0.9249782502651215,
                    0.91290096839269,
                    0.9015089869499207,
                    0.8899878482023875,
                    0.8785060763359069,
                    0.8676166077454884,
                    0.8565656820933024,
                    0.8457611779371897,
                    0.8352519353230794,
                    0.8249223927656809,
                    0.814648550748825,
                    0.8043441394964854,
                    0.7945473790168762,
                    0.7843391577402751,
                    0.774777336915334,
                    0.7653251071770986,
                    0.7559108873208363,
                    0.7468445857365926,
                    0.737942510843277,
                    0.7291572531064351,
                    0.7202820022900899
                  ]
                },
                {
                  "marker": {
                    "maxdisplayed": 10
                  },
                  "mode": "lines+markers",
                  "name": "Trial47",
                  "type": "scatter",
                  "x": [
                    0,
                    1,
                    2
                  ],
                  "y": [
                    1.0020812153816223,
                    0.9159847458203634,
                    0.8352178812026978
                  ]
                },
                {
                  "marker": {
                    "maxdisplayed": 10
                  },
                  "mode": "lines+markers",
                  "name": "Trial48",
                  "type": "scatter",
                  "x": [
                    0,
                    1,
                    2,
                    3,
                    4,
                    5,
                    6,
                    7,
                    8
                  ],
                  "y": [
                    1.031916650136312,
                    1.0013735234737395,
                    0.9495238184928894,
                    0.896692939599355,
                    0.8476316769917805,
                    0.8009241779645284,
                    0.757040798664093,
                    0.7175775090853374,
                    0.6809994796911876
                  ]
                },
                {
                  "marker": {
                    "maxdisplayed": 10
                  },
                  "mode": "lines+markers",
                  "name": "Trial49",
                  "type": "scatter",
                  "x": [
                    0,
                    1,
                    2
                  ],
                  "y": [
                    0.8271118462085724,
                    0.63398597240448,
                    0.5017888893683752
                  ]
                }
              ],
              "layout": {
                "showlegend": false,
                "template": {
                  "data": {
                    "bar": [
                      {
                        "error_x": {
                          "color": "#2a3f5f"
                        },
                        "error_y": {
                          "color": "#2a3f5f"
                        },
                        "marker": {
                          "line": {
                            "color": "#E5ECF6",
                            "width": 0.5
                          },
                          "pattern": {
                            "fillmode": "overlay",
                            "size": 10,
                            "solidity": 0.2
                          }
                        },
                        "type": "bar"
                      }
                    ],
                    "barpolar": [
                      {
                        "marker": {
                          "line": {
                            "color": "#E5ECF6",
                            "width": 0.5
                          },
                          "pattern": {
                            "fillmode": "overlay",
                            "size": 10,
                            "solidity": 0.2
                          }
                        },
                        "type": "barpolar"
                      }
                    ],
                    "carpet": [
                      {
                        "aaxis": {
                          "endlinecolor": "#2a3f5f",
                          "gridcolor": "white",
                          "linecolor": "white",
                          "minorgridcolor": "white",
                          "startlinecolor": "#2a3f5f"
                        },
                        "baxis": {
                          "endlinecolor": "#2a3f5f",
                          "gridcolor": "white",
                          "linecolor": "white",
                          "minorgridcolor": "white",
                          "startlinecolor": "#2a3f5f"
                        },
                        "type": "carpet"
                      }
                    ],
                    "choropleth": [
                      {
                        "colorbar": {
                          "outlinewidth": 0,
                          "ticks": ""
                        },
                        "type": "choropleth"
                      }
                    ],
                    "contour": [
                      {
                        "colorbar": {
                          "outlinewidth": 0,
                          "ticks": ""
                        },
                        "colorscale": [
                          [
                            0,
                            "#0d0887"
                          ],
                          [
                            0.1111111111111111,
                            "#46039f"
                          ],
                          [
                            0.2222222222222222,
                            "#7201a8"
                          ],
                          [
                            0.3333333333333333,
                            "#9c179e"
                          ],
                          [
                            0.4444444444444444,
                            "#bd3786"
                          ],
                          [
                            0.5555555555555556,
                            "#d8576b"
                          ],
                          [
                            0.6666666666666666,
                            "#ed7953"
                          ],
                          [
                            0.7777777777777778,
                            "#fb9f3a"
                          ],
                          [
                            0.8888888888888888,
                            "#fdca26"
                          ],
                          [
                            1,
                            "#f0f921"
                          ]
                        ],
                        "type": "contour"
                      }
                    ],
                    "contourcarpet": [
                      {
                        "colorbar": {
                          "outlinewidth": 0,
                          "ticks": ""
                        },
                        "type": "contourcarpet"
                      }
                    ],
                    "heatmap": [
                      {
                        "colorbar": {
                          "outlinewidth": 0,
                          "ticks": ""
                        },
                        "colorscale": [
                          [
                            0,
                            "#0d0887"
                          ],
                          [
                            0.1111111111111111,
                            "#46039f"
                          ],
                          [
                            0.2222222222222222,
                            "#7201a8"
                          ],
                          [
                            0.3333333333333333,
                            "#9c179e"
                          ],
                          [
                            0.4444444444444444,
                            "#bd3786"
                          ],
                          [
                            0.5555555555555556,
                            "#d8576b"
                          ],
                          [
                            0.6666666666666666,
                            "#ed7953"
                          ],
                          [
                            0.7777777777777778,
                            "#fb9f3a"
                          ],
                          [
                            0.8888888888888888,
                            "#fdca26"
                          ],
                          [
                            1,
                            "#f0f921"
                          ]
                        ],
                        "type": "heatmap"
                      }
                    ],
                    "histogram": [
                      {
                        "marker": {
                          "pattern": {
                            "fillmode": "overlay",
                            "size": 10,
                            "solidity": 0.2
                          }
                        },
                        "type": "histogram"
                      }
                    ],
                    "histogram2d": [
                      {
                        "colorbar": {
                          "outlinewidth": 0,
                          "ticks": ""
                        },
                        "colorscale": [
                          [
                            0,
                            "#0d0887"
                          ],
                          [
                            0.1111111111111111,
                            "#46039f"
                          ],
                          [
                            0.2222222222222222,
                            "#7201a8"
                          ],
                          [
                            0.3333333333333333,
                            "#9c179e"
                          ],
                          [
                            0.4444444444444444,
                            "#bd3786"
                          ],
                          [
                            0.5555555555555556,
                            "#d8576b"
                          ],
                          [
                            0.6666666666666666,
                            "#ed7953"
                          ],
                          [
                            0.7777777777777778,
                            "#fb9f3a"
                          ],
                          [
                            0.8888888888888888,
                            "#fdca26"
                          ],
                          [
                            1,
                            "#f0f921"
                          ]
                        ],
                        "type": "histogram2d"
                      }
                    ],
                    "histogram2dcontour": [
                      {
                        "colorbar": {
                          "outlinewidth": 0,
                          "ticks": ""
                        },
                        "colorscale": [
                          [
                            0,
                            "#0d0887"
                          ],
                          [
                            0.1111111111111111,
                            "#46039f"
                          ],
                          [
                            0.2222222222222222,
                            "#7201a8"
                          ],
                          [
                            0.3333333333333333,
                            "#9c179e"
                          ],
                          [
                            0.4444444444444444,
                            "#bd3786"
                          ],
                          [
                            0.5555555555555556,
                            "#d8576b"
                          ],
                          [
                            0.6666666666666666,
                            "#ed7953"
                          ],
                          [
                            0.7777777777777778,
                            "#fb9f3a"
                          ],
                          [
                            0.8888888888888888,
                            "#fdca26"
                          ],
                          [
                            1,
                            "#f0f921"
                          ]
                        ],
                        "type": "histogram2dcontour"
                      }
                    ],
                    "mesh3d": [
                      {
                        "colorbar": {
                          "outlinewidth": 0,
                          "ticks": ""
                        },
                        "type": "mesh3d"
                      }
                    ],
                    "parcoords": [
                      {
                        "line": {
                          "colorbar": {
                            "outlinewidth": 0,
                            "ticks": ""
                          }
                        },
                        "type": "parcoords"
                      }
                    ],
                    "pie": [
                      {
                        "automargin": true,
                        "type": "pie"
                      }
                    ],
                    "scatter": [
                      {
                        "fillpattern": {
                          "fillmode": "overlay",
                          "size": 10,
                          "solidity": 0.2
                        },
                        "type": "scatter"
                      }
                    ],
                    "scatter3d": [
                      {
                        "line": {
                          "colorbar": {
                            "outlinewidth": 0,
                            "ticks": ""
                          }
                        },
                        "marker": {
                          "colorbar": {
                            "outlinewidth": 0,
                            "ticks": ""
                          }
                        },
                        "type": "scatter3d"
                      }
                    ],
                    "scattercarpet": [
                      {
                        "marker": {
                          "colorbar": {
                            "outlinewidth": 0,
                            "ticks": ""
                          }
                        },
                        "type": "scattercarpet"
                      }
                    ],
                    "scattergeo": [
                      {
                        "marker": {
                          "colorbar": {
                            "outlinewidth": 0,
                            "ticks": ""
                          }
                        },
                        "type": "scattergeo"
                      }
                    ],
                    "scattergl": [
                      {
                        "marker": {
                          "colorbar": {
                            "outlinewidth": 0,
                            "ticks": ""
                          }
                        },
                        "type": "scattergl"
                      }
                    ],
                    "scattermap": [
                      {
                        "marker": {
                          "colorbar": {
                            "outlinewidth": 0,
                            "ticks": ""
                          }
                        },
                        "type": "scattermap"
                      }
                    ],
                    "scattermapbox": [
                      {
                        "marker": {
                          "colorbar": {
                            "outlinewidth": 0,
                            "ticks": ""
                          }
                        },
                        "type": "scattermapbox"
                      }
                    ],
                    "scatterpolar": [
                      {
                        "marker": {
                          "colorbar": {
                            "outlinewidth": 0,
                            "ticks": ""
                          }
                        },
                        "type": "scatterpolar"
                      }
                    ],
                    "scatterpolargl": [
                      {
                        "marker": {
                          "colorbar": {
                            "outlinewidth": 0,
                            "ticks": ""
                          }
                        },
                        "type": "scatterpolargl"
                      }
                    ],
                    "scatterternary": [
                      {
                        "marker": {
                          "colorbar": {
                            "outlinewidth": 0,
                            "ticks": ""
                          }
                        },
                        "type": "scatterternary"
                      }
                    ],
                    "surface": [
                      {
                        "colorbar": {
                          "outlinewidth": 0,
                          "ticks": ""
                        },
                        "colorscale": [
                          [
                            0,
                            "#0d0887"
                          ],
                          [
                            0.1111111111111111,
                            "#46039f"
                          ],
                          [
                            0.2222222222222222,
                            "#7201a8"
                          ],
                          [
                            0.3333333333333333,
                            "#9c179e"
                          ],
                          [
                            0.4444444444444444,
                            "#bd3786"
                          ],
                          [
                            0.5555555555555556,
                            "#d8576b"
                          ],
                          [
                            0.6666666666666666,
                            "#ed7953"
                          ],
                          [
                            0.7777777777777778,
                            "#fb9f3a"
                          ],
                          [
                            0.8888888888888888,
                            "#fdca26"
                          ],
                          [
                            1,
                            "#f0f921"
                          ]
                        ],
                        "type": "surface"
                      }
                    ],
                    "table": [
                      {
                        "cells": {
                          "fill": {
                            "color": "#EBF0F8"
                          },
                          "line": {
                            "color": "white"
                          }
                        },
                        "header": {
                          "fill": {
                            "color": "#C8D4E3"
                          },
                          "line": {
                            "color": "white"
                          }
                        },
                        "type": "table"
                      }
                    ]
                  },
                  "layout": {
                    "annotationdefaults": {
                      "arrowcolor": "#2a3f5f",
                      "arrowhead": 0,
                      "arrowwidth": 1
                    },
                    "autotypenumbers": "strict",
                    "coloraxis": {
                      "colorbar": {
                        "outlinewidth": 0,
                        "ticks": ""
                      }
                    },
                    "colorscale": {
                      "diverging": [
                        [
                          0,
                          "#8e0152"
                        ],
                        [
                          0.1,
                          "#c51b7d"
                        ],
                        [
                          0.2,
                          "#de77ae"
                        ],
                        [
                          0.3,
                          "#f1b6da"
                        ],
                        [
                          0.4,
                          "#fde0ef"
                        ],
                        [
                          0.5,
                          "#f7f7f7"
                        ],
                        [
                          0.6,
                          "#e6f5d0"
                        ],
                        [
                          0.7,
                          "#b8e186"
                        ],
                        [
                          0.8,
                          "#7fbc41"
                        ],
                        [
                          0.9,
                          "#4d9221"
                        ],
                        [
                          1,
                          "#276419"
                        ]
                      ],
                      "sequential": [
                        [
                          0,
                          "#0d0887"
                        ],
                        [
                          0.1111111111111111,
                          "#46039f"
                        ],
                        [
                          0.2222222222222222,
                          "#7201a8"
                        ],
                        [
                          0.3333333333333333,
                          "#9c179e"
                        ],
                        [
                          0.4444444444444444,
                          "#bd3786"
                        ],
                        [
                          0.5555555555555556,
                          "#d8576b"
                        ],
                        [
                          0.6666666666666666,
                          "#ed7953"
                        ],
                        [
                          0.7777777777777778,
                          "#fb9f3a"
                        ],
                        [
                          0.8888888888888888,
                          "#fdca26"
                        ],
                        [
                          1,
                          "#f0f921"
                        ]
                      ],
                      "sequentialminus": [
                        [
                          0,
                          "#0d0887"
                        ],
                        [
                          0.1111111111111111,
                          "#46039f"
                        ],
                        [
                          0.2222222222222222,
                          "#7201a8"
                        ],
                        [
                          0.3333333333333333,
                          "#9c179e"
                        ],
                        [
                          0.4444444444444444,
                          "#bd3786"
                        ],
                        [
                          0.5555555555555556,
                          "#d8576b"
                        ],
                        [
                          0.6666666666666666,
                          "#ed7953"
                        ],
                        [
                          0.7777777777777778,
                          "#fb9f3a"
                        ],
                        [
                          0.8888888888888888,
                          "#fdca26"
                        ],
                        [
                          1,
                          "#f0f921"
                        ]
                      ]
                    },
                    "colorway": [
                      "#636efa",
                      "#EF553B",
                      "#00cc96",
                      "#ab63fa",
                      "#FFA15A",
                      "#19d3f3",
                      "#FF6692",
                      "#B6E880",
                      "#FF97FF",
                      "#FECB52"
                    ],
                    "font": {
                      "color": "#2a3f5f"
                    },
                    "geo": {
                      "bgcolor": "white",
                      "lakecolor": "white",
                      "landcolor": "#E5ECF6",
                      "showlakes": true,
                      "showland": true,
                      "subunitcolor": "white"
                    },
                    "hoverlabel": {
                      "align": "left"
                    },
                    "hovermode": "closest",
                    "mapbox": {
                      "style": "light"
                    },
                    "paper_bgcolor": "white",
                    "plot_bgcolor": "#E5ECF6",
                    "polar": {
                      "angularaxis": {
                        "gridcolor": "white",
                        "linecolor": "white",
                        "ticks": ""
                      },
                      "bgcolor": "#E5ECF6",
                      "radialaxis": {
                        "gridcolor": "white",
                        "linecolor": "white",
                        "ticks": ""
                      }
                    },
                    "scene": {
                      "xaxis": {
                        "backgroundcolor": "#E5ECF6",
                        "gridcolor": "white",
                        "gridwidth": 2,
                        "linecolor": "white",
                        "showbackground": true,
                        "ticks": "",
                        "zerolinecolor": "white"
                      },
                      "yaxis": {
                        "backgroundcolor": "#E5ECF6",
                        "gridcolor": "white",
                        "gridwidth": 2,
                        "linecolor": "white",
                        "showbackground": true,
                        "ticks": "",
                        "zerolinecolor": "white"
                      },
                      "zaxis": {
                        "backgroundcolor": "#E5ECF6",
                        "gridcolor": "white",
                        "gridwidth": 2,
                        "linecolor": "white",
                        "showbackground": true,
                        "ticks": "",
                        "zerolinecolor": "white"
                      }
                    },
                    "shapedefaults": {
                      "line": {
                        "color": "#2a3f5f"
                      }
                    },
                    "ternary": {
                      "aaxis": {
                        "gridcolor": "white",
                        "linecolor": "white",
                        "ticks": ""
                      },
                      "baxis": {
                        "gridcolor": "white",
                        "linecolor": "white",
                        "ticks": ""
                      },
                      "bgcolor": "#E5ECF6",
                      "caxis": {
                        "gridcolor": "white",
                        "linecolor": "white",
                        "ticks": ""
                      }
                    },
                    "title": {
                      "x": 0.05
                    },
                    "xaxis": {
                      "automargin": true,
                      "gridcolor": "white",
                      "linecolor": "white",
                      "ticks": "",
                      "title": {
                        "standoff": 15
                      },
                      "zerolinecolor": "white",
                      "zerolinewidth": 2
                    },
                    "yaxis": {
                      "automargin": true,
                      "gridcolor": "white",
                      "linecolor": "white",
                      "ticks": "",
                      "title": {
                        "standoff": 15
                      },
                      "zerolinecolor": "white",
                      "zerolinewidth": 2
                    }
                  }
                },
                "title": {
                  "text": "Intermediate Values Plot"
                },
                "xaxis": {
                  "title": {
                    "text": "Step"
                  }
                },
                "yaxis": {
                  "title": {
                    "text": "Intermediate Value"
                  }
                }
              }
            }
          },
          "metadata": {},
          "output_type": "display_data"
        }
      ],
      "source": [
        "from optuna.visualization import plot_intermediate_values\n",
        "\n",
        "# 1. Plot intermediate values during the trials\n",
        "plot_intermediate_values(study).show()"
      ]
    }
  ],
  "metadata": {
    "colab": {
      "provenance": []
    },
    "kernelspec": {
      "display_name": "myenv",
      "language": "python",
      "name": "python3"
    },
    "language_info": {
      "codemirror_mode": {
        "name": "ipython",
        "version": 3
      },
      "file_extension": ".py",
      "mimetype": "text/x-python",
      "name": "python",
      "nbconvert_exporter": "python",
      "pygments_lexer": "ipython3",
      "version": "3.13.3"
    }
  },
  "nbformat": 4,
  "nbformat_minor": 0
}
