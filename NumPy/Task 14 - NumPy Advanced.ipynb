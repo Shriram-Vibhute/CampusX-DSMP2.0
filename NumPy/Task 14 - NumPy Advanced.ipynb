{
  "cells": [
    {
      "cell_type": "markdown",
      "metadata": {
        "id": "1uamk9vAix0o"
      },
      "source": [
        "#### `Q-1:` Find the nearest element in the array to a given integer.\n",
        "```Python\n",
        "Ex:-\n",
        "a = 23 and array - [10 17 24 31 38 45 52 59].\n",
        "Nearest element is 24\n",
        "```\n",
        "Hint: Read about this function `argmin()`"
      ]
    },
    {
      "cell_type": "code",
      "execution_count": 8,
      "metadata": {},
      "outputs": [
        {
          "data": {
            "text/plain": [
              "24"
            ]
          },
          "execution_count": 8,
          "metadata": {},
          "output_type": "execute_result"
        }
      ],
      "source": [
        "import numpy as np\n",
        "n = 23\n",
        "arr = np.array([10,17,24,31,38,45,52,59])\n",
        "arr[np.argmin(np.abs(arr - n))]"
      ]
    },
    {
      "cell_type": "markdown",
      "metadata": {
        "id": "Y1QkHyPpizyp"
      },
      "source": [
        "#### `Q-2:` Replace multiples of 3 or 5 as 0 in the given array.\n",
        "```Python\n",
        "arr = [1 2 3 4 5 6 7 9]\n",
        "result = [1 2 0 4 0 0 7 0]\n",
        "```"
      ]
    },
    {
      "cell_type": "code",
      "execution_count": 10,
      "metadata": {
        "id": "JjtxMlhWi25l"
      },
      "outputs": [
        {
          "data": {
            "text/plain": [
              "array([1, 2, 0, 4, 0, 0, 7, 8, 0])"
            ]
          },
          "execution_count": 10,
          "metadata": {},
          "output_type": "execute_result"
        }
      ],
      "source": [
        "arr = np.array([1,2,3,4,5,6,7,8,9])\n",
        "arr[(arr % 3 == 0) | (arr % 5 == 0)] = 0\n",
        "arr"
      ]
    },
    {
      "cell_type": "markdown",
      "metadata": {
        "id": "Pi_dZSwTi4OI"
      },
      "source": [
        "#### `Q-3:` Use Fancy Indexing.\n",
        "1. Double the array elements at  given indexes\n",
        "```Python\n",
        "arr = np.arrange(10)\n",
        "indexes = [0,3,4,9]\n",
        "Result = `[ 0  1  2  6  8  5  6  7  8 18]`\n",
        "```\n",
        "\n",
        "2. Using a given array make a different array as in below example\n",
        "```Python\n",
        "array = [1,2,3]\n",
        "result array -> [1 1 1 2 2 2 3 3 3]\n",
        "```\n",
        "* Internal-repetion should be as length of the array.\n",
        "\n",
        "Hint:\n",
        "```Python\n",
        "if a is an array\n",
        "a = [2,4]\n",
        "a[[1,1,0,1]] will result in-> [4 4 2 4]\n",
        "```"
      ]
    },
    {
      "cell_type": "code",
      "execution_count": 14,
      "metadata": {
        "id": "SHYuyuovi66N"
      },
      "outputs": [
        {
          "data": {
            "text/plain": [
              "array([ 4,  5,  4, 16, 12,  5, 14])"
            ]
          },
          "execution_count": 14,
          "metadata": {},
          "output_type": "execute_result"
        }
      ],
      "source": [
        "arr = np.array([2,5,4,8,6,5,7])\n",
        "indx = np.array([0, 3, 4, 6])\n",
        "arr[indx] *= 2\n",
        "arr"
      ]
    },
    {
      "cell_type": "code",
      "execution_count": 18,
      "metadata": {},
      "outputs": [
        {
          "data": {
            "text/plain": [
              "array([1, 1, 1, 2, 2, 2, 3, 3, 3])"
            ]
          },
          "execution_count": 18,
          "metadata": {},
          "output_type": "execute_result"
        }
      ],
      "source": [
        "arr = np.array([1, 2, 3])\n",
        "indx = np.repeat(np.arange(arr.shape[0]), arr.shape[0])\n",
        "arr[indx]"
      ]
    },
    {
      "cell_type": "markdown",
      "metadata": {
        "id": "UDehG0tFi89i"
      },
      "source": [
        "#### `Q-4:` Your are given an array which is havig some nan value. You job is to fill those nan values with most common element in the array.\n",
        "```Python\n",
        "arr = np.array([[1,2,np.nan],[4,2,6],[np.nan,np.nan,5]])\n",
        "\n",
        "```"
      ]
    },
    {
      "cell_type": "code",
      "execution_count": 37,
      "metadata": {
        "id": "YH13A6w9jEyu"
      },
      "outputs": [
        {
          "data": {
            "text/plain": [
              "array([[1., 2., 2.],\n",
              "       [4., 2., 6.],\n",
              "       [2., 2., 5.]])"
            ]
          },
          "execution_count": 37,
          "metadata": {},
          "output_type": "execute_result"
        }
      ],
      "source": [
        "arr = np.array([[1,2,np.nan],[4,2,6],[np.nan,np.nan,5]])\n",
        "# Most common element\n",
        "d = {}\n",
        "for i in arr.flatten():\n",
        "    if i not in d:\n",
        "        d[i] = 1\n",
        "    else:\n",
        "        d[i] += 1\n",
        "    \n",
        "most_frequest_elem = sorted(d.values())[-1]\n",
        "arr[np.isnan(arr)] = most_frequest_elem\n",
        "arr"
      ]
    },
    {
      "cell_type": "markdown",
      "metadata": {
        "id": "Tk2JnioUjJ_t"
      },
      "source": [
        "#### `Q-5:` Write a NumPy program\n",
        "\n",
        "- to find the missing data in a given array. Return a boolean matrix.\n",
        "- also try to fill those missing values with 0. For that, you can use `np.nan_to_num(a)`\n",
        "\n",
        "```python\n",
        "import numpy as np\n",
        "\n",
        "np.array([[3, 2, np.nan, 1],\n",
        "          [10, 12, 10, 9],\n",
        "          [5, np.nan, 1, np.nan]])\n",
        "```"
      ]
    },
    {
      "cell_type": "code",
      "execution_count": null,
      "metadata": {
        "id": "nPEBTQJ_jJZe"
      },
      "outputs": [],
      "source": [
        "# code here"
      ]
    },
    {
      "cell_type": "markdown",
      "metadata": {
        "id": "FFUnZtG7jNBH"
      },
      "source": [
        "###`Q-6:` Given two arrays, X and Y, construct the Cauchy matrix C.\n",
        "`Cij =1/(xi - yj)`\n",
        "\n",
        "http://en.wikipedia.org/wiki/Cauchy_matrix\n",
        "```\n",
        "x = numpy.array([1,2,3,4]).reshape((-1, 1)\n",
        "y = numpy.array([5,6,7])\n",
        "```"
      ]
    },
    {
      "cell_type": "code",
      "execution_count": null,
      "metadata": {
        "id": "pQXHa38TjVEh"
      },
      "outputs": [],
      "source": [
        "# code here"
      ]
    },
    {
      "cell_type": "markdown",
      "metadata": {
        "id": "EbkHZCF1jWNc"
      },
      "source": [
        "###`Q-7:` Plot this below equation.\n",
        "\n",
        "$$\\large y = \\frac{e^x - e^{-x}}{e^x + e^{-x}}$$\n",
        "\n",
        "**Note: This equation is called tanh activation function. In deep learning, many times this function is used. If you find some difference between the sigmoid function and this tanh function, note that to your notebook.**"
      ]
    },
    {
      "cell_type": "code",
      "execution_count": null,
      "metadata": {
        "id": "n6OcN--FjbLC"
      },
      "outputs": [],
      "source": [
        "# code here"
      ]
    },
    {
      "cell_type": "markdown",
      "metadata": {
        "id": "xujS-pu4jciH"
      },
      "source": [
        "### `Q-8:` Plot the below equation.\n",
        "\n",
        "$$\\large y = \\sqrt{36 - (x - 4)^2} + 2$$\n",
        "\n",
        "The range of x should be between -2 to 10. $x ∈ [-2, 10]$\n",
        "\n"
      ]
    },
    {
      "cell_type": "code",
      "execution_count": null,
      "metadata": {
        "id": "7CagwKP_jhIQ"
      },
      "outputs": [],
      "source": [
        "# code here"
      ]
    },
    {
      "cell_type": "markdown",
      "metadata": {
        "id": "Jf14pxCfjiX1"
      },
      "source": [
        "### `Q-9:` Write a program implement Boradcasting Rule to check if two array can be added or not.\n",
        "Given tuples of shapes.\n",
        "```\n",
        "shape of a- (3,2,2)\n",
        "shape of b- (2,2)\n",
        "\n",
        "check_broadcast(a, b) -> return Boolean (True if can broadcasted, False other wise.)\n",
        "```"
      ]
    },
    {
      "cell_type": "code",
      "execution_count": null,
      "metadata": {
        "id": "qSKGG0Yajlc8"
      },
      "outputs": [],
      "source": [
        "# code here"
      ]
    }
  ],
  "metadata": {
    "colab": {
      "provenance": []
    },
    "kernelspec": {
      "display_name": "Python 3",
      "name": "python3"
    },
    "language_info": {
      "codemirror_mode": {
        "name": "ipython",
        "version": 3
      },
      "file_extension": ".py",
      "mimetype": "text/x-python",
      "name": "python",
      "nbconvert_exporter": "python",
      "pygments_lexer": "ipython3",
      "version": "3.12.2"
    }
  },
  "nbformat": 4,
  "nbformat_minor": 0
}
