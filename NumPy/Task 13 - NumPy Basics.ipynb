{
  "cells": [
    {
      "cell_type": "markdown",
      "metadata": {
        "id": "a_K8IH-C6HDK"
      },
      "source": [
        "#### `Q-1` Create a null vector of size 10 but the fifth value which is 1.\n"
      ]
    },
    {
      "cell_type": "code",
      "execution_count": 2,
      "metadata": {
        "id": "sTF03KsZ6QUI"
      },
      "outputs": [
        {
          "data": {
            "text/plain": [
              "array([            nan, 0.00000000e+000, 1.12281479e-311, 2.02369289e-320,\n",
              "       1.00000000e+000, 0.00000000e+000, 0.00000000e+000, 0.00000000e+000,\n",
              "       0.00000000e+000, 0.00000000e+000])"
            ]
          },
          "execution_count": 2,
          "metadata": {},
          "output_type": "execute_result"
        }
      ],
      "source": [
        "import numpy as np\n",
        "\n",
        "vector = np.empty(10)\n",
        "vector[4] = 1\n",
        "vector"
      ]
    },
    {
      "cell_type": "markdown",
      "metadata": {
        "id": "TEiG25rS6S1i"
      },
      "source": [
        "#### `Q-2` Ask user to input two numbers a, b. Write a program to generate a random array of shape (a, b) and print the array and avg of the array."
      ]
    },
    {
      "cell_type": "code",
      "execution_count": 3,
      "metadata": {
        "id": "ihwn4oOH6Vh7"
      },
      "outputs": [
        {
          "name": "stdout",
          "output_type": "stream",
          "text": [
            "[[0.57831574 0.0267203  0.38149663 0.65960376 0.26794615]\n",
            " [0.58516006 0.337628   0.31461804 0.51974731 0.24059039]\n",
            " [0.90292856 0.17888762 0.7255954  0.01330536 0.5004125 ]\n",
            " [0.3750574  0.75214638 0.84428527 0.02255006 0.85233219]]\n",
            "0.45396635484980524\n"
          ]
        }
      ],
      "source": [
        "a = int(input(\"Rows in an array\"))\n",
        "b = int(input(\"Columns in an array\"))\n",
        "\n",
        "arr = np.random.random(size = (a, b))\n",
        "print(arr)\n",
        "avg = np.average(arr)\n",
        "print(avg)"
      ]
    },
    {
      "cell_type": "markdown",
      "metadata": {
        "id": "2iEeybS06ZSq"
      },
      "source": [
        "#### `Q-3` Write a function to create a 2d array with 1 on the border and 0 inside. Take 2-D array shape as (a,b) as parameter to function."
      ]
    },
    {
      "cell_type": "code",
      "execution_count": 6,
      "metadata": {
        "id": "gEKndkDU6ZSs"
      },
      "outputs": [
        {
          "data": {
            "text/plain": [
              "array([[1., 1., 1., 1., 1.],\n",
              "       [1., 0., 0., 0., 1.],\n",
              "       [1., 0., 0., 0., 1.],\n",
              "       [1., 1., 1., 1., 1.]])"
            ]
          },
          "execution_count": 6,
          "metadata": {},
          "output_type": "execute_result"
        }
      ],
      "source": [
        "def createArray(a: int, b: int) -> np.array:\n",
        "    arr = np.zeros((a, b))\n",
        "    arr[0, :] = 1\n",
        "    arr[a-1, :] = 1\n",
        "    arr[:, 0] = 1\n",
        "    arr[:, b-1] = 1\n",
        "    return arr\n",
        "\n",
        "createArray(4, 5)"
      ]
    },
    {
      "cell_type": "markdown",
      "metadata": {
        "id": "QRJicQ8j6ZlE"
      },
      "source": [
        "#### `Q-4` Create a vector of size 10 with values ranging from 0 to 1, both excluded."
      ]
    },
    {
      "cell_type": "code",
      "execution_count": 10,
      "metadata": {
        "id": "eC4XLhDq6ZlF"
      },
      "outputs": [
        {
          "data": {
            "text/plain": [
              "array([0.1       , 0.18888889, 0.27777778, 0.36666667, 0.45555556,\n",
              "       0.54444444, 0.63333333, 0.72222222, 0.81111111, 0.9       ])"
            ]
          },
          "execution_count": 10,
          "metadata": {},
          "output_type": "execute_result"
        }
      ],
      "source": [
        "np.linspace(0.1, 0.9, 10)"
      ]
    },
    {
      "cell_type": "markdown",
      "metadata": {},
      "source": [
        "#### `Q-5` Can you create a identity mattrix of shape (3,4). If yes write code for it."
      ]
    },
    {
      "cell_type": "code",
      "execution_count": 16,
      "metadata": {},
      "outputs": [
        {
          "data": {
            "text/plain": [
              "array([[1., 0., 0., 0.],\n",
              "       [0., 1., 0., 0.],\n",
              "       [0., 0., 1., 0.],\n",
              "       [0., 0., 0., 1.]])"
            ]
          },
          "execution_count": 16,
          "metadata": {},
          "output_type": "execute_result"
        }
      ],
      "source": [
        "# Identy matrix of size 3-- 3X3\n",
        "np.eye(3)\n",
        "\n",
        "# Identy matrix of size 4-- 4X4\n",
        "np.identity(4)\n",
        "\n",
        "# Both are same"
      ]
    },
    {
      "cell_type": "markdown",
      "metadata": {
        "id": "QtjAFm5PEntK"
      },
      "source": [
        "#### `Q-6:` Create a 5x5 matrix with row values ranging from 0 to 4."
      ]
    },
    {
      "cell_type": "code",
      "execution_count": 15,
      "metadata": {
        "id": "z2WGxRjvEuRS"
      },
      "outputs": [
        {
          "data": {
            "text/plain": [
              "array([[[2.41000857, 0.30271153, 1.60241525, 0.44154349, 3.66925901]],\n",
              "\n",
              "       [[0.49465459, 2.31592946, 3.70180999, 2.88144845, 3.97215061]],\n",
              "\n",
              "       [[3.87420924, 0.31945005, 3.83869074, 3.02702917, 2.67378126]],\n",
              "\n",
              "       [[1.89428957, 2.45766344, 3.83288832, 0.74380741, 0.40634851]],\n",
              "\n",
              "       [[1.94647422, 3.50325199, 2.41264991, 0.55008594, 1.58570671]]])"
            ]
          },
          "execution_count": 15,
          "metadata": {},
          "output_type": "execute_result"
        }
      ],
      "source": [
        "np.array([[np.random.uniform(low = 0, high = 4, size = (5))] for _ in range(5)])\n",
        "# Only uniform and randint functions have the ablity to randomly create a numbers, others will create from 0 to 1"
      ]
    },
    {
      "cell_type": "markdown",
      "metadata": {
        "id": "KPpvxKjVHnyx"
      },
      "source": [
        "#### `Q-7:`  Consider a random integer (in range 1 to 100) vector with shape `(10,2)` representing coordinates, and coordinates of a point as array is given. Create an array of distance of each point in the random vectros from the given point. Distance array should be interger type."
      ]
    },
    {
      "cell_type": "code",
      "execution_count": null,
      "metadata": {
        "id": "X7KGnWLNIM6f"
      },
      "outputs": [
        {
          "data": {
            "text/plain": [
              "array([75, 71, 64, 77, 83, 46, 96, 66, 77, 87], dtype=int16)"
            ]
          },
          "execution_count": 23,
          "metadata": {},
          "output_type": "execute_result"
        }
      ],
      "source": [
        "a = np.random.randint(low = 1, high = 100, size = (10, 2))\n",
        "b = np.array([2, 3]) # b is broadcasting to the dimention same as a\n",
        "\n",
        "np.sqrt(np.sum((a - b) ** 2, axis = 1)).astype(np.int16) # When you provide an axis to an operation between arrays that perticular axis will get eleminated"
      ]
    },
    {
      "cell_type": "markdown",
      "metadata": {
        "id": "tajOFJlCDwTr"
      },
      "source": [
        "#### `Q-8:` Consider a (6,7,8) shape array, what is the index (x,y,z) of the 100th element?"
      ]
    },
    {
      "cell_type": "code",
      "execution_count": 25,
      "metadata": {
        "id": "qH4oxvs0D3Ra"
      },
      "outputs": [
        {
          "data": {
            "text/plain": [
              "(1, 5, 4)"
            ]
          },
          "execution_count": 25,
          "metadata": {},
          "output_type": "execute_result"
        }
      ],
      "source": [
        "np.unravel_index(100, shape = (6, 7, 8))\n",
        "# The meaning is 100th element is present at index -> (1, 5, 4) in array of shape -> (6, 7, 8)"
      ]
    },
    {
      "cell_type": "markdown",
      "metadata": {
        "id": "JJpqVms2Nq7L"
      },
      "source": [
        "#### `Q-9:` Arrays\n",
        "\n",
        "**Example 1:**\n",
        "Input: `1 2 3 4 -8 -10`\n",
        "Output: `[-10.  -8.   4.   3.   2.   1.]`"
      ]
    },
    {
      "cell_type": "code",
      "execution_count": 26,
      "metadata": {
        "id": "7iQyg6ChNl3j"
      },
      "outputs": [
        {
          "data": {
            "text/plain": [
              "array([-10.,  -8.,   4.,   3.,   2.,   1.], dtype=float16)"
            ]
          },
          "execution_count": 26,
          "metadata": {},
          "output_type": "execute_result"
        }
      ],
      "source": [
        "arr = input(\"Enter your string\").strip().split(\" \")\n",
        "np.array(arr, dtype = np.float16)[::-1]"
      ]
    },
    {
      "cell_type": "markdown",
      "metadata": {
        "id": "oHTiTz_jNkAU"
      },
      "source": [
        "#### `Q-10:` Elements count\n",
        "Count the number of elements of a numpy array\n",
        "\n",
        "**Example 1:**\n",
        "Input: `np.array([])`\n",
        "Output: `elements_count :  0`\n",
        "\n",
        "**Example 2:**\n",
        "Input: `np.array([1, 2])`\n",
        "Output: `elements_count :  2`"
      ]
    },
    {
      "cell_type": "code",
      "execution_count": 27,
      "metadata": {
        "id": "RG0H2I-TNeGN"
      },
      "outputs": [
        {
          "data": {
            "text/plain": [
              "6"
            ]
          },
          "execution_count": 27,
          "metadata": {},
          "output_type": "execute_result"
        }
      ],
      "source": [
        "a = np.zeros((2,3))\n",
        "a.size"
      ]
    },
    {
      "cell_type": "markdown",
      "metadata": {
        "id": "pwgPz-3l5ic5"
      },
      "source": [
        "#### `Q-11:` Softmax function\n",
        "\n",
        "Create a Python function to calculate the Softmax of the given numpy 1D array. The function only accepts the numpy 1D array, otherwise raise error.\n",
        "\n",
        "$$\\Large \\sigma(\\vec z)_i = \\frac{e^{z_i}}{\\sum_{j=i}^{K}{e^{z_j}}}$$\n",
        "\n",
        "**Example 1:**\n",
        "\n",
        "Input:\n",
        "```Python\n",
        "[86.03331084, 37.7285648, 48.64908087, 87.16563062, 38.40852563, 37.20006318]\n",
        "```\n",
        "\n",
        "Output:\n",
        "```Python\n",
        "[2.43733249e-01, 2.56112115e-22, 1.41628284e-17, 7.56266751e-01, 5.05514197e-22, 1.50974911e-22]\n",
        "```\n",
        "\n",
        "**Example 2:**\n",
        "\n",
        "Input:\n",
        "```Python\n",
        "[33.17344305, 45.61961654, 82.05405781, 80.9647098, 68.82830233, 91.52064278]\n",
        "```\n",
        "\n",
        "Output:\n",
        "```Python\n",
        "[4.57181035e-26, 1.16249923e-20, 7.73872596e-05, 2.60358426e-05, 1.39571531e-10, 9.99896577e-01]\n",
        "```"
      ]
    },
    {
      "cell_type": "code",
      "execution_count": 40,
      "metadata": {
        "id": "VNzj05lkNaNi"
      },
      "outputs": [
        {
          "name": "stdout",
          "output_type": "stream",
          "text": [
            "Array Dimention is not 1 - Converting to 1D array\n"
          ]
        },
        {
          "data": {
            "text/plain": [
              "array([0.09003057, 0.24472847, 0.66524096])"
            ]
          },
          "execution_count": 40,
          "metadata": {},
          "output_type": "execute_result"
        }
      ],
      "source": [
        "def softmax(arr: np.array) -> np.array:\n",
        "    try:\n",
        "        if(arr.ndim != 1):\n",
        "            raise Exception(\"Array Dimention is not 1 - Converting to 1D array\")\n",
        "    except Exception as e:\n",
        "        print(e)\n",
        "        arr = np.ravel(arr)\n",
        "\n",
        "    ans = np.exp(arr) / sum(np.exp(arr))  \n",
        "    return ans\n",
        "\n",
        "softmax(np.array([[[1],[2],[3]]]))"
      ]
    },
    {
      "cell_type": "markdown",
      "metadata": {
        "id": "k4JWSwWu_HXg"
      },
      "source": [
        "#### `Q-12:` Vertical stack\n",
        "\n",
        "Write a python function that accepts infinite number of numpy arrays and do the vertical stack to them. Then return that new array as result. The function only accepts the numpy array, otherwise raise error."
      ]
    },
    {
      "cell_type": "code",
      "execution_count": 43,
      "metadata": {
        "id": "dhtnbSj6NP8z"
      },
      "outputs": [
        {
          "data": {
            "text/plain": [
              "array([[0.        , 1.        , 2.        , 3.        , 4.        ],\n",
              "       [5.        , 6.        , 7.        , 8.        , 9.        ],\n",
              "       [1.        , 1.        , 1.        , 1.        , 1.        ],\n",
              "       [1.        , 1.        , 1.        , 1.        , 1.        ],\n",
              "       [0.92925552, 0.16312722, 0.45212555, 0.93121306, 0.61356256],\n",
              "       [0.4176856 , 0.09851088, 0.09406918, 0.97888411, 0.23794298]])"
            ]
          },
          "execution_count": 43,
          "metadata": {},
          "output_type": "execute_result"
        }
      ],
      "source": [
        "def vertical_stack(*args):\n",
        "    for i in args:\n",
        "        if type(i) != np.ndarray:\n",
        "            raise TypeError(\"Requires Numpy Array\")\n",
        "    return np.vstack(args)\n",
        "\n",
        "a = np.arange(10).reshape(2, -1)\n",
        "b = np.repeat(1, 10).reshape(2, -1)\n",
        "c = np.random.random((2,5))\n",
        "vertical_stack(a,b,c)"
      ]
    },
    {
      "cell_type": "markdown",
      "metadata": {
        "id": "A-dMVlPPSBTT"
      },
      "source": [
        "#### `Q-15:` Swap column-1 of array with column-2 in the array."
      ]
    },
    {
      "cell_type": "code",
      "execution_count": 50,
      "metadata": {
        "id": "3RtngM9-Q6S7"
      },
      "outputs": [
        {
          "data": {
            "text/plain": [
              "array([[0.98684528, 0.50579078, 0.02746836, 0.72034321],\n",
              "       [0.05891077, 0.47339317, 0.29408777, 0.67619435],\n",
              "       [0.67762269, 0.51372701, 0.21346949, 0.99900293]])"
            ]
          },
          "execution_count": 50,
          "metadata": {},
          "output_type": "execute_result"
        }
      ],
      "source": [
        "arr = np.random.random(size = (3,4))\n",
        "arr"
      ]
    },
    {
      "cell_type": "code",
      "execution_count": 51,
      "metadata": {
        "id": "ueoMV_LlSnGU"
      },
      "outputs": [
        {
          "data": {
            "text/plain": [
              "array([[0.50579078, 0.50579078, 0.02746836, 0.72034321],\n",
              "       [0.47339317, 0.47339317, 0.29408777, 0.67619435],\n",
              "       [0.51372701, 0.51372701, 0.21346949, 0.99900293]])"
            ]
          },
          "execution_count": 51,
          "metadata": {},
          "output_type": "execute_result"
        }
      ],
      "source": [
        "arr[:, 0], arr[:, 1] = arr[:, 1], arr[:, 0]\n",
        "arr"
      ]
    },
    {
      "cell_type": "markdown",
      "metadata": {
        "id": "cB4VMexvS6Zi"
      },
      "source": [
        "#### `Q-16:` Replace odd elements in arrays with -1."
      ]
    },
    {
      "cell_type": "code",
      "execution_count": 53,
      "metadata": {
        "id": "Bt83nXEVS5O4"
      },
      "outputs": [
        {
          "data": {
            "text/plain": [
              "array([[-1, -1,  2, -1],\n",
              "       [-1, -1, -1,  2],\n",
              "       [-1, -1,  8,  4]])"
            ]
          },
          "execution_count": 53,
          "metadata": {},
          "output_type": "execute_result"
        }
      ],
      "source": [
        "arr = np.random.randint(low = 1, high = 10, size = (3,4))\n",
        "arr[arr % 2 != 0] = -1\n",
        "arr"
      ]
    },
    {
      "cell_type": "markdown",
      "metadata": {
        "id": "kf_qvmBxWIT_"
      },
      "source": [
        "#### `Q-17:` Given two arrays of same shape make an array of max out of two arrays. (Numpy way)\n",
        "```python\n",
        "a = np.array([6,3,1,5,8])\n",
        "b = np.array([3,2,1,7,2])\n",
        "\n",
        "Result-> [6 3 1 7 8]\n",
        "```"
      ]
    },
    {
      "cell_type": "code",
      "execution_count": 54,
      "metadata": {
        "id": "TB9ZvF-EZSfu"
      },
      "outputs": [
        {
          "data": {
            "text/plain": [
              "array([6, 3, 1, 7, 8])"
            ]
          },
          "execution_count": 54,
          "metadata": {},
          "output_type": "execute_result"
        }
      ],
      "source": [
        "a = np.array([6,3,1,5,8])\n",
        "b = np.array([3,2,1,7,2])\n",
        "a[a < b] = b[a < b]\n",
        "a"
      ]
    },
    {
      "cell_type": "markdown",
      "metadata": {
        "id": "iOQLUIeGc3zA"
      },
      "source": [
        "#### `Q-18` Answer below asked questions on given array:\n",
        "1. Fetch Every alternate column of the array\n",
        "2. Normalise the given array\n",
        "\n",
        "https://en.wikipedia.org/wiki/Normalization_(statistics)\n",
        "\n",
        "There are different form of normalisation for this question use below formula.\n",
        "\n",
        "$$\\large X_{normalized} = \\frac{X - X_{min}}{X_{max} - X_{min}}$$\n",
        "\n",
        "```python\n",
        "arr1=np.random.randint(low=1, high=10000, size=40).reshape(8,5)\n",
        "```"
      ]
    },
    {
      "cell_type": "code",
      "execution_count": 58,
      "metadata": {
        "colab": {
          "base_uri": "https://localhost:8080/"
        },
        "id": "vjSm18k3d_1p",
        "outputId": "83d23b61-d2ae-41bc-e91e-0e0722667521"
      },
      "outputs": [
        {
          "data": {
            "text/plain": [
              "array([[0.93, 0.23, 0.65],\n",
              "       [0.87, 0.49, 0.58],\n",
              "       [0.52, 0.66, 0.  ],\n",
              "       [0.04, 0.63, 0.35],\n",
              "       [0.43, 0.31, 0.79],\n",
              "       [0.92, 0.81, 1.  ],\n",
              "       [0.3 , 0.2 , 0.63],\n",
              "       [0.48, 0.74, 0.59]])"
            ]
          },
          "execution_count": 58,
          "metadata": {},
          "output_type": "execute_result"
        }
      ],
      "source": [
        "# Given\n",
        "arr = np.random.randint(low=1, high=10000, size=40).reshape(8,5)\n",
        "np.round((arr[:, ::2] - np.min(arr[:, ::2])) / (np.max(arr[:, ::2]) - np.min(arr[:, ::2])), decimals = 2)"
      ]
    },
    {
      "cell_type": "markdown",
      "metadata": {
        "id": "jCzsVEKLgGNo"
      },
      "source": [
        "#### `Q-19:` Write a function which will accept 2 arguments.\n",
        "First: A 1D numpy array arr\n",
        "\n",
        "Second: An integer n {Please make sure n<=len(arr)}\n",
        "\n",
        "Output: The output should be the nth largest item out of the array\n",
        "```Python\n",
        "Example1 : arr = (12,34,40,7,1,0) and n = 3, the output should be 12\n",
        "Example2 : arr = (12,34,40,7,1,0) and n = 1, the output should be 40\n",
        "```"
      ]
    },
    {
      "cell_type": "code",
      "execution_count": 61,
      "metadata": {
        "id": "J4AzkDk7gXSG"
      },
      "outputs": [
        {
          "data": {
            "text/plain": [
              "34"
            ]
          },
          "execution_count": 61,
          "metadata": {},
          "output_type": "execute_result"
        }
      ],
      "source": [
        "def nthmax(arr, n):\n",
        "    if n > len(arr):\n",
        "        raise IndexError(\"n is way out of limit\")\n",
        "    arr = np.sort(arr)\n",
        "    return arr[-n]\n",
        "nthmax(np.array([12,34,40,7,1,0]),2)"
      ]
    },
    {
      "cell_type": "markdown",
      "metadata": {
        "id": "ja0xPCgjhBsg"
      },
      "source": [
        "#### `Q-20:` Create the following pattern without hardcoding. Use only numpy functions and the below input array a.\n",
        "```Python\n",
        "Input: a = np.array([1,2,3])\n",
        "Output: array([1, 1, 1, 2, 2, 2, 3, 3, 3, 1, 2, 3, 1, 2, 3, 1, 2, 3])\n",
        "```"
      ]
    },
    {
      "cell_type": "code",
      "execution_count": 77,
      "metadata": {
        "id": "CndS8TTNhG0F"
      },
      "outputs": [
        {
          "data": {
            "text/plain": [
              "array([1, 1, 1, 2, 2, 2, 3, 3, 3, 1, 2, 3, 1, 2, 3, 1, 2, 3])"
            ]
          },
          "execution_count": 77,
          "metadata": {},
          "output_type": "execute_result"
        }
      ],
      "source": [
        "a = np.array([1,2,3])\n",
        "np.hstack([np.repeat(a, 3), np.tile(a, 3)])"
      ]
    },
    {
      "cell_type": "code",
      "execution_count": 71,
      "metadata": {},
      "outputs": [
        {
          "data": {
            "text/plain": [
              "array([1, 1, 1, 2, 2, 2, 3, 3, 3, 4, 4, 4, 5, 5, 5, 6, 6, 6])"
            ]
          },
          "execution_count": 71,
          "metadata": {},
          "output_type": "execute_result"
        }
      ],
      "source": [
        "np.repeat(a, 3) # repeat each element n times"
      ]
    },
    {
      "cell_type": "code",
      "execution_count": 76,
      "metadata": {},
      "outputs": [
        {
          "data": {
            "text/plain": [
              "(4, 2, 10)"
            ]
          },
          "execution_count": 76,
          "metadata": {},
          "output_type": "execute_result"
        }
      ],
      "source": [
        "a = np.tile(np.random.random(size = (4, 2, 5)), 2)\n",
        "# The number of elements from every dimention except the outer most dimention will be become n times"
      ]
    }
  ],
  "metadata": {
    "colab": {
      "provenance": []
    },
    "kernelspec": {
      "display_name": "Python 3",
      "name": "python3"
    },
    "language_info": {
      "codemirror_mode": {
        "name": "ipython",
        "version": 3
      },
      "file_extension": ".py",
      "mimetype": "text/x-python",
      "name": "python",
      "nbconvert_exporter": "python",
      "pygments_lexer": "ipython3",
      "version": "3.12.2"
    }
  },
  "nbformat": 4,
  "nbformat_minor": 0
}
