{
  "cells": [
    {
      "cell_type": "markdown",
      "metadata": {
        "id": "xpOwOdhqlE9R"
      },
      "source": [
        "#### `Q-1:` Generate a 3x4 matrix with random values ranging from 0 to 100. Perform the following tasks: \n",
        "- Sort the matrix using np.sort().\n",
        "- Sort the matrix based on the values in the second column.\n",
        "- Sort the matrix based on the maximum value in each row.\n",
        "- Sort the matrix based on individual element values.\n",
        "\n",
        "Here are some examples:\n",
        "```Python\n",
        "Given array:\n",
        "    [[70, 60, 48],\n",
        "    [ 6, 63, 93],\n",
        "    [92, 90, 74],\n",
        "    [15, 93, 96]]\n",
        "```\n",
        "```Python\n",
        "i. Sorted using np.sort:\n",
        "[[48, 60, 70],\n",
        " [ 6, 63, 93],\n",
        " [74, 90, 92],\n",
        " [15, 93, 96]]\n",
        "\n",
        "ii. Sorted based on the 2nd column:\n",
        "[[70, 60, 48],\n",
        " [ 6, 63, 93],\n",
        " [92, 90, 74],\n",
        " [15, 93, 96]]\n",
        "\n",
        "iii. Sorted by the maximum value in each row (ascending):\n",
        "[[70, 60, 48],\n",
        " [92, 90, 74],\n",
        " [ 6, 63, 93],\n",
        " [15, 93, 96]]\n",
        "\n",
        "iv. Sorted by individual element values:\n",
        "[[ 6, 15, 48],\n",
        " [60, 63, 70],\n",
        " [74, 90, 92],\n",
        " [93, 93, 96]]\n",
        "```"
      ]
    },
    {
      "cell_type": "code",
      "execution_count": 1,
      "metadata": {
        "id": "Auy-guUwlALv"
      },
      "outputs": [
        {
          "data": {
            "text/plain": [
              "array([[74, 90, 92],\n",
              "       [ 6, 63, 93],\n",
              "       [15, 93, 96],\n",
              "       [48, 60, 70]])"
            ]
          },
          "execution_count": 1,
          "metadata": {},
          "output_type": "execute_result"
        }
      ],
      "source": [
        "import numpy as np\n",
        "arr = np.array([[92, 90, 74], [6, 63, 93], [15, 93, 96], [70, 60, 48]])\n",
        "np.sort(arr, axis = 1)"
      ]
    },
    {
      "cell_type": "code",
      "execution_count": 3,
      "metadata": {},
      "outputs": [
        {
          "data": {
            "text/plain": [
              "array([[70, 60, 48],\n",
              "       [ 6, 63, 93],\n",
              "       [92, 90, 74],\n",
              "       [15, 93, 96]])"
            ]
          },
          "execution_count": 3,
          "metadata": {},
          "output_type": "execute_result"
        }
      ],
      "source": [
        "arr[arr[:, 1].argsort()]"
      ]
    },
    {
      "cell_type": "code",
      "execution_count": 11,
      "metadata": {},
      "outputs": [
        {
          "data": {
            "text/plain": [
              "array([2, 1, 0, 3], dtype=int64)"
            ]
          },
          "execution_count": 11,
          "metadata": {},
          "output_type": "execute_result"
        }
      ],
      "source": [
        "np.max(arr, axis = 1).argsort()[::-1]"
      ]
    },
    {
      "cell_type": "code",
      "execution_count": 12,
      "metadata": {},
      "outputs": [
        {
          "data": {
            "text/plain": [
              "array([[15, 93, 96],\n",
              "       [ 6, 63, 93],\n",
              "       [92, 90, 74],\n",
              "       [70, 60, 48]])"
            ]
          },
          "execution_count": 12,
          "metadata": {},
          "output_type": "execute_result"
        }
      ],
      "source": [
        "arr[np.max(arr, axis = 1).argsort()[::-1]]"
      ]
    },
    {
      "cell_type": "code",
      "execution_count": 15,
      "metadata": {},
      "outputs": [
        {
          "data": {
            "text/plain": [
              "array([[ 6, 15, 48],\n",
              "       [60, 63, 70],\n",
              "       [74, 90, 92],\n",
              "       [93, 93, 96]])"
            ]
          },
          "execution_count": 15,
          "metadata": {},
          "output_type": "execute_result"
        }
      ],
      "source": [
        "np.sort(arr, axis = None).reshape(arr.shape)\n",
        "# np.sort(arr.ravel()).reshape(arr.shape)"
      ]
    },
    {
      "cell_type": "markdown",
      "metadata": {
        "id": "Jx_I3gx9lBay"
      },
      "source": [
        "#### `Q-2:` Given an array of marks for 5 students in 4 subjects, perform the following tasks:\n",
        "- Add marks for an additional subject for each student in the same array.\n",
        "- Add marks for two new students in the respective 5 subjects (including the additional subject from the previous task).\n",
        "- Add an extra column with the sum of marks for all 5 subjects.\n",
        "- Sort the array in non-ascending order based on the total marks column (added in the previous task) and display the top 2 rows.\n",
        "\n",
        "Note: Adjust the dimensions of the arrays during concatenation or appending if necessary.\n",
        "\n",
        "Given Array:\n",
        "```Python\n",
        "marks = [[13, 10, 9, 33],\n",
        "         [63, 46, 90, 42],\n",
        "         [39, 76, 13, 29],\n",
        "         [82, 9, 29, 78],\n",
        "         [67, 61, 59, 36]]\n",
        "\n",
        "extra_subject = [41, 87, 72, 36, 92]\n",
        "\n",
        "Two extra students' records:\n",
        "rec1 = [77, 83, 98, 95, 89]\n",
        "rec2 = [92, 71, 52, 61, 53]\n",
        "```"
      ]
    },
    {
      "cell_type": "code",
      "execution_count": 25,
      "metadata": {
        "id": "7YKsWO2olMkq"
      },
      "outputs": [
        {
          "data": {
            "text/plain": [
              "array([[13, 10,  9, 33, 41],\n",
              "       [63, 46, 90, 42, 87],\n",
              "       [39, 76, 13, 29, 72],\n",
              "       [82,  9, 29, 78, 36],\n",
              "       [67, 61, 59, 36, 92]])"
            ]
          },
          "execution_count": 25,
          "metadata": {},
          "output_type": "execute_result"
        }
      ],
      "source": [
        "arr = np.array([\n",
        "    [13, 10, 9, 33],\n",
        "    [63, 46, 90, 42],\n",
        "    [39, 76, 13, 29],\n",
        "    [82, 9, 29, 78],\n",
        "    [67, 61, 59, 36]\n",
        "])\n",
        "extra_subject = np.array([41, 87, 72, 36, 92])\n",
        "arr = np.append(arr, extra_subject.reshape(-1, 1), axis = 1)\n",
        "arr"
      ]
    },
    {
      "cell_type": "code",
      "execution_count": 29,
      "metadata": {},
      "outputs": [
        {
          "data": {
            "text/plain": [
              "array([[13, 10,  9, 33, 41],\n",
              "       [63, 46, 90, 42, 87],\n",
              "       [39, 76, 13, 29, 72],\n",
              "       [82,  9, 29, 78, 36],\n",
              "       [67, 61, 59, 36, 92],\n",
              "       [77, 83, 98, 95, 89],\n",
              "       [92, 71, 52, 61, 53]])"
            ]
          },
          "execution_count": 29,
          "metadata": {},
          "output_type": "execute_result"
        }
      ],
      "source": [
        "rec1 = np.array([77, 83, 98, 95, 89])\n",
        "rec2 = np.array([92, 71, 52, 61, 53])\n",
        "arr = np.concatenate([arr, rec1.reshape(1, -1), rec2.reshape(1, -1)], axis = 0)\n",
        "arr"
      ]
    },
    {
      "cell_type": "code",
      "execution_count": 33,
      "metadata": {},
      "outputs": [
        {
          "data": {
            "text/plain": [
              "array([[ 13,  10,   9,  33,  41, 106],\n",
              "       [ 63,  46,  90,  42,  87, 328],\n",
              "       [ 39,  76,  13,  29,  72, 229],\n",
              "       [ 82,   9,  29,  78,  36, 234],\n",
              "       [ 67,  61,  59,  36,  92, 315],\n",
              "       [ 77,  83,  98,  95,  89, 442],\n",
              "       [ 92,  71,  52,  61,  53, 329]])"
            ]
          },
          "execution_count": 33,
          "metadata": {},
          "output_type": "execute_result"
        }
      ],
      "source": [
        "arr = np.append(arr, np.sum(arr, axis = 1).reshape(-1, 1), axis = 1)\n",
        "arr"
      ]
    },
    {
      "cell_type": "code",
      "execution_count": 41,
      "metadata": {},
      "outputs": [
        {
          "data": {
            "text/plain": [
              "array([[ 77,  83,  98,  95,  89, 442],\n",
              "       [ 92,  71,  52,  61,  53, 329]])"
            ]
          },
          "execution_count": 41,
          "metadata": {},
          "output_type": "execute_result"
        }
      ],
      "source": [
        "arr[arr[:, -1].argsort()[:-3:-1], ::]"
      ]
    },
    {
      "cell_type": "markdown",
      "metadata": {
        "id": "VmOyK_8klRqR"
      },
      "source": [
        "#### `Q-3:` Extract unique rows and columns from a 2D array.\n",
        "```Python\n",
        "arr = np.array([[1,2,3,3,1,1],\n",
        "                [0,9,1,2,8,8],\n",
        "                [1,2,3,8,8,8],\n",
        "                [1,2,3,3,1,1]])\n",
        "```\n",
        "Expected Output:\n",
        "```Python\n",
        "Unique Rows:\n",
        "[[0, 9, 1, 2, 8, 8],\n",
        " [1, 2, 3, 3, 1, 1],\n",
        " [1, 2, 3, 8, 8, 8]]\n",
        "\n",
        "Unique Columns:\n",
        "[[1, 1, 2, 3, 3],\n",
        " [0, 8, 9, 1, 2],\n",
        " [1, 8, 2, 3, 8],\n",
        " [1, 1, 2, 3, 3]]\n",
        "```"
      ]
    },
    {
      "cell_type": "code",
      "execution_count": 42,
      "metadata": {
        "id": "LJl10VQrlU5q"
      },
      "outputs": [
        {
          "data": {
            "text/plain": [
              "array([[1, 1, 2, 3, 3],\n",
              "       [0, 8, 9, 1, 2],\n",
              "       [1, 8, 2, 3, 8],\n",
              "       [1, 1, 2, 3, 3]])"
            ]
          },
          "execution_count": 42,
          "metadata": {},
          "output_type": "execute_result"
        }
      ],
      "source": [
        "arr = np.array([\n",
        "    [1,2,3,3,1,1],\n",
        "    [0,9,1,2,8,8],\n",
        "    [1,2,3,8,8,8],\n",
        "    [1,2,3,3,1,1]\n",
        "])\n",
        "np.unique(arr, axis = 1)"
      ]
    },
    {
      "cell_type": "code",
      "execution_count": 43,
      "metadata": {},
      "outputs": [
        {
          "data": {
            "text/plain": [
              "array([[0, 9, 1, 2, 8, 8],\n",
              "       [1, 2, 3, 3, 1, 1],\n",
              "       [1, 2, 3, 8, 8, 8]])"
            ]
          },
          "execution_count": 43,
          "metadata": {},
          "output_type": "execute_result"
        }
      ],
      "source": [
        "arr = np.array([\n",
        "    [1,2,3,3,1,1],\n",
        "    [0,9,1,2,8,8],\n",
        "    [1,2,3,8,8,8],\n",
        "    [1,2,3,3,1,1]\n",
        "])\n",
        "np.unique(arr, axis = 0)"
      ]
    },
    {
      "cell_type": "markdown",
      "metadata": {
        "id": "RaXwVkywlWY2"
      },
      "source": [
        "#### `Q-4:` Flip given 2-D array along both axes at the same time."
      ]
    },
    {
      "cell_type": "code",
      "execution_count": 1,
      "metadata": {
        "id": "mN7-4G8Kleeq"
      },
      "outputs": [
        {
          "data": {
            "text/plain": [
              "array([[1, 1, 3, 3, 2, 1],\n",
              "       [8, 8, 8, 3, 2, 1],\n",
              "       [8, 8, 2, 1, 9, 0],\n",
              "       [1, 1, 3, 3, 2, 1]])"
            ]
          },
          "execution_count": 1,
          "metadata": {},
          "output_type": "execute_result"
        }
      ],
      "source": [
        "import numpy as np\n",
        "arr = np.array([\n",
        "    [1,2,3,3,1,1],\n",
        "    [0,9,1,2,8,8],\n",
        "    [1,2,3,8,8,8],\n",
        "    [1,2,3,3,1,1]\n",
        "])\n",
        "np.flip(np.flip(arr, axis = 0), axis = 1)"
      ]
    },
    {
      "cell_type": "markdown",
      "metadata": {
        "id": "X0S7BUNTlfoq"
      },
      "source": [
        "#### `Q-5:` Get row numbers of NumPy array having element larger than X.\n",
        "```Python\n",
        "arr = [[1,2,3,4,5],\n",
        "      [10,-3,30,4,5],\n",
        "      [3,2,5,-4,5],\n",
        "      [9,7,3,6,5]]\n",
        "\n",
        "X = 6\n",
        "```"
      ]
    },
    {
      "cell_type": "code",
      "execution_count": 6,
      "metadata": {
        "id": "bi8jRmWhlkBU"
      },
      "outputs": [
        {
          "data": {
            "text/plain": [
              "array([1, 3], dtype=int64)"
            ]
          },
          "execution_count": 6,
          "metadata": {},
          "output_type": "execute_result"
        }
      ],
      "source": [
        "arr = np.array([[1,2,3,4,5],\n",
        "      [10,-3,30,4,5],\n",
        "      [3,2,5,-4,5],\n",
        "      [9,7,3,6,5]])\n",
        "np.unique(np.where(arr > 6)[0])"
      ]
    },
    {
      "cell_type": "markdown",
      "metadata": {
        "id": "DSCQMo4mlnDG"
      },
      "source": [
        "#### `Q-6:` How to convert an array of arrays into a flat 1d array?\n"
      ]
    },
    {
      "cell_type": "code",
      "execution_count": 7,
      "metadata": {
        "id": "QZhSkUT2lsJW"
      },
      "outputs": [],
      "source": [
        "# These arrays are given.\n",
        "arr1 = np.arange(3)\n",
        "arr2 = np.arange(3,7)\n",
        "arr3 = np.arange(7,10)"
      ]
    },
    {
      "cell_type": "code",
      "execution_count": 9,
      "metadata": {
        "id": "f42OXNrFls0I"
      },
      "outputs": [
        {
          "data": {
            "text/plain": [
              "array([3, 4, 5, 6])"
            ]
          },
          "execution_count": 9,
          "metadata": {},
          "output_type": "execute_result"
        }
      ],
      "source": [
        "arr2.flatten()"
      ]
    },
    {
      "cell_type": "code",
      "execution_count": 10,
      "metadata": {},
      "outputs": [
        {
          "data": {
            "text/plain": [
              "array([7, 8, 9])"
            ]
          },
          "execution_count": 10,
          "metadata": {},
          "output_type": "execute_result"
        }
      ],
      "source": [
        "arr3.ravel()"
      ]
    },
    {
      "cell_type": "code",
      "execution_count": 11,
      "metadata": {},
      "outputs": [
        {
          "data": {
            "text/plain": [
              "array([7, 8, 9])"
            ]
          },
          "execution_count": 11,
          "metadata": {},
          "output_type": "execute_result"
        }
      ],
      "source": [
        "arr3.reshape(-1)"
      ]
    },
    {
      "cell_type": "markdown",
      "metadata": {
        "id": "A1J4oOVCluqO"
      },
      "source": [
        "#### `Q-7:` You are given a array. You have to find the minimum and maximum array element and remove that from the array.\n",
        "\n",
        "```python\n",
        "import numpy as np\n",
        "\n",
        "np.random.seed(400)\n",
        "arr = np.random.randint(100, 1000, 200).reshape((1, 200))\n",
        "```"
      ]
    },
    {
      "cell_type": "code",
      "execution_count": 13,
      "metadata": {
        "id": "c6kmgtUJlybZ"
      },
      "outputs": [
        {
          "data": {
            "text/plain": [
              "array([756, 198, 457, 769, 156, 989, 681, 112, 568, 717, 468, 278, 654,\n",
              "       638, 113, 496, 200, 450, 465, 623, 648, 519, 621, 335, 254, 932,\n",
              "       547, 869, 196, 305, 733, 279, 739, 284, 607, 560, 585, 944, 777,\n",
              "       181, 850, 724, 954, 475, 398, 271, 451, 791, 672, 504, 518, 640,\n",
              "       513, 264, 478, 431, 377, 174, 916, 937, 807, 106, 188, 318, 124,\n",
              "       803, 901, 368, 821, 123, 278, 254, 762, 170, 658, 233, 207, 707,\n",
              "       784, 708, 688, 129, 168, 543, 940, 747, 816, 727, 691, 731, 527,\n",
              "       220, 823, 658, 836, 936, 266, 564, 702, 922, 696, 108, 754, 870,\n",
              "       287, 541, 152, 498, 650, 267, 680, 197, 320, 529, 688, 844, 347,\n",
              "       736, 187, 588, 444, 855, 533, 362, 784, 326, 496, 760, 349, 419,\n",
              "       728, 838, 579, 631, 804, 572, 983, 809, 784, 608, 567, 664, 373,\n",
              "       728, 599, 428, 242, 681, 829, 356, 559, 643, 542, 965, 949, 361,\n",
              "       415, 566, 292, 363, 686, 478, 511, 235, 213, 971, 145, 530, 409,\n",
              "       479, 114, 545, 643, 683, 483, 618, 619, 951, 777, 762, 150, 369,\n",
              "       796, 767, 376, 224, 606, 781, 422, 138, 209, 127, 539, 440, 511,\n",
              "       174, 172, 488])"
            ]
          },
          "execution_count": 13,
          "metadata": {},
          "output_type": "execute_result"
        }
      ],
      "source": [
        "arr = np.random.randint(100, 1000, 200).reshape((1, 200))\n",
        "arr = arr[(np.max(arr) != arr) & (np.min(arr) != arr)]\n",
        "arr"
      ]
    },
    {
      "cell_type": "markdown",
      "metadata": {
        "id": "0dHN1sdnl0Jy"
      },
      "source": [
        "#### `Q-8:` You are given an arrays. You have to limit this array's elements between 100 to 200. $arr ∈ [100, 700]$. So replace those values accordingly with the minimum and maximum value. Then sort the array and perform the cumulative sum of that array."
      ]
    },
    {
      "cell_type": "code",
      "execution_count": 17,
      "metadata": {
        "id": "a3YF_E-Hlza7"
      },
      "outputs": [
        {
          "data": {
            "text/plain": [
              "array([ 100,  200,  400, 1100, 1800, 2500])"
            ]
          },
          "execution_count": 17,
          "metadata": {},
          "output_type": "execute_result"
        }
      ],
      "source": [
        "arr = np.array([1000, 900, 700, 200, 100, 90])\n",
        "np.cumsum(np.sort(np.clip(arr, a_max=700, a_min=100)), axis = 0)"
      ]
    },
    {
      "cell_type": "markdown",
      "metadata": {
        "id": "cXj90Susl4-I"
      },
      "source": [
        "#### `Q-9:` You are given a array ($arr ∈ [0, 1]$). First you have round off the elements upto 3 decimal places and compare that\n",
        "- 0th percentile == minimum value of the array\n",
        "- 100th percentile == maximum value of the array\n",
        "- also find the difference betwen 51th percenile and 50th percentile values"
      ]
    },
    {
      "cell_type": "code",
      "execution_count": 18,
      "metadata": {
        "id": "SgBEHodgl7Lo"
      },
      "outputs": [
        {
          "data": {
            "text/plain": [
              "True"
            ]
          },
          "execution_count": 18,
          "metadata": {},
          "output_type": "execute_result"
        }
      ],
      "source": [
        "arr = np.random.random(size = (100))\n",
        "arr = np.round(arr, decimals = 3)\n",
        "\n",
        "# 1st\n",
        "np.percentile(arr, 0) == np.min(arr)"
      ]
    },
    {
      "cell_type": "code",
      "execution_count": 19,
      "metadata": {},
      "outputs": [
        {
          "data": {
            "text/plain": [
              "True"
            ]
          },
          "execution_count": 19,
          "metadata": {},
          "output_type": "execute_result"
        }
      ],
      "source": [
        "# 2nd\n",
        "np.percentile(arr, 100) == np.max(arr)"
      ]
    },
    {
      "cell_type": "code",
      "execution_count": 20,
      "metadata": {},
      "outputs": [
        {
          "data": {
            "text/plain": [
              "0.0024899999999999922"
            ]
          },
          "execution_count": 20,
          "metadata": {},
          "output_type": "execute_result"
        }
      ],
      "source": [
        "# 3rd\n",
        "np.percentile(arr, 51) - np.percentile(arr, 50)"
      ]
    }
  ],
  "metadata": {
    "colab": {
      "provenance": []
    },
    "kernelspec": {
      "display_name": "Python 3",
      "name": "python3"
    },
    "language_info": {
      "codemirror_mode": {
        "name": "ipython",
        "version": 3
      },
      "file_extension": ".py",
      "mimetype": "text/x-python",
      "name": "python",
      "nbconvert_exporter": "python",
      "pygments_lexer": "ipython3",
      "version": "3.12.2"
    }
  },
  "nbformat": 4,
  "nbformat_minor": 0
}
