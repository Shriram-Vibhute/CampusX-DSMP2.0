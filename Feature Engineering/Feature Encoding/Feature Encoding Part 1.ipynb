{
  "cells": [
    {
      "cell_type": "code",
      "execution_count": 1,
      "metadata": {
        "id": "L8ZBLoOW_0SL"
      },
      "outputs": [],
      "source": [
        "import numpy as np\n",
        "import pandas as pd"
      ]
    },
    {
      "cell_type": "code",
      "execution_count": 3,
      "metadata": {
        "id": "UKWvkryE_7M5"
      },
      "outputs": [
        {
          "data": {
            "text/html": [
              "<div>\n",
              "<style scoped>\n",
              "    .dataframe tbody tr th:only-of-type {\n",
              "        vertical-align: middle;\n",
              "    }\n",
              "\n",
              "    .dataframe tbody tr th {\n",
              "        vertical-align: top;\n",
              "    }\n",
              "\n",
              "    .dataframe thead th {\n",
              "        text-align: right;\n",
              "    }\n",
              "</style>\n",
              "<table border=\"1\" class=\"dataframe\">\n",
              "  <thead>\n",
              "    <tr style=\"text-align: right;\">\n",
              "      <th></th>\n",
              "      <th>age</th>\n",
              "      <th>gender</th>\n",
              "      <th>review</th>\n",
              "      <th>education</th>\n",
              "      <th>purchased</th>\n",
              "    </tr>\n",
              "  </thead>\n",
              "  <tbody>\n",
              "    <tr>\n",
              "      <th>0</th>\n",
              "      <td>30</td>\n",
              "      <td>Female</td>\n",
              "      <td>Average</td>\n",
              "      <td>School</td>\n",
              "      <td>No</td>\n",
              "    </tr>\n",
              "    <tr>\n",
              "      <th>1</th>\n",
              "      <td>68</td>\n",
              "      <td>Female</td>\n",
              "      <td>Poor</td>\n",
              "      <td>UG</td>\n",
              "      <td>No</td>\n",
              "    </tr>\n",
              "    <tr>\n",
              "      <th>2</th>\n",
              "      <td>70</td>\n",
              "      <td>Female</td>\n",
              "      <td>Good</td>\n",
              "      <td>PG</td>\n",
              "      <td>No</td>\n",
              "    </tr>\n",
              "    <tr>\n",
              "      <th>3</th>\n",
              "      <td>72</td>\n",
              "      <td>Female</td>\n",
              "      <td>Good</td>\n",
              "      <td>PG</td>\n",
              "      <td>No</td>\n",
              "    </tr>\n",
              "    <tr>\n",
              "      <th>4</th>\n",
              "      <td>16</td>\n",
              "      <td>Female</td>\n",
              "      <td>Average</td>\n",
              "      <td>UG</td>\n",
              "      <td>No</td>\n",
              "    </tr>\n",
              "  </tbody>\n",
              "</table>\n",
              "</div>"
            ],
            "text/plain": [
              "   age  gender   review education purchased\n",
              "0   30  Female  Average    School        No\n",
              "1   68  Female     Poor        UG        No\n",
              "2   70  Female     Good        PG        No\n",
              "3   72  Female     Good        PG        No\n",
              "4   16  Female  Average        UG        No"
            ]
          },
          "execution_count": 3,
          "metadata": {},
          "output_type": "execute_result"
        }
      ],
      "source": [
        "df = pd.read_csv('customer.csv')\n",
        "df.head()"
      ]
    },
    {
      "cell_type": "markdown",
      "metadata": {
        "id": "1XZLY-ur2CvS"
      },
      "source": [
        "## Ordinal Encoding"
      ]
    },
    {
      "cell_type": "code",
      "execution_count": 5,
      "metadata": {
        "id": "feDh3z9k_-RG"
      },
      "outputs": [],
      "source": [
        "from sklearn.preprocessing import OrdinalEncoder\n",
        "from sklearn.model_selection import train_test_split"
      ]
    },
    {
      "cell_type": "code",
      "execution_count": 9,
      "metadata": {
        "id": "7EfNyVKzAXba"
      },
      "outputs": [],
      "source": [
        "X_train, X_test, y_train, y_test = train_test_split(df.loc[:,['review', 'education']], df.iloc[:,-1], test_size=0.2)"
      ]
    },
    {
      "cell_type": "code",
      "execution_count": 10,
      "metadata": {
        "colab": {
          "base_uri": "https://localhost:8080/",
          "height": 1000
        },
        "id": "KjtJP07VBWB-",
        "outputId": "86db4f80-63df-47a3-ea5c-e36a0348ee07"
      },
      "outputs": [
        {
          "data": {
            "text/html": [
              "<div>\n",
              "<style scoped>\n",
              "    .dataframe tbody tr th:only-of-type {\n",
              "        vertical-align: middle;\n",
              "    }\n",
              "\n",
              "    .dataframe tbody tr th {\n",
              "        vertical-align: top;\n",
              "    }\n",
              "\n",
              "    .dataframe thead th {\n",
              "        text-align: right;\n",
              "    }\n",
              "</style>\n",
              "<table border=\"1\" class=\"dataframe\">\n",
              "  <thead>\n",
              "    <tr style=\"text-align: right;\">\n",
              "      <th></th>\n",
              "      <th>review</th>\n",
              "      <th>education</th>\n",
              "    </tr>\n",
              "  </thead>\n",
              "  <tbody>\n",
              "    <tr>\n",
              "      <th>17</th>\n",
              "      <td>Poor</td>\n",
              "      <td>UG</td>\n",
              "    </tr>\n",
              "    <tr>\n",
              "      <th>44</th>\n",
              "      <td>Average</td>\n",
              "      <td>UG</td>\n",
              "    </tr>\n",
              "    <tr>\n",
              "      <th>39</th>\n",
              "      <td>Poor</td>\n",
              "      <td>PG</td>\n",
              "    </tr>\n",
              "    <tr>\n",
              "      <th>6</th>\n",
              "      <td>Good</td>\n",
              "      <td>School</td>\n",
              "    </tr>\n",
              "    <tr>\n",
              "      <th>25</th>\n",
              "      <td>Good</td>\n",
              "      <td>School</td>\n",
              "    </tr>\n",
              "  </tbody>\n",
              "</table>\n",
              "</div>"
            ],
            "text/plain": [
              "     review education\n",
              "17     Poor        UG\n",
              "44  Average        UG\n",
              "39     Poor        PG\n",
              "6      Good    School\n",
              "25     Good    School"
            ]
          },
          "execution_count": 10,
          "metadata": {},
          "output_type": "execute_result"
        }
      ],
      "source": [
        "X_train.head()"
      ]
    },
    {
      "cell_type": "code",
      "execution_count": 11,
      "metadata": {
        "id": "H1GvrzlzBXaW"
      },
      "outputs": [],
      "source": [
        "# specify order\n",
        "oe = OrdinalEncoder(\n",
        "    categories=[['Poor','Average','Good'],['School','UG','PG']]\n",
        ") \n",
        "# You have to mention the categories in the order of lower importance to higher otherwise encoder will automatically assign new categories as per they come into picture."
      ]
    },
    {
      "cell_type": "code",
      "execution_count": 12,
      "metadata": {
        "id": "E5iHLC0gBgS_"
      },
      "outputs": [
        {
          "data": {
            "text/plain": [
              "array([[0., 1.],\n",
              "       [1., 1.],\n",
              "       [0., 2.],\n",
              "       [2., 0.],\n",
              "       [2., 0.]])"
            ]
          },
          "execution_count": 12,
          "metadata": {},
          "output_type": "execute_result"
        }
      ],
      "source": [
        "X_train = oe.fit_transform(X_train)\n",
        "X_test = oe.transform(X_test) # Only transform because of data leakage problem\n",
        "\n",
        "X_train[:5]"
      ]
    },
    {
      "cell_type": "code",
      "execution_count": 17,
      "metadata": {
        "colab": {
          "base_uri": "https://localhost:8080/"
        },
        "id": "b54zmN1HB-V5",
        "outputId": "03943ad0-c0e7-4c27-e542-71099cb54fe8"
      },
      "outputs": [
        {
          "name": "stdout",
          "output_type": "stream",
          "text": [
            "[array(['Poor', 'Average', 'Good'], dtype=object), array(['School', 'UG', 'PG'], dtype=object)]\n",
            "['review' 'education']\n",
            "2\n"
          ]
        },
        {
          "data": {
            "text/plain": [
              "array(['review', 'education'], dtype=object)"
            ]
          },
          "execution_count": 17,
          "metadata": {},
          "output_type": "execute_result"
        }
      ],
      "source": [
        "# Attributes\n",
        "print(oe.categories_)\n",
        "print(oe.feature_names_in_)\n",
        "print(oe.n_features_in_)\n",
        "\n",
        "oe.get_feature_names_out()"
      ]
    },
    {
      "cell_type": "code",
      "execution_count": 20,
      "metadata": {
        "colab": {
          "base_uri": "https://localhost:8080/"
        },
        "id": "IUmuArzBCJeK",
        "outputId": "6eec941f-f07d-46ee-e522-bc4328aa5a4e"
      },
      "outputs": [
        {
          "data": {
            "text/plain": [
              "array([['Poor', 'PG']], dtype=object)"
            ]
          },
          "execution_count": 20,
          "metadata": {},
          "output_type": "execute_result"
        }
      ],
      "source": [
        "# Inverse Encoding\n",
        "oe.inverse_transform(np.array([[0,2]])) # The passing array must be in 2D"
      ]
    },
    {
      "cell_type": "code",
      "execution_count": 22,
      "metadata": {
        "colab": {
          "base_uri": "https://localhost:8080/"
        },
        "id": "7hqoCe-SJMHU",
        "outputId": "e1316a99-d6d8-47b2-ae94-278b241a64c2"
      },
      "outputs": [
        {
          "data": {
            "text/plain": [
              "array([[ 0., -1.]])"
            ]
          },
          "execution_count": 22,
          "metadata": {},
          "output_type": "execute_result"
        }
      ],
      "source": [
        "# Handling unknown value\n",
        "oe = OrdinalEncoder(\n",
        "    categories=[['Poor','Average','Good'],['School','UG','PG']],\n",
        "    handle_unknown='use_encoded_value', # The value is provided with unknown_value parameter - This will be applied for all the columns that have been encoded through this single encoding object\n",
        "    unknown_value=-1 # Encoding value\n",
        ")\n",
        "'''\n",
        "The handle_unknown parameter determines how the encoder should handle categories that were not seen during the training phase (i.e., new categories that appear during transformation). There are two possible values:\n",
        "\n",
        "- 'error' (default): Raises an error when an unknown category is encountered during transformation.\n",
        "\n",
        "- 'use_encoded_value': When this option is used, you must also specify an unknown_value parameter. Any unknown categories encountered during transformation will be encoded with this specified value. In your code example, unknown categories will be encoded as -1.\n",
        "'''\n",
        "\n",
        "X_train, X_test, y_train, y_test = train_test_split(df.loc[:,['review', 'education']], df.iloc[:,-1], test_size=0.2)\n",
        "X_train = oe.fit_transform(X_train)\n",
        "\n",
        "# Create a DataFrame with proper column names to avoid UserWarning\n",
        "test_data = pd.DataFrame([['Poor', 'college']], columns=['review', 'education'])\n",
        "oe.transform(test_data)"
      ]
    },
    {
      "cell_type": "code",
      "execution_count": 24,
      "metadata": {
        "colab": {
          "base_uri": "https://localhost:8080/"
        },
        "id": "TTQMhiVfNIz7",
        "outputId": "6cbc8619-8cb0-469c-b2a0-78e167705408"
      },
      "outputs": [
        {
          "data": {
            "text/plain": [
              "array([['cat'],\n",
              "       ['cat'],\n",
              "       ['horse'],\n",
              "       ['rabbit'],\n",
              "       ['rabbit']], dtype=object)"
            ]
          },
          "execution_count": 24,
          "metadata": {},
          "output_type": "execute_result"
        }
      ],
      "source": [
        "# handling infrequent/rare categories\n",
        "X = np.array([['dog'] * 5 + ['cat'] * 20 + ['rabbit'] * 10 +['snake'] * 3 + ['horse'] * 2], dtype=object).T\n",
        "np.random.permutation(X)[:5, :]"
      ]
    },
    {
      "cell_type": "code",
      "execution_count": 27,
      "metadata": {},
      "outputs": [
        {
          "data": {
            "text/plain": [
              "cat       20\n",
              "rabbit    10\n",
              "dog        5\n",
              "snake      3\n",
              "horse      2\n",
              "Name: count, dtype: int64"
            ]
          },
          "execution_count": 27,
          "metadata": {},
          "output_type": "execute_result"
        }
      ],
      "source": [
        "pd.Series(X.ravel()).value_counts()"
      ]
    },
    {
      "cell_type": "code",
      "execution_count": 32,
      "metadata": {
        "id": "88Ag6Wzz45-C"
      },
      "outputs": [],
      "source": [
        "# By using max_categories parameter\n",
        "enc = OrdinalEncoder(max_categories=4).fit(X)\n",
        "# The lowest n categories are considered as rare categories."
      ]
    },
    {
      "cell_type": "code",
      "execution_count": 34,
      "metadata": {
        "colab": {
          "base_uri": "https://localhost:8080/"
        },
        "id": "jE_APwgi6cNb",
        "outputId": "b7dc6556-9073-45be-ddec-fa5adeab05a4"
      },
      "outputs": [
        {
          "data": {
            "text/plain": [
              "[array(['horse', 'snake'], dtype=object)]"
            ]
          },
          "execution_count": 34,
          "metadata": {},
          "output_type": "execute_result"
        }
      ],
      "source": [
        "enc.infrequent_categories_"
      ]
    },
    {
      "cell_type": "code",
      "execution_count": 37,
      "metadata": {
        "colab": {
          "base_uri": "https://localhost:8080/"
        },
        "id": "5jI7v-NI69yZ",
        "outputId": "4f7f17f2-1bf7-44c3-b280-49787b707c77"
      },
      "outputs": [
        {
          "data": {
            "text/plain": [
              "array([[0.],\n",
              "       [2.],\n",
              "       [3.],\n",
              "       [1.],\n",
              "       [3.]])"
            ]
          },
          "execution_count": 37,
          "metadata": {},
          "output_type": "execute_result"
        }
      ],
      "source": [
        "enc.transform(np.array([['cat','rabbit','snake','dog','horse']]).reshape(5,1))"
      ]
    },
    {
      "cell_type": "code",
      "execution_count": 38,
      "metadata": {
        "colab": {
          "base_uri": "https://localhost:8080/"
        },
        "id": "iBsp7bxK7MCI",
        "outputId": "9a81c425-c781-46b6-d3f1-44e126bd6b22"
      },
      "outputs": [
        {
          "data": {
            "text/plain": [
              "[array(['horse', 'snake'], dtype=object)]"
            ]
          },
          "execution_count": 38,
          "metadata": {},
          "output_type": "execute_result"
        }
      ],
      "source": [
        "# By using min_frequency parameter\n",
        "enc = OrdinalEncoder(min_frequency=4).fit(X) # By using frequency threshold\n",
        "enc.infrequent_categories_"
      ]
    },
    {
      "cell_type": "code",
      "execution_count": 39,
      "metadata": {
        "colab": {
          "base_uri": "https://localhost:8080/"
        },
        "id": "6ffIwLzB7X0X",
        "outputId": "f960afa6-ef48-4f2a-c611-3026a2b3c268"
      },
      "outputs": [
        {
          "data": {
            "text/plain": [
              "array([[0.],\n",
              "       [2.],\n",
              "       [3.],\n",
              "       [1.],\n",
              "       [3.]])"
            ]
          },
          "execution_count": 39,
          "metadata": {},
          "output_type": "execute_result"
        }
      ],
      "source": [
        "enc.transform(np.array([['cat','rabbit','snake','dog','horse']]).reshape(5,1))"
      ]
    },
    {
      "cell_type": "code",
      "execution_count": 40,
      "metadata": {
        "colab": {
          "base_uri": "https://localhost:8080/"
        },
        "id": "wwLXweWC53JO",
        "outputId": "f6948f10-ae74-4d7f-bcbe-6f21dd932d9d"
      },
      "outputs": [
        {
          "name": "stdout",
          "output_type": "stream",
          "text": [
            "[[ 0.]\n",
            " [-1.]\n",
            " [ 1.]\n",
            " [ 2.]\n",
            " [-1.]]\n"
          ]
        }
      ],
      "source": [
        "# handling missing data\n",
        "data = [['Cat'], [np.nan], ['Dog'], ['Fish'], [np.nan]]\n",
        "encoder = OrdinalEncoder(encoded_missing_value=-1)\n",
        "encoded_data = encoder.fit_transform(data)\n",
        "\n",
        "print(encoded_data)"
      ]
    },
    {
      "cell_type": "markdown",
      "metadata": {},
      "source": [
        "---"
      ]
    },
    {
      "cell_type": "markdown",
      "metadata": {
        "id": "FuXVnZZ3AWj3"
      },
      "source": [
        "## Label Encoding"
      ]
    },
    {
      "cell_type": "code",
      "execution_count": 43,
      "metadata": {
        "id": "8Sh0XzJi8DDg"
      },
      "outputs": [],
      "source": [
        "X_train, X_test, y_train, y_test = train_test_split(df.iloc[:,1:3], df.iloc[:,-1], test_size=0.2)"
      ]
    },
    {
      "cell_type": "code",
      "execution_count": 44,
      "metadata": {
        "id": "qC6QlpTQAe0M"
      },
      "outputs": [],
      "source": [
        "from sklearn.preprocessing import LabelEncoder"
      ]
    },
    {
      "cell_type": "code",
      "execution_count": 45,
      "metadata": {
        "id": "p5UmmF44Ajgo"
      },
      "outputs": [],
      "source": [
        "le = LabelEncoder() # There is no hyperparameters\n",
        "y_train = le.fit_transform(y_train)\n",
        "y_test = le.transform(y_test)"
      ]
    },
    {
      "cell_type": "code",
      "execution_count": 46,
      "metadata": {
        "colab": {
          "base_uri": "https://localhost:8080/"
        },
        "id": "AzfcZDHVAt-G",
        "outputId": "77509cdd-95c6-4e10-c7bc-5be1cf428a9f"
      },
      "outputs": [
        {
          "data": {
            "text/plain": [
              "array(['No', 'Yes'], dtype=object)"
            ]
          },
          "execution_count": 46,
          "metadata": {},
          "output_type": "execute_result"
        }
      ],
      "source": [
        "le.classes_"
      ]
    },
    {
      "cell_type": "code",
      "execution_count": 48,
      "metadata": {
        "colab": {
          "base_uri": "https://localhost:8080/"
        },
        "id": "iOQVF8_FA-8_",
        "outputId": "dd9f2561-49f5-4d79-9022-a380c69c11f1"
      },
      "outputs": [
        {
          "data": {
            "text/plain": [
              "array(['Yes', 'Yes', 'No'], dtype=object)"
            ]
          },
          "execution_count": 48,
          "metadata": {},
          "output_type": "execute_result"
        }
      ],
      "source": [
        "le.inverse_transform(np.array([1,1,0]))"
      ]
    },
    {
      "cell_type": "markdown",
      "metadata": {},
      "source": [
        "---"
      ]
    },
    {
      "cell_type": "markdown",
      "metadata": {
        "id": "i13exhhYS3rx"
      },
      "source": [
        "## One Hot Encoding"
      ]
    },
    {
      "cell_type": "code",
      "execution_count": 49,
      "metadata": {
        "colab": {
          "base_uri": "https://localhost:8080/",
          "height": 206
        },
        "id": "d7w0vV6VBCsy",
        "outputId": "e40b1cea-fb9a-4f85-9aab-dfe89ab9b3e2"
      },
      "outputs": [
        {
          "data": {
            "text/html": [
              "<div>\n",
              "<style scoped>\n",
              "    .dataframe tbody tr th:only-of-type {\n",
              "        vertical-align: middle;\n",
              "    }\n",
              "\n",
              "    .dataframe tbody tr th {\n",
              "        vertical-align: top;\n",
              "    }\n",
              "\n",
              "    .dataframe thead th {\n",
              "        text-align: right;\n",
              "    }\n",
              "</style>\n",
              "<table border=\"1\" class=\"dataframe\">\n",
              "  <thead>\n",
              "    <tr style=\"text-align: right;\">\n",
              "      <th></th>\n",
              "      <th>brand</th>\n",
              "      <th>km_driven</th>\n",
              "      <th>fuel</th>\n",
              "      <th>owner</th>\n",
              "      <th>selling_price</th>\n",
              "    </tr>\n",
              "  </thead>\n",
              "  <tbody>\n",
              "    <tr>\n",
              "      <th>0</th>\n",
              "      <td>Maruti</td>\n",
              "      <td>145500</td>\n",
              "      <td>Diesel</td>\n",
              "      <td>First Owner</td>\n",
              "      <td>450000</td>\n",
              "    </tr>\n",
              "    <tr>\n",
              "      <th>1</th>\n",
              "      <td>Skoda</td>\n",
              "      <td>120000</td>\n",
              "      <td>Diesel</td>\n",
              "      <td>Second Owner</td>\n",
              "      <td>370000</td>\n",
              "    </tr>\n",
              "    <tr>\n",
              "      <th>2</th>\n",
              "      <td>Honda</td>\n",
              "      <td>140000</td>\n",
              "      <td>Petrol</td>\n",
              "      <td>Third Owner</td>\n",
              "      <td>158000</td>\n",
              "    </tr>\n",
              "    <tr>\n",
              "      <th>3</th>\n",
              "      <td>Hyundai</td>\n",
              "      <td>127000</td>\n",
              "      <td>Diesel</td>\n",
              "      <td>First Owner</td>\n",
              "      <td>225000</td>\n",
              "    </tr>\n",
              "    <tr>\n",
              "      <th>4</th>\n",
              "      <td>Maruti</td>\n",
              "      <td>120000</td>\n",
              "      <td>Petrol</td>\n",
              "      <td>First Owner</td>\n",
              "      <td>130000</td>\n",
              "    </tr>\n",
              "  </tbody>\n",
              "</table>\n",
              "</div>"
            ],
            "text/plain": [
              "     brand  km_driven    fuel         owner  selling_price\n",
              "0   Maruti     145500  Diesel   First Owner         450000\n",
              "1    Skoda     120000  Diesel  Second Owner         370000\n",
              "2    Honda     140000  Petrol   Third Owner         158000\n",
              "3  Hyundai     127000  Diesel   First Owner         225000\n",
              "4   Maruti     120000  Petrol   First Owner         130000"
            ]
          },
          "execution_count": 49,
          "metadata": {},
          "output_type": "execute_result"
        }
      ],
      "source": [
        "cars = pd.read_csv('cars.csv')\n",
        "cars.head()"
      ]
    },
    {
      "cell_type": "code",
      "execution_count": 53,
      "metadata": {
        "id": "hRpOPGsJS_BI"
      },
      "outputs": [],
      "source": [
        "X = cars.iloc[:, [0, 2]]\n",
        "y = cars.iloc[:, -1]\n",
        "X_train,X_test,y_train,y_test = train_test_split(X,y,test_size=0.2,random_state=42)"
      ]
    },
    {
      "cell_type": "code",
      "execution_count": 54,
      "metadata": {
        "colab": {
          "base_uri": "https://localhost:8080/"
        },
        "id": "RC9uo5zxTk14",
        "outputId": "91971e7e-fbc6-4f11-ad12-a7d062264458"
      },
      "outputs": [
        {
          "data": {
            "text/plain": [
              "4"
            ]
          },
          "execution_count": 54,
          "metadata": {},
          "output_type": "execute_result"
        }
      ],
      "source": [
        "X_train['fuel'].nunique()"
      ]
    },
    {
      "cell_type": "code",
      "execution_count": 55,
      "metadata": {
        "id": "zeeABX5bTl-P"
      },
      "outputs": [],
      "source": [
        "from sklearn.preprocessing import OneHotEncoder"
      ]
    },
    {
      "cell_type": "code",
      "execution_count": 58,
      "metadata": {
        "id": "_cNsyeXSTthx"
      },
      "outputs": [
        {
          "data": {
            "text/plain": [
              "array([[0, 0, 0, ..., 0, 0, 1],\n",
              "       [0, 0, 0, ..., 0, 0, 1],\n",
              "       [0, 0, 0, ..., 1, 0, 0],\n",
              "       ...,\n",
              "       [0, 0, 0, ..., 0, 0, 1],\n",
              "       [0, 0, 0, ..., 1, 0, 0],\n",
              "       [0, 0, 0, ..., 0, 0, 1]], shape=(6502, 36), dtype=int32)"
            ]
          },
          "execution_count": 58,
          "metadata": {},
          "output_type": "execute_result"
        }
      ],
      "source": [
        "ohe = OneHotEncoder(sparse_output = False, dtype = np.int32) # All the columns get be encoded seperately by single object\n",
        "# sparse_output = False - Directly returns the encoded matrix\n",
        "ohe.fit_transform(X_train)"
      ]
    },
    {
      "cell_type": "code",
      "execution_count": 59,
      "metadata": {
        "colab": {
          "base_uri": "https://localhost:8080/"
        },
        "id": "fk69sXkJT_wM",
        "outputId": "0a55cc74-60d9-4f75-ff02-006d8b557343"
      },
      "outputs": [
        {
          "data": {
            "text/plain": [
              "[array(['Ambassador', 'Ashok', 'Audi', 'BMW', 'Chevrolet', 'Daewoo',\n",
              "        'Datsun', 'Fiat', 'Force', 'Ford', 'Honda', 'Hyundai', 'Isuzu',\n",
              "        'Jaguar', 'Jeep', 'Kia', 'Land', 'Lexus', 'MG', 'Mahindra',\n",
              "        'Maruti', 'Mercedes-Benz', 'Mitsubishi', 'Nissan', 'Opel',\n",
              "        'Peugeot', 'Renault', 'Skoda', 'Tata', 'Toyota', 'Volkswagen',\n",
              "        'Volvo'], dtype=object),\n",
              " array(['CNG', 'Diesel', 'LPG', 'Petrol'], dtype=object)]"
            ]
          },
          "execution_count": 59,
          "metadata": {},
          "output_type": "execute_result"
        }
      ],
      "source": [
        "ohe.categories_"
      ]
    },
    {
      "cell_type": "code",
      "execution_count": 60,
      "metadata": {
        "colab": {
          "base_uri": "https://localhost:8080/"
        },
        "id": "jyb0qDeTUGQQ",
        "outputId": "25a88106-3729-46e8-8226-06c23b4ecc5b"
      },
      "outputs": [
        {
          "data": {
            "text/plain": [
              "array(['brand', 'fuel'], dtype=object)"
            ]
          },
          "execution_count": 60,
          "metadata": {},
          "output_type": "execute_result"
        }
      ],
      "source": [
        "ohe.feature_names_in_"
      ]
    },
    {
      "cell_type": "code",
      "execution_count": 61,
      "metadata": {
        "colab": {
          "base_uri": "https://localhost:8080/"
        },
        "id": "sGf_ndciUMbW",
        "outputId": "a62467d4-435f-402a-e2f9-a13abb0669c1"
      },
      "outputs": [
        {
          "data": {
            "text/plain": [
              "2"
            ]
          },
          "execution_count": 61,
          "metadata": {},
          "output_type": "execute_result"
        }
      ],
      "source": [
        "ohe.n_features_in_"
      ]
    },
    {
      "cell_type": "code",
      "execution_count": 62,
      "metadata": {
        "colab": {
          "base_uri": "https://localhost:8080/"
        },
        "id": "9Tr91e71UqH8",
        "outputId": "1e955ec0-6b33-45d3-b2c0-8879d3c15506"
      },
      "outputs": [
        {
          "data": {
            "text/plain": [
              "array(['brand_Ambassador', 'brand_Ashok', 'brand_Audi', 'brand_BMW',\n",
              "       'brand_Chevrolet', 'brand_Daewoo', 'brand_Datsun', 'brand_Fiat',\n",
              "       'brand_Force', 'brand_Ford', 'brand_Honda', 'brand_Hyundai',\n",
              "       'brand_Isuzu', 'brand_Jaguar', 'brand_Jeep', 'brand_Kia',\n",
              "       'brand_Land', 'brand_Lexus', 'brand_MG', 'brand_Mahindra',\n",
              "       'brand_Maruti', 'brand_Mercedes-Benz', 'brand_Mitsubishi',\n",
              "       'brand_Nissan', 'brand_Opel', 'brand_Peugeot', 'brand_Renault',\n",
              "       'brand_Skoda', 'brand_Tata', 'brand_Toyota', 'brand_Volkswagen',\n",
              "       'brand_Volvo', 'fuel_CNG', 'fuel_Diesel', 'fuel_LPG',\n",
              "       'fuel_Petrol'], dtype=object)"
            ]
          },
          "execution_count": 62,
          "metadata": {},
          "output_type": "execute_result"
        }
      ],
      "source": [
        "ohe.get_feature_names_out()"
      ]
    },
    {
      "cell_type": "code",
      "execution_count": 67,
      "metadata": {
        "colab": {
          "base_uri": "https://localhost:8080/"
        },
        "id": "SFH7glrZVcJ6",
        "outputId": "d74df2c2-59ac-4fbb-9553-e9d79234c5a8"
      },
      "outputs": [
        {
          "data": {
            "text/plain": [
              "array([['Audi', 'LPG']], dtype=object)"
            ]
          },
          "execution_count": 67,
          "metadata": {},
          "output_type": "execute_result"
        }
      ],
      "source": [
        "ohe.inverse_transform(np.array([0., 0., 1., 0., 0., 0., 0., 0., 0., 0., 0., 0., 0., 0., 0., 0., 0., 0., 0., 0., 0., 0., 0., 0., 0., 0., 0., 0., 0., 0., 0., 0., 0., 0., 1., 0.]).reshape(1,36))"
      ]
    },
    {
      "cell_type": "markdown",
      "metadata": {},
      "source": [
        "## Dummy Variable Trap\n",
        "When you have a categorical variable with n categories, you only need n-1 binary columns to represent it completely. This is because:\n",
        "- If you have n categories and create n binary columns\n",
        "- `The last column can always be perfectly predicted from the other n-1 columns`\n",
        "- This creates `perfect multicollinearity`, which can cause problems in statistical models"
      ]
    },
    {
      "cell_type": "markdown",
      "metadata": {},
      "source": [
        "Why First Column?\n",
        "- The first column is typically dropped by convention\n",
        "- It could be any column, but dropping the first one is a common practice\n",
        "- The dropped category becomes the \"reference\" or \"baseline\" category\n",
        "- All other categories are interpreted relative to this baseline"
      ]
    },
    {
      "cell_type": "code",
      "execution_count": 68,
      "metadata": {
        "colab": {
          "base_uri": "https://localhost:8080/"
        },
        "id": "hCpKS7RrWCNQ",
        "outputId": "19d477f6-27bc-4711-aaf2-5b4decb2e572"
      },
      "outputs": [
        {
          "data": {
            "text/plain": [
              "(6502, 34)"
            ]
          },
          "execution_count": 68,
          "metadata": {},
          "output_type": "execute_result"
        }
      ],
      "source": [
        "# Dummy variable trap\n",
        "X_train,X_test,y_train,y_test = train_test_split(X,y,test_size=0.2,random_state=42)\n",
        "\n",
        "ohe = OneHotEncoder(drop='first', sparse_output=False)\n",
        "ohe.fit_transform(X_train).shape"
      ]
    },
    {
      "cell_type": "code",
      "execution_count": null,
      "metadata": {
        "colab": {
          "base_uri": "https://localhost:8080/"
        },
        "id": "Kb7QX83oWJmV",
        "outputId": "503ad8cc-86d7-462e-f9fb-183d3a466f35"
      },
      "outputs": [
        {
          "data": {
            "text/plain": [
              "array([0, 0], dtype=object)"
            ]
          },
          "execution_count": 150,
          "metadata": {},
          "output_type": "execute_result"
        }
      ],
      "source": [
        "ohe.drop_idx_ # 0th category from 1st column and 0th category from nd column"
      ]
    },
    {
      "cell_type": "code",
      "execution_count": 69,
      "metadata": {
        "colab": {
          "base_uri": "https://localhost:8080/"
        },
        "id": "kcyHtYTxfCfM",
        "outputId": "c2ac2f27-b17c-4bbc-e9cb-d7581c97f6f2"
      },
      "outputs": [
        {
          "data": {
            "text/plain": [
              "brand\n",
              "Maruti           1953\n",
              "Hyundai          1127\n",
              "Mahindra          635\n",
              "Tata              586\n",
              "Toyota            391\n",
              "Honda             369\n",
              "Ford              320\n",
              "Chevrolet         185\n",
              "Renault           183\n",
              "Volkswagen        154\n",
              "BMW                96\n",
              "Skoda              82\n",
              "Nissan             62\n",
              "Jaguar             59\n",
              "Volvo              54\n",
              "Datsun             48\n",
              "Mercedes-Benz      43\n",
              "Fiat               35\n",
              "Audi               30\n",
              "Jeep               26\n",
              "Lexus              22\n",
              "Mitsubishi         13\n",
              "Force               6\n",
              "Land                5\n",
              "Kia                 4\n",
              "Daewoo              3\n",
              "MG                  3\n",
              "Ambassador          3\n",
              "Isuzu               2\n",
              "Ashok               1\n",
              "Peugeot             1\n",
              "Opel                1\n",
              "Name: count, dtype: int64"
            ]
          },
          "execution_count": 69,
          "metadata": {},
          "output_type": "execute_result"
        }
      ],
      "source": [
        "# handling rare categories\n",
        "X_train['brand'].value_counts()"
      ]
    },
    {
      "cell_type": "code",
      "execution_count": 70,
      "metadata": {
        "colab": {
          "base_uri": "https://localhost:8080/"
        },
        "id": "Td8WNyX_gKaa",
        "outputId": "5b798019-de92-4a89-8d7f-b28ab6010c65"
      },
      "outputs": [
        {
          "data": {
            "text/plain": [
              "fuel\n",
              "Diesel    4402\n",
              "Petrol    3631\n",
              "CNG         57\n",
              "LPG         38\n",
              "Name: count, dtype: int64"
            ]
          },
          "execution_count": 70,
          "metadata": {},
          "output_type": "execute_result"
        }
      ],
      "source": [
        "cars['fuel'].value_counts()"
      ]
    },
    {
      "cell_type": "code",
      "execution_count": 71,
      "metadata": {
        "colab": {
          "base_uri": "https://localhost:8080/"
        },
        "id": "5kgL8yf7gOs8",
        "outputId": "754c309f-8e5b-4310-94c2-e697deffce6c"
      },
      "outputs": [
        {
          "data": {
            "text/plain": [
              "(6502, 14)"
            ]
          },
          "execution_count": 71,
          "metadata": {},
          "output_type": "execute_result"
        }
      ],
      "source": [
        "# using min frequency\n",
        "ohe = OneHotEncoder(sparse_output=False, min_frequency=100)\n",
        "ohe.fit_transform(X_train).shape"
      ]
    },
    {
      "cell_type": "code",
      "execution_count": 72,
      "metadata": {
        "colab": {
          "base_uri": "https://localhost:8080/"
        },
        "id": "YnwwhRCegvex",
        "outputId": "ec822788-57ce-4e8c-9061-b8c18bbf1da8"
      },
      "outputs": [
        {
          "data": {
            "text/plain": [
              "array(['brand_Chevrolet', 'brand_Ford', 'brand_Honda', 'brand_Hyundai',\n",
              "       'brand_Mahindra', 'brand_Maruti', 'brand_Renault', 'brand_Tata',\n",
              "       'brand_Toyota', 'brand_Volkswagen', 'brand_infrequent_sklearn',\n",
              "       'fuel_Diesel', 'fuel_Petrol', 'fuel_infrequent_sklearn'],\n",
              "      dtype=object)"
            ]
          },
          "execution_count": 72,
          "metadata": {},
          "output_type": "execute_result"
        }
      ],
      "source": [
        "ohe.get_feature_names_out()"
      ]
    },
    {
      "cell_type": "code",
      "execution_count": 73,
      "metadata": {
        "colab": {
          "base_uri": "https://localhost:8080/"
        },
        "id": "PvIkPQjug8XV",
        "outputId": "fd6b9517-47b1-4af3-b712-a1655ae52b9f"
      },
      "outputs": [
        {
          "data": {
            "text/plain": [
              "(6502, 19)"
            ]
          },
          "execution_count": 73,
          "metadata": {},
          "output_type": "execute_result"
        }
      ],
      "source": [
        "# using max_categories\n",
        "ohe = OneHotEncoder(sparse_output=False, handle_unknown='ignore', max_categories=15)\n",
        "ohe.fit_transform(X_train).shape"
      ]
    },
    {
      "cell_type": "code",
      "execution_count": 74,
      "metadata": {
        "colab": {
          "base_uri": "https://localhost:8080/"
        },
        "id": "6yM143eHhcK-",
        "outputId": "d1c93f41-b0dc-43c0-b1f0-8413f108366b"
      },
      "outputs": [
        {
          "data": {
            "text/plain": [
              "array(['brand_BMW', 'brand_Chevrolet', 'brand_Ford', 'brand_Honda',\n",
              "       'brand_Hyundai', 'brand_Jaguar', 'brand_Mahindra', 'brand_Maruti',\n",
              "       'brand_Nissan', 'brand_Renault', 'brand_Skoda', 'brand_Tata',\n",
              "       'brand_Toyota', 'brand_Volkswagen', 'brand_infrequent_sklearn',\n",
              "       'fuel_CNG', 'fuel_Diesel', 'fuel_LPG', 'fuel_Petrol'], dtype=object)"
            ]
          },
          "execution_count": 74,
          "metadata": {},
          "output_type": "execute_result"
        }
      ],
      "source": [
        "ohe.get_feature_names_out()"
      ]
    },
    {
      "cell_type": "code",
      "execution_count": 78,
      "metadata": {
        "colab": {
          "base_uri": "https://localhost:8080/"
        },
        "id": "_sveyEXElp2y",
        "outputId": "239ad253-390e-4c38-a983-f79868813fb5"
      },
      "outputs": [
        {
          "data": {
            "text/plain": [
              "array([[0., 0., 0., 0., 0., 0., 0., 0., 0., 0., 0., 0., 0., 0., 0., 0.,\n",
              "        0., 0., 0., 0., 0., 0., 0., 0., 0., 0., 0., 0., 0., 0., 0., 0.,\n",
              "        0., 0., 0., 1.]])"
            ]
          },
          "execution_count": 78,
          "metadata": {},
          "output_type": "execute_result"
        }
      ],
      "source": [
        "# Handling unknowk category\n",
        "X_train,X_test,y_train,y_test = train_test_split(X,y,test_size=0.2,random_state=42)\n",
        "\n",
        "ohe = OneHotEncoder(sparse_output=False, handle_unknown='ignore') # If the category is not present in trained data then all the digits will be encoded by 0\n",
        "ohe.fit_transform(X_train)\n",
        "\n",
        "ohe.transform(pd.DataFrame([['local','Petrol']], columns = ['brand', 'fuel']))"
      ]
    },
    {
      "cell_type": "code",
      "execution_count": 79,
      "metadata": {
        "colab": {
          "base_uri": "https://localhost:8080/"
        },
        "id": "iM1zg98glu2W",
        "outputId": "95fd897b-fedb-4a02-af7e-3c360c0bfacb"
      },
      "outputs": [
        {
          "data": {
            "text/plain": [
              "array([[None, 'Petrol']], dtype=object)"
            ]
          },
          "execution_count": 79,
          "metadata": {},
          "output_type": "execute_result"
        }
      ],
      "source": [
        "ohe.inverse_transform(np.array([0., 0., 0., 0., 0., 0., 0., 0., 0., 0., 0., 0., 0., 0., 0., 0.,\n",
        "        0., 0., 0., 0., 0., 0., 0., 0., 0., 0., 0., 0., 0., 0., 0., 0.,\n",
        "        0., 0., 0., 1.]).reshape(1,36))"
      ]
    },
    {
      "cell_type": "markdown",
      "metadata": {},
      "source": [
        "---"
      ]
    },
    {
      "cell_type": "markdown",
      "metadata": {
        "id": "BGJBUU4hmwUk"
      },
      "source": [
        "## LabelBinarizer\n",
        "This type of encoding is One Hot Encoding of target column."
      ]
    },
    {
      "cell_type": "code",
      "execution_count": 80,
      "metadata": {
        "colab": {
          "base_uri": "https://localhost:8080/"
        },
        "id": "xFSK2YxTmMzC",
        "outputId": "1e615afc-b45b-4a66-82fe-74b781da437f"
      },
      "outputs": [
        {
          "name": "stdout",
          "output_type": "stream",
          "text": [
            "Binarized labels:\n",
            " [[1 0 0]\n",
            " [0 1 0]\n",
            " [0 0 1]\n",
            " [0 1 0]\n",
            " [1 0 0]]\n",
            "Original labels:\n",
            " ['cat' 'dog' 'fish' 'dog' 'cat']\n"
          ]
        }
      ],
      "source": [
        "from sklearn.preprocessing import LabelBinarizer\n",
        "\n",
        "# Sample target variable for a multi-class classification problem\n",
        "y = ['cat', 'dog', 'fish', 'dog', 'cat']\n",
        "\n",
        "# Initialize the LabelBinarizer\n",
        "lb = LabelBinarizer()\n",
        "\n",
        "# Fit and transform the target variable\n",
        "y_binarized = lb.fit_transform(y)\n",
        "\n",
        "print(\"Binarized labels:\\n\", y_binarized)\n",
        "\n",
        "# Inverse transform to recover original labels\n",
        "y_original = lb.inverse_transform(y_binarized)\n",
        "\n",
        "print(\"Original labels:\\n\", y_original)"
      ]
    },
    {
      "cell_type": "code",
      "execution_count": 82,
      "metadata": {},
      "outputs": [
        {
          "name": "stdout",
          "output_type": "stream",
          "text": [
            "Default encoding:\n",
            " [[0]\n",
            " [1]\n",
            " [0]\n",
            " [1]\n",
            " [0]]\n",
            "Custom encoding:\n",
            " [[-1]\n",
            " [ 2]\n",
            " [-1]\n",
            " [ 2]\n",
            " [-1]]\n"
          ]
        }
      ],
      "source": [
        "'''\n",
        "Parameters\n",
        "These parameters control how the binary labels are encoded when you have a binary classification problem (only two classes). Here's what they do:\n",
        "neg_label (default = 0):\n",
        "\n",
        "This is the value assigned to the negative class (the first class encountered)\n",
        "By default, it's set to 0\n",
        "pos_label (default = 1):\n",
        "\n",
        "This is the value assigned to the positive class (the second class encountered)\n",
        "By default, it's set to 1\n",
        "'''\n",
        "\n",
        "# Binary classification example\n",
        "y = ['cat', 'dog', 'cat', 'dog', 'cat']\n",
        "\n",
        "# Default behavior (neg_label=0, pos_label=1)\n",
        "lb_default = LabelBinarizer() # For 2 classes the first class will automatically get dropped\n",
        "y_default = lb_default.fit_transform(y)\n",
        "print(\"Default encoding:\\n\", y_default)\n",
        "# Output: [[0], [1], [0], [1], [0]]\n",
        "\n",
        "# Custom labels\n",
        "lb_custom = LabelBinarizer(neg_label=-1, pos_label=2)\n",
        "y_custom = lb_custom.fit_transform(y)\n",
        "print(\"Custom encoding:\\n\", y_custom)\n",
        "# Output: [[-1], [2], [-1], [2], [-1]]"
      ]
    },
    {
      "cell_type": "markdown",
      "metadata": {},
      "source": [
        "- MultiLabelBinarizer is used for encoding multiple labels per instance\n",
        "- It transforms multi-label data into a binary matrix format where each column represents a class\n",
        "- Useful for scenarios where each sample can belong to multiple categories simultaneously"
      ]
    },
    {
      "cell_type": "code",
      "execution_count": 81,
      "metadata": {
        "colab": {
          "base_uri": "https://localhost:8080/"
        },
        "id": "THM5IGhsmzdN",
        "outputId": "5b357a7a-9a50-4241-d539-aba2e6b576cc"
      },
      "outputs": [
        {
          "name": "stdout",
          "output_type": "stream",
          "text": [
            "Binary matrix:\n",
            " [[1 0 1]\n",
            " [1 1 0]\n",
            " [0 1 0]\n",
            " [0 0 1]]\n",
            "Class labels: ['blue' 'green' 'red']\n",
            "Inverse transformed labels: [('blue', 'red'), ('blue', 'green'), ('green',), ('red',)]\n"
          ]
        }
      ],
      "source": [
        "from sklearn.preprocessing import MultiLabelBinarizer\n",
        "\n",
        "# Example multi-label data\n",
        "y = [('red', 'blue'), ('blue', 'green'), ('green',), ('red',)]\n",
        "\n",
        "# Initialize MultiLabelBinarizer\n",
        "mlb = MultiLabelBinarizer()\n",
        "\n",
        "# Fit and transform the data to binary matrix format\n",
        "Y = mlb.fit_transform(y)\n",
        "\n",
        "print(\"Binary matrix:\\n\", Y)\n",
        "print(\"Class labels:\", mlb.classes_)\n",
        "\n",
        "# Inverse transform to recover original labels\n",
        "y_inv = mlb.inverse_transform(Y)\n",
        "print(\"Inverse transformed labels:\", y_inv)"
      ]
    }
  ],
  "metadata": {
    "colab": {
      "provenance": [],
      "toc_visible": true
    },
    "kernelspec": {
      "display_name": "Python 3",
      "name": "python3"
    },
    "language_info": {
      "codemirror_mode": {
        "name": "ipython",
        "version": 3
      },
      "file_extension": ".py",
      "mimetype": "text/x-python",
      "name": "python",
      "nbconvert_exporter": "python",
      "pygments_lexer": "ipython3",
      "version": "3.13.2"
    }
  },
  "nbformat": 4,
  "nbformat_minor": 0
}
